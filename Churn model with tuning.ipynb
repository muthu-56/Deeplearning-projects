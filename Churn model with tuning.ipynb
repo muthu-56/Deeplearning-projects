{
 "cells": [
  {
   "cell_type": "code",
   "execution_count": 1,
   "metadata": {},
   "outputs": [],
   "source": [
    "#Importing libraries\n",
    "import numpy as np\n",
    "import pandas as pd\n",
    "\n",
    "from tensorflow import keras\n",
    "from tensorflow.keras import layers\n",
    "from kerastuner.tuners import RandomSearch"
   ]
  },
  {
   "cell_type": "code",
   "execution_count": 2,
   "metadata": {},
   "outputs": [
    {
     "data": {
      "text/html": [
       "<div>\n",
       "<style scoped>\n",
       "    .dataframe tbody tr th:only-of-type {\n",
       "        vertical-align: middle;\n",
       "    }\n",
       "\n",
       "    .dataframe tbody tr th {\n",
       "        vertical-align: top;\n",
       "    }\n",
       "\n",
       "    .dataframe thead th {\n",
       "        text-align: right;\n",
       "    }\n",
       "</style>\n",
       "<table border=\"1\" class=\"dataframe\">\n",
       "  <thead>\n",
       "    <tr style=\"text-align: right;\">\n",
       "      <th></th>\n",
       "      <th>RowNumber</th>\n",
       "      <th>CustomerId</th>\n",
       "      <th>Surname</th>\n",
       "      <th>CreditScore</th>\n",
       "      <th>Geography</th>\n",
       "      <th>Gender</th>\n",
       "      <th>Age</th>\n",
       "      <th>Tenure</th>\n",
       "      <th>Balance</th>\n",
       "      <th>NumOfProducts</th>\n",
       "      <th>HasCrCard</th>\n",
       "      <th>IsActiveMember</th>\n",
       "      <th>EstimatedSalary</th>\n",
       "      <th>Exited</th>\n",
       "    </tr>\n",
       "  </thead>\n",
       "  <tbody>\n",
       "    <tr>\n",
       "      <th>0</th>\n",
       "      <td>1</td>\n",
       "      <td>15634602</td>\n",
       "      <td>Hargrave</td>\n",
       "      <td>619</td>\n",
       "      <td>France</td>\n",
       "      <td>Female</td>\n",
       "      <td>42</td>\n",
       "      <td>2</td>\n",
       "      <td>0.00</td>\n",
       "      <td>1</td>\n",
       "      <td>1</td>\n",
       "      <td>1</td>\n",
       "      <td>101348.88</td>\n",
       "      <td>1</td>\n",
       "    </tr>\n",
       "    <tr>\n",
       "      <th>1</th>\n",
       "      <td>2</td>\n",
       "      <td>15647311</td>\n",
       "      <td>Hill</td>\n",
       "      <td>608</td>\n",
       "      <td>Spain</td>\n",
       "      <td>Female</td>\n",
       "      <td>41</td>\n",
       "      <td>1</td>\n",
       "      <td>83807.86</td>\n",
       "      <td>1</td>\n",
       "      <td>0</td>\n",
       "      <td>1</td>\n",
       "      <td>112542.58</td>\n",
       "      <td>0</td>\n",
       "    </tr>\n",
       "    <tr>\n",
       "      <th>2</th>\n",
       "      <td>3</td>\n",
       "      <td>15619304</td>\n",
       "      <td>Onio</td>\n",
       "      <td>502</td>\n",
       "      <td>France</td>\n",
       "      <td>Female</td>\n",
       "      <td>42</td>\n",
       "      <td>8</td>\n",
       "      <td>159660.80</td>\n",
       "      <td>3</td>\n",
       "      <td>1</td>\n",
       "      <td>0</td>\n",
       "      <td>113931.57</td>\n",
       "      <td>1</td>\n",
       "    </tr>\n",
       "    <tr>\n",
       "      <th>3</th>\n",
       "      <td>4</td>\n",
       "      <td>15701354</td>\n",
       "      <td>Boni</td>\n",
       "      <td>699</td>\n",
       "      <td>France</td>\n",
       "      <td>Female</td>\n",
       "      <td>39</td>\n",
       "      <td>1</td>\n",
       "      <td>0.00</td>\n",
       "      <td>2</td>\n",
       "      <td>0</td>\n",
       "      <td>0</td>\n",
       "      <td>93826.63</td>\n",
       "      <td>0</td>\n",
       "    </tr>\n",
       "    <tr>\n",
       "      <th>4</th>\n",
       "      <td>5</td>\n",
       "      <td>15737888</td>\n",
       "      <td>Mitchell</td>\n",
       "      <td>850</td>\n",
       "      <td>Spain</td>\n",
       "      <td>Female</td>\n",
       "      <td>43</td>\n",
       "      <td>2</td>\n",
       "      <td>125510.82</td>\n",
       "      <td>1</td>\n",
       "      <td>1</td>\n",
       "      <td>1</td>\n",
       "      <td>79084.10</td>\n",
       "      <td>0</td>\n",
       "    </tr>\n",
       "  </tbody>\n",
       "</table>\n",
       "</div>"
      ],
      "text/plain": [
       "   RowNumber  CustomerId   Surname  CreditScore Geography  Gender  Age  \\\n",
       "0          1    15634602  Hargrave          619    France  Female   42   \n",
       "1          2    15647311      Hill          608     Spain  Female   41   \n",
       "2          3    15619304      Onio          502    France  Female   42   \n",
       "3          4    15701354      Boni          699    France  Female   39   \n",
       "4          5    15737888  Mitchell          850     Spain  Female   43   \n",
       "\n",
       "   Tenure    Balance  NumOfProducts  HasCrCard  IsActiveMember  \\\n",
       "0       2       0.00              1          1               1   \n",
       "1       1   83807.86              1          0               1   \n",
       "2       8  159660.80              3          1               0   \n",
       "3       1       0.00              2          0               0   \n",
       "4       2  125510.82              1          1               1   \n",
       "\n",
       "   EstimatedSalary  Exited  \n",
       "0        101348.88       1  \n",
       "1        112542.58       0  \n",
       "2        113931.57       1  \n",
       "3         93826.63       0  \n",
       "4         79084.10       0  "
      ]
     },
     "execution_count": 2,
     "metadata": {},
     "output_type": "execute_result"
    }
   ],
   "source": [
    "#Reading data\n",
    "df = pd.read_csv('D:/Mari/Data science material/Additional - Projects/DL/Churn model/Churn_Modelling.csv')\n",
    "df.head()"
   ]
  },
  {
   "cell_type": "code",
   "execution_count": 3,
   "metadata": {},
   "outputs": [
    {
     "name": "stdout",
     "output_type": "stream",
     "text": [
      "<class 'pandas.core.frame.DataFrame'>\n",
      "RangeIndex: 10000 entries, 0 to 9999\n",
      "Data columns (total 14 columns):\n",
      " #   Column           Non-Null Count  Dtype  \n",
      "---  ------           --------------  -----  \n",
      " 0   RowNumber        10000 non-null  int64  \n",
      " 1   CustomerId       10000 non-null  int64  \n",
      " 2   Surname          10000 non-null  object \n",
      " 3   CreditScore      10000 non-null  int64  \n",
      " 4   Geography        10000 non-null  object \n",
      " 5   Gender           10000 non-null  object \n",
      " 6   Age              10000 non-null  int64  \n",
      " 7   Tenure           10000 non-null  int64  \n",
      " 8   Balance          10000 non-null  float64\n",
      " 9   NumOfProducts    10000 non-null  int64  \n",
      " 10  HasCrCard        10000 non-null  int64  \n",
      " 11  IsActiveMember   10000 non-null  int64  \n",
      " 12  EstimatedSalary  10000 non-null  float64\n",
      " 13  Exited           10000 non-null  int64  \n",
      "dtypes: float64(2), int64(9), object(3)\n",
      "memory usage: 1.1+ MB\n"
     ]
    }
   ],
   "source": [
    "\n",
    "#Data summary\n",
    "df.shape\n",
    "df.info()"
   ]
  },
  {
   "cell_type": "code",
   "execution_count": 4,
   "metadata": {},
   "outputs": [
    {
     "data": {
      "text/plain": [
       "CreditScore          int64\n",
       "Geography           object\n",
       "Gender              object\n",
       "Age                  int64\n",
       "Tenure               int64\n",
       "Balance            float64\n",
       "NumOfProducts        int64\n",
       "HasCrCard            int64\n",
       "IsActiveMember       int64\n",
       "EstimatedSalary    float64\n",
       "Exited               int64\n",
       "dtype: object"
      ]
     },
     "execution_count": 4,
     "metadata": {},
     "output_type": "execute_result"
    }
   ],
   "source": [
    "#Rownumber, customerID and Surname are having more unique values, so we can ignore this\n",
    "df.drop(['RowNumber','CustomerId','Surname'], axis=1, inplace=True)\n",
    "df.dtypes"
   ]
  },
  {
   "cell_type": "code",
   "execution_count": 5,
   "metadata": {},
   "outputs": [],
   "source": [
    "#Geography and Gender variable encoding\n",
    "enc=pd.get_dummies(df[['Geography','Gender']], drop_first=True)"
   ]
  },
  {
   "cell_type": "code",
   "execution_count": 6,
   "metadata": {},
   "outputs": [],
   "source": [
    "#Removing the already encoded variable in the existing dataframe\n",
    "df.drop(['Gender', 'Geography'], axis=1, inplace=True)"
   ]
  },
  {
   "cell_type": "code",
   "execution_count": 7,
   "metadata": {},
   "outputs": [],
   "source": [
    "#Concat encoded variable into existing dataframe\n",
    "df = pd.concat([df,enc], axis=1)"
   ]
  },
  {
   "cell_type": "code",
   "execution_count": 8,
   "metadata": {},
   "outputs": [],
   "source": [
    "#Separating Dependent and independent feature\n",
    "Y = df['Exited']\n",
    "X = df.drop('Exited',axis=1)"
   ]
  },
  {
   "cell_type": "code",
   "execution_count": 9,
   "metadata": {},
   "outputs": [],
   "source": [
    "#Splitting the dataset into train set and test set\n",
    "from sklearn.model_selection import train_test_split\n",
    "X_train, X_test, y_train, y_test = train_test_split(X, Y, test_size=0.25, random_state=0)"
   ]
  },
  {
   "cell_type": "code",
   "execution_count": 10,
   "metadata": {},
   "outputs": [],
   "source": [
    "#Feature scaling\n",
    "from sklearn.preprocessing import StandardScaler\n",
    "ss = StandardScaler()\n",
    "X_train = ss.fit_transform(X_train)\n",
    "X_test = ss.transform(X_test)"
   ]
  },
  {
   "cell_type": "code",
   "execution_count": 11,
   "metadata": {},
   "outputs": [],
   "source": [
    "def build_model(data):\n",
    "    model = keras.Sequential()\n",
    "    for i in range(data.Int('num_layers', 2,15)):\n",
    "        model.add(layers.Dense(units=data.Int('units_'+str(i),\n",
    "                                              min_value=32,\n",
    "                                              max_value=512,\n",
    "                                              step=32),\n",
    "                               activation='relu'))\n",
    "    model.add(layers.Dense(1, activation='sigmoid'))\n",
    "    model.compile(optimizer=keras.optimizers.Adam(\n",
    "        data.Choice('learning_rate', [1e-2,1e-3,1e-4])),\n",
    "        loss='binary_crossentropy', metrics=['accuracy'])\n",
    "    return model\n"
   ]
  },
  {
   "cell_type": "code",
   "execution_count": 21,
   "metadata": {},
   "outputs": [],
   "source": [
    "tuner = RandomSearch(\n",
    "    build_model,\n",
    "    objective='val_accuracy',\n",
    "    max_trials=5,\n",
    "    executions_per_trial=3,\n",
    "    directory='project2',\n",
    "    project_name='Churn prediction')"
   ]
  },
  {
   "cell_type": "code",
   "execution_count": 22,
   "metadata": {},
   "outputs": [
    {
     "data": {
      "text/html": [
       "<span style=\"color:#4527A0\"><h1 style=\"font-size:18px\">Search space summary</h1></span>"
      ],
      "text/plain": [
       "<IPython.core.display.HTML object>"
      ]
     },
     "metadata": {},
     "output_type": "display_data"
    },
    {
     "data": {
      "text/html": [
       "<span style=\"color:cyan\"> |-Default search space size: 4</span>"
      ],
      "text/plain": [
       "<IPython.core.display.HTML object>"
      ]
     },
     "metadata": {},
     "output_type": "display_data"
    },
    {
     "data": {
      "text/html": [
       "<span style=\"color:#7E57C2\"><h2 style=\"font-size:16px\">num_layers (Int)</h2></span>"
      ],
      "text/plain": [
       "<IPython.core.display.HTML object>"
      ]
     },
     "metadata": {},
     "output_type": "display_data"
    },
    {
     "data": {
      "text/html": [
       "<span style=\"color:cyan\"> |-default: None</span>"
      ],
      "text/plain": [
       "<IPython.core.display.HTML object>"
      ]
     },
     "metadata": {},
     "output_type": "display_data"
    },
    {
     "data": {
      "text/html": [
       "<span style=\"color:blue\"> |-max_value: 15</span>"
      ],
      "text/plain": [
       "<IPython.core.display.HTML object>"
      ]
     },
     "metadata": {},
     "output_type": "display_data"
    },
    {
     "data": {
      "text/html": [
       "<span style=\"color:cyan\"> |-min_value: 2</span>"
      ],
      "text/plain": [
       "<IPython.core.display.HTML object>"
      ]
     },
     "metadata": {},
     "output_type": "display_data"
    },
    {
     "data": {
      "text/html": [
       "<span style=\"color:blue\"> |-sampling: None</span>"
      ],
      "text/plain": [
       "<IPython.core.display.HTML object>"
      ]
     },
     "metadata": {},
     "output_type": "display_data"
    },
    {
     "data": {
      "text/html": [
       "<span style=\"color:cyan\"> |-step: 1</span>"
      ],
      "text/plain": [
       "<IPython.core.display.HTML object>"
      ]
     },
     "metadata": {},
     "output_type": "display_data"
    },
    {
     "data": {
      "text/html": [
       "<span style=\"color:#7E57C2\"><h2 style=\"font-size:16px\">units_0 (Int)</h2></span>"
      ],
      "text/plain": [
       "<IPython.core.display.HTML object>"
      ]
     },
     "metadata": {},
     "output_type": "display_data"
    },
    {
     "data": {
      "text/html": [
       "<span style=\"color:cyan\"> |-default: None</span>"
      ],
      "text/plain": [
       "<IPython.core.display.HTML object>"
      ]
     },
     "metadata": {},
     "output_type": "display_data"
    },
    {
     "data": {
      "text/html": [
       "<span style=\"color:blue\"> |-max_value: 512</span>"
      ],
      "text/plain": [
       "<IPython.core.display.HTML object>"
      ]
     },
     "metadata": {},
     "output_type": "display_data"
    },
    {
     "data": {
      "text/html": [
       "<span style=\"color:cyan\"> |-min_value: 32</span>"
      ],
      "text/plain": [
       "<IPython.core.display.HTML object>"
      ]
     },
     "metadata": {},
     "output_type": "display_data"
    },
    {
     "data": {
      "text/html": [
       "<span style=\"color:blue\"> |-sampling: None</span>"
      ],
      "text/plain": [
       "<IPython.core.display.HTML object>"
      ]
     },
     "metadata": {},
     "output_type": "display_data"
    },
    {
     "data": {
      "text/html": [
       "<span style=\"color:cyan\"> |-step: 32</span>"
      ],
      "text/plain": [
       "<IPython.core.display.HTML object>"
      ]
     },
     "metadata": {},
     "output_type": "display_data"
    },
    {
     "data": {
      "text/html": [
       "<span style=\"color:#7E57C2\"><h2 style=\"font-size:16px\">units_1 (Int)</h2></span>"
      ],
      "text/plain": [
       "<IPython.core.display.HTML object>"
      ]
     },
     "metadata": {},
     "output_type": "display_data"
    },
    {
     "data": {
      "text/html": [
       "<span style=\"color:cyan\"> |-default: None</span>"
      ],
      "text/plain": [
       "<IPython.core.display.HTML object>"
      ]
     },
     "metadata": {},
     "output_type": "display_data"
    },
    {
     "data": {
      "text/html": [
       "<span style=\"color:blue\"> |-max_value: 512</span>"
      ],
      "text/plain": [
       "<IPython.core.display.HTML object>"
      ]
     },
     "metadata": {},
     "output_type": "display_data"
    },
    {
     "data": {
      "text/html": [
       "<span style=\"color:cyan\"> |-min_value: 32</span>"
      ],
      "text/plain": [
       "<IPython.core.display.HTML object>"
      ]
     },
     "metadata": {},
     "output_type": "display_data"
    },
    {
     "data": {
      "text/html": [
       "<span style=\"color:blue\"> |-sampling: None</span>"
      ],
      "text/plain": [
       "<IPython.core.display.HTML object>"
      ]
     },
     "metadata": {},
     "output_type": "display_data"
    },
    {
     "data": {
      "text/html": [
       "<span style=\"color:cyan\"> |-step: 32</span>"
      ],
      "text/plain": [
       "<IPython.core.display.HTML object>"
      ]
     },
     "metadata": {},
     "output_type": "display_data"
    },
    {
     "data": {
      "text/html": [
       "<span style=\"color:#7E57C2\"><h2 style=\"font-size:16px\">learning_rate (Choice)</h2></span>"
      ],
      "text/plain": [
       "<IPython.core.display.HTML object>"
      ]
     },
     "metadata": {},
     "output_type": "display_data"
    },
    {
     "data": {
      "text/html": [
       "<span style=\"color:cyan\"> |-default: 0.01</span>"
      ],
      "text/plain": [
       "<IPython.core.display.HTML object>"
      ]
     },
     "metadata": {},
     "output_type": "display_data"
    },
    {
     "data": {
      "text/html": [
       "<span style=\"color:blue\"> |-ordered: True</span>"
      ],
      "text/plain": [
       "<IPython.core.display.HTML object>"
      ]
     },
     "metadata": {},
     "output_type": "display_data"
    },
    {
     "data": {
      "text/html": [
       "<span style=\"color:cyan\"> |-values: [0.01, 0.001, 0.0001]</span>"
      ],
      "text/plain": [
       "<IPython.core.display.HTML object>"
      ]
     },
     "metadata": {},
     "output_type": "display_data"
    },
    {
     "name": "stdout",
     "output_type": "stream",
     "text": [
      "None\n"
     ]
    }
   ],
   "source": [
    "\n",
    "print(tuner.search_space_summary())"
   ]
  },
  {
   "cell_type": "code",
   "execution_count": 23,
   "metadata": {},
   "outputs": [
    {
     "name": "stdout",
     "output_type": "stream",
     "text": [
      "Epoch 1/50\n",
      "235/235 [==============================] - ETA: 0s - loss: 0.6934 - accuracy: 0.28 - ETA: 0s - loss: 0.5861 - accuracy: 0.77 - ETA: 0s - loss: 0.5207 - accuracy: 0.79 - ETA: 0s - loss: 0.4924 - accuracy: 0.79 - ETA: 0s - loss: 0.4728 - accuracy: 0.79 - ETA: 0s - loss: 0.4620 - accuracy: 0.79 - ETA: 0s - loss: 0.4517 - accuracy: 0.79 - ETA: 0s - loss: 0.4422 - accuracy: 0.80 - ETA: 0s - loss: 0.4339 - accuracy: 0.80 - 1s 3ms/step - loss: 0.4314 - accuracy: 0.8108 - val_loss: 0.3735 - val_accuracy: 0.8396\n",
      "Epoch 2/50\n",
      "235/235 [==============================] - ETA: 0s - loss: 0.5532 - accuracy: 0.75 - ETA: 0s - loss: 0.3612 - accuracy: 0.84 - ETA: 0s - loss: 0.3598 - accuracy: 0.84 - ETA: 0s - loss: 0.3589 - accuracy: 0.85 - ETA: 0s - loss: 0.3600 - accuracy: 0.85 - ETA: 0s - loss: 0.3631 - accuracy: 0.85 - ETA: 0s - loss: 0.3614 - accuracy: 0.85 - ETA: 0s - loss: 0.3608 - accuracy: 0.85 - ETA: 0s - loss: 0.3631 - accuracy: 0.85 - 1s 2ms/step - loss: 0.3616 - accuracy: 0.8519 - val_loss: 0.3660 - val_accuracy: 0.8504\n",
      "Epoch 3/50\n",
      "235/235 [==============================] - ETA: 0s - loss: 0.3266 - accuracy: 0.90 - ETA: 0s - loss: 0.3343 - accuracy: 0.86 - ETA: 0s - loss: 0.3312 - accuracy: 0.86 - ETA: 0s - loss: 0.3301 - accuracy: 0.87 - ETA: 0s - loss: 0.3394 - accuracy: 0.86 - ETA: 0s - loss: 0.3464 - accuracy: 0.86 - ETA: 0s - loss: 0.3471 - accuracy: 0.86 - ETA: 0s - loss: 0.3455 - accuracy: 0.85 - ETA: 0s - loss: 0.3485 - accuracy: 0.85 - 1s 2ms/step - loss: 0.3493 - accuracy: 0.8583 - val_loss: 0.3499 - val_accuracy: 0.8600\n",
      "Epoch 4/50\n",
      "235/235 [==============================] - ETA: 0s - loss: 0.3862 - accuracy: 0.87 - ETA: 0s - loss: 0.3479 - accuracy: 0.85 - ETA: 0s - loss: 0.3508 - accuracy: 0.85 - ETA: 0s - loss: 0.3405 - accuracy: 0.85 - ETA: 0s - loss: 0.3508 - accuracy: 0.85 - ETA: 0s - loss: 0.3498 - accuracy: 0.85 - ETA: 0s - loss: 0.3457 - accuracy: 0.85 - ETA: 0s - loss: 0.3411 - accuracy: 0.85 - ETA: 0s - loss: 0.3407 - accuracy: 0.85 - 1s 2ms/step - loss: 0.3414 - accuracy: 0.8580 - val_loss: 0.3471 - val_accuracy: 0.8488\n",
      "Epoch 5/50\n",
      "235/235 [==============================] - ETA: 0s - loss: 0.3205 - accuracy: 0.84 - ETA: 0s - loss: 0.3092 - accuracy: 0.88 - ETA: 0s - loss: 0.3208 - accuracy: 0.86 - ETA: 0s - loss: 0.3359 - accuracy: 0.86 - ETA: 0s - loss: 0.3390 - accuracy: 0.85 - ETA: 0s - loss: 0.3435 - accuracy: 0.85 - ETA: 0s - loss: 0.3382 - accuracy: 0.85 - ETA: 0s - loss: 0.3373 - accuracy: 0.86 - ETA: 0s - loss: 0.3372 - accuracy: 0.86 - 1s 2ms/step - loss: 0.3371 - accuracy: 0.8617 - val_loss: 0.3444 - val_accuracy: 0.8656\n",
      "Epoch 6/50\n",
      "235/235 [==============================] - ETA: 0s - loss: 0.3607 - accuracy: 0.84 - ETA: 0s - loss: 0.3282 - accuracy: 0.85 - ETA: 0s - loss: 0.3203 - accuracy: 0.86 - ETA: 0s - loss: 0.3247 - accuracy: 0.86 - ETA: 0s - loss: 0.3292 - accuracy: 0.86 - ETA: 0s - loss: 0.3312 - accuracy: 0.86 - ETA: 0s - loss: 0.3297 - accuracy: 0.86 - ETA: 0s - loss: 0.3333 - accuracy: 0.86 - ETA: 0s - loss: 0.3330 - accuracy: 0.86 - 1s 2ms/step - loss: 0.3327 - accuracy: 0.8639 - val_loss: 0.3440 - val_accuracy: 0.8576\n",
      "Epoch 7/50\n",
      "235/235 [==============================] - ETA: 0s - loss: 0.1592 - accuracy: 0.96 - ETA: 0s - loss: 0.3310 - accuracy: 0.87 - ETA: 0s - loss: 0.3361 - accuracy: 0.86 - ETA: 0s - loss: 0.3217 - accuracy: 0.86 - ETA: 0s - loss: 0.3277 - accuracy: 0.86 - ETA: 0s - loss: 0.3321 - accuracy: 0.86 - ETA: 0s - loss: 0.3276 - accuracy: 0.86 - ETA: 0s - loss: 0.3274 - accuracy: 0.86 - 1s 2ms/step - loss: 0.3289 - accuracy: 0.8649 - val_loss: 0.3552 - val_accuracy: 0.8588\n",
      "Epoch 8/50\n",
      "235/235 [==============================] - ETA: 0s - loss: 0.5572 - accuracy: 0.84 - ETA: 0s - loss: 0.3270 - accuracy: 0.86 - ETA: 0s - loss: 0.3256 - accuracy: 0.86 - ETA: 0s - loss: 0.3188 - accuracy: 0.86 - ETA: 0s - loss: 0.3151 - accuracy: 0.87 - ETA: 0s - loss: 0.3148 - accuracy: 0.87 - ETA: 0s - loss: 0.3158 - accuracy: 0.87 - ETA: 0s - loss: 0.3199 - accuracy: 0.86 - ETA: 0s - loss: 0.3228 - accuracy: 0.86 - 1s 2ms/step - loss: 0.3226 - accuracy: 0.8683 - val_loss: 0.3461 - val_accuracy: 0.8568\n",
      "Epoch 9/50\n",
      "235/235 [==============================] - ETA: 0s - loss: 0.3442 - accuracy: 0.84 - ETA: 0s - loss: 0.3043 - accuracy: 0.87 - ETA: 0s - loss: 0.3068 - accuracy: 0.87 - ETA: 0s - loss: 0.3123 - accuracy: 0.87 - ETA: 0s - loss: 0.3115 - accuracy: 0.87 - ETA: 0s - loss: 0.3089 - accuracy: 0.87 - ETA: 0s - loss: 0.3122 - accuracy: 0.87 - ETA: 0s - loss: 0.3179 - accuracy: 0.86 - ETA: 0s - loss: 0.3192 - accuracy: 0.86 - 1s 2ms/step - loss: 0.3184 - accuracy: 0.8703 - val_loss: 0.3428 - val_accuracy: 0.8580\n",
      "Epoch 10/50\n",
      "235/235 [==============================] - ETA: 0s - loss: 0.1534 - accuracy: 0.96 - ETA: 0s - loss: 0.2916 - accuracy: 0.88 - ETA: 0s - loss: 0.3107 - accuracy: 0.87 - ETA: 0s - loss: 0.3104 - accuracy: 0.87 - ETA: 0s - loss: 0.3097 - accuracy: 0.87 - ETA: 0s - loss: 0.3132 - accuracy: 0.87 - ETA: 0s - loss: 0.3181 - accuracy: 0.86 - ETA: 0s - loss: 0.3174 - accuracy: 0.87 - ETA: 0s - loss: 0.3132 - accuracy: 0.87 - 1s 2ms/step - loss: 0.3147 - accuracy: 0.8720 - val_loss: 0.3431 - val_accuracy: 0.8596\n",
      "Epoch 11/50\n",
      "235/235 [==============================] - ETA: 0s - loss: 0.4397 - accuracy: 0.81 - ETA: 0s - loss: 0.2716 - accuracy: 0.89 - ETA: 0s - loss: 0.2910 - accuracy: 0.88 - ETA: 0s - loss: 0.2881 - accuracy: 0.88 - ETA: 0s - loss: 0.3042 - accuracy: 0.87 - ETA: 0s - loss: 0.3127 - accuracy: 0.87 - ETA: 0s - loss: 0.3162 - accuracy: 0.86 - ETA: 0s - loss: 0.3108 - accuracy: 0.87 - 0s 2ms/step - loss: 0.3116 - accuracy: 0.8729 - val_loss: 0.3552 - val_accuracy: 0.8484\n",
      "Epoch 12/50\n",
      "235/235 [==============================] - ETA: 0s - loss: 0.1855 - accuracy: 0.96 - ETA: 0s - loss: 0.2947 - accuracy: 0.87 - ETA: 0s - loss: 0.3006 - accuracy: 0.87 - ETA: 0s - loss: 0.2980 - accuracy: 0.87 - ETA: 0s - loss: 0.3040 - accuracy: 0.87 - ETA: 0s - loss: 0.2983 - accuracy: 0.87 - ETA: 0s - loss: 0.3019 - accuracy: 0.87 - ETA: 0s - loss: 0.3050 - accuracy: 0.87 - 0s 2ms/step - loss: 0.3052 - accuracy: 0.8727 - val_loss: 0.3500 - val_accuracy: 0.8564\n",
      "Epoch 13/50\n",
      "235/235 [==============================] - ETA: 0s - loss: 0.1833 - accuracy: 0.96 - ETA: 0s - loss: 0.2911 - accuracy: 0.88 - ETA: 0s - loss: 0.2990 - accuracy: 0.88 - ETA: 0s - loss: 0.2985 - accuracy: 0.87 - ETA: 0s - loss: 0.2974 - accuracy: 0.87 - ETA: 0s - loss: 0.3040 - accuracy: 0.87 - ETA: 0s - loss: 0.3021 - accuracy: 0.87 - ETA: 0s - loss: 0.3021 - accuracy: 0.87 - 0s 2ms/step - loss: 0.3023 - accuracy: 0.8760 - val_loss: 0.3506 - val_accuracy: 0.8576\n",
      "Epoch 14/50\n",
      "235/235 [==============================] - ETA: 0s - loss: 0.2064 - accuracy: 0.90 - ETA: 0s - loss: 0.2426 - accuracy: 0.89 - ETA: 0s - loss: 0.2708 - accuracy: 0.88 - ETA: 0s - loss: 0.2743 - accuracy: 0.88 - ETA: 0s - loss: 0.2877 - accuracy: 0.87 - ETA: 0s - loss: 0.2943 - accuracy: 0.87 - ETA: 0s - loss: 0.3009 - accuracy: 0.87 - ETA: 0s - loss: 0.3001 - accuracy: 0.87 - 0s 2ms/step - loss: 0.2947 - accuracy: 0.8771 - val_loss: 0.3641 - val_accuracy: 0.8548\n",
      "Epoch 15/50\n",
      "235/235 [==============================] - ETA: 0s - loss: 0.2497 - accuracy: 0.90 - ETA: 0s - loss: 0.2649 - accuracy: 0.88 - ETA: 0s - loss: 0.2864 - accuracy: 0.87 - ETA: 0s - loss: 0.2947 - accuracy: 0.87 - ETA: 0s - loss: 0.2966 - accuracy: 0.87 - ETA: 0s - loss: 0.2925 - accuracy: 0.87 - ETA: 0s - loss: 0.2926 - accuracy: 0.87 - ETA: 0s - loss: 0.2927 - accuracy: 0.87 - 0s 2ms/step - loss: 0.2952 - accuracy: 0.8769 - val_loss: 0.3542 - val_accuracy: 0.8456\n",
      "Epoch 16/50\n",
      "235/235 [==============================] - ETA: 0s - loss: 0.2170 - accuracy: 0.87 - ETA: 0s - loss: 0.2830 - accuracy: 0.87 - ETA: 0s - loss: 0.2740 - accuracy: 0.87 - ETA: 0s - loss: 0.2694 - accuracy: 0.88 - ETA: 0s - loss: 0.2693 - accuracy: 0.88 - ETA: 0s - loss: 0.2765 - accuracy: 0.88 - ETA: 0s - loss: 0.2789 - accuracy: 0.88 - ETA: 0s - loss: 0.2808 - accuracy: 0.88 - ETA: 0s - loss: 0.2834 - accuracy: 0.87 - 1s 2ms/step - loss: 0.2839 - accuracy: 0.8784 - val_loss: 0.3948 - val_accuracy: 0.8420\n",
      "Epoch 17/50\n"
     ]
    },
    {
     "name": "stdout",
     "output_type": "stream",
     "text": [
      "235/235 [==============================] - ETA: 0s - loss: 0.2744 - accuracy: 0.90 - ETA: 0s - loss: 0.2555 - accuracy: 0.90 - ETA: 0s - loss: 0.2690 - accuracy: 0.88 - ETA: 0s - loss: 0.2627 - accuracy: 0.89 - ETA: 0s - loss: 0.2678 - accuracy: 0.88 - ETA: 0s - loss: 0.2772 - accuracy: 0.88 - ETA: 0s - loss: 0.2769 - accuracy: 0.88 - ETA: 0s - loss: 0.2788 - accuracy: 0.88 - 0s 2ms/step - loss: 0.2817 - accuracy: 0.8827 - val_loss: 0.3603 - val_accuracy: 0.8536\n",
      "Epoch 18/50\n",
      "235/235 [==============================] - ETA: 0s - loss: 0.3093 - accuracy: 0.87 - ETA: 0s - loss: 0.2701 - accuracy: 0.89 - ETA: 0s - loss: 0.2674 - accuracy: 0.89 - ETA: 0s - loss: 0.2692 - accuracy: 0.88 - ETA: 0s - loss: 0.2690 - accuracy: 0.88 - ETA: 0s - loss: 0.2751 - accuracy: 0.88 - ETA: 0s - loss: 0.2703 - accuracy: 0.88 - ETA: 0s - loss: 0.2723 - accuracy: 0.88 - ETA: 0s - loss: 0.2761 - accuracy: 0.88 - 1s 2ms/step - loss: 0.2761 - accuracy: 0.8829 - val_loss: 0.3676 - val_accuracy: 0.8540\n",
      "Epoch 19/50\n",
      "235/235 [==============================] - ETA: 0s - loss: 0.2130 - accuracy: 0.90 - ETA: 0s - loss: 0.2539 - accuracy: 0.89 - ETA: 0s - loss: 0.2540 - accuracy: 0.89 - ETA: 0s - loss: 0.2450 - accuracy: 0.89 - ETA: 0s - loss: 0.2608 - accuracy: 0.88 - ETA: 0s - loss: 0.2592 - accuracy: 0.88 - ETA: 0s - loss: 0.2606 - accuracy: 0.88 - ETA: 0s - loss: 0.2659 - accuracy: 0.88 - 0s 2ms/step - loss: 0.2655 - accuracy: 0.8843 - val_loss: 0.4049 - val_accuracy: 0.8516\n",
      "Epoch 20/50\n",
      "235/235 [==============================] - ETA: 0s - loss: 0.2398 - accuracy: 0.87 - ETA: 0s - loss: 0.2551 - accuracy: 0.88 - ETA: 0s - loss: 0.2566 - accuracy: 0.88 - ETA: 0s - loss: 0.2524 - accuracy: 0.88 - ETA: 0s - loss: 0.2509 - accuracy: 0.88 - ETA: 0s - loss: 0.2564 - accuracy: 0.88 - ETA: 0s - loss: 0.2574 - accuracy: 0.88 - ETA: 0s - loss: 0.2594 - accuracy: 0.88 - 0s 2ms/step - loss: 0.2633 - accuracy: 0.8840 - val_loss: 0.4051 - val_accuracy: 0.8484\n",
      "Epoch 21/50\n",
      "235/235 [==============================] - ETA: 0s - loss: 0.2022 - accuracy: 0.90 - ETA: 0s - loss: 0.2472 - accuracy: 0.89 - ETA: 0s - loss: 0.2592 - accuracy: 0.88 - ETA: 0s - loss: 0.2541 - accuracy: 0.88 - ETA: 0s - loss: 0.2436 - accuracy: 0.89 - ETA: 0s - loss: 0.2395 - accuracy: 0.89 - ETA: 0s - loss: 0.2456 - accuracy: 0.89 - ETA: 0s - loss: 0.2474 - accuracy: 0.89 - 0s 2ms/step - loss: 0.2516 - accuracy: 0.8892 - val_loss: 0.4031 - val_accuracy: 0.8456\n",
      "Epoch 22/50\n",
      "235/235 [==============================] - ETA: 0s - loss: 0.2397 - accuracy: 0.90 - ETA: 0s - loss: 0.2212 - accuracy: 0.89 - ETA: 0s - loss: 0.2357 - accuracy: 0.89 - ETA: 0s - loss: 0.2458 - accuracy: 0.88 - ETA: 0s - loss: 0.2447 - accuracy: 0.88 - ETA: 0s - loss: 0.2391 - accuracy: 0.89 - ETA: 0s - loss: 0.2450 - accuracy: 0.89 - ETA: 0s - loss: 0.2453 - accuracy: 0.88 - 0s 2ms/step - loss: 0.2431 - accuracy: 0.8904 - val_loss: 0.4581 - val_accuracy: 0.8252\n",
      "Epoch 23/50\n",
      "235/235 [==============================] - ETA: 0s - loss: 0.2334 - accuracy: 0.90 - ETA: 0s - loss: 0.2690 - accuracy: 0.87 - ETA: 0s - loss: 0.2456 - accuracy: 0.88 - ETA: 0s - loss: 0.2457 - accuracy: 0.88 - ETA: 0s - loss: 0.2438 - accuracy: 0.88 - ETA: 0s - loss: 0.2416 - accuracy: 0.89 - ETA: 0s - loss: 0.2404 - accuracy: 0.89 - ETA: 0s - loss: 0.2423 - accuracy: 0.89 - ETA: 0s - loss: 0.2448 - accuracy: 0.89 - 1s 2ms/step - loss: 0.2477 - accuracy: 0.8901 - val_loss: 0.4007 - val_accuracy: 0.8520\n",
      "Epoch 24/50\n",
      "235/235 [==============================] - ETA: 0s - loss: 0.1837 - accuracy: 0.96 - ETA: 0s - loss: 0.2196 - accuracy: 0.90 - ETA: 0s - loss: 0.2225 - accuracy: 0.89 - ETA: 0s - loss: 0.2233 - accuracy: 0.89 - ETA: 0s - loss: 0.2283 - accuracy: 0.89 - ETA: 0s - loss: 0.2296 - accuracy: 0.89 - ETA: 0s - loss: 0.2292 - accuracy: 0.89 - ETA: 0s - loss: 0.2296 - accuracy: 0.89 - ETA: 0s - loss: 0.2350 - accuracy: 0.89 - 1s 2ms/step - loss: 0.2359 - accuracy: 0.8948 - val_loss: 0.4415 - val_accuracy: 0.8540\n",
      "Epoch 25/50\n",
      "235/235 [==============================] - ETA: 0s - loss: 0.1564 - accuracy: 0.90 - ETA: 0s - loss: 0.2236 - accuracy: 0.89 - ETA: 0s - loss: 0.2124 - accuracy: 0.90 - ETA: 0s - loss: 0.2314 - accuracy: 0.89 - ETA: 0s - loss: 0.2326 - accuracy: 0.88 - ETA: 0s - loss: 0.2336 - accuracy: 0.88 - ETA: 0s - loss: 0.2333 - accuracy: 0.88 - ETA: 0s - loss: 0.2324 - accuracy: 0.89 - ETA: 0s - loss: 0.2335 - accuracy: 0.89 - 1s 2ms/step - loss: 0.2327 - accuracy: 0.8943 - val_loss: 0.4351 - val_accuracy: 0.8516\n",
      "Epoch 26/50\n",
      "235/235 [==============================] - ETA: 0s - loss: 0.2213 - accuracy: 0.87 - ETA: 0s - loss: 0.2131 - accuracy: 0.89 - ETA: 0s - loss: 0.2046 - accuracy: 0.90 - ETA: 0s - loss: 0.2070 - accuracy: 0.90 - ETA: 0s - loss: 0.2143 - accuracy: 0.90 - ETA: 0s - loss: 0.2138 - accuracy: 0.90 - ETA: 0s - loss: 0.2146 - accuracy: 0.90 - ETA: 0s - loss: 0.2194 - accuracy: 0.90 - ETA: 0s - loss: 0.2228 - accuracy: 0.89 - 0s 2ms/step - loss: 0.2228 - accuracy: 0.8987 - val_loss: 0.4662 - val_accuracy: 0.8440\n",
      "Epoch 27/50\n",
      "235/235 [==============================] - ETA: 0s - loss: 0.2166 - accuracy: 0.84 - ETA: 0s - loss: 0.2128 - accuracy: 0.90 - ETA: 0s - loss: 0.2095 - accuracy: 0.90 - ETA: 0s - loss: 0.2110 - accuracy: 0.90 - ETA: 0s - loss: 0.2122 - accuracy: 0.90 - ETA: 0s - loss: 0.2107 - accuracy: 0.90 - ETA: 0s - loss: 0.2103 - accuracy: 0.90 - ETA: 0s - loss: 0.2134 - accuracy: 0.90 - 0s 2ms/step - loss: 0.2170 - accuracy: 0.9008 - val_loss: 0.4599 - val_accuracy: 0.8520\n",
      "Epoch 28/50\n",
      "235/235 [==============================] - ETA: 0s - loss: 0.1996 - accuracy: 0.93 - ETA: 0s - loss: 0.1828 - accuracy: 0.92 - ETA: 0s - loss: 0.1943 - accuracy: 0.91 - ETA: 0s - loss: 0.2040 - accuracy: 0.90 - ETA: 0s - loss: 0.2005 - accuracy: 0.90 - ETA: 0s - loss: 0.2044 - accuracy: 0.90 - ETA: 0s - loss: 0.2018 - accuracy: 0.90 - ETA: 0s - loss: 0.2049 - accuracy: 0.90 - ETA: 0s - loss: 0.2063 - accuracy: 0.90 - 1s 2ms/step - loss: 0.2095 - accuracy: 0.9060 - val_loss: 0.5002 - val_accuracy: 0.8368\n",
      "Epoch 29/50\n",
      "235/235 [==============================] - ETA: 0s - loss: 0.2055 - accuracy: 0.93 - ETA: 0s - loss: 0.1844 - accuracy: 0.91 - ETA: 0s - loss: 0.2169 - accuracy: 0.90 - ETA: 0s - loss: 0.2123 - accuracy: 0.90 - ETA: 0s - loss: 0.2118 - accuracy: 0.90 - ETA: 0s - loss: 0.2045 - accuracy: 0.90 - ETA: 0s - loss: 0.2071 - accuracy: 0.90 - ETA: 0s - loss: 0.2090 - accuracy: 0.90 - ETA: 0s - loss: 0.2112 - accuracy: 0.90 - 1s 2ms/step - loss: 0.2112 - accuracy: 0.9064 - val_loss: 0.5483 - val_accuracy: 0.8504\n",
      "Epoch 30/50\n",
      "235/235 [==============================] - ETA: 0s - loss: 0.0797 - accuracy: 1.00 - ETA: 0s - loss: 0.2188 - accuracy: 0.89 - ETA: 0s - loss: 0.1988 - accuracy: 0.90 - ETA: 0s - loss: 0.2006 - accuracy: 0.90 - ETA: 0s - loss: 0.1935 - accuracy: 0.90 - ETA: 0s - loss: 0.1962 - accuracy: 0.90 - ETA: 0s - loss: 0.1930 - accuracy: 0.90 - ETA: 0s - loss: 0.1987 - accuracy: 0.90 - ETA: 0s - loss: 0.2018 - accuracy: 0.90 - 1s 2ms/step - loss: 0.2009 - accuracy: 0.9056 - val_loss: 0.5914 - val_accuracy: 0.8368\n",
      "Epoch 31/50\n",
      "235/235 [==============================] - ETA: 0s - loss: 0.0954 - accuracy: 0.96 - ETA: 0s - loss: 0.1649 - accuracy: 0.92 - ETA: 0s - loss: 0.1871 - accuracy: 0.91 - ETA: 0s - loss: 0.1953 - accuracy: 0.90 - ETA: 0s - loss: 0.1981 - accuracy: 0.90 - ETA: 0s - loss: 0.1989 - accuracy: 0.90 - ETA: 0s - loss: 0.1967 - accuracy: 0.90 - ETA: 0s - loss: 0.1940 - accuracy: 0.90 - ETA: 0s - loss: 0.1959 - accuracy: 0.90 - 1s 2ms/step - loss: 0.1958 - accuracy: 0.9076 - val_loss: 0.5705 - val_accuracy: 0.8440\n",
      "Epoch 32/50\n",
      "235/235 [==============================] - ETA: 0s - loss: 0.1706 - accuracy: 0.93 - ETA: 0s - loss: 0.1658 - accuracy: 0.91 - ETA: 0s - loss: 0.1666 - accuracy: 0.91 - ETA: 0s - loss: 0.1709 - accuracy: 0.91 - ETA: 0s - loss: 0.1693 - accuracy: 0.91 - ETA: 0s - loss: 0.1750 - accuracy: 0.91 - ETA: 0s - loss: 0.1758 - accuracy: 0.91 - ETA: 0s - loss: 0.1780 - accuracy: 0.91 - ETA: 0s - loss: 0.1804 - accuracy: 0.91 - 1s 2ms/step - loss: 0.1804 - accuracy: 0.9141 - val_loss: 0.6396 - val_accuracy: 0.8192\n",
      "Epoch 33/50\n"
     ]
    },
    {
     "name": "stdout",
     "output_type": "stream",
     "text": [
      "235/235 [==============================] - ETA: 0s - loss: 0.1774 - accuracy: 0.90 - ETA: 0s - loss: 0.1547 - accuracy: 0.92 - ETA: 0s - loss: 0.1625 - accuracy: 0.92 - ETA: 0s - loss: 0.1663 - accuracy: 0.92 - ETA: 0s - loss: 0.1719 - accuracy: 0.91 - ETA: 0s - loss: 0.1743 - accuracy: 0.91 - ETA: 0s - loss: 0.1769 - accuracy: 0.91 - ETA: 0s - loss: 0.1816 - accuracy: 0.91 - ETA: 0s - loss: 0.1852 - accuracy: 0.91 - 1s 2ms/step - loss: 0.1852 - accuracy: 0.9123 - val_loss: 0.5777 - val_accuracy: 0.8360\n",
      "Epoch 34/50\n",
      "235/235 [==============================] - ETA: 0s - loss: 0.1277 - accuracy: 0.96 - ETA: 0s - loss: 0.1572 - accuracy: 0.93 - ETA: 0s - loss: 0.1685 - accuracy: 0.92 - ETA: 0s - loss: 0.1690 - accuracy: 0.92 - ETA: 0s - loss: 0.1698 - accuracy: 0.92 - ETA: 0s - loss: 0.1694 - accuracy: 0.92 - ETA: 0s - loss: 0.1783 - accuracy: 0.91 - ETA: 0s - loss: 0.1801 - accuracy: 0.91 - ETA: 0s - loss: 0.1799 - accuracy: 0.91 - 1s 2ms/step - loss: 0.1810 - accuracy: 0.9181 - val_loss: 0.6641 - val_accuracy: 0.8348\n",
      "Epoch 35/50\n",
      "235/235 [==============================] - ETA: 0s - loss: 0.1975 - accuracy: 0.90 - ETA: 0s - loss: 0.1659 - accuracy: 0.92 - ETA: 0s - loss: 0.1731 - accuracy: 0.91 - ETA: 0s - loss: 0.1649 - accuracy: 0.92 - ETA: 0s - loss: 0.1650 - accuracy: 0.91 - ETA: 0s - loss: 0.1703 - accuracy: 0.91 - ETA: 0s - loss: 0.1728 - accuracy: 0.91 - ETA: 0s - loss: 0.1722 - accuracy: 0.91 - ETA: 0s - loss: 0.1761 - accuracy: 0.91 - 1s 2ms/step - loss: 0.1745 - accuracy: 0.9168 - val_loss: 0.7432 - val_accuracy: 0.8372\n",
      "Epoch 36/50\n",
      "235/235 [==============================] - ETA: 0s - loss: 0.2202 - accuracy: 0.87 - ETA: 0s - loss: 0.1594 - accuracy: 0.93 - ETA: 0s - loss: 0.1530 - accuracy: 0.93 - ETA: 0s - loss: 0.1628 - accuracy: 0.93 - ETA: 0s - loss: 0.1686 - accuracy: 0.92 - ETA: 0s - loss: 0.1691 - accuracy: 0.92 - ETA: 0s - loss: 0.1691 - accuracy: 0.92 - ETA: 0s - loss: 0.1710 - accuracy: 0.92 - ETA: 0s - loss: 0.1699 - accuracy: 0.92 - 1s 2ms/step - loss: 0.1699 - accuracy: 0.9235 - val_loss: 0.6554 - val_accuracy: 0.8440\n",
      "Epoch 37/50\n",
      "235/235 [==============================] - ETA: 0s - loss: 0.0840 - accuracy: 1.00 - ETA: 0s - loss: 0.1371 - accuracy: 0.94 - ETA: 0s - loss: 0.1535 - accuracy: 0.92 - ETA: 0s - loss: 0.1537 - accuracy: 0.93 - ETA: 0s - loss: 0.1564 - accuracy: 0.92 - ETA: 0s - loss: 0.1557 - accuracy: 0.92 - ETA: 0s - loss: 0.1522 - accuracy: 0.93 - ETA: 0s - loss: 0.1540 - accuracy: 0.92 - ETA: 0s - loss: 0.1560 - accuracy: 0.92 - ETA: 0s - loss: 0.1607 - accuracy: 0.92 - 1s 3ms/step - loss: 0.1622 - accuracy: 0.9252 - val_loss: 0.6301 - val_accuracy: 0.8412\n",
      "Epoch 38/50\n",
      "235/235 [==============================] - ETA: 0s - loss: 0.0756 - accuracy: 0.96 - ETA: 0s - loss: 0.1403 - accuracy: 0.93 - ETA: 0s - loss: 0.1478 - accuracy: 0.93 - ETA: 0s - loss: 0.1471 - accuracy: 0.92 - ETA: 0s - loss: 0.1505 - accuracy: 0.92 - ETA: 0s - loss: 0.1550 - accuracy: 0.92 - ETA: 0s - loss: 0.1554 - accuracy: 0.92 - ETA: 0s - loss: 0.1545 - accuracy: 0.92 - ETA: 0s - loss: 0.1549 - accuracy: 0.92 - 1s 2ms/step - loss: 0.1547 - accuracy: 0.9264 - val_loss: 0.7610 - val_accuracy: 0.8348\n",
      "Epoch 39/50\n",
      "235/235 [==============================] - ETA: 0s - loss: 0.0766 - accuracy: 1.00 - ETA: 0s - loss: 0.1132 - accuracy: 0.94 - ETA: 0s - loss: 0.1248 - accuracy: 0.94 - ETA: 0s - loss: 0.1281 - accuracy: 0.94 - ETA: 0s - loss: 0.1309 - accuracy: 0.94 - ETA: 0s - loss: 0.1403 - accuracy: 0.93 - ETA: 0s - loss: 0.1447 - accuracy: 0.93 - ETA: 0s - loss: 0.1462 - accuracy: 0.93 - 0s 2ms/step - loss: 0.1475 - accuracy: 0.9311 - val_loss: 0.7719 - val_accuracy: 0.8044\n",
      "Epoch 40/50\n",
      "235/235 [==============================] - ETA: 0s - loss: 0.1852 - accuracy: 0.87 - ETA: 0s - loss: 0.1427 - accuracy: 0.92 - ETA: 0s - loss: 0.1315 - accuracy: 0.93 - ETA: 0s - loss: 0.1419 - accuracy: 0.93 - ETA: 0s - loss: 0.1386 - accuracy: 0.93 - ETA: 0s - loss: 0.1495 - accuracy: 0.93 - ETA: 0s - loss: 0.1503 - accuracy: 0.93 - ETA: 0s - loss: 0.1534 - accuracy: 0.92 - 0s 2ms/step - loss: 0.1536 - accuracy: 0.9293 - val_loss: 0.8524 - val_accuracy: 0.8256\n",
      "Epoch 41/50\n",
      "235/235 [==============================] - ETA: 0s - loss: 0.0515 - accuracy: 1.00 - ETA: 0s - loss: 0.1379 - accuracy: 0.93 - ETA: 0s - loss: 0.1372 - accuracy: 0.93 - ETA: 0s - loss: 0.1386 - accuracy: 0.93 - ETA: 0s - loss: 0.1435 - accuracy: 0.93 - ETA: 0s - loss: 0.1445 - accuracy: 0.93 - ETA: 0s - loss: 0.1471 - accuracy: 0.93 - ETA: 0s - loss: 0.1489 - accuracy: 0.93 - ETA: 0s - loss: 0.1492 - accuracy: 0.93 - 1s 2ms/step - loss: 0.1475 - accuracy: 0.9328 - val_loss: 0.9727 - val_accuracy: 0.8336\n",
      "Epoch 42/50\n",
      "235/235 [==============================] - ETA: 0s - loss: 0.0804 - accuracy: 0.96 - ETA: 0s - loss: 0.1339 - accuracy: 0.94 - ETA: 0s - loss: 0.1320 - accuracy: 0.94 - ETA: 0s - loss: 0.1313 - accuracy: 0.94 - ETA: 0s - loss: 0.1351 - accuracy: 0.94 - ETA: 0s - loss: 0.1367 - accuracy: 0.94 - ETA: 0s - loss: 0.1387 - accuracy: 0.93 - ETA: 0s - loss: 0.1384 - accuracy: 0.93 - ETA: 0s - loss: 0.1402 - accuracy: 0.93 - 1s 2ms/step - loss: 0.1397 - accuracy: 0.9375 - val_loss: 0.8728 - val_accuracy: 0.8200\n",
      "Epoch 43/50\n",
      "235/235 [==============================] - ETA: 0s - loss: 0.0957 - accuracy: 0.96 - ETA: 0s - loss: 0.1219 - accuracy: 0.94 - ETA: 0s - loss: 0.1250 - accuracy: 0.94 - ETA: 0s - loss: 0.1266 - accuracy: 0.93 - ETA: 0s - loss: 0.1327 - accuracy: 0.93 - ETA: 0s - loss: 0.1346 - accuracy: 0.93 - ETA: 0s - loss: 0.1364 - accuracy: 0.93 - ETA: 0s - loss: 0.1349 - accuracy: 0.93 - 0s 2ms/step - loss: 0.1371 - accuracy: 0.9355 - val_loss: 0.8524 - val_accuracy: 0.8256\n",
      "Epoch 44/50\n",
      "235/235 [==============================] - ETA: 0s - loss: 0.1358 - accuracy: 0.90 - ETA: 0s - loss: 0.1143 - accuracy: 0.95 - ETA: 0s - loss: 0.1182 - accuracy: 0.94 - ETA: 0s - loss: 0.1222 - accuracy: 0.94 - ETA: 0s - loss: 0.1263 - accuracy: 0.94 - ETA: 0s - loss: 0.1278 - accuracy: 0.94 - ETA: 0s - loss: 0.1277 - accuracy: 0.94 - ETA: 0s - loss: 0.1308 - accuracy: 0.93 - 0s 2ms/step - loss: 0.1347 - accuracy: 0.9367 - val_loss: 0.8161 - val_accuracy: 0.8224\n",
      "Epoch 45/50\n",
      "235/235 [==============================] - ETA: 0s - loss: 0.0868 - accuracy: 0.96 - ETA: 0s - loss: 0.1038 - accuracy: 0.95 - ETA: 0s - loss: 0.1106 - accuracy: 0.95 - ETA: 0s - loss: 0.1147 - accuracy: 0.94 - ETA: 0s - loss: 0.1209 - accuracy: 0.94 - ETA: 0s - loss: 0.1244 - accuracy: 0.94 - ETA: 0s - loss: 0.1235 - accuracy: 0.94 - ETA: 0s - loss: 0.1247 - accuracy: 0.94 - 0s 2ms/step - loss: 0.1264 - accuracy: 0.9413 - val_loss: 1.0865 - val_accuracy: 0.8224\n",
      "Epoch 46/50\n",
      "235/235 [==============================] - ETA: 0s - loss: 0.2193 - accuracy: 0.93 - ETA: 0s - loss: 0.1186 - accuracy: 0.95 - ETA: 0s - loss: 0.1390 - accuracy: 0.94 - ETA: 0s - loss: 0.1276 - accuracy: 0.94 - ETA: 0s - loss: 0.1237 - accuracy: 0.94 - ETA: 0s - loss: 0.1223 - accuracy: 0.94 - ETA: 0s - loss: 0.1267 - accuracy: 0.94 - ETA: 0s - loss: 0.1281 - accuracy: 0.94 - ETA: 0s - loss: 0.1284 - accuracy: 0.94 - 1s 2ms/step - loss: 0.1283 - accuracy: 0.9439 - val_loss: 0.8101 - val_accuracy: 0.8132\n",
      "Epoch 47/50\n",
      "235/235 [==============================] - ETA: 0s - loss: 0.0810 - accuracy: 0.96 - ETA: 0s - loss: 0.1208 - accuracy: 0.94 - ETA: 0s - loss: 0.1304 - accuracy: 0.94 - ETA: 0s - loss: 0.1281 - accuracy: 0.94 - ETA: 0s - loss: 0.1287 - accuracy: 0.94 - ETA: 0s - loss: 0.1268 - accuracy: 0.94 - ETA: 0s - loss: 0.1242 - accuracy: 0.94 - ETA: 0s - loss: 0.1237 - accuracy: 0.94 - 0s 2ms/step - loss: 0.1275 - accuracy: 0.9416 - val_loss: 0.7614 - val_accuracy: 0.8248\n",
      "Epoch 48/50\n",
      "235/235 [==============================] - ETA: 0s - loss: 0.0741 - accuracy: 0.93 - ETA: 0s - loss: 0.1022 - accuracy: 0.95 - ETA: 0s - loss: 0.1016 - accuracy: 0.95 - ETA: 0s - loss: 0.0998 - accuracy: 0.95 - ETA: 0s - loss: 0.1024 - accuracy: 0.95 - ETA: 0s - loss: 0.1078 - accuracy: 0.94 - ETA: 0s - loss: 0.1107 - accuracy: 0.94 - ETA: 0s - loss: 0.1119 - accuracy: 0.94 - 0s 2ms/step - loss: 0.1152 - accuracy: 0.9457 - val_loss: 0.9234 - val_accuracy: 0.8140\n",
      "Epoch 49/50\n"
     ]
    },
    {
     "name": "stdout",
     "output_type": "stream",
     "text": [
      "235/235 [==============================] - ETA: 0s - loss: 0.0820 - accuracy: 0.93 - ETA: 0s - loss: 0.1226 - accuracy: 0.94 - ETA: 0s - loss: 0.1177 - accuracy: 0.95 - ETA: 0s - loss: 0.1140 - accuracy: 0.95 - ETA: 0s - loss: 0.1150 - accuracy: 0.95 - ETA: 0s - loss: 0.1196 - accuracy: 0.94 - ETA: 0s - loss: 0.1206 - accuracy: 0.94 - ETA: 0s - loss: 0.1224 - accuracy: 0.94 - 0s 2ms/step - loss: 0.1225 - accuracy: 0.9456 - val_loss: 0.9188 - val_accuracy: 0.8200\n",
      "Epoch 50/50\n",
      "235/235 [==============================] - ETA: 0s - loss: 0.0984 - accuracy: 0.96 - ETA: 0s - loss: 0.1241 - accuracy: 0.95 - ETA: 0s - loss: 0.1054 - accuracy: 0.96 - ETA: 0s - loss: 0.1034 - accuracy: 0.95 - ETA: 0s - loss: 0.1052 - accuracy: 0.95 - ETA: 0s - loss: 0.1073 - accuracy: 0.95 - ETA: 0s - loss: 0.1088 - accuracy: 0.95 - ETA: 0s - loss: 0.1069 - accuracy: 0.95 - 0s 2ms/step - loss: 0.1079 - accuracy: 0.9512 - val_loss: 0.9353 - val_accuracy: 0.8140\n",
      "Epoch 1/50\n",
      "235/235 [==============================] - ETA: 0s - loss: 0.6896 - accuracy: 0.81 - ETA: 0s - loss: 0.5645 - accuracy: 0.80 - ETA: 0s - loss: 0.5117 - accuracy: 0.80 - ETA: 0s - loss: 0.4901 - accuracy: 0.79 - ETA: 0s - loss: 0.4759 - accuracy: 0.79 - ETA: 0s - loss: 0.4591 - accuracy: 0.80 - ETA: 0s - loss: 0.4551 - accuracy: 0.80 - ETA: 0s - loss: 0.4497 - accuracy: 0.80 - ETA: 0s - loss: 0.4403 - accuracy: 0.81 - 1s 3ms/step - loss: 0.4392 - accuracy: 0.8143 - val_loss: 0.3777 - val_accuracy: 0.8512\n",
      "Epoch 2/50\n",
      "235/235 [==============================] - ETA: 0s - loss: 0.2822 - accuracy: 0.84 - ETA: 0s - loss: 0.3765 - accuracy: 0.85 - ETA: 0s - loss: 0.3799 - accuracy: 0.84 - ETA: 0s - loss: 0.3713 - accuracy: 0.84 - ETA: 0s - loss: 0.3732 - accuracy: 0.84 - ETA: 0s - loss: 0.3723 - accuracy: 0.84 - ETA: 0s - loss: 0.3673 - accuracy: 0.84 - ETA: 0s - loss: 0.3580 - accuracy: 0.85 - 0s 2ms/step - loss: 0.3605 - accuracy: 0.8512 - val_loss: 0.3525 - val_accuracy: 0.8580\n",
      "Epoch 3/50\n",
      "235/235 [==============================] - ETA: 0s - loss: 0.6048 - accuracy: 0.78 - ETA: 0s - loss: 0.3325 - accuracy: 0.86 - ETA: 0s - loss: 0.3378 - accuracy: 0.86 - ETA: 0s - loss: 0.3365 - accuracy: 0.86 - ETA: 0s - loss: 0.3418 - accuracy: 0.85 - ETA: 0s - loss: 0.3450 - accuracy: 0.85 - ETA: 0s - loss: 0.3461 - accuracy: 0.85 - ETA: 0s - loss: 0.3460 - accuracy: 0.85 - 0s 2ms/step - loss: 0.3459 - accuracy: 0.8595 - val_loss: 0.3484 - val_accuracy: 0.8580\n",
      "Epoch 4/50\n",
      "235/235 [==============================] - ETA: 0s - loss: 0.1721 - accuracy: 0.90 - ETA: 0s - loss: 0.3061 - accuracy: 0.88 - ETA: 0s - loss: 0.3163 - accuracy: 0.87 - ETA: 0s - loss: 0.3317 - accuracy: 0.86 - ETA: 0s - loss: 0.3347 - accuracy: 0.86 - ETA: 0s - loss: 0.3395 - accuracy: 0.86 - ETA: 0s - loss: 0.3415 - accuracy: 0.86 - ETA: 0s - loss: 0.3420 - accuracy: 0.86 - ETA: 0s - loss: 0.3449 - accuracy: 0.86 - 1s 2ms/step - loss: 0.3442 - accuracy: 0.8605 - val_loss: 0.3456 - val_accuracy: 0.8608\n",
      "Epoch 5/50\n",
      "235/235 [==============================] - ETA: 0s - loss: 0.2601 - accuracy: 0.90 - ETA: 0s - loss: 0.3055 - accuracy: 0.87 - ETA: 0s - loss: 0.3107 - accuracy: 0.87 - ETA: 0s - loss: 0.3262 - accuracy: 0.86 - ETA: 0s - loss: 0.3360 - accuracy: 0.86 - ETA: 0s - loss: 0.3376 - accuracy: 0.86 - ETA: 0s - loss: 0.3377 - accuracy: 0.86 - ETA: 0s - loss: 0.3334 - accuracy: 0.86 - 0s 2ms/step - loss: 0.3350 - accuracy: 0.8624 - val_loss: 0.3472 - val_accuracy: 0.8520\n",
      "Epoch 6/50\n",
      "235/235 [==============================] - ETA: 0s - loss: 0.3327 - accuracy: 0.84 - ETA: 0s - loss: 0.3224 - accuracy: 0.85 - ETA: 0s - loss: 0.3116 - accuracy: 0.86 - ETA: 0s - loss: 0.3137 - accuracy: 0.87 - ETA: 0s - loss: 0.3238 - accuracy: 0.86 - ETA: 0s - loss: 0.3332 - accuracy: 0.86 - ETA: 0s - loss: 0.3281 - accuracy: 0.86 - ETA: 0s - loss: 0.3307 - accuracy: 0.86 - 0s 2ms/step - loss: 0.3315 - accuracy: 0.8665 - val_loss: 0.3609 - val_accuracy: 0.8444\n",
      "Epoch 7/50\n",
      "235/235 [==============================] - ETA: 0s - loss: 0.3687 - accuracy: 0.87 - ETA: 0s - loss: 0.3280 - accuracy: 0.86 - ETA: 0s - loss: 0.3437 - accuracy: 0.85 - ETA: 0s - loss: 0.3382 - accuracy: 0.85 - ETA: 0s - loss: 0.3318 - accuracy: 0.86 - ETA: 0s - loss: 0.3338 - accuracy: 0.86 - ETA: 0s - loss: 0.3257 - accuracy: 0.86 - ETA: 0s - loss: 0.3251 - accuracy: 0.86 - ETA: 0s - loss: 0.3254 - accuracy: 0.86 - 1s 2ms/step - loss: 0.3267 - accuracy: 0.8669 - val_loss: 0.3468 - val_accuracy: 0.8564\n",
      "Epoch 8/50\n",
      "235/235 [==============================] - ETA: 0s - loss: 0.3430 - accuracy: 0.84 - ETA: 0s - loss: 0.3383 - accuracy: 0.85 - ETA: 0s - loss: 0.3290 - accuracy: 0.86 - ETA: 0s - loss: 0.3259 - accuracy: 0.86 - ETA: 0s - loss: 0.3244 - accuracy: 0.86 - ETA: 0s - loss: 0.3190 - accuracy: 0.86 - ETA: 0s - loss: 0.3180 - accuracy: 0.86 - ETA: 0s - loss: 0.3197 - accuracy: 0.86 - 0s 2ms/step - loss: 0.3216 - accuracy: 0.8701 - val_loss: 0.3445 - val_accuracy: 0.8584\n",
      "Epoch 9/50\n",
      "235/235 [==============================] - ETA: 0s - loss: 0.2106 - accuracy: 0.93 - ETA: 0s - loss: 0.3184 - accuracy: 0.85 - ETA: 0s - loss: 0.3112 - accuracy: 0.86 - ETA: 0s - loss: 0.3214 - accuracy: 0.86 - ETA: 0s - loss: 0.3195 - accuracy: 0.86 - ETA: 0s - loss: 0.3189 - accuracy: 0.86 - ETA: 0s - loss: 0.3225 - accuracy: 0.86 - ETA: 0s - loss: 0.3228 - accuracy: 0.86 - 0s 2ms/step - loss: 0.3178 - accuracy: 0.8693 - val_loss: 0.3432 - val_accuracy: 0.8580\n",
      "Epoch 10/50\n",
      "235/235 [==============================] - ETA: 0s - loss: 0.2945 - accuracy: 0.90 - ETA: 0s - loss: 0.2954 - accuracy: 0.88 - ETA: 0s - loss: 0.2957 - accuracy: 0.88 - ETA: 0s - loss: 0.3010 - accuracy: 0.88 - ETA: 0s - loss: 0.3027 - accuracy: 0.87 - ETA: 0s - loss: 0.3064 - accuracy: 0.87 - ETA: 0s - loss: 0.3080 - accuracy: 0.87 - ETA: 0s - loss: 0.3112 - accuracy: 0.87 - ETA: 0s - loss: 0.3146 - accuracy: 0.87 - 1s 2ms/step - loss: 0.3118 - accuracy: 0.8739 - val_loss: 0.3585 - val_accuracy: 0.8596\n",
      "Epoch 11/50\n",
      "235/235 [==============================] - ETA: 0s - loss: 0.3728 - accuracy: 0.90 - ETA: 0s - loss: 0.3152 - accuracy: 0.87 - ETA: 0s - loss: 0.3052 - accuracy: 0.87 - ETA: 0s - loss: 0.3117 - accuracy: 0.87 - ETA: 0s - loss: 0.3116 - accuracy: 0.87 - ETA: 0s - loss: 0.3067 - accuracy: 0.87 - ETA: 0s - loss: 0.3127 - accuracy: 0.87 - ETA: 0s - loss: 0.3117 - accuracy: 0.87 - ETA: 0s - loss: 0.3107 - accuracy: 0.87 - 1s 2ms/step - loss: 0.3101 - accuracy: 0.8733 - val_loss: 0.3494 - val_accuracy: 0.8584\n",
      "Epoch 12/50\n",
      "235/235 [==============================] - ETA: 0s - loss: 0.2029 - accuracy: 0.90 - ETA: 0s - loss: 0.2553 - accuracy: 0.90 - ETA: 0s - loss: 0.2778 - accuracy: 0.89 - ETA: 0s - loss: 0.2900 - accuracy: 0.88 - ETA: 0s - loss: 0.3041 - accuracy: 0.87 - ETA: 0s - loss: 0.2998 - accuracy: 0.87 - ETA: 0s - loss: 0.2969 - accuracy: 0.88 - ETA: 0s - loss: 0.3041 - accuracy: 0.87 - 0s 2ms/step - loss: 0.3039 - accuracy: 0.8756 - val_loss: 0.3499 - val_accuracy: 0.8604\n",
      "Epoch 13/50\n",
      "235/235 [==============================] - ETA: 0s - loss: 0.2757 - accuracy: 0.90 - ETA: 0s - loss: 0.2896 - accuracy: 0.89 - ETA: 0s - loss: 0.2841 - accuracy: 0.88 - ETA: 0s - loss: 0.2806 - accuracy: 0.89 - ETA: 0s - loss: 0.2893 - accuracy: 0.88 - ETA: 0s - loss: 0.2893 - accuracy: 0.88 - ETA: 0s - loss: 0.2959 - accuracy: 0.88 - ETA: 0s - loss: 0.2984 - accuracy: 0.87 - ETA: 0s - loss: 0.2987 - accuracy: 0.87 - 1s 2ms/step - loss: 0.2984 - accuracy: 0.8800 - val_loss: 0.3999 - val_accuracy: 0.8588\n",
      "Epoch 14/50\n",
      "235/235 [==============================] - ETA: 0s - loss: 0.2955 - accuracy: 0.93 - ETA: 0s - loss: 0.3144 - accuracy: 0.86 - ETA: 0s - loss: 0.3016 - accuracy: 0.87 - ETA: 0s - loss: 0.3047 - accuracy: 0.87 - ETA: 0s - loss: 0.2956 - accuracy: 0.88 - ETA: 0s - loss: 0.2946 - accuracy: 0.87 - ETA: 0s - loss: 0.2955 - accuracy: 0.88 - ETA: 0s - loss: 0.2968 - accuracy: 0.88 - 0s 2ms/step - loss: 0.2998 - accuracy: 0.8796 - val_loss: 0.3563 - val_accuracy: 0.8528\n",
      "Epoch 15/50\n"
     ]
    },
    {
     "name": "stdout",
     "output_type": "stream",
     "text": [
      "235/235 [==============================] - ETA: 0s - loss: 0.1697 - accuracy: 0.93 - ETA: 0s - loss: 0.2812 - accuracy: 0.88 - ETA: 0s - loss: 0.2832 - accuracy: 0.88 - ETA: 0s - loss: 0.2758 - accuracy: 0.88 - ETA: 0s - loss: 0.2732 - accuracy: 0.88 - ETA: 0s - loss: 0.2698 - accuracy: 0.88 - ETA: 0s - loss: 0.2764 - accuracy: 0.88 - ETA: 0s - loss: 0.2821 - accuracy: 0.88 - 0s 2ms/step - loss: 0.2878 - accuracy: 0.8808 - val_loss: 0.3667 - val_accuracy: 0.8504\n",
      "Epoch 16/50\n",
      "235/235 [==============================] - ETA: 0s - loss: 0.3029 - accuracy: 0.87 - ETA: 0s - loss: 0.2761 - accuracy: 0.89 - ETA: 0s - loss: 0.2823 - accuracy: 0.89 - ETA: 0s - loss: 0.2842 - accuracy: 0.88 - ETA: 0s - loss: 0.2850 - accuracy: 0.88 - ETA: 0s - loss: 0.2891 - accuracy: 0.87 - ETA: 0s - loss: 0.2844 - accuracy: 0.88 - ETA: 0s - loss: 0.2794 - accuracy: 0.88 - ETA: 0s - loss: 0.2821 - accuracy: 0.88 - ETA: 0s - loss: 0.2804 - accuracy: 0.88 - 1s 3ms/step - loss: 0.2816 - accuracy: 0.8840 - val_loss: 0.3745 - val_accuracy: 0.8472\n",
      "Epoch 17/50\n",
      "235/235 [==============================] - ETA: 0s - loss: 0.1919 - accuracy: 0.96 - ETA: 0s - loss: 0.2868 - accuracy: 0.88 - ETA: 0s - loss: 0.2775 - accuracy: 0.89 - ETA: 0s - loss: 0.2754 - accuracy: 0.89 - ETA: 0s - loss: 0.2745 - accuracy: 0.89 - ETA: 0s - loss: 0.2759 - accuracy: 0.89 - ETA: 0s - loss: 0.2734 - accuracy: 0.88 - ETA: 0s - loss: 0.2747 - accuracy: 0.88 - ETA: 0s - loss: 0.2767 - accuracy: 0.88 - ETA: 0s - loss: 0.2758 - accuracy: 0.88 - 1s 2ms/step - loss: 0.2759 - accuracy: 0.8877 - val_loss: 0.3910 - val_accuracy: 0.8532\n",
      "Epoch 18/50\n",
      "235/235 [==============================] - ETA: 0s - loss: 0.2925 - accuracy: 0.87 - ETA: 0s - loss: 0.2583 - accuracy: 0.88 - ETA: 0s - loss: 0.2654 - accuracy: 0.88 - ETA: 0s - loss: 0.2578 - accuracy: 0.88 - ETA: 0s - loss: 0.2693 - accuracy: 0.88 - ETA: 0s - loss: 0.2727 - accuracy: 0.88 - ETA: 0s - loss: 0.2716 - accuracy: 0.88 - ETA: 0s - loss: 0.2740 - accuracy: 0.88 - ETA: 0s - loss: 0.2741 - accuracy: 0.88 - 1s 2ms/step - loss: 0.2736 - accuracy: 0.8847 - val_loss: 0.3788 - val_accuracy: 0.8504\n",
      "Epoch 19/50\n",
      "235/235 [==============================] - ETA: 0s - loss: 0.3503 - accuracy: 0.81 - ETA: 0s - loss: 0.2727 - accuracy: 0.89 - ETA: 0s - loss: 0.2798 - accuracy: 0.88 - ETA: 0s - loss: 0.2801 - accuracy: 0.88 - ETA: 0s - loss: 0.2678 - accuracy: 0.88 - ETA: 0s - loss: 0.2628 - accuracy: 0.89 - ETA: 0s - loss: 0.2643 - accuracy: 0.88 - ETA: 0s - loss: 0.2624 - accuracy: 0.89 - ETA: 0s - loss: 0.2613 - accuracy: 0.89 - ETA: 0s - loss: 0.2595 - accuracy: 0.89 - 1s 2ms/step - loss: 0.2608 - accuracy: 0.8909 - val_loss: 0.4206 - val_accuracy: 0.8448\n",
      "Epoch 20/50\n",
      "235/235 [==============================] - ETA: 0s - loss: 0.1248 - accuracy: 0.93 - ETA: 0s - loss: 0.2380 - accuracy: 0.89 - ETA: 0s - loss: 0.2439 - accuracy: 0.89 - ETA: 0s - loss: 0.2410 - accuracy: 0.89 - ETA: 0s - loss: 0.2425 - accuracy: 0.89 - ETA: 0s - loss: 0.2470 - accuracy: 0.89 - ETA: 0s - loss: 0.2481 - accuracy: 0.89 - ETA: 0s - loss: 0.2486 - accuracy: 0.89 - ETA: 0s - loss: 0.2544 - accuracy: 0.89 - ETA: 0s - loss: 0.2539 - accuracy: 0.89 - ETA: 0s - loss: 0.2556 - accuracy: 0.89 - 1s 3ms/step - loss: 0.2553 - accuracy: 0.8932 - val_loss: 0.4255 - val_accuracy: 0.8552\n",
      "Epoch 21/50\n",
      "235/235 [==============================] - ETA: 0s - loss: 0.2099 - accuracy: 0.90 - ETA: 0s - loss: 0.2329 - accuracy: 0.90 - ETA: 0s - loss: 0.2357 - accuracy: 0.90 - ETA: 0s - loss: 0.2362 - accuracy: 0.90 - ETA: 0s - loss: 0.2408 - accuracy: 0.90 - ETA: 0s - loss: 0.2437 - accuracy: 0.90 - ETA: 0s - loss: 0.2524 - accuracy: 0.89 - ETA: 0s - loss: 0.2529 - accuracy: 0.89 - ETA: 0s - loss: 0.2531 - accuracy: 0.89 - 1s 2ms/step - loss: 0.2542 - accuracy: 0.8953 - val_loss: 0.4038 - val_accuracy: 0.8492\n",
      "Epoch 22/50\n",
      "235/235 [==============================] - ETA: 0s - loss: 0.1707 - accuracy: 0.93 - ETA: 0s - loss: 0.2332 - accuracy: 0.90 - ETA: 0s - loss: 0.2404 - accuracy: 0.89 - ETA: 0s - loss: 0.2447 - accuracy: 0.89 - ETA: 0s - loss: 0.2485 - accuracy: 0.89 - ETA: 0s - loss: 0.2475 - accuracy: 0.89 - ETA: 0s - loss: 0.2468 - accuracy: 0.89 - ETA: 0s - loss: 0.2456 - accuracy: 0.89 - ETA: 0s - loss: 0.2430 - accuracy: 0.89 - 1s 2ms/step - loss: 0.2430 - accuracy: 0.8967 - val_loss: 0.4307 - val_accuracy: 0.8504\n",
      "Epoch 23/50\n",
      "235/235 [==============================] - ETA: 0s - loss: 0.2159 - accuracy: 0.87 - ETA: 0s - loss: 0.2239 - accuracy: 0.90 - ETA: 0s - loss: 0.2252 - accuracy: 0.90 - ETA: 0s - loss: 0.2238 - accuracy: 0.90 - ETA: 0s - loss: 0.2297 - accuracy: 0.90 - ETA: 0s - loss: 0.2278 - accuracy: 0.90 - ETA: 0s - loss: 0.2284 - accuracy: 0.90 - ETA: 0s - loss: 0.2281 - accuracy: 0.90 - ETA: 0s - loss: 0.2346 - accuracy: 0.89 - ETA: 0s - loss: 0.2376 - accuracy: 0.89 - 1s 2ms/step - loss: 0.2375 - accuracy: 0.8983 - val_loss: 0.4592 - val_accuracy: 0.8452\n",
      "Epoch 24/50\n",
      "235/235 [==============================] - ETA: 0s - loss: 0.2146 - accuracy: 0.90 - ETA: 0s - loss: 0.1965 - accuracy: 0.92 - ETA: 0s - loss: 0.2183 - accuracy: 0.91 - ETA: 0s - loss: 0.2189 - accuracy: 0.90 - ETA: 0s - loss: 0.2329 - accuracy: 0.90 - ETA: 0s - loss: 0.2364 - accuracy: 0.90 - ETA: 0s - loss: 0.2363 - accuracy: 0.89 - ETA: 0s - loss: 0.2391 - accuracy: 0.89 - ETA: 0s - loss: 0.2338 - accuracy: 0.90 - ETA: 0s - loss: 0.2354 - accuracy: 0.90 - 1s 3ms/step - loss: 0.2347 - accuracy: 0.8997 - val_loss: 0.4419 - val_accuracy: 0.8440\n",
      "Epoch 25/50\n",
      "235/235 [==============================] - ETA: 0s - loss: 0.2531 - accuracy: 0.87 - ETA: 0s - loss: 0.2127 - accuracy: 0.90 - ETA: 0s - loss: 0.2254 - accuracy: 0.90 - ETA: 0s - loss: 0.2243 - accuracy: 0.90 - ETA: 0s - loss: 0.2240 - accuracy: 0.90 - ETA: 0s - loss: 0.2183 - accuracy: 0.90 - ETA: 0s - loss: 0.2187 - accuracy: 0.90 - ETA: 0s - loss: 0.2182 - accuracy: 0.90 - ETA: 0s - loss: 0.2218 - accuracy: 0.90 - ETA: 0s - loss: 0.2202 - accuracy: 0.90 - 1s 3ms/step - loss: 0.2209 - accuracy: 0.9063 - val_loss: 0.4589 - val_accuracy: 0.8364\n",
      "Epoch 26/50\n",
      "235/235 [==============================] - ETA: 0s - loss: 0.1523 - accuracy: 0.96 - ETA: 0s - loss: 0.2181 - accuracy: 0.91 - ETA: 0s - loss: 0.2144 - accuracy: 0.91 - ETA: 0s - loss: 0.2087 - accuracy: 0.91 - ETA: 0s - loss: 0.2150 - accuracy: 0.90 - ETA: 0s - loss: 0.2160 - accuracy: 0.90 - ETA: 0s - loss: 0.2175 - accuracy: 0.90 - ETA: 0s - loss: 0.2143 - accuracy: 0.90 - ETA: 0s - loss: 0.2157 - accuracy: 0.90 - ETA: 0s - loss: 0.2174 - accuracy: 0.90 - 1s 2ms/step - loss: 0.2172 - accuracy: 0.9067 - val_loss: 0.4561 - val_accuracy: 0.8304\n",
      "Epoch 27/50\n",
      "235/235 [==============================] - ETA: 0s - loss: 0.2102 - accuracy: 0.87 - ETA: 0s - loss: 0.1879 - accuracy: 0.90 - ETA: 0s - loss: 0.1941 - accuracy: 0.91 - ETA: 0s - loss: 0.1930 - accuracy: 0.91 - ETA: 0s - loss: 0.1982 - accuracy: 0.91 - ETA: 0s - loss: 0.2070 - accuracy: 0.91 - ETA: 0s - loss: 0.2076 - accuracy: 0.91 - ETA: 0s - loss: 0.2105 - accuracy: 0.90 - ETA: 0s - loss: 0.2076 - accuracy: 0.90 - 1s 2ms/step - loss: 0.2114 - accuracy: 0.9079 - val_loss: 0.4428 - val_accuracy: 0.8436\n",
      "Epoch 28/50\n",
      "235/235 [==============================] - ETA: 0s - loss: 0.1442 - accuracy: 0.96 - ETA: 0s - loss: 0.1897 - accuracy: 0.91 - ETA: 0s - loss: 0.1908 - accuracy: 0.91 - ETA: 0s - loss: 0.2000 - accuracy: 0.91 - ETA: 0s - loss: 0.2107 - accuracy: 0.90 - ETA: 0s - loss: 0.2084 - accuracy: 0.90 - ETA: 0s - loss: 0.2086 - accuracy: 0.90 - ETA: 0s - loss: 0.2098 - accuracy: 0.90 - ETA: 0s - loss: 0.2069 - accuracy: 0.90 - 1s 2ms/step - loss: 0.2078 - accuracy: 0.9100 - val_loss: 0.4743 - val_accuracy: 0.8460\n",
      "Epoch 29/50\n",
      "235/235 [==============================] - ETA: 0s - loss: 0.1610 - accuracy: 0.93 - ETA: 0s - loss: 0.2155 - accuracy: 0.90 - ETA: 0s - loss: 0.1976 - accuracy: 0.90 - ETA: 0s - loss: 0.1897 - accuracy: 0.91 - ETA: 0s - loss: 0.1906 - accuracy: 0.91 - ETA: 0s - loss: 0.1970 - accuracy: 0.91 - ETA: 0s - loss: 0.1968 - accuracy: 0.91 - ETA: 0s - loss: 0.1982 - accuracy: 0.90 - ETA: 0s - loss: 0.1965 - accuracy: 0.91 - ETA: 0s - loss: 0.1993 - accuracy: 0.91 - ETA: 0s - loss: 0.2003 - accuracy: 0.91 - 1s 3ms/step - loss: 0.2013 - accuracy: 0.9112 - val_loss: 0.5052 - val_accuracy: 0.8528\n"
     ]
    },
    {
     "name": "stdout",
     "output_type": "stream",
     "text": [
      "Epoch 30/50\n",
      "235/235 [==============================] - ETA: 0s - loss: 0.1915 - accuracy: 0.93 - ETA: 0s - loss: 0.1646 - accuracy: 0.92 - ETA: 0s - loss: 0.1730 - accuracy: 0.92 - ETA: 0s - loss: 0.1782 - accuracy: 0.92 - ETA: 0s - loss: 0.1843 - accuracy: 0.91 - ETA: 0s - loss: 0.1885 - accuracy: 0.91 - ETA: 0s - loss: 0.1937 - accuracy: 0.91 - ETA: 0s - loss: 0.1972 - accuracy: 0.91 - ETA: 0s - loss: 0.1962 - accuracy: 0.91 - ETA: 0s - loss: 0.1951 - accuracy: 0.91 - 1s 2ms/step - loss: 0.1939 - accuracy: 0.9139 - val_loss: 0.6720 - val_accuracy: 0.8492\n",
      "Epoch 31/50\n",
      "235/235 [==============================] - ETA: 0s - loss: 0.1801 - accuracy: 0.93 - ETA: 0s - loss: 0.2360 - accuracy: 0.89 - ETA: 0s - loss: 0.2126 - accuracy: 0.90 - ETA: 0s - loss: 0.2001 - accuracy: 0.91 - ETA: 0s - loss: 0.2044 - accuracy: 0.90 - ETA: 0s - loss: 0.2017 - accuracy: 0.90 - ETA: 0s - loss: 0.1985 - accuracy: 0.91 - ETA: 0s - loss: 0.1975 - accuracy: 0.91 - 0s 2ms/step - loss: 0.2008 - accuracy: 0.9080 - val_loss: 0.5506 - val_accuracy: 0.8308\n",
      "Epoch 32/50\n",
      "235/235 [==============================] - ETA: 0s - loss: 0.2129 - accuracy: 0.87 - ETA: 0s - loss: 0.1977 - accuracy: 0.91 - ETA: 0s - loss: 0.1948 - accuracy: 0.91 - ETA: 0s - loss: 0.1831 - accuracy: 0.91 - ETA: 0s - loss: 0.1797 - accuracy: 0.92 - ETA: 0s - loss: 0.1831 - accuracy: 0.91 - ETA: 0s - loss: 0.1831 - accuracy: 0.91 - ETA: 0s - loss: 0.1839 - accuracy: 0.91 - ETA: 0s - loss: 0.1842 - accuracy: 0.91 - 1s 2ms/step - loss: 0.1842 - accuracy: 0.9180 - val_loss: 0.6272 - val_accuracy: 0.8384\n",
      "Epoch 33/50\n",
      "235/235 [==============================] - ETA: 0s - loss: 0.1709 - accuracy: 0.93 - ETA: 0s - loss: 0.1332 - accuracy: 0.94 - ETA: 0s - loss: 0.1421 - accuracy: 0.94 - ETA: 0s - loss: 0.1634 - accuracy: 0.92 - ETA: 0s - loss: 0.1722 - accuracy: 0.91 - ETA: 0s - loss: 0.1734 - accuracy: 0.92 - ETA: 0s - loss: 0.1765 - accuracy: 0.91 - ETA: 0s - loss: 0.1795 - accuracy: 0.91 - ETA: 0s - loss: 0.1752 - accuracy: 0.91 - 0s 2ms/step - loss: 0.1752 - accuracy: 0.9181 - val_loss: 0.7067 - val_accuracy: 0.8496\n",
      "Epoch 34/50\n",
      "235/235 [==============================] - ETA: 0s - loss: 0.3899 - accuracy: 0.84 - ETA: 0s - loss: 0.1725 - accuracy: 0.92 - ETA: 0s - loss: 0.1682 - accuracy: 0.92 - ETA: 0s - loss: 0.1733 - accuracy: 0.91 - ETA: 0s - loss: 0.1660 - accuracy: 0.92 - ETA: 0s - loss: 0.1682 - accuracy: 0.91 - ETA: 0s - loss: 0.1723 - accuracy: 0.91 - ETA: 0s - loss: 0.1706 - accuracy: 0.91 - ETA: 0s - loss: 0.1687 - accuracy: 0.91 - 0s 2ms/step - loss: 0.1687 - accuracy: 0.9192 - val_loss: 0.6789 - val_accuracy: 0.8312\n",
      "Epoch 35/50\n",
      "235/235 [==============================] - ETA: 0s - loss: 0.1935 - accuracy: 0.90 - ETA: 0s - loss: 0.1397 - accuracy: 0.93 - ETA: 0s - loss: 0.1333 - accuracy: 0.93 - ETA: 0s - loss: 0.1429 - accuracy: 0.92 - ETA: 0s - loss: 0.1489 - accuracy: 0.92 - ETA: 0s - loss: 0.1588 - accuracy: 0.92 - ETA: 0s - loss: 0.1631 - accuracy: 0.92 - ETA: 0s - loss: 0.1639 - accuracy: 0.92 - 0s 2ms/step - loss: 0.1651 - accuracy: 0.9231 - val_loss: 0.7467 - val_accuracy: 0.8280\n",
      "Epoch 36/50\n",
      "235/235 [==============================] - ETA: 0s - loss: 0.1544 - accuracy: 0.87 - ETA: 0s - loss: 0.1243 - accuracy: 0.93 - ETA: 0s - loss: 0.1247 - accuracy: 0.94 - ETA: 0s - loss: 0.1301 - accuracy: 0.93 - ETA: 0s - loss: 0.1358 - accuracy: 0.93 - ETA: 0s - loss: 0.1421 - accuracy: 0.93 - ETA: 0s - loss: 0.1478 - accuracy: 0.92 - ETA: 0s - loss: 0.1526 - accuracy: 0.92 - 0s 2ms/step - loss: 0.1541 - accuracy: 0.9288 - val_loss: 0.6503 - val_accuracy: 0.8232\n",
      "Epoch 37/50\n",
      "235/235 [==============================] - ETA: 0s - loss: 0.1266 - accuracy: 0.96 - ETA: 0s - loss: 0.1388 - accuracy: 0.94 - ETA: 0s - loss: 0.1390 - accuracy: 0.93 - ETA: 0s - loss: 0.1452 - accuracy: 0.93 - ETA: 0s - loss: 0.1517 - accuracy: 0.93 - ETA: 0s - loss: 0.1514 - accuracy: 0.93 - ETA: 0s - loss: 0.1547 - accuracy: 0.92 - ETA: 0s - loss: 0.1547 - accuracy: 0.92 - ETA: 0s - loss: 0.1565 - accuracy: 0.92 - 1s 2ms/step - loss: 0.1568 - accuracy: 0.9279 - val_loss: 0.7029 - val_accuracy: 0.8252\n",
      "Epoch 38/50\n",
      "235/235 [==============================] - ETA: 0s - loss: 0.0914 - accuracy: 1.00 - ETA: 0s - loss: 0.1388 - accuracy: 0.93 - ETA: 0s - loss: 0.1485 - accuracy: 0.93 - ETA: 0s - loss: 0.1527 - accuracy: 0.92 - ETA: 0s - loss: 0.1492 - accuracy: 0.93 - ETA: 0s - loss: 0.1513 - accuracy: 0.93 - ETA: 0s - loss: 0.1513 - accuracy: 0.93 - ETA: 0s - loss: 0.1506 - accuracy: 0.93 - 1s 2ms/step - loss: 0.1523 - accuracy: 0.9303 - val_loss: 0.6843 - val_accuracy: 0.8340\n",
      "Epoch 39/50\n",
      "235/235 [==============================] - ETA: 0s - loss: 0.0852 - accuracy: 1.00 - ETA: 0s - loss: 0.1234 - accuracy: 0.94 - ETA: 0s - loss: 0.1191 - accuracy: 0.94 - ETA: 0s - loss: 0.1286 - accuracy: 0.94 - ETA: 0s - loss: 0.1331 - accuracy: 0.94 - ETA: 0s - loss: 0.1359 - accuracy: 0.94 - ETA: 0s - loss: 0.1384 - accuracy: 0.93 - ETA: 0s - loss: 0.1420 - accuracy: 0.93 - 0s 2ms/step - loss: 0.1440 - accuracy: 0.9363 - val_loss: 0.7496 - val_accuracy: 0.8108\n",
      "Epoch 40/50\n",
      "235/235 [==============================] - ETA: 0s - loss: 0.3078 - accuracy: 0.84 - ETA: 0s - loss: 0.1339 - accuracy: 0.94 - ETA: 0s - loss: 0.1272 - accuracy: 0.94 - ETA: 0s - loss: 0.1257 - accuracy: 0.94 - ETA: 0s - loss: 0.1320 - accuracy: 0.94 - ETA: 0s - loss: 0.1332 - accuracy: 0.94 - ETA: 0s - loss: 0.1347 - accuracy: 0.93 - ETA: 0s - loss: 0.1401 - accuracy: 0.93 - ETA: 0s - loss: 0.1411 - accuracy: 0.93 - 1s 2ms/step - loss: 0.1413 - accuracy: 0.9373 - val_loss: 0.6811 - val_accuracy: 0.8192\n",
      "Epoch 41/50\n",
      "235/235 [==============================] - ETA: 0s - loss: 0.0945 - accuracy: 0.96 - ETA: 0s - loss: 0.1313 - accuracy: 0.94 - ETA: 0s - loss: 0.1257 - accuracy: 0.94 - ETA: 0s - loss: 0.1250 - accuracy: 0.94 - ETA: 0s - loss: 0.1374 - accuracy: 0.94 - ETA: 0s - loss: 0.1410 - accuracy: 0.93 - ETA: 0s - loss: 0.1398 - accuracy: 0.93 - ETA: 0s - loss: 0.1381 - accuracy: 0.93 - ETA: 0s - loss: 0.1396 - accuracy: 0.93 - 1s 2ms/step - loss: 0.1396 - accuracy: 0.9373 - val_loss: 0.7193 - val_accuracy: 0.8084\n",
      "Epoch 42/50\n",
      "235/235 [==============================] - ETA: 0s - loss: 0.0746 - accuracy: 0.93 - ETA: 0s - loss: 0.1262 - accuracy: 0.94 - ETA: 0s - loss: 0.1411 - accuracy: 0.93 - ETA: 0s - loss: 0.1471 - accuracy: 0.93 - ETA: 0s - loss: 0.1409 - accuracy: 0.93 - ETA: 0s - loss: 0.1382 - accuracy: 0.93 - ETA: 0s - loss: 0.1415 - accuracy: 0.93 - ETA: 0s - loss: 0.1444 - accuracy: 0.93 - ETA: 0s - loss: 0.1446 - accuracy: 0.93 - 1s 2ms/step - loss: 0.1442 - accuracy: 0.9376 - val_loss: 0.7142 - val_accuracy: 0.8196\n",
      "Epoch 43/50\n",
      "235/235 [==============================] - ETA: 0s - loss: 0.1529 - accuracy: 0.90 - ETA: 0s - loss: 0.1148 - accuracy: 0.95 - ETA: 0s - loss: 0.1190 - accuracy: 0.95 - ETA: 0s - loss: 0.1219 - accuracy: 0.94 - ETA: 0s - loss: 0.1255 - accuracy: 0.94 - ETA: 0s - loss: 0.1328 - accuracy: 0.94 - ETA: 0s - loss: 0.1319 - accuracy: 0.94 - ETA: 0s - loss: 0.1301 - accuracy: 0.94 - ETA: 0s - loss: 0.1291 - accuracy: 0.94 - 1s 2ms/step - loss: 0.1302 - accuracy: 0.9429 - val_loss: 0.8422 - val_accuracy: 0.8196\n",
      "Epoch 44/50\n",
      "235/235 [==============================] - ETA: 0s - loss: 0.1090 - accuracy: 0.90 - ETA: 0s - loss: 0.1233 - accuracy: 0.93 - ETA: 0s - loss: 0.1213 - accuracy: 0.94 - ETA: 0s - loss: 0.1267 - accuracy: 0.94 - ETA: 0s - loss: 0.1265 - accuracy: 0.93 - ETA: 0s - loss: 0.1292 - accuracy: 0.93 - ETA: 0s - loss: 0.1319 - accuracy: 0.93 - ETA: 0s - loss: 0.1307 - accuracy: 0.93 - 0s 2ms/step - loss: 0.1296 - accuracy: 0.9377 - val_loss: 0.9671 - val_accuracy: 0.8144\n",
      "Epoch 45/50\n",
      "235/235 [==============================] - ETA: 0s - loss: 0.1298 - accuracy: 0.93 - ETA: 0s - loss: 0.1170 - accuracy: 0.94 - ETA: 0s - loss: 0.1235 - accuracy: 0.94 - ETA: 0s - loss: 0.1170 - accuracy: 0.94 - ETA: 0s - loss: 0.1199 - accuracy: 0.94 - ETA: 0s - loss: 0.1242 - accuracy: 0.94 - ETA: 0s - loss: 0.1255 - accuracy: 0.94 - ETA: 0s - loss: 0.1277 - accuracy: 0.94 - ETA: 0s - loss: 0.1266 - accuracy: 0.94 - 1s 2ms/step - loss: 0.1266 - accuracy: 0.9427 - val_loss: 1.0441 - val_accuracy: 0.8260\n",
      "Epoch 46/50\n"
     ]
    },
    {
     "name": "stdout",
     "output_type": "stream",
     "text": [
      "235/235 [==============================] - ETA: 0s - loss: 0.1253 - accuracy: 0.93 - ETA: 0s - loss: 0.1089 - accuracy: 0.94 - ETA: 0s - loss: 0.1083 - accuracy: 0.95 - ETA: 0s - loss: 0.1082 - accuracy: 0.94 - ETA: 0s - loss: 0.1137 - accuracy: 0.94 - ETA: 0s - loss: 0.1141 - accuracy: 0.94 - ETA: 0s - loss: 0.1150 - accuracy: 0.94 - ETA: 0s - loss: 0.1173 - accuracy: 0.94 - ETA: 0s - loss: 0.1190 - accuracy: 0.94 - 1s 2ms/step - loss: 0.1189 - accuracy: 0.9468 - val_loss: 0.9613 - val_accuracy: 0.8220\n",
      "Epoch 47/50\n",
      "235/235 [==============================] - ETA: 0s - loss: 0.0735 - accuracy: 0.96 - ETA: 0s - loss: 0.1117 - accuracy: 0.94 - ETA: 0s - loss: 0.1201 - accuracy: 0.94 - ETA: 0s - loss: 0.1193 - accuracy: 0.94 - ETA: 0s - loss: 0.1148 - accuracy: 0.94 - ETA: 0s - loss: 0.1155 - accuracy: 0.94 - ETA: 0s - loss: 0.1136 - accuracy: 0.95 - ETA: 0s - loss: 0.1159 - accuracy: 0.95 - 0s 2ms/step - loss: 0.1182 - accuracy: 0.9483 - val_loss: 0.7424 - val_accuracy: 0.8104\n",
      "Epoch 48/50\n",
      "235/235 [==============================] - ETA: 0s - loss: 0.1936 - accuracy: 0.90 - ETA: 0s - loss: 0.1095 - accuracy: 0.95 - ETA: 0s - loss: 0.1072 - accuracy: 0.95 - ETA: 0s - loss: 0.1057 - accuracy: 0.95 - ETA: 0s - loss: 0.1024 - accuracy: 0.95 - ETA: 0s - loss: 0.1028 - accuracy: 0.95 - ETA: 0s - loss: 0.1055 - accuracy: 0.95 - ETA: 0s - loss: 0.1087 - accuracy: 0.95 - 0s 2ms/step - loss: 0.1090 - accuracy: 0.9521 - val_loss: 0.8940 - val_accuracy: 0.8180\n",
      "Epoch 49/50\n",
      "235/235 [==============================] - ETA: 0s - loss: 0.0899 - accuracy: 0.93 - ETA: 0s - loss: 0.0921 - accuracy: 0.96 - ETA: 0s - loss: 0.0903 - accuracy: 0.96 - ETA: 0s - loss: 0.0945 - accuracy: 0.96 - ETA: 0s - loss: 0.1012 - accuracy: 0.95 - ETA: 0s - loss: 0.1073 - accuracy: 0.95 - ETA: 0s - loss: 0.1097 - accuracy: 0.95 - ETA: 0s - loss: 0.1110 - accuracy: 0.95 - ETA: 0s - loss: 0.1111 - accuracy: 0.95 - 1s 2ms/step - loss: 0.1112 - accuracy: 0.9503 - val_loss: 1.0755 - val_accuracy: 0.8196\n",
      "Epoch 50/50\n",
      "235/235 [==============================] - ETA: 0s - loss: 0.1657 - accuracy: 0.90 - ETA: 0s - loss: 0.0826 - accuracy: 0.96 - ETA: 0s - loss: 0.0938 - accuracy: 0.96 - ETA: 0s - loss: 0.0924 - accuracy: 0.96 - ETA: 0s - loss: 0.1013 - accuracy: 0.95 - ETA: 0s - loss: 0.1057 - accuracy: 0.95 - ETA: 0s - loss: 0.1074 - accuracy: 0.95 - ETA: 0s - loss: 0.1102 - accuracy: 0.95 - ETA: 0s - loss: 0.1092 - accuracy: 0.95 - 1s 2ms/step - loss: 0.1089 - accuracy: 0.9535 - val_loss: 1.0045 - val_accuracy: 0.8168\n",
      "Epoch 1/50\n",
      "235/235 [==============================] - ETA: 0s - loss: 0.6954 - accuracy: 0.21 - ETA: 0s - loss: 0.6349 - accuracy: 0.77 - ETA: 0s - loss: 0.5671 - accuracy: 0.77 - ETA: 0s - loss: 0.5157 - accuracy: 0.79 - ETA: 0s - loss: 0.4971 - accuracy: 0.79 - ETA: 0s - loss: 0.4820 - accuracy: 0.79 - ETA: 0s - loss: 0.4726 - accuracy: 0.79 - ETA: 0s - loss: 0.4628 - accuracy: 0.79 - ETA: 0s - loss: 0.4526 - accuracy: 0.80 - 1s 3ms/step - loss: 0.4513 - accuracy: 0.8039 - val_loss: 0.3786 - val_accuracy: 0.8404\n",
      "Epoch 2/50\n",
      "235/235 [==============================] - ETA: 0s - loss: 0.3611 - accuracy: 0.84 - ETA: 0s - loss: 0.3733 - accuracy: 0.83 - ETA: 0s - loss: 0.3604 - accuracy: 0.84 - ETA: 0s - loss: 0.3566 - accuracy: 0.85 - ETA: 0s - loss: 0.3557 - accuracy: 0.85 - ETA: 0s - loss: 0.3626 - accuracy: 0.84 - ETA: 0s - loss: 0.3597 - accuracy: 0.85 - ETA: 0s - loss: 0.3615 - accuracy: 0.85 - ETA: 0s - loss: 0.3637 - accuracy: 0.85 - 1s 2ms/step - loss: 0.3637 - accuracy: 0.8508 - val_loss: 0.3605 - val_accuracy: 0.8524\n",
      "Epoch 3/50\n",
      "235/235 [==============================] - ETA: 0s - loss: 0.4786 - accuracy: 0.75 - ETA: 0s - loss: 0.3567 - accuracy: 0.85 - ETA: 0s - loss: 0.3356 - accuracy: 0.85 - ETA: 0s - loss: 0.3481 - accuracy: 0.85 - ETA: 0s - loss: 0.3431 - accuracy: 0.85 - ETA: 0s - loss: 0.3494 - accuracy: 0.85 - ETA: 0s - loss: 0.3438 - accuracy: 0.85 - ETA: 0s - loss: 0.3488 - accuracy: 0.85 - 0s 2ms/step - loss: 0.3488 - accuracy: 0.8573 - val_loss: 0.3501 - val_accuracy: 0.8560\n",
      "Epoch 4/50\n",
      "235/235 [==============================] - ETA: 0s - loss: 0.4891 - accuracy: 0.71 - ETA: 0s - loss: 0.3714 - accuracy: 0.84 - ETA: 0s - loss: 0.3538 - accuracy: 0.85 - ETA: 0s - loss: 0.3600 - accuracy: 0.85 - ETA: 0s - loss: 0.3526 - accuracy: 0.85 - ETA: 0s - loss: 0.3434 - accuracy: 0.85 - ETA: 0s - loss: 0.3394 - accuracy: 0.85 - ETA: 0s - loss: 0.3417 - accuracy: 0.85 - 0s 2ms/step - loss: 0.3409 - accuracy: 0.8599 - val_loss: 0.3422 - val_accuracy: 0.8616\n",
      "Epoch 5/50\n",
      "235/235 [==============================] - ETA: 0s - loss: 0.5016 - accuracy: 0.75 - ETA: 0s - loss: 0.3035 - accuracy: 0.87 - ETA: 0s - loss: 0.3247 - accuracy: 0.86 - ETA: 0s - loss: 0.3284 - accuracy: 0.86 - ETA: 0s - loss: 0.3281 - accuracy: 0.86 - ETA: 0s - loss: 0.3367 - accuracy: 0.86 - ETA: 0s - loss: 0.3339 - accuracy: 0.86 - ETA: 0s - loss: 0.3355 - accuracy: 0.86 - 0s 2ms/step - loss: 0.3348 - accuracy: 0.8632 - val_loss: 0.3392 - val_accuracy: 0.8608\n",
      "Epoch 6/50\n",
      "235/235 [==============================] - ETA: 0s - loss: 0.5113 - accuracy: 0.78 - ETA: 0s - loss: 0.3187 - accuracy: 0.87 - ETA: 0s - loss: 0.3259 - accuracy: 0.87 - ETA: 0s - loss: 0.3144 - accuracy: 0.87 - ETA: 0s - loss: 0.3232 - accuracy: 0.87 - ETA: 0s - loss: 0.3245 - accuracy: 0.87 - ETA: 0s - loss: 0.3268 - accuracy: 0.87 - ETA: 0s - loss: 0.3295 - accuracy: 0.86 - ETA: 0s - loss: 0.3330 - accuracy: 0.86 - 1s 2ms/step - loss: 0.3328 - accuracy: 0.8675 - val_loss: 0.3473 - val_accuracy: 0.8552\n",
      "Epoch 7/50\n",
      "235/235 [==============================] - ETA: 0s - loss: 0.1885 - accuracy: 0.90 - ETA: 0s - loss: 0.2975 - accuracy: 0.88 - ETA: 0s - loss: 0.3155 - accuracy: 0.87 - ETA: 0s - loss: 0.3219 - accuracy: 0.87 - ETA: 0s - loss: 0.3293 - accuracy: 0.86 - ETA: 0s - loss: 0.3291 - accuracy: 0.86 - ETA: 0s - loss: 0.3232 - accuracy: 0.87 - ETA: 0s - loss: 0.3258 - accuracy: 0.86 - 0s 2ms/step - loss: 0.3287 - accuracy: 0.8664 - val_loss: 0.3564 - val_accuracy: 0.8612\n",
      "Epoch 8/50\n",
      "235/235 [==============================] - ETA: 0s - loss: 0.3003 - accuracy: 0.93 - ETA: 0s - loss: 0.3111 - accuracy: 0.86 - ETA: 0s - loss: 0.3214 - accuracy: 0.86 - ETA: 0s - loss: 0.3281 - accuracy: 0.86 - ETA: 0s - loss: 0.3332 - accuracy: 0.86 - ETA: 0s - loss: 0.3264 - accuracy: 0.86 - ETA: 0s - loss: 0.3266 - accuracy: 0.86 - ETA: 0s - loss: 0.3257 - accuracy: 0.86 - 0s 2ms/step - loss: 0.3220 - accuracy: 0.8695 - val_loss: 0.3479 - val_accuracy: 0.8596\n",
      "Epoch 9/50\n",
      "235/235 [==============================] - ETA: 0s - loss: 0.1240 - accuracy: 0.96 - ETA: 0s - loss: 0.3300 - accuracy: 0.86 - ETA: 0s - loss: 0.3158 - accuracy: 0.87 - ETA: 0s - loss: 0.3195 - accuracy: 0.86 - ETA: 0s - loss: 0.3201 - accuracy: 0.86 - ETA: 0s - loss: 0.3250 - accuracy: 0.86 - ETA: 0s - loss: 0.3238 - accuracy: 0.86 - ETA: 0s - loss: 0.3197 - accuracy: 0.87 - 0s 2ms/step - loss: 0.3203 - accuracy: 0.8699 - val_loss: 0.3534 - val_accuracy: 0.8520\n",
      "Epoch 10/50\n",
      "235/235 [==============================] - ETA: 0s - loss: 0.2876 - accuracy: 0.90 - ETA: 0s - loss: 0.3184 - accuracy: 0.86 - ETA: 0s - loss: 0.3197 - accuracy: 0.86 - ETA: 0s - loss: 0.3101 - accuracy: 0.86 - ETA: 0s - loss: 0.3187 - accuracy: 0.86 - ETA: 0s - loss: 0.3167 - accuracy: 0.86 - ETA: 0s - loss: 0.3224 - accuracy: 0.86 - ETA: 0s - loss: 0.3219 - accuracy: 0.86 - 0s 2ms/step - loss: 0.3218 - accuracy: 0.8675 - val_loss: 0.3465 - val_accuracy: 0.8620\n",
      "Epoch 11/50\n",
      "235/235 [==============================] - ETA: 0s - loss: 0.2664 - accuracy: 0.84 - ETA: 0s - loss: 0.3258 - accuracy: 0.85 - ETA: 0s - loss: 0.3061 - accuracy: 0.86 - ETA: 0s - loss: 0.3113 - accuracy: 0.86 - ETA: 0s - loss: 0.3196 - accuracy: 0.85 - ETA: 0s - loss: 0.3187 - accuracy: 0.86 - ETA: 0s - loss: 0.3146 - accuracy: 0.86 - ETA: 0s - loss: 0.3174 - accuracy: 0.86 - 0s 2ms/step - loss: 0.3179 - accuracy: 0.8680 - val_loss: 0.3560 - val_accuracy: 0.8400\n",
      "Epoch 12/50\n"
     ]
    },
    {
     "name": "stdout",
     "output_type": "stream",
     "text": [
      "235/235 [==============================] - ETA: 0s - loss: 0.3037 - accuracy: 0.87 - ETA: 0s - loss: 0.2853 - accuracy: 0.89 - ETA: 0s - loss: 0.2857 - accuracy: 0.89 - ETA: 0s - loss: 0.2974 - accuracy: 0.88 - ETA: 0s - loss: 0.3011 - accuracy: 0.87 - ETA: 0s - loss: 0.3070 - accuracy: 0.87 - ETA: 0s - loss: 0.3090 - accuracy: 0.87 - ETA: 0s - loss: 0.3083 - accuracy: 0.87 - ETA: 0s - loss: 0.3116 - accuracy: 0.86 - 1s 2ms/step - loss: 0.3116 - accuracy: 0.8699 - val_loss: 0.3507 - val_accuracy: 0.8568\n",
      "Epoch 13/50\n",
      "235/235 [==============================] - ETA: 0s - loss: 0.2681 - accuracy: 0.93 - ETA: 0s - loss: 0.2976 - accuracy: 0.87 - ETA: 0s - loss: 0.3019 - accuracy: 0.86 - ETA: 0s - loss: 0.3034 - accuracy: 0.87 - ETA: 0s - loss: 0.3067 - accuracy: 0.86 - ETA: 0s - loss: 0.3048 - accuracy: 0.86 - ETA: 0s - loss: 0.3052 - accuracy: 0.86 - ETA: 0s - loss: 0.3069 - accuracy: 0.86 - 0s 2ms/step - loss: 0.3072 - accuracy: 0.8701 - val_loss: 0.3489 - val_accuracy: 0.8568\n",
      "Epoch 14/50\n",
      "235/235 [==============================] - ETA: 0s - loss: 0.3181 - accuracy: 0.90 - ETA: 0s - loss: 0.2998 - accuracy: 0.87 - ETA: 0s - loss: 0.2945 - accuracy: 0.87 - ETA: 0s - loss: 0.2967 - accuracy: 0.87 - ETA: 0s - loss: 0.2908 - accuracy: 0.88 - ETA: 0s - loss: 0.2904 - accuracy: 0.88 - ETA: 0s - loss: 0.2936 - accuracy: 0.88 - ETA: 0s - loss: 0.2966 - accuracy: 0.87 - ETA: 0s - loss: 0.2996 - accuracy: 0.87 - 1s 2ms/step - loss: 0.3003 - accuracy: 0.8755 - val_loss: 0.3465 - val_accuracy: 0.8584\n",
      "Epoch 15/50\n",
      "235/235 [==============================] - ETA: 0s - loss: 0.3815 - accuracy: 0.87 - ETA: 0s - loss: 0.2986 - accuracy: 0.87 - ETA: 0s - loss: 0.2763 - accuracy: 0.88 - ETA: 0s - loss: 0.2857 - accuracy: 0.88 - ETA: 0s - loss: 0.2867 - accuracy: 0.88 - ETA: 0s - loss: 0.2837 - accuracy: 0.88 - ETA: 0s - loss: 0.2873 - accuracy: 0.88 - ETA: 0s - loss: 0.2877 - accuracy: 0.88 - ETA: 0s - loss: 0.2915 - accuracy: 0.88 - 1s 2ms/step - loss: 0.2911 - accuracy: 0.8808 - val_loss: 0.3702 - val_accuracy: 0.8560\n",
      "Epoch 16/50\n",
      "235/235 [==============================] - ETA: 0s - loss: 0.1883 - accuracy: 0.93 - ETA: 0s - loss: 0.2791 - accuracy: 0.88 - ETA: 0s - loss: 0.2850 - accuracy: 0.88 - ETA: 0s - loss: 0.2814 - accuracy: 0.88 - ETA: 0s - loss: 0.2846 - accuracy: 0.88 - ETA: 0s - loss: 0.2844 - accuracy: 0.88 - ETA: 0s - loss: 0.2888 - accuracy: 0.87 - ETA: 0s - loss: 0.2902 - accuracy: 0.87 - 0s 2ms/step - loss: 0.2915 - accuracy: 0.8780 - val_loss: 0.3577 - val_accuracy: 0.8524\n",
      "Epoch 17/50\n",
      "235/235 [==============================] - ETA: 0s - loss: 0.4041 - accuracy: 0.84 - ETA: 0s - loss: 0.2683 - accuracy: 0.89 - ETA: 0s - loss: 0.2661 - accuracy: 0.88 - ETA: 0s - loss: 0.2749 - accuracy: 0.88 - ETA: 0s - loss: 0.2778 - accuracy: 0.88 - ETA: 0s - loss: 0.2810 - accuracy: 0.88 - ETA: 0s - loss: 0.2809 - accuracy: 0.88 - ETA: 0s - loss: 0.2798 - accuracy: 0.88 - 0s 2ms/step - loss: 0.2819 - accuracy: 0.8815 - val_loss: 0.3586 - val_accuracy: 0.8552\n",
      "Epoch 18/50\n",
      "235/235 [==============================] - ETA: 0s - loss: 0.2506 - accuracy: 0.90 - ETA: 0s - loss: 0.2632 - accuracy: 0.88 - ETA: 0s - loss: 0.2690 - accuracy: 0.88 - ETA: 0s - loss: 0.2710 - accuracy: 0.88 - ETA: 0s - loss: 0.2719 - accuracy: 0.88 - ETA: 0s - loss: 0.2780 - accuracy: 0.88 - ETA: 0s - loss: 0.2751 - accuracy: 0.88 - ETA: 0s - loss: 0.2747 - accuracy: 0.88 - 0s 2ms/step - loss: 0.2759 - accuracy: 0.8817 - val_loss: 0.3602 - val_accuracy: 0.8552\n",
      "Epoch 19/50\n",
      "235/235 [==============================] - ETA: 0s - loss: 0.3065 - accuracy: 0.87 - ETA: 0s - loss: 0.2331 - accuracy: 0.90 - ETA: 0s - loss: 0.2542 - accuracy: 0.88 - ETA: 0s - loss: 0.2590 - accuracy: 0.88 - ETA: 0s - loss: 0.2634 - accuracy: 0.88 - ETA: 0s - loss: 0.2658 - accuracy: 0.88 - ETA: 0s - loss: 0.2643 - accuracy: 0.88 - ETA: 0s - loss: 0.2667 - accuracy: 0.88 - ETA: 0s - loss: 0.2719 - accuracy: 0.88 - 1s 2ms/step - loss: 0.2714 - accuracy: 0.8848 - val_loss: 0.3965 - val_accuracy: 0.8516\n",
      "Epoch 20/50\n",
      "235/235 [==============================] - ETA: 0s - loss: 0.0916 - accuracy: 0.96 - ETA: 0s - loss: 0.2682 - accuracy: 0.88 - ETA: 0s - loss: 0.2480 - accuracy: 0.89 - ETA: 0s - loss: 0.2545 - accuracy: 0.89 - ETA: 0s - loss: 0.2510 - accuracy: 0.89 - ETA: 0s - loss: 0.2571 - accuracy: 0.89 - ETA: 0s - loss: 0.2551 - accuracy: 0.89 - ETA: 0s - loss: 0.2595 - accuracy: 0.89 - ETA: 0s - loss: 0.2648 - accuracy: 0.88 - 1s 2ms/step - loss: 0.2652 - accuracy: 0.8880 - val_loss: 0.3716 - val_accuracy: 0.8520\n",
      "Epoch 21/50\n",
      "235/235 [==============================] - ETA: 0s - loss: 0.2575 - accuracy: 0.90 - ETA: 0s - loss: 0.2186 - accuracy: 0.90 - ETA: 0s - loss: 0.2548 - accuracy: 0.89 - ETA: 0s - loss: 0.2480 - accuracy: 0.89 - ETA: 0s - loss: 0.2478 - accuracy: 0.89 - ETA: 0s - loss: 0.2531 - accuracy: 0.89 - ETA: 0s - loss: 0.2569 - accuracy: 0.89 - ETA: 0s - loss: 0.2555 - accuracy: 0.89 - ETA: 0s - loss: 0.2593 - accuracy: 0.88 - 1s 2ms/step - loss: 0.2589 - accuracy: 0.8888 - val_loss: 0.4058 - val_accuracy: 0.8424\n",
      "Epoch 22/50\n",
      "235/235 [==============================] - ETA: 0s - loss: 0.3233 - accuracy: 0.87 - ETA: 0s - loss: 0.2489 - accuracy: 0.89 - ETA: 0s - loss: 0.2496 - accuracy: 0.89 - ETA: 0s - loss: 0.2500 - accuracy: 0.89 - ETA: 0s - loss: 0.2474 - accuracy: 0.89 - ETA: 0s - loss: 0.2533 - accuracy: 0.89 - ETA: 0s - loss: 0.2559 - accuracy: 0.89 - ETA: 0s - loss: 0.2555 - accuracy: 0.89 - ETA: 0s - loss: 0.2554 - accuracy: 0.88 - ETA: 0s - loss: 0.2560 - accuracy: 0.88 - ETA: 0s - loss: 0.2595 - accuracy: 0.88 - 1s 3ms/step - loss: 0.2580 - accuracy: 0.8872 - val_loss: 0.3880 - val_accuracy: 0.8532\n",
      "Epoch 23/50\n",
      "235/235 [==============================] - ETA: 0s - loss: 0.3403 - accuracy: 0.81 - ETA: 0s - loss: 0.2416 - accuracy: 0.88 - ETA: 0s - loss: 0.2468 - accuracy: 0.89 - ETA: 0s - loss: 0.2483 - accuracy: 0.89 - ETA: 0s - loss: 0.2551 - accuracy: 0.89 - ETA: 0s - loss: 0.2560 - accuracy: 0.89 - ETA: 0s - loss: 0.2541 - accuracy: 0.89 - ETA: 0s - loss: 0.2524 - accuracy: 0.89 - 0s 2ms/step - loss: 0.2498 - accuracy: 0.8924 - val_loss: 0.4579 - val_accuracy: 0.8376\n",
      "Epoch 24/50\n",
      "235/235 [==============================] - ETA: 0s - loss: 0.2871 - accuracy: 0.90 - ETA: 0s - loss: 0.2255 - accuracy: 0.90 - ETA: 0s - loss: 0.2191 - accuracy: 0.90 - ETA: 0s - loss: 0.2303 - accuracy: 0.90 - ETA: 0s - loss: 0.2465 - accuracy: 0.89 - ETA: 0s - loss: 0.2432 - accuracy: 0.89 - ETA: 0s - loss: 0.2439 - accuracy: 0.89 - ETA: 0s - loss: 0.2440 - accuracy: 0.89 - ETA: 0s - loss: 0.2449 - accuracy: 0.89 - 1s 2ms/step - loss: 0.2452 - accuracy: 0.8952 - val_loss: 0.4084 - val_accuracy: 0.8504\n",
      "Epoch 25/50\n",
      "235/235 [==============================] - ETA: 0s - loss: 0.0903 - accuracy: 0.96 - ETA: 0s - loss: 0.2086 - accuracy: 0.91 - ETA: 0s - loss: 0.2163 - accuracy: 0.90 - ETA: 0s - loss: 0.2223 - accuracy: 0.90 - ETA: 0s - loss: 0.2228 - accuracy: 0.90 - ETA: 0s - loss: 0.2270 - accuracy: 0.90 - ETA: 0s - loss: 0.2312 - accuracy: 0.89 - ETA: 0s - loss: 0.2340 - accuracy: 0.89 - ETA: 0s - loss: 0.2339 - accuracy: 0.89 - ETA: 0s - loss: 0.2335 - accuracy: 0.89 - 1s 3ms/step - loss: 0.2356 - accuracy: 0.8956 - val_loss: 0.4289 - val_accuracy: 0.8496\n",
      "Epoch 26/50\n",
      "235/235 [==============================] - ETA: 0s - loss: 0.2009 - accuracy: 0.93 - ETA: 0s - loss: 0.2123 - accuracy: 0.90 - ETA: 0s - loss: 0.2026 - accuracy: 0.90 - ETA: 0s - loss: 0.2145 - accuracy: 0.90 - ETA: 0s - loss: 0.2079 - accuracy: 0.90 - ETA: 0s - loss: 0.2165 - accuracy: 0.90 - ETA: 0s - loss: 0.2153 - accuracy: 0.90 - ETA: 0s - loss: 0.2192 - accuracy: 0.89 - ETA: 0s - loss: 0.2244 - accuracy: 0.89 - ETA: 0s - loss: 0.2287 - accuracy: 0.89 - ETA: 0s - loss: 0.2260 - accuracy: 0.89 - 1s 3ms/step - loss: 0.2262 - accuracy: 0.8959 - val_loss: 0.5081 - val_accuracy: 0.8344\n",
      "Epoch 27/50\n"
     ]
    },
    {
     "name": "stdout",
     "output_type": "stream",
     "text": [
      "235/235 [==============================] - ETA: 0s - loss: 0.1153 - accuracy: 0.96 - ETA: 0s - loss: 0.2023 - accuracy: 0.91 - ETA: 0s - loss: 0.1970 - accuracy: 0.91 - ETA: 0s - loss: 0.2116 - accuracy: 0.90 - ETA: 0s - loss: 0.2145 - accuracy: 0.90 - ETA: 0s - loss: 0.2147 - accuracy: 0.90 - ETA: 0s - loss: 0.2140 - accuracy: 0.90 - ETA: 0s - loss: 0.2136 - accuracy: 0.90 - ETA: 0s - loss: 0.2169 - accuracy: 0.90 - ETA: 0s - loss: 0.2161 - accuracy: 0.90 - ETA: 0s - loss: 0.2169 - accuracy: 0.90 - 1s 3ms/step - loss: 0.2176 - accuracy: 0.9032 - val_loss: 0.4750 - val_accuracy: 0.8400\n",
      "Epoch 28/50\n",
      "235/235 [==============================] - ETA: 0s - loss: 0.2238 - accuracy: 0.90 - ETA: 0s - loss: 0.2033 - accuracy: 0.90 - ETA: 0s - loss: 0.2048 - accuracy: 0.90 - ETA: 0s - loss: 0.2117 - accuracy: 0.90 - ETA: 0s - loss: 0.2026 - accuracy: 0.91 - ETA: 0s - loss: 0.2049 - accuracy: 0.90 - ETA: 0s - loss: 0.2108 - accuracy: 0.90 - ETA: 0s - loss: 0.2099 - accuracy: 0.90 - ETA: 0s - loss: 0.2107 - accuracy: 0.90 - ETA: 0s - loss: 0.2135 - accuracy: 0.90 - 1s 3ms/step - loss: 0.2128 - accuracy: 0.9027 - val_loss: 0.4735 - val_accuracy: 0.8416\n",
      "Epoch 29/50\n",
      "235/235 [==============================] - ETA: 0s - loss: 0.2159 - accuracy: 0.90 - ETA: 0s - loss: 0.2127 - accuracy: 0.90 - ETA: 0s - loss: 0.2180 - accuracy: 0.90 - ETA: 0s - loss: 0.2156 - accuracy: 0.90 - ETA: 0s - loss: 0.2144 - accuracy: 0.90 - ETA: 0s - loss: 0.2067 - accuracy: 0.90 - ETA: 0s - loss: 0.2052 - accuracy: 0.90 - ETA: 0s - loss: 0.2069 - accuracy: 0.90 - ETA: 0s - loss: 0.2055 - accuracy: 0.90 - 1s 2ms/step - loss: 0.2051 - accuracy: 0.9047 - val_loss: 0.5725 - val_accuracy: 0.8268\n",
      "Epoch 30/50\n",
      "235/235 [==============================] - ETA: 0s - loss: 0.1503 - accuracy: 0.93 - ETA: 0s - loss: 0.1717 - accuracy: 0.92 - ETA: 0s - loss: 0.1853 - accuracy: 0.91 - ETA: 0s - loss: 0.1879 - accuracy: 0.91 - ETA: 0s - loss: 0.1821 - accuracy: 0.92 - ETA: 0s - loss: 0.1872 - accuracy: 0.91 - ETA: 0s - loss: 0.1899 - accuracy: 0.91 - ETA: 0s - loss: 0.1956 - accuracy: 0.91 - ETA: 0s - loss: 0.1961 - accuracy: 0.91 - ETA: 0s - loss: 0.1978 - accuracy: 0.91 - 1s 3ms/step - loss: 0.1973 - accuracy: 0.9128 - val_loss: 0.5747 - val_accuracy: 0.8504\n",
      "Epoch 31/50\n",
      "235/235 [==============================] - ETA: 0s - loss: 0.1862 - accuracy: 0.87 - ETA: 0s - loss: 0.1782 - accuracy: 0.91 - ETA: 0s - loss: 0.1847 - accuracy: 0.91 - ETA: 0s - loss: 0.1923 - accuracy: 0.90 - ETA: 0s - loss: 0.1968 - accuracy: 0.90 - ETA: 0s - loss: 0.1959 - accuracy: 0.90 - ETA: 0s - loss: 0.1957 - accuracy: 0.90 - ETA: 0s - loss: 0.1936 - accuracy: 0.91 - ETA: 0s - loss: 0.1983 - accuracy: 0.90 - 1s 2ms/step - loss: 0.1993 - accuracy: 0.9091 - val_loss: 0.5907 - val_accuracy: 0.8364\n",
      "Epoch 32/50\n",
      "235/235 [==============================] - ETA: 0s - loss: 0.3869 - accuracy: 0.78 - ETA: 0s - loss: 0.1607 - accuracy: 0.93 - ETA: 0s - loss: 0.1811 - accuracy: 0.92 - ETA: 0s - loss: 0.1764 - accuracy: 0.92 - ETA: 0s - loss: 0.1798 - accuracy: 0.91 - ETA: 0s - loss: 0.1881 - accuracy: 0.91 - ETA: 0s - loss: 0.1881 - accuracy: 0.91 - ETA: 0s - loss: 0.1913 - accuracy: 0.91 - ETA: 0s - loss: 0.1932 - accuracy: 0.91 - 1s 2ms/step - loss: 0.1929 - accuracy: 0.9109 - val_loss: 0.6563 - val_accuracy: 0.8296\n",
      "Epoch 33/50\n",
      "235/235 [==============================] - ETA: 0s - loss: 0.0743 - accuracy: 0.96 - ETA: 0s - loss: 0.1534 - accuracy: 0.94 - ETA: 0s - loss: 0.1659 - accuracy: 0.93 - ETA: 0s - loss: 0.1669 - accuracy: 0.92 - ETA: 0s - loss: 0.1746 - accuracy: 0.92 - ETA: 0s - loss: 0.1822 - accuracy: 0.91 - ETA: 0s - loss: 0.1805 - accuracy: 0.91 - ETA: 0s - loss: 0.1846 - accuracy: 0.91 - ETA: 0s - loss: 0.1885 - accuracy: 0.91 - ETA: 0s - loss: 0.1892 - accuracy: 0.91 - 1s 2ms/step - loss: 0.1887 - accuracy: 0.9151 - val_loss: 0.6116 - val_accuracy: 0.8124\n",
      "Epoch 34/50\n",
      "235/235 [==============================] - ETA: 0s - loss: 0.1801 - accuracy: 0.93 - ETA: 0s - loss: 0.2111 - accuracy: 0.91 - ETA: 0s - loss: 0.1872 - accuracy: 0.92 - ETA: 0s - loss: 0.1868 - accuracy: 0.91 - ETA: 0s - loss: 0.1770 - accuracy: 0.92 - ETA: 0s - loss: 0.1826 - accuracy: 0.91 - ETA: 0s - loss: 0.1818 - accuracy: 0.91 - ETA: 0s - loss: 0.1850 - accuracy: 0.91 - ETA: 0s - loss: 0.1817 - accuracy: 0.91 - ETA: 0s - loss: 0.1822 - accuracy: 0.91 - 1s 2ms/step - loss: 0.1817 - accuracy: 0.9195 - val_loss: 0.6316 - val_accuracy: 0.8292\n",
      "Epoch 35/50\n",
      "235/235 [==============================] - ETA: 0s - loss: 0.1398 - accuracy: 0.93 - ETA: 0s - loss: 0.1704 - accuracy: 0.92 - ETA: 0s - loss: 0.1690 - accuracy: 0.92 - ETA: 0s - loss: 0.1636 - accuracy: 0.92 - ETA: 0s - loss: 0.1588 - accuracy: 0.93 - ETA: 0s - loss: 0.1583 - accuracy: 0.92 - ETA: 0s - loss: 0.1591 - accuracy: 0.92 - ETA: 0s - loss: 0.1603 - accuracy: 0.92 - ETA: 0s - loss: 0.1618 - accuracy: 0.92 - ETA: 0s - loss: 0.1641 - accuracy: 0.92 - 1s 3ms/step - loss: 0.1668 - accuracy: 0.9252 - val_loss: 0.6302 - val_accuracy: 0.8288\n",
      "Epoch 36/50\n",
      "235/235 [==============================] - ETA: 0s - loss: 0.0873 - accuracy: 1.00 - ETA: 0s - loss: 0.1513 - accuracy: 0.94 - ETA: 0s - loss: 0.1514 - accuracy: 0.93 - ETA: 0s - loss: 0.1560 - accuracy: 0.93 - ETA: 0s - loss: 0.1558 - accuracy: 0.93 - ETA: 0s - loss: 0.1536 - accuracy: 0.93 - ETA: 0s - loss: 0.1533 - accuracy: 0.93 - ETA: 0s - loss: 0.1552 - accuracy: 0.93 - ETA: 0s - loss: 0.1560 - accuracy: 0.93 - ETA: 0s - loss: 0.1570 - accuracy: 0.93 - ETA: 0s - loss: 0.1595 - accuracy: 0.92 - 1s 3ms/step - loss: 0.1595 - accuracy: 0.9296 - val_loss: 0.6805 - val_accuracy: 0.8348\n",
      "Epoch 37/50\n",
      "235/235 [==============================] - ETA: 0s - loss: 0.0705 - accuracy: 0.96 - ETA: 0s - loss: 0.1538 - accuracy: 0.93 - ETA: 0s - loss: 0.1466 - accuracy: 0.94 - ETA: 0s - loss: 0.1488 - accuracy: 0.93 - ETA: 0s - loss: 0.1480 - accuracy: 0.93 - ETA: 0s - loss: 0.1530 - accuracy: 0.92 - ETA: 0s - loss: 0.1515 - accuracy: 0.93 - ETA: 0s - loss: 0.1553 - accuracy: 0.93 - ETA: 0s - loss: 0.1550 - accuracy: 0.92 - ETA: 0s - loss: 0.1573 - accuracy: 0.92 - 1s 3ms/step - loss: 0.1575 - accuracy: 0.9280 - val_loss: 0.8267 - val_accuracy: 0.8172\n",
      "Epoch 38/50\n",
      "235/235 [==============================] - ETA: 0s - loss: 0.0369 - accuracy: 1.00 - ETA: 0s - loss: 0.1259 - accuracy: 0.94 - ETA: 0s - loss: 0.1529 - accuracy: 0.93 - ETA: 0s - loss: 0.1642 - accuracy: 0.92 - ETA: 0s - loss: 0.1620 - accuracy: 0.92 - ETA: 0s - loss: 0.1611 - accuracy: 0.92 - ETA: 0s - loss: 0.1643 - accuracy: 0.93 - ETA: 0s - loss: 0.1620 - accuracy: 0.93 - ETA: 0s - loss: 0.1616 - accuracy: 0.92 - 1s 2ms/step - loss: 0.1614 - accuracy: 0.9297 - val_loss: 0.7068 - val_accuracy: 0.8220\n",
      "Epoch 39/50\n",
      "235/235 [==============================] - ETA: 0s - loss: 0.0631 - accuracy: 0.96 - ETA: 0s - loss: 0.1160 - accuracy: 0.95 - ETA: 0s - loss: 0.1215 - accuracy: 0.94 - ETA: 0s - loss: 0.1271 - accuracy: 0.94 - ETA: 0s - loss: 0.1359 - accuracy: 0.93 - ETA: 0s - loss: 0.1462 - accuracy: 0.93 - ETA: 0s - loss: 0.1485 - accuracy: 0.93 - ETA: 0s - loss: 0.1481 - accuracy: 0.93 - ETA: 0s - loss: 0.1509 - accuracy: 0.93 - 1s 2ms/step - loss: 0.1504 - accuracy: 0.9324 - val_loss: 0.7619 - val_accuracy: 0.8304\n",
      "Epoch 40/50\n",
      "235/235 [==============================] - ETA: 0s - loss: 0.1334 - accuracy: 0.93 - ETA: 0s - loss: 0.1228 - accuracy: 0.94 - ETA: 0s - loss: 0.1315 - accuracy: 0.94 - ETA: 0s - loss: 0.1339 - accuracy: 0.94 - ETA: 0s - loss: 0.1382 - accuracy: 0.94 - ETA: 0s - loss: 0.1404 - accuracy: 0.94 - ETA: 0s - loss: 0.1449 - accuracy: 0.93 - ETA: 0s - loss: 0.1465 - accuracy: 0.93 - ETA: 0s - loss: 0.1469 - accuracy: 0.93 - 1s 2ms/step - loss: 0.1470 - accuracy: 0.9372 - val_loss: 0.8421 - val_accuracy: 0.8188\n",
      "Epoch 41/50\n",
      "235/235 [==============================] - ETA: 0s - loss: 0.0497 - accuracy: 1.00 - ETA: 0s - loss: 0.1508 - accuracy: 0.94 - ETA: 0s - loss: 0.1526 - accuracy: 0.93 - ETA: 0s - loss: 0.1495 - accuracy: 0.93 - ETA: 0s - loss: 0.1476 - accuracy: 0.93 - ETA: 0s - loss: 0.1415 - accuracy: 0.93 - ETA: 0s - loss: 0.1418 - accuracy: 0.93 - ETA: 0s - loss: 0.1385 - accuracy: 0.93 - ETA: 0s - loss: 0.1358 - accuracy: 0.94 - 1s 2ms/step - loss: 0.1382 - accuracy: 0.9396 - val_loss: 0.9162 - val_accuracy: 0.8184\n"
     ]
    },
    {
     "name": "stdout",
     "output_type": "stream",
     "text": [
      "Epoch 42/50\n",
      "235/235 [==============================] - ETA: 0s - loss: 0.1594 - accuracy: 0.93 - ETA: 0s - loss: 0.1091 - accuracy: 0.95 - ETA: 0s - loss: 0.1213 - accuracy: 0.94 - ETA: 0s - loss: 0.1253 - accuracy: 0.94 - ETA: 0s - loss: 0.1167 - accuracy: 0.94 - ETA: 0s - loss: 0.1188 - accuracy: 0.94 - ETA: 0s - loss: 0.1230 - accuracy: 0.94 - ETA: 0s - loss: 0.1253 - accuracy: 0.94 - ETA: 0s - loss: 0.1293 - accuracy: 0.94 - 1s 2ms/step - loss: 0.1294 - accuracy: 0.9431 - val_loss: 0.9462 - val_accuracy: 0.8392\n",
      "Epoch 43/50\n",
      "235/235 [==============================] - ETA: 0s - loss: 0.0522 - accuracy: 0.96 - ETA: 0s - loss: 0.1051 - accuracy: 0.94 - ETA: 0s - loss: 0.1064 - accuracy: 0.95 - ETA: 0s - loss: 0.1358 - accuracy: 0.94 - ETA: 0s - loss: 0.1407 - accuracy: 0.94 - ETA: 0s - loss: 0.1364 - accuracy: 0.94 - ETA: 0s - loss: 0.1319 - accuracy: 0.94 - ETA: 0s - loss: 0.1341 - accuracy: 0.94 - 0s 2ms/step - loss: 0.1388 - accuracy: 0.9391 - val_loss: 0.8078 - val_accuracy: 0.8280\n",
      "Epoch 44/50\n",
      "235/235 [==============================] - ETA: 0s - loss: 0.0854 - accuracy: 0.96 - ETA: 0s - loss: 0.1361 - accuracy: 0.95 - ETA: 0s - loss: 0.1328 - accuracy: 0.94 - ETA: 0s - loss: 0.1415 - accuracy: 0.94 - ETA: 0s - loss: 0.1355 - accuracy: 0.94 - ETA: 0s - loss: 0.1318 - accuracy: 0.94 - ETA: 0s - loss: 0.1367 - accuracy: 0.94 - ETA: 0s - loss: 0.1335 - accuracy: 0.94 - 0s 2ms/step - loss: 0.1360 - accuracy: 0.9431 - val_loss: 0.8043 - val_accuracy: 0.8232\n",
      "Epoch 45/50\n",
      "235/235 [==============================] - ETA: 0s - loss: 0.2535 - accuracy: 0.87 - ETA: 0s - loss: 0.1442 - accuracy: 0.93 - ETA: 0s - loss: 0.1348 - accuracy: 0.94 - ETA: 0s - loss: 0.1343 - accuracy: 0.94 - ETA: 0s - loss: 0.1280 - accuracy: 0.94 - ETA: 0s - loss: 0.1222 - accuracy: 0.94 - ETA: 0s - loss: 0.1251 - accuracy: 0.94 - ETA: 0s - loss: 0.1270 - accuracy: 0.94 - 0s 2ms/step - loss: 0.1272 - accuracy: 0.9460 - val_loss: 0.9588 - val_accuracy: 0.8244\n",
      "Epoch 46/50\n",
      "235/235 [==============================] - ETA: 0s - loss: 0.1620 - accuracy: 0.96 - ETA: 0s - loss: 0.1195 - accuracy: 0.95 - ETA: 0s - loss: 0.1159 - accuracy: 0.95 - ETA: 0s - loss: 0.1140 - accuracy: 0.95 - ETA: 0s - loss: 0.1166 - accuracy: 0.95 - ETA: 0s - loss: 0.1174 - accuracy: 0.95 - ETA: 0s - loss: 0.1154 - accuracy: 0.95 - ETA: 0s - loss: 0.1192 - accuracy: 0.94 - 0s 2ms/step - loss: 0.1201 - accuracy: 0.9483 - val_loss: 1.0387 - val_accuracy: 0.8216\n",
      "Epoch 47/50\n",
      "235/235 [==============================] - ETA: 0s - loss: 0.0793 - accuracy: 0.93 - ETA: 0s - loss: 0.1033 - accuracy: 0.95 - ETA: 0s - loss: 0.1417 - accuracy: 0.94 - ETA: 0s - loss: 0.1333 - accuracy: 0.95 - ETA: 0s - loss: 0.1276 - accuracy: 0.95 - ETA: 0s - loss: 0.1307 - accuracy: 0.94 - ETA: 0s - loss: 0.1335 - accuracy: 0.94 - ETA: 0s - loss: 0.1328 - accuracy: 0.94 - 1s 2ms/step - loss: 0.1363 - accuracy: 0.9443 - val_loss: 0.7967 - val_accuracy: 0.8192\n",
      "Epoch 48/50\n",
      "235/235 [==============================] - ETA: 0s - loss: 0.0681 - accuracy: 0.96 - ETA: 0s - loss: 0.1010 - accuracy: 0.95 - ETA: 0s - loss: 0.1048 - accuracy: 0.95 - ETA: 0s - loss: 0.1078 - accuracy: 0.95 - ETA: 0s - loss: 0.1075 - accuracy: 0.95 - ETA: 0s - loss: 0.1108 - accuracy: 0.95 - ETA: 0s - loss: 0.1140 - accuracy: 0.95 - ETA: 0s - loss: 0.1155 - accuracy: 0.95 - ETA: 0s - loss: 0.1156 - accuracy: 0.94 - 1s 2ms/step - loss: 0.1183 - accuracy: 0.9487 - val_loss: 0.8071 - val_accuracy: 0.8304\n",
      "Epoch 49/50\n",
      "235/235 [==============================] - ETA: 0s - loss: 0.0407 - accuracy: 1.00 - ETA: 0s - loss: 0.0911 - accuracy: 0.96 - ETA: 0s - loss: 0.0984 - accuracy: 0.95 - ETA: 0s - loss: 0.0979 - accuracy: 0.95 - ETA: 0s - loss: 0.0988 - accuracy: 0.95 - ETA: 0s - loss: 0.0983 - accuracy: 0.95 - ETA: 0s - loss: 0.0993 - accuracy: 0.95 - ETA: 0s - loss: 0.0998 - accuracy: 0.95 - ETA: 0s - loss: 0.1068 - accuracy: 0.95 - 1s 2ms/step - loss: 0.1069 - accuracy: 0.9551 - val_loss: 0.9069 - val_accuracy: 0.8188\n",
      "Epoch 50/50\n",
      "235/235 [==============================] - ETA: 0s - loss: 0.1946 - accuracy: 0.87 - ETA: 0s - loss: 0.1007 - accuracy: 0.95 - ETA: 0s - loss: 0.0998 - accuracy: 0.95 - ETA: 0s - loss: 0.1033 - accuracy: 0.95 - ETA: 0s - loss: 0.1052 - accuracy: 0.95 - ETA: 0s - loss: 0.1069 - accuracy: 0.95 - ETA: 0s - loss: 0.1070 - accuracy: 0.95 - ETA: 0s - loss: 0.1079 - accuracy: 0.95 - 0s 2ms/step - loss: 0.1066 - accuracy: 0.9545 - val_loss: 1.2109 - val_accuracy: 0.8092\n"
     ]
    },
    {
     "data": {
      "text/html": [
       "<span style=\"color:#4527A0\"><h1 style=\"font-size:18px\">Trial complete</h1></span>"
      ],
      "text/plain": [
       "<IPython.core.display.HTML object>"
      ]
     },
     "metadata": {},
     "output_type": "display_data"
    },
    {
     "data": {
      "text/html": [
       "<span style=\"color:#4527A0\"><h1 style=\"font-size:18px\">Trial summary</h1></span>"
      ],
      "text/plain": [
       "<IPython.core.display.HTML object>"
      ]
     },
     "metadata": {},
     "output_type": "display_data"
    },
    {
     "data": {
      "text/html": [
       "<span style=\"color:cyan\"> |-Trial ID: 9b7a859a6ef7b4073118c12b48d16d1a</span>"
      ],
      "text/plain": [
       "<IPython.core.display.HTML object>"
      ]
     },
     "metadata": {},
     "output_type": "display_data"
    },
    {
     "data": {
      "text/html": [
       "<span style=\"color:cyan\"> |-Score: 0.8628000020980835</span>"
      ],
      "text/plain": [
       "<IPython.core.display.HTML object>"
      ]
     },
     "metadata": {},
     "output_type": "display_data"
    },
    {
     "data": {
      "text/html": [
       "<span style=\"color:cyan\"> |-Best step: 0</span>"
      ],
      "text/plain": [
       "<IPython.core.display.HTML object>"
      ]
     },
     "metadata": {},
     "output_type": "display_data"
    },
    {
     "data": {
      "text/html": [
       "<span style=\"color:#7E57C2\"><h2 style=\"font-size:16px\">Hyperparameters:</h2></span>"
      ],
      "text/plain": [
       "<IPython.core.display.HTML object>"
      ]
     },
     "metadata": {},
     "output_type": "display_data"
    },
    {
     "data": {
      "text/html": [
       "<span style=\"color:cyan\"> |-learning_rate: 0.001</span>"
      ],
      "text/plain": [
       "<IPython.core.display.HTML object>"
      ]
     },
     "metadata": {},
     "output_type": "display_data"
    },
    {
     "data": {
      "text/html": [
       "<span style=\"color:blue\"> |-num_layers: 12</span>"
      ],
      "text/plain": [
       "<IPython.core.display.HTML object>"
      ]
     },
     "metadata": {},
     "output_type": "display_data"
    },
    {
     "data": {
      "text/html": [
       "<span style=\"color:cyan\"> |-units_0: 160</span>"
      ],
      "text/plain": [
       "<IPython.core.display.HTML object>"
      ]
     },
     "metadata": {},
     "output_type": "display_data"
    },
    {
     "data": {
      "text/html": [
       "<span style=\"color:blue\"> |-units_1: 288</span>"
      ],
      "text/plain": [
       "<IPython.core.display.HTML object>"
      ]
     },
     "metadata": {},
     "output_type": "display_data"
    },
    {
     "data": {
      "text/html": [
       "<span style=\"color:cyan\"> |-units_10: 32</span>"
      ],
      "text/plain": [
       "<IPython.core.display.HTML object>"
      ]
     },
     "metadata": {},
     "output_type": "display_data"
    },
    {
     "data": {
      "text/html": [
       "<span style=\"color:blue\"> |-units_11: 32</span>"
      ],
      "text/plain": [
       "<IPython.core.display.HTML object>"
      ]
     },
     "metadata": {},
     "output_type": "display_data"
    },
    {
     "data": {
      "text/html": [
       "<span style=\"color:cyan\"> |-units_2: 32</span>"
      ],
      "text/plain": [
       "<IPython.core.display.HTML object>"
      ]
     },
     "metadata": {},
     "output_type": "display_data"
    },
    {
     "data": {
      "text/html": [
       "<span style=\"color:blue\"> |-units_3: 32</span>"
      ],
      "text/plain": [
       "<IPython.core.display.HTML object>"
      ]
     },
     "metadata": {},
     "output_type": "display_data"
    },
    {
     "data": {
      "text/html": [
       "<span style=\"color:cyan\"> |-units_4: 32</span>"
      ],
      "text/plain": [
       "<IPython.core.display.HTML object>"
      ]
     },
     "metadata": {},
     "output_type": "display_data"
    },
    {
     "data": {
      "text/html": [
       "<span style=\"color:blue\"> |-units_5: 32</span>"
      ],
      "text/plain": [
       "<IPython.core.display.HTML object>"
      ]
     },
     "metadata": {},
     "output_type": "display_data"
    },
    {
     "data": {
      "text/html": [
       "<span style=\"color:cyan\"> |-units_6: 32</span>"
      ],
      "text/plain": [
       "<IPython.core.display.HTML object>"
      ]
     },
     "metadata": {},
     "output_type": "display_data"
    },
    {
     "data": {
      "text/html": [
       "<span style=\"color:blue\"> |-units_7: 32</span>"
      ],
      "text/plain": [
       "<IPython.core.display.HTML object>"
      ]
     },
     "metadata": {},
     "output_type": "display_data"
    },
    {
     "data": {
      "text/html": [
       "<span style=\"color:cyan\"> |-units_8: 32</span>"
      ],
      "text/plain": [
       "<IPython.core.display.HTML object>"
      ]
     },
     "metadata": {},
     "output_type": "display_data"
    },
    {
     "data": {
      "text/html": [
       "<span style=\"color:blue\"> |-units_9: 32</span>"
      ],
      "text/plain": [
       "<IPython.core.display.HTML object>"
      ]
     },
     "metadata": {},
     "output_type": "display_data"
    },
    {
     "name": "stdout",
     "output_type": "stream",
     "text": [
      "Epoch 1/50\n",
      "235/235 [==============================] - ETA: 0s - loss: 0.6924 - accuracy: 0.53 - ETA: 0s - loss: 0.5015 - accuracy: 0.78 - ETA: 0s - loss: 0.4629 - accuracy: 0.79 - ETA: 0s - loss: 0.4475 - accuracy: 0.79 - ETA: 0s - loss: 0.4453 - accuracy: 0.80 - ETA: 0s - loss: 0.4515 - accuracy: 0.79 - ETA: 0s - loss: 0.4419 - accuracy: 0.80 - ETA: 0s - loss: 0.4333 - accuracy: 0.80 - ETA: 0s - loss: 0.4252 - accuracy: 0.81 - ETA: 0s - loss: 0.4175 - accuracy: 0.82 - ETA: 0s - loss: 0.4107 - accuracy: 0.82 - ETA: 0s - loss: 0.4056 - accuracy: 0.82 - ETA: 0s - loss: 0.4026 - accuracy: 0.83 - 1s 4ms/step - loss: 0.3993 - accuracy: 0.8324 - val_loss: 0.3544 - val_accuracy: 0.8576\n",
      "Epoch 2/50\n",
      "235/235 [==============================] - ETA: 0s - loss: 0.2485 - accuracy: 0.93 - ETA: 0s - loss: 0.3061 - accuracy: 0.88 - ETA: 0s - loss: 0.3251 - accuracy: 0.87 - ETA: 0s - loss: 0.3357 - accuracy: 0.86 - ETA: 0s - loss: 0.3456 - accuracy: 0.86 - ETA: 0s - loss: 0.3433 - accuracy: 0.86 - ETA: 0s - loss: 0.3431 - accuracy: 0.86 - ETA: 0s - loss: 0.3474 - accuracy: 0.86 - ETA: 0s - loss: 0.3428 - accuracy: 0.86 - ETA: 0s - loss: 0.3486 - accuracy: 0.86 - ETA: 0s - loss: 0.3539 - accuracy: 0.85 - ETA: 0s - loss: 0.3565 - accuracy: 0.85 - ETA: 0s - loss: 0.3556 - accuracy: 0.85 - 1s 3ms/step - loss: 0.3544 - accuracy: 0.8577 - val_loss: 0.3500 - val_accuracy: 0.8572\n",
      "Epoch 3/50\n",
      "235/235 [==============================] - ETA: 0s - loss: 0.3260 - accuracy: 0.87 - ETA: 0s - loss: 0.3453 - accuracy: 0.86 - ETA: 0s - loss: 0.3526 - accuracy: 0.86 - ETA: 0s - loss: 0.3486 - accuracy: 0.86 - ETA: 0s - loss: 0.3452 - accuracy: 0.86 - ETA: 0s - loss: 0.3545 - accuracy: 0.85 - ETA: 0s - loss: 0.3478 - accuracy: 0.85 - ETA: 0s - loss: 0.3485 - accuracy: 0.85 - ETA: 0s - loss: 0.3490 - accuracy: 0.85 - ETA: 0s - loss: 0.3481 - accuracy: 0.85 - ETA: 0s - loss: 0.3452 - accuracy: 0.86 - ETA: 0s - loss: 0.3435 - accuracy: 0.86 - ETA: 0s - loss: 0.3419 - accuracy: 0.86 - 1s 3ms/step - loss: 0.3419 - accuracy: 0.8612 - val_loss: 0.3407 - val_accuracy: 0.8612\n",
      "Epoch 4/50\n",
      "235/235 [==============================] - ETA: 0s - loss: 0.3391 - accuracy: 0.81 - ETA: 0s - loss: 0.3116 - accuracy: 0.88 - ETA: 0s - loss: 0.3299 - accuracy: 0.86 - ETA: 0s - loss: 0.3271 - accuracy: 0.86 - ETA: 0s - loss: 0.3361 - accuracy: 0.86 - ETA: 0s - loss: 0.3354 - accuracy: 0.86 - ETA: 0s - loss: 0.3349 - accuracy: 0.86 - ETA: 0s - loss: 0.3340 - accuracy: 0.86 - ETA: 0s - loss: 0.3338 - accuracy: 0.86 - ETA: 0s - loss: 0.3352 - accuracy: 0.86 - ETA: 0s - loss: 0.3352 - accuracy: 0.86 - ETA: 0s - loss: 0.3356 - accuracy: 0.86 - ETA: 0s - loss: 0.3371 - accuracy: 0.86 - 1s 3ms/step - loss: 0.3350 - accuracy: 0.8621 - val_loss: 0.3448 - val_accuracy: 0.8576\n",
      "Epoch 5/50\n",
      "235/235 [==============================] - ETA: 0s - loss: 0.1602 - accuracy: 0.93 - ETA: 0s - loss: 0.3322 - accuracy: 0.86 - ETA: 0s - loss: 0.3187 - accuracy: 0.87 - ETA: 0s - loss: 0.3430 - accuracy: 0.85 - ETA: 0s - loss: 0.3406 - accuracy: 0.86 - ETA: 0s - loss: 0.3371 - accuracy: 0.86 - ETA: 0s - loss: 0.3366 - accuracy: 0.86 - ETA: 0s - loss: 0.3343 - accuracy: 0.86 - ETA: 0s - loss: 0.3331 - accuracy: 0.86 - ETA: 0s - loss: 0.3375 - accuracy: 0.86 - ETA: 0s - loss: 0.3357 - accuracy: 0.86 - ETA: 0s - loss: 0.3350 - accuracy: 0.86 - ETA: 0s - loss: 0.3331 - accuracy: 0.86 - 1s 3ms/step - loss: 0.3321 - accuracy: 0.8625 - val_loss: 0.3421 - val_accuracy: 0.8552\n",
      "Epoch 6/50\n",
      "235/235 [==============================] - ETA: 0s - loss: 0.1621 - accuracy: 0.93 - ETA: 0s - loss: 0.2890 - accuracy: 0.88 - ETA: 0s - loss: 0.3225 - accuracy: 0.86 - ETA: 0s - loss: 0.3227 - accuracy: 0.86 - ETA: 0s - loss: 0.3086 - accuracy: 0.87 - ETA: 0s - loss: 0.3169 - accuracy: 0.87 - ETA: 0s - loss: 0.3118 - accuracy: 0.87 - ETA: 0s - loss: 0.3107 - accuracy: 0.87 - ETA: 0s - loss: 0.3095 - accuracy: 0.87 - ETA: 0s - loss: 0.3182 - accuracy: 0.87 - ETA: 0s - loss: 0.3198 - accuracy: 0.87 - ETA: 0s - loss: 0.3259 - accuracy: 0.86 - ETA: 0s - loss: 0.3272 - accuracy: 0.86 - ETA: 0s - loss: 0.3276 - accuracy: 0.86 - 1s 4ms/step - loss: 0.3267 - accuracy: 0.8668 - val_loss: 0.3391 - val_accuracy: 0.8632\n",
      "Epoch 7/50\n",
      "235/235 [==============================] - ETA: 0s - loss: 0.3801 - accuracy: 0.81 - ETA: 0s - loss: 0.2823 - accuracy: 0.89 - ETA: 0s - loss: 0.3024 - accuracy: 0.88 - ETA: 0s - loss: 0.3097 - accuracy: 0.87 - ETA: 0s - loss: 0.3177 - accuracy: 0.86 - ETA: 0s - loss: 0.3127 - accuracy: 0.87 - ETA: 0s - loss: 0.3091 - accuracy: 0.87 - ETA: 0s - loss: 0.3109 - accuracy: 0.86 - ETA: 0s - loss: 0.3138 - accuracy: 0.86 - ETA: 0s - loss: 0.3169 - accuracy: 0.86 - ETA: 0s - loss: 0.3176 - accuracy: 0.86 - ETA: 0s - loss: 0.3156 - accuracy: 0.86 - ETA: 0s - loss: 0.3198 - accuracy: 0.86 - 1s 3ms/step - loss: 0.3199 - accuracy: 0.8661 - val_loss: 0.3563 - val_accuracy: 0.8576\n",
      "Epoch 8/50\n",
      "235/235 [==============================] - ETA: 0s - loss: 0.2365 - accuracy: 0.87 - ETA: 0s - loss: 0.2900 - accuracy: 0.87 - ETA: 0s - loss: 0.2819 - accuracy: 0.88 - ETA: 0s - loss: 0.2856 - accuracy: 0.88 - ETA: 0s - loss: 0.2933 - accuracy: 0.88 - ETA: 0s - loss: 0.2994 - accuracy: 0.87 - ETA: 0s - loss: 0.3046 - accuracy: 0.87 - ETA: 0s - loss: 0.3072 - accuracy: 0.87 - ETA: 0s - loss: 0.3008 - accuracy: 0.87 - ETA: 0s - loss: 0.3070 - accuracy: 0.87 - ETA: 0s - loss: 0.3123 - accuracy: 0.87 - ETA: 0s - loss: 0.3147 - accuracy: 0.87 - ETA: 0s - loss: 0.3183 - accuracy: 0.86 - ETA: 0s - loss: 0.3167 - accuracy: 0.86 - 1s 3ms/step - loss: 0.3173 - accuracy: 0.8697 - val_loss: 0.3402 - val_accuracy: 0.8616\n",
      "Epoch 9/50\n",
      "235/235 [==============================] - ETA: 0s - loss: 0.2708 - accuracy: 0.87 - ETA: 0s - loss: 0.2839 - accuracy: 0.88 - ETA: 0s - loss: 0.2871 - accuracy: 0.88 - ETA: 0s - loss: 0.2895 - accuracy: 0.88 - ETA: 0s - loss: 0.2984 - accuracy: 0.87 - ETA: 0s - loss: 0.3054 - accuracy: 0.87 - ETA: 0s - loss: 0.3063 - accuracy: 0.87 - ETA: 0s - loss: 0.3040 - accuracy: 0.87 - ETA: 0s - loss: 0.3035 - accuracy: 0.87 - ETA: 0s - loss: 0.3056 - accuracy: 0.87 - ETA: 0s - loss: 0.3082 - accuracy: 0.87 - ETA: 0s - loss: 0.3089 - accuracy: 0.87 - ETA: 0s - loss: 0.3096 - accuracy: 0.86 - ETA: 0s - loss: 0.3135 - accuracy: 0.86 - 1s 3ms/step - loss: 0.3116 - accuracy: 0.8707 - val_loss: 0.3460 - val_accuracy: 0.8600\n",
      "Epoch 10/50\n",
      "235/235 [==============================] - ETA: 0s - loss: 0.3264 - accuracy: 0.81 - ETA: 0s - loss: 0.2823 - accuracy: 0.88 - ETA: 0s - loss: 0.2972 - accuracy: 0.87 - ETA: 0s - loss: 0.3008 - accuracy: 0.87 - ETA: 0s - loss: 0.3143 - accuracy: 0.87 - ETA: 0s - loss: 0.3158 - accuracy: 0.86 - ETA: 0s - loss: 0.3112 - accuracy: 0.86 - ETA: 0s - loss: 0.3074 - accuracy: 0.86 - ETA: 0s - loss: 0.3045 - accuracy: 0.86 - ETA: 0s - loss: 0.3031 - accuracy: 0.86 - ETA: 0s - loss: 0.3030 - accuracy: 0.87 - ETA: 0s - loss: 0.3027 - accuracy: 0.87 - ETA: 0s - loss: 0.3053 - accuracy: 0.87 - ETA: 0s - loss: 0.3056 - accuracy: 0.87 - 1s 3ms/step - loss: 0.3060 - accuracy: 0.8713 - val_loss: 0.3482 - val_accuracy: 0.8572\n",
      "Epoch 11/50\n",
      "235/235 [==============================] - ETA: 0s - loss: 0.3300 - accuracy: 0.84 - ETA: 0s - loss: 0.3004 - accuracy: 0.86 - ETA: 0s - loss: 0.2838 - accuracy: 0.88 - ETA: 0s - loss: 0.2826 - accuracy: 0.88 - ETA: 0s - loss: 0.2865 - accuracy: 0.87 - ETA: 0s - loss: 0.2828 - accuracy: 0.88 - ETA: 0s - loss: 0.2843 - accuracy: 0.88 - ETA: 0s - loss: 0.2892 - accuracy: 0.87 - ETA: 0s - loss: 0.2937 - accuracy: 0.87 - ETA: 0s - loss: 0.2925 - accuracy: 0.87 - ETA: 0s - loss: 0.2940 - accuracy: 0.87 - ETA: 0s - loss: 0.2992 - accuracy: 0.87 - ETA: 0s - loss: 0.2978 - accuracy: 0.87 - ETA: 0s - loss: 0.2994 - accuracy: 0.87 - 1s 3ms/step - loss: 0.2991 - accuracy: 0.8752 - val_loss: 0.3506 - val_accuracy: 0.8624\n",
      "Epoch 12/50\n"
     ]
    },
    {
     "name": "stdout",
     "output_type": "stream",
     "text": [
      "235/235 [==============================] - ETA: 0s - loss: 0.4643 - accuracy: 0.84 - ETA: 0s - loss: 0.2932 - accuracy: 0.87 - ETA: 0s - loss: 0.2947 - accuracy: 0.87 - ETA: 0s - loss: 0.2948 - accuracy: 0.87 - ETA: 0s - loss: 0.2882 - accuracy: 0.87 - ETA: 0s - loss: 0.2931 - accuracy: 0.87 - ETA: 0s - loss: 0.2868 - accuracy: 0.87 - ETA: 0s - loss: 0.2872 - accuracy: 0.87 - ETA: 0s - loss: 0.2860 - accuracy: 0.87 - ETA: 0s - loss: 0.2872 - accuracy: 0.87 - ETA: 0s - loss: 0.2882 - accuracy: 0.87 - ETA: 0s - loss: 0.2909 - accuracy: 0.87 - ETA: 0s - loss: 0.2958 - accuracy: 0.87 - 1s 3ms/step - loss: 0.2959 - accuracy: 0.8756 - val_loss: 0.3580 - val_accuracy: 0.8540\n",
      "Epoch 13/50\n",
      "235/235 [==============================] - ETA: 0s - loss: 0.3400 - accuracy: 0.90 - ETA: 0s - loss: 0.2831 - accuracy: 0.88 - ETA: 0s - loss: 0.2917 - accuracy: 0.87 - ETA: 0s - loss: 0.2893 - accuracy: 0.87 - ETA: 0s - loss: 0.2948 - accuracy: 0.87 - ETA: 0s - loss: 0.2878 - accuracy: 0.87 - ETA: 0s - loss: 0.2856 - accuracy: 0.88 - ETA: 0s - loss: 0.2855 - accuracy: 0.88 - ETA: 0s - loss: 0.2828 - accuracy: 0.88 - ETA: 0s - loss: 0.2867 - accuracy: 0.87 - ETA: 0s - loss: 0.2862 - accuracy: 0.87 - 1s 3ms/step - loss: 0.2839 - accuracy: 0.8809 - val_loss: 0.3634 - val_accuracy: 0.8628\n",
      "Epoch 14/50\n",
      "235/235 [==============================] - ETA: 0s - loss: 0.3317 - accuracy: 0.90 - ETA: 0s - loss: 0.2772 - accuracy: 0.88 - ETA: 0s - loss: 0.2760 - accuracy: 0.88 - ETA: 0s - loss: 0.2758 - accuracy: 0.88 - ETA: 0s - loss: 0.2721 - accuracy: 0.88 - ETA: 0s - loss: 0.2733 - accuracy: 0.88 - ETA: 0s - loss: 0.2733 - accuracy: 0.88 - ETA: 0s - loss: 0.2759 - accuracy: 0.88 - ETA: 0s - loss: 0.2813 - accuracy: 0.88 - ETA: 0s - loss: 0.2805 - accuracy: 0.88 - ETA: 0s - loss: 0.2811 - accuracy: 0.88 - ETA: 0s - loss: 0.2806 - accuracy: 0.88 - 1s 3ms/step - loss: 0.2805 - accuracy: 0.8833 - val_loss: 0.3817 - val_accuracy: 0.8512\n",
      "Epoch 15/50\n",
      "235/235 [==============================] - ETA: 0s - loss: 0.1688 - accuracy: 0.90 - ETA: 0s - loss: 0.2468 - accuracy: 0.90 - ETA: 0s - loss: 0.2377 - accuracy: 0.90 - ETA: 0s - loss: 0.2396 - accuracy: 0.90 - ETA: 0s - loss: 0.2553 - accuracy: 0.89 - ETA: 0s - loss: 0.2621 - accuracy: 0.88 - ETA: 0s - loss: 0.2594 - accuracy: 0.89 - ETA: 0s - loss: 0.2653 - accuracy: 0.88 - ETA: 0s - loss: 0.2660 - accuracy: 0.88 - ETA: 0s - loss: 0.2697 - accuracy: 0.88 - ETA: 0s - loss: 0.2722 - accuracy: 0.88 - 1s 3ms/step - loss: 0.2716 - accuracy: 0.8847 - val_loss: 0.3764 - val_accuracy: 0.8648\n",
      "Epoch 16/50\n",
      "235/235 [==============================] - ETA: 0s - loss: 0.1864 - accuracy: 0.90 - ETA: 0s - loss: 0.2654 - accuracy: 0.89 - ETA: 0s - loss: 0.2618 - accuracy: 0.88 - ETA: 0s - loss: 0.2600 - accuracy: 0.88 - ETA: 0s - loss: 0.2555 - accuracy: 0.89 - ETA: 0s - loss: 0.2574 - accuracy: 0.88 - ETA: 0s - loss: 0.2547 - accuracy: 0.89 - ETA: 0s - loss: 0.2557 - accuracy: 0.89 - ETA: 0s - loss: 0.2626 - accuracy: 0.88 - ETA: 0s - loss: 0.2646 - accuracy: 0.88 - ETA: 0s - loss: 0.2637 - accuracy: 0.88 - 1s 3ms/step - loss: 0.2654 - accuracy: 0.8884 - val_loss: 0.3839 - val_accuracy: 0.8564\n",
      "Epoch 17/50\n",
      "235/235 [==============================] - ETA: 0s - loss: 0.3049 - accuracy: 0.84 - ETA: 0s - loss: 0.2217 - accuracy: 0.90 - ETA: 0s - loss: 0.2206 - accuracy: 0.90 - ETA: 0s - loss: 0.2297 - accuracy: 0.90 - ETA: 0s - loss: 0.2351 - accuracy: 0.89 - ETA: 0s - loss: 0.2443 - accuracy: 0.89 - ETA: 0s - loss: 0.2450 - accuracy: 0.89 - ETA: 0s - loss: 0.2451 - accuracy: 0.89 - ETA: 0s - loss: 0.2503 - accuracy: 0.89 - ETA: 0s - loss: 0.2550 - accuracy: 0.89 - ETA: 0s - loss: 0.2538 - accuracy: 0.89 - 1s 3ms/step - loss: 0.2538 - accuracy: 0.8907 - val_loss: 0.3987 - val_accuracy: 0.8456\n",
      "Epoch 18/50\n",
      "235/235 [==============================] - ETA: 0s - loss: 0.1625 - accuracy: 0.93 - ETA: 0s - loss: 0.2342 - accuracy: 0.89 - ETA: 0s - loss: 0.2509 - accuracy: 0.88 - ETA: 0s - loss: 0.2479 - accuracy: 0.89 - ETA: 0s - loss: 0.2457 - accuracy: 0.89 - ETA: 0s - loss: 0.2428 - accuracy: 0.89 - ETA: 0s - loss: 0.2343 - accuracy: 0.90 - ETA: 0s - loss: 0.2349 - accuracy: 0.89 - ETA: 0s - loss: 0.2406 - accuracy: 0.89 - ETA: 0s - loss: 0.2444 - accuracy: 0.89 - ETA: 0s - loss: 0.2451 - accuracy: 0.89 - 1s 3ms/step - loss: 0.2489 - accuracy: 0.8915 - val_loss: 0.4015 - val_accuracy: 0.8532\n",
      "Epoch 19/50\n",
      "235/235 [==============================] - ETA: 0s - loss: 0.1878 - accuracy: 0.90 - ETA: 0s - loss: 0.2318 - accuracy: 0.90 - ETA: 0s - loss: 0.2210 - accuracy: 0.90 - ETA: 0s - loss: 0.2190 - accuracy: 0.90 - ETA: 0s - loss: 0.2274 - accuracy: 0.90 - ETA: 0s - loss: 0.2254 - accuracy: 0.90 - ETA: 0s - loss: 0.2320 - accuracy: 0.90 - ETA: 0s - loss: 0.2355 - accuracy: 0.89 - ETA: 0s - loss: 0.2338 - accuracy: 0.90 - ETA: 0s - loss: 0.2393 - accuracy: 0.89 - ETA: 0s - loss: 0.2427 - accuracy: 0.89 - 1s 3ms/step - loss: 0.2419 - accuracy: 0.8980 - val_loss: 0.4490 - val_accuracy: 0.8448\n",
      "Epoch 20/50\n",
      "235/235 [==============================] - ETA: 0s - loss: 0.2213 - accuracy: 0.90 - ETA: 0s - loss: 0.2233 - accuracy: 0.90 - ETA: 0s - loss: 0.2207 - accuracy: 0.90 - ETA: 0s - loss: 0.2258 - accuracy: 0.90 - ETA: 0s - loss: 0.2234 - accuracy: 0.90 - ETA: 0s - loss: 0.2235 - accuracy: 0.90 - ETA: 0s - loss: 0.2232 - accuracy: 0.90 - ETA: 0s - loss: 0.2263 - accuracy: 0.89 - ETA: 0s - loss: 0.2280 - accuracy: 0.89 - ETA: 0s - loss: 0.2305 - accuracy: 0.89 - ETA: 0s - loss: 0.2316 - accuracy: 0.89 - 1s 3ms/step - loss: 0.2320 - accuracy: 0.8983 - val_loss: 0.4609 - val_accuracy: 0.8432\n",
      "Epoch 21/50\n",
      "235/235 [==============================] - ETA: 0s - loss: 0.1852 - accuracy: 0.93 - ETA: 0s - loss: 0.2033 - accuracy: 0.91 - ETA: 0s - loss: 0.1999 - accuracy: 0.91 - ETA: 0s - loss: 0.2187 - accuracy: 0.90 - ETA: 0s - loss: 0.2156 - accuracy: 0.90 - ETA: 0s - loss: 0.2121 - accuracy: 0.90 - ETA: 0s - loss: 0.2114 - accuracy: 0.90 - ETA: 0s - loss: 0.2141 - accuracy: 0.90 - ETA: 0s - loss: 0.2162 - accuracy: 0.90 - ETA: 0s - loss: 0.2146 - accuracy: 0.90 - ETA: 0s - loss: 0.2177 - accuracy: 0.90 - 1s 3ms/step - loss: 0.2183 - accuracy: 0.9036 - val_loss: 0.5018 - val_accuracy: 0.8508\n",
      "Epoch 22/50\n",
      "235/235 [==============================] - ETA: 0s - loss: 0.2040 - accuracy: 0.93 - ETA: 0s - loss: 0.2133 - accuracy: 0.90 - ETA: 0s - loss: 0.2140 - accuracy: 0.90 - ETA: 0s - loss: 0.2020 - accuracy: 0.90 - ETA: 0s - loss: 0.2072 - accuracy: 0.90 - ETA: 0s - loss: 0.2082 - accuracy: 0.90 - ETA: 0s - loss: 0.2136 - accuracy: 0.90 - ETA: 0s - loss: 0.2077 - accuracy: 0.90 - ETA: 0s - loss: 0.2087 - accuracy: 0.90 - ETA: 0s - loss: 0.2093 - accuracy: 0.90 - ETA: 0s - loss: 0.2105 - accuracy: 0.90 - 1s 3ms/step - loss: 0.2137 - accuracy: 0.9033 - val_loss: 0.4869 - val_accuracy: 0.8332\n",
      "Epoch 23/50\n",
      "235/235 [==============================] - ETA: 0s - loss: 0.1964 - accuracy: 0.90 - ETA: 0s - loss: 0.1918 - accuracy: 0.91 - ETA: 0s - loss: 0.1972 - accuracy: 0.91 - ETA: 0s - loss: 0.1842 - accuracy: 0.92 - ETA: 0s - loss: 0.1991 - accuracy: 0.91 - ETA: 0s - loss: 0.1940 - accuracy: 0.91 - ETA: 0s - loss: 0.2023 - accuracy: 0.91 - ETA: 0s - loss: 0.2049 - accuracy: 0.91 - ETA: 0s - loss: 0.2051 - accuracy: 0.91 - ETA: 0s - loss: 0.2058 - accuracy: 0.91 - ETA: 0s - loss: 0.2085 - accuracy: 0.90 - ETA: 0s - loss: 0.2055 - accuracy: 0.91 - 1s 3ms/step - loss: 0.2062 - accuracy: 0.9108 - val_loss: 0.5458 - val_accuracy: 0.8452\n",
      "Epoch 24/50\n",
      "235/235 [==============================] - ETA: 0s - loss: 0.1838 - accuracy: 0.90 - ETA: 0s - loss: 0.1643 - accuracy: 0.93 - ETA: 0s - loss: 0.1700 - accuracy: 0.92 - ETA: 0s - loss: 0.1755 - accuracy: 0.91 - ETA: 0s - loss: 0.1713 - accuracy: 0.92 - ETA: 0s - loss: 0.1716 - accuracy: 0.92 - ETA: 0s - loss: 0.1766 - accuracy: 0.91 - ETA: 0s - loss: 0.1800 - accuracy: 0.91 - ETA: 0s - loss: 0.1863 - accuracy: 0.91 - ETA: 0s - loss: 0.1882 - accuracy: 0.91 - ETA: 0s - loss: 0.1919 - accuracy: 0.91 - 1s 3ms/step - loss: 0.1922 - accuracy: 0.9119 - val_loss: 0.5401 - val_accuracy: 0.8416\n",
      "Epoch 25/50\n"
     ]
    },
    {
     "name": "stdout",
     "output_type": "stream",
     "text": [
      "235/235 [==============================] - ETA: 0s - loss: 0.0945 - accuracy: 0.96 - ETA: 0s - loss: 0.1778 - accuracy: 0.92 - ETA: 0s - loss: 0.1729 - accuracy: 0.91 - ETA: 0s - loss: 0.1766 - accuracy: 0.92 - ETA: 0s - loss: 0.1812 - accuracy: 0.91 - ETA: 0s - loss: 0.1908 - accuracy: 0.91 - ETA: 0s - loss: 0.1898 - accuracy: 0.91 - ETA: 0s - loss: 0.1891 - accuracy: 0.91 - ETA: 0s - loss: 0.1888 - accuracy: 0.91 - ETA: 0s - loss: 0.1902 - accuracy: 0.91 - ETA: 0s - loss: 0.1924 - accuracy: 0.91 - 1s 3ms/step - loss: 0.1964 - accuracy: 0.9121 - val_loss: 0.5416 - val_accuracy: 0.8392\n",
      "Epoch 26/50\n",
      "235/235 [==============================] - ETA: 0s - loss: 0.1675 - accuracy: 0.93 - ETA: 0s - loss: 0.1528 - accuracy: 0.93 - ETA: 0s - loss: 0.1632 - accuracy: 0.92 - ETA: 0s - loss: 0.1712 - accuracy: 0.92 - ETA: 0s - loss: 0.1720 - accuracy: 0.91 - ETA: 0s - loss: 0.1699 - accuracy: 0.91 - ETA: 0s - loss: 0.1707 - accuracy: 0.92 - ETA: 0s - loss: 0.1745 - accuracy: 0.91 - ETA: 0s - loss: 0.1763 - accuracy: 0.91 - ETA: 0s - loss: 0.1744 - accuracy: 0.92 - ETA: 0s - loss: 0.1771 - accuracy: 0.92 - 1s 3ms/step - loss: 0.1778 - accuracy: 0.9200 - val_loss: 0.5917 - val_accuracy: 0.8364\n",
      "Epoch 27/50\n",
      "235/235 [==============================] - ETA: 0s - loss: 0.1165 - accuracy: 0.96 - ETA: 0s - loss: 0.1622 - accuracy: 0.92 - ETA: 0s - loss: 0.1642 - accuracy: 0.92 - ETA: 0s - loss: 0.1597 - accuracy: 0.92 - ETA: 0s - loss: 0.1645 - accuracy: 0.92 - ETA: 0s - loss: 0.1636 - accuracy: 0.92 - ETA: 0s - loss: 0.1665 - accuracy: 0.92 - ETA: 0s - loss: 0.1657 - accuracy: 0.92 - ETA: 0s - loss: 0.1667 - accuracy: 0.92 - ETA: 0s - loss: 0.1645 - accuracy: 0.92 - ETA: 0s - loss: 0.1645 - accuracy: 0.92 - 1s 3ms/step - loss: 0.1645 - accuracy: 0.9248 - val_loss: 0.6502 - val_accuracy: 0.8444\n",
      "Epoch 28/50\n",
      "235/235 [==============================] - ETA: 0s - loss: 0.2265 - accuracy: 0.90 - ETA: 0s - loss: 0.1469 - accuracy: 0.93 - ETA: 0s - loss: 0.1426 - accuracy: 0.93 - ETA: 0s - loss: 0.1502 - accuracy: 0.93 - ETA: 0s - loss: 0.1498 - accuracy: 0.93 - ETA: 0s - loss: 0.1498 - accuracy: 0.93 - ETA: 0s - loss: 0.1509 - accuracy: 0.93 - ETA: 0s - loss: 0.1548 - accuracy: 0.93 - ETA: 0s - loss: 0.1558 - accuracy: 0.93 - ETA: 0s - loss: 0.1567 - accuracy: 0.93 - ETA: 0s - loss: 0.1590 - accuracy: 0.92 - 1s 3ms/step - loss: 0.1606 - accuracy: 0.9291 - val_loss: 0.6630 - val_accuracy: 0.8352\n",
      "Epoch 29/50\n",
      "235/235 [==============================] - ETA: 0s - loss: 0.2709 - accuracy: 0.81 - ETA: 0s - loss: 0.1331 - accuracy: 0.93 - ETA: 0s - loss: 0.1361 - accuracy: 0.93 - ETA: 0s - loss: 0.1441 - accuracy: 0.93 - ETA: 0s - loss: 0.1503 - accuracy: 0.93 - ETA: 0s - loss: 0.1478 - accuracy: 0.93 - ETA: 0s - loss: 0.1497 - accuracy: 0.93 - ETA: 0s - loss: 0.1474 - accuracy: 0.93 - ETA: 0s - loss: 0.1500 - accuracy: 0.93 - ETA: 0s - loss: 0.1527 - accuracy: 0.93 - ETA: 0s - loss: 0.1557 - accuracy: 0.93 - 1s 3ms/step - loss: 0.1559 - accuracy: 0.9295 - val_loss: 0.7063 - val_accuracy: 0.8376\n",
      "Epoch 30/50\n",
      "235/235 [==============================] - ETA: 0s - loss: 0.1029 - accuracy: 0.96 - ETA: 0s - loss: 0.1131 - accuracy: 0.95 - ETA: 0s - loss: 0.1260 - accuracy: 0.94 - ETA: 0s - loss: 0.1343 - accuracy: 0.94 - ETA: 0s - loss: 0.1364 - accuracy: 0.94 - ETA: 0s - loss: 0.1335 - accuracy: 0.94 - ETA: 0s - loss: 0.1346 - accuracy: 0.94 - ETA: 0s - loss: 0.1384 - accuracy: 0.93 - ETA: 0s - loss: 0.1420 - accuracy: 0.93 - ETA: 0s - loss: 0.1424 - accuracy: 0.93 - ETA: 0s - loss: 0.1468 - accuracy: 0.93 - 1s 3ms/step - loss: 0.1469 - accuracy: 0.9315 - val_loss: 0.7984 - val_accuracy: 0.8432\n",
      "Epoch 31/50\n",
      "235/235 [==============================] - ETA: 0s - loss: 0.0632 - accuracy: 1.00 - ETA: 0s - loss: 0.1264 - accuracy: 0.94 - ETA: 0s - loss: 0.1244 - accuracy: 0.94 - ETA: 0s - loss: 0.1302 - accuracy: 0.93 - ETA: 0s - loss: 0.1269 - accuracy: 0.93 - ETA: 0s - loss: 0.1327 - accuracy: 0.93 - ETA: 0s - loss: 0.1314 - accuracy: 0.93 - ETA: 0s - loss: 0.1313 - accuracy: 0.93 - ETA: 0s - loss: 0.1321 - accuracy: 0.93 - ETA: 0s - loss: 0.1331 - accuracy: 0.93 - ETA: 0s - loss: 0.1342 - accuracy: 0.93 - 1s 3ms/step - loss: 0.1349 - accuracy: 0.9349 - val_loss: 0.8411 - val_accuracy: 0.8144\n",
      "Epoch 32/50\n",
      "235/235 [==============================] - ETA: 0s - loss: 0.3429 - accuracy: 0.87 - ETA: 0s - loss: 0.1285 - accuracy: 0.94 - ETA: 0s - loss: 0.1454 - accuracy: 0.94 - ETA: 0s - loss: 0.1420 - accuracy: 0.94 - ETA: 0s - loss: 0.1388 - accuracy: 0.94 - ETA: 0s - loss: 0.1388 - accuracy: 0.94 - ETA: 0s - loss: 0.1406 - accuracy: 0.94 - ETA: 0s - loss: 0.1427 - accuracy: 0.93 - ETA: 0s - loss: 0.1401 - accuracy: 0.94 - ETA: 0s - loss: 0.1390 - accuracy: 0.94 - ETA: 0s - loss: 0.1374 - accuracy: 0.94 - 1s 3ms/step - loss: 0.1381 - accuracy: 0.9401 - val_loss: 0.8787 - val_accuracy: 0.8148\n",
      "Epoch 33/50\n",
      "235/235 [==============================] - ETA: 0s - loss: 0.1108 - accuracy: 0.93 - ETA: 0s - loss: 0.1118 - accuracy: 0.94 - ETA: 0s - loss: 0.1343 - accuracy: 0.94 - ETA: 0s - loss: 0.1234 - accuracy: 0.94 - ETA: 0s - loss: 0.1207 - accuracy: 0.94 - ETA: 0s - loss: 0.1259 - accuracy: 0.94 - ETA: 0s - loss: 0.1219 - accuracy: 0.94 - ETA: 0s - loss: 0.1241 - accuracy: 0.94 - ETA: 0s - loss: 0.1258 - accuracy: 0.94 - ETA: 0s - loss: 0.1274 - accuracy: 0.94 - ETA: 0s - loss: 0.1285 - accuracy: 0.94 - 1s 3ms/step - loss: 0.1294 - accuracy: 0.9409 - val_loss: 0.8508 - val_accuracy: 0.8404\n",
      "Epoch 34/50\n",
      "235/235 [==============================] - ETA: 0s - loss: 0.0932 - accuracy: 0.96 - ETA: 0s - loss: 0.0898 - accuracy: 0.96 - ETA: 0s - loss: 0.0919 - accuracy: 0.96 - ETA: 0s - loss: 0.0957 - accuracy: 0.95 - ETA: 0s - loss: 0.0960 - accuracy: 0.95 - ETA: 0s - loss: 0.0949 - accuracy: 0.95 - ETA: 0s - loss: 0.0975 - accuracy: 0.95 - ETA: 0s - loss: 0.1030 - accuracy: 0.95 - ETA: 0s - loss: 0.1030 - accuracy: 0.95 - ETA: 0s - loss: 0.1086 - accuracy: 0.94 - ETA: 0s - loss: 0.1119 - accuracy: 0.94 - 1s 3ms/step - loss: 0.1143 - accuracy: 0.9456 - val_loss: 0.9054 - val_accuracy: 0.8308\n",
      "Epoch 35/50\n",
      "235/235 [==============================] - ETA: 0s - loss: 0.0905 - accuracy: 0.96 - ETA: 0s - loss: 0.0962 - accuracy: 0.96 - ETA: 0s - loss: 0.0906 - accuracy: 0.96 - ETA: 0s - loss: 0.0999 - accuracy: 0.96 - ETA: 0s - loss: 0.1018 - accuracy: 0.95 - ETA: 0s - loss: 0.0996 - accuracy: 0.95 - ETA: 0s - loss: 0.1061 - accuracy: 0.95 - ETA: 0s - loss: 0.1097 - accuracy: 0.95 - ETA: 0s - loss: 0.1120 - accuracy: 0.95 - ETA: 0s - loss: 0.1125 - accuracy: 0.95 - ETA: 0s - loss: 0.1145 - accuracy: 0.94 - 1s 3ms/step - loss: 0.1168 - accuracy: 0.9489 - val_loss: 0.9631 - val_accuracy: 0.8212\n",
      "Epoch 36/50\n",
      "235/235 [==============================] - ETA: 0s - loss: 0.0520 - accuracy: 0.96 - ETA: 0s - loss: 0.0907 - accuracy: 0.95 - ETA: 0s - loss: 0.0966 - accuracy: 0.96 - ETA: 0s - loss: 0.1039 - accuracy: 0.95 - ETA: 0s - loss: 0.1090 - accuracy: 0.95 - ETA: 0s - loss: 0.1109 - accuracy: 0.95 - ETA: 0s - loss: 0.1127 - accuracy: 0.95 - ETA: 0s - loss: 0.1140 - accuracy: 0.95 - ETA: 0s - loss: 0.1176 - accuracy: 0.95 - ETA: 0s - loss: 0.1197 - accuracy: 0.94 - ETA: 0s - loss: 0.1228 - accuracy: 0.94 - 1s 3ms/step - loss: 0.1230 - accuracy: 0.9479 - val_loss: 0.8868 - val_accuracy: 0.8316\n",
      "Epoch 37/50\n",
      "235/235 [==============================] - ETA: 0s - loss: 0.0954 - accuracy: 0.93 - ETA: 0s - loss: 0.0887 - accuracy: 0.96 - ETA: 0s - loss: 0.0960 - accuracy: 0.96 - ETA: 0s - loss: 0.0976 - accuracy: 0.95 - ETA: 0s - loss: 0.0954 - accuracy: 0.96 - ETA: 0s - loss: 0.0944 - accuracy: 0.96 - ETA: 0s - loss: 0.0928 - accuracy: 0.96 - ETA: 0s - loss: 0.0916 - accuracy: 0.96 - ETA: 0s - loss: 0.0925 - accuracy: 0.96 - ETA: 0s - loss: 0.0932 - accuracy: 0.96 - ETA: 0s - loss: 0.0970 - accuracy: 0.95 - 1s 3ms/step - loss: 0.0991 - accuracy: 0.9581 - val_loss: 1.0684 - val_accuracy: 0.8236\n",
      "Epoch 38/50\n"
     ]
    },
    {
     "name": "stdout",
     "output_type": "stream",
     "text": [
      "235/235 [==============================] - ETA: 0s - loss: 0.1893 - accuracy: 0.93 - ETA: 0s - loss: 0.1074 - accuracy: 0.95 - ETA: 0s - loss: 0.1035 - accuracy: 0.95 - ETA: 0s - loss: 0.1022 - accuracy: 0.95 - ETA: 0s - loss: 0.1043 - accuracy: 0.95 - ETA: 0s - loss: 0.0983 - accuracy: 0.95 - ETA: 0s - loss: 0.0984 - accuracy: 0.95 - ETA: 0s - loss: 0.0964 - accuracy: 0.95 - ETA: 0s - loss: 0.1002 - accuracy: 0.95 - ETA: 0s - loss: 0.1010 - accuracy: 0.95 - ETA: 0s - loss: 0.1029 - accuracy: 0.95 - 1s 3ms/step - loss: 0.1032 - accuracy: 0.9557 - val_loss: 1.0220 - val_accuracy: 0.8152\n",
      "Epoch 39/50\n",
      "235/235 [==============================] - ETA: 0s - loss: 0.0718 - accuracy: 0.96 - ETA: 0s - loss: 0.1023 - accuracy: 0.95 - ETA: 0s - loss: 0.0952 - accuracy: 0.96 - ETA: 0s - loss: 0.0890 - accuracy: 0.96 - ETA: 0s - loss: 0.0858 - accuracy: 0.96 - ETA: 0s - loss: 0.0819 - accuracy: 0.96 - ETA: 0s - loss: 0.0833 - accuracy: 0.96 - ETA: 0s - loss: 0.0882 - accuracy: 0.96 - ETA: 0s - loss: 0.0874 - accuracy: 0.96 - ETA: 0s - loss: 0.0873 - accuracy: 0.96 - ETA: 0s - loss: 0.0884 - accuracy: 0.96 - 1s 3ms/step - loss: 0.0895 - accuracy: 0.9599 - val_loss: 1.1367 - val_accuracy: 0.8280\n",
      "Epoch 40/50\n",
      "235/235 [==============================] - ETA: 0s - loss: 0.0466 - accuracy: 1.00 - ETA: 0s - loss: 0.0536 - accuracy: 0.97 - ETA: 0s - loss: 0.0691 - accuracy: 0.97 - ETA: 0s - loss: 0.0687 - accuracy: 0.97 - ETA: 0s - loss: 0.0702 - accuracy: 0.97 - ETA: 0s - loss: 0.0705 - accuracy: 0.97 - ETA: 0s - loss: 0.0724 - accuracy: 0.96 - ETA: 0s - loss: 0.0769 - accuracy: 0.96 - ETA: 0s - loss: 0.0837 - accuracy: 0.96 - ETA: 0s - loss: 0.0850 - accuracy: 0.96 - ETA: 0s - loss: 0.0826 - accuracy: 0.96 - 1s 3ms/step - loss: 0.0831 - accuracy: 0.9640 - val_loss: 1.2294 - val_accuracy: 0.8196\n",
      "Epoch 41/50\n",
      "235/235 [==============================] - ETA: 0s - loss: 0.0309 - accuracy: 1.00 - ETA: 0s - loss: 0.0652 - accuracy: 0.97 - ETA: 0s - loss: 0.0708 - accuracy: 0.97 - ETA: 0s - loss: 0.0717 - accuracy: 0.96 - ETA: 0s - loss: 0.0720 - accuracy: 0.97 - ETA: 0s - loss: 0.0815 - accuracy: 0.96 - ETA: 0s - loss: 0.0845 - accuracy: 0.96 - ETA: 0s - loss: 0.0872 - accuracy: 0.96 - ETA: 0s - loss: 0.0893 - accuracy: 0.96 - ETA: 0s - loss: 0.0886 - accuracy: 0.96 - ETA: 0s - loss: 0.0907 - accuracy: 0.96 - 1s 3ms/step - loss: 0.0956 - accuracy: 0.9591 - val_loss: 1.0466 - val_accuracy: 0.8056\n",
      "Epoch 42/50\n",
      "235/235 [==============================] - ETA: 0s - loss: 0.0824 - accuracy: 0.93 - ETA: 0s - loss: 0.0689 - accuracy: 0.96 - ETA: 0s - loss: 0.0694 - accuracy: 0.97 - ETA: 0s - loss: 0.0727 - accuracy: 0.96 - ETA: 0s - loss: 0.0730 - accuracy: 0.96 - ETA: 0s - loss: 0.0694 - accuracy: 0.96 - ETA: 0s - loss: 0.0703 - accuracy: 0.96 - ETA: 0s - loss: 0.0690 - accuracy: 0.96 - ETA: 0s - loss: 0.0681 - accuracy: 0.96 - ETA: 0s - loss: 0.0688 - accuracy: 0.96 - ETA: 0s - loss: 0.0738 - accuracy: 0.96 - 1s 3ms/step - loss: 0.0740 - accuracy: 0.9667 - val_loss: 1.2238 - val_accuracy: 0.8212\n",
      "Epoch 43/50\n",
      "235/235 [==============================] - ETA: 0s - loss: 0.0560 - accuracy: 1.00 - ETA: 0s - loss: 0.0953 - accuracy: 0.97 - ETA: 0s - loss: 0.0832 - accuracy: 0.97 - ETA: 0s - loss: 0.0816 - accuracy: 0.97 - ETA: 0s - loss: 0.0864 - accuracy: 0.96 - ETA: 0s - loss: 0.0896 - accuracy: 0.96 - ETA: 0s - loss: 0.0968 - accuracy: 0.96 - ETA: 0s - loss: 0.1060 - accuracy: 0.96 - ETA: 0s - loss: 0.1083 - accuracy: 0.95 - ETA: 0s - loss: 0.1099 - accuracy: 0.95 - ETA: 0s - loss: 0.1084 - accuracy: 0.95 - 1s 3ms/step - loss: 0.1083 - accuracy: 0.9568 - val_loss: 1.0272 - val_accuracy: 0.8148\n",
      "Epoch 44/50\n",
      "235/235 [==============================] - ETA: 0s - loss: 0.0231 - accuracy: 1.00 - ETA: 0s - loss: 0.0868 - accuracy: 0.96 - ETA: 0s - loss: 0.0800 - accuracy: 0.96 - ETA: 0s - loss: 0.0740 - accuracy: 0.97 - ETA: 0s - loss: 0.0738 - accuracy: 0.97 - ETA: 0s - loss: 0.0702 - accuracy: 0.97 - ETA: 0s - loss: 0.0699 - accuracy: 0.97 - ETA: 0s - loss: 0.0676 - accuracy: 0.97 - ETA: 0s - loss: 0.0690 - accuracy: 0.97 - ETA: 0s - loss: 0.0700 - accuracy: 0.97 - ETA: 0s - loss: 0.0715 - accuracy: 0.97 - 1s 3ms/step - loss: 0.0710 - accuracy: 0.9708 - val_loss: 1.2018 - val_accuracy: 0.8248\n",
      "Epoch 45/50\n",
      "235/235 [==============================] - ETA: 0s - loss: 0.0947 - accuracy: 0.96 - ETA: 0s - loss: 0.0527 - accuracy: 0.98 - ETA: 0s - loss: 0.0434 - accuracy: 0.98 - ETA: 0s - loss: 0.0471 - accuracy: 0.98 - ETA: 0s - loss: 0.0492 - accuracy: 0.98 - ETA: 0s - loss: 0.0541 - accuracy: 0.97 - ETA: 0s - loss: 0.0543 - accuracy: 0.97 - ETA: 0s - loss: 0.0542 - accuracy: 0.97 - ETA: 0s - loss: 0.0551 - accuracy: 0.97 - ETA: 0s - loss: 0.0569 - accuracy: 0.97 - ETA: 0s - loss: 0.0609 - accuracy: 0.97 - 1s 3ms/step - loss: 0.0642 - accuracy: 0.9720 - val_loss: 1.3210 - val_accuracy: 0.8148\n",
      "Epoch 46/50\n",
      "235/235 [==============================] - ETA: 0s - loss: 0.0758 - accuracy: 0.96 - ETA: 0s - loss: 0.0879 - accuracy: 0.96 - ETA: 0s - loss: 0.0747 - accuracy: 0.97 - ETA: 0s - loss: 0.0862 - accuracy: 0.96 - ETA: 0s - loss: 0.0841 - accuracy: 0.96 - ETA: 0s - loss: 0.0815 - accuracy: 0.97 - ETA: 0s - loss: 0.0834 - accuracy: 0.97 - ETA: 0s - loss: 0.0822 - accuracy: 0.97 - ETA: 0s - loss: 0.0832 - accuracy: 0.96 - ETA: 0s - loss: 0.0813 - accuracy: 0.96 - ETA: 0s - loss: 0.0854 - accuracy: 0.96 - 1s 3ms/step - loss: 0.0859 - accuracy: 0.9672 - val_loss: 1.1833 - val_accuracy: 0.8232\n",
      "Epoch 47/50\n",
      "235/235 [==============================] - ETA: 0s - loss: 0.0464 - accuracy: 0.96 - ETA: 0s - loss: 0.0684 - accuracy: 0.97 - ETA: 0s - loss: 0.0722 - accuracy: 0.96 - ETA: 0s - loss: 0.0676 - accuracy: 0.97 - ETA: 0s - loss: 0.0645 - accuracy: 0.97 - ETA: 0s - loss: 0.0705 - accuracy: 0.97 - ETA: 0s - loss: 0.0715 - accuracy: 0.97 - ETA: 0s - loss: 0.0709 - accuracy: 0.97 - ETA: 0s - loss: 0.0720 - accuracy: 0.97 - ETA: 0s - loss: 0.0740 - accuracy: 0.96 - ETA: 0s - loss: 0.0730 - accuracy: 0.96 - ETA: 0s - loss: 0.0733 - accuracy: 0.96 - 1s 3ms/step - loss: 0.0780 - accuracy: 0.9696 - val_loss: 1.1610 - val_accuracy: 0.8080\n",
      "Epoch 48/50\n",
      "235/235 [==============================] - ETA: 0s - loss: 0.0320 - accuracy: 1.00 - ETA: 0s - loss: 0.0737 - accuracy: 0.97 - ETA: 0s - loss: 0.0724 - accuracy: 0.97 - ETA: 0s - loss: 0.0790 - accuracy: 0.96 - ETA: 0s - loss: 0.0739 - accuracy: 0.96 - ETA: 0s - loss: 0.0778 - accuracy: 0.96 - ETA: 0s - loss: 0.0727 - accuracy: 0.97 - ETA: 0s - loss: 0.0741 - accuracy: 0.97 - ETA: 0s - loss: 0.0732 - accuracy: 0.97 - ETA: 0s - loss: 0.0759 - accuracy: 0.96 - ETA: 0s - loss: 0.0772 - accuracy: 0.96 - 1s 3ms/step - loss: 0.0767 - accuracy: 0.9693 - val_loss: 1.2076 - val_accuracy: 0.8280\n",
      "Epoch 49/50\n",
      "235/235 [==============================] - ETA: 0s - loss: 0.0422 - accuracy: 0.96 - ETA: 0s - loss: 0.0411 - accuracy: 0.98 - ETA: 0s - loss: 0.0470 - accuracy: 0.98 - ETA: 0s - loss: 0.0457 - accuracy: 0.98 - ETA: 0s - loss: 0.0433 - accuracy: 0.98 - ETA: 0s - loss: 0.0457 - accuracy: 0.98 - ETA: 0s - loss: 0.0464 - accuracy: 0.98 - ETA: 0s - loss: 0.0504 - accuracy: 0.98 - ETA: 0s - loss: 0.0539 - accuracy: 0.97 - ETA: 0s - loss: 0.0573 - accuracy: 0.97 - ETA: 0s - loss: 0.0577 - accuracy: 0.97 - 1s 3ms/step - loss: 0.0589 - accuracy: 0.9765 - val_loss: 1.2869 - val_accuracy: 0.8188\n",
      "Epoch 50/50\n",
      "235/235 [==============================] - ETA: 0s - loss: 0.0532 - accuracy: 0.96 - ETA: 0s - loss: 0.0483 - accuracy: 0.98 - ETA: 0s - loss: 0.0500 - accuracy: 0.98 - ETA: 0s - loss: 0.0535 - accuracy: 0.97 - ETA: 0s - loss: 0.0525 - accuracy: 0.97 - ETA: 0s - loss: 0.0538 - accuracy: 0.97 - ETA: 0s - loss: 0.0546 - accuracy: 0.97 - ETA: 0s - loss: 0.0551 - accuracy: 0.97 - ETA: 0s - loss: 0.0569 - accuracy: 0.97 - ETA: 0s - loss: 0.0584 - accuracy: 0.97 - ETA: 0s - loss: 0.0577 - accuracy: 0.97 - ETA: 0s - loss: 0.0593 - accuracy: 0.97 - 1s 3ms/step - loss: 0.0617 - accuracy: 0.9756 - val_loss: 1.2587 - val_accuracy: 0.8048\n",
      "Epoch 1/50\n"
     ]
    },
    {
     "name": "stdout",
     "output_type": "stream",
     "text": [
      "235/235 [==============================] - ETA: 0s - loss: 0.6961 - accuracy: 0.46 - ETA: 0s - loss: 0.5036 - accuracy: 0.77 - ETA: 0s - loss: 0.4604 - accuracy: 0.79 - ETA: 0s - loss: 0.4496 - accuracy: 0.80 - ETA: 0s - loss: 0.4382 - accuracy: 0.81 - ETA: 0s - loss: 0.4205 - accuracy: 0.82 - ETA: 0s - loss: 0.4146 - accuracy: 0.82 - ETA: 0s - loss: 0.4049 - accuracy: 0.83 - ETA: 0s - loss: 0.4018 - accuracy: 0.83 - ETA: 0s - loss: 0.3991 - accuracy: 0.83 - ETA: 0s - loss: 0.3957 - accuracy: 0.83 - 1s 3ms/step - loss: 0.3976 - accuracy: 0.8327 - val_loss: 0.3699 - val_accuracy: 0.8508\n",
      "Epoch 2/50\n",
      "235/235 [==============================] - ETA: 0s - loss: 0.4759 - accuracy: 0.84 - ETA: 0s - loss: 0.3480 - accuracy: 0.84 - ETA: 0s - loss: 0.3567 - accuracy: 0.84 - ETA: 0s - loss: 0.3622 - accuracy: 0.85 - ETA: 0s - loss: 0.3548 - accuracy: 0.85 - ETA: 0s - loss: 0.3526 - accuracy: 0.85 - ETA: 0s - loss: 0.3546 - accuracy: 0.85 - ETA: 0s - loss: 0.3559 - accuracy: 0.85 - ETA: 0s - loss: 0.3550 - accuracy: 0.85 - ETA: 0s - loss: 0.3539 - accuracy: 0.85 - ETA: 0s - loss: 0.3527 - accuracy: 0.85 - 1s 3ms/step - loss: 0.3532 - accuracy: 0.8539 - val_loss: 0.3507 - val_accuracy: 0.8612\n",
      "Epoch 3/50\n",
      "235/235 [==============================] - ETA: 0s - loss: 0.3765 - accuracy: 0.84 - ETA: 0s - loss: 0.3365 - accuracy: 0.85 - ETA: 0s - loss: 0.3318 - accuracy: 0.86 - ETA: 0s - loss: 0.3369 - accuracy: 0.85 - ETA: 0s - loss: 0.3443 - accuracy: 0.85 - ETA: 0s - loss: 0.3425 - accuracy: 0.85 - ETA: 0s - loss: 0.3494 - accuracy: 0.85 - ETA: 0s - loss: 0.3473 - accuracy: 0.85 - ETA: 0s - loss: 0.3468 - accuracy: 0.85 - ETA: 0s - loss: 0.3413 - accuracy: 0.86 - ETA: 0s - loss: 0.3425 - accuracy: 0.86 - 1s 3ms/step - loss: 0.3409 - accuracy: 0.8609 - val_loss: 0.3461 - val_accuracy: 0.8572\n",
      "Epoch 4/50\n",
      "235/235 [==============================] - ETA: 0s - loss: 0.3658 - accuracy: 0.84 - ETA: 0s - loss: 0.3128 - accuracy: 0.87 - ETA: 0s - loss: 0.3187 - accuracy: 0.87 - ETA: 0s - loss: 0.3311 - accuracy: 0.86 - ETA: 0s - loss: 0.3302 - accuracy: 0.86 - ETA: 0s - loss: 0.3364 - accuracy: 0.85 - ETA: 0s - loss: 0.3354 - accuracy: 0.86 - ETA: 0s - loss: 0.3365 - accuracy: 0.86 - ETA: 0s - loss: 0.3338 - accuracy: 0.86 - ETA: 0s - loss: 0.3371 - accuracy: 0.86 - ETA: 0s - loss: 0.3366 - accuracy: 0.86 - 1s 3ms/step - loss: 0.3348 - accuracy: 0.8637 - val_loss: 0.3534 - val_accuracy: 0.8500\n",
      "Epoch 5/50\n",
      "235/235 [==============================] - ETA: 0s - loss: 0.3839 - accuracy: 0.81 - ETA: 0s - loss: 0.3170 - accuracy: 0.86 - ETA: 0s - loss: 0.3229 - accuracy: 0.86 - ETA: 0s - loss: 0.3388 - accuracy: 0.85 - ETA: 0s - loss: 0.3419 - accuracy: 0.85 - ETA: 0s - loss: 0.3395 - accuracy: 0.85 - ETA: 0s - loss: 0.3379 - accuracy: 0.85 - ETA: 0s - loss: 0.3398 - accuracy: 0.86 - ETA: 0s - loss: 0.3330 - accuracy: 0.86 - ETA: 0s - loss: 0.3362 - accuracy: 0.86 - ETA: 0s - loss: 0.3354 - accuracy: 0.86 - 1s 3ms/step - loss: 0.3335 - accuracy: 0.8657 - val_loss: 0.3449 - val_accuracy: 0.8588\n",
      "Epoch 6/50\n",
      "235/235 [==============================] - ETA: 0s - loss: 0.3830 - accuracy: 0.84 - ETA: 0s - loss: 0.3270 - accuracy: 0.86 - ETA: 0s - loss: 0.3071 - accuracy: 0.88 - ETA: 0s - loss: 0.3153 - accuracy: 0.87 - ETA: 0s - loss: 0.3220 - accuracy: 0.87 - ETA: 0s - loss: 0.3249 - accuracy: 0.86 - ETA: 0s - loss: 0.3245 - accuracy: 0.86 - ETA: 0s - loss: 0.3268 - accuracy: 0.86 - ETA: 0s - loss: 0.3208 - accuracy: 0.86 - ETA: 0s - loss: 0.3244 - accuracy: 0.86 - ETA: 0s - loss: 0.3270 - accuracy: 0.86 - 1s 3ms/step - loss: 0.3253 - accuracy: 0.8675 - val_loss: 0.3421 - val_accuracy: 0.8616\n",
      "Epoch 7/50\n",
      "235/235 [==============================] - ETA: 0s - loss: 0.1667 - accuracy: 0.93 - ETA: 0s - loss: 0.3023 - accuracy: 0.86 - ETA: 0s - loss: 0.3155 - accuracy: 0.87 - ETA: 0s - loss: 0.3302 - accuracy: 0.86 - ETA: 0s - loss: 0.3292 - accuracy: 0.86 - ETA: 0s - loss: 0.3220 - accuracy: 0.87 - ETA: 0s - loss: 0.3218 - accuracy: 0.86 - ETA: 0s - loss: 0.3201 - accuracy: 0.86 - ETA: 0s - loss: 0.3213 - accuracy: 0.86 - ETA: 0s - loss: 0.3221 - accuracy: 0.86 - ETA: 0s - loss: 0.3219 - accuracy: 0.86 - 1s 3ms/step - loss: 0.3238 - accuracy: 0.8679 - val_loss: 0.3380 - val_accuracy: 0.8608\n",
      "Epoch 8/50\n",
      "235/235 [==============================] - ETA: 0s - loss: 0.2946 - accuracy: 0.87 - ETA: 0s - loss: 0.3028 - accuracy: 0.87 - ETA: 0s - loss: 0.3065 - accuracy: 0.87 - ETA: 0s - loss: 0.3096 - accuracy: 0.87 - ETA: 0s - loss: 0.3054 - accuracy: 0.87 - ETA: 0s - loss: 0.3109 - accuracy: 0.87 - ETA: 0s - loss: 0.3125 - accuracy: 0.87 - ETA: 0s - loss: 0.3111 - accuracy: 0.87 - ETA: 0s - loss: 0.3133 - accuracy: 0.87 - ETA: 0s - loss: 0.3146 - accuracy: 0.87 - ETA: 0s - loss: 0.3163 - accuracy: 0.87 - 1s 3ms/step - loss: 0.3200 - accuracy: 0.8701 - val_loss: 0.3462 - val_accuracy: 0.8552\n",
      "Epoch 9/50\n",
      "235/235 [==============================] - ETA: 0s - loss: 0.3066 - accuracy: 0.90 - ETA: 0s - loss: 0.3314 - accuracy: 0.85 - ETA: 0s - loss: 0.3131 - accuracy: 0.86 - ETA: 0s - loss: 0.3171 - accuracy: 0.86 - ETA: 0s - loss: 0.3173 - accuracy: 0.86 - ETA: 0s - loss: 0.3192 - accuracy: 0.86 - ETA: 0s - loss: 0.3250 - accuracy: 0.86 - ETA: 0s - loss: 0.3214 - accuracy: 0.86 - ETA: 0s - loss: 0.3205 - accuracy: 0.86 - ETA: 0s - loss: 0.3185 - accuracy: 0.86 - ETA: 0s - loss: 0.3171 - accuracy: 0.86 - 1s 3ms/step - loss: 0.3149 - accuracy: 0.8701 - val_loss: 0.3521 - val_accuracy: 0.8520\n",
      "Epoch 10/50\n",
      "235/235 [==============================] - ETA: 0s - loss: 0.4743 - accuracy: 0.84 - ETA: 0s - loss: 0.2904 - accuracy: 0.88 - ETA: 0s - loss: 0.2838 - accuracy: 0.88 - ETA: 0s - loss: 0.2896 - accuracy: 0.87 - ETA: 0s - loss: 0.2950 - accuracy: 0.87 - ETA: 0s - loss: 0.3029 - accuracy: 0.87 - ETA: 0s - loss: 0.3038 - accuracy: 0.87 - ETA: 0s - loss: 0.3049 - accuracy: 0.87 - ETA: 0s - loss: 0.3068 - accuracy: 0.87 - ETA: 0s - loss: 0.3072 - accuracy: 0.87 - ETA: 0s - loss: 0.3096 - accuracy: 0.86 - 1s 3ms/step - loss: 0.3096 - accuracy: 0.8704 - val_loss: 0.3495 - val_accuracy: 0.8540\n",
      "Epoch 11/50\n",
      "235/235 [==============================] - ETA: 0s - loss: 0.5556 - accuracy: 0.75 - ETA: 0s - loss: 0.3065 - accuracy: 0.87 - ETA: 0s - loss: 0.2931 - accuracy: 0.88 - ETA: 0s - loss: 0.2947 - accuracy: 0.88 - ETA: 0s - loss: 0.3004 - accuracy: 0.87 - ETA: 0s - loss: 0.3009 - accuracy: 0.87 - ETA: 0s - loss: 0.2996 - accuracy: 0.87 - ETA: 0s - loss: 0.3018 - accuracy: 0.87 - ETA: 0s - loss: 0.2999 - accuracy: 0.87 - ETA: 0s - loss: 0.3034 - accuracy: 0.87 - ETA: 0s - loss: 0.3057 - accuracy: 0.87 - 1s 3ms/step - loss: 0.3053 - accuracy: 0.8716 - val_loss: 0.3581 - val_accuracy: 0.8572\n",
      "Epoch 12/50\n",
      "235/235 [==============================] - ETA: 0s - loss: 0.3572 - accuracy: 0.84 - ETA: 0s - loss: 0.3024 - accuracy: 0.87 - ETA: 0s - loss: 0.2869 - accuracy: 0.87 - ETA: 0s - loss: 0.2818 - accuracy: 0.87 - ETA: 0s - loss: 0.2917 - accuracy: 0.87 - ETA: 0s - loss: 0.2939 - accuracy: 0.87 - ETA: 0s - loss: 0.2921 - accuracy: 0.87 - ETA: 0s - loss: 0.2861 - accuracy: 0.88 - ETA: 0s - loss: 0.2914 - accuracy: 0.87 - ETA: 0s - loss: 0.2967 - accuracy: 0.87 - ETA: 0s - loss: 0.2974 - accuracy: 0.87 - 1s 3ms/step - loss: 0.2973 - accuracy: 0.8751 - val_loss: 0.3641 - val_accuracy: 0.8512\n",
      "Epoch 13/50\n",
      "235/235 [==============================] - ETA: 0s - loss: 0.1591 - accuracy: 0.90 - ETA: 0s - loss: 0.2567 - accuracy: 0.89 - ETA: 0s - loss: 0.2693 - accuracy: 0.88 - ETA: 0s - loss: 0.2777 - accuracy: 0.88 - ETA: 0s - loss: 0.2739 - accuracy: 0.88 - ETA: 0s - loss: 0.2834 - accuracy: 0.88 - ETA: 0s - loss: 0.2855 - accuracy: 0.87 - ETA: 0s - loss: 0.2884 - accuracy: 0.87 - ETA: 0s - loss: 0.2837 - accuracy: 0.88 - ETA: 0s - loss: 0.2868 - accuracy: 0.87 - ETA: 0s - loss: 0.2889 - accuracy: 0.87 - 1s 3ms/step - loss: 0.2908 - accuracy: 0.8765 - val_loss: 0.3711 - val_accuracy: 0.8500\n",
      "Epoch 14/50\n"
     ]
    },
    {
     "name": "stdout",
     "output_type": "stream",
     "text": [
      "235/235 [==============================] - ETA: 0s - loss: 0.1817 - accuracy: 0.93 - ETA: 0s - loss: 0.2860 - accuracy: 0.87 - ETA: 0s - loss: 0.2618 - accuracy: 0.89 - ETA: 0s - loss: 0.2622 - accuracy: 0.88 - ETA: 0s - loss: 0.2713 - accuracy: 0.88 - ETA: 0s - loss: 0.2764 - accuracy: 0.88 - ETA: 0s - loss: 0.2771 - accuracy: 0.88 - ETA: 0s - loss: 0.2836 - accuracy: 0.87 - ETA: 0s - loss: 0.2843 - accuracy: 0.87 - ETA: 0s - loss: 0.2828 - accuracy: 0.88 - ETA: 0s - loss: 0.2897 - accuracy: 0.87 - 1s 3ms/step - loss: 0.2899 - accuracy: 0.8777 - val_loss: 0.3608 - val_accuracy: 0.8548\n",
      "Epoch 15/50\n",
      "235/235 [==============================] - ETA: 0s - loss: 0.2481 - accuracy: 0.93 - ETA: 0s - loss: 0.2838 - accuracy: 0.88 - ETA: 0s - loss: 0.2832 - accuracy: 0.88 - ETA: 0s - loss: 0.2744 - accuracy: 0.89 - ETA: 0s - loss: 0.2788 - accuracy: 0.88 - ETA: 0s - loss: 0.2779 - accuracy: 0.88 - ETA: 0s - loss: 0.2829 - accuracy: 0.88 - ETA: 0s - loss: 0.2833 - accuracy: 0.88 - ETA: 0s - loss: 0.2848 - accuracy: 0.88 - ETA: 0s - loss: 0.2834 - accuracy: 0.88 - ETA: 0s - loss: 0.2814 - accuracy: 0.88 - 1s 3ms/step - loss: 0.2807 - accuracy: 0.8853 - val_loss: 0.3835 - val_accuracy: 0.8544\n",
      "Epoch 16/50\n",
      "235/235 [==============================] - ETA: 0s - loss: 0.3705 - accuracy: 0.75 - ETA: 0s - loss: 0.2752 - accuracy: 0.87 - ETA: 0s - loss: 0.2711 - accuracy: 0.88 - ETA: 0s - loss: 0.2653 - accuracy: 0.88 - ETA: 0s - loss: 0.2685 - accuracy: 0.88 - ETA: 0s - loss: 0.2633 - accuracy: 0.88 - ETA: 0s - loss: 0.2635 - accuracy: 0.88 - ETA: 0s - loss: 0.2652 - accuracy: 0.88 - ETA: 0s - loss: 0.2660 - accuracy: 0.88 - ETA: 0s - loss: 0.2698 - accuracy: 0.88 - ETA: 0s - loss: 0.2733 - accuracy: 0.88 - 1s 3ms/step - loss: 0.2739 - accuracy: 0.8831 - val_loss: 0.3856 - val_accuracy: 0.8588\n",
      "Epoch 17/50\n",
      "235/235 [==============================] - ETA: 0s - loss: 0.3518 - accuracy: 0.90 - ETA: 0s - loss: 0.2470 - accuracy: 0.88 - ETA: 0s - loss: 0.2382 - accuracy: 0.89 - ETA: 0s - loss: 0.2418 - accuracy: 0.89 - ETA: 0s - loss: 0.2473 - accuracy: 0.89 - ETA: 0s - loss: 0.2478 - accuracy: 0.89 - ETA: 0s - loss: 0.2502 - accuracy: 0.88 - ETA: 0s - loss: 0.2550 - accuracy: 0.88 - ETA: 0s - loss: 0.2547 - accuracy: 0.88 - ETA: 0s - loss: 0.2614 - accuracy: 0.88 - ETA: 0s - loss: 0.2650 - accuracy: 0.88 - 1s 3ms/step - loss: 0.2654 - accuracy: 0.8841 - val_loss: 0.3753 - val_accuracy: 0.8540\n",
      "Epoch 18/50\n",
      "235/235 [==============================] - ETA: 0s - loss: 0.3633 - accuracy: 0.87 - ETA: 0s - loss: 0.2433 - accuracy: 0.90 - ETA: 0s - loss: 0.2513 - accuracy: 0.90 - ETA: 0s - loss: 0.2491 - accuracy: 0.89 - ETA: 0s - loss: 0.2461 - accuracy: 0.89 - ETA: 0s - loss: 0.2523 - accuracy: 0.89 - ETA: 0s - loss: 0.2531 - accuracy: 0.88 - ETA: 0s - loss: 0.2521 - accuracy: 0.89 - ETA: 0s - loss: 0.2579 - accuracy: 0.88 - ETA: 0s - loss: 0.2569 - accuracy: 0.88 - ETA: 0s - loss: 0.2564 - accuracy: 0.89 - 1s 3ms/step - loss: 0.2595 - accuracy: 0.8888 - val_loss: 0.4075 - val_accuracy: 0.8348\n",
      "Epoch 19/50\n",
      "235/235 [==============================] - ETA: 0s - loss: 0.2982 - accuracy: 0.87 - ETA: 0s - loss: 0.2498 - accuracy: 0.88 - ETA: 0s - loss: 0.2583 - accuracy: 0.88 - ETA: 0s - loss: 0.2511 - accuracy: 0.89 - ETA: 0s - loss: 0.2533 - accuracy: 0.89 - ETA: 0s - loss: 0.2528 - accuracy: 0.89 - ETA: 0s - loss: 0.2462 - accuracy: 0.89 - ETA: 0s - loss: 0.2461 - accuracy: 0.89 - ETA: 0s - loss: 0.2501 - accuracy: 0.89 - ETA: 0s - loss: 0.2507 - accuracy: 0.89 - ETA: 0s - loss: 0.2506 - accuracy: 0.89 - 1s 3ms/step - loss: 0.2512 - accuracy: 0.8916 - val_loss: 0.4415 - val_accuracy: 0.8396\n",
      "Epoch 20/50\n",
      "235/235 [==============================] - ETA: 0s - loss: 0.2951 - accuracy: 0.90 - ETA: 0s - loss: 0.2510 - accuracy: 0.89 - ETA: 0s - loss: 0.2347 - accuracy: 0.90 - ETA: 0s - loss: 0.2367 - accuracy: 0.89 - ETA: 0s - loss: 0.2376 - accuracy: 0.89 - ETA: 0s - loss: 0.2405 - accuracy: 0.89 - ETA: 0s - loss: 0.2425 - accuracy: 0.89 - ETA: 0s - loss: 0.2396 - accuracy: 0.89 - ETA: 0s - loss: 0.2424 - accuracy: 0.89 - ETA: 0s - loss: 0.2443 - accuracy: 0.89 - ETA: 0s - loss: 0.2446 - accuracy: 0.89 - 1s 3ms/step - loss: 0.2457 - accuracy: 0.8957 - val_loss: 0.4178 - val_accuracy: 0.8528\n",
      "Epoch 21/50\n",
      "235/235 [==============================] - ETA: 0s - loss: 0.2684 - accuracy: 0.90 - ETA: 0s - loss: 0.2353 - accuracy: 0.88 - ETA: 0s - loss: 0.2328 - accuracy: 0.89 - ETA: 0s - loss: 0.2265 - accuracy: 0.89 - ETA: 0s - loss: 0.2213 - accuracy: 0.90 - ETA: 0s - loss: 0.2321 - accuracy: 0.89 - ETA: 0s - loss: 0.2343 - accuracy: 0.89 - ETA: 0s - loss: 0.2276 - accuracy: 0.90 - ETA: 0s - loss: 0.2282 - accuracy: 0.89 - ETA: 0s - loss: 0.2295 - accuracy: 0.89 - ETA: 0s - loss: 0.2293 - accuracy: 0.89 - 1s 3ms/step - loss: 0.2294 - accuracy: 0.8983 - val_loss: 0.4632 - val_accuracy: 0.8528\n",
      "Epoch 22/50\n",
      "235/235 [==============================] - ETA: 0s - loss: 0.2049 - accuracy: 0.90 - ETA: 0s - loss: 0.1901 - accuracy: 0.91 - ETA: 0s - loss: 0.1963 - accuracy: 0.91 - ETA: 0s - loss: 0.2034 - accuracy: 0.90 - ETA: 0s - loss: 0.2082 - accuracy: 0.91 - ETA: 0s - loss: 0.2085 - accuracy: 0.91 - ETA: 0s - loss: 0.2085 - accuracy: 0.91 - ETA: 0s - loss: 0.2131 - accuracy: 0.90 - ETA: 0s - loss: 0.2165 - accuracy: 0.90 - ETA: 0s - loss: 0.2187 - accuracy: 0.90 - ETA: 0s - loss: 0.2212 - accuracy: 0.90 - 1s 3ms/step - loss: 0.2217 - accuracy: 0.9036 - val_loss: 0.4701 - val_accuracy: 0.8376\n",
      "Epoch 23/50\n",
      "235/235 [==============================] - ETA: 0s - loss: 0.0917 - accuracy: 1.00 - ETA: 0s - loss: 0.2018 - accuracy: 0.90 - ETA: 0s - loss: 0.1954 - accuracy: 0.90 - ETA: 0s - loss: 0.2012 - accuracy: 0.90 - ETA: 0s - loss: 0.2041 - accuracy: 0.90 - ETA: 0s - loss: 0.2082 - accuracy: 0.90 - ETA: 0s - loss: 0.2034 - accuracy: 0.90 - ETA: 0s - loss: 0.2087 - accuracy: 0.90 - ETA: 0s - loss: 0.2125 - accuracy: 0.90 - ETA: 0s - loss: 0.2136 - accuracy: 0.90 - ETA: 0s - loss: 0.2160 - accuracy: 0.90 - 1s 3ms/step - loss: 0.2166 - accuracy: 0.9005 - val_loss: 0.4877 - val_accuracy: 0.8500\n",
      "Epoch 24/50\n",
      "235/235 [==============================] - ETA: 0s - loss: 0.2502 - accuracy: 0.87 - ETA: 0s - loss: 0.2101 - accuracy: 0.90 - ETA: 0s - loss: 0.1878 - accuracy: 0.91 - ETA: 0s - loss: 0.1944 - accuracy: 0.91 - ETA: 0s - loss: 0.1997 - accuracy: 0.91 - ETA: 0s - loss: 0.2041 - accuracy: 0.90 - ETA: 0s - loss: 0.2079 - accuracy: 0.90 - ETA: 0s - loss: 0.2084 - accuracy: 0.90 - ETA: 0s - loss: 0.2073 - accuracy: 0.90 - ETA: 0s - loss: 0.2074 - accuracy: 0.90 - ETA: 0s - loss: 0.2075 - accuracy: 0.90 - 1s 3ms/step - loss: 0.2106 - accuracy: 0.9052 - val_loss: 0.4823 - val_accuracy: 0.8488\n",
      "Epoch 25/50\n",
      "235/235 [==============================] - ETA: 0s - loss: 0.2686 - accuracy: 0.84 - ETA: 0s - loss: 0.2158 - accuracy: 0.89 - ETA: 0s - loss: 0.1999 - accuracy: 0.89 - ETA: 0s - loss: 0.1943 - accuracy: 0.90 - ETA: 0s - loss: 0.1911 - accuracy: 0.90 - ETA: 0s - loss: 0.1940 - accuracy: 0.90 - ETA: 0s - loss: 0.1952 - accuracy: 0.90 - ETA: 0s - loss: 0.1964 - accuracy: 0.90 - ETA: 0s - loss: 0.1955 - accuracy: 0.90 - ETA: 0s - loss: 0.1953 - accuracy: 0.90 - ETA: 0s - loss: 0.1968 - accuracy: 0.91 - 1s 3ms/step - loss: 0.1953 - accuracy: 0.9100 - val_loss: 0.5474 - val_accuracy: 0.8460\n",
      "Epoch 26/50\n",
      "235/235 [==============================] - ETA: 0s - loss: 0.3007 - accuracy: 0.81 - ETA: 0s - loss: 0.2004 - accuracy: 0.91 - ETA: 0s - loss: 0.1993 - accuracy: 0.91 - ETA: 0s - loss: 0.2019 - accuracy: 0.90 - ETA: 0s - loss: 0.1992 - accuracy: 0.91 - ETA: 0s - loss: 0.1995 - accuracy: 0.91 - ETA: 0s - loss: 0.1965 - accuracy: 0.91 - ETA: 0s - loss: 0.1938 - accuracy: 0.91 - ETA: 0s - loss: 0.1950 - accuracy: 0.91 - ETA: 0s - loss: 0.1951 - accuracy: 0.91 - ETA: 0s - loss: 0.1937 - accuracy: 0.91 - 1s 3ms/step - loss: 0.1921 - accuracy: 0.9144 - val_loss: 0.5650 - val_accuracy: 0.8432\n",
      "Epoch 27/50\n"
     ]
    },
    {
     "name": "stdout",
     "output_type": "stream",
     "text": [
      "235/235 [==============================] - ETA: 0s - loss: 0.2101 - accuracy: 0.90 - ETA: 0s - loss: 0.1618 - accuracy: 0.91 - ETA: 0s - loss: 0.1616 - accuracy: 0.92 - ETA: 0s - loss: 0.1654 - accuracy: 0.92 - ETA: 0s - loss: 0.1673 - accuracy: 0.92 - ETA: 0s - loss: 0.1690 - accuracy: 0.92 - ETA: 0s - loss: 0.1663 - accuracy: 0.92 - ETA: 0s - loss: 0.1703 - accuracy: 0.91 - ETA: 0s - loss: 0.1716 - accuracy: 0.91 - ETA: 0s - loss: 0.1732 - accuracy: 0.91 - ETA: 0s - loss: 0.1755 - accuracy: 0.91 - 1s 3ms/step - loss: 0.1776 - accuracy: 0.9164 - val_loss: 0.5595 - val_accuracy: 0.8208\n",
      "Epoch 28/50\n",
      "235/235 [==============================] - ETA: 0s - loss: 0.1145 - accuracy: 0.96 - ETA: 0s - loss: 0.1479 - accuracy: 0.92 - ETA: 0s - loss: 0.1566 - accuracy: 0.92 - ETA: 0s - loss: 0.1579 - accuracy: 0.92 - ETA: 0s - loss: 0.1608 - accuracy: 0.92 - ETA: 0s - loss: 0.1662 - accuracy: 0.92 - ETA: 0s - loss: 0.1685 - accuracy: 0.92 - ETA: 0s - loss: 0.1663 - accuracy: 0.92 - ETA: 0s - loss: 0.1682 - accuracy: 0.92 - ETA: 0s - loss: 0.1708 - accuracy: 0.92 - ETA: 0s - loss: 0.1754 - accuracy: 0.91 - 1s 3ms/step - loss: 0.1752 - accuracy: 0.9191 - val_loss: 0.6222 - val_accuracy: 0.8312\n",
      "Epoch 29/50\n",
      "235/235 [==============================] - ETA: 0s - loss: 0.1983 - accuracy: 0.90 - ETA: 0s - loss: 0.1646 - accuracy: 0.92 - ETA: 0s - loss: 0.1601 - accuracy: 0.92 - ETA: 0s - loss: 0.1520 - accuracy: 0.92 - ETA: 0s - loss: 0.1532 - accuracy: 0.92 - ETA: 0s - loss: 0.1488 - accuracy: 0.93 - ETA: 0s - loss: 0.1563 - accuracy: 0.92 - ETA: 0s - loss: 0.1573 - accuracy: 0.92 - ETA: 0s - loss: 0.1615 - accuracy: 0.92 - ETA: 0s - loss: 0.1620 - accuracy: 0.92 - ETA: 0s - loss: 0.1676 - accuracy: 0.92 - 1s 3ms/step - loss: 0.1687 - accuracy: 0.9209 - val_loss: 0.5710 - val_accuracy: 0.8376\n",
      "Epoch 30/50\n",
      "235/235 [==============================] - ETA: 0s - loss: 0.1849 - accuracy: 0.90 - ETA: 0s - loss: 0.1344 - accuracy: 0.94 - ETA: 0s - loss: 0.1409 - accuracy: 0.93 - ETA: 0s - loss: 0.1444 - accuracy: 0.93 - ETA: 0s - loss: 0.1420 - accuracy: 0.93 - ETA: 0s - loss: 0.1468 - accuracy: 0.93 - ETA: 0s - loss: 0.1530 - accuracy: 0.92 - ETA: 0s - loss: 0.1601 - accuracy: 0.92 - ETA: 0s - loss: 0.1600 - accuracy: 0.92 - ETA: 0s - loss: 0.1611 - accuracy: 0.92 - ETA: 0s - loss: 0.1620 - accuracy: 0.92 - 1s 3ms/step - loss: 0.1633 - accuracy: 0.9244 - val_loss: 0.6838 - val_accuracy: 0.8304\n",
      "Epoch 31/50\n",
      "235/235 [==============================] - ETA: 0s - loss: 0.1867 - accuracy: 0.90 - ETA: 0s - loss: 0.1227 - accuracy: 0.94 - ETA: 0s - loss: 0.1356 - accuracy: 0.93 - ETA: 0s - loss: 0.1476 - accuracy: 0.93 - ETA: 0s - loss: 0.1518 - accuracy: 0.93 - ETA: 0s - loss: 0.1510 - accuracy: 0.93 - ETA: 0s - loss: 0.1514 - accuracy: 0.93 - ETA: 0s - loss: 0.1533 - accuracy: 0.93 - ETA: 0s - loss: 0.1537 - accuracy: 0.93 - ETA: 0s - loss: 0.1526 - accuracy: 0.93 - ETA: 0s - loss: 0.1542 - accuracy: 0.92 - 1s 3ms/step - loss: 0.1545 - accuracy: 0.9305 - val_loss: 0.7171 - val_accuracy: 0.8448\n",
      "Epoch 32/50\n",
      "235/235 [==============================] - ETA: 0s - loss: 0.1539 - accuracy: 0.93 - ETA: 0s - loss: 0.1605 - accuracy: 0.92 - ETA: 0s - loss: 0.1448 - accuracy: 0.93 - ETA: 0s - loss: 0.1435 - accuracy: 0.93 - ETA: 0s - loss: 0.1453 - accuracy: 0.93 - ETA: 0s - loss: 0.1442 - accuracy: 0.93 - ETA: 0s - loss: 0.1467 - accuracy: 0.93 - ETA: 0s - loss: 0.1447 - accuracy: 0.93 - ETA: 0s - loss: 0.1455 - accuracy: 0.93 - ETA: 0s - loss: 0.1464 - accuracy: 0.93 - ETA: 0s - loss: 0.1453 - accuracy: 0.93 - 1s 3ms/step - loss: 0.1464 - accuracy: 0.9351 - val_loss: 0.7487 - val_accuracy: 0.8108\n",
      "Epoch 33/50\n",
      "235/235 [==============================] - ETA: 0s - loss: 0.0508 - accuracy: 1.00 - ETA: 0s - loss: 0.1067 - accuracy: 0.95 - ETA: 0s - loss: 0.1097 - accuracy: 0.95 - ETA: 0s - loss: 0.1136 - accuracy: 0.95 - ETA: 0s - loss: 0.1096 - accuracy: 0.95 - ETA: 0s - loss: 0.1157 - accuracy: 0.94 - ETA: 0s - loss: 0.1217 - accuracy: 0.94 - ETA: 0s - loss: 0.1243 - accuracy: 0.94 - ETA: 0s - loss: 0.1280 - accuracy: 0.93 - ETA: 0s - loss: 0.1314 - accuracy: 0.93 - ETA: 0s - loss: 0.1375 - accuracy: 0.93 - 1s 3ms/step - loss: 0.1397 - accuracy: 0.9339 - val_loss: 0.7228 - val_accuracy: 0.8284\n",
      "Epoch 34/50\n",
      "235/235 [==============================] - ETA: 0s - loss: 0.1303 - accuracy: 1.00 - ETA: 0s - loss: 0.0963 - accuracy: 0.96 - ETA: 0s - loss: 0.1173 - accuracy: 0.94 - ETA: 0s - loss: 0.1169 - accuracy: 0.94 - ETA: 0s - loss: 0.1139 - accuracy: 0.94 - ETA: 0s - loss: 0.1179 - accuracy: 0.94 - ETA: 0s - loss: 0.1164 - accuracy: 0.94 - ETA: 0s - loss: 0.1184 - accuracy: 0.94 - ETA: 0s - loss: 0.1223 - accuracy: 0.94 - ETA: 0s - loss: 0.1254 - accuracy: 0.94 - ETA: 0s - loss: 0.1308 - accuracy: 0.93 - 1s 3ms/step - loss: 0.1342 - accuracy: 0.9368 - val_loss: 0.7242 - val_accuracy: 0.8320\n",
      "Epoch 35/50\n",
      "235/235 [==============================] - ETA: 0s - loss: 0.1211 - accuracy: 0.93 - ETA: 0s - loss: 0.1150 - accuracy: 0.96 - ETA: 0s - loss: 0.1163 - accuracy: 0.95 - ETA: 0s - loss: 0.1153 - accuracy: 0.95 - ETA: 0s - loss: 0.1112 - accuracy: 0.95 - ETA: 0s - loss: 0.1142 - accuracy: 0.95 - ETA: 0s - loss: 0.1166 - accuracy: 0.95 - ETA: 0s - loss: 0.1180 - accuracy: 0.94 - ETA: 0s - loss: 0.1191 - accuracy: 0.94 - ETA: 0s - loss: 0.1184 - accuracy: 0.94 - ETA: 0s - loss: 0.1207 - accuracy: 0.94 - 1s 3ms/step - loss: 0.1218 - accuracy: 0.9453 - val_loss: 0.8583 - val_accuracy: 0.8300\n",
      "Epoch 36/50\n",
      "235/235 [==============================] - ETA: 0s - loss: 0.1482 - accuracy: 0.93 - ETA: 0s - loss: 0.0817 - accuracy: 0.96 - ETA: 0s - loss: 0.0922 - accuracy: 0.96 - ETA: 0s - loss: 0.1032 - accuracy: 0.96 - ETA: 0s - loss: 0.1019 - accuracy: 0.96 - ETA: 0s - loss: 0.1059 - accuracy: 0.95 - ETA: 0s - loss: 0.1115 - accuracy: 0.95 - ETA: 0s - loss: 0.1132 - accuracy: 0.95 - ETA: 0s - loss: 0.1158 - accuracy: 0.95 - ETA: 0s - loss: 0.1194 - accuracy: 0.95 - ETA: 0s - loss: 0.1221 - accuracy: 0.95 - 1s 3ms/step - loss: 0.1241 - accuracy: 0.9496 - val_loss: 0.8392 - val_accuracy: 0.8352\n",
      "Epoch 37/50\n",
      "235/235 [==============================] - ETA: 0s - loss: 0.1227 - accuracy: 0.90 - ETA: 0s - loss: 0.1099 - accuracy: 0.94 - ETA: 0s - loss: 0.1068 - accuracy: 0.95 - ETA: 0s - loss: 0.1126 - accuracy: 0.95 - ETA: 0s - loss: 0.1162 - accuracy: 0.95 - ETA: 0s - loss: 0.1174 - accuracy: 0.94 - ETA: 0s - loss: 0.1174 - accuracy: 0.94 - ETA: 0s - loss: 0.1219 - accuracy: 0.94 - ETA: 0s - loss: 0.1212 - accuracy: 0.94 - ETA: 0s - loss: 0.1209 - accuracy: 0.94 - ETA: 0s - loss: 0.1221 - accuracy: 0.94 - 1s 3ms/step - loss: 0.1204 - accuracy: 0.9451 - val_loss: 0.9361 - val_accuracy: 0.8404\n",
      "Epoch 38/50\n",
      "235/235 [==============================] - ETA: 0s - loss: 0.0872 - accuracy: 0.96 - ETA: 0s - loss: 0.0698 - accuracy: 0.96 - ETA: 0s - loss: 0.0850 - accuracy: 0.96 - ETA: 0s - loss: 0.0807 - accuracy: 0.96 - ETA: 0s - loss: 0.0841 - accuracy: 0.96 - ETA: 0s - loss: 0.0861 - accuracy: 0.96 - ETA: 0s - loss: 0.0899 - accuracy: 0.95 - ETA: 0s - loss: 0.0942 - accuracy: 0.95 - ETA: 0s - loss: 0.0944 - accuracy: 0.95 - ETA: 0s - loss: 0.0956 - accuracy: 0.95 - ETA: 0s - loss: 0.0972 - accuracy: 0.95 - 1s 3ms/step - loss: 0.0999 - accuracy: 0.9567 - val_loss: 1.0095 - val_accuracy: 0.8340\n",
      "Epoch 39/50\n",
      "235/235 [==============================] - ETA: 0s - loss: 0.1560 - accuracy: 0.96 - ETA: 0s - loss: 0.1085 - accuracy: 0.96 - ETA: 0s - loss: 0.1095 - accuracy: 0.95 - ETA: 0s - loss: 0.1038 - accuracy: 0.95 - ETA: 0s - loss: 0.1131 - accuracy: 0.95 - ETA: 0s - loss: 0.1141 - accuracy: 0.95 - ETA: 0s - loss: 0.1152 - accuracy: 0.94 - ETA: 0s - loss: 0.1121 - accuracy: 0.95 - ETA: 0s - loss: 0.1107 - accuracy: 0.95 - ETA: 0s - loss: 0.1093 - accuracy: 0.95 - ETA: 0s - loss: 0.1082 - accuracy: 0.95 - 1s 3ms/step - loss: 0.1094 - accuracy: 0.9528 - val_loss: 0.9474 - val_accuracy: 0.8112\n",
      "Epoch 40/50\n"
     ]
    },
    {
     "name": "stdout",
     "output_type": "stream",
     "text": [
      "235/235 [==============================] - ETA: 0s - loss: 0.0408 - accuracy: 1.00 - ETA: 0s - loss: 0.1283 - accuracy: 0.94 - ETA: 0s - loss: 0.1212 - accuracy: 0.94 - ETA: 0s - loss: 0.1120 - accuracy: 0.95 - ETA: 0s - loss: 0.1096 - accuracy: 0.95 - ETA: 0s - loss: 0.1078 - accuracy: 0.95 - ETA: 0s - loss: 0.1047 - accuracy: 0.95 - ETA: 0s - loss: 0.1030 - accuracy: 0.95 - ETA: 0s - loss: 0.1030 - accuracy: 0.95 - ETA: 0s - loss: 0.1064 - accuracy: 0.95 - ETA: 0s - loss: 0.1079 - accuracy: 0.95 - 1s 3ms/step - loss: 0.1067 - accuracy: 0.9540 - val_loss: 1.0227 - val_accuracy: 0.8304\n",
      "Epoch 41/50\n",
      "235/235 [==============================] - ETA: 0s - loss: 0.0970 - accuracy: 1.00 - ETA: 0s - loss: 0.0639 - accuracy: 0.97 - ETA: 0s - loss: 0.0733 - accuracy: 0.97 - ETA: 0s - loss: 0.0751 - accuracy: 0.97 - ETA: 0s - loss: 0.0770 - accuracy: 0.96 - ETA: 0s - loss: 0.0806 - accuracy: 0.96 - ETA: 0s - loss: 0.0877 - accuracy: 0.96 - ETA: 0s - loss: 0.0907 - accuracy: 0.96 - ETA: 0s - loss: 0.0919 - accuracy: 0.96 - ETA: 0s - loss: 0.0922 - accuracy: 0.95 - ETA: 0s - loss: 0.0933 - accuracy: 0.96 - 1s 3ms/step - loss: 0.0943 - accuracy: 0.9596 - val_loss: 0.9859 - val_accuracy: 0.8236\n",
      "Epoch 42/50\n",
      "235/235 [==============================] - ETA: 0s - loss: 0.0605 - accuracy: 0.96 - ETA: 0s - loss: 0.0834 - accuracy: 0.96 - ETA: 0s - loss: 0.0772 - accuracy: 0.96 - ETA: 0s - loss: 0.0792 - accuracy: 0.96 - ETA: 0s - loss: 0.0797 - accuracy: 0.96 - ETA: 0s - loss: 0.0807 - accuracy: 0.96 - ETA: 0s - loss: 0.0809 - accuracy: 0.96 - ETA: 0s - loss: 0.0815 - accuracy: 0.96 - ETA: 0s - loss: 0.0802 - accuracy: 0.96 - ETA: 0s - loss: 0.0816 - accuracy: 0.96 - ETA: 0s - loss: 0.0827 - accuracy: 0.96 - 1s 3ms/step - loss: 0.0852 - accuracy: 0.9628 - val_loss: 1.0301 - val_accuracy: 0.8156\n",
      "Epoch 43/50\n",
      "235/235 [==============================] - ETA: 0s - loss: 0.0981 - accuracy: 0.93 - ETA: 0s - loss: 0.0652 - accuracy: 0.97 - ETA: 0s - loss: 0.0641 - accuracy: 0.97 - ETA: 0s - loss: 0.0660 - accuracy: 0.97 - ETA: 0s - loss: 0.0673 - accuracy: 0.97 - ETA: 0s - loss: 0.0660 - accuracy: 0.97 - ETA: 0s - loss: 0.0677 - accuracy: 0.97 - ETA: 0s - loss: 0.0692 - accuracy: 0.96 - ETA: 0s - loss: 0.0697 - accuracy: 0.96 - ETA: 0s - loss: 0.0722 - accuracy: 0.96 - ETA: 0s - loss: 0.0732 - accuracy: 0.96 - 1s 3ms/step - loss: 0.0744 - accuracy: 0.9671 - val_loss: 1.2545 - val_accuracy: 0.8432\n",
      "Epoch 44/50\n",
      "235/235 [==============================] - ETA: 0s - loss: 0.0535 - accuracy: 0.96 - ETA: 0s - loss: 0.1101 - accuracy: 0.96 - ETA: 0s - loss: 0.1056 - accuracy: 0.96 - ETA: 0s - loss: 0.1027 - accuracy: 0.96 - ETA: 0s - loss: 0.1071 - accuracy: 0.96 - ETA: 0s - loss: 0.1107 - accuracy: 0.96 - ETA: 0s - loss: 0.1093 - accuracy: 0.96 - ETA: 0s - loss: 0.1080 - accuracy: 0.96 - ETA: 0s - loss: 0.1064 - accuracy: 0.96 - ETA: 0s - loss: 0.1057 - accuracy: 0.96 - ETA: 0s - loss: 0.1067 - accuracy: 0.96 - 1s 3ms/step - loss: 0.1058 - accuracy: 0.9621 - val_loss: 1.0697 - val_accuracy: 0.8356\n",
      "Epoch 45/50\n",
      "235/235 [==============================] - ETA: 0s - loss: 0.0240 - accuracy: 1.00 - ETA: 0s - loss: 0.0528 - accuracy: 0.97 - ETA: 0s - loss: 0.0649 - accuracy: 0.97 - ETA: 0s - loss: 0.0751 - accuracy: 0.97 - ETA: 0s - loss: 0.0759 - accuracy: 0.97 - ETA: 0s - loss: 0.0774 - accuracy: 0.96 - ETA: 0s - loss: 0.0771 - accuracy: 0.97 - ETA: 0s - loss: 0.0765 - accuracy: 0.96 - ETA: 0s - loss: 0.0786 - accuracy: 0.96 - ETA: 0s - loss: 0.0804 - accuracy: 0.96 - ETA: 0s - loss: 0.0831 - accuracy: 0.96 - 1s 3ms/step - loss: 0.0850 - accuracy: 0.9659 - val_loss: 1.1328 - val_accuracy: 0.8352\n",
      "Epoch 46/50\n",
      "235/235 [==============================] - ETA: 0s - loss: 0.0449 - accuracy: 0.96 - ETA: 0s - loss: 0.0856 - accuracy: 0.96 - ETA: 0s - loss: 0.0841 - accuracy: 0.97 - ETA: 0s - loss: 0.0903 - accuracy: 0.96 - ETA: 0s - loss: 0.0921 - accuracy: 0.96 - ETA: 0s - loss: 0.0884 - accuracy: 0.96 - ETA: 0s - loss: 0.0863 - accuracy: 0.96 - ETA: 0s - loss: 0.0885 - accuracy: 0.96 - ETA: 0s - loss: 0.0858 - accuracy: 0.96 - ETA: 0s - loss: 0.0889 - accuracy: 0.96 - ETA: 0s - loss: 0.0882 - accuracy: 0.96 - 1s 3ms/step - loss: 0.0906 - accuracy: 0.9639 - val_loss: 1.0046 - val_accuracy: 0.8160\n",
      "Epoch 47/50\n",
      "235/235 [==============================] - ETA: 0s - loss: 0.0417 - accuracy: 1.00 - ETA: 0s - loss: 0.0629 - accuracy: 0.98 - ETA: 0s - loss: 0.0556 - accuracy: 0.98 - ETA: 0s - loss: 0.0592 - accuracy: 0.98 - ETA: 0s - loss: 0.0606 - accuracy: 0.98 - ETA: 0s - loss: 0.0647 - accuracy: 0.97 - ETA: 0s - loss: 0.0646 - accuracy: 0.97 - ETA: 0s - loss: 0.0664 - accuracy: 0.97 - ETA: 0s - loss: 0.0670 - accuracy: 0.97 - ETA: 0s - loss: 0.0698 - accuracy: 0.97 - ETA: 0s - loss: 0.0691 - accuracy: 0.97 - 1s 3ms/step - loss: 0.0693 - accuracy: 0.9736 - val_loss: 1.1588 - val_accuracy: 0.8184\n",
      "Epoch 48/50\n",
      "235/235 [==============================] - ETA: 0s - loss: 0.0061 - accuracy: 1.00 - ETA: 0s - loss: 0.0435 - accuracy: 0.98 - ETA: 0s - loss: 0.0388 - accuracy: 0.98 - ETA: 0s - loss: 0.0412 - accuracy: 0.98 - ETA: 0s - loss: 0.0420 - accuracy: 0.98 - ETA: 0s - loss: 0.0474 - accuracy: 0.98 - ETA: 0s - loss: 0.0483 - accuracy: 0.98 - ETA: 0s - loss: 0.0496 - accuracy: 0.97 - ETA: 0s - loss: 0.0543 - accuracy: 0.97 - ETA: 0s - loss: 0.0531 - accuracy: 0.97 - ETA: 0s - loss: 0.0529 - accuracy: 0.97 - 1s 3ms/step - loss: 0.0530 - accuracy: 0.9769 - val_loss: 1.2806 - val_accuracy: 0.8204\n",
      "Epoch 49/50\n",
      "235/235 [==============================] - ETA: 0s - loss: 0.0571 - accuracy: 0.96 - ETA: 0s - loss: 0.0464 - accuracy: 0.98 - ETA: 0s - loss: 0.0442 - accuracy: 0.98 - ETA: 0s - loss: 0.0425 - accuracy: 0.98 - ETA: 0s - loss: 0.0471 - accuracy: 0.98 - ETA: 0s - loss: 0.0490 - accuracy: 0.98 - ETA: 0s - loss: 0.0549 - accuracy: 0.97 - ETA: 0s - loss: 0.0565 - accuracy: 0.97 - ETA: 0s - loss: 0.0550 - accuracy: 0.97 - ETA: 0s - loss: 0.0545 - accuracy: 0.97 - ETA: 0s - loss: 0.0537 - accuracy: 0.97 - ETA: 0s - loss: 0.0538 - accuracy: 0.97 - ETA: 0s - loss: 0.0570 - accuracy: 0.97 - ETA: 0s - loss: 0.0606 - accuracy: 0.97 - 1s 4ms/step - loss: 0.0623 - accuracy: 0.9756 - val_loss: 1.2141 - val_accuracy: 0.8128\n",
      "Epoch 50/50\n",
      "235/235 [==============================] - ETA: 0s - loss: 0.0154 - accuracy: 1.00 - ETA: 0s - loss: 0.0594 - accuracy: 0.97 - ETA: 0s - loss: 0.0582 - accuracy: 0.97 - ETA: 0s - loss: 0.0554 - accuracy: 0.97 - ETA: 0s - loss: 0.0587 - accuracy: 0.97 - ETA: 0s - loss: 0.0647 - accuracy: 0.97 - ETA: 0s - loss: 0.0606 - accuracy: 0.97 - ETA: 0s - loss: 0.0603 - accuracy: 0.97 - ETA: 0s - loss: 0.0591 - accuracy: 0.97 - ETA: 0s - loss: 0.0598 - accuracy: 0.97 - ETA: 0s - loss: 0.0626 - accuracy: 0.97 - ETA: 0s - loss: 0.0704 - accuracy: 0.97 - 1s 3ms/step - loss: 0.0708 - accuracy: 0.9731 - val_loss: 1.1923 - val_accuracy: 0.8212\n",
      "Epoch 1/50\n",
      "235/235 [==============================] - ETA: 0s - loss: 0.6867 - accuracy: 0.62 - ETA: 0s - loss: 0.4954 - accuracy: 0.80 - ETA: 0s - loss: 0.4819 - accuracy: 0.80 - ETA: 0s - loss: 0.4693 - accuracy: 0.79 - ETA: 0s - loss: 0.4571 - accuracy: 0.80 - ETA: 0s - loss: 0.4536 - accuracy: 0.80 - ETA: 0s - loss: 0.4389 - accuracy: 0.81 - ETA: 0s - loss: 0.4330 - accuracy: 0.81 - ETA: 0s - loss: 0.4275 - accuracy: 0.81 - ETA: 0s - loss: 0.4208 - accuracy: 0.82 - ETA: 0s - loss: 0.4185 - accuracy: 0.82 - ETA: 0s - loss: 0.4142 - accuracy: 0.82 - ETA: 0s - loss: 0.4123 - accuracy: 0.82 - 1s 4ms/step - loss: 0.4106 - accuracy: 0.8293 - val_loss: 0.3638 - val_accuracy: 0.8556\n",
      "Epoch 2/50\n",
      "235/235 [==============================] - ETA: 0s - loss: 0.2365 - accuracy: 0.90 - ETA: 0s - loss: 0.3395 - accuracy: 0.86 - ETA: 0s - loss: 0.3459 - accuracy: 0.85 - ETA: 0s - loss: 0.3558 - accuracy: 0.85 - ETA: 0s - loss: 0.3580 - accuracy: 0.84 - ETA: 0s - loss: 0.3621 - accuracy: 0.85 - ETA: 0s - loss: 0.3585 - accuracy: 0.85 - ETA: 0s - loss: 0.3578 - accuracy: 0.85 - ETA: 0s - loss: 0.3633 - accuracy: 0.85 - ETA: 0s - loss: 0.3556 - accuracy: 0.85 - ETA: 0s - loss: 0.3547 - accuracy: 0.85 - 1s 3ms/step - loss: 0.3496 - accuracy: 0.8571 - val_loss: 0.3579 - val_accuracy: 0.8528\n",
      "Epoch 3/50\n"
     ]
    },
    {
     "name": "stdout",
     "output_type": "stream",
     "text": [
      "235/235 [==============================] - ETA: 0s - loss: 0.3407 - accuracy: 0.87 - ETA: 0s - loss: 0.3611 - accuracy: 0.83 - ETA: 0s - loss: 0.3458 - accuracy: 0.84 - ETA: 0s - loss: 0.3484 - accuracy: 0.84 - ETA: 0s - loss: 0.3544 - accuracy: 0.85 - ETA: 0s - loss: 0.3442 - accuracy: 0.85 - ETA: 0s - loss: 0.3414 - accuracy: 0.85 - ETA: 0s - loss: 0.3422 - accuracy: 0.85 - ETA: 0s - loss: 0.3407 - accuracy: 0.85 - ETA: 0s - loss: 0.3416 - accuracy: 0.85 - ETA: 0s - loss: 0.3431 - accuracy: 0.85 - 1s 3ms/step - loss: 0.3428 - accuracy: 0.8591 - val_loss: 0.3413 - val_accuracy: 0.8596\n",
      "Epoch 4/50\n",
      "235/235 [==============================] - ETA: 0s - loss: 0.1243 - accuracy: 0.96 - ETA: 0s - loss: 0.3105 - accuracy: 0.87 - ETA: 0s - loss: 0.3165 - accuracy: 0.87 - ETA: 0s - loss: 0.3262 - accuracy: 0.86 - ETA: 0s - loss: 0.3271 - accuracy: 0.86 - ETA: 0s - loss: 0.3300 - accuracy: 0.86 - ETA: 0s - loss: 0.3364 - accuracy: 0.86 - ETA: 0s - loss: 0.3338 - accuracy: 0.86 - ETA: 0s - loss: 0.3311 - accuracy: 0.86 - ETA: 0s - loss: 0.3352 - accuracy: 0.86 - ETA: 0s - loss: 0.3352 - accuracy: 0.86 - 1s 3ms/step - loss: 0.3358 - accuracy: 0.8649 - val_loss: 0.3479 - val_accuracy: 0.8588\n",
      "Epoch 5/50\n",
      "235/235 [==============================] - ETA: 0s - loss: 0.4470 - accuracy: 0.78 - ETA: 0s - loss: 0.3294 - accuracy: 0.87 - ETA: 0s - loss: 0.3345 - accuracy: 0.86 - ETA: 0s - loss: 0.3363 - accuracy: 0.86 - ETA: 0s - loss: 0.3409 - accuracy: 0.86 - ETA: 0s - loss: 0.3340 - accuracy: 0.86 - ETA: 0s - loss: 0.3358 - accuracy: 0.86 - ETA: 0s - loss: 0.3302 - accuracy: 0.86 - ETA: 0s - loss: 0.3281 - accuracy: 0.86 - ETA: 0s - loss: 0.3313 - accuracy: 0.86 - ETA: 0s - loss: 0.3318 - accuracy: 0.86 - 1s 3ms/step - loss: 0.3310 - accuracy: 0.8647 - val_loss: 0.3437 - val_accuracy: 0.8612\n",
      "Epoch 6/50\n",
      "235/235 [==============================] - ETA: 0s - loss: 0.1832 - accuracy: 0.93 - ETA: 0s - loss: 0.3307 - accuracy: 0.87 - ETA: 0s - loss: 0.3236 - accuracy: 0.86 - ETA: 0s - loss: 0.3254 - accuracy: 0.86 - ETA: 0s - loss: 0.3208 - accuracy: 0.86 - ETA: 0s - loss: 0.3260 - accuracy: 0.86 - ETA: 0s - loss: 0.3244 - accuracy: 0.86 - ETA: 0s - loss: 0.3258 - accuracy: 0.86 - ETA: 0s - loss: 0.3251 - accuracy: 0.86 - ETA: 0s - loss: 0.3254 - accuracy: 0.86 - ETA: 0s - loss: 0.3272 - accuracy: 0.86 - 1s 3ms/step - loss: 0.3266 - accuracy: 0.8648 - val_loss: 0.3394 - val_accuracy: 0.8600\n",
      "Epoch 7/50\n",
      "235/235 [==============================] - ETA: 0s - loss: 0.2221 - accuracy: 0.96 - ETA: 0s - loss: 0.2894 - accuracy: 0.88 - ETA: 0s - loss: 0.2996 - accuracy: 0.88 - ETA: 0s - loss: 0.3082 - accuracy: 0.88 - ETA: 0s - loss: 0.3125 - accuracy: 0.87 - ETA: 0s - loss: 0.3210 - accuracy: 0.87 - ETA: 0s - loss: 0.3187 - accuracy: 0.87 - ETA: 0s - loss: 0.3234 - accuracy: 0.87 - ETA: 0s - loss: 0.3206 - accuracy: 0.87 - ETA: 0s - loss: 0.3230 - accuracy: 0.86 - ETA: 0s - loss: 0.3237 - accuracy: 0.86 - 1s 3ms/step - loss: 0.3243 - accuracy: 0.8687 - val_loss: 0.3477 - val_accuracy: 0.8624\n",
      "Epoch 8/50\n",
      "235/235 [==============================] - ETA: 0s - loss: 0.4666 - accuracy: 0.84 - ETA: 0s - loss: 0.3063 - accuracy: 0.87 - ETA: 0s - loss: 0.3007 - accuracy: 0.87 - ETA: 0s - loss: 0.3057 - accuracy: 0.87 - ETA: 0s - loss: 0.3013 - accuracy: 0.87 - ETA: 0s - loss: 0.3053 - accuracy: 0.87 - ETA: 0s - loss: 0.3094 - accuracy: 0.87 - ETA: 0s - loss: 0.3127 - accuracy: 0.87 - ETA: 0s - loss: 0.3162 - accuracy: 0.87 - ETA: 0s - loss: 0.3206 - accuracy: 0.86 - ETA: 0s - loss: 0.3160 - accuracy: 0.87 - 1s 3ms/step - loss: 0.3173 - accuracy: 0.8703 - val_loss: 0.3492 - val_accuracy: 0.8560\n",
      "Epoch 9/50\n",
      "235/235 [==============================] - ETA: 0s - loss: 0.3684 - accuracy: 0.84 - ETA: 0s - loss: 0.2908 - accuracy: 0.88 - ETA: 0s - loss: 0.2866 - accuracy: 0.88 - ETA: 0s - loss: 0.2958 - accuracy: 0.87 - ETA: 0s - loss: 0.3011 - accuracy: 0.87 - ETA: 0s - loss: 0.3013 - accuracy: 0.87 - ETA: 0s - loss: 0.3114 - accuracy: 0.87 - ETA: 0s - loss: 0.3141 - accuracy: 0.87 - ETA: 0s - loss: 0.3169 - accuracy: 0.86 - ETA: 0s - loss: 0.3158 - accuracy: 0.87 - ETA: 0s - loss: 0.3166 - accuracy: 0.87 - 1s 3ms/step - loss: 0.3149 - accuracy: 0.8713 - val_loss: 0.3586 - val_accuracy: 0.8596\n",
      "Epoch 10/50\n",
      "235/235 [==============================] - ETA: 0s - loss: 0.1796 - accuracy: 0.90 - ETA: 0s - loss: 0.2931 - accuracy: 0.87 - ETA: 0s - loss: 0.2958 - accuracy: 0.87 - ETA: 0s - loss: 0.3003 - accuracy: 0.87 - ETA: 0s - loss: 0.3059 - accuracy: 0.86 - ETA: 0s - loss: 0.3021 - accuracy: 0.87 - ETA: 0s - loss: 0.3063 - accuracy: 0.87 - ETA: 0s - loss: 0.3093 - accuracy: 0.87 - ETA: 0s - loss: 0.3079 - accuracy: 0.87 - ETA: 0s - loss: 0.3067 - accuracy: 0.87 - ETA: 0s - loss: 0.3053 - accuracy: 0.87 - 1s 3ms/step - loss: 0.3058 - accuracy: 0.8735 - val_loss: 0.3550 - val_accuracy: 0.8584\n",
      "Epoch 11/50\n",
      "235/235 [==============================] - ETA: 0s - loss: 0.2393 - accuracy: 0.87 - ETA: 0s - loss: 0.2412 - accuracy: 0.89 - ETA: 0s - loss: 0.2828 - accuracy: 0.88 - ETA: 0s - loss: 0.2835 - accuracy: 0.88 - ETA: 0s - loss: 0.2862 - accuracy: 0.88 - ETA: 0s - loss: 0.2877 - accuracy: 0.88 - ETA: 0s - loss: 0.2912 - accuracy: 0.87 - ETA: 0s - loss: 0.2954 - accuracy: 0.87 - ETA: 0s - loss: 0.2951 - accuracy: 0.87 - ETA: 0s - loss: 0.2966 - accuracy: 0.87 - ETA: 0s - loss: 0.3004 - accuracy: 0.87 - 1s 3ms/step - loss: 0.3030 - accuracy: 0.8759 - val_loss: 0.3551 - val_accuracy: 0.8616\n",
      "Epoch 12/50\n",
      "235/235 [==============================] - ETA: 0s - loss: 0.1454 - accuracy: 0.96 - ETA: 0s - loss: 0.2935 - accuracy: 0.89 - ETA: 0s - loss: 0.3048 - accuracy: 0.88 - ETA: 0s - loss: 0.3019 - accuracy: 0.87 - ETA: 0s - loss: 0.3075 - accuracy: 0.87 - ETA: 0s - loss: 0.2992 - accuracy: 0.87 - ETA: 0s - loss: 0.3031 - accuracy: 0.87 - ETA: 0s - loss: 0.3023 - accuracy: 0.87 - ETA: 0s - loss: 0.3015 - accuracy: 0.87 - ETA: 0s - loss: 0.2980 - accuracy: 0.87 - ETA: 0s - loss: 0.2968 - accuracy: 0.87 - 1s 3ms/step - loss: 0.2942 - accuracy: 0.8771 - val_loss: 0.3714 - val_accuracy: 0.8556\n",
      "Epoch 13/50\n",
      "235/235 [==============================] - ETA: 0s - loss: 0.1778 - accuracy: 0.93 - ETA: 0s - loss: 0.2962 - accuracy: 0.86 - ETA: 0s - loss: 0.3111 - accuracy: 0.86 - ETA: 0s - loss: 0.2856 - accuracy: 0.88 - ETA: 0s - loss: 0.2855 - accuracy: 0.87 - ETA: 0s - loss: 0.2918 - accuracy: 0.87 - ETA: 0s - loss: 0.2883 - accuracy: 0.87 - ETA: 0s - loss: 0.2895 - accuracy: 0.87 - ETA: 0s - loss: 0.2886 - accuracy: 0.88 - ETA: 0s - loss: 0.2881 - accuracy: 0.88 - ETA: 0s - loss: 0.2891 - accuracy: 0.88 - 1s 3ms/step - loss: 0.2899 - accuracy: 0.8799 - val_loss: 0.3623 - val_accuracy: 0.8536\n",
      "Epoch 14/50\n",
      "235/235 [==============================] - ETA: 0s - loss: 0.2930 - accuracy: 0.84 - ETA: 0s - loss: 0.2783 - accuracy: 0.88 - ETA: 0s - loss: 0.2886 - accuracy: 0.87 - ETA: 0s - loss: 0.2831 - accuracy: 0.87 - ETA: 0s - loss: 0.2813 - accuracy: 0.88 - ETA: 0s - loss: 0.2749 - accuracy: 0.88 - ETA: 0s - loss: 0.2674 - accuracy: 0.88 - ETA: 0s - loss: 0.2720 - accuracy: 0.88 - ETA: 0s - loss: 0.2759 - accuracy: 0.88 - ETA: 0s - loss: 0.2731 - accuracy: 0.88 - ETA: 0s - loss: 0.2722 - accuracy: 0.88 - 1s 3ms/step - loss: 0.2757 - accuracy: 0.8837 - val_loss: 0.3862 - val_accuracy: 0.8544\n",
      "Epoch 15/50\n",
      "235/235 [==============================] - ETA: 0s - loss: 0.2850 - accuracy: 0.90 - ETA: 0s - loss: 0.2699 - accuracy: 0.89 - ETA: 0s - loss: 0.2533 - accuracy: 0.89 - ETA: 0s - loss: 0.2572 - accuracy: 0.89 - ETA: 0s - loss: 0.2552 - accuracy: 0.89 - ETA: 0s - loss: 0.2613 - accuracy: 0.89 - ETA: 0s - loss: 0.2681 - accuracy: 0.88 - ETA: 0s - loss: 0.2692 - accuracy: 0.88 - ETA: 0s - loss: 0.2725 - accuracy: 0.88 - ETA: 0s - loss: 0.2739 - accuracy: 0.88 - ETA: 0s - loss: 0.2732 - accuracy: 0.88 - 1s 3ms/step - loss: 0.2706 - accuracy: 0.8867 - val_loss: 0.4040 - val_accuracy: 0.8540\n",
      "Epoch 16/50\n"
     ]
    },
    {
     "name": "stdout",
     "output_type": "stream",
     "text": [
      "235/235 [==============================] - ETA: 0s - loss: 0.1562 - accuracy: 0.96 - ETA: 0s - loss: 0.2782 - accuracy: 0.86 - ETA: 0s - loss: 0.2585 - accuracy: 0.88 - ETA: 0s - loss: 0.2575 - accuracy: 0.88 - ETA: 0s - loss: 0.2565 - accuracy: 0.88 - ETA: 0s - loss: 0.2538 - accuracy: 0.88 - ETA: 0s - loss: 0.2550 - accuracy: 0.88 - ETA: 0s - loss: 0.2598 - accuracy: 0.88 - ETA: 0s - loss: 0.2610 - accuracy: 0.88 - ETA: 0s - loss: 0.2614 - accuracy: 0.88 - ETA: 0s - loss: 0.2639 - accuracy: 0.88 - 1s 3ms/step - loss: 0.2643 - accuracy: 0.8840 - val_loss: 0.3918 - val_accuracy: 0.8616\n",
      "Epoch 17/50\n",
      "235/235 [==============================] - ETA: 0s - loss: 0.1791 - accuracy: 0.93 - ETA: 0s - loss: 0.2767 - accuracy: 0.88 - ETA: 0s - loss: 0.2517 - accuracy: 0.89 - ETA: 0s - loss: 0.2594 - accuracy: 0.89 - ETA: 0s - loss: 0.2713 - accuracy: 0.88 - ETA: 0s - loss: 0.2648 - accuracy: 0.88 - ETA: 0s - loss: 0.2621 - accuracy: 0.88 - ETA: 0s - loss: 0.2565 - accuracy: 0.89 - ETA: 0s - loss: 0.2566 - accuracy: 0.88 - ETA: 0s - loss: 0.2569 - accuracy: 0.88 - ETA: 0s - loss: 0.2564 - accuracy: 0.88 - ETA: 0s - loss: 0.2573 - accuracy: 0.88 - 1s 3ms/step - loss: 0.2582 - accuracy: 0.8884 - val_loss: 0.4182 - val_accuracy: 0.8532\n",
      "Epoch 18/50\n",
      "235/235 [==============================] - ETA: 0s - loss: 0.1746 - accuracy: 0.90 - ETA: 0s - loss: 0.2075 - accuracy: 0.90 - ETA: 0s - loss: 0.2158 - accuracy: 0.90 - ETA: 0s - loss: 0.2260 - accuracy: 0.90 - ETA: 0s - loss: 0.2232 - accuracy: 0.90 - ETA: 0s - loss: 0.2299 - accuracy: 0.90 - ETA: 0s - loss: 0.2372 - accuracy: 0.89 - ETA: 0s - loss: 0.2429 - accuracy: 0.89 - ETA: 0s - loss: 0.2440 - accuracy: 0.89 - ETA: 0s - loss: 0.2437 - accuracy: 0.89 - ETA: 0s - loss: 0.2468 - accuracy: 0.89 - ETA: 0s - loss: 0.2502 - accuracy: 0.89 - 1s 3ms/step - loss: 0.2502 - accuracy: 0.8920 - val_loss: 0.4101 - val_accuracy: 0.8556\n",
      "Epoch 19/50\n",
      "235/235 [==============================] - ETA: 0s - loss: 0.2545 - accuracy: 0.81 - ETA: 0s - loss: 0.2313 - accuracy: 0.89 - ETA: 0s - loss: 0.2130 - accuracy: 0.90 - ETA: 0s - loss: 0.2250 - accuracy: 0.89 - ETA: 0s - loss: 0.2275 - accuracy: 0.89 - ETA: 0s - loss: 0.2305 - accuracy: 0.89 - ETA: 0s - loss: 0.2314 - accuracy: 0.89 - ETA: 0s - loss: 0.2327 - accuracy: 0.89 - ETA: 0s - loss: 0.2369 - accuracy: 0.89 - ETA: 0s - loss: 0.2389 - accuracy: 0.89 - 1s 3ms/step - loss: 0.2371 - accuracy: 0.8945 - val_loss: 0.5093 - val_accuracy: 0.8564\n",
      "Epoch 20/50\n",
      "235/235 [==============================] - ETA: 0s - loss: 0.2763 - accuracy: 0.84 - ETA: 0s - loss: 0.2127 - accuracy: 0.90 - ETA: 0s - loss: 0.2261 - accuracy: 0.89 - ETA: 0s - loss: 0.2200 - accuracy: 0.89 - ETA: 0s - loss: 0.2303 - accuracy: 0.89 - ETA: 0s - loss: 0.2322 - accuracy: 0.89 - ETA: 0s - loss: 0.2265 - accuracy: 0.89 - ETA: 0s - loss: 0.2298 - accuracy: 0.89 - ETA: 0s - loss: 0.2296 - accuracy: 0.89 - ETA: 0s - loss: 0.2284 - accuracy: 0.89 - ETA: 0s - loss: 0.2285 - accuracy: 0.89 - 1s 3ms/step - loss: 0.2287 - accuracy: 0.8967 - val_loss: 0.5042 - val_accuracy: 0.8452\n",
      "Epoch 21/50\n",
      "235/235 [==============================] - ETA: 0s - loss: 0.1942 - accuracy: 0.87 - ETA: 0s - loss: 0.2199 - accuracy: 0.89 - ETA: 0s - loss: 0.2203 - accuracy: 0.90 - ETA: 0s - loss: 0.2168 - accuracy: 0.90 - ETA: 0s - loss: 0.2322 - accuracy: 0.90 - ETA: 0s - loss: 0.2312 - accuracy: 0.89 - ETA: 0s - loss: 0.2315 - accuracy: 0.89 - ETA: 0s - loss: 0.2291 - accuracy: 0.89 - ETA: 0s - loss: 0.2232 - accuracy: 0.89 - ETA: 0s - loss: 0.2257 - accuracy: 0.90 - ETA: 0s - loss: 0.2238 - accuracy: 0.90 - ETA: 0s - loss: 0.2236 - accuracy: 0.90 - 1s 3ms/step - loss: 0.2239 - accuracy: 0.9005 - val_loss: 0.4550 - val_accuracy: 0.8508\n",
      "Epoch 22/50\n",
      "235/235 [==============================] - ETA: 0s - loss: 0.0855 - accuracy: 0.96 - ETA: 0s - loss: 0.1905 - accuracy: 0.92 - ETA: 0s - loss: 0.2114 - accuracy: 0.90 - ETA: 0s - loss: 0.2103 - accuracy: 0.90 - ETA: 0s - loss: 0.2146 - accuracy: 0.90 - ETA: 0s - loss: 0.2161 - accuracy: 0.90 - ETA: 0s - loss: 0.2155 - accuracy: 0.90 - ETA: 0s - loss: 0.2102 - accuracy: 0.90 - ETA: 0s - loss: 0.2076 - accuracy: 0.90 - ETA: 0s - loss: 0.2079 - accuracy: 0.90 - ETA: 0s - loss: 0.2100 - accuracy: 0.90 - ETA: 0s - loss: 0.2117 - accuracy: 0.90 - ETA: 0s - loss: 0.2109 - accuracy: 0.90 - ETA: 0s - loss: 0.2111 - accuracy: 0.90 - 1s 3ms/step - loss: 0.2109 - accuracy: 0.9071 - val_loss: 0.5711 - val_accuracy: 0.8396\n",
      "Epoch 23/50\n",
      "235/235 [==============================] - ETA: 0s - loss: 0.1904 - accuracy: 0.93 - ETA: 0s - loss: 0.1729 - accuracy: 0.92 - ETA: 0s - loss: 0.1881 - accuracy: 0.91 - ETA: 0s - loss: 0.1950 - accuracy: 0.91 - ETA: 0s - loss: 0.1885 - accuracy: 0.91 - ETA: 0s - loss: 0.1917 - accuracy: 0.91 - ETA: 0s - loss: 0.1962 - accuracy: 0.91 - ETA: 0s - loss: 0.1983 - accuracy: 0.91 - ETA: 0s - loss: 0.1978 - accuracy: 0.91 - ETA: 0s - loss: 0.1987 - accuracy: 0.91 - ETA: 0s - loss: 0.1996 - accuracy: 0.91 - ETA: 0s - loss: 0.2012 - accuracy: 0.91 - 1s 3ms/step - loss: 0.2048 - accuracy: 0.9100 - val_loss: 0.5422 - val_accuracy: 0.8272\n",
      "Epoch 24/50\n",
      "235/235 [==============================] - ETA: 0s - loss: 0.1744 - accuracy: 0.93 - ETA: 0s - loss: 0.1953 - accuracy: 0.90 - ETA: 0s - loss: 0.1846 - accuracy: 0.91 - ETA: 0s - loss: 0.1815 - accuracy: 0.91 - ETA: 0s - loss: 0.1853 - accuracy: 0.91 - ETA: 0s - loss: 0.1874 - accuracy: 0.91 - ETA: 0s - loss: 0.1916 - accuracy: 0.91 - ETA: 0s - loss: 0.1944 - accuracy: 0.90 - ETA: 0s - loss: 0.1963 - accuracy: 0.90 - ETA: 0s - loss: 0.1968 - accuracy: 0.90 - ETA: 0s - loss: 0.1959 - accuracy: 0.90 - 1s 3ms/step - loss: 0.1949 - accuracy: 0.9096 - val_loss: 0.5836 - val_accuracy: 0.8376\n",
      "Epoch 25/50\n",
      "235/235 [==============================] - ETA: 0s - loss: 0.1378 - accuracy: 0.93 - ETA: 0s - loss: 0.1406 - accuracy: 0.94 - ETA: 0s - loss: 0.1536 - accuracy: 0.93 - ETA: 0s - loss: 0.1585 - accuracy: 0.92 - ETA: 0s - loss: 0.1579 - accuracy: 0.92 - ETA: 0s - loss: 0.1603 - accuracy: 0.92 - ETA: 0s - loss: 0.1726 - accuracy: 0.92 - ETA: 0s - loss: 0.1734 - accuracy: 0.92 - ETA: 0s - loss: 0.1775 - accuracy: 0.91 - ETA: 0s - loss: 0.1834 - accuracy: 0.91 - ETA: 0s - loss: 0.1844 - accuracy: 0.91 - ETA: 0s - loss: 0.1865 - accuracy: 0.91 - 1s 3ms/step - loss: 0.1868 - accuracy: 0.9149 - val_loss: 0.6200 - val_accuracy: 0.8444\n",
      "Epoch 26/50\n",
      "235/235 [==============================] - ETA: 0s - loss: 0.0820 - accuracy: 1.00 - ETA: 0s - loss: 0.1749 - accuracy: 0.92 - ETA: 0s - loss: 0.1621 - accuracy: 0.92 - ETA: 0s - loss: 0.1661 - accuracy: 0.92 - ETA: 0s - loss: 0.1637 - accuracy: 0.92 - ETA: 0s - loss: 0.1649 - accuracy: 0.92 - ETA: 0s - loss: 0.1683 - accuracy: 0.92 - ETA: 0s - loss: 0.1711 - accuracy: 0.92 - ETA: 0s - loss: 0.1749 - accuracy: 0.92 - ETA: 0s - loss: 0.1742 - accuracy: 0.92 - ETA: 0s - loss: 0.1763 - accuracy: 0.91 - 1s 3ms/step - loss: 0.1772 - accuracy: 0.9185 - val_loss: 0.6549 - val_accuracy: 0.8356\n",
      "Epoch 27/50\n",
      "235/235 [==============================] - ETA: 0s - loss: 0.0768 - accuracy: 0.93 - ETA: 0s - loss: 0.1322 - accuracy: 0.94 - ETA: 0s - loss: 0.1470 - accuracy: 0.93 - ETA: 0s - loss: 0.1519 - accuracy: 0.92 - ETA: 0s - loss: 0.1527 - accuracy: 0.93 - ETA: 0s - loss: 0.1499 - accuracy: 0.92 - ETA: 0s - loss: 0.1519 - accuracy: 0.93 - ETA: 0s - loss: 0.1601 - accuracy: 0.92 - ETA: 0s - loss: 0.1644 - accuracy: 0.92 - ETA: 0s - loss: 0.1694 - accuracy: 0.92 - 1s 2ms/step - loss: 0.1700 - accuracy: 0.9221 - val_loss: 0.6846 - val_accuracy: 0.8296\n",
      "Epoch 28/50\n",
      "235/235 [==============================] - ETA: 0s - loss: 0.1479 - accuracy: 0.96 - ETA: 0s - loss: 0.1593 - accuracy: 0.92 - ETA: 0s - loss: 0.1492 - accuracy: 0.92 - ETA: 0s - loss: 0.1501 - accuracy: 0.92 - ETA: 0s - loss: 0.1551 - accuracy: 0.92 - ETA: 0s - loss: 0.1515 - accuracy: 0.92 - ETA: 0s - loss: 0.1489 - accuracy: 0.93 - ETA: 0s - loss: 0.1476 - accuracy: 0.93 - ETA: 0s - loss: 0.1500 - accuracy: 0.93 - ETA: 0s - loss: 0.1518 - accuracy: 0.93 - ETA: 0s - loss: 0.1519 - accuracy: 0.93 - ETA: 0s - loss: 0.1549 - accuracy: 0.92 - ETA: 0s - loss: 0.1546 - accuracy: 0.92 - ETA: 0s - loss: 0.1549 - accuracy: 0.92 - 1s 3ms/step - loss: 0.1570 - accuracy: 0.9271 - val_loss: 0.7087 - val_accuracy: 0.8220\n"
     ]
    },
    {
     "name": "stdout",
     "output_type": "stream",
     "text": [
      "Epoch 29/50\n",
      "235/235 [==============================] - ETA: 0s - loss: 0.2118 - accuracy: 0.87 - ETA: 0s - loss: 0.1537 - accuracy: 0.93 - ETA: 0s - loss: 0.1503 - accuracy: 0.93 - ETA: 0s - loss: 0.1419 - accuracy: 0.94 - ETA: 0s - loss: 0.1414 - accuracy: 0.93 - ETA: 0s - loss: 0.1476 - accuracy: 0.93 - ETA: 0s - loss: 0.1574 - accuracy: 0.93 - ETA: 0s - loss: 0.1602 - accuracy: 0.92 - ETA: 0s - loss: 0.1622 - accuracy: 0.92 - ETA: 0s - loss: 0.1613 - accuracy: 0.92 - ETA: 0s - loss: 0.1580 - accuracy: 0.92 - ETA: 0s - loss: 0.1578 - accuracy: 0.92 - 1s 3ms/step - loss: 0.1587 - accuracy: 0.9283 - val_loss: 0.7514 - val_accuracy: 0.8376\n",
      "Epoch 30/50\n",
      "235/235 [==============================] - ETA: 0s - loss: 0.1035 - accuracy: 1.00 - ETA: 0s - loss: 0.1321 - accuracy: 0.94 - ETA: 0s - loss: 0.1190 - accuracy: 0.94 - ETA: 0s - loss: 0.1324 - accuracy: 0.94 - ETA: 0s - loss: 0.1330 - accuracy: 0.94 - ETA: 0s - loss: 0.1320 - accuracy: 0.94 - ETA: 0s - loss: 0.1318 - accuracy: 0.94 - ETA: 0s - loss: 0.1357 - accuracy: 0.94 - ETA: 0s - loss: 0.1395 - accuracy: 0.94 - ETA: 0s - loss: 0.1399 - accuracy: 0.93 - ETA: 0s - loss: 0.1415 - accuracy: 0.94 - ETA: 0s - loss: 0.1428 - accuracy: 0.93 - 1s 3ms/step - loss: 0.1449 - accuracy: 0.9363 - val_loss: 0.7920 - val_accuracy: 0.8304\n",
      "Epoch 31/50\n",
      "235/235 [==============================] - ETA: 0s - loss: 0.0632 - accuracy: 0.96 - ETA: 0s - loss: 0.1110 - accuracy: 0.95 - ETA: 0s - loss: 0.1218 - accuracy: 0.94 - ETA: 0s - loss: 0.1278 - accuracy: 0.93 - ETA: 0s - loss: 0.1298 - accuracy: 0.93 - ETA: 0s - loss: 0.1385 - accuracy: 0.93 - ETA: 0s - loss: 0.1336 - accuracy: 0.93 - ETA: 0s - loss: 0.1351 - accuracy: 0.93 - ETA: 0s - loss: 0.1349 - accuracy: 0.93 - ETA: 0s - loss: 0.1379 - accuracy: 0.93 - ETA: 0s - loss: 0.1365 - accuracy: 0.93 - ETA: 0s - loss: 0.1375 - accuracy: 0.93 - 1s 3ms/step - loss: 0.1385 - accuracy: 0.9355 - val_loss: 0.8743 - val_accuracy: 0.8332\n",
      "Epoch 32/50\n",
      "235/235 [==============================] - ETA: 0s - loss: 0.3005 - accuracy: 0.84 - ETA: 0s - loss: 0.1293 - accuracy: 0.93 - ETA: 0s - loss: 0.1129 - accuracy: 0.95 - ETA: 0s - loss: 0.1119 - accuracy: 0.95 - ETA: 0s - loss: 0.1104 - accuracy: 0.94 - ETA: 0s - loss: 0.1165 - accuracy: 0.94 - ETA: 0s - loss: 0.1171 - accuracy: 0.94 - ETA: 0s - loss: 0.1175 - accuracy: 0.94 - ETA: 0s - loss: 0.1209 - accuracy: 0.94 - ETA: 0s - loss: 0.1260 - accuracy: 0.94 - ETA: 0s - loss: 0.1284 - accuracy: 0.94 - ETA: 0s - loss: 0.1300 - accuracy: 0.94 - 1s 3ms/step - loss: 0.1321 - accuracy: 0.9397 - val_loss: 0.8235 - val_accuracy: 0.8208\n",
      "Epoch 33/50\n",
      "235/235 [==============================] - ETA: 0s - loss: 0.1413 - accuracy: 0.93 - ETA: 0s - loss: 0.1028 - accuracy: 0.96 - ETA: 0s - loss: 0.1027 - accuracy: 0.95 - ETA: 0s - loss: 0.1082 - accuracy: 0.95 - ETA: 0s - loss: 0.1072 - accuracy: 0.95 - ETA: 0s - loss: 0.1060 - accuracy: 0.95 - ETA: 0s - loss: 0.1114 - accuracy: 0.95 - ETA: 0s - loss: 0.1154 - accuracy: 0.94 - ETA: 0s - loss: 0.1191 - accuracy: 0.94 - ETA: 0s - loss: 0.1226 - accuracy: 0.94 - ETA: 0s - loss: 0.1219 - accuracy: 0.94 - ETA: 0s - loss: 0.1236 - accuracy: 0.94 - ETA: 0s - loss: 0.1238 - accuracy: 0.94 - ETA: 0s - loss: 0.1240 - accuracy: 0.94 - ETA: 0s - loss: 0.1268 - accuracy: 0.94 - 1s 4ms/step - loss: 0.1265 - accuracy: 0.9437 - val_loss: 0.8168 - val_accuracy: 0.8376\n",
      "Epoch 34/50\n",
      "235/235 [==============================] - ETA: 0s - loss: 0.0788 - accuracy: 0.93 - ETA: 0s - loss: 0.0883 - accuracy: 0.96 - ETA: 0s - loss: 0.0891 - accuracy: 0.96 - ETA: 0s - loss: 0.1045 - accuracy: 0.95 - ETA: 0s - loss: 0.1093 - accuracy: 0.95 - ETA: 0s - loss: 0.1102 - accuracy: 0.95 - ETA: 0s - loss: 0.1101 - accuracy: 0.95 - ETA: 0s - loss: 0.1146 - accuracy: 0.94 - ETA: 0s - loss: 0.1161 - accuracy: 0.94 - ETA: 0s - loss: 0.1205 - accuracy: 0.94 - ETA: 0s - loss: 0.1215 - accuracy: 0.94 - ETA: 0s - loss: 0.1232 - accuracy: 0.94 - 1s 3ms/step - loss: 0.1230 - accuracy: 0.9457 - val_loss: 0.9076 - val_accuracy: 0.8308\n",
      "Epoch 35/50\n",
      "235/235 [==============================] - ETA: 0s - loss: 0.0514 - accuracy: 1.00 - ETA: 0s - loss: 0.0658 - accuracy: 0.97 - ETA: 0s - loss: 0.0760 - accuracy: 0.97 - ETA: 0s - loss: 0.0868 - accuracy: 0.96 - ETA: 0s - loss: 0.0898 - accuracy: 0.96 - ETA: 0s - loss: 0.0891 - accuracy: 0.96 - ETA: 0s - loss: 0.0905 - accuracy: 0.96 - ETA: 0s - loss: 0.0902 - accuracy: 0.96 - ETA: 0s - loss: 0.0920 - accuracy: 0.96 - ETA: 0s - loss: 0.0946 - accuracy: 0.96 - ETA: 0s - loss: 0.0967 - accuracy: 0.95 - ETA: 0s - loss: 0.0977 - accuracy: 0.95 - ETA: 0s - loss: 0.0989 - accuracy: 0.95 - ETA: 0s - loss: 0.1005 - accuracy: 0.95 - 1s 3ms/step - loss: 0.1015 - accuracy: 0.9552 - val_loss: 0.9458 - val_accuracy: 0.8284\n",
      "Epoch 36/50\n",
      "235/235 [==============================] - ETA: 0s - loss: 0.0639 - accuracy: 1.00 - ETA: 0s - loss: 0.0830 - accuracy: 0.97 - ETA: 0s - loss: 0.0873 - accuracy: 0.96 - ETA: 0s - loss: 0.0949 - accuracy: 0.95 - ETA: 0s - loss: 0.0971 - accuracy: 0.95 - ETA: 0s - loss: 0.1021 - accuracy: 0.95 - ETA: 0s - loss: 0.1035 - accuracy: 0.95 - ETA: 0s - loss: 0.1085 - accuracy: 0.95 - ETA: 0s - loss: 0.1069 - accuracy: 0.95 - ETA: 0s - loss: 0.1073 - accuracy: 0.95 - ETA: 0s - loss: 0.1066 - accuracy: 0.95 - 1s 3ms/step - loss: 0.1073 - accuracy: 0.9547 - val_loss: 1.0466 - val_accuracy: 0.8248\n",
      "Epoch 37/50\n",
      "235/235 [==============================] - ETA: 0s - loss: 0.0399 - accuracy: 0.96 - ETA: 0s - loss: 0.0795 - accuracy: 0.97 - ETA: 0s - loss: 0.0740 - accuracy: 0.97 - ETA: 0s - loss: 0.0756 - accuracy: 0.97 - ETA: 0s - loss: 0.0745 - accuracy: 0.97 - ETA: 0s - loss: 0.0817 - accuracy: 0.97 - ETA: 0s - loss: 0.0839 - accuracy: 0.96 - ETA: 0s - loss: 0.0915 - accuracy: 0.96 - ETA: 0s - loss: 0.0964 - accuracy: 0.96 - ETA: 0s - loss: 0.0992 - accuracy: 0.96 - ETA: 0s - loss: 0.0998 - accuracy: 0.96 - 1s 3ms/step - loss: 0.0995 - accuracy: 0.9603 - val_loss: 1.0141 - val_accuracy: 0.8228\n",
      "Epoch 38/50\n",
      "235/235 [==============================] - ETA: 0s - loss: 0.0802 - accuracy: 0.96 - ETA: 0s - loss: 0.0920 - accuracy: 0.95 - ETA: 0s - loss: 0.0818 - accuracy: 0.96 - ETA: 0s - loss: 0.0879 - accuracy: 0.96 - ETA: 0s - loss: 0.0872 - accuracy: 0.96 - ETA: 0s - loss: 0.0907 - accuracy: 0.95 - ETA: 0s - loss: 0.0929 - accuracy: 0.95 - ETA: 0s - loss: 0.0915 - accuracy: 0.96 - ETA: 0s - loss: 0.0926 - accuracy: 0.96 - ETA: 0s - loss: 0.0934 - accuracy: 0.95 - ETA: 0s - loss: 0.0988 - accuracy: 0.95 - 1s 3ms/step - loss: 0.1001 - accuracy: 0.9568 - val_loss: 1.0434 - val_accuracy: 0.8312\n",
      "Epoch 39/50\n",
      "235/235 [==============================] - ETA: 0s - loss: 0.0381 - accuracy: 1.00 - ETA: 0s - loss: 0.0767 - accuracy: 0.96 - ETA: 0s - loss: 0.0808 - accuracy: 0.96 - ETA: 0s - loss: 0.0794 - accuracy: 0.96 - ETA: 0s - loss: 0.0860 - accuracy: 0.96 - ETA: 0s - loss: 0.0851 - accuracy: 0.96 - ETA: 0s - loss: 0.0833 - accuracy: 0.96 - ETA: 0s - loss: 0.0840 - accuracy: 0.96 - ETA: 0s - loss: 0.0876 - accuracy: 0.96 - ETA: 0s - loss: 0.0899 - accuracy: 0.96 - ETA: 0s - loss: 0.0888 - accuracy: 0.96 - 1s 3ms/step - loss: 0.0887 - accuracy: 0.9620 - val_loss: 1.0715 - val_accuracy: 0.8248\n",
      "Epoch 40/50\n",
      "235/235 [==============================] - ETA: 0s - loss: 0.0374 - accuracy: 1.00 - ETA: 0s - loss: 0.0764 - accuracy: 0.96 - ETA: 0s - loss: 0.0782 - accuracy: 0.96 - ETA: 0s - loss: 0.0846 - accuracy: 0.96 - ETA: 0s - loss: 0.0840 - accuracy: 0.96 - ETA: 0s - loss: 0.0830 - accuracy: 0.96 - ETA: 0s - loss: 0.0855 - accuracy: 0.96 - ETA: 0s - loss: 0.0841 - accuracy: 0.96 - ETA: 0s - loss: 0.0837 - accuracy: 0.96 - ETA: 0s - loss: 0.0863 - accuracy: 0.96 - ETA: 0s - loss: 0.0874 - accuracy: 0.96 - 1s 3ms/step - loss: 0.0886 - accuracy: 0.9645 - val_loss: 1.0440 - val_accuracy: 0.8240\n",
      "Epoch 41/50\n"
     ]
    },
    {
     "name": "stdout",
     "output_type": "stream",
     "text": [
      "235/235 [==============================] - ETA: 0s - loss: 0.0576 - accuracy: 1.00 - ETA: 0s - loss: 0.0694 - accuracy: 0.98 - ETA: 0s - loss: 0.0600 - accuracy: 0.98 - ETA: 0s - loss: 0.0761 - accuracy: 0.97 - ETA: 0s - loss: 0.0853 - accuracy: 0.97 - ETA: 0s - loss: 0.0819 - accuracy: 0.97 - ETA: 0s - loss: 0.0819 - accuracy: 0.97 - ETA: 0s - loss: 0.0847 - accuracy: 0.97 - ETA: 0s - loss: 0.0865 - accuracy: 0.96 - ETA: 0s - loss: 0.0860 - accuracy: 0.96 - ETA: 0s - loss: 0.0861 - accuracy: 0.96 - ETA: 0s - loss: 0.0878 - accuracy: 0.96 - 1s 3ms/step - loss: 0.0878 - accuracy: 0.9659 - val_loss: 1.1292 - val_accuracy: 0.8240\n",
      "Epoch 42/50\n",
      "235/235 [==============================] - ETA: 0s - loss: 0.0623 - accuracy: 0.96 - ETA: 0s - loss: 0.0852 - accuracy: 0.97 - ETA: 0s - loss: 0.0667 - accuracy: 0.97 - ETA: 0s - loss: 0.0687 - accuracy: 0.97 - ETA: 0s - loss: 0.0683 - accuracy: 0.97 - ETA: 0s - loss: 0.0719 - accuracy: 0.97 - ETA: 0s - loss: 0.0700 - accuracy: 0.97 - ETA: 0s - loss: 0.0729 - accuracy: 0.97 - ETA: 0s - loss: 0.0756 - accuracy: 0.97 - ETA: 0s - loss: 0.0771 - accuracy: 0.97 - ETA: 0s - loss: 0.0804 - accuracy: 0.96 - 1s 3ms/step - loss: 0.0831 - accuracy: 0.9683 - val_loss: 1.1167 - val_accuracy: 0.8196\n",
      "Epoch 43/50\n",
      "235/235 [==============================] - ETA: 0s - loss: 0.0592 - accuracy: 0.96 - ETA: 0s - loss: 0.0857 - accuracy: 0.96 - ETA: 0s - loss: 0.0806 - accuracy: 0.96 - ETA: 0s - loss: 0.0869 - accuracy: 0.96 - ETA: 0s - loss: 0.0822 - accuracy: 0.96 - ETA: 0s - loss: 0.0780 - accuracy: 0.96 - ETA: 0s - loss: 0.0767 - accuracy: 0.96 - ETA: 0s - loss: 0.0735 - accuracy: 0.96 - ETA: 0s - loss: 0.0776 - accuracy: 0.96 - ETA: 0s - loss: 0.0787 - accuracy: 0.96 - ETA: 0s - loss: 0.0804 - accuracy: 0.96 - ETA: 0s - loss: 0.0817 - accuracy: 0.96 - ETA: 0s - loss: 0.0821 - accuracy: 0.96 - 1s 3ms/step - loss: 0.0820 - accuracy: 0.9644 - val_loss: 1.1790 - val_accuracy: 0.8252\n",
      "Epoch 44/50\n",
      "235/235 [==============================] - ETA: 0s - loss: 0.1043 - accuracy: 0.90 - ETA: 0s - loss: 0.0641 - accuracy: 0.97 - ETA: 0s - loss: 0.0672 - accuracy: 0.97 - ETA: 0s - loss: 0.0698 - accuracy: 0.97 - ETA: 0s - loss: 0.0728 - accuracy: 0.97 - ETA: 0s - loss: 0.0728 - accuracy: 0.97 - ETA: 0s - loss: 0.0704 - accuracy: 0.97 - ETA: 0s - loss: 0.0676 - accuracy: 0.97 - ETA: 0s - loss: 0.0717 - accuracy: 0.97 - ETA: 0s - loss: 0.0741 - accuracy: 0.97 - ETA: 0s - loss: 0.0759 - accuracy: 0.97 - ETA: 0s - loss: 0.0764 - accuracy: 0.97 - ETA: 0s - loss: 0.0799 - accuracy: 0.96 - ETA: 0s - loss: 0.0814 - accuracy: 0.96 - ETA: 0s - loss: 0.0828 - accuracy: 0.96 - ETA: 0s - loss: 0.0831 - accuracy: 0.96 - 1s 4ms/step - loss: 0.0831 - accuracy: 0.9683 - val_loss: 1.2359 - val_accuracy: 0.8240\n",
      "Epoch 45/50\n",
      "235/235 [==============================] - ETA: 0s - loss: 0.0277 - accuracy: 1.00 - ETA: 1s - loss: 0.0557 - accuracy: 0.98 - ETA: 1s - loss: 0.0688 - accuracy: 0.98 - ETA: 0s - loss: 0.0706 - accuracy: 0.97 - ETA: 0s - loss: 0.0640 - accuracy: 0.98 - ETA: 0s - loss: 0.0709 - accuracy: 0.97 - ETA: 0s - loss: 0.0707 - accuracy: 0.97 - ETA: 0s - loss: 0.0680 - accuracy: 0.97 - ETA: 0s - loss: 0.0684 - accuracy: 0.97 - ETA: 0s - loss: 0.0665 - accuracy: 0.97 - ETA: 0s - loss: 0.0652 - accuracy: 0.97 - ETA: 0s - loss: 0.0670 - accuracy: 0.97 - ETA: 0s - loss: 0.0683 - accuracy: 0.97 - ETA: 0s - loss: 0.0701 - accuracy: 0.97 - ETA: 0s - loss: 0.0715 - accuracy: 0.97 - 1s 4ms/step - loss: 0.0709 - accuracy: 0.9741 - val_loss: 1.1750 - val_accuracy: 0.8228\n",
      "Epoch 46/50\n",
      "235/235 [==============================] - ETA: 0s - loss: 0.0311 - accuracy: 1.00 - ETA: 0s - loss: 0.0475 - accuracy: 0.98 - ETA: 0s - loss: 0.0461 - accuracy: 0.98 - ETA: 0s - loss: 0.0460 - accuracy: 0.98 - ETA: 0s - loss: 0.0497 - accuracy: 0.98 - ETA: 0s - loss: 0.0540 - accuracy: 0.97 - ETA: 0s - loss: 0.0538 - accuracy: 0.97 - ETA: 0s - loss: 0.0542 - accuracy: 0.97 - ETA: 0s - loss: 0.0553 - accuracy: 0.97 - ETA: 0s - loss: 0.0557 - accuracy: 0.97 - ETA: 0s - loss: 0.0573 - accuracy: 0.97 - ETA: 0s - loss: 0.0594 - accuracy: 0.97 - 1s 3ms/step - loss: 0.0590 - accuracy: 0.9761 - val_loss: 1.2343 - val_accuracy: 0.8276\n",
      "Epoch 47/50\n",
      "235/235 [==============================] - ETA: 0s - loss: 0.0137 - accuracy: 1.00 - ETA: 0s - loss: 0.0449 - accuracy: 0.98 - ETA: 0s - loss: 0.0553 - accuracy: 0.98 - ETA: 0s - loss: 0.0590 - accuracy: 0.97 - ETA: 0s - loss: 0.0558 - accuracy: 0.98 - ETA: 0s - loss: 0.0548 - accuracy: 0.98 - ETA: 0s - loss: 0.0514 - accuracy: 0.98 - ETA: 0s - loss: 0.0524 - accuracy: 0.98 - ETA: 0s - loss: 0.0559 - accuracy: 0.98 - ETA: 0s - loss: 0.0546 - accuracy: 0.98 - ETA: 0s - loss: 0.0566 - accuracy: 0.97 - ETA: 0s - loss: 0.0570 - accuracy: 0.97 - ETA: 0s - loss: 0.0584 - accuracy: 0.97 - 1s 3ms/step - loss: 0.0584 - accuracy: 0.9769 - val_loss: 1.3339 - val_accuracy: 0.8264\n",
      "Epoch 48/50\n",
      "235/235 [==============================] - ETA: 0s - loss: 0.0855 - accuracy: 0.93 - ETA: 0s - loss: 0.0478 - accuracy: 0.98 - ETA: 0s - loss: 0.0479 - accuracy: 0.98 - ETA: 0s - loss: 0.0521 - accuracy: 0.98 - ETA: 0s - loss: 0.0627 - accuracy: 0.97 - ETA: 0s - loss: 0.0805 - accuracy: 0.97 - ETA: 0s - loss: 0.0808 - accuracy: 0.97 - ETA: 0s - loss: 0.0790 - accuracy: 0.97 - ETA: 0s - loss: 0.0813 - accuracy: 0.97 - ETA: 0s - loss: 0.0811 - accuracy: 0.97 - ETA: 0s - loss: 0.0805 - accuracy: 0.97 - ETA: 0s - loss: 0.0819 - accuracy: 0.96 - 1s 3ms/step - loss: 0.0808 - accuracy: 0.9697 - val_loss: 1.1299 - val_accuracy: 0.8244\n",
      "Epoch 49/50\n",
      "235/235 [==============================] - ETA: 0s - loss: 0.0103 - accuracy: 1.00 - ETA: 0s - loss: 0.0391 - accuracy: 0.98 - ETA: 0s - loss: 0.0471 - accuracy: 0.98 - ETA: 0s - loss: 0.0516 - accuracy: 0.98 - ETA: 0s - loss: 0.0506 - accuracy: 0.98 - ETA: 0s - loss: 0.0534 - accuracy: 0.98 - ETA: 0s - loss: 0.0523 - accuracy: 0.98 - ETA: 0s - loss: 0.0532 - accuracy: 0.98 - ETA: 0s - loss: 0.0512 - accuracy: 0.98 - ETA: 0s - loss: 0.0519 - accuracy: 0.98 - ETA: 0s - loss: 0.0521 - accuracy: 0.98 - ETA: 0s - loss: 0.0523 - accuracy: 0.97 - 1s 3ms/step - loss: 0.0542 - accuracy: 0.9787 - val_loss: 1.3551 - val_accuracy: 0.8156\n",
      "Epoch 50/50\n",
      "235/235 [==============================] - ETA: 0s - loss: 0.0168 - accuracy: 1.00 - ETA: 0s - loss: 0.0713 - accuracy: 0.97 - ETA: 0s - loss: 0.0771 - accuracy: 0.96 - ETA: 0s - loss: 0.0718 - accuracy: 0.97 - ETA: 0s - loss: 0.0724 - accuracy: 0.97 - ETA: 0s - loss: 0.0731 - accuracy: 0.97 - ETA: 0s - loss: 0.0749 - accuracy: 0.97 - ETA: 0s - loss: 0.0746 - accuracy: 0.97 - ETA: 0s - loss: 0.0750 - accuracy: 0.97 - ETA: 0s - loss: 0.0741 - accuracy: 0.97 - ETA: 0s - loss: 0.0721 - accuracy: 0.97 - ETA: 0s - loss: 0.0725 - accuracy: 0.97 - 1s 3ms/step - loss: 0.0724 - accuracy: 0.9716 - val_loss: 1.2993 - val_accuracy: 0.8224\n"
     ]
    },
    {
     "data": {
      "text/html": [
       "<span style=\"color:#4527A0\"><h1 style=\"font-size:18px\">Trial complete</h1></span>"
      ],
      "text/plain": [
       "<IPython.core.display.HTML object>"
      ]
     },
     "metadata": {},
     "output_type": "display_data"
    },
    {
     "data": {
      "text/html": [
       "<span style=\"color:#4527A0\"><h1 style=\"font-size:18px\">Trial summary</h1></span>"
      ],
      "text/plain": [
       "<IPython.core.display.HTML object>"
      ]
     },
     "metadata": {},
     "output_type": "display_data"
    },
    {
     "data": {
      "text/html": [
       "<span style=\"color:cyan\"> |-Trial ID: a3a1d1207c0f31a128976f08b2da5b45</span>"
      ],
      "text/plain": [
       "<IPython.core.display.HTML object>"
      ]
     },
     "metadata": {},
     "output_type": "display_data"
    },
    {
     "data": {
      "text/html": [
       "<span style=\"color:cyan\"> |-Score: 0.8629333178202311</span>"
      ],
      "text/plain": [
       "<IPython.core.display.HTML object>"
      ]
     },
     "metadata": {},
     "output_type": "display_data"
    },
    {
     "data": {
      "text/html": [
       "<span style=\"color:cyan\"> |-Best step: 0</span>"
      ],
      "text/plain": [
       "<IPython.core.display.HTML object>"
      ]
     },
     "metadata": {},
     "output_type": "display_data"
    },
    {
     "data": {
      "text/html": [
       "<span style=\"color:#7E57C2\"><h2 style=\"font-size:16px\">Hyperparameters:</h2></span>"
      ],
      "text/plain": [
       "<IPython.core.display.HTML object>"
      ]
     },
     "metadata": {},
     "output_type": "display_data"
    },
    {
     "data": {
      "text/html": [
       "<span style=\"color:cyan\"> |-learning_rate: 0.001</span>"
      ],
      "text/plain": [
       "<IPython.core.display.HTML object>"
      ]
     },
     "metadata": {},
     "output_type": "display_data"
    },
    {
     "data": {
      "text/html": [
       "<span style=\"color:blue\"> |-num_layers: 4</span>"
      ],
      "text/plain": [
       "<IPython.core.display.HTML object>"
      ]
     },
     "metadata": {},
     "output_type": "display_data"
    },
    {
     "data": {
      "text/html": [
       "<span style=\"color:cyan\"> |-units_0: 416</span>"
      ],
      "text/plain": [
       "<IPython.core.display.HTML object>"
      ]
     },
     "metadata": {},
     "output_type": "display_data"
    },
    {
     "data": {
      "text/html": [
       "<span style=\"color:blue\"> |-units_1: 384</span>"
      ],
      "text/plain": [
       "<IPython.core.display.HTML object>"
      ]
     },
     "metadata": {},
     "output_type": "display_data"
    },
    {
     "data": {
      "text/html": [
       "<span style=\"color:cyan\"> |-units_10: 512</span>"
      ],
      "text/plain": [
       "<IPython.core.display.HTML object>"
      ]
     },
     "metadata": {},
     "output_type": "display_data"
    },
    {
     "data": {
      "text/html": [
       "<span style=\"color:blue\"> |-units_11: 32</span>"
      ],
      "text/plain": [
       "<IPython.core.display.HTML object>"
      ]
     },
     "metadata": {},
     "output_type": "display_data"
    },
    {
     "data": {
      "text/html": [
       "<span style=\"color:cyan\"> |-units_2: 96</span>"
      ],
      "text/plain": [
       "<IPython.core.display.HTML object>"
      ]
     },
     "metadata": {},
     "output_type": "display_data"
    },
    {
     "data": {
      "text/html": [
       "<span style=\"color:blue\"> |-units_3: 224</span>"
      ],
      "text/plain": [
       "<IPython.core.display.HTML object>"
      ]
     },
     "metadata": {},
     "output_type": "display_data"
    },
    {
     "data": {
      "text/html": [
       "<span style=\"color:cyan\"> |-units_4: 224</span>"
      ],
      "text/plain": [
       "<IPython.core.display.HTML object>"
      ]
     },
     "metadata": {},
     "output_type": "display_data"
    },
    {
     "data": {
      "text/html": [
       "<span style=\"color:blue\"> |-units_5: 384</span>"
      ],
      "text/plain": [
       "<IPython.core.display.HTML object>"
      ]
     },
     "metadata": {},
     "output_type": "display_data"
    },
    {
     "data": {
      "text/html": [
       "<span style=\"color:cyan\"> |-units_6: 128</span>"
      ],
      "text/plain": [
       "<IPython.core.display.HTML object>"
      ]
     },
     "metadata": {},
     "output_type": "display_data"
    },
    {
     "data": {
      "text/html": [
       "<span style=\"color:blue\"> |-units_7: 224</span>"
      ],
      "text/plain": [
       "<IPython.core.display.HTML object>"
      ]
     },
     "metadata": {},
     "output_type": "display_data"
    },
    {
     "data": {
      "text/html": [
       "<span style=\"color:cyan\"> |-units_8: 96</span>"
      ],
      "text/plain": [
       "<IPython.core.display.HTML object>"
      ]
     },
     "metadata": {},
     "output_type": "display_data"
    },
    {
     "data": {
      "text/html": [
       "<span style=\"color:blue\"> |-units_9: 480</span>"
      ],
      "text/plain": [
       "<IPython.core.display.HTML object>"
      ]
     },
     "metadata": {},
     "output_type": "display_data"
    },
    {
     "name": "stdout",
     "output_type": "stream",
     "text": [
      "Epoch 1/50\n",
      "235/235 [==============================] - ETA: 0s - loss: 0.6860 - accuracy: 0.78 - ETA: 0s - loss: 0.5276 - accuracy: 0.79 - ETA: 0s - loss: 0.4949 - accuracy: 0.80 - ETA: 0s - loss: 0.4735 - accuracy: 0.80 - ETA: 0s - loss: 0.4639 - accuracy: 0.80 - ETA: 0s - loss: 0.4724 - accuracy: 0.80 - ETA: 0s - loss: 0.4625 - accuracy: 0.80 - ETA: 0s - loss: 0.4502 - accuracy: 0.80 - ETA: 0s - loss: 0.4388 - accuracy: 0.81 - ETA: 0s - loss: 0.4344 - accuracy: 0.81 - ETA: 0s - loss: 0.4271 - accuracy: 0.82 - ETA: 0s - loss: 0.4198 - accuracy: 0.82 - ETA: 0s - loss: 0.4162 - accuracy: 0.82 - ETA: 0s - loss: 0.4115 - accuracy: 0.82 - 1s 4ms/step - loss: 0.4111 - accuracy: 0.8268 - val_loss: 0.3596 - val_accuracy: 0.8480\n",
      "Epoch 2/50\n",
      "235/235 [==============================] - ETA: 0s - loss: 0.2481 - accuracy: 0.90 - ETA: 0s - loss: 0.3522 - accuracy: 0.85 - ETA: 0s - loss: 0.3570 - accuracy: 0.85 - ETA: 0s - loss: 0.3456 - accuracy: 0.85 - ETA: 0s - loss: 0.3530 - accuracy: 0.85 - ETA: 0s - loss: 0.3542 - accuracy: 0.85 - ETA: 0s - loss: 0.3561 - accuracy: 0.85 - ETA: 0s - loss: 0.3578 - accuracy: 0.85 - ETA: 0s - loss: 0.3586 - accuracy: 0.85 - ETA: 0s - loss: 0.3530 - accuracy: 0.85 - ETA: 0s - loss: 0.3520 - accuracy: 0.85 - ETA: 0s - loss: 0.3517 - accuracy: 0.85 - ETA: 0s - loss: 0.3564 - accuracy: 0.85 - ETA: 0s - loss: 0.3553 - accuracy: 0.85 - ETA: 0s - loss: 0.3552 - accuracy: 0.85 - 1s 4ms/step - loss: 0.3543 - accuracy: 0.8555 - val_loss: 0.3510 - val_accuracy: 0.8568\n",
      "Epoch 3/50\n",
      "235/235 [==============================] - ETA: 0s - loss: 0.2792 - accuracy: 0.87 - ETA: 0s - loss: 0.3502 - accuracy: 0.85 - ETA: 0s - loss: 0.3710 - accuracy: 0.84 - ETA: 0s - loss: 0.3573 - accuracy: 0.85 - ETA: 0s - loss: 0.3530 - accuracy: 0.85 - ETA: 0s - loss: 0.3425 - accuracy: 0.86 - ETA: 0s - loss: 0.3443 - accuracy: 0.86 - ETA: 0s - loss: 0.3440 - accuracy: 0.86 - ETA: 0s - loss: 0.3420 - accuracy: 0.86 - ETA: 0s - loss: 0.3391 - accuracy: 0.86 - ETA: 0s - loss: 0.3420 - accuracy: 0.86 - ETA: 0s - loss: 0.3437 - accuracy: 0.86 - ETA: 0s - loss: 0.3479 - accuracy: 0.85 - ETA: 0s - loss: 0.3452 - accuracy: 0.85 - 1s 4ms/step - loss: 0.3462 - accuracy: 0.8592 - val_loss: 0.3510 - val_accuracy: 0.8604\n",
      "Epoch 4/50\n",
      "235/235 [==============================] - ETA: 0s - loss: 0.2626 - accuracy: 0.93 - ETA: 0s - loss: 0.3387 - accuracy: 0.86 - ETA: 0s - loss: 0.3254 - accuracy: 0.85 - ETA: 0s - loss: 0.3420 - accuracy: 0.85 - ETA: 0s - loss: 0.3347 - accuracy: 0.85 - ETA: 0s - loss: 0.3423 - accuracy: 0.85 - ETA: 0s - loss: 0.3448 - accuracy: 0.85 - ETA: 0s - loss: 0.3391 - accuracy: 0.85 - ETA: 0s - loss: 0.3423 - accuracy: 0.85 - ETA: 0s - loss: 0.3401 - accuracy: 0.85 - ETA: 0s - loss: 0.3431 - accuracy: 0.85 - ETA: 0s - loss: 0.3402 - accuracy: 0.85 - ETA: 0s - loss: 0.3408 - accuracy: 0.85 - ETA: 0s - loss: 0.3399 - accuracy: 0.85 - 1s 3ms/step - loss: 0.3384 - accuracy: 0.8595 - val_loss: 0.3414 - val_accuracy: 0.8528\n",
      "Epoch 5/50\n",
      "235/235 [==============================] - ETA: 0s - loss: 0.2572 - accuracy: 0.87 - ETA: 0s - loss: 0.3217 - accuracy: 0.87 - ETA: 0s - loss: 0.3300 - accuracy: 0.86 - ETA: 0s - loss: 0.3278 - accuracy: 0.86 - ETA: 0s - loss: 0.3305 - accuracy: 0.86 - ETA: 0s - loss: 0.3318 - accuracy: 0.86 - ETA: 0s - loss: 0.3304 - accuracy: 0.86 - ETA: 0s - loss: 0.3262 - accuracy: 0.86 - ETA: 0s - loss: 0.3266 - accuracy: 0.86 - ETA: 0s - loss: 0.3298 - accuracy: 0.86 - ETA: 0s - loss: 0.3285 - accuracy: 0.86 - ETA: 0s - loss: 0.3311 - accuracy: 0.86 - ETA: 0s - loss: 0.3332 - accuracy: 0.86 - ETA: 0s - loss: 0.3340 - accuracy: 0.86 - ETA: 0s - loss: 0.3331 - accuracy: 0.86 - 1s 4ms/step - loss: 0.3331 - accuracy: 0.8665 - val_loss: 0.3468 - val_accuracy: 0.8532\n",
      "Epoch 6/50\n",
      "235/235 [==============================] - ETA: 0s - loss: 0.3278 - accuracy: 0.81 - ETA: 0s - loss: 0.3144 - accuracy: 0.86 - ETA: 0s - loss: 0.3322 - accuracy: 0.86 - ETA: 0s - loss: 0.3240 - accuracy: 0.86 - ETA: 0s - loss: 0.3251 - accuracy: 0.86 - ETA: 0s - loss: 0.3275 - accuracy: 0.86 - ETA: 0s - loss: 0.3328 - accuracy: 0.86 - ETA: 0s - loss: 0.3306 - accuracy: 0.86 - ETA: 0s - loss: 0.3312 - accuracy: 0.86 - ETA: 0s - loss: 0.3303 - accuracy: 0.86 - ETA: 0s - loss: 0.3313 - accuracy: 0.86 - ETA: 0s - loss: 0.3260 - accuracy: 0.86 - ETA: 0s - loss: 0.3288 - accuracy: 0.86 - ETA: 0s - loss: 0.3243 - accuracy: 0.86 - 1s 4ms/step - loss: 0.3267 - accuracy: 0.8672 - val_loss: 0.3645 - val_accuracy: 0.8516\n",
      "Epoch 7/50\n",
      "235/235 [==============================] - ETA: 0s - loss: 0.3450 - accuracy: 0.81 - ETA: 0s - loss: 0.3640 - accuracy: 0.84 - ETA: 0s - loss: 0.3251 - accuracy: 0.86 - ETA: 0s - loss: 0.3298 - accuracy: 0.86 - ETA: 0s - loss: 0.3275 - accuracy: 0.86 - ETA: 0s - loss: 0.3235 - accuracy: 0.87 - ETA: 0s - loss: 0.3203 - accuracy: 0.87 - ETA: 0s - loss: 0.3220 - accuracy: 0.87 - ETA: 0s - loss: 0.3219 - accuracy: 0.87 - ETA: 0s - loss: 0.3236 - accuracy: 0.87 - ETA: 0s - loss: 0.3252 - accuracy: 0.86 - ETA: 0s - loss: 0.3246 - accuracy: 0.86 - ETA: 0s - loss: 0.3240 - accuracy: 0.86 - ETA: 0s - loss: 0.3253 - accuracy: 0.86 - 1s 3ms/step - loss: 0.3255 - accuracy: 0.8683 - val_loss: 0.3540 - val_accuracy: 0.8572\n",
      "Epoch 8/50\n",
      "235/235 [==============================] - ETA: 0s - loss: 0.2862 - accuracy: 0.90 - ETA: 0s - loss: 0.2922 - accuracy: 0.86 - ETA: 0s - loss: 0.3101 - accuracy: 0.86 - ETA: 0s - loss: 0.3078 - accuracy: 0.87 - ETA: 0s - loss: 0.3128 - accuracy: 0.87 - ETA: 0s - loss: 0.2994 - accuracy: 0.88 - ETA: 0s - loss: 0.3071 - accuracy: 0.87 - ETA: 0s - loss: 0.3088 - accuracy: 0.87 - ETA: 0s - loss: 0.3136 - accuracy: 0.87 - ETA: 0s - loss: 0.3150 - accuracy: 0.87 - ETA: 0s - loss: 0.3163 - accuracy: 0.87 - ETA: 0s - loss: 0.3135 - accuracy: 0.87 - ETA: 0s - loss: 0.3182 - accuracy: 0.87 - ETA: 0s - loss: 0.3178 - accuracy: 0.87 - 1s 4ms/step - loss: 0.3168 - accuracy: 0.8704 - val_loss: 0.3651 - val_accuracy: 0.8508\n",
      "Epoch 9/50\n",
      "235/235 [==============================] - ETA: 0s - loss: 0.3336 - accuracy: 0.84 - ETA: 0s - loss: 0.2763 - accuracy: 0.88 - ETA: 0s - loss: 0.2860 - accuracy: 0.88 - ETA: 0s - loss: 0.2927 - accuracy: 0.87 - ETA: 0s - loss: 0.2911 - accuracy: 0.88 - ETA: 0s - loss: 0.2939 - accuracy: 0.88 - ETA: 0s - loss: 0.3004 - accuracy: 0.87 - ETA: 0s - loss: 0.3078 - accuracy: 0.87 - ETA: 0s - loss: 0.3102 - accuracy: 0.87 - ETA: 0s - loss: 0.3078 - accuracy: 0.87 - ETA: 0s - loss: 0.3036 - accuracy: 0.87 - ETA: 0s - loss: 0.3087 - accuracy: 0.87 - ETA: 0s - loss: 0.3095 - accuracy: 0.87 - ETA: 0s - loss: 0.3081 - accuracy: 0.87 - ETA: 0s - loss: 0.3097 - accuracy: 0.87 - ETA: 0s - loss: 0.3106 - accuracy: 0.87 - 1s 4ms/step - loss: 0.3096 - accuracy: 0.8731 - val_loss: 0.3605 - val_accuracy: 0.8572\n",
      "Epoch 10/50\n",
      "235/235 [==============================] - ETA: 0s - loss: 0.3328 - accuracy: 0.90 - ETA: 0s - loss: 0.2783 - accuracy: 0.89 - ETA: 0s - loss: 0.3133 - accuracy: 0.86 - ETA: 0s - loss: 0.3059 - accuracy: 0.87 - ETA: 0s - loss: 0.2970 - accuracy: 0.87 - ETA: 0s - loss: 0.2958 - accuracy: 0.87 - ETA: 0s - loss: 0.2975 - accuracy: 0.87 - ETA: 0s - loss: 0.2966 - accuracy: 0.88 - ETA: 0s - loss: 0.2982 - accuracy: 0.87 - ETA: 0s - loss: 0.3045 - accuracy: 0.87 - ETA: 0s - loss: 0.3052 - accuracy: 0.87 - ETA: 0s - loss: 0.3059 - accuracy: 0.87 - ETA: 0s - loss: 0.3093 - accuracy: 0.87 - ETA: 0s - loss: 0.3075 - accuracy: 0.87 - ETA: 0s - loss: 0.3055 - accuracy: 0.87 - 1s 4ms/step - loss: 0.3087 - accuracy: 0.8765 - val_loss: 0.3542 - val_accuracy: 0.8560\n",
      "Epoch 11/50\n"
     ]
    },
    {
     "name": "stdout",
     "output_type": "stream",
     "text": [
      "235/235 [==============================] - ETA: 0s - loss: 0.1904 - accuracy: 0.90 - ETA: 0s - loss: 0.2614 - accuracy: 0.89 - ETA: 0s - loss: 0.2819 - accuracy: 0.88 - ETA: 0s - loss: 0.2834 - accuracy: 0.88 - ETA: 0s - loss: 0.2861 - accuracy: 0.88 - ETA: 0s - loss: 0.2940 - accuracy: 0.87 - ETA: 0s - loss: 0.3002 - accuracy: 0.87 - ETA: 0s - loss: 0.3010 - accuracy: 0.87 - ETA: 0s - loss: 0.2976 - accuracy: 0.87 - ETA: 0s - loss: 0.2970 - accuracy: 0.87 - ETA: 0s - loss: 0.2977 - accuracy: 0.87 - ETA: 0s - loss: 0.2980 - accuracy: 0.87 - ETA: 0s - loss: 0.2975 - accuracy: 0.87 - ETA: 0s - loss: 0.2963 - accuracy: 0.87 - ETA: 0s - loss: 0.2977 - accuracy: 0.87 - 1s 4ms/step - loss: 0.2977 - accuracy: 0.8783 - val_loss: 0.3561 - val_accuracy: 0.8588\n",
      "Epoch 12/50\n",
      "235/235 [==============================] - ETA: 0s - loss: 0.3012 - accuracy: 0.84 - ETA: 0s - loss: 0.2345 - accuracy: 0.89 - ETA: 0s - loss: 0.2498 - accuracy: 0.89 - ETA: 0s - loss: 0.2567 - accuracy: 0.88 - ETA: 0s - loss: 0.2644 - accuracy: 0.88 - ETA: 0s - loss: 0.2651 - accuracy: 0.88 - ETA: 0s - loss: 0.2655 - accuracy: 0.88 - ETA: 0s - loss: 0.2699 - accuracy: 0.88 - ETA: 0s - loss: 0.2739 - accuracy: 0.88 - ETA: 0s - loss: 0.2806 - accuracy: 0.87 - ETA: 0s - loss: 0.2882 - accuracy: 0.87 - ETA: 0s - loss: 0.2883 - accuracy: 0.87 - ETA: 0s - loss: 0.2913 - accuracy: 0.87 - ETA: 0s - loss: 0.2918 - accuracy: 0.87 - ETA: 0s - loss: 0.2928 - accuracy: 0.87 - 1s 4ms/step - loss: 0.2937 - accuracy: 0.8753 - val_loss: 0.3678 - val_accuracy: 0.8484\n",
      "Epoch 13/50\n",
      "235/235 [==============================] - ETA: 0s - loss: 0.2215 - accuracy: 0.87 - ETA: 0s - loss: 0.2718 - accuracy: 0.87 - ETA: 0s - loss: 0.2671 - accuracy: 0.88 - ETA: 0s - loss: 0.2598 - accuracy: 0.89 - ETA: 0s - loss: 0.2668 - accuracy: 0.89 - ETA: 0s - loss: 0.2745 - accuracy: 0.88 - ETA: 0s - loss: 0.2761 - accuracy: 0.88 - ETA: 0s - loss: 0.2816 - accuracy: 0.88 - ETA: 0s - loss: 0.2814 - accuracy: 0.88 - ETA: 0s - loss: 0.2829 - accuracy: 0.88 - ETA: 0s - loss: 0.2846 - accuracy: 0.87 - ETA: 0s - loss: 0.2869 - accuracy: 0.87 - ETA: 0s - loss: 0.2827 - accuracy: 0.88 - ETA: 0s - loss: 0.2848 - accuracy: 0.87 - ETA: 0s - loss: 0.2867 - accuracy: 0.87 - 1s 4ms/step - loss: 0.2877 - accuracy: 0.8788 - val_loss: 0.3543 - val_accuracy: 0.8592\n",
      "Epoch 14/50\n",
      "235/235 [==============================] - ETA: 0s - loss: 0.2759 - accuracy: 0.90 - ETA: 0s - loss: 0.2696 - accuracy: 0.88 - ETA: 0s - loss: 0.2566 - accuracy: 0.88 - ETA: 0s - loss: 0.2700 - accuracy: 0.88 - ETA: 0s - loss: 0.2604 - accuracy: 0.88 - ETA: 0s - loss: 0.2774 - accuracy: 0.88 - ETA: 0s - loss: 0.2798 - accuracy: 0.87 - ETA: 0s - loss: 0.2756 - accuracy: 0.88 - ETA: 0s - loss: 0.2806 - accuracy: 0.87 - ETA: 0s - loss: 0.2844 - accuracy: 0.87 - ETA: 0s - loss: 0.2801 - accuracy: 0.88 - ETA: 0s - loss: 0.2848 - accuracy: 0.87 - ETA: 0s - loss: 0.2856 - accuracy: 0.87 - ETA: 0s - loss: 0.2853 - accuracy: 0.87 - ETA: 0s - loss: 0.2835 - accuracy: 0.87 - 1s 4ms/step - loss: 0.2819 - accuracy: 0.8808 - val_loss: 0.4119 - val_accuracy: 0.8464\n",
      "Epoch 15/50\n",
      "235/235 [==============================] - ETA: 0s - loss: 0.2733 - accuracy: 0.81 - ETA: 0s - loss: 0.2462 - accuracy: 0.88 - ETA: 0s - loss: 0.2520 - accuracy: 0.89 - ETA: 0s - loss: 0.2575 - accuracy: 0.88 - ETA: 0s - loss: 0.2550 - accuracy: 0.88 - ETA: 0s - loss: 0.2521 - accuracy: 0.88 - ETA: 0s - loss: 0.2528 - accuracy: 0.89 - ETA: 0s - loss: 0.2563 - accuracy: 0.89 - ETA: 0s - loss: 0.2582 - accuracy: 0.89 - ETA: 0s - loss: 0.2609 - accuracy: 0.88 - ETA: 0s - loss: 0.2635 - accuracy: 0.88 - ETA: 0s - loss: 0.2663 - accuracy: 0.88 - ETA: 0s - loss: 0.2679 - accuracy: 0.88 - ETA: 0s - loss: 0.2699 - accuracy: 0.88 - ETA: 0s - loss: 0.2691 - accuracy: 0.88 - ETA: 0s - loss: 0.2668 - accuracy: 0.88 - ETA: 0s - loss: 0.2706 - accuracy: 0.88 - ETA: 0s - loss: 0.2734 - accuracy: 0.88 - ETA: 0s - loss: 0.2739 - accuracy: 0.88 - 1s 5ms/step - loss: 0.2738 - accuracy: 0.8836 - val_loss: 0.3809 - val_accuracy: 0.8568\n",
      "Epoch 16/50\n",
      "235/235 [==============================] - ETA: 0s - loss: 0.2325 - accuracy: 0.93 - ETA: 0s - loss: 0.2695 - accuracy: 0.89 - ETA: 1s - loss: 0.2627 - accuracy: 0.89 - ETA: 0s - loss: 0.2464 - accuracy: 0.89 - ETA: 0s - loss: 0.2441 - accuracy: 0.89 - ETA: 0s - loss: 0.2401 - accuracy: 0.89 - ETA: 0s - loss: 0.2354 - accuracy: 0.89 - ETA: 0s - loss: 0.2449 - accuracy: 0.89 - ETA: 0s - loss: 0.2460 - accuracy: 0.89 - ETA: 0s - loss: 0.2437 - accuracy: 0.89 - ETA: 0s - loss: 0.2479 - accuracy: 0.89 - ETA: 0s - loss: 0.2519 - accuracy: 0.89 - ETA: 0s - loss: 0.2525 - accuracy: 0.89 - ETA: 0s - loss: 0.2558 - accuracy: 0.89 - ETA: 0s - loss: 0.2605 - accuracy: 0.88 - ETA: 0s - loss: 0.2608 - accuracy: 0.88 - ETA: 0s - loss: 0.2626 - accuracy: 0.88 - ETA: 0s - loss: 0.2648 - accuracy: 0.88 - 1s 4ms/step - loss: 0.2671 - accuracy: 0.8856 - val_loss: 0.4150 - val_accuracy: 0.8500\n",
      "Epoch 17/50\n",
      "235/235 [==============================] - ETA: 0s - loss: 0.1846 - accuracy: 0.84 - ETA: 0s - loss: 0.2995 - accuracy: 0.86 - ETA: 0s - loss: 0.2720 - accuracy: 0.87 - ETA: 0s - loss: 0.2687 - accuracy: 0.88 - ETA: 0s - loss: 0.2626 - accuracy: 0.88 - ETA: 0s - loss: 0.2633 - accuracy: 0.88 - ETA: 0s - loss: 0.2611 - accuracy: 0.88 - ETA: 0s - loss: 0.2640 - accuracy: 0.88 - ETA: 0s - loss: 0.2628 - accuracy: 0.88 - ETA: 0s - loss: 0.2610 - accuracy: 0.88 - ETA: 0s - loss: 0.2613 - accuracy: 0.88 - ETA: 0s - loss: 0.2614 - accuracy: 0.88 - ETA: 0s - loss: 0.2632 - accuracy: 0.88 - 1s 3ms/step - loss: 0.2630 - accuracy: 0.8863 - val_loss: 0.4122 - val_accuracy: 0.8416\n",
      "Epoch 18/50\n",
      "235/235 [==============================] - ETA: 0s - loss: 0.2240 - accuracy: 0.90 - ETA: 0s - loss: 0.2170 - accuracy: 0.90 - ETA: 0s - loss: 0.2463 - accuracy: 0.88 - ETA: 0s - loss: 0.2396 - accuracy: 0.88 - ETA: 0s - loss: 0.2407 - accuracy: 0.88 - ETA: 0s - loss: 0.2447 - accuracy: 0.88 - ETA: 0s - loss: 0.2519 - accuracy: 0.88 - ETA: 0s - loss: 0.2497 - accuracy: 0.88 - ETA: 0s - loss: 0.2536 - accuracy: 0.88 - ETA: 0s - loss: 0.2546 - accuracy: 0.88 - ETA: 0s - loss: 0.2566 - accuracy: 0.88 - ETA: 0s - loss: 0.2540 - accuracy: 0.88 - ETA: 0s - loss: 0.2565 - accuracy: 0.88 - 1s 3ms/step - loss: 0.2556 - accuracy: 0.8859 - val_loss: 0.4290 - val_accuracy: 0.8584\n",
      "Epoch 19/50\n",
      "235/235 [==============================] - ETA: 0s - loss: 0.0787 - accuracy: 0.96 - ETA: 0s - loss: 0.2410 - accuracy: 0.88 - ETA: 0s - loss: 0.2382 - accuracy: 0.89 - ETA: 0s - loss: 0.2380 - accuracy: 0.89 - ETA: 0s - loss: 0.2319 - accuracy: 0.90 - ETA: 0s - loss: 0.2360 - accuracy: 0.89 - ETA: 0s - loss: 0.2389 - accuracy: 0.89 - ETA: 0s - loss: 0.2366 - accuracy: 0.89 - ETA: 0s - loss: 0.2376 - accuracy: 0.89 - ETA: 0s - loss: 0.2414 - accuracy: 0.89 - ETA: 0s - loss: 0.2464 - accuracy: 0.89 - ETA: 0s - loss: 0.2449 - accuracy: 0.89 - ETA: 0s - loss: 0.2456 - accuracy: 0.89 - 1s 3ms/step - loss: 0.2444 - accuracy: 0.8929 - val_loss: 0.4915 - val_accuracy: 0.8592\n",
      "Epoch 20/50\n",
      "235/235 [==============================] - ETA: 0s - loss: 0.3423 - accuracy: 0.87 - ETA: 0s - loss: 0.2403 - accuracy: 0.89 - ETA: 0s - loss: 0.2258 - accuracy: 0.90 - ETA: 0s - loss: 0.2301 - accuracy: 0.90 - ETA: 0s - loss: 0.2424 - accuracy: 0.89 - ETA: 0s - loss: 0.2408 - accuracy: 0.89 - ETA: 0s - loss: 0.2383 - accuracy: 0.89 - ETA: 0s - loss: 0.2386 - accuracy: 0.89 - ETA: 0s - loss: 0.2351 - accuracy: 0.89 - ETA: 0s - loss: 0.2339 - accuracy: 0.89 - ETA: 0s - loss: 0.2311 - accuracy: 0.89 - ETA: 0s - loss: 0.2342 - accuracy: 0.89 - ETA: 0s - loss: 0.2358 - accuracy: 0.89 - ETA: 0s - loss: 0.2379 - accuracy: 0.89 - 1s 3ms/step - loss: 0.2394 - accuracy: 0.8936 - val_loss: 0.4377 - val_accuracy: 0.8532\n",
      "Epoch 21/50\n"
     ]
    },
    {
     "name": "stdout",
     "output_type": "stream",
     "text": [
      "235/235 [==============================] - ETA: 0s - loss: 0.2028 - accuracy: 0.90 - ETA: 0s - loss: 0.1862 - accuracy: 0.93 - ETA: 0s - loss: 0.2068 - accuracy: 0.91 - ETA: 0s - loss: 0.2154 - accuracy: 0.90 - ETA: 0s - loss: 0.2259 - accuracy: 0.89 - ETA: 0s - loss: 0.2217 - accuracy: 0.90 - ETA: 0s - loss: 0.2259 - accuracy: 0.89 - ETA: 0s - loss: 0.2230 - accuracy: 0.90 - ETA: 0s - loss: 0.2250 - accuracy: 0.89 - ETA: 0s - loss: 0.2239 - accuracy: 0.90 - ETA: 0s - loss: 0.2233 - accuracy: 0.90 - ETA: 0s - loss: 0.2274 - accuracy: 0.89 - 1s 3ms/step - loss: 0.2287 - accuracy: 0.8973 - val_loss: 0.4731 - val_accuracy: 0.8460\n",
      "Epoch 22/50\n",
      "235/235 [==============================] - ETA: 0s - loss: 0.1833 - accuracy: 0.87 - ETA: 0s - loss: 0.2203 - accuracy: 0.89 - ETA: 0s - loss: 0.2178 - accuracy: 0.89 - ETA: 0s - loss: 0.2211 - accuracy: 0.89 - ETA: 0s - loss: 0.2192 - accuracy: 0.89 - ETA: 0s - loss: 0.2144 - accuracy: 0.89 - ETA: 0s - loss: 0.2159 - accuracy: 0.89 - ETA: 0s - loss: 0.2204 - accuracy: 0.89 - ETA: 0s - loss: 0.2218 - accuracy: 0.89 - ETA: 0s - loss: 0.2223 - accuracy: 0.90 - ETA: 0s - loss: 0.2240 - accuracy: 0.90 - ETA: 0s - loss: 0.2268 - accuracy: 0.90 - ETA: 0s - loss: 0.2265 - accuracy: 0.89 - 1s 3ms/step - loss: 0.2266 - accuracy: 0.8996 - val_loss: 0.5179 - val_accuracy: 0.8420\n",
      "Epoch 23/50\n",
      "235/235 [==============================] - ETA: 0s - loss: 0.2247 - accuracy: 0.90 - ETA: 0s - loss: 0.2171 - accuracy: 0.90 - ETA: 0s - loss: 0.2061 - accuracy: 0.90 - ETA: 0s - loss: 0.2008 - accuracy: 0.90 - ETA: 0s - loss: 0.2057 - accuracy: 0.90 - ETA: 0s - loss: 0.2076 - accuracy: 0.90 - ETA: 0s - loss: 0.2129 - accuracy: 0.90 - ETA: 0s - loss: 0.2142 - accuracy: 0.90 - ETA: 0s - loss: 0.2177 - accuracy: 0.90 - ETA: 0s - loss: 0.2180 - accuracy: 0.90 - ETA: 0s - loss: 0.2155 - accuracy: 0.90 - ETA: 0s - loss: 0.2143 - accuracy: 0.90 - ETA: 0s - loss: 0.2198 - accuracy: 0.90 - 1s 3ms/step - loss: 0.2203 - accuracy: 0.9001 - val_loss: 0.4894 - val_accuracy: 0.8540\n",
      "Epoch 24/50\n",
      "235/235 [==============================] - ETA: 0s - loss: 0.2267 - accuracy: 0.90 - ETA: 0s - loss: 0.1797 - accuracy: 0.92 - ETA: 0s - loss: 0.1806 - accuracy: 0.92 - ETA: 0s - loss: 0.1936 - accuracy: 0.91 - ETA: 0s - loss: 0.1930 - accuracy: 0.91 - ETA: 0s - loss: 0.1943 - accuracy: 0.91 - ETA: 0s - loss: 0.1982 - accuracy: 0.91 - ETA: 0s - loss: 0.2036 - accuracy: 0.90 - ETA: 0s - loss: 0.2017 - accuracy: 0.90 - ETA: 0s - loss: 0.2028 - accuracy: 0.90 - ETA: 0s - loss: 0.2041 - accuracy: 0.90 - ETA: 0s - loss: 0.2027 - accuracy: 0.90 - ETA: 0s - loss: 0.2058 - accuracy: 0.90 - 1s 3ms/step - loss: 0.2064 - accuracy: 0.9059 - val_loss: 0.5858 - val_accuracy: 0.8516\n",
      "Epoch 25/50\n",
      "235/235 [==============================] - ETA: 0s - loss: 0.1737 - accuracy: 0.90 - ETA: 0s - loss: 0.2241 - accuracy: 0.89 - ETA: 0s - loss: 0.2181 - accuracy: 0.90 - ETA: 0s - loss: 0.2004 - accuracy: 0.91 - ETA: 0s - loss: 0.2048 - accuracy: 0.90 - ETA: 0s - loss: 0.2082 - accuracy: 0.90 - ETA: 0s - loss: 0.2057 - accuracy: 0.90 - ETA: 0s - loss: 0.2044 - accuracy: 0.90 - ETA: 0s - loss: 0.2038 - accuracy: 0.90 - ETA: 0s - loss: 0.2023 - accuracy: 0.90 - ETA: 0s - loss: 0.2039 - accuracy: 0.90 - ETA: 0s - loss: 0.2015 - accuracy: 0.90 - ETA: 0s - loss: 0.2011 - accuracy: 0.90 - 1s 3ms/step - loss: 0.2029 - accuracy: 0.9095 - val_loss: 0.5048 - val_accuracy: 0.8412\n",
      "Epoch 26/50\n",
      "235/235 [==============================] - ETA: 0s - loss: 0.1815 - accuracy: 0.96 - ETA: 0s - loss: 0.1754 - accuracy: 0.92 - ETA: 0s - loss: 0.1822 - accuracy: 0.92 - ETA: 0s - loss: 0.1874 - accuracy: 0.91 - ETA: 0s - loss: 0.1905 - accuracy: 0.91 - ETA: 0s - loss: 0.1861 - accuracy: 0.91 - ETA: 0s - loss: 0.1853 - accuracy: 0.91 - ETA: 0s - loss: 0.1829 - accuracy: 0.91 - ETA: 0s - loss: 0.1805 - accuracy: 0.91 - ETA: 0s - loss: 0.1843 - accuracy: 0.91 - ETA: 0s - loss: 0.1862 - accuracy: 0.91 - ETA: 0s - loss: 0.1849 - accuracy: 0.91 - ETA: 0s - loss: 0.1862 - accuracy: 0.91 - 1s 3ms/step - loss: 0.1866 - accuracy: 0.9155 - val_loss: 0.6487 - val_accuracy: 0.8320\n",
      "Epoch 27/50\n",
      "235/235 [==============================] - ETA: 0s - loss: 0.0925 - accuracy: 1.00 - ETA: 0s - loss: 0.1434 - accuracy: 0.94 - ETA: 0s - loss: 0.1506 - accuracy: 0.93 - ETA: 0s - loss: 0.1596 - accuracy: 0.92 - ETA: 0s - loss: 0.1670 - accuracy: 0.92 - ETA: 0s - loss: 0.1672 - accuracy: 0.92 - ETA: 0s - loss: 0.1737 - accuracy: 0.91 - ETA: 0s - loss: 0.1754 - accuracy: 0.92 - ETA: 0s - loss: 0.1786 - accuracy: 0.91 - ETA: 0s - loss: 0.1798 - accuracy: 0.91 - ETA: 0s - loss: 0.1826 - accuracy: 0.91 - ETA: 0s - loss: 0.1843 - accuracy: 0.91 - ETA: 0s - loss: 0.1858 - accuracy: 0.91 - 1s 3ms/step - loss: 0.1845 - accuracy: 0.9145 - val_loss: 0.7325 - val_accuracy: 0.8340\n",
      "Epoch 28/50\n",
      "235/235 [==============================] - ETA: 0s - loss: 0.0424 - accuracy: 1.00 - ETA: 0s - loss: 0.1353 - accuracy: 0.94 - ETA: 0s - loss: 0.1499 - accuracy: 0.93 - ETA: 0s - loss: 0.1541 - accuracy: 0.92 - ETA: 0s - loss: 0.1625 - accuracy: 0.92 - ETA: 0s - loss: 0.1662 - accuracy: 0.92 - ETA: 0s - loss: 0.1694 - accuracy: 0.92 - ETA: 0s - loss: 0.1749 - accuracy: 0.92 - ETA: 0s - loss: 0.1811 - accuracy: 0.91 - ETA: 0s - loss: 0.1811 - accuracy: 0.91 - ETA: 0s - loss: 0.1838 - accuracy: 0.91 - ETA: 0s - loss: 0.1843 - accuracy: 0.91 - ETA: 0s - loss: 0.1867 - accuracy: 0.91 - 1s 3ms/step - loss: 0.1874 - accuracy: 0.9164 - val_loss: 0.6212 - val_accuracy: 0.8316\n",
      "Epoch 29/50\n",
      "235/235 [==============================] - ETA: 0s - loss: 0.1641 - accuracy: 0.96 - ETA: 0s - loss: 0.1561 - accuracy: 0.93 - ETA: 0s - loss: 0.1605 - accuracy: 0.93 - ETA: 0s - loss: 0.1600 - accuracy: 0.92 - ETA: 0s - loss: 0.1525 - accuracy: 0.93 - ETA: 0s - loss: 0.1585 - accuracy: 0.92 - ETA: 0s - loss: 0.1644 - accuracy: 0.92 - ETA: 0s - loss: 0.1664 - accuracy: 0.92 - ETA: 0s - loss: 0.1661 - accuracy: 0.92 - ETA: 0s - loss: 0.1689 - accuracy: 0.92 - ETA: 0s - loss: 0.1687 - accuracy: 0.92 - ETA: 0s - loss: 0.1702 - accuracy: 0.92 - ETA: 0s - loss: 0.1725 - accuracy: 0.92 - 1s 3ms/step - loss: 0.1736 - accuracy: 0.9211 - val_loss: 0.6709 - val_accuracy: 0.8336\n",
      "Epoch 30/50\n",
      "235/235 [==============================] - ETA: 0s - loss: 0.0444 - accuracy: 1.00 - ETA: 0s - loss: 0.1494 - accuracy: 0.93 - ETA: 0s - loss: 0.1546 - accuracy: 0.93 - ETA: 0s - loss: 0.1540 - accuracy: 0.93 - ETA: 0s - loss: 0.1523 - accuracy: 0.92 - ETA: 0s - loss: 0.1490 - accuracy: 0.93 - ETA: 0s - loss: 0.1536 - accuracy: 0.93 - ETA: 0s - loss: 0.1572 - accuracy: 0.93 - ETA: 0s - loss: 0.1606 - accuracy: 0.92 - ETA: 0s - loss: 0.1618 - accuracy: 0.92 - ETA: 0s - loss: 0.1634 - accuracy: 0.92 - ETA: 0s - loss: 0.1649 - accuracy: 0.92 - ETA: 0s - loss: 0.1640 - accuracy: 0.92 - 1s 3ms/step - loss: 0.1663 - accuracy: 0.9268 - val_loss: 0.6821 - val_accuracy: 0.8304\n",
      "Epoch 31/50\n",
      "235/235 [==============================] - ETA: 0s - loss: 0.1012 - accuracy: 0.96 - ETA: 0s - loss: 0.1254 - accuracy: 0.94 - ETA: 0s - loss: 0.1349 - accuracy: 0.94 - ETA: 0s - loss: 0.1492 - accuracy: 0.92 - ETA: 0s - loss: 0.1504 - accuracy: 0.93 - ETA: 0s - loss: 0.1477 - accuracy: 0.93 - ETA: 0s - loss: 0.1409 - accuracy: 0.93 - ETA: 0s - loss: 0.1455 - accuracy: 0.93 - ETA: 0s - loss: 0.1458 - accuracy: 0.93 - ETA: 0s - loss: 0.1499 - accuracy: 0.93 - ETA: 0s - loss: 0.1524 - accuracy: 0.92 - ETA: 0s - loss: 0.1544 - accuracy: 0.92 - ETA: 0s - loss: 0.1576 - accuracy: 0.92 - 1s 3ms/step - loss: 0.1584 - accuracy: 0.9265 - val_loss: 0.7449 - val_accuracy: 0.8352\n",
      "Epoch 32/50\n",
      "235/235 [==============================] - ETA: 0s - loss: 0.1437 - accuracy: 0.93 - ETA: 0s - loss: 0.1471 - accuracy: 0.93 - ETA: 0s - loss: 0.1404 - accuracy: 0.94 - ETA: 0s - loss: 0.1410 - accuracy: 0.94 - ETA: 0s - loss: 0.1447 - accuracy: 0.93 - ETA: 0s - loss: 0.1480 - accuracy: 0.93 - ETA: 0s - loss: 0.1474 - accuracy: 0.93 - ETA: 0s - loss: 0.1496 - accuracy: 0.93 - ETA: 0s - loss: 0.1514 - accuracy: 0.93 - ETA: 0s - loss: 0.1528 - accuracy: 0.93 - ETA: 0s - loss: 0.1560 - accuracy: 0.93 - ETA: 0s - loss: 0.1564 - accuracy: 0.93 - ETA: 0s - loss: 0.1562 - accuracy: 0.93 - 1s 3ms/step - loss: 0.1571 - accuracy: 0.9309 - val_loss: 0.7558 - val_accuracy: 0.8400\n"
     ]
    },
    {
     "name": "stdout",
     "output_type": "stream",
     "text": [
      "Epoch 33/50\n",
      "235/235 [==============================] - ETA: 0s - loss: 0.1149 - accuracy: 0.93 - ETA: 0s - loss: 0.1271 - accuracy: 0.93 - ETA: 0s - loss: 0.1165 - accuracy: 0.94 - ETA: 0s - loss: 0.1206 - accuracy: 0.94 - ETA: 0s - loss: 0.1266 - accuracy: 0.94 - ETA: 0s - loss: 0.1357 - accuracy: 0.94 - ETA: 0s - loss: 0.1441 - accuracy: 0.94 - ETA: 0s - loss: 0.1469 - accuracy: 0.93 - ETA: 0s - loss: 0.1485 - accuracy: 0.93 - ETA: 0s - loss: 0.1464 - accuracy: 0.93 - ETA: 0s - loss: 0.1442 - accuracy: 0.93 - ETA: 0s - loss: 0.1450 - accuracy: 0.93 - ETA: 0s - loss: 0.1443 - accuracy: 0.93 - 1s 3ms/step - loss: 0.1458 - accuracy: 0.9376 - val_loss: 0.7575 - val_accuracy: 0.8248\n",
      "Epoch 34/50\n",
      "235/235 [==============================] - ETA: 0s - loss: 0.0980 - accuracy: 0.96 - ETA: 0s - loss: 0.1201 - accuracy: 0.94 - ETA: 0s - loss: 0.1270 - accuracy: 0.94 - ETA: 0s - loss: 0.1353 - accuracy: 0.94 - ETA: 0s - loss: 0.1325 - accuracy: 0.94 - ETA: 0s - loss: 0.1364 - accuracy: 0.94 - ETA: 0s - loss: 0.1390 - accuracy: 0.94 - ETA: 0s - loss: 0.1396 - accuracy: 0.94 - ETA: 0s - loss: 0.1384 - accuracy: 0.94 - ETA: 0s - loss: 0.1374 - accuracy: 0.94 - ETA: 0s - loss: 0.1390 - accuracy: 0.94 - ETA: 0s - loss: 0.1404 - accuracy: 0.94 - ETA: 0s - loss: 0.1402 - accuracy: 0.94 - 1s 3ms/step - loss: 0.1393 - accuracy: 0.9400 - val_loss: 0.8330 - val_accuracy: 0.8388\n",
      "Epoch 35/50\n",
      "235/235 [==============================] - ETA: 0s - loss: 0.1102 - accuracy: 0.96 - ETA: 0s - loss: 0.0898 - accuracy: 0.96 - ETA: 0s - loss: 0.0961 - accuracy: 0.96 - ETA: 0s - loss: 0.0996 - accuracy: 0.96 - ETA: 0s - loss: 0.1076 - accuracy: 0.96 - ETA: 0s - loss: 0.1191 - accuracy: 0.95 - ETA: 0s - loss: 0.1219 - accuracy: 0.95 - ETA: 0s - loss: 0.1254 - accuracy: 0.94 - ETA: 0s - loss: 0.1264 - accuracy: 0.94 - ETA: 0s - loss: 0.1289 - accuracy: 0.94 - ETA: 0s - loss: 0.1305 - accuracy: 0.94 - ETA: 0s - loss: 0.1333 - accuracy: 0.94 - ETA: 0s - loss: 0.1328 - accuracy: 0.94 - 1s 3ms/step - loss: 0.1347 - accuracy: 0.9423 - val_loss: 0.8358 - val_accuracy: 0.8260\n",
      "Epoch 36/50\n",
      "235/235 [==============================] - ETA: 0s - loss: 0.1735 - accuracy: 0.90 - ETA: 0s - loss: 0.0903 - accuracy: 0.96 - ETA: 0s - loss: 0.1050 - accuracy: 0.95 - ETA: 0s - loss: 0.1029 - accuracy: 0.95 - ETA: 0s - loss: 0.1008 - accuracy: 0.95 - ETA: 0s - loss: 0.1047 - accuracy: 0.95 - ETA: 0s - loss: 0.1059 - accuracy: 0.95 - ETA: 0s - loss: 0.1158 - accuracy: 0.94 - ETA: 0s - loss: 0.1231 - accuracy: 0.94 - ETA: 0s - loss: 0.1248 - accuracy: 0.94 - ETA: 0s - loss: 0.1244 - accuracy: 0.94 - ETA: 0s - loss: 0.1237 - accuracy: 0.94 - ETA: 0s - loss: 0.1280 - accuracy: 0.94 - 1s 3ms/step - loss: 0.1281 - accuracy: 0.9448 - val_loss: 0.8037 - val_accuracy: 0.8056\n",
      "Epoch 37/50\n",
      "235/235 [==============================] - ETA: 0s - loss: 0.1876 - accuracy: 0.93 - ETA: 0s - loss: 0.1268 - accuracy: 0.94 - ETA: 0s - loss: 0.1175 - accuracy: 0.94 - ETA: 0s - loss: 0.1290 - accuracy: 0.94 - ETA: 0s - loss: 0.1285 - accuracy: 0.94 - ETA: 0s - loss: 0.1275 - accuracy: 0.94 - ETA: 0s - loss: 0.1307 - accuracy: 0.94 - ETA: 0s - loss: 0.1314 - accuracy: 0.94 - ETA: 0s - loss: 0.1314 - accuracy: 0.94 - ETA: 0s - loss: 0.1330 - accuracy: 0.94 - ETA: 0s - loss: 0.1309 - accuracy: 0.94 - ETA: 0s - loss: 0.1306 - accuracy: 0.94 - ETA: 0s - loss: 0.1305 - accuracy: 0.94 - 1s 3ms/step - loss: 0.1313 - accuracy: 0.9445 - val_loss: 0.8253 - val_accuracy: 0.8204\n",
      "Epoch 38/50\n",
      "235/235 [==============================] - ETA: 0s - loss: 0.1518 - accuracy: 0.93 - ETA: 0s - loss: 0.1117 - accuracy: 0.95 - ETA: 0s - loss: 0.1075 - accuracy: 0.95 - ETA: 0s - loss: 0.1073 - accuracy: 0.95 - ETA: 0s - loss: 0.1114 - accuracy: 0.95 - ETA: 0s - loss: 0.1083 - accuracy: 0.95 - ETA: 0s - loss: 0.1034 - accuracy: 0.95 - ETA: 0s - loss: 0.1074 - accuracy: 0.95 - ETA: 0s - loss: 0.1115 - accuracy: 0.95 - ETA: 0s - loss: 0.1175 - accuracy: 0.95 - ETA: 0s - loss: 0.1197 - accuracy: 0.94 - ETA: 0s - loss: 0.1228 - accuracy: 0.94 - ETA: 0s - loss: 0.1252 - accuracy: 0.94 - 1s 3ms/step - loss: 0.1255 - accuracy: 0.9472 - val_loss: 0.7397 - val_accuracy: 0.8256\n",
      "Epoch 39/50\n",
      "235/235 [==============================] - ETA: 0s - loss: 0.0452 - accuracy: 1.00 - ETA: 0s - loss: 0.0980 - accuracy: 0.95 - ETA: 0s - loss: 0.0903 - accuracy: 0.96 - ETA: 0s - loss: 0.0927 - accuracy: 0.96 - ETA: 0s - loss: 0.0970 - accuracy: 0.95 - ETA: 0s - loss: 0.1003 - accuracy: 0.95 - ETA: 0s - loss: 0.0988 - accuracy: 0.95 - ETA: 0s - loss: 0.1041 - accuracy: 0.95 - ETA: 0s - loss: 0.1053 - accuracy: 0.95 - ETA: 0s - loss: 0.1065 - accuracy: 0.95 - ETA: 0s - loss: 0.1124 - accuracy: 0.95 - ETA: 0s - loss: 0.1154 - accuracy: 0.94 - ETA: 0s - loss: 0.1158 - accuracy: 0.94 - 1s 3ms/step - loss: 0.1154 - accuracy: 0.9489 - val_loss: 0.9429 - val_accuracy: 0.8264\n",
      "Epoch 40/50\n",
      "235/235 [==============================] - ETA: 0s - loss: 0.0518 - accuracy: 1.00 - ETA: 0s - loss: 0.0905 - accuracy: 0.97 - ETA: 0s - loss: 0.0949 - accuracy: 0.96 - ETA: 0s - loss: 0.0975 - accuracy: 0.96 - ETA: 0s - loss: 0.0943 - accuracy: 0.96 - ETA: 0s - loss: 0.0925 - accuracy: 0.96 - ETA: 0s - loss: 0.0933 - accuracy: 0.96 - ETA: 0s - loss: 0.0996 - accuracy: 0.96 - ETA: 0s - loss: 0.0988 - accuracy: 0.96 - ETA: 0s - loss: 0.0987 - accuracy: 0.95 - ETA: 0s - loss: 0.0998 - accuracy: 0.95 - ETA: 0s - loss: 0.1026 - accuracy: 0.95 - ETA: 0s - loss: 0.1053 - accuracy: 0.95 - ETA: 0s - loss: 0.1055 - accuracy: 0.95 - ETA: 0s - loss: 0.1059 - accuracy: 0.95 - 1s 4ms/step - loss: 0.1059 - accuracy: 0.9552 - val_loss: 0.9758 - val_accuracy: 0.8172\n",
      "Epoch 41/50\n",
      "235/235 [==============================] - ETA: 0s - loss: 0.0966 - accuracy: 0.96 - ETA: 0s - loss: 0.1053 - accuracy: 0.95 - ETA: 0s - loss: 0.1019 - accuracy: 0.96 - ETA: 0s - loss: 0.1004 - accuracy: 0.95 - ETA: 0s - loss: 0.1008 - accuracy: 0.95 - ETA: 0s - loss: 0.1008 - accuracy: 0.95 - ETA: 0s - loss: 0.1017 - accuracy: 0.95 - ETA: 0s - loss: 0.1013 - accuracy: 0.95 - ETA: 0s - loss: 0.1010 - accuracy: 0.95 - ETA: 0s - loss: 0.1001 - accuracy: 0.95 - ETA: 0s - loss: 0.1017 - accuracy: 0.95 - ETA: 0s - loss: 0.1011 - accuracy: 0.95 - ETA: 0s - loss: 0.1023 - accuracy: 0.95 - 1s 3ms/step - loss: 0.1039 - accuracy: 0.9556 - val_loss: 0.9796 - val_accuracy: 0.8192\n",
      "Epoch 42/50\n",
      "235/235 [==============================] - ETA: 0s - loss: 0.1875 - accuracy: 0.90 - ETA: 0s - loss: 0.1160 - accuracy: 0.95 - ETA: 0s - loss: 0.1019 - accuracy: 0.96 - ETA: 0s - loss: 0.0952 - accuracy: 0.96 - ETA: 0s - loss: 0.0944 - accuracy: 0.96 - ETA: 0s - loss: 0.0912 - accuracy: 0.96 - ETA: 0s - loss: 0.0924 - accuracy: 0.96 - ETA: 0s - loss: 0.0923 - accuracy: 0.96 - ETA: 0s - loss: 0.0964 - accuracy: 0.96 - ETA: 0s - loss: 0.0999 - accuracy: 0.95 - ETA: 0s - loss: 0.1006 - accuracy: 0.95 - ETA: 0s - loss: 0.1004 - accuracy: 0.95 - ETA: 0s - loss: 0.1018 - accuracy: 0.95 - 1s 3ms/step - loss: 0.1015 - accuracy: 0.9589 - val_loss: 0.9546 - val_accuracy: 0.8212\n",
      "Epoch 43/50\n",
      "235/235 [==============================] - ETA: 0s - loss: 0.0280 - accuracy: 1.00 - ETA: 0s - loss: 0.0625 - accuracy: 0.97 - ETA: 0s - loss: 0.0700 - accuracy: 0.97 - ETA: 0s - loss: 0.0668 - accuracy: 0.97 - ETA: 0s - loss: 0.0899 - accuracy: 0.96 - ETA: 0s - loss: 0.1002 - accuracy: 0.96 - ETA: 0s - loss: 0.0990 - accuracy: 0.96 - ETA: 0s - loss: 0.0997 - accuracy: 0.96 - ETA: 0s - loss: 0.0999 - accuracy: 0.96 - ETA: 0s - loss: 0.0987 - accuracy: 0.96 - ETA: 0s - loss: 0.0972 - accuracy: 0.96 - ETA: 0s - loss: 0.0959 - accuracy: 0.96 - ETA: 0s - loss: 0.0942 - accuracy: 0.96 - 1s 3ms/step - loss: 0.0933 - accuracy: 0.9624 - val_loss: 1.2306 - val_accuracy: 0.8212\n",
      "Epoch 44/50\n"
     ]
    },
    {
     "name": "stdout",
     "output_type": "stream",
     "text": [
      "235/235 [==============================] - ETA: 0s - loss: 0.1407 - accuracy: 0.93 - ETA: 0s - loss: 0.0815 - accuracy: 0.96 - ETA: 0s - loss: 0.0715 - accuracy: 0.97 - ETA: 0s - loss: 0.0784 - accuracy: 0.96 - ETA: 0s - loss: 0.0837 - accuracy: 0.96 - ETA: 0s - loss: 0.0867 - accuracy: 0.96 - ETA: 0s - loss: 0.0900 - accuracy: 0.96 - ETA: 0s - loss: 0.0920 - accuracy: 0.96 - ETA: 0s - loss: 0.0952 - accuracy: 0.96 - ETA: 0s - loss: 0.0964 - accuracy: 0.96 - ETA: 0s - loss: 0.0962 - accuracy: 0.96 - ETA: 0s - loss: 0.0965 - accuracy: 0.96 - ETA: 0s - loss: 0.0970 - accuracy: 0.96 - 1s 3ms/step - loss: 0.0973 - accuracy: 0.9632 - val_loss: 0.9648 - val_accuracy: 0.8084\n",
      "Epoch 45/50\n",
      "235/235 [==============================] - ETA: 0s - loss: 0.2434 - accuracy: 0.90 - ETA: 0s - loss: 0.0710 - accuracy: 0.96 - ETA: 0s - loss: 0.0649 - accuracy: 0.97 - ETA: 0s - loss: 0.0659 - accuracy: 0.97 - ETA: 0s - loss: 0.0709 - accuracy: 0.97 - ETA: 0s - loss: 0.0667 - accuracy: 0.97 - ETA: 0s - loss: 0.0728 - accuracy: 0.97 - ETA: 0s - loss: 0.0827 - accuracy: 0.97 - ETA: 0s - loss: 0.0852 - accuracy: 0.96 - ETA: 0s - loss: 0.0890 - accuracy: 0.96 - ETA: 0s - loss: 0.0907 - accuracy: 0.96 - ETA: 0s - loss: 0.0935 - accuracy: 0.96 - ETA: 0s - loss: 0.0935 - accuracy: 0.96 - 1s 3ms/step - loss: 0.0961 - accuracy: 0.9623 - val_loss: 0.9648 - val_accuracy: 0.8276\n",
      "Epoch 46/50\n",
      "235/235 [==============================] - ETA: 0s - loss: 0.1254 - accuracy: 0.96 - ETA: 0s - loss: 0.0909 - accuracy: 0.96 - ETA: 0s - loss: 0.0836 - accuracy: 0.96 - ETA: 0s - loss: 0.0741 - accuracy: 0.97 - ETA: 0s - loss: 0.0764 - accuracy: 0.97 - ETA: 0s - loss: 0.0742 - accuracy: 0.97 - ETA: 0s - loss: 0.0721 - accuracy: 0.97 - ETA: 0s - loss: 0.0735 - accuracy: 0.97 - ETA: 0s - loss: 0.0774 - accuracy: 0.97 - ETA: 0s - loss: 0.0796 - accuracy: 0.96 - ETA: 0s - loss: 0.0805 - accuracy: 0.96 - ETA: 0s - loss: 0.0812 - accuracy: 0.96 - ETA: 0s - loss: 0.0821 - accuracy: 0.96 - 1s 3ms/step - loss: 0.0817 - accuracy: 0.9668 - val_loss: 1.2268 - val_accuracy: 0.8224\n",
      "Epoch 47/50\n",
      "235/235 [==============================] - ETA: 0s - loss: 0.0614 - accuracy: 0.96 - ETA: 0s - loss: 0.0907 - accuracy: 0.97 - ETA: 0s - loss: 0.0778 - accuracy: 0.97 - ETA: 0s - loss: 0.0782 - accuracy: 0.97 - ETA: 0s - loss: 0.0751 - accuracy: 0.97 - ETA: 0s - loss: 0.0740 - accuracy: 0.97 - ETA: 0s - loss: 0.0785 - accuracy: 0.97 - ETA: 0s - loss: 0.0792 - accuracy: 0.97 - ETA: 0s - loss: 0.0797 - accuracy: 0.97 - ETA: 0s - loss: 0.0795 - accuracy: 0.97 - ETA: 0s - loss: 0.0816 - accuracy: 0.96 - ETA: 0s - loss: 0.0840 - accuracy: 0.96 - ETA: 0s - loss: 0.0854 - accuracy: 0.96 - ETA: 0s - loss: 0.0893 - accuracy: 0.96 - 1s 3ms/step - loss: 0.0885 - accuracy: 0.9659 - val_loss: 0.9547 - val_accuracy: 0.8408\n",
      "Epoch 48/50\n",
      "235/235 [==============================] - ETA: 0s - loss: 0.1199 - accuracy: 0.93 - ETA: 0s - loss: 0.0690 - accuracy: 0.96 - ETA: 0s - loss: 0.1046 - accuracy: 0.96 - ETA: 0s - loss: 0.1028 - accuracy: 0.96 - ETA: 0s - loss: 0.0966 - accuracy: 0.96 - ETA: 0s - loss: 0.0927 - accuracy: 0.96 - ETA: 0s - loss: 0.0885 - accuracy: 0.96 - ETA: 0s - loss: 0.0848 - accuracy: 0.96 - ETA: 0s - loss: 0.0847 - accuracy: 0.96 - ETA: 0s - loss: 0.0831 - accuracy: 0.97 - ETA: 0s - loss: 0.0864 - accuracy: 0.96 - ETA: 0s - loss: 0.0846 - accuracy: 0.96 - ETA: 0s - loss: 0.0824 - accuracy: 0.97 - ETA: 0s - loss: 0.0819 - accuracy: 0.97 - 1s 3ms/step - loss: 0.0819 - accuracy: 0.9705 - val_loss: 1.2454 - val_accuracy: 0.8116\n",
      "Epoch 49/50\n",
      "235/235 [==============================] - ETA: 0s - loss: 0.0388 - accuracy: 1.00 - ETA: 0s - loss: 0.0935 - accuracy: 0.96 - ETA: 0s - loss: 0.0754 - accuracy: 0.96 - ETA: 0s - loss: 0.0692 - accuracy: 0.97 - ETA: 0s - loss: 0.0707 - accuracy: 0.97 - ETA: 0s - loss: 0.0709 - accuracy: 0.97 - ETA: 0s - loss: 0.0701 - accuracy: 0.97 - ETA: 0s - loss: 0.0742 - accuracy: 0.97 - ETA: 0s - loss: 0.0755 - accuracy: 0.97 - ETA: 0s - loss: 0.0746 - accuracy: 0.97 - ETA: 0s - loss: 0.0809 - accuracy: 0.97 - ETA: 0s - loss: 0.0804 - accuracy: 0.97 - 1s 3ms/step - loss: 0.0792 - accuracy: 0.9707 - val_loss: 1.0440 - val_accuracy: 0.8260\n",
      "Epoch 50/50\n",
      "235/235 [==============================] - ETA: 0s - loss: 0.0701 - accuracy: 0.96 - ETA: 0s - loss: 0.0485 - accuracy: 0.98 - ETA: 0s - loss: 0.0504 - accuracy: 0.98 - ETA: 0s - loss: 0.0605 - accuracy: 0.97 - ETA: 0s - loss: 0.0626 - accuracy: 0.97 - ETA: 0s - loss: 0.0651 - accuracy: 0.97 - ETA: 0s - loss: 0.0669 - accuracy: 0.97 - ETA: 0s - loss: 0.0727 - accuracy: 0.97 - ETA: 0s - loss: 0.0723 - accuracy: 0.97 - ETA: 0s - loss: 0.0743 - accuracy: 0.97 - ETA: 0s - loss: 0.0754 - accuracy: 0.97 - ETA: 0s - loss: 0.0781 - accuracy: 0.97 - ETA: 0s - loss: 0.0783 - accuracy: 0.96 - ETA: 0s - loss: 0.0780 - accuracy: 0.96 - ETA: 0s - loss: 0.0764 - accuracy: 0.97 - 1s 4ms/step - loss: 0.0767 - accuracy: 0.9700 - val_loss: 1.1291 - val_accuracy: 0.8196\n",
      "Epoch 1/50\n",
      "235/235 [==============================] - ETA: 0s - loss: 0.6888 - accuracy: 0.68 - ETA: 0s - loss: 0.5371 - accuracy: 0.77 - ETA: 0s - loss: 0.4854 - accuracy: 0.78 - ETA: 0s - loss: 0.4771 - accuracy: 0.78 - ETA: 0s - loss: 0.4566 - accuracy: 0.79 - ETA: 0s - loss: 0.4390 - accuracy: 0.80 - ETA: 0s - loss: 0.4327 - accuracy: 0.81 - ETA: 0s - loss: 0.4260 - accuracy: 0.82 - ETA: 0s - loss: 0.4220 - accuracy: 0.82 - ETA: 0s - loss: 0.4194 - accuracy: 0.82 - ETA: 0s - loss: 0.4167 - accuracy: 0.82 - ETA: 0s - loss: 0.4131 - accuracy: 0.82 - ETA: 0s - loss: 0.4112 - accuracy: 0.82 - ETA: 0s - loss: 0.4087 - accuracy: 0.83 - 1s 4ms/step - loss: 0.4088 - accuracy: 0.8308 - val_loss: 0.3898 - val_accuracy: 0.8516\n",
      "Epoch 2/50\n",
      "235/235 [==============================] - ETA: 0s - loss: 0.4384 - accuracy: 0.78 - ETA: 0s - loss: 0.3518 - accuracy: 0.86 - ETA: 0s - loss: 0.3413 - accuracy: 0.86 - ETA: 0s - loss: 0.3359 - accuracy: 0.86 - ETA: 0s - loss: 0.3528 - accuracy: 0.86 - ETA: 0s - loss: 0.3586 - accuracy: 0.85 - ETA: 0s - loss: 0.3520 - accuracy: 0.86 - ETA: 0s - loss: 0.3520 - accuracy: 0.86 - ETA: 0s - loss: 0.3557 - accuracy: 0.85 - ETA: 0s - loss: 0.3550 - accuracy: 0.85 - ETA: 0s - loss: 0.3548 - accuracy: 0.85 - ETA: 0s - loss: 0.3549 - accuracy: 0.85 - ETA: 0s - loss: 0.3538 - accuracy: 0.85 - 1s 3ms/step - loss: 0.3540 - accuracy: 0.8569 - val_loss: 0.3572 - val_accuracy: 0.8624\n",
      "Epoch 3/50\n",
      "235/235 [==============================] - ETA: 0s - loss: 0.3603 - accuracy: 0.81 - ETA: 0s - loss: 0.3302 - accuracy: 0.87 - ETA: 0s - loss: 0.3400 - accuracy: 0.86 - ETA: 0s - loss: 0.3342 - accuracy: 0.86 - ETA: 0s - loss: 0.3425 - accuracy: 0.85 - ETA: 0s - loss: 0.3369 - accuracy: 0.86 - ETA: 0s - loss: 0.3468 - accuracy: 0.85 - ETA: 0s - loss: 0.3398 - accuracy: 0.86 - ETA: 0s - loss: 0.3414 - accuracy: 0.86 - ETA: 0s - loss: 0.3442 - accuracy: 0.86 - ETA: 0s - loss: 0.3411 - accuracy: 0.86 - ETA: 0s - loss: 0.3415 - accuracy: 0.86 - 1s 3ms/step - loss: 0.3435 - accuracy: 0.8593 - val_loss: 0.3433 - val_accuracy: 0.8564\n",
      "Epoch 4/50\n",
      "235/235 [==============================] - ETA: 0s - loss: 0.3037 - accuracy: 0.90 - ETA: 0s - loss: 0.3340 - accuracy: 0.85 - ETA: 0s - loss: 0.3444 - accuracy: 0.85 - ETA: 0s - loss: 0.3370 - accuracy: 0.86 - ETA: 0s - loss: 0.3446 - accuracy: 0.86 - ETA: 0s - loss: 0.3479 - accuracy: 0.86 - ETA: 0s - loss: 0.3378 - accuracy: 0.86 - ETA: 0s - loss: 0.3414 - accuracy: 0.86 - ETA: 0s - loss: 0.3430 - accuracy: 0.86 - ETA: 0s - loss: 0.3388 - accuracy: 0.86 - ETA: 0s - loss: 0.3420 - accuracy: 0.86 - ETA: 0s - loss: 0.3394 - accuracy: 0.86 - ETA: 0s - loss: 0.3393 - accuracy: 0.86 - 1s 3ms/step - loss: 0.3380 - accuracy: 0.8627 - val_loss: 0.3509 - val_accuracy: 0.8608\n",
      "Epoch 5/50\n"
     ]
    },
    {
     "name": "stdout",
     "output_type": "stream",
     "text": [
      "235/235 [==============================] - ETA: 0s - loss: 0.3073 - accuracy: 0.87 - ETA: 0s - loss: 0.3496 - accuracy: 0.86 - ETA: 0s - loss: 0.3200 - accuracy: 0.87 - ETA: 0s - loss: 0.3308 - accuracy: 0.86 - ETA: 0s - loss: 0.3365 - accuracy: 0.86 - ETA: 0s - loss: 0.3427 - accuracy: 0.86 - ETA: 0s - loss: 0.3388 - accuracy: 0.86 - ETA: 0s - loss: 0.3401 - accuracy: 0.86 - ETA: 0s - loss: 0.3414 - accuracy: 0.86 - ETA: 0s - loss: 0.3403 - accuracy: 0.86 - ETA: 0s - loss: 0.3369 - accuracy: 0.86 - ETA: 0s - loss: 0.3358 - accuracy: 0.86 - ETA: 0s - loss: 0.3346 - accuracy: 0.86 - 1s 3ms/step - loss: 0.3338 - accuracy: 0.8637 - val_loss: 0.3553 - val_accuracy: 0.8524\n",
      "Epoch 6/50\n",
      "235/235 [==============================] - ETA: 0s - loss: 0.2677 - accuracy: 0.90 - ETA: 0s - loss: 0.3054 - accuracy: 0.89 - ETA: 0s - loss: 0.3058 - accuracy: 0.87 - ETA: 0s - loss: 0.3110 - accuracy: 0.87 - ETA: 0s - loss: 0.3185 - accuracy: 0.86 - ETA: 0s - loss: 0.3177 - accuracy: 0.86 - ETA: 0s - loss: 0.3202 - accuracy: 0.86 - ETA: 0s - loss: 0.3223 - accuracy: 0.86 - ETA: 0s - loss: 0.3217 - accuracy: 0.86 - ETA: 0s - loss: 0.3199 - accuracy: 0.86 - ETA: 0s - loss: 0.3219 - accuracy: 0.86 - ETA: 0s - loss: 0.3231 - accuracy: 0.86 - 1s 3ms/step - loss: 0.3249 - accuracy: 0.8648 - val_loss: 0.3503 - val_accuracy: 0.8636\n",
      "Epoch 7/50\n",
      "235/235 [==============================] - ETA: 0s - loss: 0.2783 - accuracy: 0.90 - ETA: 0s - loss: 0.2967 - accuracy: 0.88 - ETA: 0s - loss: 0.3156 - accuracy: 0.86 - ETA: 0s - loss: 0.3238 - accuracy: 0.86 - ETA: 0s - loss: 0.3234 - accuracy: 0.86 - ETA: 0s - loss: 0.3334 - accuracy: 0.86 - ETA: 0s - loss: 0.3260 - accuracy: 0.86 - ETA: 0s - loss: 0.3241 - accuracy: 0.86 - ETA: 0s - loss: 0.3233 - accuracy: 0.86 - ETA: 0s - loss: 0.3218 - accuracy: 0.86 - ETA: 0s - loss: 0.3185 - accuracy: 0.86 - ETA: 0s - loss: 0.3220 - accuracy: 0.86 - ETA: 0s - loss: 0.3221 - accuracy: 0.86 - 1s 3ms/step - loss: 0.3233 - accuracy: 0.8677 - val_loss: 0.3560 - val_accuracy: 0.8412\n",
      "Epoch 8/50\n",
      "235/235 [==============================] - ETA: 0s - loss: 0.2561 - accuracy: 0.87 - ETA: 0s - loss: 0.2988 - accuracy: 0.88 - ETA: 0s - loss: 0.2839 - accuracy: 0.88 - ETA: 0s - loss: 0.2902 - accuracy: 0.88 - ETA: 0s - loss: 0.2983 - accuracy: 0.87 - ETA: 0s - loss: 0.3087 - accuracy: 0.87 - ETA: 0s - loss: 0.3076 - accuracy: 0.87 - ETA: 0s - loss: 0.3081 - accuracy: 0.87 - ETA: 0s - loss: 0.3157 - accuracy: 0.86 - ETA: 0s - loss: 0.3180 - accuracy: 0.86 - ETA: 0s - loss: 0.3180 - accuracy: 0.86 - ETA: 0s - loss: 0.3200 - accuracy: 0.86 - ETA: 0s - loss: 0.3186 - accuracy: 0.86 - ETA: 0s - loss: 0.3174 - accuracy: 0.86 - 1s 3ms/step - loss: 0.3181 - accuracy: 0.8671 - val_loss: 0.3607 - val_accuracy: 0.8556\n",
      "Epoch 9/50\n",
      "235/235 [==============================] - ETA: 0s - loss: 0.2815 - accuracy: 0.87 - ETA: 0s - loss: 0.2926 - accuracy: 0.88 - ETA: 0s - loss: 0.3101 - accuracy: 0.87 - ETA: 0s - loss: 0.3144 - accuracy: 0.86 - ETA: 0s - loss: 0.3067 - accuracy: 0.87 - ETA: 0s - loss: 0.3069 - accuracy: 0.87 - ETA: 0s - loss: 0.3031 - accuracy: 0.87 - ETA: 0s - loss: 0.3049 - accuracy: 0.87 - ETA: 0s - loss: 0.3075 - accuracy: 0.87 - ETA: 0s - loss: 0.3090 - accuracy: 0.87 - ETA: 0s - loss: 0.3088 - accuracy: 0.87 - ETA: 0s - loss: 0.3078 - accuracy: 0.87 - ETA: 0s - loss: 0.3090 - accuracy: 0.87 - 1s 3ms/step - loss: 0.3098 - accuracy: 0.8723 - val_loss: 0.3498 - val_accuracy: 0.8532\n",
      "Epoch 10/50\n",
      "235/235 [==============================] - ETA: 0s - loss: 0.4582 - accuracy: 0.81 - ETA: 0s - loss: 0.3026 - accuracy: 0.86 - ETA: 0s - loss: 0.2693 - accuracy: 0.88 - ETA: 0s - loss: 0.2735 - accuracy: 0.89 - ETA: 0s - loss: 0.2735 - accuracy: 0.89 - ETA: 0s - loss: 0.2857 - accuracy: 0.88 - ETA: 0s - loss: 0.2916 - accuracy: 0.88 - ETA: 0s - loss: 0.2995 - accuracy: 0.87 - ETA: 0s - loss: 0.2979 - accuracy: 0.87 - ETA: 0s - loss: 0.3018 - accuracy: 0.87 - ETA: 0s - loss: 0.3037 - accuracy: 0.87 - ETA: 0s - loss: 0.3046 - accuracy: 0.87 - 1s 3ms/step - loss: 0.3048 - accuracy: 0.8727 - val_loss: 0.3496 - val_accuracy: 0.8592\n",
      "Epoch 11/50\n",
      "235/235 [==============================] - ETA: 0s - loss: 0.4322 - accuracy: 0.78 - ETA: 0s - loss: 0.3141 - accuracy: 0.86 - ETA: 0s - loss: 0.3000 - accuracy: 0.87 - ETA: 0s - loss: 0.3048 - accuracy: 0.87 - ETA: 0s - loss: 0.2971 - accuracy: 0.87 - ETA: 0s - loss: 0.2968 - accuracy: 0.87 - ETA: 0s - loss: 0.2955 - accuracy: 0.87 - ETA: 0s - loss: 0.2982 - accuracy: 0.87 - ETA: 0s - loss: 0.2965 - accuracy: 0.87 - ETA: 0s - loss: 0.2972 - accuracy: 0.87 - ETA: 0s - loss: 0.2927 - accuracy: 0.87 - ETA: 0s - loss: 0.2969 - accuracy: 0.87 - ETA: 0s - loss: 0.2958 - accuracy: 0.87 - ETA: 0s - loss: 0.2981 - accuracy: 0.87 - 1s 3ms/step - loss: 0.2991 - accuracy: 0.8747 - val_loss: 0.3507 - val_accuracy: 0.8544\n",
      "Epoch 12/50\n",
      "235/235 [==============================] - ETA: 0s - loss: 0.4376 - accuracy: 0.75 - ETA: 0s - loss: 0.3114 - accuracy: 0.85 - ETA: 0s - loss: 0.2942 - accuracy: 0.87 - ETA: 0s - loss: 0.2799 - accuracy: 0.88 - ETA: 0s - loss: 0.2801 - accuracy: 0.88 - ETA: 0s - loss: 0.2782 - accuracy: 0.88 - ETA: 0s - loss: 0.2807 - accuracy: 0.87 - ETA: 0s - loss: 0.2749 - accuracy: 0.88 - ETA: 0s - loss: 0.2813 - accuracy: 0.88 - ETA: 0s - loss: 0.2862 - accuracy: 0.87 - ETA: 0s - loss: 0.2861 - accuracy: 0.87 - ETA: 0s - loss: 0.2893 - accuracy: 0.87 - ETA: 0s - loss: 0.2895 - accuracy: 0.87 - 1s 3ms/step - loss: 0.2892 - accuracy: 0.8767 - val_loss: 0.3567 - val_accuracy: 0.8628\n",
      "Epoch 13/50\n",
      "235/235 [==============================] - ETA: 0s - loss: 0.2184 - accuracy: 0.87 - ETA: 0s - loss: 0.2644 - accuracy: 0.89 - ETA: 0s - loss: 0.2712 - accuracy: 0.89 - ETA: 0s - loss: 0.2735 - accuracy: 0.88 - ETA: 0s - loss: 0.2851 - accuracy: 0.87 - ETA: 0s - loss: 0.2879 - accuracy: 0.87 - ETA: 0s - loss: 0.2869 - accuracy: 0.87 - ETA: 0s - loss: 0.2886 - accuracy: 0.87 - ETA: 0s - loss: 0.2885 - accuracy: 0.87 - ETA: 0s - loss: 0.2881 - accuracy: 0.87 - ETA: 0s - loss: 0.2886 - accuracy: 0.87 - ETA: 0s - loss: 0.2859 - accuracy: 0.87 - ETA: 0s - loss: 0.2876 - accuracy: 0.87 - ETA: 0s - loss: 0.2887 - accuracy: 0.87 - 1s 4ms/step - loss: 0.2882 - accuracy: 0.8792 - val_loss: 0.3714 - val_accuracy: 0.8520\n",
      "Epoch 14/50\n",
      "235/235 [==============================] - ETA: 0s - loss: 0.2915 - accuracy: 0.81 - ETA: 0s - loss: 0.2976 - accuracy: 0.87 - ETA: 0s - loss: 0.3019 - accuracy: 0.87 - ETA: 0s - loss: 0.2806 - accuracy: 0.87 - ETA: 0s - loss: 0.2852 - accuracy: 0.87 - ETA: 0s - loss: 0.2826 - accuracy: 0.88 - ETA: 0s - loss: 0.2812 - accuracy: 0.87 - ETA: 0s - loss: 0.2795 - accuracy: 0.87 - ETA: 0s - loss: 0.2824 - accuracy: 0.87 - ETA: 0s - loss: 0.2824 - accuracy: 0.87 - ETA: 0s - loss: 0.2801 - accuracy: 0.87 - ETA: 0s - loss: 0.2775 - accuracy: 0.88 - ETA: 0s - loss: 0.2801 - accuracy: 0.87 - 1s 3ms/step - loss: 0.2793 - accuracy: 0.8789 - val_loss: 0.3760 - val_accuracy: 0.8588\n",
      "Epoch 15/50\n",
      "235/235 [==============================] - ETA: 0s - loss: 0.2738 - accuracy: 0.84 - ETA: 0s - loss: 0.2763 - accuracy: 0.88 - ETA: 0s - loss: 0.2696 - accuracy: 0.88 - ETA: 0s - loss: 0.2701 - accuracy: 0.88 - ETA: 0s - loss: 0.2650 - accuracy: 0.88 - ETA: 0s - loss: 0.2641 - accuracy: 0.88 - ETA: 0s - loss: 0.2768 - accuracy: 0.88 - ETA: 0s - loss: 0.2763 - accuracy: 0.88 - ETA: 0s - loss: 0.2696 - accuracy: 0.88 - ETA: 0s - loss: 0.2675 - accuracy: 0.88 - ETA: 0s - loss: 0.2703 - accuracy: 0.88 - ETA: 0s - loss: 0.2715 - accuracy: 0.88 - 1s 3ms/step - loss: 0.2716 - accuracy: 0.8849 - val_loss: 0.3795 - val_accuracy: 0.8512\n",
      "Epoch 16/50\n",
      "235/235 [==============================] - ETA: 0s - loss: 0.2842 - accuracy: 0.84 - ETA: 0s - loss: 0.2677 - accuracy: 0.88 - ETA: 0s - loss: 0.2511 - accuracy: 0.89 - ETA: 0s - loss: 0.2538 - accuracy: 0.88 - ETA: 0s - loss: 0.2697 - accuracy: 0.87 - ETA: 0s - loss: 0.2694 - accuracy: 0.88 - ETA: 0s - loss: 0.2747 - accuracy: 0.87 - ETA: 0s - loss: 0.2753 - accuracy: 0.87 - ETA: 0s - loss: 0.2723 - accuracy: 0.87 - ETA: 0s - loss: 0.2707 - accuracy: 0.88 - ETA: 0s - loss: 0.2715 - accuracy: 0.88 - ETA: 0s - loss: 0.2698 - accuracy: 0.88 - 1s 3ms/step - loss: 0.2680 - accuracy: 0.8832 - val_loss: 0.3888 - val_accuracy: 0.8556\n"
     ]
    },
    {
     "name": "stdout",
     "output_type": "stream",
     "text": [
      "Epoch 17/50\n",
      "235/235 [==============================] - ETA: 0s - loss: 0.2173 - accuracy: 0.87 - ETA: 0s - loss: 0.2030 - accuracy: 0.92 - ETA: 0s - loss: 0.2040 - accuracy: 0.91 - ETA: 0s - loss: 0.2299 - accuracy: 0.90 - ETA: 0s - loss: 0.2372 - accuracy: 0.89 - ETA: 0s - loss: 0.2367 - accuracy: 0.89 - ETA: 0s - loss: 0.2410 - accuracy: 0.89 - ETA: 0s - loss: 0.2447 - accuracy: 0.89 - ETA: 0s - loss: 0.2487 - accuracy: 0.89 - ETA: 0s - loss: 0.2494 - accuracy: 0.89 - ETA: 0s - loss: 0.2543 - accuracy: 0.89 - ETA: 0s - loss: 0.2554 - accuracy: 0.88 - 1s 3ms/step - loss: 0.2585 - accuracy: 0.8887 - val_loss: 0.4100 - val_accuracy: 0.8484\n",
      "Epoch 18/50\n",
      "235/235 [==============================] - ETA: 0s - loss: 0.2799 - accuracy: 0.90 - ETA: 0s - loss: 0.2777 - accuracy: 0.87 - ETA: 0s - loss: 0.2570 - accuracy: 0.88 - ETA: 0s - loss: 0.2457 - accuracy: 0.89 - ETA: 0s - loss: 0.2428 - accuracy: 0.89 - ETA: 0s - loss: 0.2399 - accuracy: 0.89 - ETA: 0s - loss: 0.2363 - accuracy: 0.89 - ETA: 0s - loss: 0.2400 - accuracy: 0.89 - ETA: 0s - loss: 0.2430 - accuracy: 0.89 - ETA: 0s - loss: 0.2448 - accuracy: 0.89 - ETA: 0s - loss: 0.2506 - accuracy: 0.89 - ETA: 0s - loss: 0.2449 - accuracy: 0.89 - 1s 3ms/step - loss: 0.2477 - accuracy: 0.8923 - val_loss: 0.3934 - val_accuracy: 0.8544\n",
      "Epoch 19/50\n",
      "235/235 [==============================] - ETA: 0s - loss: 0.2115 - accuracy: 0.90 - ETA: 0s - loss: 0.2007 - accuracy: 0.90 - ETA: 0s - loss: 0.2095 - accuracy: 0.90 - ETA: 0s - loss: 0.2025 - accuracy: 0.90 - ETA: 0s - loss: 0.2080 - accuracy: 0.90 - ETA: 0s - loss: 0.2147 - accuracy: 0.90 - ETA: 0s - loss: 0.2187 - accuracy: 0.90 - ETA: 0s - loss: 0.2292 - accuracy: 0.89 - ETA: 0s - loss: 0.2307 - accuracy: 0.89 - ETA: 0s - loss: 0.2306 - accuracy: 0.89 - ETA: 0s - loss: 0.2374 - accuracy: 0.89 - ETA: 0s - loss: 0.2404 - accuracy: 0.89 - ETA: 0s - loss: 0.2406 - accuracy: 0.89 - 1s 3ms/step - loss: 0.2409 - accuracy: 0.8908 - val_loss: 0.4359 - val_accuracy: 0.8440\n",
      "Epoch 20/50\n",
      "235/235 [==============================] - ETA: 0s - loss: 0.3086 - accuracy: 0.90 - ETA: 0s - loss: 0.2333 - accuracy: 0.88 - ETA: 0s - loss: 0.2251 - accuracy: 0.89 - ETA: 0s - loss: 0.2197 - accuracy: 0.89 - ETA: 0s - loss: 0.2274 - accuracy: 0.89 - ETA: 0s - loss: 0.2320 - accuracy: 0.89 - ETA: 0s - loss: 0.2314 - accuracy: 0.89 - ETA: 0s - loss: 0.2395 - accuracy: 0.89 - ETA: 0s - loss: 0.2364 - accuracy: 0.89 - ETA: 0s - loss: 0.2365 - accuracy: 0.89 - ETA: 0s - loss: 0.2365 - accuracy: 0.89 - ETA: 0s - loss: 0.2379 - accuracy: 0.89 - 1s 3ms/step - loss: 0.2409 - accuracy: 0.8939 - val_loss: 0.4276 - val_accuracy: 0.8508\n",
      "Epoch 21/50\n",
      "235/235 [==============================] - ETA: 0s - loss: 0.1696 - accuracy: 0.96 - ETA: 0s - loss: 0.2148 - accuracy: 0.90 - ETA: 0s - loss: 0.2048 - accuracy: 0.90 - ETA: 0s - loss: 0.2074 - accuracy: 0.90 - ETA: 0s - loss: 0.2074 - accuracy: 0.90 - ETA: 0s - loss: 0.2161 - accuracy: 0.89 - ETA: 0s - loss: 0.2127 - accuracy: 0.90 - ETA: 0s - loss: 0.2140 - accuracy: 0.90 - ETA: 0s - loss: 0.2213 - accuracy: 0.89 - ETA: 0s - loss: 0.2194 - accuracy: 0.89 - ETA: 0s - loss: 0.2203 - accuracy: 0.89 - ETA: 0s - loss: 0.2210 - accuracy: 0.89 - ETA: 0s - loss: 0.2226 - accuracy: 0.89 - 1s 3ms/step - loss: 0.2237 - accuracy: 0.8992 - val_loss: 0.4591 - val_accuracy: 0.8360\n",
      "Epoch 22/50\n",
      "235/235 [==============================] - ETA: 0s - loss: 0.2299 - accuracy: 0.90 - ETA: 0s - loss: 0.2031 - accuracy: 0.90 - ETA: 0s - loss: 0.2141 - accuracy: 0.89 - ETA: 0s - loss: 0.2163 - accuracy: 0.89 - ETA: 0s - loss: 0.2160 - accuracy: 0.89 - ETA: 0s - loss: 0.2172 - accuracy: 0.89 - ETA: 0s - loss: 0.2187 - accuracy: 0.89 - ETA: 0s - loss: 0.2200 - accuracy: 0.89 - ETA: 0s - loss: 0.2170 - accuracy: 0.90 - ETA: 0s - loss: 0.2159 - accuracy: 0.89 - ETA: 0s - loss: 0.2187 - accuracy: 0.89 - ETA: 0s - loss: 0.2188 - accuracy: 0.90 - 1s 3ms/step - loss: 0.2179 - accuracy: 0.9011 - val_loss: 0.5386 - val_accuracy: 0.8528\n",
      "Epoch 23/50\n",
      "235/235 [==============================] - ETA: 0s - loss: 0.1555 - accuracy: 0.93 - ETA: 0s - loss: 0.2061 - accuracy: 0.91 - ETA: 0s - loss: 0.1854 - accuracy: 0.91 - ETA: 0s - loss: 0.1823 - accuracy: 0.91 - ETA: 0s - loss: 0.1856 - accuracy: 0.91 - ETA: 0s - loss: 0.1910 - accuracy: 0.91 - ETA: 0s - loss: 0.2004 - accuracy: 0.90 - ETA: 0s - loss: 0.2004 - accuracy: 0.90 - ETA: 0s - loss: 0.2043 - accuracy: 0.90 - ETA: 0s - loss: 0.2040 - accuracy: 0.90 - ETA: 0s - loss: 0.2059 - accuracy: 0.90 - ETA: 0s - loss: 0.2079 - accuracy: 0.90 - ETA: 0s - loss: 0.2100 - accuracy: 0.90 - 1s 3ms/step - loss: 0.2116 - accuracy: 0.9009 - val_loss: 0.4848 - val_accuracy: 0.8380\n",
      "Epoch 24/50\n",
      "235/235 [==============================] - ETA: 0s - loss: 0.2280 - accuracy: 0.93 - ETA: 0s - loss: 0.2035 - accuracy: 0.91 - ETA: 0s - loss: 0.2176 - accuracy: 0.90 - ETA: 0s - loss: 0.2006 - accuracy: 0.90 - ETA: 0s - loss: 0.2034 - accuracy: 0.91 - ETA: 0s - loss: 0.2041 - accuracy: 0.91 - ETA: 0s - loss: 0.2051 - accuracy: 0.90 - ETA: 0s - loss: 0.2025 - accuracy: 0.90 - ETA: 0s - loss: 0.2019 - accuracy: 0.90 - ETA: 0s - loss: 0.2050 - accuracy: 0.90 - ETA: 0s - loss: 0.2086 - accuracy: 0.90 - ETA: 0s - loss: 0.2076 - accuracy: 0.90 - ETA: 0s - loss: 0.2097 - accuracy: 0.90 - 1s 3ms/step - loss: 0.2094 - accuracy: 0.9055 - val_loss: 0.5797 - val_accuracy: 0.8312\n",
      "Epoch 25/50\n",
      "235/235 [==============================] - ETA: 0s - loss: 0.1851 - accuracy: 0.93 - ETA: 0s - loss: 0.2043 - accuracy: 0.90 - ETA: 0s - loss: 0.1945 - accuracy: 0.91 - ETA: 0s - loss: 0.1860 - accuracy: 0.91 - ETA: 0s - loss: 0.1866 - accuracy: 0.91 - ETA: 0s - loss: 0.1829 - accuracy: 0.91 - ETA: 0s - loss: 0.1801 - accuracy: 0.91 - ETA: 0s - loss: 0.1827 - accuracy: 0.91 - ETA: 0s - loss: 0.1827 - accuracy: 0.91 - ETA: 0s - loss: 0.1844 - accuracy: 0.91 - ETA: 0s - loss: 0.1835 - accuracy: 0.91 - ETA: 0s - loss: 0.1880 - accuracy: 0.91 - ETA: 0s - loss: 0.1889 - accuracy: 0.91 - 1s 3ms/step - loss: 0.1895 - accuracy: 0.9172 - val_loss: 0.5879 - val_accuracy: 0.8292\n",
      "Epoch 26/50\n",
      "235/235 [==============================] - ETA: 0s - loss: 0.2532 - accuracy: 0.84 - ETA: 0s - loss: 0.1928 - accuracy: 0.91 - ETA: 0s - loss: 0.1761 - accuracy: 0.92 - ETA: 0s - loss: 0.1682 - accuracy: 0.92 - ETA: 0s - loss: 0.1740 - accuracy: 0.92 - ETA: 0s - loss: 0.1853 - accuracy: 0.92 - ETA: 0s - loss: 0.1884 - accuracy: 0.91 - ETA: 0s - loss: 0.1900 - accuracy: 0.91 - ETA: 0s - loss: 0.1904 - accuracy: 0.91 - ETA: 0s - loss: 0.1911 - accuracy: 0.91 - ETA: 0s - loss: 0.1919 - accuracy: 0.91 - ETA: 0s - loss: 0.1940 - accuracy: 0.91 - ETA: 0s - loss: 0.1945 - accuracy: 0.91 - 1s 3ms/step - loss: 0.1944 - accuracy: 0.9131 - val_loss: 0.5526 - val_accuracy: 0.8420\n",
      "Epoch 27/50\n",
      "235/235 [==============================] - ETA: 0s - loss: 0.2095 - accuracy: 0.90 - ETA: 0s - loss: 0.1458 - accuracy: 0.94 - ETA: 0s - loss: 0.1671 - accuracy: 0.93 - ETA: 0s - loss: 0.1680 - accuracy: 0.93 - ETA: 0s - loss: 0.1607 - accuracy: 0.94 - ETA: 0s - loss: 0.1655 - accuracy: 0.93 - ETA: 0s - loss: 0.1660 - accuracy: 0.93 - ETA: 0s - loss: 0.1685 - accuracy: 0.93 - ETA: 0s - loss: 0.1700 - accuracy: 0.93 - ETA: 0s - loss: 0.1717 - accuracy: 0.92 - ETA: 0s - loss: 0.1700 - accuracy: 0.92 - ETA: 0s - loss: 0.1726 - accuracy: 0.92 - ETA: 0s - loss: 0.1738 - accuracy: 0.92 - ETA: 0s - loss: 0.1750 - accuracy: 0.92 - ETA: 0s - loss: 0.1743 - accuracy: 0.92 - 1s 4ms/step - loss: 0.1732 - accuracy: 0.9249 - val_loss: 0.6818 - val_accuracy: 0.8228\n",
      "Epoch 28/50\n",
      "235/235 [==============================] - ETA: 0s - loss: 0.0994 - accuracy: 0.93 - ETA: 0s - loss: 0.1171 - accuracy: 0.95 - ETA: 0s - loss: 0.1133 - accuracy: 0.95 - ETA: 0s - loss: 0.1260 - accuracy: 0.94 - ETA: 0s - loss: 0.1429 - accuracy: 0.93 - ETA: 0s - loss: 0.1621 - accuracy: 0.92 - ETA: 0s - loss: 0.1710 - accuracy: 0.92 - ETA: 0s - loss: 0.1705 - accuracy: 0.92 - ETA: 0s - loss: 0.1680 - accuracy: 0.92 - ETA: 0s - loss: 0.1706 - accuracy: 0.92 - ETA: 0s - loss: 0.1713 - accuracy: 0.92 - ETA: 0s - loss: 0.1744 - accuracy: 0.92 - ETA: 0s - loss: 0.1734 - accuracy: 0.92 - ETA: 0s - loss: 0.1736 - accuracy: 0.92 - 1s 3ms/step - loss: 0.1728 - accuracy: 0.9212 - val_loss: 0.6622 - val_accuracy: 0.8404\n"
     ]
    },
    {
     "name": "stdout",
     "output_type": "stream",
     "text": [
      "Epoch 29/50\n",
      "235/235 [==============================] - ETA: 0s - loss: 0.1960 - accuracy: 0.87 - ETA: 0s - loss: 0.1434 - accuracy: 0.92 - ETA: 0s - loss: 0.1243 - accuracy: 0.94 - ETA: 0s - loss: 0.1394 - accuracy: 0.93 - ETA: 0s - loss: 0.1587 - accuracy: 0.92 - ETA: 0s - loss: 0.1596 - accuracy: 0.92 - ETA: 0s - loss: 0.1647 - accuracy: 0.92 - ETA: 0s - loss: 0.1662 - accuracy: 0.92 - ETA: 0s - loss: 0.1662 - accuracy: 0.92 - ETA: 0s - loss: 0.1653 - accuracy: 0.92 - ETA: 0s - loss: 0.1681 - accuracy: 0.92 - ETA: 0s - loss: 0.1680 - accuracy: 0.92 - ETA: 0s - loss: 0.1684 - accuracy: 0.92 - 1s 3ms/step - loss: 0.1684 - accuracy: 0.9244 - val_loss: 0.8052 - val_accuracy: 0.8264\n",
      "Epoch 30/50\n",
      "235/235 [==============================] - ETA: 0s - loss: 0.1454 - accuracy: 0.93 - ETA: 0s - loss: 0.1096 - accuracy: 0.96 - ETA: 0s - loss: 0.1182 - accuracy: 0.95 - ETA: 0s - loss: 0.1231 - accuracy: 0.95 - ETA: 0s - loss: 0.1266 - accuracy: 0.94 - ETA: 0s - loss: 0.1354 - accuracy: 0.94 - ETA: 0s - loss: 0.1477 - accuracy: 0.93 - ETA: 0s - loss: 0.1526 - accuracy: 0.93 - ETA: 0s - loss: 0.1558 - accuracy: 0.93 - ETA: 0s - loss: 0.1548 - accuracy: 0.93 - ETA: 0s - loss: 0.1575 - accuracy: 0.93 - ETA: 0s - loss: 0.1564 - accuracy: 0.93 - ETA: 0s - loss: 0.1607 - accuracy: 0.92 - 1s 3ms/step - loss: 0.1606 - accuracy: 0.9297 - val_loss: 0.6054 - val_accuracy: 0.8164\n",
      "Epoch 31/50\n",
      "235/235 [==============================] - ETA: 0s - loss: 0.1842 - accuracy: 0.93 - ETA: 0s - loss: 0.1274 - accuracy: 0.94 - ETA: 0s - loss: 0.1300 - accuracy: 0.94 - ETA: 0s - loss: 0.1282 - accuracy: 0.94 - ETA: 0s - loss: 0.1368 - accuracy: 0.94 - ETA: 0s - loss: 0.1377 - accuracy: 0.94 - ETA: 0s - loss: 0.1401 - accuracy: 0.93 - ETA: 0s - loss: 0.1454 - accuracy: 0.93 - ETA: 0s - loss: 0.1442 - accuracy: 0.93 - ETA: 0s - loss: 0.1445 - accuracy: 0.93 - ETA: 0s - loss: 0.1449 - accuracy: 0.93 - ETA: 0s - loss: 0.1452 - accuracy: 0.93 - ETA: 0s - loss: 0.1461 - accuracy: 0.93 - 1s 3ms/step - loss: 0.1459 - accuracy: 0.9363 - val_loss: 0.8061 - val_accuracy: 0.8156\n",
      "Epoch 32/50\n",
      "235/235 [==============================] - ETA: 0s - loss: 0.0781 - accuracy: 0.96 - ETA: 0s - loss: 0.1619 - accuracy: 0.94 - ETA: 0s - loss: 0.1520 - accuracy: 0.94 - ETA: 0s - loss: 0.1467 - accuracy: 0.94 - ETA: 0s - loss: 0.1475 - accuracy: 0.94 - ETA: 0s - loss: 0.1436 - accuracy: 0.94 - ETA: 0s - loss: 0.1449 - accuracy: 0.94 - ETA: 0s - loss: 0.1479 - accuracy: 0.94 - ETA: 0s - loss: 0.1470 - accuracy: 0.93 - ETA: 0s - loss: 0.1501 - accuracy: 0.93 - ETA: 0s - loss: 0.1504 - accuracy: 0.93 - ETA: 0s - loss: 0.1474 - accuracy: 0.93 - ETA: 0s - loss: 0.1458 - accuracy: 0.93 - 1s 3ms/step - loss: 0.1457 - accuracy: 0.9393 - val_loss: 0.8229 - val_accuracy: 0.8312\n",
      "Epoch 33/50\n",
      "235/235 [==============================] - ETA: 0s - loss: 0.1300 - accuracy: 0.96 - ETA: 0s - loss: 0.1268 - accuracy: 0.95 - ETA: 0s - loss: 0.1237 - accuracy: 0.95 - ETA: 0s - loss: 0.1170 - accuracy: 0.95 - ETA: 0s - loss: 0.1163 - accuracy: 0.95 - ETA: 0s - loss: 0.1213 - accuracy: 0.95 - ETA: 0s - loss: 0.1189 - accuracy: 0.95 - ETA: 0s - loss: 0.1214 - accuracy: 0.95 - ETA: 0s - loss: 0.1273 - accuracy: 0.94 - ETA: 0s - loss: 0.1318 - accuracy: 0.94 - ETA: 0s - loss: 0.1358 - accuracy: 0.94 - ETA: 0s - loss: 0.1389 - accuracy: 0.94 - 1s 3ms/step - loss: 0.1397 - accuracy: 0.9409 - val_loss: 0.6921 - val_accuracy: 0.8232\n",
      "Epoch 34/50\n",
      "235/235 [==============================] - ETA: 0s - loss: 0.1621 - accuracy: 0.96 - ETA: 0s - loss: 0.1189 - accuracy: 0.95 - ETA: 0s - loss: 0.1063 - accuracy: 0.95 - ETA: 0s - loss: 0.1132 - accuracy: 0.95 - ETA: 0s - loss: 0.1160 - accuracy: 0.95 - ETA: 0s - loss: 0.1173 - accuracy: 0.95 - ETA: 0s - loss: 0.1164 - accuracy: 0.95 - ETA: 0s - loss: 0.1212 - accuracy: 0.94 - ETA: 0s - loss: 0.1256 - accuracy: 0.94 - ETA: 0s - loss: 0.1260 - accuracy: 0.94 - ETA: 0s - loss: 0.1252 - accuracy: 0.94 - ETA: 0s - loss: 0.1243 - accuracy: 0.94 - 1s 3ms/step - loss: 0.1246 - accuracy: 0.9471 - val_loss: 1.0028 - val_accuracy: 0.8188\n",
      "Epoch 35/50\n",
      "235/235 [==============================] - ETA: 0s - loss: 0.1805 - accuracy: 0.90 - ETA: 0s - loss: 0.0965 - accuracy: 0.96 - ETA: 0s - loss: 0.0839 - accuracy: 0.96 - ETA: 0s - loss: 0.0894 - accuracy: 0.96 - ETA: 0s - loss: 0.0948 - accuracy: 0.96 - ETA: 0s - loss: 0.1043 - accuracy: 0.95 - ETA: 0s - loss: 0.1054 - accuracy: 0.95 - ETA: 0s - loss: 0.1087 - accuracy: 0.95 - ETA: 0s - loss: 0.1083 - accuracy: 0.95 - ETA: 0s - loss: 0.1134 - accuracy: 0.95 - ETA: 0s - loss: 0.1145 - accuracy: 0.95 - ETA: 0s - loss: 0.1168 - accuracy: 0.95 - ETA: 0s - loss: 0.1227 - accuracy: 0.94 - 1s 3ms/step - loss: 0.1227 - accuracy: 0.9481 - val_loss: 0.7993 - val_accuracy: 0.8100\n",
      "Epoch 36/50\n",
      "235/235 [==============================] - ETA: 0s - loss: 0.1554 - accuracy: 0.93 - ETA: 0s - loss: 0.1228 - accuracy: 0.96 - ETA: 0s - loss: 0.1195 - accuracy: 0.95 - ETA: 0s - loss: 0.1095 - accuracy: 0.95 - ETA: 0s - loss: 0.1053 - accuracy: 0.95 - ETA: 0s - loss: 0.1013 - accuracy: 0.95 - ETA: 0s - loss: 0.1027 - accuracy: 0.95 - ETA: 0s - loss: 0.1050 - accuracy: 0.95 - ETA: 0s - loss: 0.1100 - accuracy: 0.95 - ETA: 0s - loss: 0.1103 - accuracy: 0.95 - ETA: 0s - loss: 0.1133 - accuracy: 0.95 - ETA: 0s - loss: 0.1147 - accuracy: 0.95 - ETA: 0s - loss: 0.1139 - accuracy: 0.95 - 1s 3ms/step - loss: 0.1139 - accuracy: 0.9523 - val_loss: 1.0989 - val_accuracy: 0.8148\n",
      "Epoch 37/50\n",
      "235/235 [==============================] - ETA: 0s - loss: 0.0761 - accuracy: 0.96 - ETA: 0s - loss: 0.0733 - accuracy: 0.97 - ETA: 0s - loss: 0.0746 - accuracy: 0.97 - ETA: 0s - loss: 0.0891 - accuracy: 0.96 - ETA: 0s - loss: 0.0955 - accuracy: 0.96 - ETA: 0s - loss: 0.1013 - accuracy: 0.96 - ETA: 0s - loss: 0.1017 - accuracy: 0.95 - ETA: 0s - loss: 0.1023 - accuracy: 0.95 - ETA: 0s - loss: 0.1069 - accuracy: 0.95 - ETA: 0s - loss: 0.1050 - accuracy: 0.95 - ETA: 0s - loss: 0.1074 - accuracy: 0.95 - ETA: 0s - loss: 0.1110 - accuracy: 0.95 - ETA: 0s - loss: 0.1139 - accuracy: 0.95 - 1s 3ms/step - loss: 0.1155 - accuracy: 0.9507 - val_loss: 0.9343 - val_accuracy: 0.8232\n",
      "Epoch 38/50\n",
      "235/235 [==============================] - ETA: 0s - loss: 0.1026 - accuracy: 0.96 - ETA: 0s - loss: 0.1211 - accuracy: 0.95 - ETA: 0s - loss: 0.1187 - accuracy: 0.95 - ETA: 0s - loss: 0.1093 - accuracy: 0.96 - ETA: 0s - loss: 0.0988 - accuracy: 0.96 - ETA: 0s - loss: 0.1020 - accuracy: 0.96 - ETA: 0s - loss: 0.1050 - accuracy: 0.95 - ETA: 0s - loss: 0.1144 - accuracy: 0.95 - ETA: 0s - loss: 0.1170 - accuracy: 0.95 - ETA: 0s - loss: 0.1167 - accuracy: 0.95 - ETA: 0s - loss: 0.1152 - accuracy: 0.95 - ETA: 0s - loss: 0.1144 - accuracy: 0.95 - 1s 3ms/step - loss: 0.1174 - accuracy: 0.9512 - val_loss: 0.8712 - val_accuracy: 0.8136\n",
      "Epoch 39/50\n",
      "235/235 [==============================] - ETA: 0s - loss: 0.1653 - accuracy: 0.93 - ETA: 0s - loss: 0.1289 - accuracy: 0.94 - ETA: 0s - loss: 0.1057 - accuracy: 0.95 - ETA: 0s - loss: 0.1024 - accuracy: 0.95 - ETA: 0s - loss: 0.1002 - accuracy: 0.95 - ETA: 0s - loss: 0.1039 - accuracy: 0.95 - ETA: 0s - loss: 0.1059 - accuracy: 0.95 - ETA: 0s - loss: 0.1069 - accuracy: 0.95 - ETA: 0s - loss: 0.1071 - accuracy: 0.95 - ETA: 0s - loss: 0.1066 - accuracy: 0.95 - ETA: 0s - loss: 0.1069 - accuracy: 0.95 - ETA: 0s - loss: 0.1059 - accuracy: 0.95 - ETA: 0s - loss: 0.1065 - accuracy: 0.95 - 1s 3ms/step - loss: 0.1067 - accuracy: 0.9549 - val_loss: 1.0727 - val_accuracy: 0.8096\n",
      "Epoch 40/50\n",
      "235/235 [==============================] - ETA: 0s - loss: 0.1465 - accuracy: 0.93 - ETA: 0s - loss: 0.0774 - accuracy: 0.96 - ETA: 0s - loss: 0.0836 - accuracy: 0.96 - ETA: 0s - loss: 0.0843 - accuracy: 0.96 - ETA: 0s - loss: 0.0833 - accuracy: 0.96 - ETA: 0s - loss: 0.0844 - accuracy: 0.96 - ETA: 0s - loss: 0.0895 - accuracy: 0.96 - ETA: 0s - loss: 0.0953 - accuracy: 0.95 - ETA: 0s - loss: 0.1008 - accuracy: 0.95 - ETA: 0s - loss: 0.1002 - accuracy: 0.95 - ETA: 0s - loss: 0.1024 - accuracy: 0.95 - ETA: 0s - loss: 0.1014 - accuracy: 0.95 - ETA: 0s - loss: 0.1013 - accuracy: 0.95 - 1s 3ms/step - loss: 0.1014 - accuracy: 0.9564 - val_loss: 1.2000 - val_accuracy: 0.8272\n",
      "Epoch 41/50\n"
     ]
    },
    {
     "name": "stdout",
     "output_type": "stream",
     "text": [
      "235/235 [==============================] - ETA: 0s - loss: 0.0205 - accuracy: 1.00 - ETA: 0s - loss: 0.0742 - accuracy: 0.96 - ETA: 0s - loss: 0.0876 - accuracy: 0.96 - ETA: 0s - loss: 0.0893 - accuracy: 0.96 - ETA: 0s - loss: 0.0969 - accuracy: 0.96 - ETA: 0s - loss: 0.1001 - accuracy: 0.96 - ETA: 0s - loss: 0.1015 - accuracy: 0.95 - ETA: 0s - loss: 0.1058 - accuracy: 0.95 - ETA: 0s - loss: 0.1053 - accuracy: 0.95 - ETA: 0s - loss: 0.1068 - accuracy: 0.95 - ETA: 0s - loss: 0.1090 - accuracy: 0.95 - ETA: 0s - loss: 0.1088 - accuracy: 0.95 - ETA: 0s - loss: 0.1102 - accuracy: 0.95 - 1s 3ms/step - loss: 0.1101 - accuracy: 0.9572 - val_loss: 0.9009 - val_accuracy: 0.8120\n",
      "Epoch 42/50\n",
      "235/235 [==============================] - ETA: 0s - loss: 0.0615 - accuracy: 1.00 - ETA: 0s - loss: 0.0723 - accuracy: 0.97 - ETA: 0s - loss: 0.0726 - accuracy: 0.97 - ETA: 0s - loss: 0.0719 - accuracy: 0.97 - ETA: 0s - loss: 0.0722 - accuracy: 0.96 - ETA: 0s - loss: 0.0699 - accuracy: 0.97 - ETA: 0s - loss: 0.0773 - accuracy: 0.96 - ETA: 0s - loss: 0.0829 - accuracy: 0.96 - ETA: 0s - loss: 0.0879 - accuracy: 0.96 - ETA: 0s - loss: 0.0895 - accuracy: 0.96 - ETA: 0s - loss: 0.0905 - accuracy: 0.96 - ETA: 0s - loss: 0.0902 - accuracy: 0.96 - 1s 3ms/step - loss: 0.0916 - accuracy: 0.9631 - val_loss: 0.9193 - val_accuracy: 0.8176\n",
      "Epoch 43/50\n",
      "235/235 [==============================] - ETA: 0s - loss: 0.1359 - accuracy: 0.93 - ETA: 0s - loss: 0.0999 - accuracy: 0.96 - ETA: 0s - loss: 0.0783 - accuracy: 0.97 - ETA: 0s - loss: 0.0703 - accuracy: 0.97 - ETA: 0s - loss: 0.0716 - accuracy: 0.97 - ETA: 0s - loss: 0.0721 - accuracy: 0.97 - ETA: 0s - loss: 0.0753 - accuracy: 0.97 - ETA: 0s - loss: 0.0787 - accuracy: 0.96 - ETA: 0s - loss: 0.0781 - accuracy: 0.96 - ETA: 0s - loss: 0.0805 - accuracy: 0.96 - ETA: 0s - loss: 0.0822 - accuracy: 0.96 - ETA: 0s - loss: 0.0816 - accuracy: 0.96 - 1s 3ms/step - loss: 0.0831 - accuracy: 0.9663 - val_loss: 1.2301 - val_accuracy: 0.8216\n",
      "Epoch 44/50\n",
      "235/235 [==============================] - ETA: 0s - loss: 0.0169 - accuracy: 1.00 - ETA: 0s - loss: 0.0687 - accuracy: 0.97 - ETA: 0s - loss: 0.0616 - accuracy: 0.97 - ETA: 0s - loss: 0.0637 - accuracy: 0.97 - ETA: 0s - loss: 0.0633 - accuracy: 0.97 - ETA: 0s - loss: 0.0676 - accuracy: 0.97 - ETA: 0s - loss: 0.0763 - accuracy: 0.96 - ETA: 0s - loss: 0.0793 - accuracy: 0.96 - ETA: 0s - loss: 0.0847 - accuracy: 0.96 - ETA: 0s - loss: 0.0849 - accuracy: 0.96 - ETA: 0s - loss: 0.0826 - accuracy: 0.96 - ETA: 0s - loss: 0.0843 - accuracy: 0.96 - 1s 3ms/step - loss: 0.0829 - accuracy: 0.9667 - val_loss: 1.1622 - val_accuracy: 0.7980\n",
      "Epoch 45/50\n",
      "235/235 [==============================] - ETA: 0s - loss: 0.0197 - accuracy: 1.00 - ETA: 0s - loss: 0.0780 - accuracy: 0.96 - ETA: 0s - loss: 0.0591 - accuracy: 0.97 - ETA: 0s - loss: 0.0642 - accuracy: 0.97 - ETA: 0s - loss: 0.0701 - accuracy: 0.97 - ETA: 0s - loss: 0.0699 - accuracy: 0.96 - ETA: 0s - loss: 0.0730 - accuracy: 0.96 - ETA: 0s - loss: 0.0774 - accuracy: 0.96 - ETA: 0s - loss: 0.0781 - accuracy: 0.96 - ETA: 0s - loss: 0.0780 - accuracy: 0.96 - ETA: 0s - loss: 0.0796 - accuracy: 0.96 - ETA: 0s - loss: 0.0812 - accuracy: 0.96 - ETA: 0s - loss: 0.0836 - accuracy: 0.96 - 1s 3ms/step - loss: 0.0839 - accuracy: 0.9649 - val_loss: 1.0081 - val_accuracy: 0.8248\n",
      "Epoch 46/50\n",
      "235/235 [==============================] - ETA: 0s - loss: 0.0227 - accuracy: 1.00 - ETA: 0s - loss: 0.0826 - accuracy: 0.96 - ETA: 0s - loss: 0.0685 - accuracy: 0.96 - ETA: 0s - loss: 0.0740 - accuracy: 0.97 - ETA: 0s - loss: 0.0740 - accuracy: 0.97 - ETA: 0s - loss: 0.0815 - accuracy: 0.96 - ETA: 0s - loss: 0.0785 - accuracy: 0.97 - ETA: 0s - loss: 0.0746 - accuracy: 0.97 - ETA: 0s - loss: 0.0777 - accuracy: 0.97 - ETA: 0s - loss: 0.0802 - accuracy: 0.96 - ETA: 0s - loss: 0.0834 - accuracy: 0.96 - ETA: 0s - loss: 0.0860 - accuracy: 0.96 - 1s 3ms/step - loss: 0.0855 - accuracy: 0.9668 - val_loss: 1.0645 - val_accuracy: 0.8144\n",
      "Epoch 47/50\n",
      "235/235 [==============================] - ETA: 0s - loss: 0.1645 - accuracy: 0.96 - ETA: 0s - loss: 0.0926 - accuracy: 0.96 - ETA: 0s - loss: 0.0824 - accuracy: 0.96 - ETA: 0s - loss: 0.0788 - accuracy: 0.97 - ETA: 0s - loss: 0.0780 - accuracy: 0.97 - ETA: 0s - loss: 0.0774 - accuracy: 0.97 - ETA: 0s - loss: 0.0737 - accuracy: 0.97 - ETA: 0s - loss: 0.0737 - accuracy: 0.97 - ETA: 0s - loss: 0.0738 - accuracy: 0.97 - ETA: 0s - loss: 0.0727 - accuracy: 0.97 - ETA: 0s - loss: 0.0743 - accuracy: 0.97 - ETA: 0s - loss: 0.0747 - accuracy: 0.97 - 1s 3ms/step - loss: 0.0769 - accuracy: 0.9709 - val_loss: 1.0627 - val_accuracy: 0.8136\n",
      "Epoch 48/50\n",
      "235/235 [==============================] - ETA: 0s - loss: 0.0308 - accuracy: 1.00 - ETA: 0s - loss: 0.0441 - accuracy: 0.98 - ETA: 0s - loss: 0.0543 - accuracy: 0.97 - ETA: 0s - loss: 0.0702 - accuracy: 0.96 - ETA: 0s - loss: 0.0689 - accuracy: 0.96 - ETA: 0s - loss: 0.0654 - accuracy: 0.97 - ETA: 0s - loss: 0.0620 - accuracy: 0.97 - ETA: 0s - loss: 0.0601 - accuracy: 0.97 - ETA: 0s - loss: 0.0635 - accuracy: 0.97 - ETA: 0s - loss: 0.0683 - accuracy: 0.97 - ETA: 0s - loss: 0.0719 - accuracy: 0.96 - ETA: 0s - loss: 0.0719 - accuracy: 0.96 - ETA: 0s - loss: 0.0734 - accuracy: 0.96 - 1s 3ms/step - loss: 0.0737 - accuracy: 0.9681 - val_loss: 1.2833 - val_accuracy: 0.8084\n",
      "Epoch 49/50\n",
      "235/235 [==============================] - ETA: 0s - loss: 0.0275 - accuracy: 1.00 - ETA: 0s - loss: 0.0810 - accuracy: 0.97 - ETA: 0s - loss: 0.0587 - accuracy: 0.98 - ETA: 0s - loss: 0.0491 - accuracy: 0.98 - ETA: 0s - loss: 0.0510 - accuracy: 0.98 - ETA: 0s - loss: 0.0563 - accuracy: 0.97 - ETA: 0s - loss: 0.0581 - accuracy: 0.97 - ETA: 0s - loss: 0.0627 - accuracy: 0.97 - ETA: 0s - loss: 0.0632 - accuracy: 0.97 - ETA: 0s - loss: 0.0661 - accuracy: 0.97 - ETA: 0s - loss: 0.0668 - accuracy: 0.97 - ETA: 0s - loss: 0.0672 - accuracy: 0.97 - 1s 3ms/step - loss: 0.0691 - accuracy: 0.9721 - val_loss: 1.1872 - val_accuracy: 0.8112\n",
      "Epoch 50/50\n",
      "235/235 [==============================] - ETA: 0s - loss: 0.0136 - accuracy: 1.00 - ETA: 0s - loss: 0.0549 - accuracy: 0.97 - ETA: 0s - loss: 0.0661 - accuracy: 0.97 - ETA: 0s - loss: 0.0686 - accuracy: 0.97 - ETA: 0s - loss: 0.0658 - accuracy: 0.97 - ETA: 0s - loss: 0.0695 - accuracy: 0.97 - ETA: 0s - loss: 0.0705 - accuracy: 0.97 - ETA: 0s - loss: 0.0712 - accuracy: 0.97 - ETA: 0s - loss: 0.0668 - accuracy: 0.97 - ETA: 0s - loss: 0.0640 - accuracy: 0.97 - ETA: 0s - loss: 0.0636 - accuracy: 0.97 - ETA: 0s - loss: 0.0664 - accuracy: 0.97 - ETA: 0s - loss: 0.0686 - accuracy: 0.97 - 1s 3ms/step - loss: 0.0686 - accuracy: 0.9744 - val_loss: 1.1757 - val_accuracy: 0.8260\n",
      "Epoch 1/50\n",
      "235/235 [==============================] - ETA: 0s - loss: 0.7130 - accuracy: 0.06 - ETA: 0s - loss: 0.5545 - accuracy: 0.74 - ETA: 0s - loss: 0.5127 - accuracy: 0.76 - ETA: 0s - loss: 0.4879 - accuracy: 0.77 - ETA: 0s - loss: 0.4806 - accuracy: 0.77 - ETA: 0s - loss: 0.4693 - accuracy: 0.78 - ETA: 0s - loss: 0.4560 - accuracy: 0.79 - ETA: 0s - loss: 0.4494 - accuracy: 0.79 - ETA: 0s - loss: 0.4373 - accuracy: 0.80 - ETA: 0s - loss: 0.4283 - accuracy: 0.81 - ETA: 0s - loss: 0.4176 - accuracy: 0.81 - ETA: 0s - loss: 0.4136 - accuracy: 0.82 - ETA: 0s - loss: 0.4107 - accuracy: 0.82 - 1s 4ms/step - loss: 0.4062 - accuracy: 0.8255 - val_loss: 0.3744 - val_accuracy: 0.8536\n",
      "Epoch 2/50\n",
      "235/235 [==============================] - ETA: 0s - loss: 0.5543 - accuracy: 0.71 - ETA: 0s - loss: 0.3460 - accuracy: 0.87 - ETA: 0s - loss: 0.3570 - accuracy: 0.86 - ETA: 0s - loss: 0.3619 - accuracy: 0.86 - ETA: 0s - loss: 0.3526 - accuracy: 0.86 - ETA: 0s - loss: 0.3518 - accuracy: 0.86 - ETA: 0s - loss: 0.3547 - accuracy: 0.86 - ETA: 0s - loss: 0.3492 - accuracy: 0.86 - ETA: 0s - loss: 0.3541 - accuracy: 0.85 - ETA: 0s - loss: 0.3545 - accuracy: 0.85 - ETA: 0s - loss: 0.3552 - accuracy: 0.85 - ETA: 0s - loss: 0.3537 - accuracy: 0.85 - ETA: 0s - loss: 0.3539 - accuracy: 0.85 - 1s 3ms/step - loss: 0.3548 - accuracy: 0.8579 - val_loss: 0.3489 - val_accuracy: 0.8612\n",
      "Epoch 3/50\n"
     ]
    },
    {
     "name": "stdout",
     "output_type": "stream",
     "text": [
      "235/235 [==============================] - ETA: 0s - loss: 0.3198 - accuracy: 0.84 - ETA: 0s - loss: 0.3756 - accuracy: 0.83 - ETA: 0s - loss: 0.3473 - accuracy: 0.85 - ETA: 0s - loss: 0.3459 - accuracy: 0.84 - ETA: 0s - loss: 0.3337 - accuracy: 0.85 - ETA: 0s - loss: 0.3357 - accuracy: 0.85 - ETA: 0s - loss: 0.3426 - accuracy: 0.85 - ETA: 0s - loss: 0.3432 - accuracy: 0.86 - ETA: 0s - loss: 0.3415 - accuracy: 0.86 - ETA: 0s - loss: 0.3409 - accuracy: 0.86 - ETA: 0s - loss: 0.3431 - accuracy: 0.85 - ETA: 0s - loss: 0.3447 - accuracy: 0.86 - ETA: 0s - loss: 0.3454 - accuracy: 0.86 - 1s 3ms/step - loss: 0.3457 - accuracy: 0.8597 - val_loss: 0.3483 - val_accuracy: 0.8492\n",
      "Epoch 4/50\n",
      "235/235 [==============================] - ETA: 0s - loss: 0.4126 - accuracy: 0.75 - ETA: 0s - loss: 0.3267 - accuracy: 0.86 - ETA: 0s - loss: 0.3255 - accuracy: 0.85 - ETA: 0s - loss: 0.3232 - accuracy: 0.86 - ETA: 0s - loss: 0.3357 - accuracy: 0.86 - ETA: 0s - loss: 0.3381 - accuracy: 0.86 - ETA: 0s - loss: 0.3327 - accuracy: 0.86 - ETA: 0s - loss: 0.3336 - accuracy: 0.86 - ETA: 0s - loss: 0.3346 - accuracy: 0.86 - ETA: 0s - loss: 0.3326 - accuracy: 0.86 - ETA: 0s - loss: 0.3344 - accuracy: 0.86 - ETA: 0s - loss: 0.3322 - accuracy: 0.86 - ETA: 0s - loss: 0.3358 - accuracy: 0.86 - 1s 3ms/step - loss: 0.3356 - accuracy: 0.8629 - val_loss: 0.3447 - val_accuracy: 0.8600\n",
      "Epoch 5/50\n",
      "235/235 [==============================] - ETA: 0s - loss: 0.2716 - accuracy: 0.87 - ETA: 0s - loss: 0.3519 - accuracy: 0.86 - ETA: 0s - loss: 0.3230 - accuracy: 0.87 - ETA: 0s - loss: 0.3219 - accuracy: 0.86 - ETA: 0s - loss: 0.3245 - accuracy: 0.86 - ETA: 0s - loss: 0.3310 - accuracy: 0.86 - ETA: 0s - loss: 0.3306 - accuracy: 0.86 - ETA: 0s - loss: 0.3293 - accuracy: 0.86 - ETA: 0s - loss: 0.3289 - accuracy: 0.86 - ETA: 0s - loss: 0.3272 - accuracy: 0.86 - ETA: 0s - loss: 0.3272 - accuracy: 0.86 - ETA: 0s - loss: 0.3290 - accuracy: 0.86 - ETA: 0s - loss: 0.3289 - accuracy: 0.86 - 1s 3ms/step - loss: 0.3297 - accuracy: 0.8639 - val_loss: 0.3418 - val_accuracy: 0.8624\n",
      "Epoch 6/50\n",
      "235/235 [==============================] - ETA: 0s - loss: 0.2003 - accuracy: 0.90 - ETA: 0s - loss: 0.3100 - accuracy: 0.88 - ETA: 0s - loss: 0.3098 - accuracy: 0.87 - ETA: 0s - loss: 0.3215 - accuracy: 0.86 - ETA: 0s - loss: 0.3175 - accuracy: 0.87 - ETA: 0s - loss: 0.3198 - accuracy: 0.87 - ETA: 0s - loss: 0.3180 - accuracy: 0.87 - ETA: 0s - loss: 0.3206 - accuracy: 0.87 - ETA: 0s - loss: 0.3243 - accuracy: 0.87 - ETA: 0s - loss: 0.3246 - accuracy: 0.87 - ETA: 0s - loss: 0.3266 - accuracy: 0.86 - ETA: 0s - loss: 0.3264 - accuracy: 0.86 - ETA: 0s - loss: 0.3265 - accuracy: 0.86 - 1s 3ms/step - loss: 0.3256 - accuracy: 0.8688 - val_loss: 0.3488 - val_accuracy: 0.8592\n",
      "Epoch 7/50\n",
      "235/235 [==============================] - ETA: 0s - loss: 0.3103 - accuracy: 0.84 - ETA: 0s - loss: 0.2781 - accuracy: 0.87 - ETA: 0s - loss: 0.2998 - accuracy: 0.87 - ETA: 0s - loss: 0.2965 - accuracy: 0.87 - ETA: 0s - loss: 0.3048 - accuracy: 0.87 - ETA: 0s - loss: 0.3099 - accuracy: 0.87 - ETA: 0s - loss: 0.3098 - accuracy: 0.87 - ETA: 0s - loss: 0.3209 - accuracy: 0.86 - ETA: 0s - loss: 0.3220 - accuracy: 0.86 - ETA: 0s - loss: 0.3215 - accuracy: 0.86 - ETA: 0s - loss: 0.3219 - accuracy: 0.86 - ETA: 0s - loss: 0.3233 - accuracy: 0.86 - ETA: 0s - loss: 0.3266 - accuracy: 0.86 - 1s 3ms/step - loss: 0.3249 - accuracy: 0.8653 - val_loss: 0.3547 - val_accuracy: 0.8564\n",
      "Epoch 8/50\n",
      "235/235 [==============================] - ETA: 0s - loss: 0.3474 - accuracy: 0.90 - ETA: 0s - loss: 0.3058 - accuracy: 0.87 - ETA: 0s - loss: 0.3144 - accuracy: 0.86 - ETA: 0s - loss: 0.3242 - accuracy: 0.86 - ETA: 0s - loss: 0.3207 - accuracy: 0.86 - ETA: 0s - loss: 0.3225 - accuracy: 0.86 - ETA: 0s - loss: 0.3200 - accuracy: 0.86 - ETA: 0s - loss: 0.3187 - accuracy: 0.86 - ETA: 0s - loss: 0.3230 - accuracy: 0.86 - ETA: 0s - loss: 0.3212 - accuracy: 0.86 - ETA: 0s - loss: 0.3180 - accuracy: 0.86 - ETA: 0s - loss: 0.3217 - accuracy: 0.86 - ETA: 0s - loss: 0.3209 - accuracy: 0.86 - 1s 3ms/step - loss: 0.3205 - accuracy: 0.8668 - val_loss: 0.3431 - val_accuracy: 0.8588\n",
      "Epoch 9/50\n",
      "235/235 [==============================] - ETA: 0s - loss: 0.2630 - accuracy: 0.90 - ETA: 0s - loss: 0.2786 - accuracy: 0.88 - ETA: 0s - loss: 0.3023 - accuracy: 0.87 - ETA: 0s - loss: 0.2882 - accuracy: 0.87 - ETA: 0s - loss: 0.2945 - accuracy: 0.87 - ETA: 0s - loss: 0.2927 - accuracy: 0.88 - ETA: 0s - loss: 0.2959 - accuracy: 0.87 - ETA: 0s - loss: 0.3011 - accuracy: 0.87 - ETA: 0s - loss: 0.2999 - accuracy: 0.87 - ETA: 0s - loss: 0.3042 - accuracy: 0.87 - ETA: 0s - loss: 0.3095 - accuracy: 0.87 - ETA: 0s - loss: 0.3090 - accuracy: 0.87 - ETA: 0s - loss: 0.3128 - accuracy: 0.87 - 1s 3ms/step - loss: 0.3117 - accuracy: 0.8707 - val_loss: 0.3408 - val_accuracy: 0.8616\n",
      "Epoch 10/50\n",
      "235/235 [==============================] - ETA: 0s - loss: 0.1040 - accuracy: 1.00 - ETA: 0s - loss: 0.3082 - accuracy: 0.87 - ETA: 0s - loss: 0.2978 - accuracy: 0.87 - ETA: 0s - loss: 0.2919 - accuracy: 0.88 - ETA: 0s - loss: 0.2879 - accuracy: 0.88 - ETA: 0s - loss: 0.2979 - accuracy: 0.87 - ETA: 0s - loss: 0.3041 - accuracy: 0.87 - ETA: 0s - loss: 0.3042 - accuracy: 0.87 - ETA: 0s - loss: 0.3058 - accuracy: 0.87 - ETA: 0s - loss: 0.3059 - accuracy: 0.87 - ETA: 0s - loss: 0.3063 - accuracy: 0.87 - ETA: 0s - loss: 0.3062 - accuracy: 0.87 - ETA: 0s - loss: 0.3079 - accuracy: 0.87 - ETA: 0s - loss: 0.3063 - accuracy: 0.87 - 1s 4ms/step - loss: 0.3074 - accuracy: 0.8747 - val_loss: 0.3550 - val_accuracy: 0.8512\n",
      "Epoch 11/50\n",
      "235/235 [==============================] - ETA: 0s - loss: 0.1143 - accuracy: 1.00 - ETA: 0s - loss: 0.2706 - accuracy: 0.88 - ETA: 0s - loss: 0.2920 - accuracy: 0.87 - ETA: 0s - loss: 0.3080 - accuracy: 0.86 - ETA: 0s - loss: 0.3058 - accuracy: 0.85 - ETA: 0s - loss: 0.3123 - accuracy: 0.85 - ETA: 0s - loss: 0.3056 - accuracy: 0.86 - ETA: 0s - loss: 0.3096 - accuracy: 0.86 - ETA: 0s - loss: 0.3098 - accuracy: 0.86 - ETA: 0s - loss: 0.3051 - accuracy: 0.86 - ETA: 0s - loss: 0.3027 - accuracy: 0.86 - ETA: 0s - loss: 0.2983 - accuracy: 0.87 - ETA: 0s - loss: 0.2992 - accuracy: 0.87 - ETA: 0s - loss: 0.3009 - accuracy: 0.87 - ETA: 0s - loss: 0.3009 - accuracy: 0.87 - ETA: 0s - loss: 0.3024 - accuracy: 0.87 - 1s 4ms/step - loss: 0.3027 - accuracy: 0.8733 - val_loss: 0.3582 - val_accuracy: 0.8556\n",
      "Epoch 12/50\n",
      "235/235 [==============================] - ETA: 0s - loss: 0.3485 - accuracy: 0.87 - ETA: 0s - loss: 0.3109 - accuracy: 0.87 - ETA: 0s - loss: 0.3084 - accuracy: 0.87 - ETA: 0s - loss: 0.3079 - accuracy: 0.86 - ETA: 0s - loss: 0.3054 - accuracy: 0.87 - ETA: 0s - loss: 0.3061 - accuracy: 0.87 - ETA: 0s - loss: 0.3054 - accuracy: 0.87 - ETA: 0s - loss: 0.3042 - accuracy: 0.87 - ETA: 0s - loss: 0.3023 - accuracy: 0.87 - ETA: 0s - loss: 0.3032 - accuracy: 0.87 - ETA: 0s - loss: 0.3005 - accuracy: 0.87 - ETA: 0s - loss: 0.2999 - accuracy: 0.86 - ETA: 0s - loss: 0.2991 - accuracy: 0.87 - ETA: 0s - loss: 0.2986 - accuracy: 0.87 - ETA: 0s - loss: 0.2968 - accuracy: 0.87 - 1s 4ms/step - loss: 0.2968 - accuracy: 0.8709 - val_loss: 0.3611 - val_accuracy: 0.8536\n",
      "Epoch 13/50\n",
      "235/235 [==============================] - ETA: 0s - loss: 0.3352 - accuracy: 0.84 - ETA: 0s - loss: 0.2836 - accuracy: 0.87 - ETA: 0s - loss: 0.2911 - accuracy: 0.87 - ETA: 0s - loss: 0.2976 - accuracy: 0.87 - ETA: 0s - loss: 0.2906 - accuracy: 0.87 - ETA: 0s - loss: 0.2889 - accuracy: 0.87 - ETA: 0s - loss: 0.2898 - accuracy: 0.87 - ETA: 0s - loss: 0.2827 - accuracy: 0.87 - ETA: 0s - loss: 0.2878 - accuracy: 0.87 - ETA: 0s - loss: 0.2893 - accuracy: 0.87 - ETA: 0s - loss: 0.2871 - accuracy: 0.88 - ETA: 0s - loss: 0.2879 - accuracy: 0.88 - ETA: 0s - loss: 0.2884 - accuracy: 0.88 - ETA: 0s - loss: 0.2913 - accuracy: 0.87 - ETA: 0s - loss: 0.2908 - accuracy: 0.87 - 1s 4ms/step - loss: 0.2920 - accuracy: 0.8783 - val_loss: 0.3709 - val_accuracy: 0.8508\n",
      "Epoch 14/50\n"
     ]
    },
    {
     "name": "stdout",
     "output_type": "stream",
     "text": [
      "235/235 [==============================] - ETA: 0s - loss: 0.2512 - accuracy: 0.87 - ETA: 0s - loss: 0.2621 - accuracy: 0.88 - ETA: 0s - loss: 0.2698 - accuracy: 0.88 - ETA: 0s - loss: 0.2758 - accuracy: 0.87 - ETA: 0s - loss: 0.2723 - accuracy: 0.88 - ETA: 0s - loss: 0.2802 - accuracy: 0.88 - ETA: 0s - loss: 0.2778 - accuracy: 0.88 - ETA: 0s - loss: 0.2807 - accuracy: 0.88 - ETA: 0s - loss: 0.2800 - accuracy: 0.88 - ETA: 0s - loss: 0.2811 - accuracy: 0.88 - ETA: 0s - loss: 0.2826 - accuracy: 0.88 - ETA: 0s - loss: 0.2842 - accuracy: 0.88 - ETA: 0s - loss: 0.2846 - accuracy: 0.88 - ETA: 0s - loss: 0.2847 - accuracy: 0.88 - ETA: 0s - loss: 0.2859 - accuracy: 0.88 - 1s 4ms/step - loss: 0.2857 - accuracy: 0.8820 - val_loss: 0.3747 - val_accuracy: 0.8528\n",
      "Epoch 15/50\n",
      "235/235 [==============================] - ETA: 0s - loss: 0.3290 - accuracy: 0.90 - ETA: 0s - loss: 0.2592 - accuracy: 0.89 - ETA: 0s - loss: 0.2451 - accuracy: 0.90 - ETA: 0s - loss: 0.2425 - accuracy: 0.90 - ETA: 0s - loss: 0.2549 - accuracy: 0.89 - ETA: 0s - loss: 0.2583 - accuracy: 0.89 - ETA: 0s - loss: 0.2625 - accuracy: 0.89 - ETA: 0s - loss: 0.2651 - accuracy: 0.89 - ETA: 0s - loss: 0.2625 - accuracy: 0.89 - ETA: 0s - loss: 0.2668 - accuracy: 0.89 - ETA: 0s - loss: 0.2703 - accuracy: 0.88 - ETA: 0s - loss: 0.2747 - accuracy: 0.88 - ETA: 0s - loss: 0.2758 - accuracy: 0.88 - ETA: 0s - loss: 0.2771 - accuracy: 0.88 - ETA: 0s - loss: 0.2787 - accuracy: 0.88 - 1s 4ms/step - loss: 0.2785 - accuracy: 0.8849 - val_loss: 0.3627 - val_accuracy: 0.8568\n",
      "Epoch 16/50\n",
      "235/235 [==============================] - ETA: 0s - loss: 0.3047 - accuracy: 0.81 - ETA: 0s - loss: 0.2469 - accuracy: 0.88 - ETA: 0s - loss: 0.2553 - accuracy: 0.88 - ETA: 0s - loss: 0.2457 - accuracy: 0.89 - ETA: 0s - loss: 0.2458 - accuracy: 0.89 - ETA: 0s - loss: 0.2544 - accuracy: 0.89 - ETA: 0s - loss: 0.2558 - accuracy: 0.89 - ETA: 0s - loss: 0.2646 - accuracy: 0.88 - ETA: 0s - loss: 0.2627 - accuracy: 0.88 - ETA: 0s - loss: 0.2670 - accuracy: 0.88 - ETA: 0s - loss: 0.2681 - accuracy: 0.88 - ETA: 0s - loss: 0.2720 - accuracy: 0.88 - ETA: 0s - loss: 0.2733 - accuracy: 0.88 - ETA: 0s - loss: 0.2794 - accuracy: 0.88 - ETA: 0s - loss: 0.2756 - accuracy: 0.88 - 1s 4ms/step - loss: 0.2760 - accuracy: 0.8832 - val_loss: 0.3948 - val_accuracy: 0.8496\n",
      "Epoch 17/50\n",
      "235/235 [==============================] - ETA: 0s - loss: 0.1604 - accuracy: 0.90 - ETA: 0s - loss: 0.2508 - accuracy: 0.89 - ETA: 0s - loss: 0.2477 - accuracy: 0.90 - ETA: 0s - loss: 0.2409 - accuracy: 0.90 - ETA: 0s - loss: 0.2489 - accuracy: 0.89 - ETA: 0s - loss: 0.2589 - accuracy: 0.89 - ETA: 0s - loss: 0.2527 - accuracy: 0.89 - ETA: 0s - loss: 0.2517 - accuracy: 0.89 - ETA: 0s - loss: 0.2540 - accuracy: 0.89 - ETA: 0s - loss: 0.2541 - accuracy: 0.89 - ETA: 0s - loss: 0.2513 - accuracy: 0.89 - ETA: 0s - loss: 0.2535 - accuracy: 0.89 - ETA: 0s - loss: 0.2558 - accuracy: 0.89 - ETA: 0s - loss: 0.2607 - accuracy: 0.88 - ETA: 0s - loss: 0.2645 - accuracy: 0.88 - 1s 4ms/step - loss: 0.2650 - accuracy: 0.8849 - val_loss: 0.4044 - val_accuracy: 0.8436\n",
      "Epoch 18/50\n",
      "235/235 [==============================] - ETA: 0s - loss: 0.3866 - accuracy: 0.81 - ETA: 0s - loss: 0.2666 - accuracy: 0.87 - ETA: 0s - loss: 0.2464 - accuracy: 0.88 - ETA: 0s - loss: 0.2582 - accuracy: 0.88 - ETA: 0s - loss: 0.2613 - accuracy: 0.88 - ETA: 0s - loss: 0.2561 - accuracy: 0.88 - ETA: 0s - loss: 0.2588 - accuracy: 0.88 - ETA: 0s - loss: 0.2589 - accuracy: 0.88 - ETA: 0s - loss: 0.2617 - accuracy: 0.88 - ETA: 0s - loss: 0.2608 - accuracy: 0.88 - ETA: 0s - loss: 0.2607 - accuracy: 0.88 - ETA: 0s - loss: 0.2636 - accuracy: 0.88 - ETA: 0s - loss: 0.2590 - accuracy: 0.88 - ETA: 0s - loss: 0.2589 - accuracy: 0.88 - ETA: 0s - loss: 0.2591 - accuracy: 0.88 - ETA: 0s - loss: 0.2585 - accuracy: 0.88 - 1s 4ms/step - loss: 0.2591 - accuracy: 0.8875 - val_loss: 0.4017 - val_accuracy: 0.8416\n",
      "Epoch 19/50\n",
      "235/235 [==============================] - ETA: 0s - loss: 0.2478 - accuracy: 0.84 - ETA: 0s - loss: 0.2529 - accuracy: 0.88 - ETA: 0s - loss: 0.2289 - accuracy: 0.90 - ETA: 0s - loss: 0.2381 - accuracy: 0.89 - ETA: 0s - loss: 0.2379 - accuracy: 0.89 - ETA: 0s - loss: 0.2375 - accuracy: 0.89 - ETA: 0s - loss: 0.2369 - accuracy: 0.89 - ETA: 0s - loss: 0.2364 - accuracy: 0.89 - ETA: 0s - loss: 0.2438 - accuracy: 0.89 - ETA: 0s - loss: 0.2464 - accuracy: 0.89 - ETA: 0s - loss: 0.2510 - accuracy: 0.89 - ETA: 0s - loss: 0.2495 - accuracy: 0.89 - ETA: 0s - loss: 0.2485 - accuracy: 0.89 - ETA: 0s - loss: 0.2482 - accuracy: 0.89 - 1s 3ms/step - loss: 0.2492 - accuracy: 0.8937 - val_loss: 0.4126 - val_accuracy: 0.8504\n",
      "Epoch 20/50\n",
      "235/235 [==============================] - ETA: 0s - loss: 0.1177 - accuracy: 0.96 - ETA: 0s - loss: 0.2052 - accuracy: 0.91 - ETA: 0s - loss: 0.2324 - accuracy: 0.89 - ETA: 0s - loss: 0.2305 - accuracy: 0.89 - ETA: 0s - loss: 0.2263 - accuracy: 0.89 - ETA: 0s - loss: 0.2338 - accuracy: 0.89 - ETA: 0s - loss: 0.2349 - accuracy: 0.89 - ETA: 0s - loss: 0.2356 - accuracy: 0.89 - ETA: 0s - loss: 0.2378 - accuracy: 0.89 - ETA: 0s - loss: 0.2348 - accuracy: 0.89 - ETA: 0s - loss: 0.2416 - accuracy: 0.89 - ETA: 0s - loss: 0.2426 - accuracy: 0.89 - ETA: 0s - loss: 0.2423 - accuracy: 0.89 - ETA: 0s - loss: 0.2427 - accuracy: 0.89 - 1s 3ms/step - loss: 0.2416 - accuracy: 0.8928 - val_loss: 0.4377 - val_accuracy: 0.8400\n",
      "Epoch 21/50\n",
      "235/235 [==============================] - ETA: 0s - loss: 0.1450 - accuracy: 0.96 - ETA: 0s - loss: 0.1819 - accuracy: 0.92 - ETA: 0s - loss: 0.2064 - accuracy: 0.91 - ETA: 0s - loss: 0.2102 - accuracy: 0.91 - ETA: 0s - loss: 0.2178 - accuracy: 0.91 - ETA: 0s - loss: 0.2208 - accuracy: 0.91 - ETA: 0s - loss: 0.2293 - accuracy: 0.90 - ETA: 0s - loss: 0.2325 - accuracy: 0.90 - ETA: 0s - loss: 0.2337 - accuracy: 0.90 - ETA: 0s - loss: 0.2363 - accuracy: 0.89 - ETA: 0s - loss: 0.2402 - accuracy: 0.89 - ETA: 0s - loss: 0.2398 - accuracy: 0.89 - ETA: 0s - loss: 0.2397 - accuracy: 0.89 - ETA: 0s - loss: 0.2397 - accuracy: 0.89 - ETA: 0s - loss: 0.2370 - accuracy: 0.89 - ETA: 0s - loss: 0.2378 - accuracy: 0.89 - 1s 4ms/step - loss: 0.2377 - accuracy: 0.8961 - val_loss: 0.4459 - val_accuracy: 0.8460\n",
      "Epoch 22/50\n",
      "235/235 [==============================] - ETA: 0s - loss: 0.1546 - accuracy: 0.93 - ETA: 0s - loss: 0.2362 - accuracy: 0.88 - ETA: 0s - loss: 0.2090 - accuracy: 0.90 - ETA: 0s - loss: 0.2050 - accuracy: 0.90 - ETA: 0s - loss: 0.2069 - accuracy: 0.90 - ETA: 0s - loss: 0.2139 - accuracy: 0.90 - ETA: 0s - loss: 0.2183 - accuracy: 0.90 - ETA: 0s - loss: 0.2213 - accuracy: 0.90 - ETA: 0s - loss: 0.2227 - accuracy: 0.89 - ETA: 0s - loss: 0.2200 - accuracy: 0.90 - ETA: 0s - loss: 0.2254 - accuracy: 0.89 - ETA: 0s - loss: 0.2247 - accuracy: 0.89 - ETA: 0s - loss: 0.2259 - accuracy: 0.89 - ETA: 0s - loss: 0.2276 - accuracy: 0.89 - ETA: 0s - loss: 0.2246 - accuracy: 0.90 - ETA: 0s - loss: 0.2251 - accuracy: 0.90 - ETA: 0s - loss: 0.2241 - accuracy: 0.89 - 1s 4ms/step - loss: 0.2252 - accuracy: 0.8992 - val_loss: 0.5154 - val_accuracy: 0.8444\n",
      "Epoch 23/50\n",
      "235/235 [==============================] - ETA: 0s - loss: 0.1212 - accuracy: 0.96 - ETA: 0s - loss: 0.2175 - accuracy: 0.90 - ETA: 0s - loss: 0.2142 - accuracy: 0.90 - ETA: 0s - loss: 0.2253 - accuracy: 0.89 - ETA: 0s - loss: 0.2227 - accuracy: 0.89 - ETA: 0s - loss: 0.2310 - accuracy: 0.89 - ETA: 0s - loss: 0.2333 - accuracy: 0.89 - ETA: 0s - loss: 0.2310 - accuracy: 0.89 - ETA: 0s - loss: 0.2295 - accuracy: 0.89 - ETA: 0s - loss: 0.2258 - accuracy: 0.89 - ETA: 0s - loss: 0.2171 - accuracy: 0.90 - ETA: 0s - loss: 0.2184 - accuracy: 0.90 - ETA: 0s - loss: 0.2217 - accuracy: 0.90 - ETA: 0s - loss: 0.2226 - accuracy: 0.90 - ETA: 0s - loss: 0.2217 - accuracy: 0.90 - 1s 4ms/step - loss: 0.2217 - accuracy: 0.9003 - val_loss: 0.4985 - val_accuracy: 0.8444\n",
      "Epoch 24/50\n"
     ]
    },
    {
     "name": "stdout",
     "output_type": "stream",
     "text": [
      "235/235 [==============================] - ETA: 0s - loss: 0.0913 - accuracy: 0.93 - ETA: 0s - loss: 0.1748 - accuracy: 0.92 - ETA: 0s - loss: 0.1930 - accuracy: 0.91 - ETA: 0s - loss: 0.1930 - accuracy: 0.90 - ETA: 0s - loss: 0.1986 - accuracy: 0.90 - ETA: 0s - loss: 0.1965 - accuracy: 0.90 - ETA: 0s - loss: 0.2048 - accuracy: 0.90 - ETA: 0s - loss: 0.2043 - accuracy: 0.90 - ETA: 0s - loss: 0.2033 - accuracy: 0.90 - ETA: 0s - loss: 0.2058 - accuracy: 0.90 - ETA: 0s - loss: 0.2080 - accuracy: 0.90 - ETA: 0s - loss: 0.2087 - accuracy: 0.90 - ETA: 0s - loss: 0.2102 - accuracy: 0.90 - 1s 3ms/step - loss: 0.2104 - accuracy: 0.9056 - val_loss: 0.4803 - val_accuracy: 0.8396\n",
      "Epoch 25/50\n",
      "235/235 [==============================] - ETA: 0s - loss: 0.1562 - accuracy: 0.93 - ETA: 0s - loss: 0.2104 - accuracy: 0.90 - ETA: 0s - loss: 0.2030 - accuracy: 0.90 - ETA: 0s - loss: 0.1923 - accuracy: 0.90 - ETA: 0s - loss: 0.1878 - accuracy: 0.91 - ETA: 0s - loss: 0.1814 - accuracy: 0.91 - ETA: 0s - loss: 0.1883 - accuracy: 0.91 - ETA: 0s - loss: 0.1913 - accuracy: 0.90 - ETA: 0s - loss: 0.1915 - accuracy: 0.90 - ETA: 0s - loss: 0.1965 - accuracy: 0.90 - ETA: 0s - loss: 0.1993 - accuracy: 0.90 - ETA: 0s - loss: 0.2021 - accuracy: 0.90 - ETA: 0s - loss: 0.2034 - accuracy: 0.90 - 1s 3ms/step - loss: 0.2053 - accuracy: 0.9059 - val_loss: 0.5164 - val_accuracy: 0.8332\n",
      "Epoch 26/50\n",
      "235/235 [==============================] - ETA: 0s - loss: 0.1301 - accuracy: 0.96 - ETA: 0s - loss: 0.2025 - accuracy: 0.91 - ETA: 0s - loss: 0.1833 - accuracy: 0.91 - ETA: 0s - loss: 0.1803 - accuracy: 0.91 - ETA: 0s - loss: 0.1779 - accuracy: 0.91 - ETA: 0s - loss: 0.1901 - accuracy: 0.91 - ETA: 0s - loss: 0.1927 - accuracy: 0.91 - ETA: 0s - loss: 0.1928 - accuracy: 0.91 - ETA: 0s - loss: 0.1965 - accuracy: 0.91 - ETA: 0s - loss: 0.1945 - accuracy: 0.91 - ETA: 0s - loss: 0.1950 - accuracy: 0.91 - ETA: 0s - loss: 0.1959 - accuracy: 0.91 - ETA: 0s - loss: 0.1959 - accuracy: 0.91 - 1s 3ms/step - loss: 0.1956 - accuracy: 0.9133 - val_loss: 0.6021 - val_accuracy: 0.8360\n",
      "Epoch 27/50\n",
      "235/235 [==============================] - ETA: 0s - loss: 0.1772 - accuracy: 0.93 - ETA: 0s - loss: 0.1414 - accuracy: 0.93 - ETA: 0s - loss: 0.1782 - accuracy: 0.92 - ETA: 0s - loss: 0.1793 - accuracy: 0.92 - ETA: 0s - loss: 0.1783 - accuracy: 0.92 - ETA: 0s - loss: 0.1776 - accuracy: 0.92 - ETA: 0s - loss: 0.1799 - accuracy: 0.91 - ETA: 0s - loss: 0.1813 - accuracy: 0.91 - ETA: 0s - loss: 0.1838 - accuracy: 0.91 - ETA: 0s - loss: 0.1862 - accuracy: 0.91 - ETA: 0s - loss: 0.1865 - accuracy: 0.91 - ETA: 0s - loss: 0.1898 - accuracy: 0.91 - ETA: 0s - loss: 0.1897 - accuracy: 0.91 - 1s 3ms/step - loss: 0.1903 - accuracy: 0.9149 - val_loss: 0.5803 - val_accuracy: 0.8244\n",
      "Epoch 28/50\n",
      "235/235 [==============================] - ETA: 0s - loss: 0.1212 - accuracy: 0.96 - ETA: 0s - loss: 0.1531 - accuracy: 0.93 - ETA: 0s - loss: 0.1414 - accuracy: 0.93 - ETA: 0s - loss: 0.1442 - accuracy: 0.93 - ETA: 0s - loss: 0.1543 - accuracy: 0.93 - ETA: 0s - loss: 0.1557 - accuracy: 0.93 - ETA: 0s - loss: 0.1602 - accuracy: 0.92 - ETA: 0s - loss: 0.1669 - accuracy: 0.92 - ETA: 0s - loss: 0.1733 - accuracy: 0.92 - ETA: 0s - loss: 0.1762 - accuracy: 0.92 - ETA: 0s - loss: 0.1799 - accuracy: 0.92 - ETA: 0s - loss: 0.1817 - accuracy: 0.91 - ETA: 0s - loss: 0.1822 - accuracy: 0.91 - 1s 3ms/step - loss: 0.1826 - accuracy: 0.9179 - val_loss: 0.7226 - val_accuracy: 0.8016\n",
      "Epoch 29/50\n",
      "235/235 [==============================] - ETA: 0s - loss: 0.2083 - accuracy: 0.90 - ETA: 0s - loss: 0.1729 - accuracy: 0.92 - ETA: 0s - loss: 0.1676 - accuracy: 0.92 - ETA: 0s - loss: 0.1677 - accuracy: 0.92 - ETA: 0s - loss: 0.1661 - accuracy: 0.92 - ETA: 0s - loss: 0.1654 - accuracy: 0.92 - ETA: 0s - loss: 0.1645 - accuracy: 0.92 - ETA: 0s - loss: 0.1647 - accuracy: 0.92 - ETA: 0s - loss: 0.1659 - accuracy: 0.92 - ETA: 0s - loss: 0.1671 - accuracy: 0.92 - ETA: 0s - loss: 0.1714 - accuracy: 0.92 - ETA: 0s - loss: 0.1724 - accuracy: 0.92 - ETA: 0s - loss: 0.1748 - accuracy: 0.92 - 1s 3ms/step - loss: 0.1765 - accuracy: 0.9212 - val_loss: 0.7362 - val_accuracy: 0.8252\n",
      "Epoch 30/50\n",
      "235/235 [==============================] - ETA: 0s - loss: 0.0848 - accuracy: 0.96 - ETA: 0s - loss: 0.1474 - accuracy: 0.93 - ETA: 0s - loss: 0.1488 - accuracy: 0.93 - ETA: 0s - loss: 0.1530 - accuracy: 0.93 - ETA: 0s - loss: 0.1444 - accuracy: 0.93 - ETA: 0s - loss: 0.1517 - accuracy: 0.93 - ETA: 0s - loss: 0.1550 - accuracy: 0.92 - ETA: 0s - loss: 0.1564 - accuracy: 0.92 - ETA: 0s - loss: 0.1589 - accuracy: 0.92 - ETA: 0s - loss: 0.1601 - accuracy: 0.92 - ETA: 0s - loss: 0.1582 - accuracy: 0.92 - ETA: 0s - loss: 0.1617 - accuracy: 0.92 - ETA: 0s - loss: 0.1663 - accuracy: 0.92 - ETA: 0s - loss: 0.1704 - accuracy: 0.92 - 1s 3ms/step - loss: 0.1702 - accuracy: 0.9219 - val_loss: 0.8323 - val_accuracy: 0.8220\n",
      "Epoch 31/50\n",
      "235/235 [==============================] - ETA: 0s - loss: 0.1279 - accuracy: 0.96 - ETA: 0s - loss: 0.1431 - accuracy: 0.93 - ETA: 0s - loss: 0.1489 - accuracy: 0.93 - ETA: 0s - loss: 0.1455 - accuracy: 0.93 - ETA: 0s - loss: 0.1533 - accuracy: 0.93 - ETA: 0s - loss: 0.1541 - accuracy: 0.93 - ETA: 0s - loss: 0.1665 - accuracy: 0.92 - ETA: 0s - loss: 0.1689 - accuracy: 0.92 - ETA: 0s - loss: 0.1685 - accuracy: 0.92 - ETA: 0s - loss: 0.1689 - accuracy: 0.92 - ETA: 0s - loss: 0.1651 - accuracy: 0.92 - ETA: 0s - loss: 0.1648 - accuracy: 0.92 - ETA: 0s - loss: 0.1634 - accuracy: 0.92 - 1s 3ms/step - loss: 0.1637 - accuracy: 0.9283 - val_loss: 0.8700 - val_accuracy: 0.8292\n",
      "Epoch 32/50\n",
      "235/235 [==============================] - ETA: 0s - loss: 0.2455 - accuracy: 0.87 - ETA: 0s - loss: 0.1277 - accuracy: 0.93 - ETA: 0s - loss: 0.1484 - accuracy: 0.93 - ETA: 0s - loss: 0.1563 - accuracy: 0.92 - ETA: 0s - loss: 0.1563 - accuracy: 0.92 - ETA: 0s - loss: 0.1613 - accuracy: 0.92 - ETA: 0s - loss: 0.1618 - accuracy: 0.92 - ETA: 0s - loss: 0.1624 - accuracy: 0.92 - ETA: 0s - loss: 0.1578 - accuracy: 0.92 - ETA: 0s - loss: 0.1540 - accuracy: 0.92 - ETA: 0s - loss: 0.1533 - accuracy: 0.92 - ETA: 0s - loss: 0.1549 - accuracy: 0.92 - ETA: 0s - loss: 0.1590 - accuracy: 0.92 - 1s 3ms/step - loss: 0.1589 - accuracy: 0.9261 - val_loss: 0.6737 - val_accuracy: 0.8148\n",
      "Epoch 33/50\n",
      "235/235 [==============================] - ETA: 0s - loss: 0.1799 - accuracy: 0.90 - ETA: 0s - loss: 0.1283 - accuracy: 0.94 - ETA: 0s - loss: 0.1294 - accuracy: 0.94 - ETA: 0s - loss: 0.1319 - accuracy: 0.94 - ETA: 0s - loss: 0.1404 - accuracy: 0.93 - ETA: 0s - loss: 0.1464 - accuracy: 0.93 - ETA: 0s - loss: 0.1454 - accuracy: 0.93 - ETA: 0s - loss: 0.1445 - accuracy: 0.93 - ETA: 0s - loss: 0.1461 - accuracy: 0.93 - ETA: 0s - loss: 0.1493 - accuracy: 0.93 - ETA: 0s - loss: 0.1492 - accuracy: 0.93 - ETA: 0s - loss: 0.1504 - accuracy: 0.93 - ETA: 0s - loss: 0.1503 - accuracy: 0.93 - 1s 3ms/step - loss: 0.1497 - accuracy: 0.9333 - val_loss: 0.8042 - val_accuracy: 0.8228\n",
      "Epoch 34/50\n",
      "235/235 [==============================] - ETA: 0s - loss: 0.0943 - accuracy: 0.93 - ETA: 0s - loss: 0.1158 - accuracy: 0.94 - ETA: 0s - loss: 0.1207 - accuracy: 0.94 - ETA: 0s - loss: 0.1208 - accuracy: 0.94 - ETA: 0s - loss: 0.1206 - accuracy: 0.94 - ETA: 0s - loss: 0.1255 - accuracy: 0.94 - ETA: 0s - loss: 0.1228 - accuracy: 0.94 - ETA: 0s - loss: 0.1234 - accuracy: 0.94 - ETA: 0s - loss: 0.1298 - accuracy: 0.94 - ETA: 0s - loss: 0.1328 - accuracy: 0.94 - ETA: 0s - loss: 0.1395 - accuracy: 0.93 - ETA: 0s - loss: 0.1436 - accuracy: 0.93 - ETA: 0s - loss: 0.1456 - accuracy: 0.93 - 1s 3ms/step - loss: 0.1475 - accuracy: 0.9345 - val_loss: 0.7414 - val_accuracy: 0.8352\n",
      "Epoch 35/50\n"
     ]
    },
    {
     "name": "stdout",
     "output_type": "stream",
     "text": [
      "235/235 [==============================] - ETA: 0s - loss: 0.0747 - accuracy: 0.96 - ETA: 0s - loss: 0.1128 - accuracy: 0.95 - ETA: 0s - loss: 0.1240 - accuracy: 0.94 - ETA: 0s - loss: 0.1261 - accuracy: 0.94 - ETA: 0s - loss: 0.1217 - accuracy: 0.94 - ETA: 0s - loss: 0.1249 - accuracy: 0.94 - ETA: 0s - loss: 0.1273 - accuracy: 0.94 - ETA: 0s - loss: 0.1311 - accuracy: 0.94 - ETA: 0s - loss: 0.1338 - accuracy: 0.94 - ETA: 0s - loss: 0.1361 - accuracy: 0.94 - ETA: 0s - loss: 0.1378 - accuracy: 0.94 - ETA: 0s - loss: 0.1389 - accuracy: 0.93 - ETA: 0s - loss: 0.1377 - accuracy: 0.93 - 1s 3ms/step - loss: 0.1371 - accuracy: 0.9387 - val_loss: 0.8891 - val_accuracy: 0.8276\n",
      "Epoch 36/50\n",
      "235/235 [==============================] - ETA: 0s - loss: 0.1882 - accuracy: 0.87 - ETA: 0s - loss: 0.1124 - accuracy: 0.94 - ETA: 0s - loss: 0.1211 - accuracy: 0.93 - ETA: 0s - loss: 0.1083 - accuracy: 0.94 - ETA: 0s - loss: 0.1159 - accuracy: 0.94 - ETA: 0s - loss: 0.1230 - accuracy: 0.94 - ETA: 0s - loss: 0.1287 - accuracy: 0.94 - ETA: 0s - loss: 0.1341 - accuracy: 0.94 - ETA: 0s - loss: 0.1378 - accuracy: 0.94 - ETA: 0s - loss: 0.1398 - accuracy: 0.93 - ETA: 0s - loss: 0.1422 - accuracy: 0.93 - ETA: 0s - loss: 0.1428 - accuracy: 0.93 - ETA: 0s - loss: 0.1410 - accuracy: 0.93 - 1s 3ms/step - loss: 0.1411 - accuracy: 0.9391 - val_loss: 0.8741 - val_accuracy: 0.8172\n",
      "Epoch 37/50\n",
      "235/235 [==============================] - ETA: 0s - loss: 0.0400 - accuracy: 1.00 - ETA: 0s - loss: 0.0905 - accuracy: 0.96 - ETA: 0s - loss: 0.0922 - accuracy: 0.96 - ETA: 0s - loss: 0.1020 - accuracy: 0.96 - ETA: 0s - loss: 0.1096 - accuracy: 0.95 - ETA: 0s - loss: 0.1174 - accuracy: 0.95 - ETA: 0s - loss: 0.1191 - accuracy: 0.95 - ETA: 0s - loss: 0.1191 - accuracy: 0.95 - ETA: 0s - loss: 0.1232 - accuracy: 0.94 - ETA: 0s - loss: 0.1242 - accuracy: 0.94 - ETA: 0s - loss: 0.1252 - accuracy: 0.94 - ETA: 0s - loss: 0.1277 - accuracy: 0.94 - ETA: 0s - loss: 0.1291 - accuracy: 0.94 - 1s 3ms/step - loss: 0.1298 - accuracy: 0.9425 - val_loss: 0.7971 - val_accuracy: 0.8188\n",
      "Epoch 38/50\n",
      "235/235 [==============================] - ETA: 0s - loss: 0.0687 - accuracy: 0.96 - ETA: 0s - loss: 0.1090 - accuracy: 0.95 - ETA: 0s - loss: 0.1056 - accuracy: 0.94 - ETA: 0s - loss: 0.0981 - accuracy: 0.95 - ETA: 0s - loss: 0.1032 - accuracy: 0.95 - ETA: 0s - loss: 0.1067 - accuracy: 0.95 - ETA: 0s - loss: 0.1055 - accuracy: 0.95 - ETA: 0s - loss: 0.1047 - accuracy: 0.95 - ETA: 0s - loss: 0.1074 - accuracy: 0.94 - ETA: 0s - loss: 0.1135 - accuracy: 0.94 - ETA: 0s - loss: 0.1199 - accuracy: 0.94 - ETA: 0s - loss: 0.1253 - accuracy: 0.94 - ETA: 0s - loss: 0.1258 - accuracy: 0.94 - 1s 3ms/step - loss: 0.1253 - accuracy: 0.9457 - val_loss: 0.8578 - val_accuracy: 0.8312\n",
      "Epoch 39/50\n",
      "235/235 [==============================] - ETA: 0s - loss: 0.0443 - accuracy: 1.00 - ETA: 0s - loss: 0.1221 - accuracy: 0.94 - ETA: 0s - loss: 0.1216 - accuracy: 0.94 - ETA: 0s - loss: 0.1143 - accuracy: 0.94 - ETA: 0s - loss: 0.1156 - accuracy: 0.95 - ETA: 0s - loss: 0.1209 - accuracy: 0.94 - ETA: 0s - loss: 0.1186 - accuracy: 0.94 - ETA: 0s - loss: 0.1180 - accuracy: 0.94 - ETA: 0s - loss: 0.1140 - accuracy: 0.95 - ETA: 0s - loss: 0.1135 - accuracy: 0.95 - ETA: 0s - loss: 0.1172 - accuracy: 0.94 - ETA: 0s - loss: 0.1185 - accuracy: 0.94 - ETA: 0s - loss: 0.1189 - accuracy: 0.94 - ETA: 0s - loss: 0.1198 - accuracy: 0.94 - 1s 3ms/step - loss: 0.1199 - accuracy: 0.9465 - val_loss: 0.9526 - val_accuracy: 0.8152\n",
      "Epoch 40/50\n",
      "235/235 [==============================] - ETA: 0s - loss: 0.0422 - accuracy: 1.00 - ETA: 0s - loss: 0.0778 - accuracy: 0.97 - ETA: 0s - loss: 0.0879 - accuracy: 0.96 - ETA: 0s - loss: 0.0892 - accuracy: 0.96 - ETA: 0s - loss: 0.0927 - accuracy: 0.96 - ETA: 0s - loss: 0.0993 - accuracy: 0.95 - ETA: 0s - loss: 0.0954 - accuracy: 0.96 - ETA: 0s - loss: 0.1013 - accuracy: 0.95 - ETA: 0s - loss: 0.1038 - accuracy: 0.95 - ETA: 0s - loss: 0.1056 - accuracy: 0.95 - ETA: 0s - loss: 0.1096 - accuracy: 0.95 - ETA: 0s - loss: 0.1127 - accuracy: 0.95 - ETA: 0s - loss: 0.1119 - accuracy: 0.95 - 1s 3ms/step - loss: 0.1116 - accuracy: 0.9540 - val_loss: 0.9349 - val_accuracy: 0.8280\n",
      "Epoch 41/50\n",
      "235/235 [==============================] - ETA: 0s - loss: 0.0187 - accuracy: 1.00 - ETA: 0s - loss: 0.1015 - accuracy: 0.95 - ETA: 0s - loss: 0.0977 - accuracy: 0.96 - ETA: 0s - loss: 0.0955 - accuracy: 0.95 - ETA: 0s - loss: 0.0962 - accuracy: 0.95 - ETA: 0s - loss: 0.0918 - accuracy: 0.96 - ETA: 0s - loss: 0.0946 - accuracy: 0.96 - ETA: 0s - loss: 0.0992 - accuracy: 0.95 - ETA: 0s - loss: 0.1053 - accuracy: 0.95 - ETA: 0s - loss: 0.1060 - accuracy: 0.95 - ETA: 0s - loss: 0.1060 - accuracy: 0.95 - ETA: 0s - loss: 0.1061 - accuracy: 0.95 - ETA: 0s - loss: 0.1079 - accuracy: 0.95 - 1s 3ms/step - loss: 0.1086 - accuracy: 0.9537 - val_loss: 0.9882 - val_accuracy: 0.8244\n",
      "Epoch 42/50\n",
      "235/235 [==============================] - ETA: 0s - loss: 0.0478 - accuracy: 1.00 - ETA: 0s - loss: 0.0960 - accuracy: 0.97 - ETA: 0s - loss: 0.1074 - accuracy: 0.95 - ETA: 0s - loss: 0.1050 - accuracy: 0.95 - ETA: 0s - loss: 0.0997 - accuracy: 0.95 - ETA: 0s - loss: 0.1025 - accuracy: 0.95 - ETA: 0s - loss: 0.1003 - accuracy: 0.95 - ETA: 0s - loss: 0.1034 - accuracy: 0.95 - ETA: 0s - loss: 0.1064 - accuracy: 0.95 - ETA: 0s - loss: 0.1059 - accuracy: 0.95 - ETA: 0s - loss: 0.1055 - accuracy: 0.95 - ETA: 0s - loss: 0.1058 - accuracy: 0.95 - ETA: 0s - loss: 0.1091 - accuracy: 0.95 - 1s 3ms/step - loss: 0.1086 - accuracy: 0.9549 - val_loss: 0.8995 - val_accuracy: 0.8300\n",
      "Epoch 43/50\n",
      "235/235 [==============================] - ETA: 0s - loss: 0.0225 - accuracy: 1.00 - ETA: 0s - loss: 0.0889 - accuracy: 0.96 - ETA: 0s - loss: 0.0857 - accuracy: 0.96 - ETA: 0s - loss: 0.0793 - accuracy: 0.96 - ETA: 0s - loss: 0.0797 - accuracy: 0.97 - ETA: 0s - loss: 0.0861 - accuracy: 0.96 - ETA: 0s - loss: 0.0885 - accuracy: 0.96 - ETA: 0s - loss: 0.0898 - accuracy: 0.96 - ETA: 0s - loss: 0.0920 - accuracy: 0.96 - ETA: 0s - loss: 0.0961 - accuracy: 0.96 - ETA: 0s - loss: 0.0965 - accuracy: 0.96 - ETA: 0s - loss: 0.0950 - accuracy: 0.96 - ETA: 0s - loss: 0.0969 - accuracy: 0.96 - 1s 3ms/step - loss: 0.0997 - accuracy: 0.9591 - val_loss: 0.9873 - val_accuracy: 0.8204\n",
      "Epoch 44/50\n",
      "235/235 [==============================] - ETA: 0s - loss: 0.0249 - accuracy: 1.00 - ETA: 0s - loss: 0.1214 - accuracy: 0.95 - ETA: 0s - loss: 0.1053 - accuracy: 0.95 - ETA: 0s - loss: 0.0930 - accuracy: 0.96 - ETA: 0s - loss: 0.0942 - accuracy: 0.96 - ETA: 0s - loss: 0.0980 - accuracy: 0.96 - ETA: 0s - loss: 0.0956 - accuracy: 0.96 - ETA: 0s - loss: 0.0929 - accuracy: 0.96 - ETA: 0s - loss: 0.0949 - accuracy: 0.96 - ETA: 0s - loss: 0.0961 - accuracy: 0.96 - ETA: 0s - loss: 0.0968 - accuracy: 0.96 - ETA: 0s - loss: 0.0968 - accuracy: 0.96 - ETA: 0s - loss: 0.0983 - accuracy: 0.95 - 1s 3ms/step - loss: 0.0983 - accuracy: 0.9591 - val_loss: 1.0590 - val_accuracy: 0.8108\n",
      "Epoch 45/50\n",
      "235/235 [==============================] - ETA: 0s - loss: 0.2778 - accuracy: 0.90 - ETA: 0s - loss: 0.0932 - accuracy: 0.96 - ETA: 0s - loss: 0.0934 - accuracy: 0.96 - ETA: 0s - loss: 0.0920 - accuracy: 0.96 - ETA: 0s - loss: 0.0942 - accuracy: 0.96 - ETA: 0s - loss: 0.0888 - accuracy: 0.96 - ETA: 0s - loss: 0.0911 - accuracy: 0.96 - ETA: 0s - loss: 0.0868 - accuracy: 0.96 - ETA: 0s - loss: 0.0879 - accuracy: 0.96 - ETA: 0s - loss: 0.0871 - accuracy: 0.96 - ETA: 0s - loss: 0.0889 - accuracy: 0.96 - ETA: 0s - loss: 0.0916 - accuracy: 0.96 - ETA: 0s - loss: 0.0936 - accuracy: 0.96 - 1s 3ms/step - loss: 0.0934 - accuracy: 0.9599 - val_loss: 1.0192 - val_accuracy: 0.8092\n",
      "Epoch 46/50\n"
     ]
    },
    {
     "name": "stdout",
     "output_type": "stream",
     "text": [
      "235/235 [==============================] - ETA: 0s - loss: 0.1002 - accuracy: 0.96 - ETA: 0s - loss: 0.0641 - accuracy: 0.97 - ETA: 0s - loss: 0.0626 - accuracy: 0.97 - ETA: 0s - loss: 0.0619 - accuracy: 0.97 - ETA: 0s - loss: 0.0640 - accuracy: 0.97 - ETA: 0s - loss: 0.0724 - accuracy: 0.97 - ETA: 0s - loss: 0.0740 - accuracy: 0.97 - ETA: 0s - loss: 0.0738 - accuracy: 0.97 - ETA: 0s - loss: 0.0784 - accuracy: 0.96 - ETA: 0s - loss: 0.0811 - accuracy: 0.96 - ETA: 0s - loss: 0.0838 - accuracy: 0.96 - ETA: 0s - loss: 0.0854 - accuracy: 0.96 - ETA: 0s - loss: 0.0866 - accuracy: 0.96 - ETA: 0s - loss: 0.0873 - accuracy: 0.96 - 1s 3ms/step - loss: 0.0873 - accuracy: 0.9639 - val_loss: 1.2091 - val_accuracy: 0.8156\n",
      "Epoch 47/50\n",
      "235/235 [==============================] - ETA: 0s - loss: 0.1083 - accuracy: 0.96 - ETA: 0s - loss: 0.0848 - accuracy: 0.96 - ETA: 0s - loss: 0.0772 - accuracy: 0.96 - ETA: 0s - loss: 0.0748 - accuracy: 0.97 - ETA: 0s - loss: 0.0886 - accuracy: 0.96 - ETA: 0s - loss: 0.0914 - accuracy: 0.96 - ETA: 0s - loss: 0.0941 - accuracy: 0.96 - ETA: 0s - loss: 0.0909 - accuracy: 0.96 - ETA: 0s - loss: 0.0945 - accuracy: 0.96 - ETA: 0s - loss: 0.0956 - accuracy: 0.96 - ETA: 0s - loss: 0.0937 - accuracy: 0.96 - ETA: 0s - loss: 0.0920 - accuracy: 0.96 - ETA: 0s - loss: 0.0931 - accuracy: 0.96 - 1s 3ms/step - loss: 0.0928 - accuracy: 0.9628 - val_loss: 1.0657 - val_accuracy: 0.8020\n",
      "Epoch 48/50\n",
      "235/235 [==============================] - ETA: 0s - loss: 0.0216 - accuracy: 1.00 - ETA: 0s - loss: 0.0773 - accuracy: 0.97 - ETA: 0s - loss: 0.0726 - accuracy: 0.97 - ETA: 0s - loss: 0.0740 - accuracy: 0.97 - ETA: 0s - loss: 0.0747 - accuracy: 0.97 - ETA: 0s - loss: 0.0767 - accuracy: 0.96 - ETA: 0s - loss: 0.0769 - accuracy: 0.96 - ETA: 0s - loss: 0.0770 - accuracy: 0.96 - ETA: 0s - loss: 0.0795 - accuracy: 0.96 - ETA: 0s - loss: 0.0812 - accuracy: 0.96 - ETA: 0s - loss: 0.0843 - accuracy: 0.96 - ETA: 0s - loss: 0.0857 - accuracy: 0.96 - ETA: 0s - loss: 0.0846 - accuracy: 0.96 - 1s 3ms/step - loss: 0.0846 - accuracy: 0.9652 - val_loss: 1.2012 - val_accuracy: 0.8196\n",
      "Epoch 49/50\n",
      "235/235 [==============================] - ETA: 0s - loss: 0.1003 - accuracy: 0.96 - ETA: 0s - loss: 0.0599 - accuracy: 0.97 - ETA: 0s - loss: 0.0636 - accuracy: 0.97 - ETA: 0s - loss: 0.0656 - accuracy: 0.97 - ETA: 0s - loss: 0.0855 - accuracy: 0.97 - ETA: 0s - loss: 0.0885 - accuracy: 0.97 - ETA: 0s - loss: 0.0912 - accuracy: 0.96 - ETA: 0s - loss: 0.0899 - accuracy: 0.96 - ETA: 0s - loss: 0.0878 - accuracy: 0.96 - ETA: 0s - loss: 0.0862 - accuracy: 0.96 - ETA: 0s - loss: 0.0829 - accuracy: 0.96 - ETA: 0s - loss: 0.0843 - accuracy: 0.96 - ETA: 0s - loss: 0.0870 - accuracy: 0.96 - 1s 3ms/step - loss: 0.0867 - accuracy: 0.9684 - val_loss: 0.9562 - val_accuracy: 0.8172\n",
      "Epoch 50/50\n",
      "235/235 [==============================] - ETA: 0s - loss: 0.1095 - accuracy: 0.96 - ETA: 0s - loss: 0.0689 - accuracy: 0.97 - ETA: 0s - loss: 0.0744 - accuracy: 0.97 - ETA: 0s - loss: 0.0831 - accuracy: 0.96 - ETA: 0s - loss: 0.0795 - accuracy: 0.97 - ETA: 0s - loss: 0.0790 - accuracy: 0.97 - ETA: 0s - loss: 0.0831 - accuracy: 0.96 - ETA: 0s - loss: 0.0846 - accuracy: 0.96 - ETA: 0s - loss: 0.0829 - accuracy: 0.96 - ETA: 0s - loss: 0.0815 - accuracy: 0.96 - ETA: 0s - loss: 0.0821 - accuracy: 0.96 - ETA: 0s - loss: 0.0836 - accuracy: 0.96 - ETA: 0s - loss: 0.0831 - accuracy: 0.96 - 1s 3ms/step - loss: 0.0843 - accuracy: 0.9672 - val_loss: 1.0415 - val_accuracy: 0.8168\n"
     ]
    },
    {
     "data": {
      "text/html": [
       "<span style=\"color:#4527A0\"><h1 style=\"font-size:18px\">Trial complete</h1></span>"
      ],
      "text/plain": [
       "<IPython.core.display.HTML object>"
      ]
     },
     "metadata": {},
     "output_type": "display_data"
    },
    {
     "data": {
      "text/html": [
       "<span style=\"color:#4527A0\"><h1 style=\"font-size:18px\">Trial summary</h1></span>"
      ],
      "text/plain": [
       "<IPython.core.display.HTML object>"
      ]
     },
     "metadata": {},
     "output_type": "display_data"
    },
    {
     "data": {
      "text/html": [
       "<span style=\"color:cyan\"> |-Trial ID: bac3ee5e1564e3a45c66287d0cc4cb4c</span>"
      ],
      "text/plain": [
       "<IPython.core.display.HTML object>"
      ]
     },
     "metadata": {},
     "output_type": "display_data"
    },
    {
     "data": {
      "text/html": [
       "<span style=\"color:cyan\"> |-Score: 0.8621333440144857</span>"
      ],
      "text/plain": [
       "<IPython.core.display.HTML object>"
      ]
     },
     "metadata": {},
     "output_type": "display_data"
    },
    {
     "data": {
      "text/html": [
       "<span style=\"color:cyan\"> |-Best step: 0</span>"
      ],
      "text/plain": [
       "<IPython.core.display.HTML object>"
      ]
     },
     "metadata": {},
     "output_type": "display_data"
    },
    {
     "data": {
      "text/html": [
       "<span style=\"color:#7E57C2\"><h2 style=\"font-size:16px\">Hyperparameters:</h2></span>"
      ],
      "text/plain": [
       "<IPython.core.display.HTML object>"
      ]
     },
     "metadata": {},
     "output_type": "display_data"
    },
    {
     "data": {
      "text/html": [
       "<span style=\"color:cyan\"> |-learning_rate: 0.001</span>"
      ],
      "text/plain": [
       "<IPython.core.display.HTML object>"
      ]
     },
     "metadata": {},
     "output_type": "display_data"
    },
    {
     "data": {
      "text/html": [
       "<span style=\"color:blue\"> |-num_layers: 6</span>"
      ],
      "text/plain": [
       "<IPython.core.display.HTML object>"
      ]
     },
     "metadata": {},
     "output_type": "display_data"
    },
    {
     "data": {
      "text/html": [
       "<span style=\"color:cyan\"> |-units_0: 320</span>"
      ],
      "text/plain": [
       "<IPython.core.display.HTML object>"
      ]
     },
     "metadata": {},
     "output_type": "display_data"
    },
    {
     "data": {
      "text/html": [
       "<span style=\"color:blue\"> |-units_1: 96</span>"
      ],
      "text/plain": [
       "<IPython.core.display.HTML object>"
      ]
     },
     "metadata": {},
     "output_type": "display_data"
    },
    {
     "data": {
      "text/html": [
       "<span style=\"color:cyan\"> |-units_10: 352</span>"
      ],
      "text/plain": [
       "<IPython.core.display.HTML object>"
      ]
     },
     "metadata": {},
     "output_type": "display_data"
    },
    {
     "data": {
      "text/html": [
       "<span style=\"color:blue\"> |-units_11: 448</span>"
      ],
      "text/plain": [
       "<IPython.core.display.HTML object>"
      ]
     },
     "metadata": {},
     "output_type": "display_data"
    },
    {
     "data": {
      "text/html": [
       "<span style=\"color:cyan\"> |-units_2: 352</span>"
      ],
      "text/plain": [
       "<IPython.core.display.HTML object>"
      ]
     },
     "metadata": {},
     "output_type": "display_data"
    },
    {
     "data": {
      "text/html": [
       "<span style=\"color:blue\"> |-units_3: 96</span>"
      ],
      "text/plain": [
       "<IPython.core.display.HTML object>"
      ]
     },
     "metadata": {},
     "output_type": "display_data"
    },
    {
     "data": {
      "text/html": [
       "<span style=\"color:cyan\"> |-units_4: 288</span>"
      ],
      "text/plain": [
       "<IPython.core.display.HTML object>"
      ]
     },
     "metadata": {},
     "output_type": "display_data"
    },
    {
     "data": {
      "text/html": [
       "<span style=\"color:blue\"> |-units_5: 384</span>"
      ],
      "text/plain": [
       "<IPython.core.display.HTML object>"
      ]
     },
     "metadata": {},
     "output_type": "display_data"
    },
    {
     "data": {
      "text/html": [
       "<span style=\"color:cyan\"> |-units_6: 288</span>"
      ],
      "text/plain": [
       "<IPython.core.display.HTML object>"
      ]
     },
     "metadata": {},
     "output_type": "display_data"
    },
    {
     "data": {
      "text/html": [
       "<span style=\"color:blue\"> |-units_7: 128</span>"
      ],
      "text/plain": [
       "<IPython.core.display.HTML object>"
      ]
     },
     "metadata": {},
     "output_type": "display_data"
    },
    {
     "data": {
      "text/html": [
       "<span style=\"color:cyan\"> |-units_8: 192</span>"
      ],
      "text/plain": [
       "<IPython.core.display.HTML object>"
      ]
     },
     "metadata": {},
     "output_type": "display_data"
    },
    {
     "data": {
      "text/html": [
       "<span style=\"color:blue\"> |-units_9: 448</span>"
      ],
      "text/plain": [
       "<IPython.core.display.HTML object>"
      ]
     },
     "metadata": {},
     "output_type": "display_data"
    },
    {
     "name": "stdout",
     "output_type": "stream",
     "text": [
      "Epoch 1/50\n",
      "235/235 [==============================] - ETA: 0s - loss: 0.6916 - accuracy: 0.62 - ETA: 1s - loss: 0.5376 - accuracy: 0.78 - ETA: 1s - loss: 0.5355 - accuracy: 0.76 - ETA: 1s - loss: 0.5108 - accuracy: 0.78 - ETA: 1s - loss: 0.5016 - accuracy: 0.77 - ETA: 1s - loss: 0.4812 - accuracy: 0.78 - ETA: 0s - loss: 0.4721 - accuracy: 0.79 - ETA: 0s - loss: 0.4637 - accuracy: 0.80 - ETA: 0s - loss: 0.4605 - accuracy: 0.80 - ETA: 0s - loss: 0.4462 - accuracy: 0.81 - ETA: 0s - loss: 0.4445 - accuracy: 0.81 - ETA: 0s - loss: 0.4459 - accuracy: 0.81 - ETA: 0s - loss: 0.4408 - accuracy: 0.81 - ETA: 0s - loss: 0.4356 - accuracy: 0.81 - ETA: 0s - loss: 0.4335 - accuracy: 0.81 - ETA: 0s - loss: 0.4273 - accuracy: 0.82 - ETA: 0s - loss: 0.4254 - accuracy: 0.82 - ETA: 0s - loss: 0.4209 - accuracy: 0.82 - ETA: 0s - loss: 0.4148 - accuracy: 0.82 - ETA: 0s - loss: 0.4099 - accuracy: 0.83 - 1s 6ms/step - loss: 0.4059 - accuracy: 0.8325 - val_loss: 0.3581 - val_accuracy: 0.8612\n",
      "Epoch 2/50\n",
      "235/235 [==============================] - ETA: 0s - loss: 0.2463 - accuracy: 0.87 - ETA: 1s - loss: 0.3392 - accuracy: 0.87 - ETA: 0s - loss: 0.3440 - accuracy: 0.86 - ETA: 0s - loss: 0.3517 - accuracy: 0.86 - ETA: 0s - loss: 0.3662 - accuracy: 0.85 - ETA: 0s - loss: 0.3607 - accuracy: 0.86 - ETA: 0s - loss: 0.3531 - accuracy: 0.86 - ETA: 0s - loss: 0.3531 - accuracy: 0.86 - ETA: 0s - loss: 0.3574 - accuracy: 0.85 - ETA: 0s - loss: 0.3567 - accuracy: 0.85 - ETA: 0s - loss: 0.3589 - accuracy: 0.85 - ETA: 0s - loss: 0.3563 - accuracy: 0.85 - ETA: 0s - loss: 0.3576 - accuracy: 0.85 - ETA: 0s - loss: 0.3566 - accuracy: 0.85 - ETA: 0s - loss: 0.3588 - accuracy: 0.85 - ETA: 0s - loss: 0.3605 - accuracy: 0.85 - ETA: 0s - loss: 0.3604 - accuracy: 0.85 - ETA: 0s - loss: 0.3573 - accuracy: 0.85 - ETA: 0s - loss: 0.3558 - accuracy: 0.85 - ETA: 0s - loss: 0.3563 - accuracy: 0.85 - 1s 5ms/step - loss: 0.3552 - accuracy: 0.8553 - val_loss: 0.3478 - val_accuracy: 0.8648\n",
      "Epoch 3/50\n",
      "235/235 [==============================] - ETA: 0s - loss: 0.3229 - accuracy: 0.87 - ETA: 0s - loss: 0.2955 - accuracy: 0.88 - ETA: 0s - loss: 0.2934 - accuracy: 0.88 - ETA: 0s - loss: 0.2960 - accuracy: 0.88 - ETA: 0s - loss: 0.3180 - accuracy: 0.86 - ETA: 0s - loss: 0.3193 - accuracy: 0.87 - ETA: 0s - loss: 0.3341 - accuracy: 0.86 - ETA: 0s - loss: 0.3291 - accuracy: 0.87 - ETA: 0s - loss: 0.3340 - accuracy: 0.86 - ETA: 0s - loss: 0.3343 - accuracy: 0.86 - ETA: 0s - loss: 0.3390 - accuracy: 0.86 - ETA: 0s - loss: 0.3425 - accuracy: 0.86 - ETA: 0s - loss: 0.3419 - accuracy: 0.86 - ETA: 0s - loss: 0.3411 - accuracy: 0.86 - ETA: 0s - loss: 0.3432 - accuracy: 0.86 - ETA: 0s - loss: 0.3399 - accuracy: 0.86 - ETA: 0s - loss: 0.3430 - accuracy: 0.86 - ETA: 0s - loss: 0.3450 - accuracy: 0.86 - 1s 4ms/step - loss: 0.3461 - accuracy: 0.8599 - val_loss: 0.3474 - val_accuracy: 0.8516\n",
      "Epoch 4/50\n",
      "235/235 [==============================] - ETA: 0s - loss: 0.2060 - accuracy: 0.93 - ETA: 0s - loss: 0.3042 - accuracy: 0.87 - ETA: 0s - loss: 0.3133 - accuracy: 0.87 - ETA: 0s - loss: 0.3340 - accuracy: 0.86 - ETA: 0s - loss: 0.3418 - accuracy: 0.85 - ETA: 0s - loss: 0.3272 - accuracy: 0.86 - ETA: 0s - loss: 0.3245 - accuracy: 0.86 - ETA: 0s - loss: 0.3280 - accuracy: 0.86 - ETA: 0s - loss: 0.3360 - accuracy: 0.86 - ETA: 0s - loss: 0.3394 - accuracy: 0.86 - ETA: 0s - loss: 0.3388 - accuracy: 0.86 - ETA: 0s - loss: 0.3403 - accuracy: 0.86 - ETA: 0s - loss: 0.3367 - accuracy: 0.86 - ETA: 0s - loss: 0.3396 - accuracy: 0.86 - ETA: 0s - loss: 0.3400 - accuracy: 0.86 - ETA: 0s - loss: 0.3406 - accuracy: 0.86 - ETA: 0s - loss: 0.3429 - accuracy: 0.86 - ETA: 0s - loss: 0.3425 - accuracy: 0.86 - ETA: 0s - loss: 0.3394 - accuracy: 0.86 - 1s 5ms/step - loss: 0.3390 - accuracy: 0.8633 - val_loss: 0.3549 - val_accuracy: 0.8432\n",
      "Epoch 5/50\n",
      "235/235 [==============================] - ETA: 0s - loss: 0.2201 - accuracy: 0.96 - ETA: 0s - loss: 0.2920 - accuracy: 0.88 - ETA: 0s - loss: 0.3166 - accuracy: 0.87 - ETA: 0s - loss: 0.3181 - accuracy: 0.87 - ETA: 0s - loss: 0.3180 - accuracy: 0.87 - ETA: 0s - loss: 0.3216 - accuracy: 0.87 - ETA: 0s - loss: 0.3251 - accuracy: 0.86 - ETA: 0s - loss: 0.3240 - accuracy: 0.86 - ETA: 0s - loss: 0.3219 - accuracy: 0.86 - ETA: 0s - loss: 0.3264 - accuracy: 0.86 - ETA: 0s - loss: 0.3277 - accuracy: 0.86 - ETA: 0s - loss: 0.3263 - accuracy: 0.86 - ETA: 0s - loss: 0.3283 - accuracy: 0.86 - ETA: 0s - loss: 0.3310 - accuracy: 0.86 - ETA: 0s - loss: 0.3302 - accuracy: 0.86 - ETA: 0s - loss: 0.3303 - accuracy: 0.86 - ETA: 0s - loss: 0.3288 - accuracy: 0.86 - ETA: 0s - loss: 0.3304 - accuracy: 0.86 - 1s 5ms/step - loss: 0.3322 - accuracy: 0.8641 - val_loss: 0.3482 - val_accuracy: 0.8468\n",
      "Epoch 6/50\n",
      "235/235 [==============================] - ETA: 0s - loss: 0.3253 - accuracy: 0.84 - ETA: 0s - loss: 0.3337 - accuracy: 0.86 - ETA: 0s - loss: 0.3272 - accuracy: 0.86 - ETA: 0s - loss: 0.3204 - accuracy: 0.87 - ETA: 0s - loss: 0.3196 - accuracy: 0.86 - ETA: 0s - loss: 0.3264 - accuracy: 0.86 - ETA: 0s - loss: 0.3202 - accuracy: 0.86 - ETA: 0s - loss: 0.3245 - accuracy: 0.86 - ETA: 0s - loss: 0.3284 - accuracy: 0.86 - ETA: 0s - loss: 0.3308 - accuracy: 0.86 - ETA: 0s - loss: 0.3301 - accuracy: 0.86 - ETA: 0s - loss: 0.3260 - accuracy: 0.86 - ETA: 0s - loss: 0.3221 - accuracy: 0.86 - ETA: 0s - loss: 0.3228 - accuracy: 0.86 - ETA: 0s - loss: 0.3231 - accuracy: 0.86 - ETA: 0s - loss: 0.3200 - accuracy: 0.86 - ETA: 0s - loss: 0.3227 - accuracy: 0.86 - ETA: 0s - loss: 0.3203 - accuracy: 0.86 - ETA: 0s - loss: 0.3231 - accuracy: 0.86 - ETA: 0s - loss: 0.3253 - accuracy: 0.86 - ETA: 0s - loss: 0.3229 - accuracy: 0.86 - 1s 5ms/step - loss: 0.3235 - accuracy: 0.8659 - val_loss: 0.3489 - val_accuracy: 0.8576\n",
      "Epoch 7/50\n",
      "235/235 [==============================] - ETA: 0s - loss: 0.5122 - accuracy: 0.75 - ETA: 1s - loss: 0.3114 - accuracy: 0.86 - ETA: 1s - loss: 0.3339 - accuracy: 0.85 - ETA: 1s - loss: 0.3216 - accuracy: 0.86 - ETA: 0s - loss: 0.3139 - accuracy: 0.86 - ETA: 0s - loss: 0.3142 - accuracy: 0.86 - ETA: 0s - loss: 0.3072 - accuracy: 0.87 - ETA: 0s - loss: 0.3051 - accuracy: 0.87 - ETA: 0s - loss: 0.3042 - accuracy: 0.87 - ETA: 0s - loss: 0.3184 - accuracy: 0.86 - ETA: 0s - loss: 0.3247 - accuracy: 0.86 - ETA: 0s - loss: 0.3250 - accuracy: 0.86 - ETA: 0s - loss: 0.3252 - accuracy: 0.86 - ETA: 0s - loss: 0.3267 - accuracy: 0.86 - ETA: 0s - loss: 0.3234 - accuracy: 0.86 - ETA: 0s - loss: 0.3222 - accuracy: 0.86 - ETA: 0s - loss: 0.3195 - accuracy: 0.86 - ETA: 0s - loss: 0.3222 - accuracy: 0.86 - ETA: 0s - loss: 0.3261 - accuracy: 0.86 - ETA: 0s - loss: 0.3257 - accuracy: 0.86 - ETA: 0s - loss: 0.3211 - accuracy: 0.86 - ETA: 0s - loss: 0.3215 - accuracy: 0.86 - 1s 5ms/step - loss: 0.3207 - accuracy: 0.8672 - val_loss: 0.3499 - val_accuracy: 0.8564\n",
      "Epoch 8/50\n",
      "235/235 [==============================] - ETA: 0s - loss: 0.2163 - accuracy: 0.84 - ETA: 0s - loss: 0.3376 - accuracy: 0.85 - ETA: 0s - loss: 0.3204 - accuracy: 0.86 - ETA: 0s - loss: 0.3156 - accuracy: 0.86 - ETA: 0s - loss: 0.3122 - accuracy: 0.87 - ETA: 0s - loss: 0.2953 - accuracy: 0.88 - ETA: 0s - loss: 0.2941 - accuracy: 0.88 - ETA: 0s - loss: 0.2957 - accuracy: 0.87 - ETA: 0s - loss: 0.2984 - accuracy: 0.88 - ETA: 0s - loss: 0.3004 - accuracy: 0.87 - ETA: 0s - loss: 0.2988 - accuracy: 0.88 - ETA: 0s - loss: 0.2977 - accuracy: 0.88 - ETA: 0s - loss: 0.3000 - accuracy: 0.88 - ETA: 0s - loss: 0.3029 - accuracy: 0.87 - ETA: 0s - loss: 0.3040 - accuracy: 0.87 - ETA: 0s - loss: 0.3064 - accuracy: 0.87 - ETA: 0s - loss: 0.3068 - accuracy: 0.87 - ETA: 0s - loss: 0.3089 - accuracy: 0.87 - ETA: 0s - loss: 0.3091 - accuracy: 0.87 - ETA: 0s - loss: 0.3128 - accuracy: 0.87 - ETA: 0s - loss: 0.3143 - accuracy: 0.87 - ETA: 0s - loss: 0.3138 - accuracy: 0.87 - ETA: 0s - loss: 0.3142 - accuracy: 0.87 - 1s 6ms/step - loss: 0.3142 - accuracy: 0.8717 - val_loss: 0.3593 - val_accuracy: 0.8560\n",
      "Epoch 9/50\n"
     ]
    },
    {
     "name": "stdout",
     "output_type": "stream",
     "text": [
      "235/235 [==============================] - ETA: 0s - loss: 0.3672 - accuracy: 0.87 - ETA: 0s - loss: 0.3389 - accuracy: 0.85 - ETA: 0s - loss: 0.3485 - accuracy: 0.84 - ETA: 0s - loss: 0.3350 - accuracy: 0.85 - ETA: 0s - loss: 0.3203 - accuracy: 0.86 - ETA: 0s - loss: 0.3248 - accuracy: 0.86 - ETA: 0s - loss: 0.3176 - accuracy: 0.86 - ETA: 0s - loss: 0.3185 - accuracy: 0.86 - ETA: 0s - loss: 0.3150 - accuracy: 0.86 - ETA: 0s - loss: 0.3142 - accuracy: 0.86 - ETA: 0s - loss: 0.3142 - accuracy: 0.86 - ETA: 0s - loss: 0.3113 - accuracy: 0.86 - ETA: 0s - loss: 0.3101 - accuracy: 0.87 - ETA: 0s - loss: 0.3092 - accuracy: 0.87 - ETA: 0s - loss: 0.3106 - accuracy: 0.87 - ETA: 0s - loss: 0.3103 - accuracy: 0.87 - ETA: 0s - loss: 0.3112 - accuracy: 0.87 - ETA: 0s - loss: 0.3107 - accuracy: 0.87 - ETA: 0s - loss: 0.3119 - accuracy: 0.87 - ETA: 0s - loss: 0.3126 - accuracy: 0.87 - ETA: 0s - loss: 0.3081 - accuracy: 0.87 - 1s 5ms/step - loss: 0.3079 - accuracy: 0.8736 - val_loss: 0.3738 - val_accuracy: 0.8552\n",
      "Epoch 10/50\n",
      "235/235 [==============================] - ETA: 0s - loss: 0.4005 - accuracy: 0.81 - ETA: 0s - loss: 0.2470 - accuracy: 0.89 - ETA: 1s - loss: 0.2681 - accuracy: 0.89 - ETA: 0s - loss: 0.2770 - accuracy: 0.88 - ETA: 0s - loss: 0.2837 - accuracy: 0.88 - ETA: 0s - loss: 0.2879 - accuracy: 0.88 - ETA: 0s - loss: 0.2880 - accuracy: 0.88 - ETA: 0s - loss: 0.2845 - accuracy: 0.88 - ETA: 0s - loss: 0.2824 - accuracy: 0.88 - ETA: 0s - loss: 0.2890 - accuracy: 0.88 - ETA: 0s - loss: 0.2913 - accuracy: 0.88 - ETA: 0s - loss: 0.2963 - accuracy: 0.87 - ETA: 0s - loss: 0.2994 - accuracy: 0.87 - ETA: 0s - loss: 0.2992 - accuracy: 0.87 - ETA: 0s - loss: 0.3017 - accuracy: 0.87 - ETA: 0s - loss: 0.2988 - accuracy: 0.87 - ETA: 0s - loss: 0.3006 - accuracy: 0.87 - ETA: 0s - loss: 0.3008 - accuracy: 0.87 - ETA: 0s - loss: 0.2994 - accuracy: 0.87 - 1s 5ms/step - loss: 0.3008 - accuracy: 0.8752 - val_loss: 0.3722 - val_accuracy: 0.8424\n",
      "Epoch 11/50\n",
      "235/235 [==============================] - ETA: 0s - loss: 0.3465 - accuracy: 0.84 - ETA: 0s - loss: 0.3050 - accuracy: 0.86 - ETA: 0s - loss: 0.3071 - accuracy: 0.86 - ETA: 0s - loss: 0.2871 - accuracy: 0.87 - ETA: 0s - loss: 0.2896 - accuracy: 0.87 - ETA: 0s - loss: 0.2883 - accuracy: 0.88 - ETA: 0s - loss: 0.2910 - accuracy: 0.87 - ETA: 0s - loss: 0.2979 - accuracy: 0.87 - ETA: 0s - loss: 0.2949 - accuracy: 0.87 - ETA: 0s - loss: 0.2990 - accuracy: 0.87 - ETA: 0s - loss: 0.3021 - accuracy: 0.87 - ETA: 0s - loss: 0.3030 - accuracy: 0.87 - ETA: 0s - loss: 0.2981 - accuracy: 0.87 - ETA: 0s - loss: 0.2958 - accuracy: 0.87 - ETA: 0s - loss: 0.2980 - accuracy: 0.87 - ETA: 0s - loss: 0.2964 - accuracy: 0.87 - ETA: 0s - loss: 0.2940 - accuracy: 0.88 - ETA: 0s - loss: 0.2941 - accuracy: 0.88 - ETA: 0s - loss: 0.2945 - accuracy: 0.87 - ETA: 0s - loss: 0.2960 - accuracy: 0.87 - ETA: 0s - loss: 0.2976 - accuracy: 0.87 - 1s 5ms/step - loss: 0.2968 - accuracy: 0.8773 - val_loss: 0.3792 - val_accuracy: 0.8536\n",
      "Epoch 12/50\n",
      "235/235 [==============================] - ETA: 0s - loss: 0.2718 - accuracy: 0.87 - ETA: 1s - loss: 0.2603 - accuracy: 0.88 - ETA: 0s - loss: 0.2588 - accuracy: 0.89 - ETA: 0s - loss: 0.2595 - accuracy: 0.89 - ETA: 0s - loss: 0.2521 - accuracy: 0.89 - ETA: 0s - loss: 0.2704 - accuracy: 0.89 - ETA: 0s - loss: 0.2649 - accuracy: 0.89 - ETA: 0s - loss: 0.2662 - accuracy: 0.89 - ETA: 0s - loss: 0.2700 - accuracy: 0.89 - ETA: 0s - loss: 0.2747 - accuracy: 0.88 - ETA: 0s - loss: 0.2736 - accuracy: 0.88 - ETA: 0s - loss: 0.2735 - accuracy: 0.88 - ETA: 0s - loss: 0.2752 - accuracy: 0.88 - ETA: 0s - loss: 0.2765 - accuracy: 0.88 - ETA: 0s - loss: 0.2847 - accuracy: 0.88 - ETA: 0s - loss: 0.2898 - accuracy: 0.87 - ETA: 0s - loss: 0.2907 - accuracy: 0.87 - ETA: 0s - loss: 0.2897 - accuracy: 0.87 - ETA: 0s - loss: 0.2908 - accuracy: 0.87 - ETA: 0s - loss: 0.2907 - accuracy: 0.87 - 1s 5ms/step - loss: 0.2913 - accuracy: 0.8765 - val_loss: 0.3810 - val_accuracy: 0.8568\n",
      "Epoch 13/50\n",
      "235/235 [==============================] - ETA: 0s - loss: 0.3675 - accuracy: 0.84 - ETA: 0s - loss: 0.3238 - accuracy: 0.86 - ETA: 0s - loss: 0.3017 - accuracy: 0.87 - ETA: 0s - loss: 0.2870 - accuracy: 0.88 - ETA: 0s - loss: 0.2717 - accuracy: 0.88 - ETA: 0s - loss: 0.2715 - accuracy: 0.88 - ETA: 0s - loss: 0.2691 - accuracy: 0.89 - ETA: 0s - loss: 0.2678 - accuracy: 0.89 - ETA: 0s - loss: 0.2730 - accuracy: 0.88 - ETA: 0s - loss: 0.2722 - accuracy: 0.88 - ETA: 0s - loss: 0.2755 - accuracy: 0.88 - ETA: 0s - loss: 0.2782 - accuracy: 0.88 - ETA: 0s - loss: 0.2785 - accuracy: 0.88 - ETA: 0s - loss: 0.2806 - accuracy: 0.88 - ETA: 0s - loss: 0.2814 - accuracy: 0.88 - ETA: 0s - loss: 0.2788 - accuracy: 0.88 - ETA: 0s - loss: 0.2792 - accuracy: 0.88 - ETA: 0s - loss: 0.2827 - accuracy: 0.88 - ETA: 0s - loss: 0.2839 - accuracy: 0.88 - ETA: 0s - loss: 0.2865 - accuracy: 0.87 - ETA: 0s - loss: 0.2849 - accuracy: 0.87 - 1s 5ms/step - loss: 0.2849 - accuracy: 0.8789 - val_loss: 0.4247 - val_accuracy: 0.8520\n",
      "Epoch 14/50\n",
      "235/235 [==============================] - ETA: 0s - loss: 0.2976 - accuracy: 0.90 - ETA: 1s - loss: 0.2888 - accuracy: 0.88 - ETA: 1s - loss: 0.2746 - accuracy: 0.88 - ETA: 1s - loss: 0.2736 - accuracy: 0.88 - ETA: 1s - loss: 0.2693 - accuracy: 0.88 - ETA: 0s - loss: 0.2829 - accuracy: 0.87 - ETA: 0s - loss: 0.2870 - accuracy: 0.87 - ETA: 0s - loss: 0.2894 - accuracy: 0.87 - ETA: 0s - loss: 0.2923 - accuracy: 0.87 - ETA: 0s - loss: 0.2900 - accuracy: 0.87 - ETA: 0s - loss: 0.2879 - accuracy: 0.87 - ETA: 0s - loss: 0.2860 - accuracy: 0.87 - ETA: 0s - loss: 0.2818 - accuracy: 0.87 - ETA: 0s - loss: 0.2822 - accuracy: 0.87 - ETA: 0s - loss: 0.2817 - accuracy: 0.87 - ETA: 0s - loss: 0.2796 - accuracy: 0.88 - ETA: 0s - loss: 0.2781 - accuracy: 0.88 - ETA: 0s - loss: 0.2781 - accuracy: 0.88 - ETA: 0s - loss: 0.2780 - accuracy: 0.88 - ETA: 0s - loss: 0.2804 - accuracy: 0.87 - ETA: 0s - loss: 0.2800 - accuracy: 0.87 - ETA: 0s - loss: 0.2778 - accuracy: 0.88 - 1s 6ms/step - loss: 0.2783 - accuracy: 0.8803 - val_loss: 0.4101 - val_accuracy: 0.8464\n",
      "Epoch 15/50\n",
      "235/235 [==============================] - ETA: 0s - loss: 0.2092 - accuracy: 0.90 - ETA: 1s - loss: 0.2595 - accuracy: 0.86 - ETA: 1s - loss: 0.2633 - accuracy: 0.87 - ETA: 1s - loss: 0.2437 - accuracy: 0.89 - ETA: 1s - loss: 0.2312 - accuracy: 0.90 - ETA: 0s - loss: 0.2441 - accuracy: 0.89 - ETA: 0s - loss: 0.2472 - accuracy: 0.89 - ETA: 0s - loss: 0.2487 - accuracy: 0.89 - ETA: 0s - loss: 0.2511 - accuracy: 0.89 - ETA: 0s - loss: 0.2567 - accuracy: 0.88 - ETA: 0s - loss: 0.2552 - accuracy: 0.89 - ETA: 0s - loss: 0.2576 - accuracy: 0.88 - ETA: 0s - loss: 0.2597 - accuracy: 0.88 - ETA: 0s - loss: 0.2598 - accuracy: 0.88 - ETA: 0s - loss: 0.2621 - accuracy: 0.88 - ETA: 0s - loss: 0.2627 - accuracy: 0.88 - ETA: 0s - loss: 0.2621 - accuracy: 0.88 - ETA: 0s - loss: 0.2587 - accuracy: 0.88 - ETA: 0s - loss: 0.2608 - accuracy: 0.88 - ETA: 0s - loss: 0.2621 - accuracy: 0.88 - ETA: 0s - loss: 0.2647 - accuracy: 0.88 - ETA: 0s - loss: 0.2650 - accuracy: 0.88 - ETA: 0s - loss: 0.2666 - accuracy: 0.88 - 1s 6ms/step - loss: 0.2653 - accuracy: 0.8843 - val_loss: 0.4052 - val_accuracy: 0.8468\n",
      "Epoch 16/50\n"
     ]
    },
    {
     "name": "stdout",
     "output_type": "stream",
     "text": [
      "235/235 [==============================] - ETA: 0s - loss: 0.2708 - accuracy: 0.87 - ETA: 1s - loss: 0.2167 - accuracy: 0.91 - ETA: 1s - loss: 0.2117 - accuracy: 0.91 - ETA: 1s - loss: 0.2151 - accuracy: 0.91 - ETA: 1s - loss: 0.2200 - accuracy: 0.90 - ETA: 1s - loss: 0.2276 - accuracy: 0.90 - ETA: 1s - loss: 0.2325 - accuracy: 0.89 - ETA: 1s - loss: 0.2311 - accuracy: 0.90 - ETA: 1s - loss: 0.2384 - accuracy: 0.90 - ETA: 0s - loss: 0.2385 - accuracy: 0.90 - ETA: 0s - loss: 0.2438 - accuracy: 0.89 - ETA: 0s - loss: 0.2430 - accuracy: 0.89 - ETA: 0s - loss: 0.2457 - accuracy: 0.89 - ETA: 0s - loss: 0.2459 - accuracy: 0.89 - ETA: 0s - loss: 0.2498 - accuracy: 0.89 - ETA: 0s - loss: 0.2533 - accuracy: 0.89 - ETA: 0s - loss: 0.2560 - accuracy: 0.88 - ETA: 0s - loss: 0.2590 - accuracy: 0.88 - ETA: 0s - loss: 0.2604 - accuracy: 0.88 - ETA: 0s - loss: 0.2593 - accuracy: 0.88 - ETA: 0s - loss: 0.2586 - accuracy: 0.88 - ETA: 0s - loss: 0.2601 - accuracy: 0.88 - ETA: 0s - loss: 0.2605 - accuracy: 0.88 - ETA: 0s - loss: 0.2612 - accuracy: 0.88 - 1s 6ms/step - loss: 0.2624 - accuracy: 0.8869 - val_loss: 0.4205 - val_accuracy: 0.8552\n",
      "Epoch 17/50\n",
      "235/235 [==============================] - ETA: 0s - loss: 0.2147 - accuracy: 0.87 - ETA: 1s - loss: 0.2281 - accuracy: 0.89 - ETA: 1s - loss: 0.2420 - accuracy: 0.88 - ETA: 1s - loss: 0.2333 - accuracy: 0.89 - ETA: 1s - loss: 0.2326 - accuracy: 0.88 - ETA: 1s - loss: 0.2233 - accuracy: 0.89 - ETA: 0s - loss: 0.2324 - accuracy: 0.89 - ETA: 0s - loss: 0.2340 - accuracy: 0.89 - ETA: 0s - loss: 0.2389 - accuracy: 0.88 - ETA: 0s - loss: 0.2398 - accuracy: 0.89 - ETA: 0s - loss: 0.2408 - accuracy: 0.89 - ETA: 0s - loss: 0.2410 - accuracy: 0.89 - ETA: 0s - loss: 0.2440 - accuracy: 0.89 - ETA: 0s - loss: 0.2424 - accuracy: 0.89 - ETA: 0s - loss: 0.2448 - accuracy: 0.89 - ETA: 0s - loss: 0.2435 - accuracy: 0.89 - ETA: 0s - loss: 0.2453 - accuracy: 0.88 - ETA: 0s - loss: 0.2466 - accuracy: 0.88 - ETA: 0s - loss: 0.2437 - accuracy: 0.89 - ETA: 0s - loss: 0.2476 - accuracy: 0.88 - ETA: 0s - loss: 0.2480 - accuracy: 0.88 - ETA: 0s - loss: 0.2502 - accuracy: 0.88 - ETA: 0s - loss: 0.2519 - accuracy: 0.88 - ETA: 0s - loss: 0.2516 - accuracy: 0.88 - 1s 6ms/step - loss: 0.2525 - accuracy: 0.8867 - val_loss: 0.4411 - val_accuracy: 0.8388\n",
      "Epoch 18/50\n",
      "235/235 [==============================] - ETA: 0s - loss: 0.1320 - accuracy: 0.96 - ETA: 1s - loss: 0.2005 - accuracy: 0.91 - ETA: 1s - loss: 0.2079 - accuracy: 0.90 - ETA: 1s - loss: 0.2088 - accuracy: 0.90 - ETA: 1s - loss: 0.2153 - accuracy: 0.90 - ETA: 1s - loss: 0.2280 - accuracy: 0.89 - ETA: 0s - loss: 0.2313 - accuracy: 0.89 - ETA: 0s - loss: 0.2277 - accuracy: 0.89 - ETA: 0s - loss: 0.2294 - accuracy: 0.89 - ETA: 0s - loss: 0.2330 - accuracy: 0.89 - ETA: 0s - loss: 0.2326 - accuracy: 0.89 - ETA: 0s - loss: 0.2353 - accuracy: 0.89 - ETA: 0s - loss: 0.2345 - accuracy: 0.89 - ETA: 0s - loss: 0.2327 - accuracy: 0.89 - ETA: 0s - loss: 0.2330 - accuracy: 0.89 - ETA: 0s - loss: 0.2347 - accuracy: 0.89 - ETA: 0s - loss: 0.2347 - accuracy: 0.89 - ETA: 0s - loss: 0.2375 - accuracy: 0.89 - ETA: 0s - loss: 0.2398 - accuracy: 0.89 - ETA: 0s - loss: 0.2418 - accuracy: 0.89 - ETA: 0s - loss: 0.2425 - accuracy: 0.89 - ETA: 0s - loss: 0.2439 - accuracy: 0.89 - ETA: 0s - loss: 0.2438 - accuracy: 0.89 - ETA: 0s - loss: 0.2459 - accuracy: 0.89 - ETA: 0s - loss: 0.2472 - accuracy: 0.89 - ETA: 0s - loss: 0.2483 - accuracy: 0.89 - 1s 6ms/step - loss: 0.2483 - accuracy: 0.8923 - val_loss: 0.4068 - val_accuracy: 0.8460\n",
      "Epoch 19/50\n",
      "235/235 [==============================] - ETA: 0s - loss: 0.1913 - accuracy: 0.93 - ETA: 1s - loss: 0.2233 - accuracy: 0.89 - ETA: 1s - loss: 0.2150 - accuracy: 0.89 - ETA: 1s - loss: 0.2191 - accuracy: 0.90 - ETA: 1s - loss: 0.2240 - accuracy: 0.90 - ETA: 1s - loss: 0.2216 - accuracy: 0.90 - ETA: 1s - loss: 0.2238 - accuracy: 0.89 - ETA: 1s - loss: 0.2281 - accuracy: 0.89 - ETA: 0s - loss: 0.2237 - accuracy: 0.90 - ETA: 0s - loss: 0.2292 - accuracy: 0.89 - ETA: 0s - loss: 0.2307 - accuracy: 0.89 - ETA: 0s - loss: 0.2298 - accuracy: 0.90 - ETA: 0s - loss: 0.2312 - accuracy: 0.89 - ETA: 0s - loss: 0.2332 - accuracy: 0.89 - ETA: 0s - loss: 0.2345 - accuracy: 0.89 - ETA: 0s - loss: 0.2372 - accuracy: 0.89 - ETA: 0s - loss: 0.2348 - accuracy: 0.89 - ETA: 0s - loss: 0.2334 - accuracy: 0.89 - ETA: 0s - loss: 0.2397 - accuracy: 0.89 - ETA: 0s - loss: 0.2397 - accuracy: 0.89 - ETA: 0s - loss: 0.2402 - accuracy: 0.89 - ETA: 0s - loss: 0.2409 - accuracy: 0.89 - ETA: 0s - loss: 0.2392 - accuracy: 0.89 - ETA: 0s - loss: 0.2386 - accuracy: 0.89 - ETA: 0s - loss: 0.2391 - accuracy: 0.89 - 1s 6ms/step - loss: 0.2385 - accuracy: 0.8940 - val_loss: 0.4564 - val_accuracy: 0.8436\n",
      "Epoch 20/50\n",
      "235/235 [==============================] - ETA: 0s - loss: 0.2569 - accuracy: 0.87 - ETA: 1s - loss: 0.2091 - accuracy: 0.89 - ETA: 1s - loss: 0.2033 - accuracy: 0.90 - ETA: 1s - loss: 0.2028 - accuracy: 0.90 - ETA: 1s - loss: 0.2163 - accuracy: 0.89 - ETA: 0s - loss: 0.2243 - accuracy: 0.89 - ETA: 0s - loss: 0.2293 - accuracy: 0.88 - ETA: 0s - loss: 0.2287 - accuracy: 0.89 - ETA: 0s - loss: 0.2307 - accuracy: 0.89 - ETA: 0s - loss: 0.2294 - accuracy: 0.89 - ETA: 0s - loss: 0.2280 - accuracy: 0.89 - ETA: 0s - loss: 0.2261 - accuracy: 0.89 - ETA: 0s - loss: 0.2274 - accuracy: 0.89 - ETA: 0s - loss: 0.2304 - accuracy: 0.89 - ETA: 0s - loss: 0.2294 - accuracy: 0.89 - ETA: 0s - loss: 0.2281 - accuracy: 0.89 - ETA: 0s - loss: 0.2262 - accuracy: 0.89 - ETA: 0s - loss: 0.2259 - accuracy: 0.89 - ETA: 0s - loss: 0.2266 - accuracy: 0.90 - ETA: 0s - loss: 0.2291 - accuracy: 0.89 - ETA: 0s - loss: 0.2302 - accuracy: 0.89 - ETA: 0s - loss: 0.2299 - accuracy: 0.89 - ETA: 0s - loss: 0.2312 - accuracy: 0.89 - ETA: 0s - loss: 0.2312 - accuracy: 0.89 - ETA: 0s - loss: 0.2304 - accuracy: 0.89 - 1s 6ms/step - loss: 0.2304 - accuracy: 0.8968 - val_loss: 0.5055 - val_accuracy: 0.8448\n",
      "Epoch 21/50\n",
      "235/235 [==============================] - ETA: 0s - loss: 0.1410 - accuracy: 0.90 - ETA: 0s - loss: 0.2100 - accuracy: 0.90 - ETA: 1s - loss: 0.2089 - accuracy: 0.90 - ETA: 0s - loss: 0.2130 - accuracy: 0.90 - ETA: 0s - loss: 0.2023 - accuracy: 0.90 - ETA: 0s - loss: 0.2060 - accuracy: 0.90 - ETA: 0s - loss: 0.2060 - accuracy: 0.89 - ETA: 0s - loss: 0.1962 - accuracy: 0.90 - ETA: 0s - loss: 0.2063 - accuracy: 0.90 - ETA: 0s - loss: 0.2095 - accuracy: 0.90 - ETA: 0s - loss: 0.2131 - accuracy: 0.90 - ETA: 0s - loss: 0.2157 - accuracy: 0.90 - ETA: 0s - loss: 0.2171 - accuracy: 0.90 - ETA: 0s - loss: 0.2169 - accuracy: 0.90 - ETA: 0s - loss: 0.2168 - accuracy: 0.90 - ETA: 0s - loss: 0.2171 - accuracy: 0.90 - ETA: 0s - loss: 0.2193 - accuracy: 0.90 - ETA: 0s - loss: 0.2204 - accuracy: 0.89 - ETA: 0s - loss: 0.2235 - accuracy: 0.89 - ETA: 0s - loss: 0.2254 - accuracy: 0.89 - ETA: 0s - loss: 0.2246 - accuracy: 0.89 - ETA: 0s - loss: 0.2241 - accuracy: 0.89 - ETA: 0s - loss: 0.2234 - accuracy: 0.89 - ETA: 0s - loss: 0.2246 - accuracy: 0.90 - 1s 6ms/step - loss: 0.2228 - accuracy: 0.9019 - val_loss: 0.5383 - val_accuracy: 0.8484\n",
      "Epoch 22/50\n",
      "235/235 [==============================] - ETA: 0s - loss: 0.1858 - accuracy: 0.93 - ETA: 1s - loss: 0.2133 - accuracy: 0.90 - ETA: 1s - loss: 0.2087 - accuracy: 0.90 - ETA: 1s - loss: 0.2117 - accuracy: 0.90 - ETA: 0s - loss: 0.2036 - accuracy: 0.90 - ETA: 0s - loss: 0.2023 - accuracy: 0.90 - ETA: 0s - loss: 0.2002 - accuracy: 0.90 - ETA: 0s - loss: 0.1985 - accuracy: 0.91 - ETA: 0s - loss: 0.1960 - accuracy: 0.91 - ETA: 0s - loss: 0.1971 - accuracy: 0.91 - ETA: 0s - loss: 0.1979 - accuracy: 0.91 - ETA: 0s - loss: 0.2064 - accuracy: 0.90 - ETA: 0s - loss: 0.2062 - accuracy: 0.90 - ETA: 0s - loss: 0.2051 - accuracy: 0.90 - ETA: 0s - loss: 0.2073 - accuracy: 0.90 - ETA: 0s - loss: 0.2078 - accuracy: 0.90 - ETA: 0s - loss: 0.2088 - accuracy: 0.90 - ETA: 0s - loss: 0.2093 - accuracy: 0.90 - ETA: 0s - loss: 0.2121 - accuracy: 0.90 - ETA: 0s - loss: 0.2137 - accuracy: 0.90 - ETA: 0s - loss: 0.2141 - accuracy: 0.90 - ETA: 0s - loss: 0.2132 - accuracy: 0.90 - ETA: 0s - loss: 0.2129 - accuracy: 0.90 - ETA: 0s - loss: 0.2126 - accuracy: 0.90 - 1s 6ms/step - loss: 0.2122 - accuracy: 0.9060 - val_loss: 0.6274 - val_accuracy: 0.8472\n"
     ]
    },
    {
     "name": "stdout",
     "output_type": "stream",
     "text": [
      "Epoch 23/50\n",
      "235/235 [==============================] - ETA: 0s - loss: 0.0956 - accuracy: 0.96 - ETA: 1s - loss: 0.2084 - accuracy: 0.90 - ETA: 1s - loss: 0.1994 - accuracy: 0.90 - ETA: 1s - loss: 0.1892 - accuracy: 0.91 - ETA: 0s - loss: 0.1926 - accuracy: 0.91 - ETA: 0s - loss: 0.1914 - accuracy: 0.91 - ETA: 0s - loss: 0.1848 - accuracy: 0.91 - ETA: 0s - loss: 0.1948 - accuracy: 0.91 - ETA: 0s - loss: 0.2029 - accuracy: 0.90 - ETA: 0s - loss: 0.2064 - accuracy: 0.90 - ETA: 0s - loss: 0.2056 - accuracy: 0.90 - ETA: 0s - loss: 0.2063 - accuracy: 0.90 - ETA: 0s - loss: 0.2096 - accuracy: 0.90 - ETA: 0s - loss: 0.2093 - accuracy: 0.90 - ETA: 0s - loss: 0.2113 - accuracy: 0.90 - ETA: 0s - loss: 0.2119 - accuracy: 0.90 - ETA: 0s - loss: 0.2147 - accuracy: 0.90 - ETA: 0s - loss: 0.2162 - accuracy: 0.90 - ETA: 0s - loss: 0.2141 - accuracy: 0.90 - ETA: 0s - loss: 0.2145 - accuracy: 0.90 - ETA: 0s - loss: 0.2155 - accuracy: 0.90 - ETA: 0s - loss: 0.2137 - accuracy: 0.90 - ETA: 0s - loss: 0.2148 - accuracy: 0.90 - ETA: 0s - loss: 0.2131 - accuracy: 0.90 - 1s 6ms/step - loss: 0.2140 - accuracy: 0.9029 - val_loss: 0.5973 - val_accuracy: 0.8480\n",
      "Epoch 24/50\n",
      "235/235 [==============================] - ETA: 0s - loss: 0.2726 - accuracy: 0.84 - ETA: 0s - loss: 0.1595 - accuracy: 0.92 - ETA: 0s - loss: 0.1876 - accuracy: 0.91 - ETA: 0s - loss: 0.1864 - accuracy: 0.91 - ETA: 0s - loss: 0.1886 - accuracy: 0.91 - ETA: 0s - loss: 0.1862 - accuracy: 0.91 - ETA: 0s - loss: 0.1898 - accuracy: 0.91 - ETA: 0s - loss: 0.1931 - accuracy: 0.91 - ETA: 0s - loss: 0.1959 - accuracy: 0.90 - ETA: 0s - loss: 0.1944 - accuracy: 0.90 - ETA: 0s - loss: 0.1923 - accuracy: 0.91 - ETA: 0s - loss: 0.1920 - accuracy: 0.91 - ETA: 0s - loss: 0.1941 - accuracy: 0.90 - ETA: 0s - loss: 0.1938 - accuracy: 0.91 - ETA: 0s - loss: 0.1925 - accuracy: 0.91 - ETA: 0s - loss: 0.1904 - accuracy: 0.91 - ETA: 0s - loss: 0.1929 - accuracy: 0.91 - ETA: 0s - loss: 0.1937 - accuracy: 0.91 - ETA: 0s - loss: 0.1944 - accuracy: 0.91 - 1s 5ms/step - loss: 0.1944 - accuracy: 0.9101 - val_loss: 0.6826 - val_accuracy: 0.8336\n",
      "Epoch 25/50\n",
      "235/235 [==============================] - ETA: 0s - loss: 0.1504 - accuracy: 0.96 - ETA: 0s - loss: 0.1615 - accuracy: 0.93 - ETA: 0s - loss: 0.1798 - accuracy: 0.91 - ETA: 0s - loss: 0.1809 - accuracy: 0.91 - ETA: 0s - loss: 0.1766 - accuracy: 0.92 - ETA: 0s - loss: 0.1761 - accuracy: 0.92 - ETA: 0s - loss: 0.1740 - accuracy: 0.92 - ETA: 0s - loss: 0.1764 - accuracy: 0.92 - ETA: 0s - loss: 0.1765 - accuracy: 0.92 - ETA: 0s - loss: 0.1811 - accuracy: 0.91 - ETA: 0s - loss: 0.1808 - accuracy: 0.91 - ETA: 0s - loss: 0.1836 - accuracy: 0.91 - ETA: 0s - loss: 0.1837 - accuracy: 0.91 - ETA: 0s - loss: 0.1848 - accuracy: 0.91 - ETA: 0s - loss: 0.1845 - accuracy: 0.91 - ETA: 0s - loss: 0.1855 - accuracy: 0.91 - ETA: 0s - loss: 0.1852 - accuracy: 0.91 - ETA: 0s - loss: 0.1839 - accuracy: 0.91 - ETA: 0s - loss: 0.1852 - accuracy: 0.91 - 1s 5ms/step - loss: 0.1858 - accuracy: 0.9175 - val_loss: 0.5977 - val_accuracy: 0.8176\n",
      "Epoch 26/50\n",
      "235/235 [==============================] - ETA: 0s - loss: 0.0881 - accuracy: 1.00 - ETA: 0s - loss: 0.1744 - accuracy: 0.93 - ETA: 0s - loss: 0.1556 - accuracy: 0.94 - ETA: 0s - loss: 0.1575 - accuracy: 0.93 - ETA: 0s - loss: 0.1488 - accuracy: 0.93 - ETA: 0s - loss: 0.1499 - accuracy: 0.93 - ETA: 0s - loss: 0.1586 - accuracy: 0.93 - ETA: 0s - loss: 0.1617 - accuracy: 0.92 - ETA: 0s - loss: 0.1658 - accuracy: 0.92 - ETA: 0s - loss: 0.1739 - accuracy: 0.91 - ETA: 0s - loss: 0.1753 - accuracy: 0.91 - ETA: 0s - loss: 0.1760 - accuracy: 0.91 - ETA: 0s - loss: 0.1786 - accuracy: 0.91 - ETA: 0s - loss: 0.1801 - accuracy: 0.91 - ETA: 0s - loss: 0.1827 - accuracy: 0.91 - ETA: 0s - loss: 0.1822 - accuracy: 0.91 - ETA: 0s - loss: 0.1817 - accuracy: 0.91 - ETA: 0s - loss: 0.1812 - accuracy: 0.91 - ETA: 0s - loss: 0.1845 - accuracy: 0.91 - 1s 5ms/step - loss: 0.1862 - accuracy: 0.9144 - val_loss: 0.6219 - val_accuracy: 0.8300\n",
      "Epoch 27/50\n",
      "235/235 [==============================] - ETA: 0s - loss: 0.1481 - accuracy: 0.93 - ETA: 0s - loss: 0.1724 - accuracy: 0.92 - ETA: 0s - loss: 0.1574 - accuracy: 0.93 - ETA: 0s - loss: 0.1667 - accuracy: 0.92 - ETA: 0s - loss: 0.1606 - accuracy: 0.92 - ETA: 0s - loss: 0.1624 - accuracy: 0.92 - ETA: 0s - loss: 0.1647 - accuracy: 0.92 - ETA: 0s - loss: 0.1681 - accuracy: 0.92 - ETA: 0s - loss: 0.1790 - accuracy: 0.92 - ETA: 0s - loss: 0.1792 - accuracy: 0.92 - ETA: 0s - loss: 0.1810 - accuracy: 0.91 - ETA: 0s - loss: 0.1822 - accuracy: 0.91 - ETA: 0s - loss: 0.1806 - accuracy: 0.92 - ETA: 0s - loss: 0.1764 - accuracy: 0.92 - ETA: 0s - loss: 0.1748 - accuracy: 0.92 - ETA: 0s - loss: 0.1749 - accuracy: 0.92 - ETA: 0s - loss: 0.1739 - accuracy: 0.92 - ETA: 0s - loss: 0.1754 - accuracy: 0.92 - ETA: 0s - loss: 0.1766 - accuracy: 0.92 - 1s 5ms/step - loss: 0.1776 - accuracy: 0.9203 - val_loss: 0.7206 - val_accuracy: 0.8296\n",
      "Epoch 28/50\n",
      "235/235 [==============================] - ETA: 0s - loss: 0.0818 - accuracy: 0.96 - ETA: 0s - loss: 0.1379 - accuracy: 0.93 - ETA: 0s - loss: 0.1479 - accuracy: 0.93 - ETA: 0s - loss: 0.1613 - accuracy: 0.92 - ETA: 0s - loss: 0.1591 - accuracy: 0.92 - ETA: 0s - loss: 0.1603 - accuracy: 0.92 - ETA: 0s - loss: 0.1584 - accuracy: 0.92 - ETA: 0s - loss: 0.1634 - accuracy: 0.92 - ETA: 0s - loss: 0.1648 - accuracy: 0.92 - ETA: 0s - loss: 0.1663 - accuracy: 0.92 - ETA: 0s - loss: 0.1659 - accuracy: 0.92 - ETA: 0s - loss: 0.1663 - accuracy: 0.92 - ETA: 0s - loss: 0.1669 - accuracy: 0.92 - ETA: 0s - loss: 0.1666 - accuracy: 0.92 - ETA: 0s - loss: 0.1712 - accuracy: 0.92 - ETA: 0s - loss: 0.1708 - accuracy: 0.92 - ETA: 0s - loss: 0.1703 - accuracy: 0.92 - ETA: 0s - loss: 0.1695 - accuracy: 0.92 - ETA: 0s - loss: 0.1686 - accuracy: 0.92 - ETA: 0s - loss: 0.1684 - accuracy: 0.92 - ETA: 0s - loss: 0.1663 - accuracy: 0.92 - ETA: 0s - loss: 0.1667 - accuracy: 0.92 - 1s 5ms/step - loss: 0.1665 - accuracy: 0.9265 - val_loss: 0.7947 - val_accuracy: 0.8224\n",
      "Epoch 29/50\n",
      "235/235 [==============================] - ETA: 0s - loss: 0.1220 - accuracy: 0.93 - ETA: 1s - loss: 0.1239 - accuracy: 0.94 - ETA: 1s - loss: 0.1245 - accuracy: 0.94 - ETA: 1s - loss: 0.1341 - accuracy: 0.93 - ETA: 1s - loss: 0.1424 - accuracy: 0.93 - ETA: 0s - loss: 0.1400 - accuracy: 0.93 - ETA: 0s - loss: 0.1454 - accuracy: 0.93 - ETA: 0s - loss: 0.1490 - accuracy: 0.93 - ETA: 0s - loss: 0.1486 - accuracy: 0.93 - ETA: 0s - loss: 0.1488 - accuracy: 0.93 - ETA: 0s - loss: 0.1488 - accuracy: 0.93 - ETA: 0s - loss: 0.1503 - accuracy: 0.93 - ETA: 0s - loss: 0.1575 - accuracy: 0.92 - ETA: 0s - loss: 0.1573 - accuracy: 0.92 - ETA: 0s - loss: 0.1570 - accuracy: 0.92 - ETA: 0s - loss: 0.1563 - accuracy: 0.92 - ETA: 0s - loss: 0.1584 - accuracy: 0.92 - ETA: 0s - loss: 0.1602 - accuracy: 0.92 - ETA: 0s - loss: 0.1615 - accuracy: 0.92 - ETA: 0s - loss: 0.1621 - accuracy: 0.92 - ETA: 0s - loss: 0.1621 - accuracy: 0.92 - ETA: 0s - loss: 0.1608 - accuracy: 0.92 - ETA: 0s - loss: 0.1595 - accuracy: 0.92 - 1s 6ms/step - loss: 0.1587 - accuracy: 0.9273 - val_loss: 0.8759 - val_accuracy: 0.8300\n",
      "Epoch 30/50\n",
      "235/235 [==============================] - ETA: 0s - loss: 0.2416 - accuracy: 0.87 - ETA: 1s - loss: 0.1427 - accuracy: 0.93 - ETA: 1s - loss: 0.1210 - accuracy: 0.94 - ETA: 1s - loss: 0.1227 - accuracy: 0.94 - ETA: 1s - loss: 0.1239 - accuracy: 0.95 - ETA: 1s - loss: 0.1299 - accuracy: 0.94 - ETA: 1s - loss: 0.1330 - accuracy: 0.94 - ETA: 0s - loss: 0.1391 - accuracy: 0.94 - ETA: 0s - loss: 0.1432 - accuracy: 0.94 - ETA: 0s - loss: 0.1450 - accuracy: 0.93 - ETA: 0s - loss: 0.1463 - accuracy: 0.93 - ETA: 0s - loss: 0.1474 - accuracy: 0.93 - ETA: 0s - loss: 0.1479 - accuracy: 0.93 - ETA: 0s - loss: 0.1494 - accuracy: 0.93 - ETA: 0s - loss: 0.1482 - accuracy: 0.93 - ETA: 0s - loss: 0.1476 - accuracy: 0.93 - ETA: 0s - loss: 0.1509 - accuracy: 0.93 - ETA: 0s - loss: 0.1510 - accuracy: 0.93 - ETA: 0s - loss: 0.1508 - accuracy: 0.93 - ETA: 0s - loss: 0.1503 - accuracy: 0.93 - ETA: 0s - loss: 0.1521 - accuracy: 0.93 - 1s 5ms/step - loss: 0.1515 - accuracy: 0.9337 - val_loss: 0.8521 - val_accuracy: 0.8168\n",
      "Epoch 31/50\n"
     ]
    },
    {
     "name": "stdout",
     "output_type": "stream",
     "text": [
      "235/235 [==============================] - ETA: 0s - loss: 0.1914 - accuracy: 0.90 - ETA: 1s - loss: 0.1439 - accuracy: 0.93 - ETA: 1s - loss: 0.1301 - accuracy: 0.94 - ETA: 1s - loss: 0.1185 - accuracy: 0.94 - ETA: 1s - loss: 0.1238 - accuracy: 0.94 - ETA: 1s - loss: 0.1318 - accuracy: 0.94 - ETA: 1s - loss: 0.1295 - accuracy: 0.94 - ETA: 0s - loss: 0.1275 - accuracy: 0.94 - ETA: 0s - loss: 0.1236 - accuracy: 0.94 - ETA: 0s - loss: 0.1258 - accuracy: 0.94 - ETA: 0s - loss: 0.1296 - accuracy: 0.94 - ETA: 0s - loss: 0.1329 - accuracy: 0.94 - ETA: 0s - loss: 0.1345 - accuracy: 0.93 - ETA: 0s - loss: 0.1359 - accuracy: 0.93 - ETA: 0s - loss: 0.1374 - accuracy: 0.93 - ETA: 0s - loss: 0.1371 - accuracy: 0.93 - ETA: 0s - loss: 0.1384 - accuracy: 0.93 - ETA: 0s - loss: 0.1382 - accuracy: 0.93 - ETA: 0s - loss: 0.1391 - accuracy: 0.93 - ETA: 0s - loss: 0.1385 - accuracy: 0.93 - ETA: 0s - loss: 0.1409 - accuracy: 0.93 - ETA: 0s - loss: 0.1412 - accuracy: 0.93 - ETA: 0s - loss: 0.1412 - accuracy: 0.93 - 1s 6ms/step - loss: 0.1414 - accuracy: 0.9353 - val_loss: 0.9753 - val_accuracy: 0.8172\n",
      "Epoch 32/50\n",
      "235/235 [==============================] - ETA: 0s - loss: 0.0866 - accuracy: 0.96 - ETA: 1s - loss: 0.0905 - accuracy: 0.96 - ETA: 1s - loss: 0.0785 - accuracy: 0.97 - ETA: 1s - loss: 0.0822 - accuracy: 0.96 - ETA: 0s - loss: 0.0812 - accuracy: 0.96 - ETA: 0s - loss: 0.1002 - accuracy: 0.96 - ETA: 0s - loss: 0.1092 - accuracy: 0.95 - ETA: 0s - loss: 0.1110 - accuracy: 0.95 - ETA: 0s - loss: 0.1191 - accuracy: 0.95 - ETA: 0s - loss: 0.1235 - accuracy: 0.94 - ETA: 0s - loss: 0.1281 - accuracy: 0.94 - ETA: 0s - loss: 0.1301 - accuracy: 0.94 - ETA: 0s - loss: 0.1340 - accuracy: 0.94 - ETA: 0s - loss: 0.1344 - accuracy: 0.94 - ETA: 0s - loss: 0.1371 - accuracy: 0.94 - ETA: 0s - loss: 0.1364 - accuracy: 0.94 - ETA: 0s - loss: 0.1363 - accuracy: 0.94 - ETA: 0s - loss: 0.1342 - accuracy: 0.94 - ETA: 0s - loss: 0.1346 - accuracy: 0.94 - ETA: 0s - loss: 0.1375 - accuracy: 0.94 - ETA: 0s - loss: 0.1390 - accuracy: 0.93 - ETA: 0s - loss: 0.1391 - accuracy: 0.93 - ETA: 0s - loss: 0.1403 - accuracy: 0.93 - ETA: 0s - loss: 0.1398 - accuracy: 0.93 - 1s 6ms/step - loss: 0.1398 - accuracy: 0.9395 - val_loss: 0.8073 - val_accuracy: 0.8300\n",
      "Epoch 33/50\n",
      "235/235 [==============================] - ETA: 0s - loss: 0.1305 - accuracy: 0.93 - ETA: 0s - loss: 0.1492 - accuracy: 0.93 - ETA: 0s - loss: 0.1149 - accuracy: 0.95 - ETA: 0s - loss: 0.1147 - accuracy: 0.95 - ETA: 0s - loss: 0.1154 - accuracy: 0.95 - ETA: 0s - loss: 0.1178 - accuracy: 0.95 - ETA: 0s - loss: 0.1185 - accuracy: 0.95 - ETA: 0s - loss: 0.1170 - accuracy: 0.95 - ETA: 0s - loss: 0.1233 - accuracy: 0.94 - ETA: 0s - loss: 0.1201 - accuracy: 0.94 - ETA: 0s - loss: 0.1280 - accuracy: 0.94 - ETA: 0s - loss: 0.1303 - accuracy: 0.94 - ETA: 0s - loss: 0.1301 - accuracy: 0.94 - ETA: 0s - loss: 0.1284 - accuracy: 0.94 - ETA: 0s - loss: 0.1287 - accuracy: 0.94 - ETA: 0s - loss: 0.1301 - accuracy: 0.94 - ETA: 0s - loss: 0.1347 - accuracy: 0.94 - ETA: 0s - loss: 0.1332 - accuracy: 0.94 - ETA: 0s - loss: 0.1343 - accuracy: 0.94 - ETA: 0s - loss: 0.1353 - accuracy: 0.94 - ETA: 0s - loss: 0.1336 - accuracy: 0.94 - ETA: 0s - loss: 0.1324 - accuracy: 0.94 - ETA: 0s - loss: 0.1335 - accuracy: 0.94 - 1s 6ms/step - loss: 0.1350 - accuracy: 0.9413 - val_loss: 0.9644 - val_accuracy: 0.8296\n",
      "Epoch 34/50\n",
      "235/235 [==============================] - ETA: 0s - loss: 0.0506 - accuracy: 1.00 - ETA: 0s - loss: 0.1096 - accuracy: 0.95 - ETA: 0s - loss: 0.1195 - accuracy: 0.95 - ETA: 0s - loss: 0.1253 - accuracy: 0.95 - ETA: 0s - loss: 0.1237 - accuracy: 0.95 - ETA: 0s - loss: 0.1307 - accuracy: 0.94 - ETA: 0s - loss: 0.1304 - accuracy: 0.94 - ETA: 0s - loss: 0.1360 - accuracy: 0.94 - ETA: 0s - loss: 0.1328 - accuracy: 0.94 - ETA: 0s - loss: 0.1334 - accuracy: 0.94 - ETA: 0s - loss: 0.1347 - accuracy: 0.94 - ETA: 0s - loss: 0.1363 - accuracy: 0.94 - ETA: 0s - loss: 0.1373 - accuracy: 0.94 - ETA: 0s - loss: 0.1374 - accuracy: 0.94 - ETA: 0s - loss: 0.1352 - accuracy: 0.94 - ETA: 0s - loss: 0.1354 - accuracy: 0.94 - ETA: 0s - loss: 0.1355 - accuracy: 0.94 - ETA: 0s - loss: 0.1346 - accuracy: 0.94 - ETA: 0s - loss: 0.1339 - accuracy: 0.94 - 1s 5ms/step - loss: 0.1323 - accuracy: 0.9437 - val_loss: 0.9870 - val_accuracy: 0.8140\n",
      "Epoch 35/50\n",
      "235/235 [==============================] - ETA: 0s - loss: 0.1660 - accuracy: 0.87 - ETA: 0s - loss: 0.1104 - accuracy: 0.94 - ETA: 1s - loss: 0.1076 - accuracy: 0.95 - ETA: 1s - loss: 0.1107 - accuracy: 0.94 - ETA: 1s - loss: 0.1101 - accuracy: 0.94 - ETA: 1s - loss: 0.1048 - accuracy: 0.95 - ETA: 0s - loss: 0.1050 - accuracy: 0.95 - ETA: 0s - loss: 0.1065 - accuracy: 0.95 - ETA: 0s - loss: 0.1040 - accuracy: 0.95 - ETA: 0s - loss: 0.1037 - accuracy: 0.95 - ETA: 0s - loss: 0.1085 - accuracy: 0.95 - ETA: 0s - loss: 0.1078 - accuracy: 0.95 - ETA: 0s - loss: 0.1040 - accuracy: 0.95 - ETA: 0s - loss: 0.1053 - accuracy: 0.95 - ETA: 0s - loss: 0.1050 - accuracy: 0.95 - ETA: 0s - loss: 0.1043 - accuracy: 0.95 - ETA: 0s - loss: 0.1047 - accuracy: 0.95 - ETA: 0s - loss: 0.1074 - accuracy: 0.95 - ETA: 0s - loss: 0.1075 - accuracy: 0.95 - ETA: 0s - loss: 0.1075 - accuracy: 0.95 - ETA: 0s - loss: 0.1094 - accuracy: 0.95 - 1s 5ms/step - loss: 0.1101 - accuracy: 0.9524 - val_loss: 1.0662 - val_accuracy: 0.8080\n",
      "Epoch 36/50\n",
      "235/235 [==============================] - ETA: 0s - loss: 0.1196 - accuracy: 0.93 - ETA: 0s - loss: 0.0620 - accuracy: 0.98 - ETA: 1s - loss: 0.0814 - accuracy: 0.96 - ETA: 0s - loss: 0.0824 - accuracy: 0.96 - ETA: 0s - loss: 0.0781 - accuracy: 0.96 - ETA: 0s - loss: 0.0862 - accuracy: 0.96 - ETA: 0s - loss: 0.0924 - accuracy: 0.96 - ETA: 0s - loss: 0.0906 - accuracy: 0.96 - ETA: 0s - loss: 0.0940 - accuracy: 0.96 - ETA: 0s - loss: 0.0946 - accuracy: 0.96 - ETA: 0s - loss: 0.0957 - accuracy: 0.96 - ETA: 0s - loss: 0.0987 - accuracy: 0.95 - ETA: 0s - loss: 0.1007 - accuracy: 0.95 - ETA: 0s - loss: 0.1051 - accuracy: 0.95 - ETA: 0s - loss: 0.1067 - accuracy: 0.95 - ETA: 0s - loss: 0.1072 - accuracy: 0.95 - ETA: 0s - loss: 0.1082 - accuracy: 0.95 - ETA: 0s - loss: 0.1098 - accuracy: 0.95 - ETA: 0s - loss: 0.1107 - accuracy: 0.95 - ETA: 0s - loss: 0.1117 - accuracy: 0.95 - ETA: 0s - loss: 0.1154 - accuracy: 0.95 - ETA: 0s - loss: 0.1154 - accuracy: 0.95 - ETA: 0s - loss: 0.1158 - accuracy: 0.95 - ETA: 0s - loss: 0.1160 - accuracy: 0.95 - 1s 6ms/step - loss: 0.1156 - accuracy: 0.9511 - val_loss: 1.0227 - val_accuracy: 0.8232\n",
      "Epoch 37/50\n",
      "235/235 [==============================] - ETA: 0s - loss: 0.1220 - accuracy: 0.96 - ETA: 0s - loss: 0.0854 - accuracy: 0.96 - ETA: 0s - loss: 0.0892 - accuracy: 0.96 - ETA: 0s - loss: 0.0948 - accuracy: 0.96 - ETA: 0s - loss: 0.0949 - accuracy: 0.95 - ETA: 0s - loss: 0.1007 - accuracy: 0.95 - ETA: 0s - loss: 0.1012 - accuracy: 0.95 - ETA: 0s - loss: 0.1015 - accuracy: 0.95 - ETA: 0s - loss: 0.1082 - accuracy: 0.95 - ETA: 0s - loss: 0.1100 - accuracy: 0.95 - ETA: 0s - loss: 0.1080 - accuracy: 0.95 - ETA: 0s - loss: 0.1078 - accuracy: 0.95 - ETA: 0s - loss: 0.1081 - accuracy: 0.95 - ETA: 0s - loss: 0.1109 - accuracy: 0.95 - ETA: 0s - loss: 0.1099 - accuracy: 0.95 - ETA: 0s - loss: 0.1095 - accuracy: 0.95 - ETA: 0s - loss: 0.1104 - accuracy: 0.95 - ETA: 0s - loss: 0.1101 - accuracy: 0.95 - ETA: 0s - loss: 0.1124 - accuracy: 0.95 - ETA: 0s - loss: 0.1128 - accuracy: 0.95 - ETA: 0s - loss: 0.1155 - accuracy: 0.95 - 1s 5ms/step - loss: 0.1154 - accuracy: 0.9509 - val_loss: 0.9337 - val_accuracy: 0.8188\n",
      "Epoch 38/50\n"
     ]
    },
    {
     "name": "stdout",
     "output_type": "stream",
     "text": [
      "235/235 [==============================] - ETA: 0s - loss: 0.0553 - accuracy: 0.96 - ETA: 0s - loss: 0.0851 - accuracy: 0.96 - ETA: 0s - loss: 0.0884 - accuracy: 0.96 - ETA: 0s - loss: 0.0862 - accuracy: 0.96 - ETA: 0s - loss: 0.0845 - accuracy: 0.96 - ETA: 0s - loss: 0.0894 - accuracy: 0.96 - ETA: 0s - loss: 0.0895 - accuracy: 0.96 - ETA: 0s - loss: 0.0923 - accuracy: 0.96 - ETA: 0s - loss: 0.0904 - accuracy: 0.96 - ETA: 0s - loss: 0.0924 - accuracy: 0.96 - ETA: 0s - loss: 0.0926 - accuracy: 0.96 - ETA: 0s - loss: 0.0939 - accuracy: 0.96 - ETA: 0s - loss: 0.0927 - accuracy: 0.96 - ETA: 0s - loss: 0.0958 - accuracy: 0.96 - ETA: 0s - loss: 0.1019 - accuracy: 0.96 - ETA: 0s - loss: 0.1023 - accuracy: 0.95 - ETA: 0s - loss: 0.1028 - accuracy: 0.95 - ETA: 0s - loss: 0.1028 - accuracy: 0.95 - ETA: 0s - loss: 0.1027 - accuracy: 0.95 - 1s 5ms/step - loss: 0.1025 - accuracy: 0.9592 - val_loss: 1.1207 - val_accuracy: 0.8176\n",
      "Epoch 39/50\n",
      "235/235 [==============================] - ETA: 0s - loss: 0.1729 - accuracy: 0.93 - ETA: 0s - loss: 0.0886 - accuracy: 0.96 - ETA: 0s - loss: 0.0809 - accuracy: 0.97 - ETA: 0s - loss: 0.0731 - accuracy: 0.97 - ETA: 0s - loss: 0.0725 - accuracy: 0.97 - ETA: 0s - loss: 0.0698 - accuracy: 0.97 - ETA: 0s - loss: 0.0786 - accuracy: 0.97 - ETA: 0s - loss: 0.0797 - accuracy: 0.96 - ETA: 0s - loss: 0.0788 - accuracy: 0.97 - ETA: 0s - loss: 0.0789 - accuracy: 0.96 - ETA: 0s - loss: 0.0813 - accuracy: 0.96 - ETA: 0s - loss: 0.0889 - accuracy: 0.96 - ETA: 0s - loss: 0.0929 - accuracy: 0.96 - ETA: 0s - loss: 0.0928 - accuracy: 0.96 - ETA: 0s - loss: 0.0940 - accuracy: 0.96 - ETA: 0s - loss: 0.0958 - accuracy: 0.96 - ETA: 0s - loss: 0.0992 - accuracy: 0.96 - ETA: 0s - loss: 0.0989 - accuracy: 0.96 - ETA: 0s - loss: 0.0989 - accuracy: 0.96 - 1s 5ms/step - loss: 0.0996 - accuracy: 0.9592 - val_loss: 1.1574 - val_accuracy: 0.8092\n",
      "Epoch 40/50\n",
      "235/235 [==============================] - ETA: 0s - loss: 0.0823 - accuracy: 0.93 - ETA: 0s - loss: 0.0963 - accuracy: 0.96 - ETA: 0s - loss: 0.1006 - accuracy: 0.95 - ETA: 0s - loss: 0.0990 - accuracy: 0.95 - ETA: 0s - loss: 0.0976 - accuracy: 0.95 - ETA: 0s - loss: 0.0976 - accuracy: 0.95 - ETA: 0s - loss: 0.0932 - accuracy: 0.96 - ETA: 0s - loss: 0.0927 - accuracy: 0.96 - ETA: 0s - loss: 0.0913 - accuracy: 0.96 - ETA: 0s - loss: 0.0926 - accuracy: 0.96 - ETA: 0s - loss: 0.0931 - accuracy: 0.96 - ETA: 0s - loss: 0.0901 - accuracy: 0.96 - ETA: 0s - loss: 0.0894 - accuracy: 0.96 - ETA: 0s - loss: 0.0905 - accuracy: 0.96 - ETA: 0s - loss: 0.0906 - accuracy: 0.96 - ETA: 0s - loss: 0.0910 - accuracy: 0.96 - ETA: 0s - loss: 0.0929 - accuracy: 0.96 - ETA: 0s - loss: 0.0960 - accuracy: 0.96 - ETA: 0s - loss: 0.0985 - accuracy: 0.95 - 1s 5ms/step - loss: 0.0984 - accuracy: 0.9592 - val_loss: 0.9207 - val_accuracy: 0.8196\n",
      "Epoch 41/50\n",
      "235/235 [==============================] - ETA: 0s - loss: 0.0438 - accuracy: 1.00 - ETA: 0s - loss: 0.0570 - accuracy: 0.98 - ETA: 0s - loss: 0.0593 - accuracy: 0.98 - ETA: 0s - loss: 0.0660 - accuracy: 0.97 - ETA: 0s - loss: 0.0727 - accuracy: 0.97 - ETA: 0s - loss: 0.0704 - accuracy: 0.97 - ETA: 0s - loss: 0.0715 - accuracy: 0.97 - ETA: 0s - loss: 0.0744 - accuracy: 0.97 - ETA: 0s - loss: 0.0738 - accuracy: 0.97 - ETA: 0s - loss: 0.0788 - accuracy: 0.97 - ETA: 0s - loss: 0.0794 - accuracy: 0.97 - ETA: 0s - loss: 0.0801 - accuracy: 0.96 - ETA: 0s - loss: 0.0801 - accuracy: 0.96 - ETA: 0s - loss: 0.0796 - accuracy: 0.96 - ETA: 0s - loss: 0.0835 - accuracy: 0.96 - ETA: 0s - loss: 0.0823 - accuracy: 0.96 - ETA: 0s - loss: 0.0840 - accuracy: 0.96 - ETA: 0s - loss: 0.0900 - accuracy: 0.96 - ETA: 0s - loss: 0.0919 - accuracy: 0.96 - 1s 5ms/step - loss: 0.0934 - accuracy: 0.9648 - val_loss: 0.9192 - val_accuracy: 0.8080\n",
      "Epoch 42/50\n",
      "235/235 [==============================] - ETA: 0s - loss: 0.1182 - accuracy: 0.96 - ETA: 0s - loss: 0.0984 - accuracy: 0.96 - ETA: 0s - loss: 0.0984 - accuracy: 0.96 - ETA: 0s - loss: 0.0850 - accuracy: 0.96 - ETA: 0s - loss: 0.0791 - accuracy: 0.96 - ETA: 0s - loss: 0.0796 - accuracy: 0.96 - ETA: 0s - loss: 0.0808 - accuracy: 0.96 - ETA: 0s - loss: 0.0827 - accuracy: 0.96 - ETA: 0s - loss: 0.0840 - accuracy: 0.96 - ETA: 0s - loss: 0.0834 - accuracy: 0.96 - ETA: 0s - loss: 0.0838 - accuracy: 0.96 - ETA: 0s - loss: 0.0851 - accuracy: 0.96 - ETA: 0s - loss: 0.0873 - accuracy: 0.96 - ETA: 0s - loss: 0.0889 - accuracy: 0.96 - ETA: 0s - loss: 0.0903 - accuracy: 0.96 - ETA: 0s - loss: 0.0932 - accuracy: 0.96 - ETA: 0s - loss: 0.0942 - accuracy: 0.96 - ETA: 0s - loss: 0.0941 - accuracy: 0.96 - ETA: 0s - loss: 0.0939 - accuracy: 0.96 - 1s 5ms/step - loss: 0.0930 - accuracy: 0.9615 - val_loss: 1.1550 - val_accuracy: 0.8104\n",
      "Epoch 43/50\n",
      "235/235 [==============================] - ETA: 0s - loss: 0.0367 - accuracy: 1.00 - ETA: 0s - loss: 0.0564 - accuracy: 0.97 - ETA: 0s - loss: 0.0636 - accuracy: 0.97 - ETA: 0s - loss: 0.0617 - accuracy: 0.97 - ETA: 0s - loss: 0.0697 - accuracy: 0.96 - ETA: 0s - loss: 0.0668 - accuracy: 0.96 - ETA: 0s - loss: 0.0659 - accuracy: 0.97 - ETA: 0s - loss: 0.0653 - accuracy: 0.97 - ETA: 0s - loss: 0.0704 - accuracy: 0.97 - ETA: 0s - loss: 0.0724 - accuracy: 0.97 - ETA: 0s - loss: 0.0760 - accuracy: 0.96 - ETA: 0s - loss: 0.0745 - accuracy: 0.96 - ETA: 0s - loss: 0.0740 - accuracy: 0.96 - ETA: 0s - loss: 0.0743 - accuracy: 0.96 - ETA: 0s - loss: 0.0773 - accuracy: 0.96 - ETA: 0s - loss: 0.0780 - accuracy: 0.96 - ETA: 0s - loss: 0.0811 - accuracy: 0.96 - ETA: 0s - loss: 0.0812 - accuracy: 0.96 - ETA: 0s - loss: 0.0824 - accuracy: 0.96 - 1s 5ms/step - loss: 0.0835 - accuracy: 0.9647 - val_loss: 1.1050 - val_accuracy: 0.8176\n",
      "Epoch 44/50\n",
      "235/235 [==============================] - ETA: 0s - loss: 0.0105 - accuracy: 1.00 - ETA: 0s - loss: 0.0612 - accuracy: 0.97 - ETA: 0s - loss: 0.0629 - accuracy: 0.97 - ETA: 0s - loss: 0.0556 - accuracy: 0.97 - ETA: 0s - loss: 0.0612 - accuracy: 0.97 - ETA: 0s - loss: 0.0615 - accuracy: 0.96 - ETA: 0s - loss: 0.0643 - accuracy: 0.97 - ETA: 0s - loss: 0.0692 - accuracy: 0.96 - ETA: 0s - loss: 0.0772 - accuracy: 0.96 - ETA: 0s - loss: 0.0847 - accuracy: 0.96 - ETA: 0s - loss: 0.0863 - accuracy: 0.96 - ETA: 0s - loss: 0.0910 - accuracy: 0.96 - ETA: 0s - loss: 0.0909 - accuracy: 0.96 - ETA: 0s - loss: 0.0934 - accuracy: 0.96 - ETA: 0s - loss: 0.0945 - accuracy: 0.96 - ETA: 0s - loss: 0.0940 - accuracy: 0.96 - ETA: 0s - loss: 0.0939 - accuracy: 0.96 - ETA: 0s - loss: 0.0925 - accuracy: 0.96 - ETA: 0s - loss: 0.0899 - accuracy: 0.96 - 1s 5ms/step - loss: 0.0886 - accuracy: 0.9652 - val_loss: 1.4552 - val_accuracy: 0.8108\n",
      "Epoch 45/50\n",
      "235/235 [==============================] - ETA: 0s - loss: 0.0257 - accuracy: 1.00 - ETA: 0s - loss: 0.0527 - accuracy: 0.97 - ETA: 0s - loss: 0.0556 - accuracy: 0.97 - ETA: 0s - loss: 0.0799 - accuracy: 0.97 - ETA: 0s - loss: 0.0885 - accuracy: 0.97 - ETA: 0s - loss: 0.0872 - accuracy: 0.97 - ETA: 0s - loss: 0.0889 - accuracy: 0.97 - ETA: 0s - loss: 0.0839 - accuracy: 0.97 - ETA: 0s - loss: 0.0835 - accuracy: 0.97 - ETA: 0s - loss: 0.0860 - accuracy: 0.97 - ETA: 0s - loss: 0.0867 - accuracy: 0.97 - ETA: 0s - loss: 0.0853 - accuracy: 0.97 - ETA: 0s - loss: 0.0833 - accuracy: 0.97 - ETA: 0s - loss: 0.0827 - accuracy: 0.97 - ETA: 0s - loss: 0.0825 - accuracy: 0.97 - ETA: 0s - loss: 0.0831 - accuracy: 0.97 - ETA: 0s - loss: 0.0837 - accuracy: 0.96 - ETA: 0s - loss: 0.0832 - accuracy: 0.96 - ETA: 0s - loss: 0.0850 - accuracy: 0.96 - 1s 5ms/step - loss: 0.0845 - accuracy: 0.9688 - val_loss: 1.1836 - val_accuracy: 0.8184\n",
      "Epoch 46/50\n"
     ]
    },
    {
     "name": "stdout",
     "output_type": "stream",
     "text": [
      "235/235 [==============================] - ETA: 0s - loss: 0.0278 - accuracy: 1.00 - ETA: 0s - loss: 0.0417 - accuracy: 0.99 - ETA: 0s - loss: 0.0452 - accuracy: 0.98 - ETA: 0s - loss: 0.0488 - accuracy: 0.98 - ETA: 0s - loss: 0.0476 - accuracy: 0.98 - ETA: 0s - loss: 0.0513 - accuracy: 0.98 - ETA: 0s - loss: 0.0527 - accuracy: 0.98 - ETA: 0s - loss: 0.0559 - accuracy: 0.98 - ETA: 0s - loss: 0.0595 - accuracy: 0.97 - ETA: 0s - loss: 0.0685 - accuracy: 0.97 - ETA: 0s - loss: 0.0704 - accuracy: 0.97 - ETA: 0s - loss: 0.0717 - accuracy: 0.97 - ETA: 0s - loss: 0.0723 - accuracy: 0.97 - ETA: 0s - loss: 0.0737 - accuracy: 0.97 - ETA: 0s - loss: 0.0728 - accuracy: 0.97 - ETA: 0s - loss: 0.0734 - accuracy: 0.97 - ETA: 0s - loss: 0.0752 - accuracy: 0.97 - ETA: 0s - loss: 0.0759 - accuracy: 0.97 - ETA: 0s - loss: 0.0762 - accuracy: 0.97 - 1s 5ms/step - loss: 0.0757 - accuracy: 0.9724 - val_loss: 1.3297 - val_accuracy: 0.8116\n",
      "Epoch 47/50\n",
      "235/235 [==============================] - ETA: 0s - loss: 0.0038 - accuracy: 1.00 - ETA: 0s - loss: 0.0423 - accuracy: 0.98 - ETA: 0s - loss: 0.0535 - accuracy: 0.98 - ETA: 0s - loss: 0.0605 - accuracy: 0.97 - ETA: 0s - loss: 0.0629 - accuracy: 0.97 - ETA: 0s - loss: 0.0760 - accuracy: 0.97 - ETA: 0s - loss: 0.0798 - accuracy: 0.97 - ETA: 0s - loss: 0.0854 - accuracy: 0.96 - ETA: 0s - loss: 0.0835 - accuracy: 0.96 - ETA: 0s - loss: 0.0829 - accuracy: 0.96 - ETA: 0s - loss: 0.0813 - accuracy: 0.96 - ETA: 0s - loss: 0.0799 - accuracy: 0.97 - ETA: 0s - loss: 0.0789 - accuracy: 0.97 - ETA: 0s - loss: 0.0786 - accuracy: 0.97 - ETA: 0s - loss: 0.0766 - accuracy: 0.97 - ETA: 0s - loss: 0.0786 - accuracy: 0.97 - ETA: 0s - loss: 0.0792 - accuracy: 0.97 - ETA: 0s - loss: 0.0799 - accuracy: 0.97 - ETA: 0s - loss: 0.0805 - accuracy: 0.97 - ETA: 0s - loss: 0.0795 - accuracy: 0.97 - 1s 5ms/step - loss: 0.0791 - accuracy: 0.9709 - val_loss: 1.0917 - val_accuracy: 0.8164\n",
      "Epoch 48/50\n",
      "235/235 [==============================] - ETA: 0s - loss: 0.0991 - accuracy: 0.96 - ETA: 0s - loss: 0.0565 - accuracy: 0.97 - ETA: 0s - loss: 0.0650 - accuracy: 0.97 - ETA: 0s - loss: 0.0679 - accuracy: 0.97 - ETA: 0s - loss: 0.0657 - accuracy: 0.97 - ETA: 0s - loss: 0.0628 - accuracy: 0.97 - ETA: 0s - loss: 0.0610 - accuracy: 0.97 - ETA: 0s - loss: 0.0573 - accuracy: 0.97 - ETA: 0s - loss: 0.0562 - accuracy: 0.97 - ETA: 0s - loss: 0.0561 - accuracy: 0.97 - ETA: 0s - loss: 0.0571 - accuracy: 0.97 - ETA: 0s - loss: 0.0562 - accuracy: 0.97 - ETA: 0s - loss: 0.0559 - accuracy: 0.97 - ETA: 0s - loss: 0.0570 - accuracy: 0.97 - ETA: 0s - loss: 0.0564 - accuracy: 0.97 - ETA: 0s - loss: 0.0564 - accuracy: 0.97 - ETA: 0s - loss: 0.0570 - accuracy: 0.97 - ETA: 0s - loss: 0.0569 - accuracy: 0.97 - ETA: 0s - loss: 0.0578 - accuracy: 0.97 - ETA: 0s - loss: 0.0597 - accuracy: 0.97 - 1s 5ms/step - loss: 0.0604 - accuracy: 0.9756 - val_loss: 1.2673 - val_accuracy: 0.8100\n",
      "Epoch 49/50\n",
      "235/235 [==============================] - ETA: 0s - loss: 0.0658 - accuracy: 0.96 - ETA: 0s - loss: 0.0413 - accuracy: 0.98 - ETA: 0s - loss: 0.0393 - accuracy: 0.98 - ETA: 0s - loss: 0.0427 - accuracy: 0.98 - ETA: 0s - loss: 0.0464 - accuracy: 0.98 - ETA: 0s - loss: 0.0452 - accuracy: 0.98 - ETA: 0s - loss: 0.0544 - accuracy: 0.98 - ETA: 0s - loss: 0.0566 - accuracy: 0.98 - ETA: 0s - loss: 0.0653 - accuracy: 0.97 - ETA: 0s - loss: 0.0661 - accuracy: 0.97 - ETA: 0s - loss: 0.0671 - accuracy: 0.97 - ETA: 0s - loss: 0.0666 - accuracy: 0.97 - ETA: 0s - loss: 0.0661 - accuracy: 0.97 - ETA: 0s - loss: 0.0667 - accuracy: 0.97 - ETA: 0s - loss: 0.0680 - accuracy: 0.97 - ETA: 0s - loss: 0.0696 - accuracy: 0.97 - ETA: 0s - loss: 0.0691 - accuracy: 0.97 - ETA: 0s - loss: 0.0716 - accuracy: 0.97 - ETA: 0s - loss: 0.0737 - accuracy: 0.97 - ETA: 0s - loss: 0.0735 - accuracy: 0.97 - 1s 5ms/step - loss: 0.0743 - accuracy: 0.9725 - val_loss: 1.1746 - val_accuracy: 0.8132\n",
      "Epoch 50/50\n",
      "235/235 [==============================] - ETA: 0s - loss: 0.0342 - accuracy: 1.00 - ETA: 0s - loss: 0.0466 - accuracy: 0.98 - ETA: 0s - loss: 0.0551 - accuracy: 0.98 - ETA: 0s - loss: 0.0532 - accuracy: 0.98 - ETA: 0s - loss: 0.0499 - accuracy: 0.98 - ETA: 0s - loss: 0.0509 - accuracy: 0.98 - ETA: 0s - loss: 0.0501 - accuracy: 0.98 - ETA: 0s - loss: 0.0548 - accuracy: 0.98 - ETA: 0s - loss: 0.0573 - accuracy: 0.98 - ETA: 0s - loss: 0.0644 - accuracy: 0.97 - ETA: 0s - loss: 0.0625 - accuracy: 0.97 - ETA: 0s - loss: 0.0639 - accuracy: 0.97 - ETA: 0s - loss: 0.0644 - accuracy: 0.97 - ETA: 0s - loss: 0.0647 - accuracy: 0.97 - ETA: 0s - loss: 0.0649 - accuracy: 0.97 - ETA: 0s - loss: 0.0647 - accuracy: 0.97 - ETA: 0s - loss: 0.0629 - accuracy: 0.97 - ETA: 0s - loss: 0.0627 - accuracy: 0.97 - ETA: 0s - loss: 0.0633 - accuracy: 0.97 - ETA: 0s - loss: 0.0640 - accuracy: 0.97 - ETA: 0s - loss: 0.0646 - accuracy: 0.97 - 1s 5ms/step - loss: 0.0662 - accuracy: 0.9757 - val_loss: 1.4571 - val_accuracy: 0.8128\n",
      "Epoch 1/50\n",
      "235/235 [==============================] - ETA: 0s - loss: 0.7039 - accuracy: 0.18 - ETA: 1s - loss: 0.5682 - accuracy: 0.71 - ETA: 0s - loss: 0.5077 - accuracy: 0.76 - ETA: 0s - loss: 0.4968 - accuracy: 0.76 - ETA: 0s - loss: 0.4728 - accuracy: 0.77 - ETA: 0s - loss: 0.4521 - accuracy: 0.79 - ETA: 0s - loss: 0.4491 - accuracy: 0.80 - ETA: 0s - loss: 0.4471 - accuracy: 0.80 - ETA: 0s - loss: 0.4515 - accuracy: 0.80 - ETA: 0s - loss: 0.4491 - accuracy: 0.80 - ETA: 0s - loss: 0.4450 - accuracy: 0.80 - ETA: 0s - loss: 0.4350 - accuracy: 0.81 - ETA: 0s - loss: 0.4284 - accuracy: 0.81 - ETA: 0s - loss: 0.4250 - accuracy: 0.81 - ETA: 0s - loss: 0.4214 - accuracy: 0.81 - ETA: 0s - loss: 0.4197 - accuracy: 0.82 - ETA: 0s - loss: 0.4173 - accuracy: 0.82 - ETA: 0s - loss: 0.4110 - accuracy: 0.82 - ETA: 0s - loss: 0.4117 - accuracy: 0.82 - ETA: 0s - loss: 0.4089 - accuracy: 0.82 - ETA: 0s - loss: 0.4072 - accuracy: 0.82 - 1s 6ms/step - loss: 0.4072 - accuracy: 0.8287 - val_loss: 0.3654 - val_accuracy: 0.8588\n",
      "Epoch 2/50\n",
      "235/235 [==============================] - ETA: 0s - loss: 0.2553 - accuracy: 0.96 - ETA: 0s - loss: 0.3293 - accuracy: 0.88 - ETA: 0s - loss: 0.3658 - accuracy: 0.86 - ETA: 0s - loss: 0.3592 - accuracy: 0.86 - ETA: 0s - loss: 0.3469 - accuracy: 0.86 - ETA: 0s - loss: 0.3527 - accuracy: 0.85 - ETA: 0s - loss: 0.3524 - accuracy: 0.86 - ETA: 0s - loss: 0.3533 - accuracy: 0.86 - ETA: 0s - loss: 0.3598 - accuracy: 0.85 - ETA: 0s - loss: 0.3642 - accuracy: 0.85 - ETA: 0s - loss: 0.3652 - accuracy: 0.85 - ETA: 0s - loss: 0.3617 - accuracy: 0.85 - ETA: 0s - loss: 0.3578 - accuracy: 0.85 - ETA: 0s - loss: 0.3549 - accuracy: 0.85 - ETA: 0s - loss: 0.3614 - accuracy: 0.85 - ETA: 0s - loss: 0.3603 - accuracy: 0.85 - ETA: 0s - loss: 0.3615 - accuracy: 0.85 - ETA: 0s - loss: 0.3633 - accuracy: 0.85 - ETA: 0s - loss: 0.3641 - accuracy: 0.85 - 1s 5ms/step - loss: 0.3612 - accuracy: 0.8539 - val_loss: 0.3581 - val_accuracy: 0.8588\n",
      "Epoch 3/50\n",
      "235/235 [==============================] - ETA: 0s - loss: 0.5240 - accuracy: 0.81 - ETA: 0s - loss: 0.3184 - accuracy: 0.87 - ETA: 0s - loss: 0.3584 - accuracy: 0.85 - ETA: 0s - loss: 0.3473 - accuracy: 0.85 - ETA: 0s - loss: 0.3532 - accuracy: 0.85 - ETA: 0s - loss: 0.3479 - accuracy: 0.85 - ETA: 0s - loss: 0.3474 - accuracy: 0.85 - ETA: 0s - loss: 0.3465 - accuracy: 0.85 - ETA: 0s - loss: 0.3514 - accuracy: 0.84 - ETA: 0s - loss: 0.3514 - accuracy: 0.85 - ETA: 0s - loss: 0.3526 - accuracy: 0.84 - ETA: 0s - loss: 0.3535 - accuracy: 0.84 - ETA: 0s - loss: 0.3557 - accuracy: 0.85 - ETA: 0s - loss: 0.3559 - accuracy: 0.85 - ETA: 0s - loss: 0.3528 - accuracy: 0.85 - ETA: 0s - loss: 0.3500 - accuracy: 0.85 - ETA: 0s - loss: 0.3535 - accuracy: 0.85 - ETA: 0s - loss: 0.3521 - accuracy: 0.85 - ETA: 0s - loss: 0.3497 - accuracy: 0.85 - 1s 5ms/step - loss: 0.3505 - accuracy: 0.8568 - val_loss: 0.3356 - val_accuracy: 0.8632\n",
      "Epoch 4/50\n"
     ]
    },
    {
     "name": "stdout",
     "output_type": "stream",
     "text": [
      "235/235 [==============================] - ETA: 0s - loss: 0.4143 - accuracy: 0.84 - ETA: 0s - loss: 0.3740 - accuracy: 0.84 - ETA: 0s - loss: 0.3412 - accuracy: 0.86 - ETA: 0s - loss: 0.3369 - accuracy: 0.86 - ETA: 0s - loss: 0.3315 - accuracy: 0.86 - ETA: 0s - loss: 0.3249 - accuracy: 0.86 - ETA: 0s - loss: 0.3243 - accuracy: 0.86 - ETA: 0s - loss: 0.3287 - accuracy: 0.86 - ETA: 0s - loss: 0.3288 - accuracy: 0.86 - ETA: 0s - loss: 0.3348 - accuracy: 0.86 - ETA: 0s - loss: 0.3307 - accuracy: 0.86 - ETA: 0s - loss: 0.3347 - accuracy: 0.86 - ETA: 0s - loss: 0.3381 - accuracy: 0.85 - ETA: 0s - loss: 0.3378 - accuracy: 0.85 - ETA: 0s - loss: 0.3393 - accuracy: 0.86 - ETA: 0s - loss: 0.3373 - accuracy: 0.86 - ETA: 0s - loss: 0.3344 - accuracy: 0.86 - ETA: 0s - loss: 0.3359 - accuracy: 0.86 - ETA: 0s - loss: 0.3367 - accuracy: 0.86 - 1s 5ms/step - loss: 0.3372 - accuracy: 0.8600 - val_loss: 0.3508 - val_accuracy: 0.8596\n",
      "Epoch 5/50\n",
      "235/235 [==============================] - ETA: 0s - loss: 0.2117 - accuracy: 0.87 - ETA: 0s - loss: 0.3168 - accuracy: 0.86 - ETA: 0s - loss: 0.3136 - accuracy: 0.87 - ETA: 0s - loss: 0.3163 - accuracy: 0.87 - ETA: 0s - loss: 0.3264 - accuracy: 0.86 - ETA: 0s - loss: 0.3312 - accuracy: 0.86 - ETA: 0s - loss: 0.3308 - accuracy: 0.86 - ETA: 0s - loss: 0.3277 - accuracy: 0.86 - ETA: 0s - loss: 0.3262 - accuracy: 0.86 - ETA: 0s - loss: 0.3241 - accuracy: 0.86 - ETA: 0s - loss: 0.3234 - accuracy: 0.86 - ETA: 0s - loss: 0.3269 - accuracy: 0.86 - ETA: 0s - loss: 0.3284 - accuracy: 0.86 - ETA: 0s - loss: 0.3290 - accuracy: 0.86 - ETA: 0s - loss: 0.3283 - accuracy: 0.86 - ETA: 0s - loss: 0.3345 - accuracy: 0.86 - ETA: 0s - loss: 0.3354 - accuracy: 0.86 - ETA: 0s - loss: 0.3347 - accuracy: 0.86 - ETA: 0s - loss: 0.3341 - accuracy: 0.86 - 1s 5ms/step - loss: 0.3346 - accuracy: 0.8633 - val_loss: 0.3424 - val_accuracy: 0.8596\n",
      "Epoch 6/50\n",
      "235/235 [==============================] - ETA: 0s - loss: 0.2656 - accuracy: 0.93 - ETA: 0s - loss: 0.2638 - accuracy: 0.90 - ETA: 0s - loss: 0.3053 - accuracy: 0.88 - ETA: 0s - loss: 0.3107 - accuracy: 0.87 - ETA: 0s - loss: 0.3049 - accuracy: 0.88 - ETA: 0s - loss: 0.3061 - accuracy: 0.87 - ETA: 0s - loss: 0.3092 - accuracy: 0.87 - ETA: 0s - loss: 0.3121 - accuracy: 0.87 - ETA: 0s - loss: 0.3120 - accuracy: 0.87 - ETA: 0s - loss: 0.3106 - accuracy: 0.87 - ETA: 0s - loss: 0.3078 - accuracy: 0.87 - ETA: 0s - loss: 0.3112 - accuracy: 0.87 - ETA: 0s - loss: 0.3156 - accuracy: 0.87 - ETA: 0s - loss: 0.3136 - accuracy: 0.87 - ETA: 0s - loss: 0.3159 - accuracy: 0.87 - ETA: 0s - loss: 0.3194 - accuracy: 0.87 - ETA: 0s - loss: 0.3245 - accuracy: 0.86 - ETA: 0s - loss: 0.3273 - accuracy: 0.86 - ETA: 0s - loss: 0.3244 - accuracy: 0.86 - ETA: 0s - loss: 0.3269 - accuracy: 0.86 - 1s 5ms/step - loss: 0.3276 - accuracy: 0.8683 - val_loss: 0.3571 - val_accuracy: 0.8472\n",
      "Epoch 7/50\n",
      "235/235 [==============================] - ETA: 0s - loss: 0.3232 - accuracy: 0.90 - ETA: 0s - loss: 0.3507 - accuracy: 0.86 - ETA: 0s - loss: 0.3324 - accuracy: 0.87 - ETA: 1s - loss: 0.3386 - accuracy: 0.86 - ETA: 1s - loss: 0.3406 - accuracy: 0.86 - ETA: 1s - loss: 0.3400 - accuracy: 0.86 - ETA: 1s - loss: 0.3300 - accuracy: 0.86 - ETA: 0s - loss: 0.3342 - accuracy: 0.86 - ETA: 0s - loss: 0.3342 - accuracy: 0.86 - ETA: 0s - loss: 0.3324 - accuracy: 0.86 - ETA: 0s - loss: 0.3254 - accuracy: 0.86 - ETA: 0s - loss: 0.3255 - accuracy: 0.86 - ETA: 0s - loss: 0.3211 - accuracy: 0.87 - ETA: 0s - loss: 0.3181 - accuracy: 0.87 - ETA: 0s - loss: 0.3221 - accuracy: 0.87 - ETA: 0s - loss: 0.3190 - accuracy: 0.87 - ETA: 0s - loss: 0.3195 - accuracy: 0.87 - ETA: 0s - loss: 0.3206 - accuracy: 0.86 - ETA: 0s - loss: 0.3241 - accuracy: 0.86 - ETA: 0s - loss: 0.3257 - accuracy: 0.86 - ETA: 0s - loss: 0.3259 - accuracy: 0.86 - 1s 5ms/step - loss: 0.3259 - accuracy: 0.8671 - val_loss: 0.3439 - val_accuracy: 0.8552\n",
      "Epoch 8/50\n",
      "235/235 [==============================] - ETA: 0s - loss: 0.2423 - accuracy: 0.90 - ETA: 0s - loss: 0.3147 - accuracy: 0.85 - ETA: 1s - loss: 0.3378 - accuracy: 0.85 - ETA: 1s - loss: 0.3304 - accuracy: 0.85 - ETA: 0s - loss: 0.3329 - accuracy: 0.85 - ETA: 0s - loss: 0.3403 - accuracy: 0.85 - ETA: 0s - loss: 0.3284 - accuracy: 0.86 - ETA: 0s - loss: 0.3326 - accuracy: 0.85 - ETA: 0s - loss: 0.3336 - accuracy: 0.85 - ETA: 0s - loss: 0.3314 - accuracy: 0.86 - ETA: 0s - loss: 0.3287 - accuracy: 0.86 - ETA: 0s - loss: 0.3282 - accuracy: 0.86 - ETA: 0s - loss: 0.3269 - accuracy: 0.86 - ETA: 0s - loss: 0.3273 - accuracy: 0.86 - ETA: 0s - loss: 0.3272 - accuracy: 0.86 - ETA: 0s - loss: 0.3225 - accuracy: 0.86 - ETA: 0s - loss: 0.3191 - accuracy: 0.86 - ETA: 0s - loss: 0.3185 - accuracy: 0.86 - ETA: 0s - loss: 0.3162 - accuracy: 0.87 - ETA: 0s - loss: 0.3166 - accuracy: 0.87 - ETA: 0s - loss: 0.3171 - accuracy: 0.86 - ETA: 0s - loss: 0.3173 - accuracy: 0.86 - ETA: 0s - loss: 0.3194 - accuracy: 0.86 - 1s 6ms/step - loss: 0.3185 - accuracy: 0.8688 - val_loss: 0.3489 - val_accuracy: 0.8504\n",
      "Epoch 9/50\n",
      "235/235 [==============================] - ETA: 0s - loss: 0.5122 - accuracy: 0.78 - ETA: 1s - loss: 0.2982 - accuracy: 0.88 - ETA: 1s - loss: 0.3112 - accuracy: 0.87 - ETA: 1s - loss: 0.3026 - accuracy: 0.87 - ETA: 0s - loss: 0.3034 - accuracy: 0.87 - ETA: 0s - loss: 0.2960 - accuracy: 0.87 - ETA: 0s - loss: 0.3091 - accuracy: 0.86 - ETA: 0s - loss: 0.3136 - accuracy: 0.86 - ETA: 0s - loss: 0.3095 - accuracy: 0.86 - ETA: 0s - loss: 0.3074 - accuracy: 0.86 - ETA: 0s - loss: 0.3066 - accuracy: 0.87 - ETA: 0s - loss: 0.3063 - accuracy: 0.87 - ETA: 0s - loss: 0.3081 - accuracy: 0.87 - ETA: 0s - loss: 0.3081 - accuracy: 0.87 - ETA: 0s - loss: 0.3094 - accuracy: 0.86 - ETA: 0s - loss: 0.3141 - accuracy: 0.86 - ETA: 0s - loss: 0.3148 - accuracy: 0.86 - ETA: 0s - loss: 0.3123 - accuracy: 0.86 - ETA: 0s - loss: 0.3113 - accuracy: 0.86 - ETA: 0s - loss: 0.3124 - accuracy: 0.86 - ETA: 0s - loss: 0.3120 - accuracy: 0.86 - ETA: 0s - loss: 0.3127 - accuracy: 0.86 - 1s 6ms/step - loss: 0.3115 - accuracy: 0.8704 - val_loss: 0.3450 - val_accuracy: 0.8560\n",
      "Epoch 10/50\n",
      "235/235 [==============================] - ETA: 0s - loss: 0.3873 - accuracy: 0.78 - ETA: 0s - loss: 0.2981 - accuracy: 0.86 - ETA: 0s - loss: 0.3057 - accuracy: 0.86 - ETA: 0s - loss: 0.3074 - accuracy: 0.86 - ETA: 0s - loss: 0.3058 - accuracy: 0.86 - ETA: 0s - loss: 0.3038 - accuracy: 0.86 - ETA: 0s - loss: 0.2982 - accuracy: 0.87 - ETA: 0s - loss: 0.2998 - accuracy: 0.87 - ETA: 0s - loss: 0.3004 - accuracy: 0.87 - ETA: 0s - loss: 0.3045 - accuracy: 0.86 - ETA: 0s - loss: 0.3033 - accuracy: 0.86 - ETA: 0s - loss: 0.3018 - accuracy: 0.86 - ETA: 0s - loss: 0.3014 - accuracy: 0.86 - ETA: 0s - loss: 0.3044 - accuracy: 0.86 - ETA: 0s - loss: 0.3063 - accuracy: 0.87 - ETA: 0s - loss: 0.3067 - accuracy: 0.87 - ETA: 0s - loss: 0.3077 - accuracy: 0.87 - ETA: 0s - loss: 0.3052 - accuracy: 0.87 - ETA: 0s - loss: 0.3090 - accuracy: 0.87 - 1s 5ms/step - loss: 0.3090 - accuracy: 0.8712 - val_loss: 0.3564 - val_accuracy: 0.8536\n",
      "Epoch 11/50\n",
      "235/235 [==============================] - ETA: 0s - loss: 0.1870 - accuracy: 0.90 - ETA: 0s - loss: 0.3015 - accuracy: 0.88 - ETA: 0s - loss: 0.3001 - accuracy: 0.88 - ETA: 0s - loss: 0.2977 - accuracy: 0.88 - ETA: 0s - loss: 0.2918 - accuracy: 0.88 - ETA: 0s - loss: 0.2856 - accuracy: 0.88 - ETA: 0s - loss: 0.2877 - accuracy: 0.88 - ETA: 0s - loss: 0.2859 - accuracy: 0.88 - ETA: 0s - loss: 0.2902 - accuracy: 0.88 - ETA: 0s - loss: 0.2928 - accuracy: 0.88 - ETA: 0s - loss: 0.2898 - accuracy: 0.88 - ETA: 0s - loss: 0.2945 - accuracy: 0.87 - ETA: 0s - loss: 0.2971 - accuracy: 0.87 - ETA: 0s - loss: 0.2960 - accuracy: 0.87 - ETA: 0s - loss: 0.2968 - accuracy: 0.87 - ETA: 0s - loss: 0.2988 - accuracy: 0.87 - ETA: 0s - loss: 0.3004 - accuracy: 0.87 - ETA: 0s - loss: 0.2995 - accuracy: 0.87 - ETA: 0s - loss: 0.3002 - accuracy: 0.87 - 1s 5ms/step - loss: 0.3005 - accuracy: 0.8744 - val_loss: 0.3616 - val_accuracy: 0.8468\n",
      "Epoch 12/50\n"
     ]
    },
    {
     "name": "stdout",
     "output_type": "stream",
     "text": [
      "235/235 [==============================] - ETA: 0s - loss: 0.3915 - accuracy: 0.81 - ETA: 0s - loss: 0.3014 - accuracy: 0.85 - ETA: 0s - loss: 0.2768 - accuracy: 0.88 - ETA: 0s - loss: 0.2640 - accuracy: 0.88 - ETA: 0s - loss: 0.2805 - accuracy: 0.88 - ETA: 0s - loss: 0.2740 - accuracy: 0.88 - ETA: 0s - loss: 0.2815 - accuracy: 0.88 - ETA: 0s - loss: 0.2843 - accuracy: 0.88 - ETA: 0s - loss: 0.2844 - accuracy: 0.87 - ETA: 0s - loss: 0.2812 - accuracy: 0.88 - ETA: 0s - loss: 0.2845 - accuracy: 0.88 - ETA: 0s - loss: 0.2886 - accuracy: 0.87 - ETA: 0s - loss: 0.2927 - accuracy: 0.87 - ETA: 0s - loss: 0.2923 - accuracy: 0.87 - ETA: 0s - loss: 0.2943 - accuracy: 0.87 - ETA: 0s - loss: 0.2946 - accuracy: 0.87 - ETA: 0s - loss: 0.2984 - accuracy: 0.87 - ETA: 0s - loss: 0.2989 - accuracy: 0.87 - ETA: 0s - loss: 0.2975 - accuracy: 0.87 - 1s 5ms/step - loss: 0.2960 - accuracy: 0.8741 - val_loss: 0.3929 - val_accuracy: 0.8580\n",
      "Epoch 13/50\n",
      "235/235 [==============================] - ETA: 0s - loss: 0.1468 - accuracy: 0.96 - ETA: 0s - loss: 0.2131 - accuracy: 0.90 - ETA: 0s - loss: 0.2458 - accuracy: 0.90 - ETA: 0s - loss: 0.2383 - accuracy: 0.89 - ETA: 0s - loss: 0.2560 - accuracy: 0.88 - ETA: 0s - loss: 0.2589 - accuracy: 0.88 - ETA: 0s - loss: 0.2602 - accuracy: 0.88 - ETA: 0s - loss: 0.2642 - accuracy: 0.88 - ETA: 0s - loss: 0.2667 - accuracy: 0.88 - ETA: 0s - loss: 0.2681 - accuracy: 0.88 - ETA: 0s - loss: 0.2770 - accuracy: 0.88 - ETA: 0s - loss: 0.2803 - accuracy: 0.88 - ETA: 0s - loss: 0.2826 - accuracy: 0.88 - ETA: 0s - loss: 0.2830 - accuracy: 0.88 - ETA: 0s - loss: 0.2834 - accuracy: 0.88 - ETA: 0s - loss: 0.2833 - accuracy: 0.88 - ETA: 0s - loss: 0.2843 - accuracy: 0.88 - ETA: 0s - loss: 0.2855 - accuracy: 0.88 - ETA: 0s - loss: 0.2862 - accuracy: 0.88 - ETA: 0s - loss: 0.2872 - accuracy: 0.87 - ETA: 0s - loss: 0.2867 - accuracy: 0.88 - 1s 5ms/step - loss: 0.2864 - accuracy: 0.8807 - val_loss: 0.3742 - val_accuracy: 0.8512\n",
      "Epoch 14/50\n",
      "235/235 [==============================] - ETA: 0s - loss: 0.2150 - accuracy: 0.90 - ETA: 0s - loss: 0.2417 - accuracy: 0.90 - ETA: 0s - loss: 0.2618 - accuracy: 0.90 - ETA: 0s - loss: 0.2622 - accuracy: 0.90 - ETA: 0s - loss: 0.2635 - accuracy: 0.89 - ETA: 0s - loss: 0.2571 - accuracy: 0.89 - ETA: 0s - loss: 0.2662 - accuracy: 0.89 - ETA: 0s - loss: 0.2680 - accuracy: 0.89 - ETA: 0s - loss: 0.2697 - accuracy: 0.89 - ETA: 0s - loss: 0.2713 - accuracy: 0.88 - ETA: 0s - loss: 0.2718 - accuracy: 0.88 - ETA: 0s - loss: 0.2735 - accuracy: 0.88 - ETA: 0s - loss: 0.2711 - accuracy: 0.88 - ETA: 0s - loss: 0.2725 - accuracy: 0.88 - ETA: 0s - loss: 0.2757 - accuracy: 0.88 - ETA: 0s - loss: 0.2755 - accuracy: 0.88 - ETA: 0s - loss: 0.2769 - accuracy: 0.88 - ETA: 0s - loss: 0.2770 - accuracy: 0.88 - ETA: 0s - loss: 0.2789 - accuracy: 0.88 - ETA: 0s - loss: 0.2799 - accuracy: 0.87 - ETA: 0s - loss: 0.2801 - accuracy: 0.88 - 1s 5ms/step - loss: 0.2801 - accuracy: 0.8811 - val_loss: 0.3774 - val_accuracy: 0.8460\n",
      "Epoch 15/50\n",
      "235/235 [==============================] - ETA: 0s - loss: 0.2782 - accuracy: 0.93 - ETA: 0s - loss: 0.3180 - accuracy: 0.85 - ETA: 0s - loss: 0.2943 - accuracy: 0.86 - ETA: 0s - loss: 0.2804 - accuracy: 0.87 - ETA: 0s - loss: 0.2744 - accuracy: 0.87 - ETA: 0s - loss: 0.2722 - accuracy: 0.87 - ETA: 0s - loss: 0.2684 - accuracy: 0.88 - ETA: 0s - loss: 0.2653 - accuracy: 0.88 - ETA: 0s - loss: 0.2679 - accuracy: 0.88 - ETA: 0s - loss: 0.2656 - accuracy: 0.88 - ETA: 0s - loss: 0.2627 - accuracy: 0.88 - ETA: 0s - loss: 0.2675 - accuracy: 0.88 - ETA: 0s - loss: 0.2649 - accuracy: 0.88 - ETA: 0s - loss: 0.2658 - accuracy: 0.88 - ETA: 0s - loss: 0.2667 - accuracy: 0.88 - ETA: 0s - loss: 0.2655 - accuracy: 0.88 - ETA: 0s - loss: 0.2664 - accuracy: 0.88 - ETA: 0s - loss: 0.2682 - accuracy: 0.88 - ETA: 0s - loss: 0.2710 - accuracy: 0.88 - ETA: 0s - loss: 0.2703 - accuracy: 0.88 - 1s 5ms/step - loss: 0.2713 - accuracy: 0.8856 - val_loss: 0.3964 - val_accuracy: 0.8596\n",
      "Epoch 16/50\n",
      "235/235 [==============================] - ETA: 0s - loss: 0.1533 - accuracy: 0.96 - ETA: 0s - loss: 0.2707 - accuracy: 0.88 - ETA: 0s - loss: 0.2393 - accuracy: 0.90 - ETA: 0s - loss: 0.2499 - accuracy: 0.89 - ETA: 0s - loss: 0.2510 - accuracy: 0.89 - ETA: 0s - loss: 0.2549 - accuracy: 0.89 - ETA: 0s - loss: 0.2599 - accuracy: 0.89 - ETA: 0s - loss: 0.2614 - accuracy: 0.88 - ETA: 0s - loss: 0.2642 - accuracy: 0.88 - ETA: 0s - loss: 0.2661 - accuracy: 0.88 - ETA: 0s - loss: 0.2649 - accuracy: 0.88 - ETA: 0s - loss: 0.2633 - accuracy: 0.88 - ETA: 0s - loss: 0.2634 - accuracy: 0.88 - ETA: 0s - loss: 0.2632 - accuracy: 0.88 - ETA: 0s - loss: 0.2664 - accuracy: 0.88 - ETA: 0s - loss: 0.2669 - accuracy: 0.88 - ETA: 0s - loss: 0.2649 - accuracy: 0.88 - ETA: 0s - loss: 0.2654 - accuracy: 0.88 - ETA: 0s - loss: 0.2666 - accuracy: 0.88 - 1s 5ms/step - loss: 0.2667 - accuracy: 0.8851 - val_loss: 0.3889 - val_accuracy: 0.8460\n",
      "Epoch 17/50\n",
      "235/235 [==============================] - ETA: 0s - loss: 0.2480 - accuracy: 0.87 - ETA: 0s - loss: 0.2376 - accuracy: 0.90 - ETA: 0s - loss: 0.2195 - accuracy: 0.91 - ETA: 0s - loss: 0.2369 - accuracy: 0.90 - ETA: 0s - loss: 0.2350 - accuracy: 0.90 - ETA: 0s - loss: 0.2320 - accuracy: 0.90 - ETA: 0s - loss: 0.2388 - accuracy: 0.89 - ETA: 0s - loss: 0.2447 - accuracy: 0.89 - ETA: 0s - loss: 0.2433 - accuracy: 0.89 - ETA: 0s - loss: 0.2429 - accuracy: 0.89 - ETA: 0s - loss: 0.2437 - accuracy: 0.89 - ETA: 0s - loss: 0.2462 - accuracy: 0.89 - ETA: 0s - loss: 0.2459 - accuracy: 0.89 - ETA: 0s - loss: 0.2478 - accuracy: 0.89 - ETA: 0s - loss: 0.2477 - accuracy: 0.89 - ETA: 0s - loss: 0.2491 - accuracy: 0.89 - ETA: 0s - loss: 0.2498 - accuracy: 0.89 - ETA: 0s - loss: 0.2500 - accuracy: 0.89 - ETA: 0s - loss: 0.2517 - accuracy: 0.89 - 1s 5ms/step - loss: 0.2529 - accuracy: 0.8915 - val_loss: 0.4212 - val_accuracy: 0.8424\n",
      "Epoch 18/50\n",
      "235/235 [==============================] - ETA: 0s - loss: 0.1391 - accuracy: 0.96 - ETA: 0s - loss: 0.2518 - accuracy: 0.90 - ETA: 0s - loss: 0.2636 - accuracy: 0.88 - ETA: 0s - loss: 0.2497 - accuracy: 0.88 - ETA: 0s - loss: 0.2507 - accuracy: 0.89 - ETA: 0s - loss: 0.2470 - accuracy: 0.89 - ETA: 0s - loss: 0.2520 - accuracy: 0.88 - ETA: 0s - loss: 0.2490 - accuracy: 0.88 - ETA: 0s - loss: 0.2493 - accuracy: 0.89 - ETA: 0s - loss: 0.2495 - accuracy: 0.89 - ETA: 0s - loss: 0.2491 - accuracy: 0.89 - ETA: 0s - loss: 0.2481 - accuracy: 0.89 - ETA: 0s - loss: 0.2485 - accuracy: 0.89 - ETA: 0s - loss: 0.2466 - accuracy: 0.89 - ETA: 0s - loss: 0.2464 - accuracy: 0.89 - ETA: 0s - loss: 0.2474 - accuracy: 0.89 - ETA: 0s - loss: 0.2456 - accuracy: 0.89 - ETA: 0s - loss: 0.2484 - accuracy: 0.89 - ETA: 0s - loss: 0.2497 - accuracy: 0.89 - 1s 5ms/step - loss: 0.2491 - accuracy: 0.8944 - val_loss: 0.4194 - val_accuracy: 0.8432\n",
      "Epoch 19/50\n",
      "235/235 [==============================] - ETA: 0s - loss: 0.2015 - accuracy: 0.90 - ETA: 0s - loss: 0.2480 - accuracy: 0.88 - ETA: 0s - loss: 0.2640 - accuracy: 0.87 - ETA: 0s - loss: 0.2416 - accuracy: 0.89 - ETA: 0s - loss: 0.2450 - accuracy: 0.89 - ETA: 0s - loss: 0.2348 - accuracy: 0.89 - ETA: 0s - loss: 0.2352 - accuracy: 0.89 - ETA: 0s - loss: 0.2313 - accuracy: 0.89 - ETA: 0s - loss: 0.2307 - accuracy: 0.89 - ETA: 0s - loss: 0.2369 - accuracy: 0.89 - ETA: 0s - loss: 0.2366 - accuracy: 0.89 - ETA: 0s - loss: 0.2336 - accuracy: 0.89 - ETA: 0s - loss: 0.2395 - accuracy: 0.89 - ETA: 0s - loss: 0.2412 - accuracy: 0.89 - ETA: 0s - loss: 0.2396 - accuracy: 0.89 - ETA: 0s - loss: 0.2397 - accuracy: 0.89 - ETA: 0s - loss: 0.2388 - accuracy: 0.89 - ETA: 0s - loss: 0.2413 - accuracy: 0.89 - ETA: 0s - loss: 0.2424 - accuracy: 0.89 - 1s 5ms/step - loss: 0.2445 - accuracy: 0.8935 - val_loss: 0.4191 - val_accuracy: 0.8444\n",
      "Epoch 20/50\n"
     ]
    },
    {
     "name": "stdout",
     "output_type": "stream",
     "text": [
      "235/235 [==============================] - ETA: 0s - loss: 0.2687 - accuracy: 0.84 - ETA: 0s - loss: 0.1984 - accuracy: 0.92 - ETA: 0s - loss: 0.1909 - accuracy: 0.92 - ETA: 0s - loss: 0.2049 - accuracy: 0.91 - ETA: 0s - loss: 0.2119 - accuracy: 0.90 - ETA: 0s - loss: 0.2186 - accuracy: 0.90 - ETA: 0s - loss: 0.2193 - accuracy: 0.90 - ETA: 0s - loss: 0.2245 - accuracy: 0.89 - ETA: 0s - loss: 0.2238 - accuracy: 0.90 - ETA: 0s - loss: 0.2206 - accuracy: 0.90 - ETA: 0s - loss: 0.2227 - accuracy: 0.90 - ETA: 0s - loss: 0.2223 - accuracy: 0.90 - ETA: 0s - loss: 0.2259 - accuracy: 0.90 - ETA: 0s - loss: 0.2324 - accuracy: 0.89 - ETA: 0s - loss: 0.2349 - accuracy: 0.89 - ETA: 0s - loss: 0.2343 - accuracy: 0.89 - ETA: 0s - loss: 0.2360 - accuracy: 0.89 - ETA: 0s - loss: 0.2367 - accuracy: 0.89 - ETA: 0s - loss: 0.2376 - accuracy: 0.89 - 1s 5ms/step - loss: 0.2385 - accuracy: 0.8961 - val_loss: 0.4515 - val_accuracy: 0.8464\n",
      "Epoch 21/50\n",
      "235/235 [==============================] - ETA: 0s - loss: 0.2539 - accuracy: 0.87 - ETA: 0s - loss: 0.2143 - accuracy: 0.89 - ETA: 0s - loss: 0.2196 - accuracy: 0.89 - ETA: 0s - loss: 0.2089 - accuracy: 0.90 - ETA: 0s - loss: 0.1969 - accuracy: 0.90 - ETA: 0s - loss: 0.2035 - accuracy: 0.90 - ETA: 0s - loss: 0.2016 - accuracy: 0.90 - ETA: 0s - loss: 0.2046 - accuracy: 0.90 - ETA: 0s - loss: 0.2050 - accuracy: 0.90 - ETA: 0s - loss: 0.2051 - accuracy: 0.90 - ETA: 0s - loss: 0.2060 - accuracy: 0.90 - ETA: 0s - loss: 0.2156 - accuracy: 0.90 - ETA: 0s - loss: 0.2182 - accuracy: 0.90 - ETA: 0s - loss: 0.2175 - accuracy: 0.90 - ETA: 0s - loss: 0.2181 - accuracy: 0.90 - ETA: 0s - loss: 0.2212 - accuracy: 0.90 - ETA: 0s - loss: 0.2233 - accuracy: 0.90 - ETA: 0s - loss: 0.2229 - accuracy: 0.90 - ETA: 0s - loss: 0.2232 - accuracy: 0.90 - 1s 5ms/step - loss: 0.2233 - accuracy: 0.9004 - val_loss: 0.4845 - val_accuracy: 0.8432\n",
      "Epoch 22/50\n",
      "235/235 [==============================] - ETA: 0s - loss: 0.1843 - accuracy: 0.87 - ETA: 0s - loss: 0.1703 - accuracy: 0.91 - ETA: 0s - loss: 0.1839 - accuracy: 0.91 - ETA: 0s - loss: 0.1900 - accuracy: 0.91 - ETA: 0s - loss: 0.1910 - accuracy: 0.91 - ETA: 0s - loss: 0.1975 - accuracy: 0.90 - ETA: 0s - loss: 0.1964 - accuracy: 0.90 - ETA: 0s - loss: 0.2008 - accuracy: 0.90 - ETA: 0s - loss: 0.2043 - accuracy: 0.90 - ETA: 0s - loss: 0.2066 - accuracy: 0.90 - ETA: 0s - loss: 0.2079 - accuracy: 0.90 - ETA: 0s - loss: 0.2076 - accuracy: 0.90 - ETA: 0s - loss: 0.2100 - accuracy: 0.90 - ETA: 0s - loss: 0.2119 - accuracy: 0.90 - ETA: 0s - loss: 0.2113 - accuracy: 0.90 - ETA: 0s - loss: 0.2118 - accuracy: 0.90 - ETA: 0s - loss: 0.2097 - accuracy: 0.90 - ETA: 0s - loss: 0.2133 - accuracy: 0.90 - ETA: 0s - loss: 0.2168 - accuracy: 0.90 - ETA: 0s - loss: 0.2186 - accuracy: 0.90 - ETA: 0s - loss: 0.2188 - accuracy: 0.90 - 1s 5ms/step - loss: 0.2203 - accuracy: 0.9007 - val_loss: 0.5195 - val_accuracy: 0.8392\n",
      "Epoch 23/50\n",
      "235/235 [==============================] - ETA: 0s - loss: 0.2152 - accuracy: 0.90 - ETA: 0s - loss: 0.2259 - accuracy: 0.89 - ETA: 1s - loss: 0.1949 - accuracy: 0.91 - ETA: 1s - loss: 0.1925 - accuracy: 0.91 - ETA: 0s - loss: 0.2010 - accuracy: 0.90 - ETA: 0s - loss: 0.2105 - accuracy: 0.90 - ETA: 0s - loss: 0.2096 - accuracy: 0.90 - ETA: 0s - loss: 0.2162 - accuracy: 0.90 - ETA: 0s - loss: 0.2165 - accuracy: 0.90 - ETA: 0s - loss: 0.2148 - accuracy: 0.90 - ETA: 0s - loss: 0.2145 - accuracy: 0.90 - ETA: 0s - loss: 0.2148 - accuracy: 0.90 - ETA: 0s - loss: 0.2164 - accuracy: 0.90 - ETA: 0s - loss: 0.2181 - accuracy: 0.90 - ETA: 0s - loss: 0.2152 - accuracy: 0.90 - ETA: 0s - loss: 0.2169 - accuracy: 0.90 - ETA: 0s - loss: 0.2164 - accuracy: 0.90 - ETA: 0s - loss: 0.2166 - accuracy: 0.90 - ETA: 0s - loss: 0.2157 - accuracy: 0.90 - ETA: 0s - loss: 0.2138 - accuracy: 0.90 - ETA: 0s - loss: 0.2156 - accuracy: 0.90 - ETA: 0s - loss: 0.2148 - accuracy: 0.90 - ETA: 0s - loss: 0.2153 - accuracy: 0.90 - 1s 6ms/step - loss: 0.2154 - accuracy: 0.9048 - val_loss: 0.5399 - val_accuracy: 0.8384\n",
      "Epoch 24/50\n",
      "235/235 [==============================] - ETA: 0s - loss: 0.1316 - accuracy: 1.00 - ETA: 0s - loss: 0.1705 - accuracy: 0.93 - ETA: 0s - loss: 0.1488 - accuracy: 0.94 - ETA: 0s - loss: 0.1596 - accuracy: 0.93 - ETA: 0s - loss: 0.1731 - accuracy: 0.92 - ETA: 0s - loss: 0.1813 - accuracy: 0.92 - ETA: 0s - loss: 0.1892 - accuracy: 0.92 - ETA: 0s - loss: 0.1900 - accuracy: 0.92 - ETA: 0s - loss: 0.1921 - accuracy: 0.91 - ETA: 0s - loss: 0.1923 - accuracy: 0.91 - ETA: 0s - loss: 0.1929 - accuracy: 0.91 - ETA: 0s - loss: 0.1946 - accuracy: 0.91 - ETA: 0s - loss: 0.1951 - accuracy: 0.91 - ETA: 0s - loss: 0.1988 - accuracy: 0.91 - ETA: 0s - loss: 0.2000 - accuracy: 0.90 - ETA: 0s - loss: 0.1996 - accuracy: 0.91 - ETA: 0s - loss: 0.2013 - accuracy: 0.91 - ETA: 0s - loss: 0.2010 - accuracy: 0.91 - ETA: 0s - loss: 0.2005 - accuracy: 0.91 - ETA: 0s - loss: 0.2013 - accuracy: 0.91 - ETA: 0s - loss: 0.2022 - accuracy: 0.90 - ETA: 0s - loss: 0.2012 - accuracy: 0.91 - ETA: 0s - loss: 0.1999 - accuracy: 0.91 - 1s 6ms/step - loss: 0.1995 - accuracy: 0.9117 - val_loss: 0.6256 - val_accuracy: 0.8528\n",
      "Epoch 25/50\n",
      "235/235 [==============================] - ETA: 0s - loss: 0.1414 - accuracy: 0.90 - ETA: 1s - loss: 0.2023 - accuracy: 0.90 - ETA: 1s - loss: 0.1901 - accuracy: 0.91 - ETA: 1s - loss: 0.1800 - accuracy: 0.92 - ETA: 0s - loss: 0.1785 - accuracy: 0.92 - ETA: 0s - loss: 0.1830 - accuracy: 0.91 - ETA: 0s - loss: 0.1880 - accuracy: 0.91 - ETA: 0s - loss: 0.1809 - accuracy: 0.91 - ETA: 0s - loss: 0.1827 - accuracy: 0.91 - ETA: 0s - loss: 0.1847 - accuracy: 0.92 - ETA: 0s - loss: 0.1836 - accuracy: 0.91 - ETA: 0s - loss: 0.1851 - accuracy: 0.91 - ETA: 0s - loss: 0.1870 - accuracy: 0.91 - ETA: 0s - loss: 0.1872 - accuracy: 0.91 - ETA: 0s - loss: 0.1922 - accuracy: 0.91 - ETA: 0s - loss: 0.1954 - accuracy: 0.91 - ETA: 0s - loss: 0.1969 - accuracy: 0.91 - ETA: 0s - loss: 0.1954 - accuracy: 0.91 - ETA: 0s - loss: 0.1948 - accuracy: 0.91 - ETA: 0s - loss: 0.1967 - accuracy: 0.91 - 1s 5ms/step - loss: 0.1961 - accuracy: 0.9136 - val_loss: 0.6095 - val_accuracy: 0.8420\n",
      "Epoch 26/50\n",
      "235/235 [==============================] - ETA: 0s - loss: 0.1321 - accuracy: 0.93 - ETA: 0s - loss: 0.1584 - accuracy: 0.91 - ETA: 0s - loss: 0.1701 - accuracy: 0.91 - ETA: 0s - loss: 0.1730 - accuracy: 0.92 - ETA: 0s - loss: 0.1661 - accuracy: 0.92 - ETA: 0s - loss: 0.1749 - accuracy: 0.91 - ETA: 0s - loss: 0.1741 - accuracy: 0.91 - ETA: 0s - loss: 0.1750 - accuracy: 0.91 - ETA: 0s - loss: 0.1741 - accuracy: 0.92 - ETA: 0s - loss: 0.1741 - accuracy: 0.92 - ETA: 0s - loss: 0.1799 - accuracy: 0.91 - ETA: 0s - loss: 0.1799 - accuracy: 0.91 - ETA: 0s - loss: 0.1816 - accuracy: 0.91 - ETA: 0s - loss: 0.1847 - accuracy: 0.91 - ETA: 0s - loss: 0.1853 - accuracy: 0.91 - ETA: 0s - loss: 0.1866 - accuracy: 0.91 - ETA: 0s - loss: 0.1861 - accuracy: 0.91 - ETA: 0s - loss: 0.1865 - accuracy: 0.91 - ETA: 0s - loss: 0.1877 - accuracy: 0.91 - 1s 5ms/step - loss: 0.1888 - accuracy: 0.9125 - val_loss: 0.6307 - val_accuracy: 0.8328\n",
      "Epoch 27/50\n",
      "235/235 [==============================] - ETA: 0s - loss: 0.1290 - accuracy: 0.93 - ETA: 0s - loss: 0.1610 - accuracy: 0.92 - ETA: 0s - loss: 0.1565 - accuracy: 0.93 - ETA: 0s - loss: 0.1601 - accuracy: 0.92 - ETA: 0s - loss: 0.1628 - accuracy: 0.92 - ETA: 0s - loss: 0.1662 - accuracy: 0.92 - ETA: 0s - loss: 0.1645 - accuracy: 0.92 - ETA: 0s - loss: 0.1668 - accuracy: 0.92 - ETA: 0s - loss: 0.1717 - accuracy: 0.91 - ETA: 0s - loss: 0.1692 - accuracy: 0.92 - ETA: 0s - loss: 0.1742 - accuracy: 0.91 - ETA: 0s - loss: 0.1772 - accuracy: 0.91 - ETA: 0s - loss: 0.1788 - accuracy: 0.91 - ETA: 0s - loss: 0.1783 - accuracy: 0.91 - ETA: 0s - loss: 0.1790 - accuracy: 0.91 - ETA: 0s - loss: 0.1810 - accuracy: 0.91 - ETA: 0s - loss: 0.1819 - accuracy: 0.91 - ETA: 0s - loss: 0.1806 - accuracy: 0.91 - ETA: 0s - loss: 0.1788 - accuracy: 0.91 - 1s 5ms/step - loss: 0.1794 - accuracy: 0.9184 - val_loss: 0.7783 - val_accuracy: 0.8364\n",
      "Epoch 28/50\n"
     ]
    },
    {
     "name": "stdout",
     "output_type": "stream",
     "text": [
      "235/235 [==============================] - ETA: 0s - loss: 0.1205 - accuracy: 0.96 - ETA: 0s - loss: 0.1559 - accuracy: 0.93 - ETA: 0s - loss: 0.1427 - accuracy: 0.93 - ETA: 0s - loss: 0.1487 - accuracy: 0.93 - ETA: 0s - loss: 0.1460 - accuracy: 0.93 - ETA: 0s - loss: 0.1566 - accuracy: 0.93 - ETA: 0s - loss: 0.1572 - accuracy: 0.93 - ETA: 0s - loss: 0.1582 - accuracy: 0.93 - ETA: 0s - loss: 0.1579 - accuracy: 0.93 - ETA: 0s - loss: 0.1619 - accuracy: 0.93 - ETA: 0s - loss: 0.1646 - accuracy: 0.92 - ETA: 0s - loss: 0.1666 - accuracy: 0.92 - ETA: 0s - loss: 0.1645 - accuracy: 0.92 - ETA: 0s - loss: 0.1662 - accuracy: 0.92 - ETA: 0s - loss: 0.1658 - accuracy: 0.92 - ETA: 0s - loss: 0.1678 - accuracy: 0.92 - ETA: 0s - loss: 0.1678 - accuracy: 0.92 - ETA: 0s - loss: 0.1686 - accuracy: 0.92 - ETA: 0s - loss: 0.1720 - accuracy: 0.92 - 1s 5ms/step - loss: 0.1733 - accuracy: 0.9232 - val_loss: 0.6747 - val_accuracy: 0.8352\n",
      "Epoch 29/50\n",
      "235/235 [==============================] - ETA: 0s - loss: 0.0989 - accuracy: 1.00 - ETA: 0s - loss: 0.1717 - accuracy: 0.91 - ETA: 0s - loss: 0.1651 - accuracy: 0.92 - ETA: 0s - loss: 0.1523 - accuracy: 0.93 - ETA: 0s - loss: 0.1457 - accuracy: 0.93 - ETA: 0s - loss: 0.1545 - accuracy: 0.93 - ETA: 0s - loss: 0.1507 - accuracy: 0.93 - ETA: 0s - loss: 0.1488 - accuracy: 0.93 - ETA: 0s - loss: 0.1449 - accuracy: 0.93 - ETA: 0s - loss: 0.1445 - accuracy: 0.93 - ETA: 0s - loss: 0.1440 - accuracy: 0.93 - ETA: 0s - loss: 0.1473 - accuracy: 0.93 - ETA: 0s - loss: 0.1475 - accuracy: 0.93 - ETA: 0s - loss: 0.1502 - accuracy: 0.93 - ETA: 0s - loss: 0.1523 - accuracy: 0.93 - ETA: 0s - loss: 0.1546 - accuracy: 0.92 - ETA: 0s - loss: 0.1550 - accuracy: 0.92 - ETA: 0s - loss: 0.1555 - accuracy: 0.92 - ETA: 0s - loss: 0.1561 - accuracy: 0.92 - ETA: 0s - loss: 0.1578 - accuracy: 0.92 - 1s 5ms/step - loss: 0.1576 - accuracy: 0.9268 - val_loss: 0.7907 - val_accuracy: 0.8344\n",
      "Epoch 30/50\n",
      "235/235 [==============================] - ETA: 0s - loss: 0.1209 - accuracy: 0.93 - ETA: 0s - loss: 0.1567 - accuracy: 0.93 - ETA: 0s - loss: 0.1380 - accuracy: 0.94 - ETA: 0s - loss: 0.1428 - accuracy: 0.94 - ETA: 0s - loss: 0.1428 - accuracy: 0.93 - ETA: 0s - loss: 0.1365 - accuracy: 0.94 - ETA: 0s - loss: 0.1389 - accuracy: 0.93 - ETA: 0s - loss: 0.1388 - accuracy: 0.93 - ETA: 0s - loss: 0.1386 - accuracy: 0.93 - ETA: 0s - loss: 0.1395 - accuracy: 0.93 - ETA: 0s - loss: 0.1440 - accuracy: 0.93 - ETA: 0s - loss: 0.1461 - accuracy: 0.93 - ETA: 0s - loss: 0.1445 - accuracy: 0.93 - ETA: 0s - loss: 0.1437 - accuracy: 0.93 - ETA: 0s - loss: 0.1436 - accuracy: 0.93 - ETA: 0s - loss: 0.1482 - accuracy: 0.93 - ETA: 0s - loss: 0.1475 - accuracy: 0.93 - ETA: 0s - loss: 0.1518 - accuracy: 0.93 - ETA: 0s - loss: 0.1546 - accuracy: 0.93 - ETA: 0s - loss: 0.1563 - accuracy: 0.92 - 1s 5ms/step - loss: 0.1558 - accuracy: 0.9303 - val_loss: 0.7521 - val_accuracy: 0.8332\n",
      "Epoch 31/50\n",
      "235/235 [==============================] - ETA: 0s - loss: 0.0668 - accuracy: 0.96 - ETA: 0s - loss: 0.1474 - accuracy: 0.92 - ETA: 0s - loss: 0.1390 - accuracy: 0.92 - ETA: 0s - loss: 0.1357 - accuracy: 0.93 - ETA: 0s - loss: 0.1363 - accuracy: 0.93 - ETA: 0s - loss: 0.1265 - accuracy: 0.93 - ETA: 0s - loss: 0.1344 - accuracy: 0.93 - ETA: 0s - loss: 0.1419 - accuracy: 0.93 - ETA: 0s - loss: 0.1495 - accuracy: 0.93 - ETA: 0s - loss: 0.1535 - accuracy: 0.93 - ETA: 0s - loss: 0.1588 - accuracy: 0.93 - ETA: 0s - loss: 0.1613 - accuracy: 0.92 - ETA: 0s - loss: 0.1597 - accuracy: 0.92 - ETA: 0s - loss: 0.1605 - accuracy: 0.93 - ETA: 0s - loss: 0.1619 - accuracy: 0.92 - ETA: 0s - loss: 0.1658 - accuracy: 0.92 - ETA: 0s - loss: 0.1664 - accuracy: 0.92 - ETA: 0s - loss: 0.1663 - accuracy: 0.92 - ETA: 0s - loss: 0.1637 - accuracy: 0.92 - 1s 5ms/step - loss: 0.1640 - accuracy: 0.9297 - val_loss: 0.8276 - val_accuracy: 0.8356\n",
      "Epoch 32/50\n",
      "235/235 [==============================] - ETA: 0s - loss: 0.1750 - accuracy: 0.93 - ETA: 0s - loss: 0.1292 - accuracy: 0.93 - ETA: 0s - loss: 0.1341 - accuracy: 0.93 - ETA: 0s - loss: 0.1323 - accuracy: 0.93 - ETA: 0s - loss: 0.1251 - accuracy: 0.94 - ETA: 0s - loss: 0.1313 - accuracy: 0.94 - ETA: 0s - loss: 0.1345 - accuracy: 0.93 - ETA: 0s - loss: 0.1355 - accuracy: 0.93 - ETA: 0s - loss: 0.1366 - accuracy: 0.93 - ETA: 0s - loss: 0.1348 - accuracy: 0.94 - ETA: 0s - loss: 0.1326 - accuracy: 0.94 - ETA: 0s - loss: 0.1351 - accuracy: 0.94 - ETA: 0s - loss: 0.1362 - accuracy: 0.94 - ETA: 0s - loss: 0.1393 - accuracy: 0.93 - ETA: 0s - loss: 0.1404 - accuracy: 0.93 - ETA: 0s - loss: 0.1416 - accuracy: 0.93 - ETA: 0s - loss: 0.1436 - accuracy: 0.93 - ETA: 0s - loss: 0.1440 - accuracy: 0.93 - ETA: 0s - loss: 0.1435 - accuracy: 0.93 - 1s 5ms/step - loss: 0.1439 - accuracy: 0.9353 - val_loss: 0.8783 - val_accuracy: 0.8232\n",
      "Epoch 33/50\n",
      "235/235 [==============================] - ETA: 0s - loss: 0.1365 - accuracy: 0.93 - ETA: 0s - loss: 0.1076 - accuracy: 0.94 - ETA: 0s - loss: 0.1027 - accuracy: 0.95 - ETA: 0s - loss: 0.1150 - accuracy: 0.94 - ETA: 0s - loss: 0.1177 - accuracy: 0.94 - ETA: 0s - loss: 0.1151 - accuracy: 0.94 - ETA: 0s - loss: 0.1203 - accuracy: 0.94 - ETA: 0s - loss: 0.1240 - accuracy: 0.94 - ETA: 0s - loss: 0.1328 - accuracy: 0.94 - ETA: 0s - loss: 0.1313 - accuracy: 0.94 - ETA: 0s - loss: 0.1302 - accuracy: 0.94 - ETA: 0s - loss: 0.1313 - accuracy: 0.94 - ETA: 0s - loss: 0.1334 - accuracy: 0.94 - ETA: 0s - loss: 0.1333 - accuracy: 0.94 - ETA: 0s - loss: 0.1331 - accuracy: 0.94 - ETA: 0s - loss: 0.1347 - accuracy: 0.93 - ETA: 0s - loss: 0.1354 - accuracy: 0.93 - ETA: 0s - loss: 0.1382 - accuracy: 0.93 - ETA: 0s - loss: 0.1399 - accuracy: 0.93 - 1s 5ms/step - loss: 0.1399 - accuracy: 0.9360 - val_loss: 0.7472 - val_accuracy: 0.8368\n",
      "Epoch 34/50\n",
      "235/235 [==============================] - ETA: 0s - loss: 0.1081 - accuracy: 0.93 - ETA: 0s - loss: 0.1084 - accuracy: 0.94 - ETA: 0s - loss: 0.1245 - accuracy: 0.93 - ETA: 0s - loss: 0.1241 - accuracy: 0.93 - ETA: 0s - loss: 0.1275 - accuracy: 0.94 - ETA: 0s - loss: 0.1236 - accuracy: 0.94 - ETA: 0s - loss: 0.1242 - accuracy: 0.94 - ETA: 0s - loss: 0.1250 - accuracy: 0.94 - ETA: 0s - loss: 0.1263 - accuracy: 0.94 - ETA: 0s - loss: 0.1234 - accuracy: 0.94 - ETA: 0s - loss: 0.1240 - accuracy: 0.94 - ETA: 0s - loss: 0.1243 - accuracy: 0.94 - ETA: 0s - loss: 0.1275 - accuracy: 0.94 - ETA: 0s - loss: 0.1273 - accuracy: 0.94 - ETA: 0s - loss: 0.1281 - accuracy: 0.94 - ETA: 0s - loss: 0.1269 - accuracy: 0.94 - ETA: 0s - loss: 0.1283 - accuracy: 0.94 - ETA: 0s - loss: 0.1299 - accuracy: 0.94 - ETA: 0s - loss: 0.1292 - accuracy: 0.94 - 1s 5ms/step - loss: 0.1282 - accuracy: 0.9417 - val_loss: 0.9905 - val_accuracy: 0.8276\n",
      "Epoch 35/50\n",
      "235/235 [==============================] - ETA: 0s - loss: 0.0797 - accuracy: 0.96 - ETA: 0s - loss: 0.1144 - accuracy: 0.93 - ETA: 0s - loss: 0.1055 - accuracy: 0.94 - ETA: 0s - loss: 0.1047 - accuracy: 0.94 - ETA: 0s - loss: 0.1063 - accuracy: 0.94 - ETA: 0s - loss: 0.1142 - accuracy: 0.94 - ETA: 0s - loss: 0.1189 - accuracy: 0.93 - ETA: 0s - loss: 0.1191 - accuracy: 0.94 - ETA: 0s - loss: 0.1190 - accuracy: 0.93 - ETA: 0s - loss: 0.1220 - accuracy: 0.93 - ETA: 0s - loss: 0.1231 - accuracy: 0.94 - ETA: 0s - loss: 0.1217 - accuracy: 0.94 - ETA: 0s - loss: 0.1218 - accuracy: 0.94 - ETA: 0s - loss: 0.1222 - accuracy: 0.94 - ETA: 0s - loss: 0.1240 - accuracy: 0.94 - ETA: 0s - loss: 0.1267 - accuracy: 0.94 - ETA: 0s - loss: 0.1270 - accuracy: 0.94 - ETA: 0s - loss: 0.1286 - accuracy: 0.94 - ETA: 0s - loss: 0.1293 - accuracy: 0.93 - 1s 5ms/step - loss: 0.1291 - accuracy: 0.9391 - val_loss: 0.8864 - val_accuracy: 0.8256\n",
      "Epoch 36/50\n"
     ]
    },
    {
     "name": "stdout",
     "output_type": "stream",
     "text": [
      "235/235 [==============================] - ETA: 0s - loss: 0.1828 - accuracy: 0.90 - ETA: 0s - loss: 0.1222 - accuracy: 0.93 - ETA: 0s - loss: 0.1112 - accuracy: 0.94 - ETA: 0s - loss: 0.1132 - accuracy: 0.95 - ETA: 0s - loss: 0.1169 - accuracy: 0.95 - ETA: 0s - loss: 0.1111 - accuracy: 0.95 - ETA: 0s - loss: 0.1098 - accuracy: 0.95 - ETA: 0s - loss: 0.1089 - accuracy: 0.95 - ETA: 0s - loss: 0.1153 - accuracy: 0.95 - ETA: 0s - loss: 0.1131 - accuracy: 0.95 - ETA: 0s - loss: 0.1142 - accuracy: 0.95 - ETA: 0s - loss: 0.1207 - accuracy: 0.94 - ETA: 0s - loss: 0.1221 - accuracy: 0.94 - ETA: 0s - loss: 0.1222 - accuracy: 0.94 - ETA: 0s - loss: 0.1239 - accuracy: 0.94 - ETA: 0s - loss: 0.1233 - accuracy: 0.94 - ETA: 0s - loss: 0.1219 - accuracy: 0.94 - ETA: 0s - loss: 0.1217 - accuracy: 0.94 - ETA: 0s - loss: 0.1228 - accuracy: 0.94 - 1s 5ms/step - loss: 0.1227 - accuracy: 0.9472 - val_loss: 0.8426 - val_accuracy: 0.8352\n",
      "Epoch 37/50\n",
      "235/235 [==============================] - ETA: 0s - loss: 0.0653 - accuracy: 0.96 - ETA: 0s - loss: 0.0951 - accuracy: 0.95 - ETA: 0s - loss: 0.1183 - accuracy: 0.95 - ETA: 0s - loss: 0.1121 - accuracy: 0.95 - ETA: 0s - loss: 0.1074 - accuracy: 0.96 - ETA: 0s - loss: 0.1127 - accuracy: 0.95 - ETA: 0s - loss: 0.1124 - accuracy: 0.95 - ETA: 0s - loss: 0.1131 - accuracy: 0.95 - ETA: 0s - loss: 0.1186 - accuracy: 0.95 - ETA: 0s - loss: 0.1200 - accuracy: 0.95 - ETA: 0s - loss: 0.1172 - accuracy: 0.95 - ETA: 0s - loss: 0.1176 - accuracy: 0.95 - ETA: 0s - loss: 0.1184 - accuracy: 0.95 - ETA: 0s - loss: 0.1220 - accuracy: 0.95 - ETA: 0s - loss: 0.1210 - accuracy: 0.95 - ETA: 0s - loss: 0.1223 - accuracy: 0.95 - ETA: 0s - loss: 0.1230 - accuracy: 0.95 - ETA: 0s - loss: 0.1217 - accuracy: 0.95 - ETA: 0s - loss: 0.1228 - accuracy: 0.95 - 1s 5ms/step - loss: 0.1238 - accuracy: 0.9500 - val_loss: 0.9378 - val_accuracy: 0.8208\n",
      "Epoch 38/50\n",
      "235/235 [==============================] - ETA: 0s - loss: 0.0829 - accuracy: 0.96 - ETA: 0s - loss: 0.0822 - accuracy: 0.97 - ETA: 0s - loss: 0.0977 - accuracy: 0.95 - ETA: 0s - loss: 0.1048 - accuracy: 0.95 - ETA: 0s - loss: 0.1014 - accuracy: 0.95 - ETA: 0s - loss: 0.1022 - accuracy: 0.95 - ETA: 0s - loss: 0.1040 - accuracy: 0.95 - ETA: 0s - loss: 0.1039 - accuracy: 0.95 - ETA: 0s - loss: 0.1052 - accuracy: 0.95 - ETA: 0s - loss: 0.1063 - accuracy: 0.95 - ETA: 0s - loss: 0.1099 - accuracy: 0.95 - ETA: 0s - loss: 0.1105 - accuracy: 0.95 - ETA: 0s - loss: 0.1099 - accuracy: 0.95 - ETA: 0s - loss: 0.1078 - accuracy: 0.95 - ETA: 0s - loss: 0.1078 - accuracy: 0.95 - ETA: 0s - loss: 0.1081 - accuracy: 0.95 - ETA: 0s - loss: 0.1094 - accuracy: 0.95 - ETA: 0s - loss: 0.1087 - accuracy: 0.95 - ETA: 0s - loss: 0.1091 - accuracy: 0.95 - 1s 5ms/step - loss: 0.1104 - accuracy: 0.9536 - val_loss: 0.9566 - val_accuracy: 0.8268\n",
      "Epoch 39/50\n",
      "235/235 [==============================] - ETA: 0s - loss: 0.1240 - accuracy: 0.96 - ETA: 0s - loss: 0.1022 - accuracy: 0.97 - ETA: 0s - loss: 0.1098 - accuracy: 0.96 - ETA: 0s - loss: 0.1154 - accuracy: 0.96 - ETA: 0s - loss: 0.1137 - accuracy: 0.96 - ETA: 0s - loss: 0.1161 - accuracy: 0.95 - ETA: 0s - loss: 0.1141 - accuracy: 0.95 - ETA: 0s - loss: 0.1114 - accuracy: 0.95 - ETA: 0s - loss: 0.1121 - accuracy: 0.95 - ETA: 0s - loss: 0.1082 - accuracy: 0.95 - ETA: 0s - loss: 0.1095 - accuracy: 0.95 - ETA: 0s - loss: 0.1072 - accuracy: 0.95 - ETA: 0s - loss: 0.1059 - accuracy: 0.95 - ETA: 0s - loss: 0.1059 - accuracy: 0.95 - ETA: 0s - loss: 0.1061 - accuracy: 0.95 - ETA: 0s - loss: 0.1077 - accuracy: 0.95 - ETA: 0s - loss: 0.1089 - accuracy: 0.95 - ETA: 0s - loss: 0.1078 - accuracy: 0.95 - ETA: 0s - loss: 0.1070 - accuracy: 0.95 - 1s 5ms/step - loss: 0.1068 - accuracy: 0.9561 - val_loss: 1.0212 - val_accuracy: 0.8252\n",
      "Epoch 40/50\n",
      "235/235 [==============================] - ETA: 0s - loss: 0.0784 - accuracy: 1.00 - ETA: 0s - loss: 0.0683 - accuracy: 0.97 - ETA: 0s - loss: 0.1024 - accuracy: 0.96 - ETA: 0s - loss: 0.0924 - accuracy: 0.97 - ETA: 0s - loss: 0.0993 - accuracy: 0.96 - ETA: 0s - loss: 0.1004 - accuracy: 0.96 - ETA: 0s - loss: 0.1028 - accuracy: 0.96 - ETA: 0s - loss: 0.1049 - accuracy: 0.96 - ETA: 0s - loss: 0.1067 - accuracy: 0.95 - ETA: 0s - loss: 0.1052 - accuracy: 0.95 - ETA: 0s - loss: 0.1008 - accuracy: 0.96 - ETA: 0s - loss: 0.0995 - accuracy: 0.96 - ETA: 0s - loss: 0.0993 - accuracy: 0.96 - ETA: 0s - loss: 0.1000 - accuracy: 0.96 - ETA: 0s - loss: 0.0969 - accuracy: 0.96 - ETA: 0s - loss: 0.0948 - accuracy: 0.96 - ETA: 0s - loss: 0.0952 - accuracy: 0.96 - ETA: 0s - loss: 0.0961 - accuracy: 0.96 - ETA: 0s - loss: 0.0984 - accuracy: 0.96 - 1s 5ms/step - loss: 0.0982 - accuracy: 0.9615 - val_loss: 0.9359 - val_accuracy: 0.8024\n",
      "Epoch 41/50\n",
      "235/235 [==============================] - ETA: 0s - loss: 0.0259 - accuracy: 1.00 - ETA: 0s - loss: 0.0735 - accuracy: 0.97 - ETA: 0s - loss: 0.0969 - accuracy: 0.97 - ETA: 0s - loss: 0.0918 - accuracy: 0.96 - ETA: 0s - loss: 0.0869 - accuracy: 0.96 - ETA: 0s - loss: 0.0797 - accuracy: 0.96 - ETA: 0s - loss: 0.0877 - accuracy: 0.96 - ETA: 0s - loss: 0.0879 - accuracy: 0.96 - ETA: 0s - loss: 0.0902 - accuracy: 0.96 - ETA: 0s - loss: 0.0932 - accuracy: 0.96 - ETA: 0s - loss: 0.0938 - accuracy: 0.96 - ETA: 0s - loss: 0.0936 - accuracy: 0.96 - ETA: 0s - loss: 0.0983 - accuracy: 0.96 - ETA: 0s - loss: 0.0978 - accuracy: 0.95 - ETA: 0s - loss: 0.1019 - accuracy: 0.95 - ETA: 0s - loss: 0.1016 - accuracy: 0.95 - ETA: 0s - loss: 0.1023 - accuracy: 0.95 - ETA: 0s - loss: 0.1031 - accuracy: 0.95 - ETA: 0s - loss: 0.1013 - accuracy: 0.95 - 1s 5ms/step - loss: 0.1003 - accuracy: 0.9588 - val_loss: 1.0837 - val_accuracy: 0.8232\n",
      "Epoch 42/50\n",
      "235/235 [==============================] - ETA: 0s - loss: 0.0464 - accuracy: 1.00 - ETA: 0s - loss: 0.0870 - accuracy: 0.96 - ETA: 0s - loss: 0.0875 - accuracy: 0.96 - ETA: 0s - loss: 0.0760 - accuracy: 0.96 - ETA: 0s - loss: 0.0772 - accuracy: 0.96 - ETA: 0s - loss: 0.0784 - accuracy: 0.96 - ETA: 0s - loss: 0.0797 - accuracy: 0.96 - ETA: 0s - loss: 0.0821 - accuracy: 0.96 - ETA: 0s - loss: 0.0864 - accuracy: 0.96 - ETA: 0s - loss: 0.0868 - accuracy: 0.96 - ETA: 0s - loss: 0.0863 - accuracy: 0.96 - ETA: 0s - loss: 0.0893 - accuracy: 0.96 - ETA: 0s - loss: 0.0896 - accuracy: 0.96 - ETA: 0s - loss: 0.0876 - accuracy: 0.96 - ETA: 0s - loss: 0.0895 - accuracy: 0.96 - ETA: 0s - loss: 0.0889 - accuracy: 0.96 - ETA: 0s - loss: 0.0874 - accuracy: 0.96 - ETA: 0s - loss: 0.0867 - accuracy: 0.96 - ETA: 0s - loss: 0.0853 - accuracy: 0.96 - 1s 5ms/step - loss: 0.0856 - accuracy: 0.9651 - val_loss: 1.5096 - val_accuracy: 0.8252\n",
      "Epoch 43/50\n",
      "235/235 [==============================] - ETA: 0s - loss: 0.0712 - accuracy: 0.93 - ETA: 0s - loss: 0.1267 - accuracy: 0.95 - ETA: 0s - loss: 0.0879 - accuracy: 0.97 - ETA: 0s - loss: 0.0856 - accuracy: 0.96 - ETA: 0s - loss: 0.0841 - accuracy: 0.96 - ETA: 0s - loss: 0.0860 - accuracy: 0.96 - ETA: 0s - loss: 0.0816 - accuracy: 0.97 - ETA: 0s - loss: 0.0824 - accuracy: 0.96 - ETA: 0s - loss: 0.0845 - accuracy: 0.96 - ETA: 0s - loss: 0.0831 - accuracy: 0.96 - ETA: 0s - loss: 0.0871 - accuracy: 0.96 - ETA: 0s - loss: 0.0911 - accuracy: 0.96 - ETA: 0s - loss: 0.0930 - accuracy: 0.96 - ETA: 0s - loss: 0.0959 - accuracy: 0.96 - ETA: 0s - loss: 0.0948 - accuracy: 0.96 - ETA: 0s - loss: 0.0939 - accuracy: 0.96 - ETA: 0s - loss: 0.0963 - accuracy: 0.96 - ETA: 0s - loss: 0.0961 - accuracy: 0.96 - ETA: 0s - loss: 0.0964 - accuracy: 0.96 - 1s 5ms/step - loss: 0.0961 - accuracy: 0.9636 - val_loss: 0.9990 - val_accuracy: 0.8136\n",
      "Epoch 44/50\n"
     ]
    },
    {
     "name": "stdout",
     "output_type": "stream",
     "text": [
      "235/235 [==============================] - ETA: 0s - loss: 0.0896 - accuracy: 0.96 - ETA: 0s - loss: 0.0568 - accuracy: 0.98 - ETA: 0s - loss: 0.0713 - accuracy: 0.96 - ETA: 0s - loss: 0.0791 - accuracy: 0.96 - ETA: 0s - loss: 0.0730 - accuracy: 0.96 - ETA: 0s - loss: 0.0801 - accuracy: 0.96 - ETA: 0s - loss: 0.0803 - accuracy: 0.96 - ETA: 0s - loss: 0.0894 - accuracy: 0.96 - ETA: 0s - loss: 0.0906 - accuracy: 0.96 - ETA: 0s - loss: 0.0894 - accuracy: 0.96 - ETA: 0s - loss: 0.0850 - accuracy: 0.96 - ETA: 0s - loss: 0.0837 - accuracy: 0.96 - ETA: 0s - loss: 0.0827 - accuracy: 0.96 - ETA: 0s - loss: 0.0824 - accuracy: 0.96 - ETA: 0s - loss: 0.0857 - accuracy: 0.96 - ETA: 0s - loss: 0.0866 - accuracy: 0.96 - ETA: 0s - loss: 0.0874 - accuracy: 0.96 - ETA: 0s - loss: 0.0898 - accuracy: 0.96 - ETA: 0s - loss: 0.0891 - accuracy: 0.96 - 1s 5ms/step - loss: 0.0880 - accuracy: 0.9655 - val_loss: 0.9607 - val_accuracy: 0.8148\n",
      "Epoch 45/50\n",
      "235/235 [==============================] - ETA: 0s - loss: 0.1403 - accuracy: 0.90 - ETA: 0s - loss: 0.0552 - accuracy: 0.97 - ETA: 0s - loss: 0.0770 - accuracy: 0.97 - ETA: 0s - loss: 0.0717 - accuracy: 0.97 - ETA: 0s - loss: 0.0733 - accuracy: 0.97 - ETA: 0s - loss: 0.0748 - accuracy: 0.97 - ETA: 0s - loss: 0.0734 - accuracy: 0.97 - ETA: 0s - loss: 0.0773 - accuracy: 0.97 - ETA: 0s - loss: 0.0782 - accuracy: 0.96 - ETA: 0s - loss: 0.0755 - accuracy: 0.97 - ETA: 0s - loss: 0.0771 - accuracy: 0.97 - ETA: 0s - loss: 0.0758 - accuracy: 0.97 - ETA: 0s - loss: 0.0749 - accuracy: 0.97 - ETA: 0s - loss: 0.0779 - accuracy: 0.96 - ETA: 0s - loss: 0.0824 - accuracy: 0.96 - ETA: 0s - loss: 0.0824 - accuracy: 0.96 - ETA: 0s - loss: 0.0805 - accuracy: 0.96 - ETA: 0s - loss: 0.0833 - accuracy: 0.96 - ETA: 0s - loss: 0.0830 - accuracy: 0.96 - 1s 5ms/step - loss: 0.0828 - accuracy: 0.9669 - val_loss: 0.9836 - val_accuracy: 0.8152\n",
      "Epoch 46/50\n",
      "235/235 [==============================] - ETA: 0s - loss: 0.2170 - accuracy: 0.96 - ETA: 0s - loss: 0.0584 - accuracy: 0.98 - ETA: 0s - loss: 0.0497 - accuracy: 0.98 - ETA: 0s - loss: 0.0464 - accuracy: 0.98 - ETA: 0s - loss: 0.0448 - accuracy: 0.98 - ETA: 0s - loss: 0.0515 - accuracy: 0.97 - ETA: 0s - loss: 0.0551 - accuracy: 0.97 - ETA: 0s - loss: 0.0640 - accuracy: 0.97 - ETA: 0s - loss: 0.0672 - accuracy: 0.97 - ETA: 0s - loss: 0.0669 - accuracy: 0.97 - ETA: 0s - loss: 0.0673 - accuracy: 0.97 - ETA: 0s - loss: 0.0693 - accuracy: 0.97 - ETA: 0s - loss: 0.0684 - accuracy: 0.97 - ETA: 0s - loss: 0.0688 - accuracy: 0.97 - ETA: 0s - loss: 0.0676 - accuracy: 0.97 - ETA: 0s - loss: 0.0682 - accuracy: 0.97 - ETA: 0s - loss: 0.0688 - accuracy: 0.97 - ETA: 0s - loss: 0.0705 - accuracy: 0.97 - ETA: 0s - loss: 0.0700 - accuracy: 0.97 - 1s 5ms/step - loss: 0.0699 - accuracy: 0.9707 - val_loss: 1.3840 - val_accuracy: 0.8236\n",
      "Epoch 47/50\n",
      "235/235 [==============================] - ETA: 0s - loss: 0.0638 - accuracy: 0.96 - ETA: 0s - loss: 0.0680 - accuracy: 0.97 - ETA: 0s - loss: 0.0759 - accuracy: 0.97 - ETA: 0s - loss: 0.0730 - accuracy: 0.97 - ETA: 0s - loss: 0.0763 - accuracy: 0.97 - ETA: 0s - loss: 0.0748 - accuracy: 0.97 - ETA: 0s - loss: 0.0724 - accuracy: 0.97 - ETA: 0s - loss: 0.0724 - accuracy: 0.97 - ETA: 0s - loss: 0.0711 - accuracy: 0.97 - ETA: 0s - loss: 0.0701 - accuracy: 0.97 - ETA: 0s - loss: 0.0701 - accuracy: 0.97 - ETA: 0s - loss: 0.0701 - accuracy: 0.97 - ETA: 0s - loss: 0.0717 - accuracy: 0.96 - ETA: 0s - loss: 0.0727 - accuracy: 0.96 - ETA: 0s - loss: 0.0767 - accuracy: 0.96 - ETA: 0s - loss: 0.0778 - accuracy: 0.96 - ETA: 0s - loss: 0.0806 - accuracy: 0.96 - ETA: 0s - loss: 0.0819 - accuracy: 0.96 - ETA: 0s - loss: 0.0836 - accuracy: 0.96 - 1s 5ms/step - loss: 0.0843 - accuracy: 0.9641 - val_loss: 0.9005 - val_accuracy: 0.8208\n",
      "Epoch 48/50\n",
      "235/235 [==============================] - ETA: 0s - loss: 0.0292 - accuracy: 1.00 - ETA: 0s - loss: 0.0584 - accuracy: 0.97 - ETA: 0s - loss: 0.0583 - accuracy: 0.97 - ETA: 0s - loss: 0.0555 - accuracy: 0.97 - ETA: 0s - loss: 0.0562 - accuracy: 0.97 - ETA: 0s - loss: 0.0639 - accuracy: 0.97 - ETA: 0s - loss: 0.0641 - accuracy: 0.97 - ETA: 0s - loss: 0.0651 - accuracy: 0.97 - ETA: 0s - loss: 0.0649 - accuracy: 0.97 - ETA: 0s - loss: 0.0666 - accuracy: 0.97 - ETA: 0s - loss: 0.0715 - accuracy: 0.96 - ETA: 0s - loss: 0.0736 - accuracy: 0.96 - ETA: 0s - loss: 0.0744 - accuracy: 0.97 - ETA: 0s - loss: 0.0739 - accuracy: 0.97 - ETA: 0s - loss: 0.0743 - accuracy: 0.97 - ETA: 0s - loss: 0.0726 - accuracy: 0.97 - ETA: 0s - loss: 0.0731 - accuracy: 0.97 - ETA: 0s - loss: 0.0728 - accuracy: 0.97 - ETA: 0s - loss: 0.0728 - accuracy: 0.97 - 1s 5ms/step - loss: 0.0725 - accuracy: 0.9712 - val_loss: 1.4191 - val_accuracy: 0.8244\n",
      "Epoch 49/50\n",
      "235/235 [==============================] - ETA: 0s - loss: 0.3712 - accuracy: 0.93 - ETA: 0s - loss: 0.0701 - accuracy: 0.98 - ETA: 0s - loss: 0.0631 - accuracy: 0.98 - ETA: 0s - loss: 0.0534 - accuracy: 0.98 - ETA: 0s - loss: 0.0720 - accuracy: 0.98 - ETA: 0s - loss: 0.0721 - accuracy: 0.97 - ETA: 0s - loss: 0.0780 - accuracy: 0.97 - ETA: 0s - loss: 0.0777 - accuracy: 0.97 - ETA: 0s - loss: 0.0785 - accuracy: 0.97 - ETA: 0s - loss: 0.0852 - accuracy: 0.97 - ETA: 0s - loss: 0.0869 - accuracy: 0.97 - ETA: 0s - loss: 0.0873 - accuracy: 0.96 - ETA: 0s - loss: 0.0845 - accuracy: 0.97 - ETA: 0s - loss: 0.0817 - accuracy: 0.97 - ETA: 0s - loss: 0.0822 - accuracy: 0.97 - ETA: 0s - loss: 0.0816 - accuracy: 0.97 - ETA: 0s - loss: 0.0805 - accuracy: 0.97 - ETA: 0s - loss: 0.0810 - accuracy: 0.97 - ETA: 0s - loss: 0.0817 - accuracy: 0.97 - 1s 5ms/step - loss: 0.0837 - accuracy: 0.9713 - val_loss: 1.0403 - val_accuracy: 0.8108\n",
      "Epoch 50/50\n",
      "235/235 [==============================] - ETA: 0s - loss: 0.0475 - accuracy: 1.00 - ETA: 0s - loss: 0.0937 - accuracy: 0.96 - ETA: 0s - loss: 0.0925 - accuracy: 0.96 - ETA: 0s - loss: 0.0791 - accuracy: 0.96 - ETA: 0s - loss: 0.0758 - accuracy: 0.96 - ETA: 0s - loss: 0.0781 - accuracy: 0.96 - ETA: 0s - loss: 0.0822 - accuracy: 0.96 - ETA: 0s - loss: 0.0850 - accuracy: 0.96 - ETA: 0s - loss: 0.0874 - accuracy: 0.96 - ETA: 0s - loss: 0.0843 - accuracy: 0.96 - ETA: 0s - loss: 0.0859 - accuracy: 0.96 - ETA: 0s - loss: 0.0844 - accuracy: 0.96 - ETA: 0s - loss: 0.0854 - accuracy: 0.96 - ETA: 0s - loss: 0.0852 - accuracy: 0.96 - ETA: 0s - loss: 0.0847 - accuracy: 0.96 - ETA: 0s - loss: 0.0831 - accuracy: 0.96 - ETA: 0s - loss: 0.0820 - accuracy: 0.96 - ETA: 0s - loss: 0.0812 - accuracy: 0.96 - ETA: 0s - loss: 0.0817 - accuracy: 0.96 - ETA: 0s - loss: 0.0808 - accuracy: 0.96 - 1s 5ms/step - loss: 0.0812 - accuracy: 0.9660 - val_loss: 1.1004 - val_accuracy: 0.8296\n",
      "Epoch 1/50\n",
      "235/235 [==============================] - ETA: 0s - loss: 0.6950 - accuracy: 0.40 - ETA: 0s - loss: 0.5733 - accuracy: 0.73 - ETA: 0s - loss: 0.5463 - accuracy: 0.75 - ETA: 0s - loss: 0.5045 - accuracy: 0.77 - ETA: 0s - loss: 0.4969 - accuracy: 0.77 - ETA: 0s - loss: 0.4788 - accuracy: 0.77 - ETA: 0s - loss: 0.4717 - accuracy: 0.78 - ETA: 0s - loss: 0.4621 - accuracy: 0.79 - ETA: 0s - loss: 0.4532 - accuracy: 0.79 - ETA: 0s - loss: 0.4402 - accuracy: 0.80 - ETA: 0s - loss: 0.4363 - accuracy: 0.80 - ETA: 0s - loss: 0.4263 - accuracy: 0.81 - ETA: 0s - loss: 0.4212 - accuracy: 0.81 - ETA: 0s - loss: 0.4198 - accuracy: 0.81 - ETA: 0s - loss: 0.4181 - accuracy: 0.81 - ETA: 0s - loss: 0.4182 - accuracy: 0.81 - ETA: 0s - loss: 0.4178 - accuracy: 0.82 - ETA: 0s - loss: 0.4164 - accuracy: 0.82 - ETA: 0s - loss: 0.4105 - accuracy: 0.82 - ETA: 0s - loss: 0.4096 - accuracy: 0.82 - 1s 5ms/step - loss: 0.4092 - accuracy: 0.8260 - val_loss: 0.3521 - val_accuracy: 0.8644\n",
      "Epoch 2/50\n"
     ]
    },
    {
     "name": "stdout",
     "output_type": "stream",
     "text": [
      "235/235 [==============================] - ETA: 0s - loss: 0.3699 - accuracy: 0.84 - ETA: 0s - loss: 0.3249 - accuracy: 0.87 - ETA: 0s - loss: 0.3644 - accuracy: 0.85 - ETA: 0s - loss: 0.3690 - accuracy: 0.85 - ETA: 0s - loss: 0.3679 - accuracy: 0.84 - ETA: 0s - loss: 0.3628 - accuracy: 0.84 - ETA: 0s - loss: 0.3650 - accuracy: 0.85 - ETA: 0s - loss: 0.3677 - accuracy: 0.85 - ETA: 0s - loss: 0.3613 - accuracy: 0.85 - ETA: 0s - loss: 0.3630 - accuracy: 0.85 - ETA: 0s - loss: 0.3636 - accuracy: 0.85 - ETA: 0s - loss: 0.3692 - accuracy: 0.84 - ETA: 0s - loss: 0.3681 - accuracy: 0.85 - ETA: 0s - loss: 0.3681 - accuracy: 0.85 - ETA: 0s - loss: 0.3681 - accuracy: 0.85 - ETA: 0s - loss: 0.3672 - accuracy: 0.85 - ETA: 0s - loss: 0.3658 - accuracy: 0.85 - ETA: 0s - loss: 0.3663 - accuracy: 0.85 - ETA: 0s - loss: 0.3639 - accuracy: 0.85 - ETA: 0s - loss: 0.3602 - accuracy: 0.85 - 1s 5ms/step - loss: 0.3600 - accuracy: 0.8545 - val_loss: 0.3477 - val_accuracy: 0.8476\n",
      "Epoch 3/50\n",
      "235/235 [==============================] - ETA: 0s - loss: 0.3150 - accuracy: 0.84 - ETA: 0s - loss: 0.3340 - accuracy: 0.86 - ETA: 0s - loss: 0.3378 - accuracy: 0.86 - ETA: 0s - loss: 0.3238 - accuracy: 0.87 - ETA: 0s - loss: 0.3162 - accuracy: 0.87 - ETA: 0s - loss: 0.3175 - accuracy: 0.87 - ETA: 0s - loss: 0.3220 - accuracy: 0.87 - ETA: 0s - loss: 0.3267 - accuracy: 0.87 - ETA: 0s - loss: 0.3243 - accuracy: 0.87 - ETA: 0s - loss: 0.3310 - accuracy: 0.86 - ETA: 0s - loss: 0.3328 - accuracy: 0.86 - ETA: 0s - loss: 0.3312 - accuracy: 0.86 - ETA: 0s - loss: 0.3352 - accuracy: 0.86 - ETA: 0s - loss: 0.3400 - accuracy: 0.86 - ETA: 0s - loss: 0.3433 - accuracy: 0.86 - ETA: 0s - loss: 0.3427 - accuracy: 0.86 - ETA: 0s - loss: 0.3424 - accuracy: 0.86 - ETA: 0s - loss: 0.3429 - accuracy: 0.86 - ETA: 0s - loss: 0.3445 - accuracy: 0.86 - 1s 5ms/step - loss: 0.3471 - accuracy: 0.8612 - val_loss: 0.3590 - val_accuracy: 0.8532\n",
      "Epoch 4/50\n",
      "235/235 [==============================] - ETA: 0s - loss: 0.4430 - accuracy: 0.78 - ETA: 0s - loss: 0.3595 - accuracy: 0.85 - ETA: 0s - loss: 0.3528 - accuracy: 0.86 - ETA: 0s - loss: 0.3440 - accuracy: 0.86 - ETA: 0s - loss: 0.3385 - accuracy: 0.86 - ETA: 0s - loss: 0.3313 - accuracy: 0.86 - ETA: 0s - loss: 0.3333 - accuracy: 0.86 - ETA: 0s - loss: 0.3356 - accuracy: 0.86 - ETA: 0s - loss: 0.3404 - accuracy: 0.86 - ETA: 0s - loss: 0.3392 - accuracy: 0.86 - ETA: 0s - loss: 0.3395 - accuracy: 0.86 - ETA: 0s - loss: 0.3371 - accuracy: 0.86 - ETA: 0s - loss: 0.3336 - accuracy: 0.86 - ETA: 0s - loss: 0.3397 - accuracy: 0.86 - ETA: 0s - loss: 0.3440 - accuracy: 0.86 - ETA: 0s - loss: 0.3420 - accuracy: 0.86 - ETA: 0s - loss: 0.3422 - accuracy: 0.86 - ETA: 0s - loss: 0.3427 - accuracy: 0.86 - ETA: 0s - loss: 0.3409 - accuracy: 0.86 - ETA: 0s - loss: 0.3419 - accuracy: 0.86 - 1s 5ms/step - loss: 0.3419 - accuracy: 0.8615 - val_loss: 0.3484 - val_accuracy: 0.8524\n",
      "Epoch 5/50\n",
      "235/235 [==============================] - ETA: 0s - loss: 0.1892 - accuracy: 0.93 - ETA: 0s - loss: 0.2939 - accuracy: 0.88 - ETA: 0s - loss: 0.3356 - accuracy: 0.85 - ETA: 0s - loss: 0.3318 - accuracy: 0.86 - ETA: 0s - loss: 0.3417 - accuracy: 0.85 - ETA: 0s - loss: 0.3405 - accuracy: 0.86 - ETA: 0s - loss: 0.3483 - accuracy: 0.85 - ETA: 0s - loss: 0.3416 - accuracy: 0.85 - ETA: 0s - loss: 0.3386 - accuracy: 0.86 - ETA: 0s - loss: 0.3316 - accuracy: 0.86 - ETA: 0s - loss: 0.3339 - accuracy: 0.86 - ETA: 0s - loss: 0.3330 - accuracy: 0.86 - ETA: 0s - loss: 0.3369 - accuracy: 0.86 - ETA: 0s - loss: 0.3361 - accuracy: 0.86 - ETA: 0s - loss: 0.3360 - accuracy: 0.86 - ETA: 0s - loss: 0.3341 - accuracy: 0.86 - ETA: 0s - loss: 0.3328 - accuracy: 0.86 - ETA: 0s - loss: 0.3351 - accuracy: 0.86 - ETA: 0s - loss: 0.3357 - accuracy: 0.86 - 1s 5ms/step - loss: 0.3365 - accuracy: 0.8631 - val_loss: 0.3351 - val_accuracy: 0.8628\n",
      "Epoch 6/50\n",
      "235/235 [==============================] - ETA: 0s - loss: 0.3369 - accuracy: 0.84 - ETA: 0s - loss: 0.3071 - accuracy: 0.87 - ETA: 0s - loss: 0.3072 - accuracy: 0.87 - ETA: 0s - loss: 0.2982 - accuracy: 0.87 - ETA: 0s - loss: 0.2910 - accuracy: 0.88 - ETA: 0s - loss: 0.3029 - accuracy: 0.87 - ETA: 0s - loss: 0.3069 - accuracy: 0.87 - ETA: 0s - loss: 0.3091 - accuracy: 0.87 - ETA: 0s - loss: 0.3097 - accuracy: 0.87 - ETA: 0s - loss: 0.3125 - accuracy: 0.87 - ETA: 0s - loss: 0.3165 - accuracy: 0.87 - ETA: 0s - loss: 0.3204 - accuracy: 0.87 - ETA: 0s - loss: 0.3250 - accuracy: 0.86 - ETA: 0s - loss: 0.3284 - accuracy: 0.86 - ETA: 0s - loss: 0.3297 - accuracy: 0.86 - ETA: 0s - loss: 0.3309 - accuracy: 0.86 - ETA: 0s - loss: 0.3313 - accuracy: 0.86 - ETA: 0s - loss: 0.3309 - accuracy: 0.86 - ETA: 0s - loss: 0.3306 - accuracy: 0.86 - 1s 5ms/step - loss: 0.3291 - accuracy: 0.8649 - val_loss: 0.3425 - val_accuracy: 0.8600\n",
      "Epoch 7/50\n",
      "235/235 [==============================] - ETA: 0s - loss: 0.1398 - accuracy: 0.96 - ETA: 0s - loss: 0.2988 - accuracy: 0.87 - ETA: 0s - loss: 0.3106 - accuracy: 0.87 - ETA: 0s - loss: 0.3140 - accuracy: 0.86 - ETA: 0s - loss: 0.3137 - accuracy: 0.87 - ETA: 0s - loss: 0.3160 - accuracy: 0.87 - ETA: 0s - loss: 0.3151 - accuracy: 0.86 - ETA: 0s - loss: 0.3159 - accuracy: 0.86 - ETA: 0s - loss: 0.3156 - accuracy: 0.86 - ETA: 0s - loss: 0.3154 - accuracy: 0.86 - ETA: 0s - loss: 0.3120 - accuracy: 0.86 - ETA: 0s - loss: 0.3129 - accuracy: 0.86 - ETA: 0s - loss: 0.3151 - accuracy: 0.86 - ETA: 0s - loss: 0.3163 - accuracy: 0.86 - ETA: 0s - loss: 0.3166 - accuracy: 0.86 - ETA: 0s - loss: 0.3160 - accuracy: 0.86 - ETA: 0s - loss: 0.3161 - accuracy: 0.86 - ETA: 0s - loss: 0.3216 - accuracy: 0.86 - ETA: 0s - loss: 0.3230 - accuracy: 0.86 - 1s 5ms/step - loss: 0.3241 - accuracy: 0.8635 - val_loss: 0.3545 - val_accuracy: 0.8580\n",
      "Epoch 8/50\n",
      "235/235 [==============================] - ETA: 0s - loss: 0.2833 - accuracy: 0.90 - ETA: 0s - loss: 0.2696 - accuracy: 0.89 - ETA: 0s - loss: 0.3151 - accuracy: 0.87 - ETA: 0s - loss: 0.3195 - accuracy: 0.87 - ETA: 0s - loss: 0.3110 - accuracy: 0.88 - ETA: 0s - loss: 0.3096 - accuracy: 0.87 - ETA: 0s - loss: 0.3146 - accuracy: 0.87 - ETA: 0s - loss: 0.3240 - accuracy: 0.86 - ETA: 0s - loss: 0.3226 - accuracy: 0.86 - ETA: 0s - loss: 0.3145 - accuracy: 0.87 - ETA: 0s - loss: 0.3158 - accuracy: 0.86 - ETA: 0s - loss: 0.3146 - accuracy: 0.86 - ETA: 0s - loss: 0.3130 - accuracy: 0.87 - ETA: 0s - loss: 0.3147 - accuracy: 0.87 - ETA: 0s - loss: 0.3150 - accuracy: 0.87 - ETA: 0s - loss: 0.3151 - accuracy: 0.87 - ETA: 0s - loss: 0.3175 - accuracy: 0.87 - ETA: 0s - loss: 0.3186 - accuracy: 0.87 - ETA: 0s - loss: 0.3203 - accuracy: 0.86 - 1s 5ms/step - loss: 0.3213 - accuracy: 0.8697 - val_loss: 0.3500 - val_accuracy: 0.8560\n",
      "Epoch 9/50\n",
      "235/235 [==============================] - ETA: 0s - loss: 0.2284 - accuracy: 0.90 - ETA: 0s - loss: 0.3062 - accuracy: 0.87 - ETA: 0s - loss: 0.3110 - accuracy: 0.87 - ETA: 0s - loss: 0.3016 - accuracy: 0.87 - ETA: 0s - loss: 0.2904 - accuracy: 0.88 - ETA: 0s - loss: 0.2861 - accuracy: 0.88 - ETA: 0s - loss: 0.2891 - accuracy: 0.88 - ETA: 0s - loss: 0.2979 - accuracy: 0.87 - ETA: 0s - loss: 0.3027 - accuracy: 0.87 - ETA: 0s - loss: 0.3024 - accuracy: 0.87 - ETA: 0s - loss: 0.3081 - accuracy: 0.87 - ETA: 0s - loss: 0.3058 - accuracy: 0.87 - ETA: 0s - loss: 0.3058 - accuracy: 0.87 - ETA: 0s - loss: 0.3010 - accuracy: 0.87 - ETA: 0s - loss: 0.2992 - accuracy: 0.87 - ETA: 0s - loss: 0.2992 - accuracy: 0.87 - ETA: 0s - loss: 0.3013 - accuracy: 0.87 - ETA: 0s - loss: 0.3044 - accuracy: 0.87 - ETA: 0s - loss: 0.3071 - accuracy: 0.87 - ETA: 0s - loss: 0.3093 - accuracy: 0.87 - 1s 5ms/step - loss: 0.3093 - accuracy: 0.8708 - val_loss: 0.3519 - val_accuracy: 0.8540\n",
      "Epoch 10/50\n"
     ]
    },
    {
     "name": "stdout",
     "output_type": "stream",
     "text": [
      "235/235 [==============================] - ETA: 0s - loss: 0.4217 - accuracy: 0.84 - ETA: 0s - loss: 0.3404 - accuracy: 0.85 - ETA: 0s - loss: 0.3019 - accuracy: 0.87 - ETA: 0s - loss: 0.3004 - accuracy: 0.87 - ETA: 0s - loss: 0.2951 - accuracy: 0.87 - ETA: 0s - loss: 0.2986 - accuracy: 0.87 - ETA: 0s - loss: 0.2977 - accuracy: 0.87 - ETA: 0s - loss: 0.2993 - accuracy: 0.87 - ETA: 0s - loss: 0.3007 - accuracy: 0.87 - ETA: 0s - loss: 0.2975 - accuracy: 0.87 - ETA: 0s - loss: 0.2948 - accuracy: 0.87 - ETA: 0s - loss: 0.2916 - accuracy: 0.88 - ETA: 0s - loss: 0.2932 - accuracy: 0.88 - ETA: 0s - loss: 0.2969 - accuracy: 0.87 - ETA: 0s - loss: 0.3003 - accuracy: 0.87 - ETA: 0s - loss: 0.3040 - accuracy: 0.87 - ETA: 0s - loss: 0.3046 - accuracy: 0.87 - ETA: 0s - loss: 0.3047 - accuracy: 0.87 - ETA: 0s - loss: 0.3070 - accuracy: 0.87 - ETA: 0s - loss: 0.3062 - accuracy: 0.87 - ETA: 0s - loss: 0.3045 - accuracy: 0.87 - ETA: 0s - loss: 0.3076 - accuracy: 0.87 - 1s 5ms/step - loss: 0.3076 - accuracy: 0.8740 - val_loss: 0.3575 - val_accuracy: 0.8496\n",
      "Epoch 11/50\n",
      "235/235 [==============================] - ETA: 0s - loss: 0.3825 - accuracy: 0.81 - ETA: 1s - loss: 0.3116 - accuracy: 0.86 - ETA: 1s - loss: 0.3013 - accuracy: 0.87 - ETA: 0s - loss: 0.2993 - accuracy: 0.87 - ETA: 0s - loss: 0.2986 - accuracy: 0.87 - ETA: 0s - loss: 0.3084 - accuracy: 0.86 - ETA: 0s - loss: 0.3091 - accuracy: 0.86 - ETA: 0s - loss: 0.3067 - accuracy: 0.86 - ETA: 0s - loss: 0.3022 - accuracy: 0.86 - ETA: 0s - loss: 0.2965 - accuracy: 0.87 - ETA: 0s - loss: 0.2978 - accuracy: 0.87 - ETA: 0s - loss: 0.2991 - accuracy: 0.87 - ETA: 0s - loss: 0.2998 - accuracy: 0.87 - ETA: 0s - loss: 0.2969 - accuracy: 0.87 - ETA: 0s - loss: 0.2971 - accuracy: 0.87 - ETA: 0s - loss: 0.2975 - accuracy: 0.87 - ETA: 0s - loss: 0.2979 - accuracy: 0.87 - ETA: 0s - loss: 0.2995 - accuracy: 0.87 - ETA: 0s - loss: 0.2969 - accuracy: 0.87 - ETA: 0s - loss: 0.2935 - accuracy: 0.87 - ETA: 0s - loss: 0.2953 - accuracy: 0.87 - ETA: 0s - loss: 0.2932 - accuracy: 0.87 - ETA: 0s - loss: 0.2963 - accuracy: 0.87 - ETA: 0s - loss: 0.2983 - accuracy: 0.87 - 1s 6ms/step - loss: 0.2981 - accuracy: 0.8764 - val_loss: 0.3534 - val_accuracy: 0.8540\n",
      "Epoch 12/50\n",
      "235/235 [==============================] - ETA: 0s - loss: 0.1442 - accuracy: 0.96 - ETA: 1s - loss: 0.2731 - accuracy: 0.87 - ETA: 1s - loss: 0.2705 - accuracy: 0.87 - ETA: 1s - loss: 0.2665 - accuracy: 0.88 - ETA: 1s - loss: 0.2729 - accuracy: 0.88 - ETA: 1s - loss: 0.2677 - accuracy: 0.88 - ETA: 0s - loss: 0.2702 - accuracy: 0.88 - ETA: 0s - loss: 0.2732 - accuracy: 0.88 - ETA: 0s - loss: 0.2756 - accuracy: 0.88 - ETA: 0s - loss: 0.2720 - accuracy: 0.88 - ETA: 0s - loss: 0.2783 - accuracy: 0.88 - ETA: 0s - loss: 0.2814 - accuracy: 0.88 - ETA: 0s - loss: 0.2803 - accuracy: 0.88 - ETA: 0s - loss: 0.2847 - accuracy: 0.88 - ETA: 0s - loss: 0.2834 - accuracy: 0.88 - ETA: 0s - loss: 0.2854 - accuracy: 0.88 - ETA: 0s - loss: 0.2820 - accuracy: 0.88 - ETA: 0s - loss: 0.2837 - accuracy: 0.88 - ETA: 0s - loss: 0.2863 - accuracy: 0.88 - ETA: 0s - loss: 0.2875 - accuracy: 0.87 - ETA: 0s - loss: 0.2894 - accuracy: 0.87 - ETA: 0s - loss: 0.2888 - accuracy: 0.87 - 1s 5ms/step - loss: 0.2902 - accuracy: 0.8785 - val_loss: 0.3621 - val_accuracy: 0.8592\n",
      "Epoch 13/50\n",
      "235/235 [==============================] - ETA: 0s - loss: 0.1671 - accuracy: 1.00 - ETA: 0s - loss: 0.2127 - accuracy: 0.93 - ETA: 0s - loss: 0.2723 - accuracy: 0.89 - ETA: 0s - loss: 0.2736 - accuracy: 0.89 - ETA: 0s - loss: 0.2705 - accuracy: 0.89 - ETA: 0s - loss: 0.2675 - accuracy: 0.89 - ETA: 0s - loss: 0.2728 - accuracy: 0.88 - ETA: 0s - loss: 0.2710 - accuracy: 0.88 - ETA: 0s - loss: 0.2790 - accuracy: 0.88 - ETA: 0s - loss: 0.2763 - accuracy: 0.88 - ETA: 0s - loss: 0.2753 - accuracy: 0.88 - ETA: 0s - loss: 0.2772 - accuracy: 0.88 - ETA: 0s - loss: 0.2833 - accuracy: 0.88 - ETA: 0s - loss: 0.2846 - accuracy: 0.88 - ETA: 0s - loss: 0.2860 - accuracy: 0.88 - ETA: 0s - loss: 0.2875 - accuracy: 0.88 - ETA: 0s - loss: 0.2877 - accuracy: 0.87 - ETA: 0s - loss: 0.2842 - accuracy: 0.88 - ETA: 0s - loss: 0.2856 - accuracy: 0.88 - ETA: 0s - loss: 0.2857 - accuracy: 0.88 - 1s 5ms/step - loss: 0.2862 - accuracy: 0.8809 - val_loss: 0.3856 - val_accuracy: 0.8524\n",
      "Epoch 14/50\n",
      "235/235 [==============================] - ETA: 0s - loss: 0.1718 - accuracy: 0.96 - ETA: 0s - loss: 0.2769 - accuracy: 0.87 - ETA: 0s - loss: 0.2664 - accuracy: 0.89 - ETA: 0s - loss: 0.2565 - accuracy: 0.89 - ETA: 0s - loss: 0.2591 - accuracy: 0.89 - ETA: 0s - loss: 0.2612 - accuracy: 0.89 - ETA: 0s - loss: 0.2667 - accuracy: 0.89 - ETA: 0s - loss: 0.2684 - accuracy: 0.88 - ETA: 0s - loss: 0.2663 - accuracy: 0.88 - ETA: 0s - loss: 0.2716 - accuracy: 0.88 - ETA: 0s - loss: 0.2721 - accuracy: 0.88 - ETA: 0s - loss: 0.2752 - accuracy: 0.88 - ETA: 0s - loss: 0.2760 - accuracy: 0.88 - ETA: 0s - loss: 0.2772 - accuracy: 0.88 - ETA: 0s - loss: 0.2730 - accuracy: 0.88 - ETA: 0s - loss: 0.2744 - accuracy: 0.88 - ETA: 0s - loss: 0.2765 - accuracy: 0.88 - ETA: 0s - loss: 0.2758 - accuracy: 0.88 - ETA: 0s - loss: 0.2756 - accuracy: 0.88 - ETA: 0s - loss: 0.2787 - accuracy: 0.88 - 1s 5ms/step - loss: 0.2787 - accuracy: 0.8809 - val_loss: 0.3821 - val_accuracy: 0.8548\n",
      "Epoch 15/50\n",
      "235/235 [==============================] - ETA: 0s - loss: 0.3277 - accuracy: 0.81 - ETA: 0s - loss: 0.2769 - accuracy: 0.86 - ETA: 0s - loss: 0.2781 - accuracy: 0.86 - ETA: 0s - loss: 0.2679 - accuracy: 0.87 - ETA: 0s - loss: 0.2547 - accuracy: 0.87 - ETA: 0s - loss: 0.2533 - accuracy: 0.88 - ETA: 0s - loss: 0.2572 - accuracy: 0.88 - ETA: 0s - loss: 0.2547 - accuracy: 0.88 - ETA: 0s - loss: 0.2570 - accuracy: 0.88 - ETA: 0s - loss: 0.2600 - accuracy: 0.88 - ETA: 0s - loss: 0.2585 - accuracy: 0.88 - ETA: 0s - loss: 0.2558 - accuracy: 0.88 - ETA: 0s - loss: 0.2616 - accuracy: 0.88 - ETA: 0s - loss: 0.2645 - accuracy: 0.88 - ETA: 0s - loss: 0.2643 - accuracy: 0.88 - ETA: 0s - loss: 0.2650 - accuracy: 0.88 - ETA: 0s - loss: 0.2654 - accuracy: 0.88 - ETA: 0s - loss: 0.2655 - accuracy: 0.88 - ETA: 0s - loss: 0.2669 - accuracy: 0.88 - ETA: 0s - loss: 0.2668 - accuracy: 0.88 - 1s 5ms/step - loss: 0.2677 - accuracy: 0.8832 - val_loss: 0.3997 - val_accuracy: 0.8488\n",
      "Epoch 16/50\n",
      "235/235 [==============================] - ETA: 0s - loss: 0.2054 - accuracy: 0.96 - ETA: 0s - loss: 0.2771 - accuracy: 0.90 - ETA: 0s - loss: 0.2972 - accuracy: 0.87 - ETA: 0s - loss: 0.2779 - accuracy: 0.87 - ETA: 0s - loss: 0.2733 - accuracy: 0.88 - ETA: 0s - loss: 0.2621 - accuracy: 0.88 - ETA: 0s - loss: 0.2630 - accuracy: 0.88 - ETA: 0s - loss: 0.2577 - accuracy: 0.89 - ETA: 0s - loss: 0.2564 - accuracy: 0.88 - ETA: 0s - loss: 0.2595 - accuracy: 0.88 - ETA: 0s - loss: 0.2580 - accuracy: 0.88 - ETA: 0s - loss: 0.2614 - accuracy: 0.88 - ETA: 0s - loss: 0.2591 - accuracy: 0.88 - ETA: 0s - loss: 0.2606 - accuracy: 0.88 - ETA: 0s - loss: 0.2595 - accuracy: 0.88 - ETA: 0s - loss: 0.2593 - accuracy: 0.88 - ETA: 0s - loss: 0.2585 - accuracy: 0.88 - ETA: 0s - loss: 0.2596 - accuracy: 0.88 - ETA: 0s - loss: 0.2586 - accuracy: 0.88 - 1s 5ms/step - loss: 0.2604 - accuracy: 0.8861 - val_loss: 0.3862 - val_accuracy: 0.8592\n",
      "Epoch 17/50\n",
      "235/235 [==============================] - ETA: 0s - loss: 0.2239 - accuracy: 0.87 - ETA: 0s - loss: 0.2404 - accuracy: 0.89 - ETA: 0s - loss: 0.2366 - accuracy: 0.90 - ETA: 0s - loss: 0.2316 - accuracy: 0.90 - ETA: 0s - loss: 0.2470 - accuracy: 0.89 - ETA: 0s - loss: 0.2412 - accuracy: 0.89 - ETA: 0s - loss: 0.2414 - accuracy: 0.89 - ETA: 0s - loss: 0.2445 - accuracy: 0.89 - ETA: 0s - loss: 0.2488 - accuracy: 0.89 - ETA: 0s - loss: 0.2472 - accuracy: 0.89 - ETA: 0s - loss: 0.2496 - accuracy: 0.89 - ETA: 0s - loss: 0.2541 - accuracy: 0.89 - ETA: 0s - loss: 0.2517 - accuracy: 0.89 - ETA: 0s - loss: 0.2516 - accuracy: 0.89 - ETA: 0s - loss: 0.2521 - accuracy: 0.89 - ETA: 0s - loss: 0.2511 - accuracy: 0.89 - ETA: 0s - loss: 0.2505 - accuracy: 0.89 - ETA: 0s - loss: 0.2521 - accuracy: 0.88 - ETA: 0s - loss: 0.2523 - accuracy: 0.88 - ETA: 0s - loss: 0.2520 - accuracy: 0.88 - 1s 5ms/step - loss: 0.2514 - accuracy: 0.8897 - val_loss: 0.4281 - val_accuracy: 0.8488\n",
      "Epoch 18/50\n"
     ]
    },
    {
     "name": "stdout",
     "output_type": "stream",
     "text": [
      "235/235 [==============================] - ETA: 0s - loss: 0.0794 - accuracy: 1.00 - ETA: 0s - loss: 0.2550 - accuracy: 0.88 - ETA: 0s - loss: 0.2526 - accuracy: 0.88 - ETA: 0s - loss: 0.2434 - accuracy: 0.89 - ETA: 0s - loss: 0.2504 - accuracy: 0.88 - ETA: 0s - loss: 0.2463 - accuracy: 0.89 - ETA: 0s - loss: 0.2414 - accuracy: 0.89 - ETA: 0s - loss: 0.2425 - accuracy: 0.89 - ETA: 0s - loss: 0.2420 - accuracy: 0.89 - ETA: 0s - loss: 0.2398 - accuracy: 0.89 - ETA: 0s - loss: 0.2430 - accuracy: 0.89 - ETA: 0s - loss: 0.2392 - accuracy: 0.89 - ETA: 0s - loss: 0.2417 - accuracy: 0.89 - ETA: 0s - loss: 0.2418 - accuracy: 0.89 - ETA: 0s - loss: 0.2430 - accuracy: 0.89 - ETA: 0s - loss: 0.2410 - accuracy: 0.89 - ETA: 0s - loss: 0.2429 - accuracy: 0.89 - ETA: 0s - loss: 0.2420 - accuracy: 0.89 - ETA: 0s - loss: 0.2433 - accuracy: 0.89 - ETA: 0s - loss: 0.2445 - accuracy: 0.89 - 1s 5ms/step - loss: 0.2451 - accuracy: 0.8913 - val_loss: 0.4252 - val_accuracy: 0.8576\n",
      "Epoch 19/50\n",
      "235/235 [==============================] - ETA: 0s - loss: 0.2679 - accuracy: 0.84 - ETA: 0s - loss: 0.2091 - accuracy: 0.91 - ETA: 0s - loss: 0.2023 - accuracy: 0.91 - ETA: 0s - loss: 0.2183 - accuracy: 0.90 - ETA: 0s - loss: 0.2174 - accuracy: 0.90 - ETA: 0s - loss: 0.2163 - accuracy: 0.90 - ETA: 0s - loss: 0.2192 - accuracy: 0.90 - ETA: 0s - loss: 0.2204 - accuracy: 0.90 - ETA: 0s - loss: 0.2212 - accuracy: 0.90 - ETA: 0s - loss: 0.2226 - accuracy: 0.90 - ETA: 0s - loss: 0.2269 - accuracy: 0.90 - ETA: 0s - loss: 0.2265 - accuracy: 0.90 - ETA: 0s - loss: 0.2282 - accuracy: 0.89 - ETA: 0s - loss: 0.2323 - accuracy: 0.89 - ETA: 0s - loss: 0.2351 - accuracy: 0.89 - ETA: 0s - loss: 0.2361 - accuracy: 0.89 - ETA: 0s - loss: 0.2356 - accuracy: 0.89 - ETA: 0s - loss: 0.2368 - accuracy: 0.89 - ETA: 0s - loss: 0.2361 - accuracy: 0.89 - 1s 5ms/step - loss: 0.2357 - accuracy: 0.8957 - val_loss: 0.4745 - val_accuracy: 0.8524\n",
      "Epoch 20/50\n",
      "235/235 [==============================] - ETA: 0s - loss: 0.2448 - accuracy: 0.90 - ETA: 1s - loss: 0.2003 - accuracy: 0.90 - ETA: 0s - loss: 0.1882 - accuracy: 0.91 - ETA: 1s - loss: 0.1955 - accuracy: 0.91 - ETA: 0s - loss: 0.1967 - accuracy: 0.91 - ETA: 0s - loss: 0.2051 - accuracy: 0.90 - ETA: 0s - loss: 0.2132 - accuracy: 0.90 - ETA: 0s - loss: 0.2130 - accuracy: 0.90 - ETA: 0s - loss: 0.2165 - accuracy: 0.90 - ETA: 0s - loss: 0.2174 - accuracy: 0.90 - ETA: 0s - loss: 0.2121 - accuracy: 0.90 - ETA: 0s - loss: 0.2125 - accuracy: 0.90 - ETA: 0s - loss: 0.2172 - accuracy: 0.90 - ETA: 0s - loss: 0.2187 - accuracy: 0.90 - ETA: 0s - loss: 0.2206 - accuracy: 0.90 - ETA: 0s - loss: 0.2225 - accuracy: 0.90 - ETA: 0s - loss: 0.2231 - accuracy: 0.90 - ETA: 0s - loss: 0.2241 - accuracy: 0.90 - ETA: 0s - loss: 0.2256 - accuracy: 0.90 - ETA: 0s - loss: 0.2249 - accuracy: 0.90 - 1s 5ms/step - loss: 0.2255 - accuracy: 0.9001 - val_loss: 0.5023 - val_accuracy: 0.8432\n",
      "Epoch 21/50\n",
      "235/235 [==============================] - ETA: 0s - loss: 0.1622 - accuracy: 0.90 - ETA: 1s - loss: 0.1883 - accuracy: 0.92 - ETA: 1s - loss: 0.2086 - accuracy: 0.90 - ETA: 1s - loss: 0.2090 - accuracy: 0.90 - ETA: 0s - loss: 0.1953 - accuracy: 0.91 - ETA: 0s - loss: 0.1978 - accuracy: 0.90 - ETA: 0s - loss: 0.1972 - accuracy: 0.91 - ETA: 0s - loss: 0.2074 - accuracy: 0.90 - ETA: 0s - loss: 0.2071 - accuracy: 0.90 - ETA: 0s - loss: 0.2079 - accuracy: 0.90 - ETA: 0s - loss: 0.2113 - accuracy: 0.90 - ETA: 0s - loss: 0.2143 - accuracy: 0.90 - ETA: 0s - loss: 0.2137 - accuracy: 0.90 - ETA: 0s - loss: 0.2143 - accuracy: 0.90 - ETA: 0s - loss: 0.2153 - accuracy: 0.90 - ETA: 0s - loss: 0.2175 - accuracy: 0.90 - ETA: 0s - loss: 0.2183 - accuracy: 0.90 - ETA: 0s - loss: 0.2185 - accuracy: 0.90 - ETA: 0s - loss: 0.2202 - accuracy: 0.90 - ETA: 0s - loss: 0.2205 - accuracy: 0.90 - 1s 5ms/step - loss: 0.2208 - accuracy: 0.9023 - val_loss: 0.4794 - val_accuracy: 0.8464\n",
      "Epoch 22/50\n",
      "235/235 [==============================] - ETA: 0s - loss: 0.2594 - accuracy: 0.90 - ETA: 0s - loss: 0.2171 - accuracy: 0.89 - ETA: 0s - loss: 0.2147 - accuracy: 0.90 - ETA: 0s - loss: 0.2116 - accuracy: 0.90 - ETA: 0s - loss: 0.2114 - accuracy: 0.90 - ETA: 0s - loss: 0.2168 - accuracy: 0.90 - ETA: 0s - loss: 0.2133 - accuracy: 0.90 - ETA: 0s - loss: 0.2096 - accuracy: 0.90 - ETA: 0s - loss: 0.2112 - accuracy: 0.90 - ETA: 0s - loss: 0.2141 - accuracy: 0.90 - ETA: 0s - loss: 0.2083 - accuracy: 0.90 - ETA: 0s - loss: 0.2107 - accuracy: 0.90 - ETA: 0s - loss: 0.2118 - accuracy: 0.90 - ETA: 0s - loss: 0.2135 - accuracy: 0.90 - ETA: 0s - loss: 0.2135 - accuracy: 0.90 - ETA: 0s - loss: 0.2110 - accuracy: 0.90 - ETA: 0s - loss: 0.2119 - accuracy: 0.90 - ETA: 0s - loss: 0.2142 - accuracy: 0.90 - ETA: 0s - loss: 0.2154 - accuracy: 0.90 - ETA: 0s - loss: 0.2154 - accuracy: 0.90 - 1s 5ms/step - loss: 0.2150 - accuracy: 0.9035 - val_loss: 0.5535 - val_accuracy: 0.8424\n",
      "Epoch 23/50\n",
      "235/235 [==============================] - ETA: 0s - loss: 0.1880 - accuracy: 0.87 - ETA: 0s - loss: 0.1543 - accuracy: 0.93 - ETA: 0s - loss: 0.1705 - accuracy: 0.92 - ETA: 0s - loss: 0.1696 - accuracy: 0.92 - ETA: 0s - loss: 0.1676 - accuracy: 0.92 - ETA: 0s - loss: 0.1705 - accuracy: 0.91 - ETA: 0s - loss: 0.1712 - accuracy: 0.91 - ETA: 0s - loss: 0.1787 - accuracy: 0.91 - ETA: 0s - loss: 0.1810 - accuracy: 0.91 - ETA: 0s - loss: 0.1835 - accuracy: 0.91 - ETA: 0s - loss: 0.1868 - accuracy: 0.91 - ETA: 0s - loss: 0.1884 - accuracy: 0.91 - ETA: 0s - loss: 0.1922 - accuracy: 0.91 - ETA: 0s - loss: 0.1958 - accuracy: 0.91 - ETA: 0s - loss: 0.1990 - accuracy: 0.91 - ETA: 0s - loss: 0.1999 - accuracy: 0.90 - ETA: 0s - loss: 0.1998 - accuracy: 0.90 - ETA: 0s - loss: 0.2003 - accuracy: 0.90 - ETA: 0s - loss: 0.1997 - accuracy: 0.90 - ETA: 0s - loss: 0.2013 - accuracy: 0.90 - 1s 5ms/step - loss: 0.2013 - accuracy: 0.9084 - val_loss: 0.5482 - val_accuracy: 0.8372\n",
      "Epoch 24/50\n",
      "235/235 [==============================] - ETA: 0s - loss: 0.1458 - accuracy: 0.93 - ETA: 0s - loss: 0.1757 - accuracy: 0.91 - ETA: 0s - loss: 0.1673 - accuracy: 0.92 - ETA: 0s - loss: 0.1786 - accuracy: 0.91 - ETA: 0s - loss: 0.1730 - accuracy: 0.91 - ETA: 0s - loss: 0.1750 - accuracy: 0.91 - ETA: 0s - loss: 0.1771 - accuracy: 0.91 - ETA: 0s - loss: 0.1789 - accuracy: 0.91 - ETA: 0s - loss: 0.1796 - accuracy: 0.91 - ETA: 0s - loss: 0.1785 - accuracy: 0.91 - ETA: 0s - loss: 0.1807 - accuracy: 0.91 - ETA: 0s - loss: 0.1809 - accuracy: 0.91 - ETA: 0s - loss: 0.1813 - accuracy: 0.91 - ETA: 0s - loss: 0.1825 - accuracy: 0.91 - ETA: 0s - loss: 0.1848 - accuracy: 0.91 - ETA: 0s - loss: 0.1853 - accuracy: 0.91 - ETA: 0s - loss: 0.1870 - accuracy: 0.91 - ETA: 0s - loss: 0.1905 - accuracy: 0.91 - ETA: 0s - loss: 0.1917 - accuracy: 0.91 - ETA: 0s - loss: 0.1908 - accuracy: 0.91 - 1s 5ms/step - loss: 0.1906 - accuracy: 0.9124 - val_loss: 0.6537 - val_accuracy: 0.8344\n",
      "Epoch 25/50\n",
      "235/235 [==============================] - ETA: 0s - loss: 0.1296 - accuracy: 0.93 - ETA: 0s - loss: 0.1494 - accuracy: 0.93 - ETA: 0s - loss: 0.1416 - accuracy: 0.94 - ETA: 0s - loss: 0.1552 - accuracy: 0.92 - ETA: 0s - loss: 0.1576 - accuracy: 0.92 - ETA: 0s - loss: 0.1649 - accuracy: 0.92 - ETA: 0s - loss: 0.1613 - accuracy: 0.92 - ETA: 0s - loss: 0.1594 - accuracy: 0.92 - ETA: 0s - loss: 0.1632 - accuracy: 0.92 - ETA: 0s - loss: 0.1648 - accuracy: 0.92 - ETA: 0s - loss: 0.1681 - accuracy: 0.92 - ETA: 0s - loss: 0.1708 - accuracy: 0.92 - ETA: 0s - loss: 0.1720 - accuracy: 0.92 - ETA: 0s - loss: 0.1707 - accuracy: 0.92 - ETA: 0s - loss: 0.1761 - accuracy: 0.92 - ETA: 0s - loss: 0.1782 - accuracy: 0.92 - ETA: 0s - loss: 0.1799 - accuracy: 0.92 - ETA: 0s - loss: 0.1782 - accuracy: 0.92 - ETA: 0s - loss: 0.1774 - accuracy: 0.92 - ETA: 0s - loss: 0.1807 - accuracy: 0.92 - 1s 5ms/step - loss: 0.1820 - accuracy: 0.9195 - val_loss: 0.5880 - val_accuracy: 0.8252\n",
      "Epoch 26/50\n"
     ]
    },
    {
     "name": "stdout",
     "output_type": "stream",
     "text": [
      "235/235 [==============================] - ETA: 0s - loss: 0.2260 - accuracy: 0.90 - ETA: 0s - loss: 0.1795 - accuracy: 0.92 - ETA: 0s - loss: 0.1570 - accuracy: 0.93 - ETA: 0s - loss: 0.1498 - accuracy: 0.93 - ETA: 0s - loss: 0.1669 - accuracy: 0.92 - ETA: 0s - loss: 0.1697 - accuracy: 0.92 - ETA: 0s - loss: 0.1689 - accuracy: 0.92 - ETA: 0s - loss: 0.1669 - accuracy: 0.92 - ETA: 0s - loss: 0.1722 - accuracy: 0.92 - ETA: 0s - loss: 0.1716 - accuracy: 0.92 - ETA: 0s - loss: 0.1754 - accuracy: 0.92 - ETA: 0s - loss: 0.1762 - accuracy: 0.92 - ETA: 0s - loss: 0.1717 - accuracy: 0.92 - ETA: 0s - loss: 0.1723 - accuracy: 0.92 - ETA: 0s - loss: 0.1727 - accuracy: 0.92 - ETA: 0s - loss: 0.1730 - accuracy: 0.92 - ETA: 0s - loss: 0.1746 - accuracy: 0.92 - ETA: 0s - loss: 0.1730 - accuracy: 0.92 - ETA: 0s - loss: 0.1732 - accuracy: 0.92 - ETA: 0s - loss: 0.1712 - accuracy: 0.92 - ETA: 0s - loss: 0.1735 - accuracy: 0.92 - 1s 5ms/step - loss: 0.1765 - accuracy: 0.9211 - val_loss: 0.6059 - val_accuracy: 0.8304\n",
      "Epoch 27/50\n",
      "235/235 [==============================] - ETA: 0s - loss: 0.2256 - accuracy: 0.84 - ETA: 0s - loss: 0.1991 - accuracy: 0.90 - ETA: 0s - loss: 0.1808 - accuracy: 0.92 - ETA: 0s - loss: 0.1692 - accuracy: 0.92 - ETA: 0s - loss: 0.1639 - accuracy: 0.92 - ETA: 0s - loss: 0.1633 - accuracy: 0.92 - ETA: 0s - loss: 0.1700 - accuracy: 0.92 - ETA: 0s - loss: 0.1708 - accuracy: 0.92 - ETA: 0s - loss: 0.1730 - accuracy: 0.92 - ETA: 0s - loss: 0.1771 - accuracy: 0.91 - ETA: 0s - loss: 0.1763 - accuracy: 0.91 - ETA: 0s - loss: 0.1732 - accuracy: 0.92 - ETA: 0s - loss: 0.1708 - accuracy: 0.92 - ETA: 0s - loss: 0.1702 - accuracy: 0.92 - ETA: 0s - loss: 0.1712 - accuracy: 0.92 - ETA: 0s - loss: 0.1695 - accuracy: 0.92 - ETA: 0s - loss: 0.1698 - accuracy: 0.92 - ETA: 0s - loss: 0.1702 - accuracy: 0.92 - ETA: 0s - loss: 0.1701 - accuracy: 0.92 - 1s 5ms/step - loss: 0.1695 - accuracy: 0.9237 - val_loss: 0.7104 - val_accuracy: 0.8332\n",
      "Epoch 28/50\n",
      "235/235 [==============================] - ETA: 0s - loss: 0.2219 - accuracy: 0.90 - ETA: 0s - loss: 0.1396 - accuracy: 0.93 - ETA: 0s - loss: 0.1414 - accuracy: 0.93 - ETA: 0s - loss: 0.1293 - accuracy: 0.94 - ETA: 0s - loss: 0.1255 - accuracy: 0.94 - ETA: 0s - loss: 0.1317 - accuracy: 0.94 - ETA: 0s - loss: 0.1463 - accuracy: 0.93 - ETA: 0s - loss: 0.1516 - accuracy: 0.93 - ETA: 0s - loss: 0.1550 - accuracy: 0.92 - ETA: 0s - loss: 0.1511 - accuracy: 0.93 - ETA: 0s - loss: 0.1530 - accuracy: 0.92 - ETA: 0s - loss: 0.1534 - accuracy: 0.92 - ETA: 0s - loss: 0.1562 - accuracy: 0.92 - ETA: 0s - loss: 0.1579 - accuracy: 0.92 - ETA: 0s - loss: 0.1626 - accuracy: 0.92 - ETA: 0s - loss: 0.1616 - accuracy: 0.92 - ETA: 0s - loss: 0.1646 - accuracy: 0.92 - ETA: 0s - loss: 0.1641 - accuracy: 0.92 - ETA: 0s - loss: 0.1651 - accuracy: 0.92 - 1s 5ms/step - loss: 0.1664 - accuracy: 0.9237 - val_loss: 0.6907 - val_accuracy: 0.8284\n",
      "Epoch 29/50\n",
      "235/235 [==============================] - ETA: 0s - loss: 0.1792 - accuracy: 0.90 - ETA: 0s - loss: 0.1519 - accuracy: 0.94 - ETA: 0s - loss: 0.1492 - accuracy: 0.93 - ETA: 0s - loss: 0.1371 - accuracy: 0.94 - ETA: 0s - loss: 0.1347 - accuracy: 0.94 - ETA: 0s - loss: 0.1408 - accuracy: 0.93 - ETA: 0s - loss: 0.1390 - accuracy: 0.93 - ETA: 0s - loss: 0.1423 - accuracy: 0.93 - ETA: 0s - loss: 0.1463 - accuracy: 0.93 - ETA: 0s - loss: 0.1465 - accuracy: 0.93 - ETA: 0s - loss: 0.1481 - accuracy: 0.93 - ETA: 0s - loss: 0.1482 - accuracy: 0.93 - ETA: 0s - loss: 0.1482 - accuracy: 0.93 - ETA: 0s - loss: 0.1479 - accuracy: 0.93 - ETA: 0s - loss: 0.1495 - accuracy: 0.93 - ETA: 0s - loss: 0.1518 - accuracy: 0.93 - ETA: 0s - loss: 0.1517 - accuracy: 0.93 - ETA: 0s - loss: 0.1510 - accuracy: 0.93 - ETA: 0s - loss: 0.1529 - accuracy: 0.93 - ETA: 0s - loss: 0.1536 - accuracy: 0.93 - ETA: 0s - loss: 0.1532 - accuracy: 0.93 - 1s 5ms/step - loss: 0.1532 - accuracy: 0.9328 - val_loss: 0.8149 - val_accuracy: 0.8348\n",
      "Epoch 30/50\n",
      "235/235 [==============================] - ETA: 0s - loss: 0.1140 - accuracy: 0.96 - ETA: 0s - loss: 0.1334 - accuracy: 0.93 - ETA: 1s - loss: 0.1249 - accuracy: 0.93 - ETA: 0s - loss: 0.1215 - accuracy: 0.93 - ETA: 0s - loss: 0.1262 - accuracy: 0.93 - ETA: 0s - loss: 0.1296 - accuracy: 0.93 - ETA: 0s - loss: 0.1355 - accuracy: 0.93 - ETA: 0s - loss: 0.1396 - accuracy: 0.93 - ETA: 0s - loss: 0.1438 - accuracy: 0.93 - ETA: 0s - loss: 0.1468 - accuracy: 0.93 - ETA: 0s - loss: 0.1471 - accuracy: 0.93 - ETA: 0s - loss: 0.1470 - accuracy: 0.93 - ETA: 0s - loss: 0.1472 - accuracy: 0.93 - ETA: 0s - loss: 0.1472 - accuracy: 0.93 - ETA: 0s - loss: 0.1450 - accuracy: 0.93 - ETA: 0s - loss: 0.1466 - accuracy: 0.93 - ETA: 0s - loss: 0.1462 - accuracy: 0.93 - ETA: 0s - loss: 0.1435 - accuracy: 0.93 - ETA: 0s - loss: 0.1442 - accuracy: 0.93 - ETA: 0s - loss: 0.1457 - accuracy: 0.93 - ETA: 0s - loss: 0.1450 - accuracy: 0.93 - 1s 5ms/step - loss: 0.1448 - accuracy: 0.9324 - val_loss: 0.8265 - val_accuracy: 0.8376\n",
      "Epoch 31/50\n",
      "235/235 [==============================] - ETA: 0s - loss: 0.0394 - accuracy: 1.00 - ETA: 0s - loss: 0.0907 - accuracy: 0.96 - ETA: 0s - loss: 0.1082 - accuracy: 0.95 - ETA: 0s - loss: 0.1407 - accuracy: 0.94 - ETA: 0s - loss: 0.1439 - accuracy: 0.94 - ETA: 0s - loss: 0.1438 - accuracy: 0.94 - ETA: 0s - loss: 0.1459 - accuracy: 0.94 - ETA: 0s - loss: 0.1466 - accuracy: 0.93 - ETA: 0s - loss: 0.1465 - accuracy: 0.93 - ETA: 0s - loss: 0.1451 - accuracy: 0.93 - ETA: 0s - loss: 0.1491 - accuracy: 0.93 - ETA: 0s - loss: 0.1498 - accuracy: 0.93 - ETA: 0s - loss: 0.1482 - accuracy: 0.93 - ETA: 0s - loss: 0.1525 - accuracy: 0.93 - ETA: 0s - loss: 0.1554 - accuracy: 0.93 - ETA: 0s - loss: 0.1583 - accuracy: 0.93 - ETA: 0s - loss: 0.1581 - accuracy: 0.93 - ETA: 0s - loss: 0.1573 - accuracy: 0.93 - ETA: 0s - loss: 0.1566 - accuracy: 0.93 - ETA: 0s - loss: 0.1561 - accuracy: 0.93 - ETA: 0s - loss: 0.1545 - accuracy: 0.93 - 1s 5ms/step - loss: 0.1543 - accuracy: 0.9347 - val_loss: 0.8621 - val_accuracy: 0.8236\n",
      "Epoch 32/50\n",
      "235/235 [==============================] - ETA: 0s - loss: 0.0834 - accuracy: 0.96 - ETA: 0s - loss: 0.0986 - accuracy: 0.94 - ETA: 0s - loss: 0.0896 - accuracy: 0.95 - ETA: 0s - loss: 0.0949 - accuracy: 0.95 - ETA: 0s - loss: 0.1143 - accuracy: 0.94 - ETA: 0s - loss: 0.1155 - accuracy: 0.94 - ETA: 0s - loss: 0.1192 - accuracy: 0.94 - ETA: 0s - loss: 0.1272 - accuracy: 0.94 - ETA: 0s - loss: 0.1324 - accuracy: 0.94 - ETA: 0s - loss: 0.1321 - accuracy: 0.94 - ETA: 0s - loss: 0.1319 - accuracy: 0.94 - ETA: 0s - loss: 0.1314 - accuracy: 0.94 - ETA: 0s - loss: 0.1349 - accuracy: 0.94 - ETA: 0s - loss: 0.1344 - accuracy: 0.94 - ETA: 0s - loss: 0.1361 - accuracy: 0.93 - ETA: 0s - loss: 0.1383 - accuracy: 0.93 - ETA: 0s - loss: 0.1378 - accuracy: 0.93 - ETA: 0s - loss: 0.1368 - accuracy: 0.93 - ETA: 0s - loss: 0.1368 - accuracy: 0.93 - 1s 5ms/step - loss: 0.1362 - accuracy: 0.9399 - val_loss: 0.8372 - val_accuracy: 0.8220\n",
      "Epoch 33/50\n",
      "235/235 [==============================] - ETA: 0s - loss: 0.1066 - accuracy: 0.93 - ETA: 0s - loss: 0.1301 - accuracy: 0.93 - ETA: 0s - loss: 0.1219 - accuracy: 0.94 - ETA: 0s - loss: 0.1185 - accuracy: 0.94 - ETA: 0s - loss: 0.1206 - accuracy: 0.94 - ETA: 0s - loss: 0.1190 - accuracy: 0.94 - ETA: 0s - loss: 0.1175 - accuracy: 0.94 - ETA: 0s - loss: 0.1174 - accuracy: 0.94 - ETA: 0s - loss: 0.1256 - accuracy: 0.94 - ETA: 0s - loss: 0.1275 - accuracy: 0.94 - ETA: 0s - loss: 0.1263 - accuracy: 0.94 - ETA: 0s - loss: 0.1251 - accuracy: 0.94 - ETA: 0s - loss: 0.1247 - accuracy: 0.94 - ETA: 0s - loss: 0.1244 - accuracy: 0.94 - ETA: 0s - loss: 0.1259 - accuracy: 0.94 - ETA: 0s - loss: 0.1266 - accuracy: 0.94 - ETA: 0s - loss: 0.1269 - accuracy: 0.94 - ETA: 0s - loss: 0.1271 - accuracy: 0.94 - ETA: 0s - loss: 0.1275 - accuracy: 0.94 - 1s 5ms/step - loss: 0.1273 - accuracy: 0.9428 - val_loss: 0.8853 - val_accuracy: 0.8312\n",
      "Epoch 34/50\n"
     ]
    },
    {
     "name": "stdout",
     "output_type": "stream",
     "text": [
      "235/235 [==============================] - ETA: 0s - loss: 0.2367 - accuracy: 0.96 - ETA: 0s - loss: 0.1059 - accuracy: 0.96 - ETA: 0s - loss: 0.1025 - accuracy: 0.96 - ETA: 0s - loss: 0.1127 - accuracy: 0.95 - ETA: 0s - loss: 0.1113 - accuracy: 0.95 - ETA: 0s - loss: 0.1159 - accuracy: 0.95 - ETA: 0s - loss: 0.1171 - accuracy: 0.95 - ETA: 0s - loss: 0.1172 - accuracy: 0.95 - ETA: 0s - loss: 0.1175 - accuracy: 0.95 - ETA: 0s - loss: 0.1205 - accuracy: 0.94 - ETA: 0s - loss: 0.1210 - accuracy: 0.94 - ETA: 0s - loss: 0.1232 - accuracy: 0.94 - ETA: 0s - loss: 0.1194 - accuracy: 0.94 - ETA: 0s - loss: 0.1211 - accuracy: 0.94 - ETA: 0s - loss: 0.1211 - accuracy: 0.94 - ETA: 0s - loss: 0.1217 - accuracy: 0.94 - ETA: 0s - loss: 0.1219 - accuracy: 0.94 - ETA: 0s - loss: 0.1232 - accuracy: 0.94 - ETA: 0s - loss: 0.1238 - accuracy: 0.94 - 1s 5ms/step - loss: 0.1254 - accuracy: 0.9485 - val_loss: 0.8425 - val_accuracy: 0.8344\n",
      "Epoch 35/50\n",
      "235/235 [==============================] - ETA: 0s - loss: 0.1711 - accuracy: 0.90 - ETA: 0s - loss: 0.1179 - accuracy: 0.94 - ETA: 0s - loss: 0.1061 - accuracy: 0.95 - ETA: 0s - loss: 0.1067 - accuracy: 0.95 - ETA: 0s - loss: 0.1012 - accuracy: 0.95 - ETA: 0s - loss: 0.1019 - accuracy: 0.95 - ETA: 0s - loss: 0.1033 - accuracy: 0.95 - ETA: 0s - loss: 0.1048 - accuracy: 0.95 - ETA: 0s - loss: 0.1055 - accuracy: 0.95 - ETA: 0s - loss: 0.1071 - accuracy: 0.95 - ETA: 0s - loss: 0.1067 - accuracy: 0.95 - ETA: 0s - loss: 0.1048 - accuracy: 0.95 - ETA: 0s - loss: 0.1068 - accuracy: 0.95 - ETA: 0s - loss: 0.1075 - accuracy: 0.95 - ETA: 0s - loss: 0.1112 - accuracy: 0.95 - ETA: 0s - loss: 0.1110 - accuracy: 0.95 - ETA: 0s - loss: 0.1110 - accuracy: 0.95 - ETA: 0s - loss: 0.1116 - accuracy: 0.95 - ETA: 0s - loss: 0.1122 - accuracy: 0.95 - ETA: 0s - loss: 0.1127 - accuracy: 0.95 - 1s 5ms/step - loss: 0.1137 - accuracy: 0.9507 - val_loss: 0.9390 - val_accuracy: 0.8228\n",
      "Epoch 36/50\n",
      "235/235 [==============================] - ETA: 0s - loss: 0.0807 - accuracy: 0.96 - ETA: 0s - loss: 0.0948 - accuracy: 0.96 - ETA: 0s - loss: 0.1205 - accuracy: 0.95 - ETA: 0s - loss: 0.1075 - accuracy: 0.95 - ETA: 0s - loss: 0.1127 - accuracy: 0.95 - ETA: 0s - loss: 0.1079 - accuracy: 0.95 - ETA: 0s - loss: 0.1064 - accuracy: 0.95 - ETA: 0s - loss: 0.1059 - accuracy: 0.95 - ETA: 0s - loss: 0.1076 - accuracy: 0.95 - ETA: 0s - loss: 0.1125 - accuracy: 0.95 - ETA: 0s - loss: 0.1130 - accuracy: 0.95 - ETA: 0s - loss: 0.1132 - accuracy: 0.95 - ETA: 0s - loss: 0.1133 - accuracy: 0.95 - ETA: 0s - loss: 0.1154 - accuracy: 0.95 - ETA: 0s - loss: 0.1165 - accuracy: 0.95 - ETA: 0s - loss: 0.1177 - accuracy: 0.95 - ETA: 0s - loss: 0.1184 - accuracy: 0.95 - ETA: 0s - loss: 0.1177 - accuracy: 0.94 - ETA: 0s - loss: 0.1167 - accuracy: 0.95 - 1s 5ms/step - loss: 0.1166 - accuracy: 0.9503 - val_loss: 0.9928 - val_accuracy: 0.8284\n",
      "Epoch 37/50\n",
      "235/235 [==============================] - ETA: 0s - loss: 0.1314 - accuracy: 0.96 - ETA: 0s - loss: 0.0846 - accuracy: 0.96 - ETA: 0s - loss: 0.0792 - accuracy: 0.96 - ETA: 0s - loss: 0.0899 - accuracy: 0.96 - ETA: 0s - loss: 0.0851 - accuracy: 0.96 - ETA: 0s - loss: 0.0794 - accuracy: 0.96 - ETA: 0s - loss: 0.0859 - accuracy: 0.96 - ETA: 0s - loss: 0.0877 - accuracy: 0.96 - ETA: 0s - loss: 0.0884 - accuracy: 0.96 - ETA: 0s - loss: 0.0878 - accuracy: 0.96 - ETA: 0s - loss: 0.0895 - accuracy: 0.96 - ETA: 0s - loss: 0.0899 - accuracy: 0.96 - ETA: 0s - loss: 0.0942 - accuracy: 0.96 - ETA: 0s - loss: 0.0941 - accuracy: 0.96 - ETA: 0s - loss: 0.0987 - accuracy: 0.95 - ETA: 0s - loss: 0.1007 - accuracy: 0.95 - ETA: 0s - loss: 0.1024 - accuracy: 0.95 - ETA: 0s - loss: 0.1026 - accuracy: 0.95 - ETA: 0s - loss: 0.1030 - accuracy: 0.95 - ETA: 0s - loss: 0.1042 - accuracy: 0.95 - 1s 5ms/step - loss: 0.1042 - accuracy: 0.9571 - val_loss: 0.9657 - val_accuracy: 0.8232\n",
      "Epoch 38/50\n",
      "235/235 [==============================] - ETA: 0s - loss: 0.0134 - accuracy: 1.00 - ETA: 0s - loss: 0.0761 - accuracy: 0.96 - ETA: 0s - loss: 0.0742 - accuracy: 0.96 - ETA: 0s - loss: 0.0769 - accuracy: 0.96 - ETA: 0s - loss: 0.0813 - accuracy: 0.96 - ETA: 0s - loss: 0.0818 - accuracy: 0.96 - ETA: 0s - loss: 0.0809 - accuracy: 0.96 - ETA: 0s - loss: 0.0821 - accuracy: 0.96 - ETA: 0s - loss: 0.0859 - accuracy: 0.96 - ETA: 0s - loss: 0.0865 - accuracy: 0.96 - ETA: 0s - loss: 0.0856 - accuracy: 0.96 - ETA: 0s - loss: 0.0879 - accuracy: 0.96 - ETA: 0s - loss: 0.0927 - accuracy: 0.95 - ETA: 0s - loss: 0.0938 - accuracy: 0.95 - ETA: 0s - loss: 0.0944 - accuracy: 0.96 - ETA: 0s - loss: 0.0949 - accuracy: 0.96 - ETA: 0s - loss: 0.0971 - accuracy: 0.95 - ETA: 0s - loss: 0.0995 - accuracy: 0.95 - ETA: 0s - loss: 0.1003 - accuracy: 0.95 - 1s 5ms/step - loss: 0.1003 - accuracy: 0.9571 - val_loss: 1.0071 - val_accuracy: 0.8308\n",
      "Epoch 39/50\n",
      "235/235 [==============================] - ETA: 0s - loss: 0.0799 - accuracy: 0.96 - ETA: 0s - loss: 0.0654 - accuracy: 0.97 - ETA: 0s - loss: 0.0782 - accuracy: 0.96 - ETA: 0s - loss: 0.0776 - accuracy: 0.97 - ETA: 0s - loss: 0.0754 - accuracy: 0.97 - ETA: 0s - loss: 0.0721 - accuracy: 0.97 - ETA: 0s - loss: 0.0751 - accuracy: 0.97 - ETA: 0s - loss: 0.0816 - accuracy: 0.96 - ETA: 0s - loss: 0.0836 - accuracy: 0.96 - ETA: 0s - loss: 0.0874 - accuracy: 0.96 - ETA: 0s - loss: 0.0913 - accuracy: 0.96 - ETA: 0s - loss: 0.0959 - accuracy: 0.96 - ETA: 0s - loss: 0.0968 - accuracy: 0.96 - ETA: 0s - loss: 0.0995 - accuracy: 0.96 - ETA: 0s - loss: 0.1003 - accuracy: 0.96 - ETA: 0s - loss: 0.1019 - accuracy: 0.95 - ETA: 0s - loss: 0.1017 - accuracy: 0.95 - ETA: 0s - loss: 0.1012 - accuracy: 0.95 - 1s 5ms/step - loss: 0.1005 - accuracy: 0.9599 - val_loss: 1.0023 - val_accuracy: 0.8232\n",
      "Epoch 40/50\n",
      "235/235 [==============================] - ETA: 0s - loss: 0.0375 - accuracy: 1.00 - ETA: 0s - loss: 0.0601 - accuracy: 0.97 - ETA: 0s - loss: 0.0762 - accuracy: 0.96 - ETA: 0s - loss: 0.0824 - accuracy: 0.96 - ETA: 0s - loss: 0.0733 - accuracy: 0.97 - ETA: 0s - loss: 0.0823 - accuracy: 0.96 - ETA: 0s - loss: 0.0833 - accuracy: 0.96 - ETA: 0s - loss: 0.0883 - accuracy: 0.96 - ETA: 0s - loss: 0.0906 - accuracy: 0.96 - ETA: 0s - loss: 0.0934 - accuracy: 0.96 - ETA: 0s - loss: 0.0945 - accuracy: 0.96 - ETA: 0s - loss: 0.0992 - accuracy: 0.96 - ETA: 0s - loss: 0.1014 - accuracy: 0.96 - ETA: 0s - loss: 0.1013 - accuracy: 0.96 - ETA: 0s - loss: 0.1017 - accuracy: 0.96 - ETA: 0s - loss: 0.1026 - accuracy: 0.95 - ETA: 0s - loss: 0.1025 - accuracy: 0.95 - ETA: 0s - loss: 0.1020 - accuracy: 0.95 - 1s 4ms/step - loss: 0.1029 - accuracy: 0.9584 - val_loss: 1.1294 - val_accuracy: 0.8348\n",
      "Epoch 41/50\n",
      "235/235 [==============================] - ETA: 0s - loss: 0.0496 - accuracy: 0.96 - ETA: 0s - loss: 0.0711 - accuracy: 0.97 - ETA: 0s - loss: 0.0733 - accuracy: 0.96 - ETA: 0s - loss: 0.0724 - accuracy: 0.96 - ETA: 0s - loss: 0.0676 - accuracy: 0.97 - ETA: 0s - loss: 0.0684 - accuracy: 0.97 - ETA: 0s - loss: 0.0677 - accuracy: 0.96 - ETA: 0s - loss: 0.0759 - accuracy: 0.96 - ETA: 0s - loss: 0.0810 - accuracy: 0.96 - ETA: 0s - loss: 0.0858 - accuracy: 0.96 - ETA: 0s - loss: 0.0921 - accuracy: 0.95 - ETA: 0s - loss: 0.0916 - accuracy: 0.96 - ETA: 0s - loss: 0.0954 - accuracy: 0.95 - ETA: 0s - loss: 0.0970 - accuracy: 0.95 - ETA: 0s - loss: 0.0956 - accuracy: 0.95 - ETA: 0s - loss: 0.0965 - accuracy: 0.95 - ETA: 0s - loss: 0.0959 - accuracy: 0.95 - ETA: 0s - loss: 0.0975 - accuracy: 0.95 - ETA: 0s - loss: 0.0995 - accuracy: 0.95 - ETA: 0s - loss: 0.0992 - accuracy: 0.95 - 1s 5ms/step - loss: 0.0995 - accuracy: 0.9576 - val_loss: 1.0058 - val_accuracy: 0.8320\n",
      "Epoch 42/50\n"
     ]
    },
    {
     "name": "stdout",
     "output_type": "stream",
     "text": [
      "235/235 [==============================] - ETA: 0s - loss: 0.1422 - accuracy: 0.93 - ETA: 0s - loss: 0.0838 - accuracy: 0.95 - ETA: 0s - loss: 0.0829 - accuracy: 0.95 - ETA: 0s - loss: 0.0850 - accuracy: 0.95 - ETA: 0s - loss: 0.0839 - accuracy: 0.96 - ETA: 0s - loss: 0.0846 - accuracy: 0.96 - ETA: 0s - loss: 0.0818 - accuracy: 0.96 - ETA: 0s - loss: 0.0780 - accuracy: 0.96 - ETA: 0s - loss: 0.0774 - accuracy: 0.96 - ETA: 0s - loss: 0.0793 - accuracy: 0.96 - ETA: 0s - loss: 0.0832 - accuracy: 0.96 - ETA: 0s - loss: 0.0832 - accuracy: 0.96 - ETA: 0s - loss: 0.0855 - accuracy: 0.96 - ETA: 0s - loss: 0.0872 - accuracy: 0.96 - ETA: 0s - loss: 0.0872 - accuracy: 0.96 - ETA: 0s - loss: 0.0869 - accuracy: 0.96 - ETA: 0s - loss: 0.0858 - accuracy: 0.96 - ETA: 0s - loss: 0.0870 - accuracy: 0.96 - ETA: 0s - loss: 0.0919 - accuracy: 0.96 - ETA: 0s - loss: 0.0922 - accuracy: 0.96 - 1s 5ms/step - loss: 0.0922 - accuracy: 0.9623 - val_loss: 0.7811 - val_accuracy: 0.8232\n",
      "Epoch 43/50\n",
      "235/235 [==============================] - ETA: 0s - loss: 0.0875 - accuracy: 0.96 - ETA: 0s - loss: 0.0733 - accuracy: 0.98 - ETA: 0s - loss: 0.0648 - accuracy: 0.97 - ETA: 0s - loss: 0.0659 - accuracy: 0.97 - ETA: 0s - loss: 0.0620 - accuracy: 0.97 - ETA: 0s - loss: 0.0640 - accuracy: 0.97 - ETA: 0s - loss: 0.0708 - accuracy: 0.97 - ETA: 0s - loss: 0.0684 - accuracy: 0.97 - ETA: 0s - loss: 0.0668 - accuracy: 0.97 - ETA: 0s - loss: 0.0673 - accuracy: 0.97 - ETA: 0s - loss: 0.0707 - accuracy: 0.97 - ETA: 0s - loss: 0.0716 - accuracy: 0.96 - ETA: 0s - loss: 0.0769 - accuracy: 0.96 - ETA: 0s - loss: 0.0772 - accuracy: 0.96 - ETA: 0s - loss: 0.0789 - accuracy: 0.96 - ETA: 0s - loss: 0.0792 - accuracy: 0.96 - ETA: 0s - loss: 0.0804 - accuracy: 0.96 - ETA: 0s - loss: 0.0801 - accuracy: 0.96 - ETA: 0s - loss: 0.0819 - accuracy: 0.96 - 1s 5ms/step - loss: 0.0822 - accuracy: 0.9667 - val_loss: 1.0661 - val_accuracy: 0.8272\n",
      "Epoch 44/50\n",
      "235/235 [==============================] - ETA: 0s - loss: 0.1810 - accuracy: 0.96 - ETA: 0s - loss: 0.0883 - accuracy: 0.96 - ETA: 0s - loss: 0.0727 - accuracy: 0.97 - ETA: 0s - loss: 0.0784 - accuracy: 0.97 - ETA: 0s - loss: 0.0760 - accuracy: 0.97 - ETA: 0s - loss: 0.0722 - accuracy: 0.97 - ETA: 0s - loss: 0.0743 - accuracy: 0.97 - ETA: 0s - loss: 0.0697 - accuracy: 0.97 - ETA: 0s - loss: 0.0684 - accuracy: 0.97 - ETA: 0s - loss: 0.0673 - accuracy: 0.97 - ETA: 0s - loss: 0.0681 - accuracy: 0.97 - ETA: 0s - loss: 0.0702 - accuracy: 0.97 - ETA: 0s - loss: 0.0726 - accuracy: 0.97 - ETA: 0s - loss: 0.0770 - accuracy: 0.97 - ETA: 0s - loss: 0.0771 - accuracy: 0.97 - ETA: 0s - loss: 0.0775 - accuracy: 0.97 - ETA: 0s - loss: 0.0768 - accuracy: 0.97 - ETA: 0s - loss: 0.0777 - accuracy: 0.97 - ETA: 0s - loss: 0.0785 - accuracy: 0.96 - ETA: 0s - loss: 0.0798 - accuracy: 0.96 - ETA: 0s - loss: 0.0815 - accuracy: 0.96 - 1s 5ms/step - loss: 0.0817 - accuracy: 0.9675 - val_loss: 0.9935 - val_accuracy: 0.8272\n",
      "Epoch 45/50\n",
      "235/235 [==============================] - ETA: 0s - loss: 0.1469 - accuracy: 0.96 - ETA: 0s - loss: 0.0608 - accuracy: 0.98 - ETA: 0s - loss: 0.0681 - accuracy: 0.98 - ETA: 0s - loss: 0.0687 - accuracy: 0.97 - ETA: 0s - loss: 0.0681 - accuracy: 0.97 - ETA: 0s - loss: 0.0658 - accuracy: 0.97 - ETA: 0s - loss: 0.0690 - accuracy: 0.97 - ETA: 0s - loss: 0.0704 - accuracy: 0.97 - ETA: 0s - loss: 0.0714 - accuracy: 0.97 - ETA: 0s - loss: 0.0707 - accuracy: 0.97 - ETA: 0s - loss: 0.0713 - accuracy: 0.97 - ETA: 0s - loss: 0.0706 - accuracy: 0.97 - ETA: 0s - loss: 0.0714 - accuracy: 0.97 - ETA: 0s - loss: 0.0720 - accuracy: 0.97 - ETA: 0s - loss: 0.0712 - accuracy: 0.97 - ETA: 0s - loss: 0.0730 - accuracy: 0.97 - ETA: 0s - loss: 0.0769 - accuracy: 0.97 - ETA: 0s - loss: 0.0780 - accuracy: 0.97 - ETA: 0s - loss: 0.0792 - accuracy: 0.97 - 1s 5ms/step - loss: 0.0792 - accuracy: 0.9707 - val_loss: 0.9838 - val_accuracy: 0.8280\n",
      "Epoch 46/50\n",
      "235/235 [==============================] - ETA: 0s - loss: 0.1818 - accuracy: 0.87 - ETA: 0s - loss: 0.0854 - accuracy: 0.96 - ETA: 0s - loss: 0.0745 - accuracy: 0.96 - ETA: 0s - loss: 0.0704 - accuracy: 0.97 - ETA: 0s - loss: 0.0736 - accuracy: 0.97 - ETA: 0s - loss: 0.0743 - accuracy: 0.97 - ETA: 0s - loss: 0.0731 - accuracy: 0.97 - ETA: 0s - loss: 0.0712 - accuracy: 0.97 - ETA: 0s - loss: 0.0691 - accuracy: 0.97 - ETA: 0s - loss: 0.0715 - accuracy: 0.97 - ETA: 0s - loss: 0.0700 - accuracy: 0.97 - ETA: 0s - loss: 0.0726 - accuracy: 0.97 - ETA: 0s - loss: 0.0714 - accuracy: 0.97 - ETA: 0s - loss: 0.0721 - accuracy: 0.97 - ETA: 0s - loss: 0.0737 - accuracy: 0.97 - ETA: 0s - loss: 0.0764 - accuracy: 0.96 - ETA: 0s - loss: 0.0782 - accuracy: 0.96 - ETA: 0s - loss: 0.0785 - accuracy: 0.96 - ETA: 0s - loss: 0.0807 - accuracy: 0.96 - 1s 5ms/step - loss: 0.0804 - accuracy: 0.9675 - val_loss: 1.0165 - val_accuracy: 0.8172\n",
      "Epoch 47/50\n",
      "235/235 [==============================] - ETA: 0s - loss: 0.0443 - accuracy: 1.00 - ETA: 0s - loss: 0.0574 - accuracy: 0.97 - ETA: 0s - loss: 0.0714 - accuracy: 0.97 - ETA: 0s - loss: 0.0642 - accuracy: 0.97 - ETA: 0s - loss: 0.0598 - accuracy: 0.97 - ETA: 0s - loss: 0.0616 - accuracy: 0.97 - ETA: 0s - loss: 0.0605 - accuracy: 0.97 - ETA: 0s - loss: 0.0603 - accuracy: 0.97 - ETA: 0s - loss: 0.0611 - accuracy: 0.97 - ETA: 0s - loss: 0.0638 - accuracy: 0.97 - ETA: 0s - loss: 0.0647 - accuracy: 0.97 - ETA: 0s - loss: 0.0624 - accuracy: 0.97 - ETA: 0s - loss: 0.0640 - accuracy: 0.97 - ETA: 0s - loss: 0.0651 - accuracy: 0.97 - ETA: 0s - loss: 0.0696 - accuracy: 0.97 - ETA: 0s - loss: 0.0692 - accuracy: 0.97 - ETA: 0s - loss: 0.0684 - accuracy: 0.97 - ETA: 0s - loss: 0.0690 - accuracy: 0.97 - ETA: 0s - loss: 0.0679 - accuracy: 0.97 - 1s 5ms/step - loss: 0.0676 - accuracy: 0.9733 - val_loss: 1.3863 - val_accuracy: 0.8256\n",
      "Epoch 48/50\n",
      "235/235 [==============================] - ETA: 0s - loss: 0.0260 - accuracy: 1.00 - ETA: 0s - loss: 0.0309 - accuracy: 0.99 - ETA: 0s - loss: 0.0433 - accuracy: 0.98 - ETA: 0s - loss: 0.0465 - accuracy: 0.98 - ETA: 0s - loss: 0.0524 - accuracy: 0.98 - ETA: 0s - loss: 0.0511 - accuracy: 0.98 - ETA: 0s - loss: 0.0498 - accuracy: 0.98 - ETA: 0s - loss: 0.0460 - accuracy: 0.98 - ETA: 0s - loss: 0.0444 - accuracy: 0.98 - ETA: 0s - loss: 0.0456 - accuracy: 0.98 - ETA: 0s - loss: 0.0485 - accuracy: 0.98 - ETA: 0s - loss: 0.0506 - accuracy: 0.98 - ETA: 0s - loss: 0.0528 - accuracy: 0.97 - ETA: 0s - loss: 0.0547 - accuracy: 0.97 - ETA: 0s - loss: 0.0572 - accuracy: 0.97 - ETA: 0s - loss: 0.0574 - accuracy: 0.97 - ETA: 0s - loss: 0.0582 - accuracy: 0.97 - ETA: 0s - loss: 0.0606 - accuracy: 0.97 - 1s 4ms/step - loss: 0.0622 - accuracy: 0.9765 - val_loss: 1.3563 - val_accuracy: 0.8292\n",
      "Epoch 49/50\n",
      "235/235 [==============================] - ETA: 0s - loss: 0.0360 - accuracy: 1.00 - ETA: 0s - loss: 0.0694 - accuracy: 0.97 - ETA: 0s - loss: 0.0674 - accuracy: 0.98 - ETA: 0s - loss: 0.0658 - accuracy: 0.97 - ETA: 0s - loss: 0.0644 - accuracy: 0.97 - ETA: 0s - loss: 0.0697 - accuracy: 0.97 - ETA: 0s - loss: 0.0669 - accuracy: 0.97 - ETA: 0s - loss: 0.0722 - accuracy: 0.97 - ETA: 0s - loss: 0.0684 - accuracy: 0.97 - ETA: 0s - loss: 0.0702 - accuracy: 0.97 - ETA: 0s - loss: 0.0709 - accuracy: 0.97 - ETA: 0s - loss: 0.0727 - accuracy: 0.97 - ETA: 0s - loss: 0.0723 - accuracy: 0.97 - ETA: 0s - loss: 0.0715 - accuracy: 0.97 - ETA: 0s - loss: 0.0731 - accuracy: 0.97 - ETA: 0s - loss: 0.0729 - accuracy: 0.97 - ETA: 0s - loss: 0.0722 - accuracy: 0.97 - ETA: 0s - loss: 0.0720 - accuracy: 0.97 - 1s 4ms/step - loss: 0.0716 - accuracy: 0.9744 - val_loss: 1.4443 - val_accuracy: 0.8256\n",
      "Epoch 50/50\n"
     ]
    },
    {
     "name": "stdout",
     "output_type": "stream",
     "text": [
      "235/235 [==============================] - ETA: 0s - loss: 0.1454 - accuracy: 0.96 - ETA: 0s - loss: 0.0996 - accuracy: 0.97 - ETA: 0s - loss: 0.0861 - accuracy: 0.97 - ETA: 0s - loss: 0.0844 - accuracy: 0.97 - ETA: 0s - loss: 0.0749 - accuracy: 0.97 - ETA: 0s - loss: 0.0724 - accuracy: 0.97 - ETA: 0s - loss: 0.0764 - accuracy: 0.97 - ETA: 0s - loss: 0.0730 - accuracy: 0.97 - ETA: 0s - loss: 0.0698 - accuracy: 0.97 - ETA: 0s - loss: 0.0733 - accuracy: 0.97 - ETA: 0s - loss: 0.0778 - accuracy: 0.97 - ETA: 0s - loss: 0.0797 - accuracy: 0.97 - ETA: 0s - loss: 0.0812 - accuracy: 0.97 - ETA: 0s - loss: 0.0789 - accuracy: 0.97 - ETA: 0s - loss: 0.0774 - accuracy: 0.97 - ETA: 0s - loss: 0.0781 - accuracy: 0.97 - ETA: 0s - loss: 0.0789 - accuracy: 0.97 - ETA: 0s - loss: 0.0790 - accuracy: 0.97 - ETA: 0s - loss: 0.0782 - accuracy: 0.97 - 1s 5ms/step - loss: 0.0782 - accuracy: 0.9739 - val_loss: 1.3111 - val_accuracy: 0.8192\n"
     ]
    },
    {
     "data": {
      "text/html": [
       "<span style=\"color:#4527A0\"><h1 style=\"font-size:18px\">Trial complete</h1></span>"
      ],
      "text/plain": [
       "<IPython.core.display.HTML object>"
      ]
     },
     "metadata": {},
     "output_type": "display_data"
    },
    {
     "data": {
      "text/html": [
       "<span style=\"color:#4527A0\"><h1 style=\"font-size:18px\">Trial summary</h1></span>"
      ],
      "text/plain": [
       "<IPython.core.display.HTML object>"
      ]
     },
     "metadata": {},
     "output_type": "display_data"
    },
    {
     "data": {
      "text/html": [
       "<span style=\"color:cyan\"> |-Trial ID: bce5e0cc27d7f60d64dbcef0cce6e356</span>"
      ],
      "text/plain": [
       "<IPython.core.display.HTML object>"
      ]
     },
     "metadata": {},
     "output_type": "display_data"
    },
    {
     "data": {
      "text/html": [
       "<span style=\"color:cyan\"> |-Score: 0.864133338133494</span>"
      ],
      "text/plain": [
       "<IPython.core.display.HTML object>"
      ]
     },
     "metadata": {},
     "output_type": "display_data"
    },
    {
     "data": {
      "text/html": [
       "<span style=\"color:cyan\"> |-Best step: 0</span>"
      ],
      "text/plain": [
       "<IPython.core.display.HTML object>"
      ]
     },
     "metadata": {},
     "output_type": "display_data"
    },
    {
     "data": {
      "text/html": [
       "<span style=\"color:#7E57C2\"><h2 style=\"font-size:16px\">Hyperparameters:</h2></span>"
      ],
      "text/plain": [
       "<IPython.core.display.HTML object>"
      ]
     },
     "metadata": {},
     "output_type": "display_data"
    },
    {
     "data": {
      "text/html": [
       "<span style=\"color:cyan\"> |-learning_rate: 0.001</span>"
      ],
      "text/plain": [
       "<IPython.core.display.HTML object>"
      ]
     },
     "metadata": {},
     "output_type": "display_data"
    },
    {
     "data": {
      "text/html": [
       "<span style=\"color:blue\"> |-num_layers: 6</span>"
      ],
      "text/plain": [
       "<IPython.core.display.HTML object>"
      ]
     },
     "metadata": {},
     "output_type": "display_data"
    },
    {
     "data": {
      "text/html": [
       "<span style=\"color:cyan\"> |-units_0: 352</span>"
      ],
      "text/plain": [
       "<IPython.core.display.HTML object>"
      ]
     },
     "metadata": {},
     "output_type": "display_data"
    },
    {
     "data": {
      "text/html": [
       "<span style=\"color:blue\"> |-units_1: 256</span>"
      ],
      "text/plain": [
       "<IPython.core.display.HTML object>"
      ]
     },
     "metadata": {},
     "output_type": "display_data"
    },
    {
     "data": {
      "text/html": [
       "<span style=\"color:cyan\"> |-units_10: 224</span>"
      ],
      "text/plain": [
       "<IPython.core.display.HTML object>"
      ]
     },
     "metadata": {},
     "output_type": "display_data"
    },
    {
     "data": {
      "text/html": [
       "<span style=\"color:blue\"> |-units_11: 384</span>"
      ],
      "text/plain": [
       "<IPython.core.display.HTML object>"
      ]
     },
     "metadata": {},
     "output_type": "display_data"
    },
    {
     "data": {
      "text/html": [
       "<span style=\"color:cyan\"> |-units_2: 256</span>"
      ],
      "text/plain": [
       "<IPython.core.display.HTML object>"
      ]
     },
     "metadata": {},
     "output_type": "display_data"
    },
    {
     "data": {
      "text/html": [
       "<span style=\"color:blue\"> |-units_3: 480</span>"
      ],
      "text/plain": [
       "<IPython.core.display.HTML object>"
      ]
     },
     "metadata": {},
     "output_type": "display_data"
    },
    {
     "data": {
      "text/html": [
       "<span style=\"color:cyan\"> |-units_4: 416</span>"
      ],
      "text/plain": [
       "<IPython.core.display.HTML object>"
      ]
     },
     "metadata": {},
     "output_type": "display_data"
    },
    {
     "data": {
      "text/html": [
       "<span style=\"color:blue\"> |-units_5: 256</span>"
      ],
      "text/plain": [
       "<IPython.core.display.HTML object>"
      ]
     },
     "metadata": {},
     "output_type": "display_data"
    },
    {
     "data": {
      "text/html": [
       "<span style=\"color:cyan\"> |-units_6: 480</span>"
      ],
      "text/plain": [
       "<IPython.core.display.HTML object>"
      ]
     },
     "metadata": {},
     "output_type": "display_data"
    },
    {
     "data": {
      "text/html": [
       "<span style=\"color:blue\"> |-units_7: 416</span>"
      ],
      "text/plain": [
       "<IPython.core.display.HTML object>"
      ]
     },
     "metadata": {},
     "output_type": "display_data"
    },
    {
     "data": {
      "text/html": [
       "<span style=\"color:cyan\"> |-units_8: 480</span>"
      ],
      "text/plain": [
       "<IPython.core.display.HTML object>"
      ]
     },
     "metadata": {},
     "output_type": "display_data"
    },
    {
     "data": {
      "text/html": [
       "<span style=\"color:blue\"> |-units_9: 64</span>"
      ],
      "text/plain": [
       "<IPython.core.display.HTML object>"
      ]
     },
     "metadata": {},
     "output_type": "display_data"
    },
    {
     "name": "stdout",
     "output_type": "stream",
     "text": [
      "Epoch 1/50\n",
      "235/235 [==============================] - ETA: 0s - loss: 0.7142 - accuracy: 0.31 - ETA: 0s - loss: 0.6359 - accuracy: 0.80 - ETA: 0s - loss: 0.5494 - accuracy: 0.80 - ETA: 0s - loss: 0.5133 - accuracy: 0.80 - ETA: 0s - loss: 0.4956 - accuracy: 0.80 - ETA: 0s - loss: 0.4687 - accuracy: 0.81 - ETA: 0s - loss: 0.4616 - accuracy: 0.81 - ETA: 0s - loss: 0.4609 - accuracy: 0.81 - ETA: 0s - loss: 0.4517 - accuracy: 0.81 - ETA: 0s - loss: 0.4449 - accuracy: 0.82 - ETA: 0s - loss: 0.4360 - accuracy: 0.82 - ETA: 0s - loss: 0.4311 - accuracy: 0.82 - ETA: 0s - loss: 0.4290 - accuracy: 0.82 - 1s 4ms/step - loss: 0.4260 - accuracy: 0.8279 - val_loss: 0.3653 - val_accuracy: 0.8476\n",
      "Epoch 2/50\n",
      "235/235 [==============================] - ETA: 0s - loss: 0.3079 - accuracy: 0.84 - ETA: 0s - loss: 0.3881 - accuracy: 0.84 - ETA: 0s - loss: 0.3994 - accuracy: 0.82 - ETA: 0s - loss: 0.3907 - accuracy: 0.83 - ETA: 0s - loss: 0.3859 - accuracy: 0.83 - ETA: 0s - loss: 0.3833 - accuracy: 0.84 - ETA: 0s - loss: 0.3733 - accuracy: 0.84 - ETA: 0s - loss: 0.3791 - accuracy: 0.84 - ETA: 0s - loss: 0.3755 - accuracy: 0.84 - ETA: 0s - loss: 0.3706 - accuracy: 0.84 - ETA: 0s - loss: 0.3736 - accuracy: 0.84 - ETA: 0s - loss: 0.3730 - accuracy: 0.84 - ETA: 0s - loss: 0.3715 - accuracy: 0.84 - 1s 3ms/step - loss: 0.3715 - accuracy: 0.8436 - val_loss: 0.3805 - val_accuracy: 0.8548\n",
      "Epoch 3/50\n",
      "235/235 [==============================] - ETA: 0s - loss: 0.2696 - accuracy: 0.90 - ETA: 0s - loss: 0.3557 - accuracy: 0.85 - ETA: 0s - loss: 0.3606 - accuracy: 0.85 - ETA: 0s - loss: 0.3704 - accuracy: 0.85 - ETA: 0s - loss: 0.3603 - accuracy: 0.85 - ETA: 0s - loss: 0.3572 - accuracy: 0.85 - ETA: 0s - loss: 0.3601 - accuracy: 0.85 - ETA: 0s - loss: 0.3657 - accuracy: 0.84 - ETA: 0s - loss: 0.3633 - accuracy: 0.85 - ETA: 0s - loss: 0.3660 - accuracy: 0.85 - ETA: 0s - loss: 0.3652 - accuracy: 0.85 - ETA: 0s - loss: 0.3631 - accuracy: 0.85 - 1s 3ms/step - loss: 0.3621 - accuracy: 0.8516 - val_loss: 0.3585 - val_accuracy: 0.8576\n",
      "Epoch 4/50\n",
      "235/235 [==============================] - ETA: 0s - loss: 0.5277 - accuracy: 0.78 - ETA: 0s - loss: 0.3437 - accuracy: 0.85 - ETA: 0s - loss: 0.3455 - accuracy: 0.86 - ETA: 0s - loss: 0.3342 - accuracy: 0.86 - ETA: 0s - loss: 0.3302 - accuracy: 0.86 - ETA: 0s - loss: 0.3367 - accuracy: 0.86 - ETA: 0s - loss: 0.3439 - accuracy: 0.86 - ETA: 0s - loss: 0.3431 - accuracy: 0.86 - ETA: 0s - loss: 0.3451 - accuracy: 0.85 - ETA: 0s - loss: 0.3471 - accuracy: 0.85 - ETA: 0s - loss: 0.3461 - accuracy: 0.85 - ETA: 0s - loss: 0.3514 - accuracy: 0.85 - ETA: 0s - loss: 0.3513 - accuracy: 0.85 - 1s 3ms/step - loss: 0.3524 - accuracy: 0.8556 - val_loss: 0.3534 - val_accuracy: 0.8644\n",
      "Epoch 5/50\n",
      "235/235 [==============================] - ETA: 0s - loss: 0.2171 - accuracy: 0.90 - ETA: 0s - loss: 0.3265 - accuracy: 0.87 - ETA: 0s - loss: 0.3449 - accuracy: 0.86 - ETA: 0s - loss: 0.3492 - accuracy: 0.86 - ETA: 0s - loss: 0.3461 - accuracy: 0.86 - ETA: 0s - loss: 0.3377 - accuracy: 0.86 - ETA: 0s - loss: 0.3417 - accuracy: 0.86 - ETA: 0s - loss: 0.3426 - accuracy: 0.86 - ETA: 0s - loss: 0.3457 - accuracy: 0.86 - ETA: 0s - loss: 0.3492 - accuracy: 0.86 - ETA: 0s - loss: 0.3510 - accuracy: 0.86 - ETA: 0s - loss: 0.3491 - accuracy: 0.86 - ETA: 0s - loss: 0.3501 - accuracy: 0.85 - 1s 3ms/step - loss: 0.3501 - accuracy: 0.8584 - val_loss: 0.3457 - val_accuracy: 0.8548\n",
      "Epoch 6/50\n",
      "235/235 [==============================] - ETA: 0s - loss: 0.4178 - accuracy: 0.78 - ETA: 0s - loss: 0.3489 - accuracy: 0.86 - ETA: 0s - loss: 0.3666 - accuracy: 0.85 - ETA: 0s - loss: 0.3590 - accuracy: 0.85 - ETA: 0s - loss: 0.3494 - accuracy: 0.85 - ETA: 0s - loss: 0.3438 - accuracy: 0.86 - ETA: 0s - loss: 0.3446 - accuracy: 0.86 - ETA: 0s - loss: 0.3435 - accuracy: 0.86 - ETA: 0s - loss: 0.3471 - accuracy: 0.85 - ETA: 0s - loss: 0.3466 - accuracy: 0.86 - ETA: 0s - loss: 0.3477 - accuracy: 0.85 - ETA: 0s - loss: 0.3472 - accuracy: 0.85 - 1s 3ms/step - loss: 0.3475 - accuracy: 0.8592 - val_loss: 0.3502 - val_accuracy: 0.8536\n",
      "Epoch 7/50\n",
      "235/235 [==============================] - ETA: 0s - loss: 0.1893 - accuracy: 0.96 - ETA: 0s - loss: 0.3275 - accuracy: 0.85 - ETA: 0s - loss: 0.3223 - accuracy: 0.86 - ETA: 0s - loss: 0.3341 - accuracy: 0.85 - ETA: 0s - loss: 0.3324 - accuracy: 0.86 - ETA: 0s - loss: 0.3284 - accuracy: 0.86 - ETA: 0s - loss: 0.3350 - accuracy: 0.86 - ETA: 0s - loss: 0.3345 - accuracy: 0.86 - ETA: 0s - loss: 0.3394 - accuracy: 0.86 - ETA: 0s - loss: 0.3402 - accuracy: 0.86 - ETA: 0s - loss: 0.3403 - accuracy: 0.86 - ETA: 0s - loss: 0.3422 - accuracy: 0.86 - ETA: 0s - loss: 0.3440 - accuracy: 0.86 - 1s 3ms/step - loss: 0.3436 - accuracy: 0.8619 - val_loss: 0.3442 - val_accuracy: 0.8604\n",
      "Epoch 8/50\n",
      "235/235 [==============================] - ETA: 0s - loss: 0.4316 - accuracy: 0.84 - ETA: 0s - loss: 0.3507 - accuracy: 0.86 - ETA: 0s - loss: 0.3430 - accuracy: 0.86 - ETA: 0s - loss: 0.3438 - accuracy: 0.86 - ETA: 0s - loss: 0.3436 - accuracy: 0.85 - ETA: 0s - loss: 0.3418 - accuracy: 0.86 - ETA: 0s - loss: 0.3444 - accuracy: 0.86 - ETA: 0s - loss: 0.3428 - accuracy: 0.86 - ETA: 0s - loss: 0.3446 - accuracy: 0.86 - ETA: 0s - loss: 0.3438 - accuracy: 0.85 - ETA: 0s - loss: 0.3453 - accuracy: 0.85 - ETA: 0s - loss: 0.3448 - accuracy: 0.85 - 1s 3ms/step - loss: 0.3437 - accuracy: 0.8588 - val_loss: 0.3486 - val_accuracy: 0.8488\n",
      "Epoch 9/50\n",
      "235/235 [==============================] - ETA: 0s - loss: 0.2550 - accuracy: 0.90 - ETA: 0s - loss: 0.3319 - accuracy: 0.87 - ETA: 0s - loss: 0.3422 - accuracy: 0.86 - ETA: 0s - loss: 0.3426 - accuracy: 0.85 - ETA: 0s - loss: 0.3423 - accuracy: 0.85 - ETA: 0s - loss: 0.3410 - accuracy: 0.85 - ETA: 0s - loss: 0.3393 - accuracy: 0.85 - ETA: 0s - loss: 0.3329 - accuracy: 0.86 - ETA: 0s - loss: 0.3405 - accuracy: 0.85 - ETA: 0s - loss: 0.3407 - accuracy: 0.85 - ETA: 0s - loss: 0.3391 - accuracy: 0.85 - ETA: 0s - loss: 0.3418 - accuracy: 0.86 - 1s 3ms/step - loss: 0.3427 - accuracy: 0.8599 - val_loss: 0.3515 - val_accuracy: 0.8544\n",
      "Epoch 10/50\n",
      "235/235 [==============================] - ETA: 0s - loss: 0.2723 - accuracy: 0.87 - ETA: 0s - loss: 0.2954 - accuracy: 0.86 - ETA: 0s - loss: 0.3194 - accuracy: 0.86 - ETA: 0s - loss: 0.3199 - accuracy: 0.87 - ETA: 0s - loss: 0.3336 - accuracy: 0.86 - ETA: 0s - loss: 0.3331 - accuracy: 0.86 - ETA: 0s - loss: 0.3441 - accuracy: 0.85 - ETA: 0s - loss: 0.3462 - accuracy: 0.85 - ETA: 0s - loss: 0.3470 - accuracy: 0.85 - ETA: 0s - loss: 0.3479 - accuracy: 0.85 - ETA: 0s - loss: 0.3472 - accuracy: 0.85 - ETA: 0s - loss: 0.3440 - accuracy: 0.85 - 1s 3ms/step - loss: 0.3443 - accuracy: 0.8568 - val_loss: 0.3554 - val_accuracy: 0.8524\n",
      "Epoch 11/50\n",
      "235/235 [==============================] - ETA: 0s - loss: 0.3131 - accuracy: 0.84 - ETA: 0s - loss: 0.3146 - accuracy: 0.86 - ETA: 0s - loss: 0.3375 - accuracy: 0.85 - ETA: 0s - loss: 0.3333 - accuracy: 0.85 - ETA: 0s - loss: 0.3346 - accuracy: 0.86 - ETA: 0s - loss: 0.3321 - accuracy: 0.86 - ETA: 0s - loss: 0.3351 - accuracy: 0.86 - ETA: 0s - loss: 0.3347 - accuracy: 0.86 - ETA: 0s - loss: 0.3405 - accuracy: 0.86 - ETA: 0s - loss: 0.3448 - accuracy: 0.86 - ETA: 0s - loss: 0.3465 - accuracy: 0.86 - ETA: 0s - loss: 0.3440 - accuracy: 0.86 - ETA: 0s - loss: 0.3422 - accuracy: 0.86 - 1s 3ms/step - loss: 0.3408 - accuracy: 0.8625 - val_loss: 0.3566 - val_accuracy: 0.8564\n",
      "Epoch 12/50\n",
      "235/235 [==============================] - ETA: 0s - loss: 0.2186 - accuracy: 0.87 - ETA: 0s - loss: 0.3414 - accuracy: 0.85 - ETA: 0s - loss: 0.3262 - accuracy: 0.86 - ETA: 0s - loss: 0.3275 - accuracy: 0.86 - ETA: 0s - loss: 0.3378 - accuracy: 0.86 - ETA: 0s - loss: 0.3348 - accuracy: 0.86 - ETA: 0s - loss: 0.3396 - accuracy: 0.85 - ETA: 0s - loss: 0.3406 - accuracy: 0.85 - ETA: 0s - loss: 0.3400 - accuracy: 0.85 - ETA: 0s - loss: 0.3406 - accuracy: 0.85 - ETA: 0s - loss: 0.3410 - accuracy: 0.85 - ETA: 0s - loss: 0.3384 - accuracy: 0.86 - ETA: 0s - loss: 0.3381 - accuracy: 0.86 - ETA: 0s - loss: 0.3381 - accuracy: 0.86 - 1s 3ms/step - loss: 0.3384 - accuracy: 0.8605 - val_loss: 0.3444 - val_accuracy: 0.8568\n",
      "Epoch 13/50\n"
     ]
    },
    {
     "name": "stdout",
     "output_type": "stream",
     "text": [
      "235/235 [==============================] - ETA: 0s - loss: 0.3740 - accuracy: 0.84 - ETA: 0s - loss: 0.3286 - accuracy: 0.85 - ETA: 0s - loss: 0.3250 - accuracy: 0.86 - ETA: 0s - loss: 0.3325 - accuracy: 0.86 - ETA: 0s - loss: 0.3324 - accuracy: 0.86 - ETA: 0s - loss: 0.3212 - accuracy: 0.86 - ETA: 0s - loss: 0.3183 - accuracy: 0.86 - ETA: 0s - loss: 0.3220 - accuracy: 0.86 - ETA: 0s - loss: 0.3205 - accuracy: 0.86 - ETA: 0s - loss: 0.3201 - accuracy: 0.87 - ETA: 0s - loss: 0.3226 - accuracy: 0.86 - ETA: 0s - loss: 0.3264 - accuracy: 0.86 - ETA: 0s - loss: 0.3308 - accuracy: 0.86 - ETA: 0s - loss: 0.3326 - accuracy: 0.86 - 1s 3ms/step - loss: 0.3323 - accuracy: 0.8637 - val_loss: 0.3485 - val_accuracy: 0.8552\n",
      "Epoch 14/50\n",
      "235/235 [==============================] - ETA: 0s - loss: 0.2716 - accuracy: 0.90 - ETA: 0s - loss: 0.2987 - accuracy: 0.88 - ETA: 0s - loss: 0.3016 - accuracy: 0.87 - ETA: 0s - loss: 0.3193 - accuracy: 0.86 - ETA: 0s - loss: 0.3187 - accuracy: 0.87 - ETA: 0s - loss: 0.3243 - accuracy: 0.87 - ETA: 0s - loss: 0.3221 - accuracy: 0.87 - ETA: 0s - loss: 0.3202 - accuracy: 0.87 - ETA: 0s - loss: 0.3249 - accuracy: 0.86 - ETA: 0s - loss: 0.3282 - accuracy: 0.86 - ETA: 0s - loss: 0.3289 - accuracy: 0.86 - ETA: 0s - loss: 0.3291 - accuracy: 0.86 - 1s 3ms/step - loss: 0.3314 - accuracy: 0.8644 - val_loss: 0.3497 - val_accuracy: 0.8608\n",
      "Epoch 15/50\n",
      "235/235 [==============================] - ETA: 0s - loss: 0.2493 - accuracy: 0.87 - ETA: 0s - loss: 0.3274 - accuracy: 0.87 - ETA: 0s - loss: 0.3059 - accuracy: 0.88 - ETA: 0s - loss: 0.3027 - accuracy: 0.87 - ETA: 0s - loss: 0.3058 - accuracy: 0.87 - ETA: 0s - loss: 0.3187 - accuracy: 0.87 - ETA: 0s - loss: 0.3224 - accuracy: 0.87 - ETA: 0s - loss: 0.3341 - accuracy: 0.86 - ETA: 0s - loss: 0.3334 - accuracy: 0.86 - ETA: 0s - loss: 0.3333 - accuracy: 0.86 - ETA: 0s - loss: 0.3360 - accuracy: 0.86 - ETA: 0s - loss: 0.3357 - accuracy: 0.86 - ETA: 0s - loss: 0.3364 - accuracy: 0.86 - 1s 3ms/step - loss: 0.3365 - accuracy: 0.8664 - val_loss: 0.3473 - val_accuracy: 0.8592\n",
      "Epoch 16/50\n",
      "235/235 [==============================] - ETA: 0s - loss: 0.4888 - accuracy: 0.78 - ETA: 0s - loss: 0.3614 - accuracy: 0.83 - ETA: 0s - loss: 0.3584 - accuracy: 0.84 - ETA: 0s - loss: 0.3503 - accuracy: 0.85 - ETA: 0s - loss: 0.3419 - accuracy: 0.85 - ETA: 0s - loss: 0.3449 - accuracy: 0.86 - ETA: 0s - loss: 0.3365 - accuracy: 0.86 - ETA: 0s - loss: 0.3389 - accuracy: 0.86 - ETA: 0s - loss: 0.3386 - accuracy: 0.86 - ETA: 0s - loss: 0.3391 - accuracy: 0.86 - ETA: 0s - loss: 0.3355 - accuracy: 0.86 - ETA: 0s - loss: 0.3360 - accuracy: 0.86 - 1s 3ms/step - loss: 0.3351 - accuracy: 0.8633 - val_loss: 0.3474 - val_accuracy: 0.8624\n",
      "Epoch 17/50\n",
      "235/235 [==============================] - ETA: 0s - loss: 0.2462 - accuracy: 0.90 - ETA: 0s - loss: 0.3335 - accuracy: 0.86 - ETA: 0s - loss: 0.3114 - accuracy: 0.87 - ETA: 0s - loss: 0.3151 - accuracy: 0.87 - ETA: 0s - loss: 0.3245 - accuracy: 0.87 - ETA: 0s - loss: 0.3297 - accuracy: 0.86 - ETA: 0s - loss: 0.3275 - accuracy: 0.86 - ETA: 0s - loss: 0.3210 - accuracy: 0.86 - ETA: 0s - loss: 0.3227 - accuracy: 0.86 - ETA: 0s - loss: 0.3276 - accuracy: 0.86 - ETA: 0s - loss: 0.3253 - accuracy: 0.86 - ETA: 0s - loss: 0.3293 - accuracy: 0.86 - 1s 3ms/step - loss: 0.3274 - accuracy: 0.8641 - val_loss: 0.3607 - val_accuracy: 0.8564\n",
      "Epoch 18/50\n",
      "235/235 [==============================] - ETA: 0s - loss: 0.1978 - accuracy: 0.93 - ETA: 0s - loss: 0.2939 - accuracy: 0.88 - ETA: 0s - loss: 0.2954 - accuracy: 0.88 - ETA: 0s - loss: 0.3067 - accuracy: 0.87 - ETA: 0s - loss: 0.3131 - accuracy: 0.87 - ETA: 0s - loss: 0.3188 - accuracy: 0.86 - ETA: 0s - loss: 0.3208 - accuracy: 0.87 - ETA: 0s - loss: 0.3192 - accuracy: 0.87 - ETA: 0s - loss: 0.3281 - accuracy: 0.86 - ETA: 0s - loss: 0.3297 - accuracy: 0.86 - ETA: 0s - loss: 0.3291 - accuracy: 0.86 - ETA: 0s - loss: 0.3328 - accuracy: 0.86 - 1s 3ms/step - loss: 0.3336 - accuracy: 0.8661 - val_loss: 0.3462 - val_accuracy: 0.8624\n",
      "Epoch 19/50\n",
      "235/235 [==============================] - ETA: 0s - loss: 0.3062 - accuracy: 0.90 - ETA: 0s - loss: 0.3061 - accuracy: 0.88 - ETA: 0s - loss: 0.2995 - accuracy: 0.87 - ETA: 0s - loss: 0.3052 - accuracy: 0.87 - ETA: 0s - loss: 0.3101 - accuracy: 0.87 - ETA: 0s - loss: 0.3125 - accuracy: 0.87 - ETA: 0s - loss: 0.3111 - accuracy: 0.87 - ETA: 0s - loss: 0.3176 - accuracy: 0.86 - ETA: 0s - loss: 0.3188 - accuracy: 0.86 - ETA: 0s - loss: 0.3188 - accuracy: 0.86 - ETA: 0s - loss: 0.3183 - accuracy: 0.86 - ETA: 0s - loss: 0.3203 - accuracy: 0.86 - ETA: 0s - loss: 0.3235 - accuracy: 0.86 - 1s 3ms/step - loss: 0.3256 - accuracy: 0.8659 - val_loss: 0.3499 - val_accuracy: 0.8600\n",
      "Epoch 20/50\n",
      "235/235 [==============================] - ETA: 0s - loss: 0.3763 - accuracy: 0.90 - ETA: 0s - loss: 0.3057 - accuracy: 0.88 - ETA: 0s - loss: 0.3132 - accuracy: 0.87 - ETA: 0s - loss: 0.3207 - accuracy: 0.86 - ETA: 0s - loss: 0.3273 - accuracy: 0.86 - ETA: 0s - loss: 0.3228 - accuracy: 0.86 - ETA: 0s - loss: 0.3185 - accuracy: 0.86 - ETA: 0s - loss: 0.3227 - accuracy: 0.86 - ETA: 0s - loss: 0.3269 - accuracy: 0.86 - ETA: 0s - loss: 0.3247 - accuracy: 0.86 - ETA: 0s - loss: 0.3269 - accuracy: 0.86 - ETA: 0s - loss: 0.3229 - accuracy: 0.86 - 1s 3ms/step - loss: 0.3220 - accuracy: 0.8679 - val_loss: 0.3525 - val_accuracy: 0.8648\n",
      "Epoch 21/50\n",
      "235/235 [==============================] - ETA: 0s - loss: 0.4898 - accuracy: 0.78 - ETA: 0s - loss: 0.3171 - accuracy: 0.86 - ETA: 0s - loss: 0.3210 - accuracy: 0.87 - ETA: 0s - loss: 0.3336 - accuracy: 0.85 - ETA: 0s - loss: 0.3273 - accuracy: 0.86 - ETA: 0s - loss: 0.3344 - accuracy: 0.85 - ETA: 0s - loss: 0.3296 - accuracy: 0.86 - ETA: 0s - loss: 0.3312 - accuracy: 0.86 - ETA: 0s - loss: 0.3308 - accuracy: 0.86 - ETA: 0s - loss: 0.3258 - accuracy: 0.86 - ETA: 0s - loss: 0.3282 - accuracy: 0.86 - ETA: 0s - loss: 0.3259 - accuracy: 0.86 - 1s 3ms/step - loss: 0.3218 - accuracy: 0.8665 - val_loss: 0.3759 - val_accuracy: 0.8564\n",
      "Epoch 22/50\n",
      "235/235 [==============================] - ETA: 0s - loss: 0.3701 - accuracy: 0.87 - ETA: 0s - loss: 0.3498 - accuracy: 0.86 - ETA: 0s - loss: 0.3208 - accuracy: 0.87 - ETA: 0s - loss: 0.3153 - accuracy: 0.87 - ETA: 0s - loss: 0.3088 - accuracy: 0.87 - ETA: 0s - loss: 0.3150 - accuracy: 0.87 - ETA: 0s - loss: 0.3099 - accuracy: 0.87 - ETA: 0s - loss: 0.3141 - accuracy: 0.87 - ETA: 0s - loss: 0.3133 - accuracy: 0.87 - ETA: 0s - loss: 0.3120 - accuracy: 0.87 - ETA: 0s - loss: 0.3134 - accuracy: 0.87 - ETA: 0s - loss: 0.3161 - accuracy: 0.87 - 1s 3ms/step - loss: 0.3180 - accuracy: 0.8712 - val_loss: 0.3501 - val_accuracy: 0.8604\n",
      "Epoch 23/50\n",
      "235/235 [==============================] - ETA: 0s - loss: 0.3003 - accuracy: 0.84 - ETA: 0s - loss: 0.3009 - accuracy: 0.87 - ETA: 0s - loss: 0.2974 - accuracy: 0.87 - ETA: 0s - loss: 0.3028 - accuracy: 0.87 - ETA: 0s - loss: 0.3072 - accuracy: 0.87 - ETA: 0s - loss: 0.3124 - accuracy: 0.87 - ETA: 0s - loss: 0.3090 - accuracy: 0.87 - ETA: 0s - loss: 0.3012 - accuracy: 0.87 - ETA: 0s - loss: 0.3042 - accuracy: 0.87 - ETA: 0s - loss: 0.3059 - accuracy: 0.87 - ETA: 0s - loss: 0.3043 - accuracy: 0.87 - ETA: 0s - loss: 0.3101 - accuracy: 0.87 - ETA: 0s - loss: 0.3152 - accuracy: 0.87 - 1s 3ms/step - loss: 0.3166 - accuracy: 0.8709 - val_loss: 0.3574 - val_accuracy: 0.8552\n",
      "Epoch 24/50\n",
      "235/235 [==============================] - ETA: 0s - loss: 0.2034 - accuracy: 0.87 - ETA: 0s - loss: 0.2894 - accuracy: 0.88 - ETA: 0s - loss: 0.3261 - accuracy: 0.86 - ETA: 0s - loss: 0.3190 - accuracy: 0.87 - ETA: 0s - loss: 0.3252 - accuracy: 0.86 - ETA: 0s - loss: 0.3196 - accuracy: 0.87 - ETA: 0s - loss: 0.3194 - accuracy: 0.86 - ETA: 0s - loss: 0.3186 - accuracy: 0.86 - ETA: 0s - loss: 0.3180 - accuracy: 0.87 - ETA: 0s - loss: 0.3190 - accuracy: 0.87 - ETA: 0s - loss: 0.3190 - accuracy: 0.86 - ETA: 0s - loss: 0.3201 - accuracy: 0.86 - 1s 3ms/step - loss: 0.3202 - accuracy: 0.8685 - val_loss: 0.3457 - val_accuracy: 0.8632\n",
      "Epoch 25/50\n"
     ]
    },
    {
     "name": "stdout",
     "output_type": "stream",
     "text": [
      "235/235 [==============================] - ETA: 0s - loss: 0.2276 - accuracy: 0.93 - ETA: 0s - loss: 0.2567 - accuracy: 0.89 - ETA: 0s - loss: 0.2789 - accuracy: 0.88 - ETA: 0s - loss: 0.2862 - accuracy: 0.88 - ETA: 0s - loss: 0.3012 - accuracy: 0.87 - ETA: 0s - loss: 0.3011 - accuracy: 0.87 - ETA: 0s - loss: 0.3086 - accuracy: 0.86 - ETA: 0s - loss: 0.3098 - accuracy: 0.86 - ETA: 0s - loss: 0.3084 - accuracy: 0.86 - ETA: 0s - loss: 0.3112 - accuracy: 0.86 - ETA: 0s - loss: 0.3121 - accuracy: 0.86 - ETA: 0s - loss: 0.3106 - accuracy: 0.87 - ETA: 0s - loss: 0.3103 - accuracy: 0.87 - ETA: 0s - loss: 0.3075 - accuracy: 0.87 - ETA: 0s - loss: 0.3063 - accuracy: 0.87 - 1s 4ms/step - loss: 0.3080 - accuracy: 0.8728 - val_loss: 0.3498 - val_accuracy: 0.8588\n",
      "Epoch 26/50\n",
      "235/235 [==============================] - ETA: 0s - loss: 0.2519 - accuracy: 0.87 - ETA: 0s - loss: 0.2879 - accuracy: 0.87 - ETA: 0s - loss: 0.2891 - accuracy: 0.87 - ETA: 0s - loss: 0.2814 - accuracy: 0.87 - ETA: 0s - loss: 0.2895 - accuracy: 0.87 - ETA: 0s - loss: 0.2951 - accuracy: 0.87 - ETA: 0s - loss: 0.2996 - accuracy: 0.87 - ETA: 0s - loss: 0.2992 - accuracy: 0.87 - ETA: 0s - loss: 0.3058 - accuracy: 0.87 - ETA: 0s - loss: 0.3053 - accuracy: 0.87 - ETA: 0s - loss: 0.3039 - accuracy: 0.87 - ETA: 0s - loss: 0.3081 - accuracy: 0.87 - ETA: 0s - loss: 0.3079 - accuracy: 0.87 - ETA: 0s - loss: 0.3091 - accuracy: 0.87 - 1s 4ms/step - loss: 0.3094 - accuracy: 0.8737 - val_loss: 0.3553 - val_accuracy: 0.8636\n",
      "Epoch 27/50\n",
      "235/235 [==============================] - ETA: 0s - loss: 0.3018 - accuracy: 0.87 - ETA: 0s - loss: 0.3224 - accuracy: 0.86 - ETA: 0s - loss: 0.3018 - accuracy: 0.86 - ETA: 0s - loss: 0.2947 - accuracy: 0.87 - ETA: 0s - loss: 0.2963 - accuracy: 0.87 - ETA: 0s - loss: 0.3029 - accuracy: 0.87 - ETA: 0s - loss: 0.3057 - accuracy: 0.87 - ETA: 0s - loss: 0.3085 - accuracy: 0.87 - ETA: 0s - loss: 0.3072 - accuracy: 0.87 - ETA: 0s - loss: 0.3091 - accuracy: 0.87 - ETA: 0s - loss: 0.3104 - accuracy: 0.87 - ETA: 0s - loss: 0.3130 - accuracy: 0.87 - ETA: 0s - loss: 0.3092 - accuracy: 0.87 - ETA: 0s - loss: 0.3094 - accuracy: 0.87 - 1s 3ms/step - loss: 0.3083 - accuracy: 0.8744 - val_loss: 0.3613 - val_accuracy: 0.8608\n",
      "Epoch 28/50\n",
      "235/235 [==============================] - ETA: 0s - loss: 0.4026 - accuracy: 0.78 - ETA: 0s - loss: 0.3044 - accuracy: 0.88 - ETA: 0s - loss: 0.3058 - accuracy: 0.87 - ETA: 0s - loss: 0.2947 - accuracy: 0.88 - ETA: 0s - loss: 0.3055 - accuracy: 0.87 - ETA: 0s - loss: 0.2901 - accuracy: 0.88 - ETA: 0s - loss: 0.3007 - accuracy: 0.88 - ETA: 0s - loss: 0.3052 - accuracy: 0.87 - ETA: 0s - loss: 0.3053 - accuracy: 0.87 - ETA: 0s - loss: 0.3000 - accuracy: 0.88 - ETA: 0s - loss: 0.3028 - accuracy: 0.87 - ETA: 0s - loss: 0.3034 - accuracy: 0.87 - ETA: 0s - loss: 0.3039 - accuracy: 0.87 - ETA: 0s - loss: 0.3017 - accuracy: 0.87 - 1s 3ms/step - loss: 0.3016 - accuracy: 0.8769 - val_loss: 0.3560 - val_accuracy: 0.8604\n",
      "Epoch 29/50\n",
      "235/235 [==============================] - ETA: 0s - loss: 0.1181 - accuracy: 0.96 - ETA: 0s - loss: 0.2977 - accuracy: 0.86 - ETA: 0s - loss: 0.2973 - accuracy: 0.86 - ETA: 0s - loss: 0.2857 - accuracy: 0.87 - ETA: 0s - loss: 0.2957 - accuracy: 0.87 - ETA: 0s - loss: 0.2959 - accuracy: 0.87 - ETA: 0s - loss: 0.2973 - accuracy: 0.87 - ETA: 0s - loss: 0.2925 - accuracy: 0.87 - ETA: 0s - loss: 0.2923 - accuracy: 0.87 - ETA: 0s - loss: 0.2911 - accuracy: 0.87 - ETA: 0s - loss: 0.2943 - accuracy: 0.87 - ETA: 0s - loss: 0.2926 - accuracy: 0.87 - ETA: 0s - loss: 0.2942 - accuracy: 0.87 - 1s 3ms/step - loss: 0.2932 - accuracy: 0.8751 - val_loss: 0.3676 - val_accuracy: 0.8564\n",
      "Epoch 30/50\n",
      "235/235 [==============================] - ETA: 0s - loss: 0.1796 - accuracy: 0.96 - ETA: 0s - loss: 0.2910 - accuracy: 0.86 - ETA: 0s - loss: 0.2796 - accuracy: 0.87 - ETA: 0s - loss: 0.2945 - accuracy: 0.86 - ETA: 0s - loss: 0.2919 - accuracy: 0.87 - ETA: 0s - loss: 0.2935 - accuracy: 0.87 - ETA: 0s - loss: 0.2892 - accuracy: 0.87 - ETA: 0s - loss: 0.2946 - accuracy: 0.87 - ETA: 0s - loss: 0.2976 - accuracy: 0.87 - ETA: 0s - loss: 0.2926 - accuracy: 0.87 - ETA: 0s - loss: 0.2888 - accuracy: 0.87 - ETA: 0s - loss: 0.2910 - accuracy: 0.87 - ETA: 0s - loss: 0.2908 - accuracy: 0.87 - 1s 3ms/step - loss: 0.2925 - accuracy: 0.8779 - val_loss: 0.3665 - val_accuracy: 0.8576\n",
      "Epoch 31/50\n",
      "235/235 [==============================] - ETA: 0s - loss: 0.3822 - accuracy: 0.81 - ETA: 0s - loss: 0.2945 - accuracy: 0.89 - ETA: 0s - loss: 0.2976 - accuracy: 0.88 - ETA: 0s - loss: 0.2924 - accuracy: 0.88 - ETA: 0s - loss: 0.2850 - accuracy: 0.88 - ETA: 0s - loss: 0.2928 - accuracy: 0.88 - ETA: 0s - loss: 0.2879 - accuracy: 0.88 - ETA: 0s - loss: 0.2899 - accuracy: 0.88 - ETA: 0s - loss: 0.2943 - accuracy: 0.88 - ETA: 0s - loss: 0.2975 - accuracy: 0.87 - ETA: 0s - loss: 0.2957 - accuracy: 0.87 - ETA: 0s - loss: 0.3024 - accuracy: 0.87 - 1s 3ms/step - loss: 0.3016 - accuracy: 0.8776 - val_loss: 0.4004 - val_accuracy: 0.8604\n",
      "Epoch 32/50\n",
      "235/235 [==============================] - ETA: 0s - loss: 0.2788 - accuracy: 0.84 - ETA: 0s - loss: 0.2897 - accuracy: 0.86 - ETA: 0s - loss: 0.2846 - accuracy: 0.88 - ETA: 0s - loss: 0.2804 - accuracy: 0.88 - ETA: 0s - loss: 0.2799 - accuracy: 0.88 - ETA: 0s - loss: 0.2760 - accuracy: 0.88 - ETA: 0s - loss: 0.2782 - accuracy: 0.88 - ETA: 0s - loss: 0.2819 - accuracy: 0.88 - ETA: 0s - loss: 0.2815 - accuracy: 0.88 - ETA: 0s - loss: 0.2833 - accuracy: 0.88 - ETA: 0s - loss: 0.2816 - accuracy: 0.88 - ETA: 0s - loss: 0.2829 - accuracy: 0.88 - 1s 3ms/step - loss: 0.2855 - accuracy: 0.8803 - val_loss: 0.3976 - val_accuracy: 0.8516\n",
      "Epoch 33/50\n",
      "235/235 [==============================] - ETA: 0s - loss: 0.1706 - accuracy: 0.90 - ETA: 0s - loss: 0.2564 - accuracy: 0.89 - ETA: 0s - loss: 0.2674 - accuracy: 0.87 - ETA: 0s - loss: 0.2673 - accuracy: 0.88 - ETA: 0s - loss: 0.2757 - accuracy: 0.88 - ETA: 0s - loss: 0.2742 - accuracy: 0.88 - ETA: 0s - loss: 0.2819 - accuracy: 0.88 - ETA: 0s - loss: 0.2750 - accuracy: 0.88 - ETA: 0s - loss: 0.2779 - accuracy: 0.88 - ETA: 0s - loss: 0.2827 - accuracy: 0.88 - ETA: 0s - loss: 0.2848 - accuracy: 0.87 - ETA: 0s - loss: 0.2871 - accuracy: 0.87 - ETA: 0s - loss: 0.2910 - accuracy: 0.87 - 1s 3ms/step - loss: 0.2903 - accuracy: 0.8773 - val_loss: 0.3834 - val_accuracy: 0.8588\n",
      "Epoch 34/50\n",
      "235/235 [==============================] - ETA: 0s - loss: 0.2958 - accuracy: 0.90 - ETA: 0s - loss: 0.2741 - accuracy: 0.88 - ETA: 0s - loss: 0.2767 - accuracy: 0.88 - ETA: 0s - loss: 0.2827 - accuracy: 0.87 - ETA: 0s - loss: 0.2858 - accuracy: 0.87 - ETA: 0s - loss: 0.2802 - accuracy: 0.87 - ETA: 0s - loss: 0.2775 - accuracy: 0.88 - ETA: 0s - loss: 0.2834 - accuracy: 0.87 - ETA: 0s - loss: 0.2890 - accuracy: 0.87 - ETA: 0s - loss: 0.2909 - accuracy: 0.87 - ETA: 0s - loss: 0.2894 - accuracy: 0.87 - ETA: 0s - loss: 0.2902 - accuracy: 0.87 - 1s 3ms/step - loss: 0.2882 - accuracy: 0.8768 - val_loss: 0.3931 - val_accuracy: 0.8580\n",
      "Epoch 35/50\n",
      "235/235 [==============================] - ETA: 0s - loss: 0.2511 - accuracy: 0.87 - ETA: 0s - loss: 0.3067 - accuracy: 0.85 - ETA: 0s - loss: 0.2756 - accuracy: 0.87 - ETA: 0s - loss: 0.2841 - accuracy: 0.87 - ETA: 0s - loss: 0.2842 - accuracy: 0.87 - ETA: 0s - loss: 0.2783 - accuracy: 0.87 - ETA: 0s - loss: 0.2776 - accuracy: 0.87 - ETA: 0s - loss: 0.2771 - accuracy: 0.87 - ETA: 0s - loss: 0.2797 - accuracy: 0.87 - ETA: 0s - loss: 0.2807 - accuracy: 0.87 - ETA: 0s - loss: 0.2810 - accuracy: 0.87 - ETA: 0s - loss: 0.2823 - accuracy: 0.87 - ETA: 0s - loss: 0.2831 - accuracy: 0.87 - 1s 3ms/step - loss: 0.2831 - accuracy: 0.8799 - val_loss: 0.4303 - val_accuracy: 0.8544\n",
      "Epoch 36/50\n"
     ]
    },
    {
     "name": "stdout",
     "output_type": "stream",
     "text": [
      "235/235 [==============================] - ETA: 0s - loss: 0.3545 - accuracy: 0.84 - ETA: 0s - loss: 0.2935 - accuracy: 0.86 - ETA: 0s - loss: 0.2613 - accuracy: 0.88 - ETA: 0s - loss: 0.2572 - accuracy: 0.89 - ETA: 0s - loss: 0.2531 - accuracy: 0.89 - ETA: 0s - loss: 0.2558 - accuracy: 0.89 - ETA: 0s - loss: 0.2594 - accuracy: 0.88 - ETA: 0s - loss: 0.2678 - accuracy: 0.88 - ETA: 0s - loss: 0.2694 - accuracy: 0.88 - ETA: 0s - loss: 0.2708 - accuracy: 0.88 - ETA: 0s - loss: 0.2729 - accuracy: 0.88 - ETA: 0s - loss: 0.2746 - accuracy: 0.88 - ETA: 0s - loss: 0.2763 - accuracy: 0.88 - 1s 3ms/step - loss: 0.2764 - accuracy: 0.8815 - val_loss: 0.3764 - val_accuracy: 0.8508\n",
      "Epoch 37/50\n",
      "235/235 [==============================] - ETA: 0s - loss: 0.2803 - accuracy: 0.81 - ETA: 0s - loss: 0.2734 - accuracy: 0.88 - ETA: 0s - loss: 0.2607 - accuracy: 0.88 - ETA: 0s - loss: 0.2633 - accuracy: 0.88 - ETA: 0s - loss: 0.2611 - accuracy: 0.88 - ETA: 0s - loss: 0.2631 - accuracy: 0.88 - ETA: 0s - loss: 0.2657 - accuracy: 0.88 - ETA: 0s - loss: 0.2666 - accuracy: 0.88 - ETA: 0s - loss: 0.2701 - accuracy: 0.88 - ETA: 0s - loss: 0.2697 - accuracy: 0.88 - ETA: 0s - loss: 0.2703 - accuracy: 0.88 - ETA: 0s - loss: 0.2739 - accuracy: 0.88 - ETA: 0s - loss: 0.2758 - accuracy: 0.88 - 1s 3ms/step - loss: 0.2792 - accuracy: 0.8796 - val_loss: 0.3724 - val_accuracy: 0.8576\n",
      "Epoch 38/50\n",
      "235/235 [==============================] - ETA: 0s - loss: 0.3332 - accuracy: 0.84 - ETA: 0s - loss: 0.2789 - accuracy: 0.88 - ETA: 0s - loss: 0.2784 - accuracy: 0.88 - ETA: 0s - loss: 0.2670 - accuracy: 0.88 - ETA: 0s - loss: 0.2735 - accuracy: 0.87 - ETA: 0s - loss: 0.2763 - accuracy: 0.88 - ETA: 0s - loss: 0.2755 - accuracy: 0.88 - ETA: 0s - loss: 0.2742 - accuracy: 0.88 - ETA: 0s - loss: 0.2695 - accuracy: 0.88 - ETA: 0s - loss: 0.2717 - accuracy: 0.88 - ETA: 0s - loss: 0.2726 - accuracy: 0.88 - ETA: 0s - loss: 0.2728 - accuracy: 0.88 - ETA: 0s - loss: 0.2753 - accuracy: 0.88 - ETA: 0s - loss: 0.2766 - accuracy: 0.88 - 1s 3ms/step - loss: 0.2742 - accuracy: 0.8823 - val_loss: 0.4148 - val_accuracy: 0.8540\n",
      "Epoch 39/50\n",
      "235/235 [==============================] - ETA: 0s - loss: 0.1982 - accuracy: 0.93 - ETA: 0s - loss: 0.2640 - accuracy: 0.89 - ETA: 0s - loss: 0.2539 - accuracy: 0.89 - ETA: 0s - loss: 0.2600 - accuracy: 0.89 - ETA: 0s - loss: 0.2773 - accuracy: 0.89 - ETA: 0s - loss: 0.2824 - accuracy: 0.89 - ETA: 0s - loss: 0.2765 - accuracy: 0.89 - ETA: 0s - loss: 0.2713 - accuracy: 0.89 - ETA: 0s - loss: 0.2757 - accuracy: 0.89 - ETA: 0s - loss: 0.2766 - accuracy: 0.89 - ETA: 0s - loss: 0.2810 - accuracy: 0.88 - ETA: 0s - loss: 0.2835 - accuracy: 0.88 - 1s 3ms/step - loss: 0.2859 - accuracy: 0.8856 - val_loss: 0.4221 - val_accuracy: 0.8552\n",
      "Epoch 40/50\n",
      "235/235 [==============================] - ETA: 0s - loss: 0.1604 - accuracy: 0.96 - ETA: 0s - loss: 0.2536 - accuracy: 0.89 - ETA: 0s - loss: 0.2674 - accuracy: 0.89 - ETA: 0s - loss: 0.2738 - accuracy: 0.88 - ETA: 0s - loss: 0.2794 - accuracy: 0.88 - ETA: 0s - loss: 0.2762 - accuracy: 0.88 - ETA: 0s - loss: 0.2775 - accuracy: 0.88 - ETA: 0s - loss: 0.2788 - accuracy: 0.88 - ETA: 0s - loss: 0.2785 - accuracy: 0.88 - ETA: 0s - loss: 0.2834 - accuracy: 0.87 - ETA: 0s - loss: 0.2833 - accuracy: 0.87 - ETA: 0s - loss: 0.2821 - accuracy: 0.87 - 1s 3ms/step - loss: 0.2799 - accuracy: 0.8799 - val_loss: 0.4304 - val_accuracy: 0.8540\n",
      "Epoch 41/50\n",
      "235/235 [==============================] - ETA: 0s - loss: 0.2904 - accuracy: 0.84 - ETA: 0s - loss: 0.2393 - accuracy: 0.89 - ETA: 0s - loss: 0.2664 - accuracy: 0.87 - ETA: 0s - loss: 0.2567 - accuracy: 0.88 - ETA: 0s - loss: 0.2554 - accuracy: 0.88 - ETA: 0s - loss: 0.2562 - accuracy: 0.88 - ETA: 0s - loss: 0.2586 - accuracy: 0.88 - ETA: 0s - loss: 0.2577 - accuracy: 0.88 - ETA: 0s - loss: 0.2615 - accuracy: 0.88 - ETA: 0s - loss: 0.2622 - accuracy: 0.88 - ETA: 0s - loss: 0.2675 - accuracy: 0.88 - ETA: 0s - loss: 0.2677 - accuracy: 0.88 - 1s 3ms/step - loss: 0.2673 - accuracy: 0.8828 - val_loss: 0.4334 - val_accuracy: 0.8560\n",
      "Epoch 42/50\n",
      "235/235 [==============================] - ETA: 0s - loss: 0.1971 - accuracy: 0.90 - ETA: 0s - loss: 0.2406 - accuracy: 0.89 - ETA: 0s - loss: 0.2507 - accuracy: 0.88 - ETA: 0s - loss: 0.2579 - accuracy: 0.88 - ETA: 0s - loss: 0.2604 - accuracy: 0.88 - ETA: 0s - loss: 0.2674 - accuracy: 0.88 - ETA: 0s - loss: 0.2682 - accuracy: 0.88 - ETA: 0s - loss: 0.2761 - accuracy: 0.87 - ETA: 0s - loss: 0.2803 - accuracy: 0.87 - ETA: 0s - loss: 0.2780 - accuracy: 0.87 - ETA: 0s - loss: 0.2762 - accuracy: 0.88 - ETA: 0s - loss: 0.2769 - accuracy: 0.88 - 1s 3ms/step - loss: 0.2773 - accuracy: 0.8800 - val_loss: 0.4263 - val_accuracy: 0.8616\n",
      "Epoch 43/50\n",
      "235/235 [==============================] - ETA: 0s - loss: 0.1700 - accuracy: 0.93 - ETA: 0s - loss: 0.2675 - accuracy: 0.86 - ETA: 0s - loss: 0.2670 - accuracy: 0.86 - ETA: 0s - loss: 0.2552 - accuracy: 0.87 - ETA: 0s - loss: 0.2588 - accuracy: 0.87 - ETA: 0s - loss: 0.2617 - accuracy: 0.87 - ETA: 0s - loss: 0.2569 - accuracy: 0.87 - ETA: 0s - loss: 0.2548 - accuracy: 0.88 - ETA: 0s - loss: 0.2544 - accuracy: 0.88 - ETA: 0s - loss: 0.2587 - accuracy: 0.88 - ETA: 0s - loss: 0.2616 - accuracy: 0.88 - ETA: 0s - loss: 0.2627 - accuracy: 0.88 - 1s 3ms/step - loss: 0.2646 - accuracy: 0.8837 - val_loss: 0.4072 - val_accuracy: 0.8584\n",
      "Epoch 44/50\n",
      "235/235 [==============================] - ETA: 0s - loss: 0.2068 - accuracy: 0.93 - ETA: 0s - loss: 0.2379 - accuracy: 0.89 - ETA: 0s - loss: 0.2680 - accuracy: 0.88 - ETA: 0s - loss: 0.2627 - accuracy: 0.88 - ETA: 0s - loss: 0.2565 - accuracy: 0.88 - ETA: 0s - loss: 0.2570 - accuracy: 0.88 - ETA: 0s - loss: 0.2486 - accuracy: 0.89 - ETA: 0s - loss: 0.2467 - accuracy: 0.89 - ETA: 0s - loss: 0.2493 - accuracy: 0.88 - ETA: 0s - loss: 0.2502 - accuracy: 0.88 - ETA: 0s - loss: 0.2532 - accuracy: 0.88 - ETA: 0s - loss: 0.2546 - accuracy: 0.88 - ETA: 0s - loss: 0.2574 - accuracy: 0.88 - 1s 3ms/step - loss: 0.2574 - accuracy: 0.8865 - val_loss: 0.4329 - val_accuracy: 0.8500\n",
      "Epoch 45/50\n",
      "235/235 [==============================] - ETA: 0s - loss: 0.1835 - accuracy: 0.96 - ETA: 0s - loss: 0.2578 - accuracy: 0.90 - ETA: 0s - loss: 0.2440 - accuracy: 0.90 - ETA: 0s - loss: 0.2486 - accuracy: 0.90 - ETA: 0s - loss: 0.2552 - accuracy: 0.89 - ETA: 0s - loss: 0.2488 - accuracy: 0.89 - ETA: 0s - loss: 0.2543 - accuracy: 0.89 - ETA: 0s - loss: 0.2599 - accuracy: 0.88 - ETA: 0s - loss: 0.2585 - accuracy: 0.88 - ETA: 0s - loss: 0.2595 - accuracy: 0.88 - ETA: 0s - loss: 0.2588 - accuracy: 0.88 - ETA: 0s - loss: 0.2559 - accuracy: 0.88 - 1s 3ms/step - loss: 0.2591 - accuracy: 0.8877 - val_loss: 0.4209 - val_accuracy: 0.8504\n",
      "Epoch 46/50\n",
      "235/235 [==============================] - ETA: 0s - loss: 0.1942 - accuracy: 0.93 - ETA: 0s - loss: 0.2457 - accuracy: 0.88 - ETA: 0s - loss: 0.2422 - accuracy: 0.89 - ETA: 0s - loss: 0.2340 - accuracy: 0.89 - ETA: 0s - loss: 0.2394 - accuracy: 0.89 - ETA: 0s - loss: 0.2400 - accuracy: 0.89 - ETA: 0s - loss: 0.2461 - accuracy: 0.89 - ETA: 0s - loss: 0.2474 - accuracy: 0.89 - ETA: 0s - loss: 0.2487 - accuracy: 0.89 - ETA: 0s - loss: 0.2519 - accuracy: 0.89 - ETA: 0s - loss: 0.2532 - accuracy: 0.88 - ETA: 0s - loss: 0.2588 - accuracy: 0.88 - 1s 3ms/step - loss: 0.2584 - accuracy: 0.8881 - val_loss: 0.4582 - val_accuracy: 0.8564\n",
      "Epoch 47/50\n",
      "235/235 [==============================] - ETA: 0s - loss: 0.2984 - accuracy: 0.84 - ETA: 0s - loss: 0.2296 - accuracy: 0.89 - ETA: 0s - loss: 0.2383 - accuracy: 0.89 - ETA: 0s - loss: 0.2408 - accuracy: 0.89 - ETA: 0s - loss: 0.2366 - accuracy: 0.89 - ETA: 0s - loss: 0.2365 - accuracy: 0.89 - ETA: 0s - loss: 0.2380 - accuracy: 0.89 - ETA: 0s - loss: 0.2402 - accuracy: 0.89 - ETA: 0s - loss: 0.2432 - accuracy: 0.89 - ETA: 0s - loss: 0.2432 - accuracy: 0.89 - ETA: 0s - loss: 0.2430 - accuracy: 0.89 - ETA: 0s - loss: 0.2459 - accuracy: 0.89 - 1s 3ms/step - loss: 0.2464 - accuracy: 0.8931 - val_loss: 0.4595 - val_accuracy: 0.8516\n",
      "Epoch 48/50\n"
     ]
    },
    {
     "name": "stdout",
     "output_type": "stream",
     "text": [
      "235/235 [==============================] - ETA: 0s - loss: 0.1735 - accuracy: 0.93 - ETA: 0s - loss: 0.2313 - accuracy: 0.89 - ETA: 0s - loss: 0.2261 - accuracy: 0.89 - ETA: 0s - loss: 0.2262 - accuracy: 0.89 - ETA: 0s - loss: 0.2242 - accuracy: 0.89 - ETA: 0s - loss: 0.2254 - accuracy: 0.89 - ETA: 0s - loss: 0.2292 - accuracy: 0.89 - ETA: 0s - loss: 0.2307 - accuracy: 0.89 - ETA: 0s - loss: 0.2323 - accuracy: 0.89 - ETA: 0s - loss: 0.2323 - accuracy: 0.89 - ETA: 0s - loss: 0.2355 - accuracy: 0.89 - ETA: 0s - loss: 0.2398 - accuracy: 0.89 - ETA: 0s - loss: 0.2417 - accuracy: 0.89 - 1s 3ms/step - loss: 0.2432 - accuracy: 0.8928 - val_loss: 0.5059 - val_accuracy: 0.8364\n",
      "Epoch 49/50\n",
      "235/235 [==============================] - ETA: 0s - loss: 0.3232 - accuracy: 0.84 - ETA: 0s - loss: 0.2400 - accuracy: 0.89 - ETA: 0s - loss: 0.2474 - accuracy: 0.88 - ETA: 0s - loss: 0.2405 - accuracy: 0.88 - ETA: 0s - loss: 0.2393 - accuracy: 0.89 - ETA: 0s - loss: 0.2432 - accuracy: 0.89 - ETA: 0s - loss: 0.2538 - accuracy: 0.89 - ETA: 0s - loss: 0.2469 - accuracy: 0.89 - ETA: 0s - loss: 0.2569 - accuracy: 0.88 - ETA: 0s - loss: 0.2557 - accuracy: 0.88 - ETA: 0s - loss: 0.2523 - accuracy: 0.89 - ETA: 0s - loss: 0.2592 - accuracy: 0.88 - 1s 3ms/step - loss: 0.2615 - accuracy: 0.8875 - val_loss: 0.4127 - val_accuracy: 0.8520\n",
      "Epoch 50/50\n",
      "235/235 [==============================] - ETA: 0s - loss: 0.2771 - accuracy: 0.81 - ETA: 0s - loss: 0.2448 - accuracy: 0.88 - ETA: 0s - loss: 0.2326 - accuracy: 0.90 - ETA: 0s - loss: 0.2313 - accuracy: 0.90 - ETA: 0s - loss: 0.2300 - accuracy: 0.89 - ETA: 0s - loss: 0.2397 - accuracy: 0.89 - ETA: 0s - loss: 0.2422 - accuracy: 0.89 - ETA: 0s - loss: 0.2424 - accuracy: 0.89 - ETA: 0s - loss: 0.2488 - accuracy: 0.89 - ETA: 0s - loss: 0.2533 - accuracy: 0.88 - ETA: 0s - loss: 0.2560 - accuracy: 0.88 - ETA: 0s - loss: 0.2529 - accuracy: 0.89 - ETA: 0s - loss: 0.2507 - accuracy: 0.89 - ETA: 0s - loss: 0.2535 - accuracy: 0.89 - 1s 3ms/step - loss: 0.2534 - accuracy: 0.8901 - val_loss: 0.5023 - val_accuracy: 0.8552\n",
      "Epoch 1/50\n",
      "235/235 [==============================] - ETA: 0s - loss: 0.6505 - accuracy: 0.87 - ETA: 0s - loss: 0.6235 - accuracy: 0.74 - ETA: 0s - loss: 0.5400 - accuracy: 0.77 - ETA: 0s - loss: 0.5119 - accuracy: 0.78 - ETA: 0s - loss: 0.4821 - accuracy: 0.80 - ETA: 0s - loss: 0.4642 - accuracy: 0.80 - ETA: 0s - loss: 0.4527 - accuracy: 0.81 - ETA: 0s - loss: 0.4440 - accuracy: 0.81 - ETA: 0s - loss: 0.4350 - accuracy: 0.82 - ETA: 0s - loss: 0.4270 - accuracy: 0.82 - ETA: 0s - loss: 0.4265 - accuracy: 0.82 - ETA: 0s - loss: 0.4230 - accuracy: 0.82 - ETA: 0s - loss: 0.4201 - accuracy: 0.82 - ETA: 0s - loss: 0.4159 - accuracy: 0.83 - 1s 4ms/step - loss: 0.4162 - accuracy: 0.8315 - val_loss: 0.3824 - val_accuracy: 0.8476\n",
      "Epoch 2/50\n",
      "235/235 [==============================] - ETA: 0s - loss: 0.2979 - accuracy: 0.93 - ETA: 0s - loss: 0.4118 - accuracy: 0.82 - ETA: 0s - loss: 0.3904 - accuracy: 0.84 - ETA: 0s - loss: 0.4031 - accuracy: 0.84 - ETA: 0s - loss: 0.3980 - accuracy: 0.84 - ETA: 0s - loss: 0.3907 - accuracy: 0.84 - ETA: 0s - loss: 0.3790 - accuracy: 0.84 - ETA: 0s - loss: 0.3710 - accuracy: 0.85 - ETA: 0s - loss: 0.3702 - accuracy: 0.85 - ETA: 0s - loss: 0.3674 - accuracy: 0.85 - ETA: 0s - loss: 0.3677 - accuracy: 0.85 - ETA: 0s - loss: 0.3686 - accuracy: 0.85 - ETA: 0s - loss: 0.3681 - accuracy: 0.85 - 1s 3ms/step - loss: 0.3702 - accuracy: 0.8545 - val_loss: 0.3744 - val_accuracy: 0.8576\n",
      "Epoch 3/50\n",
      "235/235 [==============================] - ETA: 0s - loss: 0.2079 - accuracy: 1.00 - ETA: 0s - loss: 0.3463 - accuracy: 0.86 - ETA: 0s - loss: 0.3525 - accuracy: 0.85 - ETA: 0s - loss: 0.3574 - accuracy: 0.85 - ETA: 0s - loss: 0.3662 - accuracy: 0.84 - ETA: 0s - loss: 0.3673 - accuracy: 0.84 - ETA: 0s - loss: 0.3676 - accuracy: 0.84 - ETA: 0s - loss: 0.3625 - accuracy: 0.84 - ETA: 0s - loss: 0.3632 - accuracy: 0.84 - ETA: 0s - loss: 0.3636 - accuracy: 0.85 - ETA: 0s - loss: 0.3634 - accuracy: 0.85 - ETA: 0s - loss: 0.3605 - accuracy: 0.85 - ETA: 0s - loss: 0.3601 - accuracy: 0.85 - 1s 3ms/step - loss: 0.3600 - accuracy: 0.8539 - val_loss: 0.3418 - val_accuracy: 0.8588\n",
      "Epoch 4/50\n",
      "235/235 [==============================] - ETA: 0s - loss: 0.4620 - accuracy: 0.75 - ETA: 0s - loss: 0.2903 - accuracy: 0.89 - ETA: 0s - loss: 0.3206 - accuracy: 0.87 - ETA: 0s - loss: 0.3374 - accuracy: 0.87 - ETA: 0s - loss: 0.3486 - accuracy: 0.86 - ETA: 0s - loss: 0.3508 - accuracy: 0.86 - ETA: 0s - loss: 0.3522 - accuracy: 0.86 - ETA: 0s - loss: 0.3529 - accuracy: 0.86 - ETA: 0s - loss: 0.3532 - accuracy: 0.85 - ETA: 0s - loss: 0.3590 - accuracy: 0.85 - ETA: 0s - loss: 0.3591 - accuracy: 0.85 - ETA: 0s - loss: 0.3617 - accuracy: 0.85 - ETA: 0s - loss: 0.3632 - accuracy: 0.85 - 1s 3ms/step - loss: 0.3639 - accuracy: 0.8529 - val_loss: 0.3581 - val_accuracy: 0.8588\n",
      "Epoch 5/50\n",
      "235/235 [==============================] - ETA: 0s - loss: 0.2594 - accuracy: 0.96 - ETA: 0s - loss: 0.3750 - accuracy: 0.84 - ETA: 0s - loss: 0.3496 - accuracy: 0.85 - ETA: 0s - loss: 0.3545 - accuracy: 0.84 - ETA: 0s - loss: 0.3527 - accuracy: 0.85 - ETA: 0s - loss: 0.3520 - accuracy: 0.85 - ETA: 0s - loss: 0.3531 - accuracy: 0.85 - ETA: 0s - loss: 0.3450 - accuracy: 0.85 - ETA: 0s - loss: 0.3447 - accuracy: 0.85 - ETA: 0s - loss: 0.3463 - accuracy: 0.85 - ETA: 0s - loss: 0.3488 - accuracy: 0.85 - ETA: 0s - loss: 0.3494 - accuracy: 0.85 - ETA: 0s - loss: 0.3498 - accuracy: 0.85 - 1s 3ms/step - loss: 0.3501 - accuracy: 0.8524 - val_loss: 0.3402 - val_accuracy: 0.8624\n",
      "Epoch 6/50\n",
      "235/235 [==============================] - ETA: 0s - loss: 0.2148 - accuracy: 0.96 - ETA: 0s - loss: 0.3036 - accuracy: 0.89 - ETA: 0s - loss: 0.3239 - accuracy: 0.87 - ETA: 0s - loss: 0.3256 - accuracy: 0.87 - ETA: 0s - loss: 0.3354 - accuracy: 0.86 - ETA: 0s - loss: 0.3399 - accuracy: 0.86 - ETA: 0s - loss: 0.3431 - accuracy: 0.86 - ETA: 0s - loss: 0.3417 - accuracy: 0.86 - ETA: 0s - loss: 0.3396 - accuracy: 0.86 - ETA: 0s - loss: 0.3396 - accuracy: 0.86 - ETA: 0s - loss: 0.3444 - accuracy: 0.86 - ETA: 0s - loss: 0.3436 - accuracy: 0.86 - 1s 3ms/step - loss: 0.3436 - accuracy: 0.8623 - val_loss: 0.3478 - val_accuracy: 0.8604\n",
      "Epoch 7/50\n",
      "235/235 [==============================] - ETA: 0s - loss: 0.3398 - accuracy: 0.87 - ETA: 0s - loss: 0.3278 - accuracy: 0.85 - ETA: 0s - loss: 0.3326 - accuracy: 0.85 - ETA: 0s - loss: 0.3439 - accuracy: 0.85 - ETA: 0s - loss: 0.3414 - accuracy: 0.85 - ETA: 0s - loss: 0.3363 - accuracy: 0.86 - ETA: 0s - loss: 0.3428 - accuracy: 0.85 - ETA: 0s - loss: 0.3417 - accuracy: 0.85 - ETA: 0s - loss: 0.3451 - accuracy: 0.85 - ETA: 0s - loss: 0.3485 - accuracy: 0.85 - ETA: 0s - loss: 0.3486 - accuracy: 0.85 - ETA: 0s - loss: 0.3485 - accuracy: 0.85 - 1s 3ms/step - loss: 0.3467 - accuracy: 0.8600 - val_loss: 0.3528 - val_accuracy: 0.8520\n",
      "Epoch 8/50\n",
      "235/235 [==============================] - ETA: 0s - loss: 0.2515 - accuracy: 0.90 - ETA: 0s - loss: 0.3239 - accuracy: 0.86 - ETA: 0s - loss: 0.3123 - accuracy: 0.87 - ETA: 0s - loss: 0.3361 - accuracy: 0.86 - ETA: 0s - loss: 0.3427 - accuracy: 0.85 - ETA: 0s - loss: 0.3442 - accuracy: 0.85 - ETA: 0s - loss: 0.3441 - accuracy: 0.85 - ETA: 0s - loss: 0.3446 - accuracy: 0.85 - ETA: 0s - loss: 0.3453 - accuracy: 0.85 - ETA: 0s - loss: 0.3477 - accuracy: 0.85 - ETA: 0s - loss: 0.3471 - accuracy: 0.85 - ETA: 0s - loss: 0.3455 - accuracy: 0.85 - 1s 3ms/step - loss: 0.3460 - accuracy: 0.8592 - val_loss: 0.3460 - val_accuracy: 0.8484\n",
      "Epoch 9/50\n",
      "235/235 [==============================] - ETA: 0s - loss: 0.3300 - accuracy: 0.84 - ETA: 0s - loss: 0.3444 - accuracy: 0.85 - ETA: 0s - loss: 0.3383 - accuracy: 0.86 - ETA: 0s - loss: 0.3367 - accuracy: 0.86 - ETA: 0s - loss: 0.3347 - accuracy: 0.86 - ETA: 0s - loss: 0.3458 - accuracy: 0.85 - ETA: 0s - loss: 0.3395 - accuracy: 0.86 - ETA: 0s - loss: 0.3382 - accuracy: 0.86 - ETA: 0s - loss: 0.3361 - accuracy: 0.86 - ETA: 0s - loss: 0.3330 - accuracy: 0.86 - ETA: 0s - loss: 0.3353 - accuracy: 0.86 - ETA: 0s - loss: 0.3374 - accuracy: 0.86 - 1s 3ms/step - loss: 0.3393 - accuracy: 0.8595 - val_loss: 0.3518 - val_accuracy: 0.8556\n",
      "Epoch 10/50\n"
     ]
    },
    {
     "name": "stdout",
     "output_type": "stream",
     "text": [
      "235/235 [==============================] - ETA: 0s - loss: 0.3201 - accuracy: 0.84 - ETA: 0s - loss: 0.2921 - accuracy: 0.88 - ETA: 0s - loss: 0.2982 - accuracy: 0.87 - ETA: 0s - loss: 0.3126 - accuracy: 0.87 - ETA: 0s - loss: 0.3181 - accuracy: 0.87 - ETA: 0s - loss: 0.3301 - accuracy: 0.86 - ETA: 0s - loss: 0.3356 - accuracy: 0.86 - ETA: 0s - loss: 0.3310 - accuracy: 0.86 - ETA: 0s - loss: 0.3352 - accuracy: 0.86 - ETA: 0s - loss: 0.3296 - accuracy: 0.86 - ETA: 0s - loss: 0.3291 - accuracy: 0.86 - ETA: 0s - loss: 0.3330 - accuracy: 0.86 - 1s 3ms/step - loss: 0.3330 - accuracy: 0.8635 - val_loss: 0.3497 - val_accuracy: 0.8612\n",
      "Epoch 11/50\n",
      "235/235 [==============================] - ETA: 0s - loss: 0.3251 - accuracy: 0.87 - ETA: 0s - loss: 0.3119 - accuracy: 0.87 - ETA: 0s - loss: 0.3080 - accuracy: 0.87 - ETA: 0s - loss: 0.3195 - accuracy: 0.87 - ETA: 0s - loss: 0.3252 - accuracy: 0.87 - ETA: 0s - loss: 0.3339 - accuracy: 0.86 - ETA: 0s - loss: 0.3288 - accuracy: 0.87 - ETA: 0s - loss: 0.3331 - accuracy: 0.86 - ETA: 0s - loss: 0.3369 - accuracy: 0.86 - ETA: 0s - loss: 0.3396 - accuracy: 0.86 - ETA: 0s - loss: 0.3394 - accuracy: 0.86 - ETA: 0s - loss: 0.3397 - accuracy: 0.86 - 1s 3ms/step - loss: 0.3388 - accuracy: 0.8633 - val_loss: 0.3495 - val_accuracy: 0.8568\n",
      "Epoch 12/50\n",
      "235/235 [==============================] - ETA: 0s - loss: 0.1925 - accuracy: 0.90 - ETA: 0s - loss: 0.3403 - accuracy: 0.86 - ETA: 0s - loss: 0.3369 - accuracy: 0.85 - ETA: 0s - loss: 0.3327 - accuracy: 0.86 - ETA: 0s - loss: 0.3246 - accuracy: 0.86 - ETA: 0s - loss: 0.3221 - accuracy: 0.86 - ETA: 0s - loss: 0.3184 - accuracy: 0.86 - ETA: 0s - loss: 0.3196 - accuracy: 0.86 - ETA: 0s - loss: 0.3225 - accuracy: 0.86 - ETA: 0s - loss: 0.3266 - accuracy: 0.86 - ETA: 0s - loss: 0.3285 - accuracy: 0.86 - ETA: 0s - loss: 0.3315 - accuracy: 0.86 - 1s 3ms/step - loss: 0.3304 - accuracy: 0.8637 - val_loss: 0.3387 - val_accuracy: 0.8612\n",
      "Epoch 13/50\n",
      "235/235 [==============================] - ETA: 0s - loss: 0.2873 - accuracy: 0.81 - ETA: 0s - loss: 0.2700 - accuracy: 0.88 - ETA: 0s - loss: 0.3066 - accuracy: 0.87 - ETA: 0s - loss: 0.3101 - accuracy: 0.87 - ETA: 0s - loss: 0.3143 - accuracy: 0.87 - ETA: 0s - loss: 0.3138 - accuracy: 0.87 - ETA: 0s - loss: 0.3111 - accuracy: 0.87 - ETA: 0s - loss: 0.3128 - accuracy: 0.87 - ETA: 0s - loss: 0.3167 - accuracy: 0.87 - ETA: 0s - loss: 0.3261 - accuracy: 0.86 - ETA: 0s - loss: 0.3292 - accuracy: 0.86 - ETA: 0s - loss: 0.3285 - accuracy: 0.86 - 1s 3ms/step - loss: 0.3316 - accuracy: 0.8647 - val_loss: 0.3496 - val_accuracy: 0.8588\n",
      "Epoch 14/50\n",
      "235/235 [==============================] - ETA: 0s - loss: 0.3399 - accuracy: 0.84 - ETA: 0s - loss: 0.3218 - accuracy: 0.87 - ETA: 0s - loss: 0.3046 - accuracy: 0.87 - ETA: 0s - loss: 0.3135 - accuracy: 0.87 - ETA: 0s - loss: 0.3044 - accuracy: 0.88 - ETA: 0s - loss: 0.3033 - accuracy: 0.88 - ETA: 0s - loss: 0.3163 - accuracy: 0.87 - ETA: 0s - loss: 0.3189 - accuracy: 0.87 - ETA: 0s - loss: 0.3219 - accuracy: 0.86 - ETA: 0s - loss: 0.3263 - accuracy: 0.86 - ETA: 0s - loss: 0.3305 - accuracy: 0.86 - ETA: 0s - loss: 0.3320 - accuracy: 0.86 - ETA: 0s - loss: 0.3324 - accuracy: 0.86 - 1s 3ms/step - loss: 0.3323 - accuracy: 0.8653 - val_loss: 0.3427 - val_accuracy: 0.8628\n",
      "Epoch 15/50\n",
      "235/235 [==============================] - ETA: 0s - loss: 0.4159 - accuracy: 0.81 - ETA: 0s - loss: 0.2905 - accuracy: 0.86 - ETA: 0s - loss: 0.3026 - accuracy: 0.86 - ETA: 0s - loss: 0.3079 - accuracy: 0.87 - ETA: 0s - loss: 0.3072 - accuracy: 0.87 - ETA: 0s - loss: 0.3153 - accuracy: 0.86 - ETA: 0s - loss: 0.3153 - accuracy: 0.86 - ETA: 0s - loss: 0.3161 - accuracy: 0.86 - ETA: 0s - loss: 0.3176 - accuracy: 0.86 - ETA: 0s - loss: 0.3171 - accuracy: 0.86 - ETA: 0s - loss: 0.3190 - accuracy: 0.86 - ETA: 0s - loss: 0.3200 - accuracy: 0.86 - 1s 3ms/step - loss: 0.3215 - accuracy: 0.8667 - val_loss: 0.3481 - val_accuracy: 0.8588\n",
      "Epoch 16/50\n",
      "235/235 [==============================] - ETA: 0s - loss: 0.3128 - accuracy: 0.84 - ETA: 0s - loss: 0.3124 - accuracy: 0.87 - ETA: 0s - loss: 0.3015 - accuracy: 0.87 - ETA: 0s - loss: 0.3118 - accuracy: 0.87 - ETA: 0s - loss: 0.3137 - accuracy: 0.86 - ETA: 0s - loss: 0.3204 - accuracy: 0.87 - ETA: 0s - loss: 0.3246 - accuracy: 0.87 - ETA: 0s - loss: 0.3276 - accuracy: 0.86 - ETA: 0s - loss: 0.3294 - accuracy: 0.86 - ETA: 0s - loss: 0.3260 - accuracy: 0.86 - ETA: 0s - loss: 0.3275 - accuracy: 0.86 - ETA: 0s - loss: 0.3256 - accuracy: 0.86 - 1s 3ms/step - loss: 0.3255 - accuracy: 0.8679 - val_loss: 0.3537 - val_accuracy: 0.8604\n",
      "Epoch 17/50\n",
      "235/235 [==============================] - ETA: 0s - loss: 0.3491 - accuracy: 0.87 - ETA: 0s - loss: 0.3282 - accuracy: 0.86 - ETA: 0s - loss: 0.2982 - accuracy: 0.88 - ETA: 0s - loss: 0.3140 - accuracy: 0.87 - ETA: 0s - loss: 0.3165 - accuracy: 0.87 - ETA: 0s - loss: 0.3145 - accuracy: 0.87 - ETA: 0s - loss: 0.3210 - accuracy: 0.86 - ETA: 0s - loss: 0.3183 - accuracy: 0.86 - ETA: 0s - loss: 0.3180 - accuracy: 0.87 - ETA: 0s - loss: 0.3213 - accuracy: 0.86 - ETA: 0s - loss: 0.3212 - accuracy: 0.86 - ETA: 0s - loss: 0.3198 - accuracy: 0.86 - 1s 3ms/step - loss: 0.3205 - accuracy: 0.8673 - val_loss: 0.3438 - val_accuracy: 0.8624\n",
      "Epoch 18/50\n",
      "235/235 [==============================] - ETA: 0s - loss: 0.1829 - accuracy: 0.90 - ETA: 0s - loss: 0.2982 - accuracy: 0.87 - ETA: 0s - loss: 0.3046 - accuracy: 0.87 - ETA: 0s - loss: 0.3032 - accuracy: 0.87 - ETA: 0s - loss: 0.2912 - accuracy: 0.88 - ETA: 0s - loss: 0.2937 - accuracy: 0.88 - ETA: 0s - loss: 0.3018 - accuracy: 0.87 - ETA: 0s - loss: 0.3076 - accuracy: 0.87 - ETA: 0s - loss: 0.3114 - accuracy: 0.87 - ETA: 0s - loss: 0.3152 - accuracy: 0.87 - ETA: 0s - loss: 0.3166 - accuracy: 0.87 - ETA: 0s - loss: 0.3191 - accuracy: 0.87 - 1s 3ms/step - loss: 0.3194 - accuracy: 0.8707 - val_loss: 0.3439 - val_accuracy: 0.8612\n",
      "Epoch 19/50\n",
      "235/235 [==============================] - ETA: 0s - loss: 0.3224 - accuracy: 0.84 - ETA: 0s - loss: 0.3229 - accuracy: 0.84 - ETA: 0s - loss: 0.3165 - accuracy: 0.86 - ETA: 0s - loss: 0.3055 - accuracy: 0.87 - ETA: 0s - loss: 0.3144 - accuracy: 0.86 - ETA: 0s - loss: 0.3163 - accuracy: 0.86 - ETA: 0s - loss: 0.3130 - accuracy: 0.87 - ETA: 0s - loss: 0.3141 - accuracy: 0.86 - ETA: 0s - loss: 0.3090 - accuracy: 0.87 - ETA: 0s - loss: 0.3090 - accuracy: 0.87 - ETA: 0s - loss: 0.3099 - accuracy: 0.87 - ETA: 0s - loss: 0.3119 - accuracy: 0.87 - ETA: 0s - loss: 0.3129 - accuracy: 0.87 - ETA: 0s - loss: 0.3148 - accuracy: 0.87 - 1s 3ms/step - loss: 0.3145 - accuracy: 0.8707 - val_loss: 0.3495 - val_accuracy: 0.8584\n",
      "Epoch 20/50\n",
      "235/235 [==============================] - ETA: 0s - loss: 0.3006 - accuracy: 0.93 - ETA: 0s - loss: 0.3235 - accuracy: 0.87 - ETA: 0s - loss: 0.2915 - accuracy: 0.88 - ETA: 0s - loss: 0.2945 - accuracy: 0.88 - ETA: 0s - loss: 0.2987 - accuracy: 0.88 - ETA: 0s - loss: 0.2916 - accuracy: 0.88 - ETA: 0s - loss: 0.2974 - accuracy: 0.88 - ETA: 0s - loss: 0.3030 - accuracy: 0.88 - ETA: 0s - loss: 0.3027 - accuracy: 0.88 - ETA: 0s - loss: 0.3101 - accuracy: 0.87 - ETA: 0s - loss: 0.3108 - accuracy: 0.87 - ETA: 0s - loss: 0.3129 - accuracy: 0.87 - ETA: 0s - loss: 0.3107 - accuracy: 0.87 - ETA: 0s - loss: 0.3125 - accuracy: 0.87 - 1s 3ms/step - loss: 0.3126 - accuracy: 0.8755 - val_loss: 0.3568 - val_accuracy: 0.8580\n",
      "Epoch 21/50\n",
      "235/235 [==============================] - ETA: 0s - loss: 0.2276 - accuracy: 0.93 - ETA: 0s - loss: 0.3063 - accuracy: 0.88 - ETA: 0s - loss: 0.3131 - accuracy: 0.87 - ETA: 0s - loss: 0.3137 - accuracy: 0.87 - ETA: 0s - loss: 0.2996 - accuracy: 0.87 - ETA: 0s - loss: 0.3046 - accuracy: 0.87 - ETA: 0s - loss: 0.3080 - accuracy: 0.87 - ETA: 0s - loss: 0.3053 - accuracy: 0.87 - ETA: 0s - loss: 0.3105 - accuracy: 0.87 - ETA: 0s - loss: 0.3150 - accuracy: 0.86 - ETA: 0s - loss: 0.3148 - accuracy: 0.86 - ETA: 0s - loss: 0.3153 - accuracy: 0.87 - 1s 3ms/step - loss: 0.3140 - accuracy: 0.8704 - val_loss: 0.3512 - val_accuracy: 0.8592\n",
      "Epoch 22/50\n"
     ]
    },
    {
     "name": "stdout",
     "output_type": "stream",
     "text": [
      "235/235 [==============================] - ETA: 0s - loss: 0.2633 - accuracy: 0.90 - ETA: 0s - loss: 0.2835 - accuracy: 0.87 - ETA: 0s - loss: 0.2830 - accuracy: 0.87 - ETA: 0s - loss: 0.3048 - accuracy: 0.87 - ETA: 0s - loss: 0.2963 - accuracy: 0.87 - ETA: 0s - loss: 0.2993 - accuracy: 0.87 - ETA: 0s - loss: 0.2980 - accuracy: 0.87 - ETA: 0s - loss: 0.3038 - accuracy: 0.87 - ETA: 0s - loss: 0.3090 - accuracy: 0.87 - ETA: 0s - loss: 0.3096 - accuracy: 0.87 - ETA: 0s - loss: 0.3083 - accuracy: 0.87 - ETA: 0s - loss: 0.3094 - accuracy: 0.87 - 1s 3ms/step - loss: 0.3096 - accuracy: 0.8709 - val_loss: 0.3504 - val_accuracy: 0.8580\n",
      "Epoch 23/50\n",
      "235/235 [==============================] - ETA: 0s - loss: 0.2437 - accuracy: 0.90 - ETA: 0s - loss: 0.2884 - accuracy: 0.88 - ETA: 0s - loss: 0.2969 - accuracy: 0.87 - ETA: 0s - loss: 0.2917 - accuracy: 0.87 - ETA: 0s - loss: 0.2910 - accuracy: 0.87 - ETA: 0s - loss: 0.2899 - accuracy: 0.87 - ETA: 0s - loss: 0.2925 - accuracy: 0.87 - ETA: 0s - loss: 0.2921 - accuracy: 0.87 - ETA: 0s - loss: 0.2968 - accuracy: 0.87 - ETA: 0s - loss: 0.3008 - accuracy: 0.87 - ETA: 0s - loss: 0.3033 - accuracy: 0.87 - ETA: 0s - loss: 0.3054 - accuracy: 0.87 - 1s 3ms/step - loss: 0.3056 - accuracy: 0.8709 - val_loss: 0.3529 - val_accuracy: 0.8604\n",
      "Epoch 24/50\n",
      "235/235 [==============================] - ETA: 0s - loss: 0.3108 - accuracy: 0.84 - ETA: 0s - loss: 0.3165 - accuracy: 0.86 - ETA: 0s - loss: 0.2988 - accuracy: 0.88 - ETA: 0s - loss: 0.3077 - accuracy: 0.87 - ETA: 0s - loss: 0.2992 - accuracy: 0.87 - ETA: 0s - loss: 0.2999 - accuracy: 0.87 - ETA: 0s - loss: 0.2999 - accuracy: 0.87 - ETA: 0s - loss: 0.3024 - accuracy: 0.87 - ETA: 0s - loss: 0.3048 - accuracy: 0.87 - ETA: 0s - loss: 0.3083 - accuracy: 0.87 - ETA: 0s - loss: 0.3053 - accuracy: 0.87 - ETA: 0s - loss: 0.3006 - accuracy: 0.87 - 1s 3ms/step - loss: 0.3021 - accuracy: 0.8752 - val_loss: 0.3692 - val_accuracy: 0.8600\n",
      "Epoch 25/50\n",
      "235/235 [==============================] - ETA: 0s - loss: 0.3058 - accuracy: 0.87 - ETA: 0s - loss: 0.2787 - accuracy: 0.87 - ETA: 0s - loss: 0.2867 - accuracy: 0.87 - ETA: 0s - loss: 0.2811 - accuracy: 0.87 - ETA: 0s - loss: 0.2877 - accuracy: 0.87 - ETA: 0s - loss: 0.2941 - accuracy: 0.87 - ETA: 0s - loss: 0.2936 - accuracy: 0.87 - ETA: 0s - loss: 0.2904 - accuracy: 0.88 - ETA: 0s - loss: 0.2883 - accuracy: 0.88 - ETA: 0s - loss: 0.2923 - accuracy: 0.87 - ETA: 0s - loss: 0.2949 - accuracy: 0.87 - ETA: 0s - loss: 0.2947 - accuracy: 0.87 - 1s 3ms/step - loss: 0.2968 - accuracy: 0.8767 - val_loss: 0.3679 - val_accuracy: 0.8572\n",
      "Epoch 26/50\n",
      "235/235 [==============================] - ETA: 0s - loss: 0.5687 - accuracy: 0.81 - ETA: 0s - loss: 0.3121 - accuracy: 0.85 - ETA: 0s - loss: 0.2934 - accuracy: 0.87 - ETA: 0s - loss: 0.2880 - accuracy: 0.88 - ETA: 0s - loss: 0.2859 - accuracy: 0.88 - ETA: 0s - loss: 0.2836 - accuracy: 0.88 - ETA: 0s - loss: 0.2836 - accuracy: 0.88 - ETA: 0s - loss: 0.2872 - accuracy: 0.87 - ETA: 0s - loss: 0.2828 - accuracy: 0.88 - ETA: 0s - loss: 0.2892 - accuracy: 0.87 - ETA: 0s - loss: 0.2898 - accuracy: 0.87 - ETA: 0s - loss: 0.2907 - accuracy: 0.87 - ETA: 0s - loss: 0.2945 - accuracy: 0.87 - 1s 3ms/step - loss: 0.2942 - accuracy: 0.8771 - val_loss: 0.3735 - val_accuracy: 0.8572\n",
      "Epoch 27/50\n",
      "235/235 [==============================] - ETA: 0s - loss: 0.3886 - accuracy: 0.87 - ETA: 0s - loss: 0.2745 - accuracy: 0.89 - ETA: 0s - loss: 0.2830 - accuracy: 0.87 - ETA: 0s - loss: 0.2825 - accuracy: 0.88 - ETA: 0s - loss: 0.2766 - accuracy: 0.88 - ETA: 0s - loss: 0.2805 - accuracy: 0.88 - ETA: 0s - loss: 0.2815 - accuracy: 0.88 - ETA: 0s - loss: 0.2809 - accuracy: 0.88 - ETA: 0s - loss: 0.2865 - accuracy: 0.88 - ETA: 0s - loss: 0.2904 - accuracy: 0.87 - ETA: 0s - loss: 0.2920 - accuracy: 0.87 - ETA: 0s - loss: 0.2907 - accuracy: 0.88 - 1s 3ms/step - loss: 0.2909 - accuracy: 0.8797 - val_loss: 0.3895 - val_accuracy: 0.8512\n",
      "Epoch 28/50\n",
      "235/235 [==============================] - ETA: 0s - loss: 0.2161 - accuracy: 0.90 - ETA: 0s - loss: 0.2530 - accuracy: 0.88 - ETA: 0s - loss: 0.2500 - accuracy: 0.90 - ETA: 0s - loss: 0.2713 - accuracy: 0.88 - ETA: 0s - loss: 0.2709 - accuracy: 0.88 - ETA: 0s - loss: 0.2820 - accuracy: 0.88 - ETA: 0s - loss: 0.2770 - accuracy: 0.88 - ETA: 0s - loss: 0.2802 - accuracy: 0.88 - ETA: 0s - loss: 0.2856 - accuracy: 0.88 - ETA: 0s - loss: 0.2868 - accuracy: 0.88 - ETA: 0s - loss: 0.2873 - accuracy: 0.88 - ETA: 0s - loss: 0.2885 - accuracy: 0.87 - ETA: 0s - loss: 0.2878 - accuracy: 0.87 - 1s 3ms/step - loss: 0.2878 - accuracy: 0.8791 - val_loss: 0.3646 - val_accuracy: 0.8588\n",
      "Epoch 29/50\n",
      "235/235 [==============================] - ETA: 0s - loss: 0.1245 - accuracy: 0.93 - ETA: 0s - loss: 0.2957 - accuracy: 0.86 - ETA: 0s - loss: 0.2825 - accuracy: 0.88 - ETA: 0s - loss: 0.2963 - accuracy: 0.87 - ETA: 0s - loss: 0.2956 - accuracy: 0.87 - ETA: 0s - loss: 0.2909 - accuracy: 0.87 - ETA: 0s - loss: 0.2902 - accuracy: 0.87 - ETA: 0s - loss: 0.2893 - accuracy: 0.87 - ETA: 0s - loss: 0.2877 - accuracy: 0.88 - ETA: 0s - loss: 0.2872 - accuracy: 0.88 - ETA: 0s - loss: 0.2865 - accuracy: 0.88 - ETA: 0s - loss: 0.2851 - accuracy: 0.88 - 1s 3ms/step - loss: 0.2858 - accuracy: 0.8824 - val_loss: 0.3814 - val_accuracy: 0.8560\n",
      "Epoch 30/50\n",
      "235/235 [==============================] - ETA: 0s - loss: 0.2195 - accuracy: 0.93 - ETA: 0s - loss: 0.2967 - accuracy: 0.87 - ETA: 0s - loss: 0.2925 - accuracy: 0.87 - ETA: 0s - loss: 0.2979 - accuracy: 0.87 - ETA: 0s - loss: 0.2978 - accuracy: 0.87 - ETA: 0s - loss: 0.2924 - accuracy: 0.87 - ETA: 0s - loss: 0.2917 - accuracy: 0.87 - ETA: 0s - loss: 0.2933 - accuracy: 0.87 - ETA: 0s - loss: 0.2882 - accuracy: 0.88 - ETA: 0s - loss: 0.2854 - accuracy: 0.88 - ETA: 0s - loss: 0.2825 - accuracy: 0.88 - ETA: 0s - loss: 0.2823 - accuracy: 0.88 - 1s 3ms/step - loss: 0.2858 - accuracy: 0.8835 - val_loss: 0.4361 - val_accuracy: 0.8580\n",
      "Epoch 31/50\n",
      "235/235 [==============================] - ETA: 0s - loss: 0.2192 - accuracy: 0.93 - ETA: 0s - loss: 0.2573 - accuracy: 0.89 - ETA: 0s - loss: 0.2651 - accuracy: 0.89 - ETA: 0s - loss: 0.2620 - accuracy: 0.89 - ETA: 0s - loss: 0.2731 - accuracy: 0.88 - ETA: 0s - loss: 0.2736 - accuracy: 0.88 - ETA: 0s - loss: 0.2778 - accuracy: 0.88 - ETA: 0s - loss: 0.2814 - accuracy: 0.88 - ETA: 0s - loss: 0.2873 - accuracy: 0.88 - ETA: 0s - loss: 0.2876 - accuracy: 0.88 - ETA: 0s - loss: 0.2846 - accuracy: 0.88 - ETA: 0s - loss: 0.2891 - accuracy: 0.88 - ETA: 0s - loss: 0.2874 - accuracy: 0.88 - 1s 3ms/step - loss: 0.2877 - accuracy: 0.8820 - val_loss: 0.4252 - val_accuracy: 0.8576\n",
      "Epoch 32/50\n",
      "235/235 [==============================] - ETA: 0s - loss: 0.1585 - accuracy: 0.96 - ETA: 0s - loss: 0.2730 - accuracy: 0.88 - ETA: 0s - loss: 0.2662 - accuracy: 0.88 - ETA: 0s - loss: 0.2576 - accuracy: 0.89 - ETA: 0s - loss: 0.2653 - accuracy: 0.88 - ETA: 0s - loss: 0.2665 - accuracy: 0.88 - ETA: 0s - loss: 0.2719 - accuracy: 0.88 - ETA: 0s - loss: 0.2677 - accuracy: 0.88 - ETA: 0s - loss: 0.2699 - accuracy: 0.88 - ETA: 0s - loss: 0.2704 - accuracy: 0.88 - ETA: 0s - loss: 0.2702 - accuracy: 0.88 - ETA: 0s - loss: 0.2724 - accuracy: 0.88 - 1s 3ms/step - loss: 0.2726 - accuracy: 0.8863 - val_loss: 0.4361 - val_accuracy: 0.8560\n",
      "Epoch 33/50\n",
      "235/235 [==============================] - ETA: 0s - loss: 0.2569 - accuracy: 0.90 - ETA: 0s - loss: 0.2525 - accuracy: 0.88 - ETA: 0s - loss: 0.2591 - accuracy: 0.88 - ETA: 0s - loss: 0.2621 - accuracy: 0.88 - ETA: 0s - loss: 0.2706 - accuracy: 0.88 - ETA: 0s - loss: 0.2682 - accuracy: 0.88 - ETA: 0s - loss: 0.2670 - accuracy: 0.88 - ETA: 0s - loss: 0.2761 - accuracy: 0.88 - ETA: 0s - loss: 0.2749 - accuracy: 0.88 - ETA: 0s - loss: 0.2782 - accuracy: 0.88 - ETA: 0s - loss: 0.2805 - accuracy: 0.88 - ETA: 0s - loss: 0.2802 - accuracy: 0.88 - ETA: 0s - loss: 0.2757 - accuracy: 0.88 - 1s 3ms/step - loss: 0.2744 - accuracy: 0.8837 - val_loss: 0.4181 - val_accuracy: 0.8644\n",
      "Epoch 34/50\n"
     ]
    },
    {
     "name": "stdout",
     "output_type": "stream",
     "text": [
      "235/235 [==============================] - ETA: 0s - loss: 0.3032 - accuracy: 0.87 - ETA: 0s - loss: 0.2577 - accuracy: 0.89 - ETA: 0s - loss: 0.2535 - accuracy: 0.89 - ETA: 0s - loss: 0.2502 - accuracy: 0.89 - ETA: 0s - loss: 0.2642 - accuracy: 0.88 - ETA: 0s - loss: 0.2643 - accuracy: 0.88 - ETA: 0s - loss: 0.2634 - accuracy: 0.88 - ETA: 0s - loss: 0.2687 - accuracy: 0.88 - ETA: 0s - loss: 0.2682 - accuracy: 0.88 - ETA: 0s - loss: 0.2682 - accuracy: 0.88 - ETA: 0s - loss: 0.2714 - accuracy: 0.88 - 1s 3ms/step - loss: 0.2736 - accuracy: 0.8841 - val_loss: 0.4358 - val_accuracy: 0.8596\n",
      "Epoch 35/50\n",
      "235/235 [==============================] - ETA: 0s - loss: 0.4328 - accuracy: 0.75 - ETA: 0s - loss: 0.2385 - accuracy: 0.90 - ETA: 0s - loss: 0.2448 - accuracy: 0.89 - ETA: 0s - loss: 0.2665 - accuracy: 0.89 - ETA: 0s - loss: 0.2658 - accuracy: 0.89 - ETA: 0s - loss: 0.2734 - accuracy: 0.88 - ETA: 0s - loss: 0.2766 - accuracy: 0.88 - ETA: 0s - loss: 0.2779 - accuracy: 0.88 - ETA: 0s - loss: 0.2807 - accuracy: 0.88 - ETA: 0s - loss: 0.2785 - accuracy: 0.88 - ETA: 0s - loss: 0.2794 - accuracy: 0.87 - ETA: 0s - loss: 0.2809 - accuracy: 0.87 - ETA: 0s - loss: 0.2814 - accuracy: 0.88 - 1s 3ms/step - loss: 0.2797 - accuracy: 0.8813 - val_loss: 0.3695 - val_accuracy: 0.8616\n",
      "Epoch 36/50\n",
      "235/235 [==============================] - ETA: 0s - loss: 0.1492 - accuracy: 0.93 - ETA: 0s - loss: 0.2652 - accuracy: 0.87 - ETA: 0s - loss: 0.2461 - accuracy: 0.88 - ETA: 0s - loss: 0.2490 - accuracy: 0.89 - ETA: 0s - loss: 0.2509 - accuracy: 0.89 - ETA: 0s - loss: 0.2489 - accuracy: 0.89 - ETA: 0s - loss: 0.2519 - accuracy: 0.88 - ETA: 0s - loss: 0.2557 - accuracy: 0.88 - ETA: 0s - loss: 0.2557 - accuracy: 0.89 - ETA: 0s - loss: 0.2539 - accuracy: 0.89 - ETA: 0s - loss: 0.2562 - accuracy: 0.89 - ETA: 0s - loss: 0.2579 - accuracy: 0.88 - 1s 3ms/step - loss: 0.2593 - accuracy: 0.8887 - val_loss: 0.4167 - val_accuracy: 0.8504\n",
      "Epoch 37/50\n",
      "235/235 [==============================] - ETA: 0s - loss: 0.2229 - accuracy: 0.96 - ETA: 0s - loss: 0.2644 - accuracy: 0.88 - ETA: 0s - loss: 0.2635 - accuracy: 0.88 - ETA: 0s - loss: 0.2637 - accuracy: 0.87 - ETA: 0s - loss: 0.2570 - accuracy: 0.88 - ETA: 0s - loss: 0.2569 - accuracy: 0.88 - ETA: 0s - loss: 0.2475 - accuracy: 0.88 - ETA: 0s - loss: 0.2444 - accuracy: 0.89 - ETA: 0s - loss: 0.2456 - accuracy: 0.89 - ETA: 0s - loss: 0.2504 - accuracy: 0.89 - ETA: 0s - loss: 0.2504 - accuracy: 0.89 - ETA: 0s - loss: 0.2545 - accuracy: 0.89 - ETA: 0s - loss: 0.2577 - accuracy: 0.88 - ETA: 0s - loss: 0.2598 - accuracy: 0.88 - 1s 3ms/step - loss: 0.2589 - accuracy: 0.8889 - val_loss: 0.5263 - val_accuracy: 0.8528\n",
      "Epoch 38/50\n",
      "235/235 [==============================] - ETA: 0s - loss: 0.1765 - accuracy: 0.93 - ETA: 0s - loss: 0.2527 - accuracy: 0.90 - ETA: 0s - loss: 0.2549 - accuracy: 0.89 - ETA: 0s - loss: 0.2557 - accuracy: 0.89 - ETA: 0s - loss: 0.2600 - accuracy: 0.88 - ETA: 0s - loss: 0.2672 - accuracy: 0.88 - ETA: 0s - loss: 0.2568 - accuracy: 0.88 - ETA: 0s - loss: 0.2521 - accuracy: 0.89 - ETA: 0s - loss: 0.2563 - accuracy: 0.88 - ETA: 0s - loss: 0.2587 - accuracy: 0.88 - ETA: 0s - loss: 0.2578 - accuracy: 0.88 - ETA: 0s - loss: 0.2596 - accuracy: 0.88 - ETA: 0s - loss: 0.2589 - accuracy: 0.88 - ETA: 0s - loss: 0.2585 - accuracy: 0.88 - 1s 3ms/step - loss: 0.2606 - accuracy: 0.8877 - val_loss: 0.4804 - val_accuracy: 0.8572\n",
      "Epoch 39/50\n",
      "235/235 [==============================] - ETA: 0s - loss: 0.1343 - accuracy: 0.93 - ETA: 0s - loss: 0.2474 - accuracy: 0.89 - ETA: 0s - loss: 0.2403 - accuracy: 0.89 - ETA: 0s - loss: 0.2402 - accuracy: 0.89 - ETA: 0s - loss: 0.2345 - accuracy: 0.90 - ETA: 0s - loss: 0.2431 - accuracy: 0.89 - ETA: 0s - loss: 0.2373 - accuracy: 0.89 - ETA: 0s - loss: 0.2415 - accuracy: 0.89 - ETA: 0s - loss: 0.2449 - accuracy: 0.89 - ETA: 0s - loss: 0.2431 - accuracy: 0.89 - ETA: 0s - loss: 0.2475 - accuracy: 0.89 - ETA: 0s - loss: 0.2482 - accuracy: 0.89 - ETA: 0s - loss: 0.2496 - accuracy: 0.89 - 1s 3ms/step - loss: 0.2508 - accuracy: 0.8932 - val_loss: 0.4733 - val_accuracy: 0.8548\n",
      "Epoch 40/50\n",
      "235/235 [==============================] - ETA: 0s - loss: 0.2450 - accuracy: 0.90 - ETA: 0s - loss: 0.2202 - accuracy: 0.89 - ETA: 0s - loss: 0.2388 - accuracy: 0.89 - ETA: 0s - loss: 0.2403 - accuracy: 0.89 - ETA: 0s - loss: 0.2415 - accuracy: 0.88 - ETA: 0s - loss: 0.2480 - accuracy: 0.88 - ETA: 0s - loss: 0.2529 - accuracy: 0.88 - ETA: 0s - loss: 0.2518 - accuracy: 0.88 - ETA: 0s - loss: 0.2468 - accuracy: 0.88 - ETA: 0s - loss: 0.2463 - accuracy: 0.88 - ETA: 0s - loss: 0.2471 - accuracy: 0.88 - ETA: 0s - loss: 0.2452 - accuracy: 0.88 - ETA: 0s - loss: 0.2489 - accuracy: 0.88 - ETA: 0s - loss: 0.2489 - accuracy: 0.88 - ETA: 0s - loss: 0.2508 - accuracy: 0.88 - 1s 4ms/step - loss: 0.2507 - accuracy: 0.8891 - val_loss: 0.4466 - val_accuracy: 0.8572\n",
      "Epoch 41/50\n",
      "235/235 [==============================] - ETA: 0s - loss: 0.0694 - accuracy: 1.00 - ETA: 0s - loss: 0.2213 - accuracy: 0.90 - ETA: 0s - loss: 0.2516 - accuracy: 0.88 - ETA: 0s - loss: 0.2522 - accuracy: 0.88 - ETA: 0s - loss: 0.2572 - accuracy: 0.88 - ETA: 0s - loss: 0.2458 - accuracy: 0.88 - ETA: 0s - loss: 0.2432 - accuracy: 0.89 - ETA: 0s - loss: 0.2453 - accuracy: 0.89 - ETA: 0s - loss: 0.2481 - accuracy: 0.88 - ETA: 0s - loss: 0.2490 - accuracy: 0.88 - ETA: 0s - loss: 0.2468 - accuracy: 0.89 - ETA: 0s - loss: 0.2455 - accuracy: 0.89 - ETA: 0s - loss: 0.2477 - accuracy: 0.89 - 1s 3ms/step - loss: 0.2475 - accuracy: 0.8912 - val_loss: 0.4359 - val_accuracy: 0.8580\n",
      "Epoch 42/50\n",
      "235/235 [==============================] - ETA: 0s - loss: 0.1810 - accuracy: 1.00 - ETA: 0s - loss: 0.2081 - accuracy: 0.91 - ETA: 0s - loss: 0.2274 - accuracy: 0.90 - ETA: 0s - loss: 0.2394 - accuracy: 0.89 - ETA: 0s - loss: 0.2393 - accuracy: 0.89 - ETA: 0s - loss: 0.2420 - accuracy: 0.89 - ETA: 0s - loss: 0.2424 - accuracy: 0.89 - ETA: 0s - loss: 0.2376 - accuracy: 0.89 - ETA: 0s - loss: 0.2389 - accuracy: 0.89 - ETA: 0s - loss: 0.2388 - accuracy: 0.89 - ETA: 0s - loss: 0.2406 - accuracy: 0.89 - ETA: 0s - loss: 0.2435 - accuracy: 0.89 - ETA: 0s - loss: 0.2435 - accuracy: 0.89 - ETA: 0s - loss: 0.2433 - accuracy: 0.89 - 1s 3ms/step - loss: 0.2461 - accuracy: 0.8916 - val_loss: 0.4267 - val_accuracy: 0.8460\n",
      "Epoch 43/50\n",
      "235/235 [==============================] - ETA: 0s - loss: 0.4024 - accuracy: 0.81 - ETA: 0s - loss: 0.2559 - accuracy: 0.87 - ETA: 0s - loss: 0.2622 - accuracy: 0.87 - ETA: 0s - loss: 0.2502 - accuracy: 0.88 - ETA: 0s - loss: 0.2435 - accuracy: 0.88 - ETA: 0s - loss: 0.2356 - accuracy: 0.89 - ETA: 0s - loss: 0.2325 - accuracy: 0.89 - ETA: 0s - loss: 0.2293 - accuracy: 0.89 - ETA: 0s - loss: 0.2293 - accuracy: 0.89 - ETA: 0s - loss: 0.2321 - accuracy: 0.89 - ETA: 0s - loss: 0.2328 - accuracy: 0.89 - ETA: 0s - loss: 0.2344 - accuracy: 0.89 - ETA: 0s - loss: 0.2358 - accuracy: 0.89 - 1s 3ms/step - loss: 0.2382 - accuracy: 0.8955 - val_loss: 0.4255 - val_accuracy: 0.8560\n",
      "Epoch 44/50\n",
      "235/235 [==============================] - ETA: 0s - loss: 0.1586 - accuracy: 0.93 - ETA: 0s - loss: 0.2211 - accuracy: 0.89 - ETA: 0s - loss: 0.2143 - accuracy: 0.89 - ETA: 0s - loss: 0.2215 - accuracy: 0.89 - ETA: 0s - loss: 0.2162 - accuracy: 0.89 - ETA: 0s - loss: 0.2209 - accuracy: 0.89 - ETA: 0s - loss: 0.2246 - accuracy: 0.89 - ETA: 0s - loss: 0.2267 - accuracy: 0.89 - ETA: 0s - loss: 0.2275 - accuracy: 0.89 - ETA: 0s - loss: 0.2279 - accuracy: 0.89 - ETA: 0s - loss: 0.2317 - accuracy: 0.89 - ETA: 0s - loss: 0.2335 - accuracy: 0.89 - ETA: 0s - loss: 0.2313 - accuracy: 0.89 - ETA: 0s - loss: 0.2288 - accuracy: 0.89 - 1s 3ms/step - loss: 0.2286 - accuracy: 0.8977 - val_loss: 0.5306 - val_accuracy: 0.8460\n",
      "Epoch 45/50\n"
     ]
    },
    {
     "name": "stdout",
     "output_type": "stream",
     "text": [
      "235/235 [==============================] - ETA: 0s - loss: 0.1836 - accuracy: 0.84 - ETA: 0s - loss: 0.2354 - accuracy: 0.89 - ETA: 0s - loss: 0.2314 - accuracy: 0.89 - ETA: 0s - loss: 0.2206 - accuracy: 0.89 - ETA: 0s - loss: 0.2211 - accuracy: 0.89 - ETA: 0s - loss: 0.2252 - accuracy: 0.89 - ETA: 0s - loss: 0.2231 - accuracy: 0.89 - ETA: 0s - loss: 0.2246 - accuracy: 0.89 - ETA: 0s - loss: 0.2231 - accuracy: 0.89 - ETA: 0s - loss: 0.2244 - accuracy: 0.89 - ETA: 0s - loss: 0.2286 - accuracy: 0.89 - ETA: 0s - loss: 0.2303 - accuracy: 0.89 - ETA: 0s - loss: 0.2268 - accuracy: 0.89 - ETA: 0s - loss: 0.2304 - accuracy: 0.89 - 1s 3ms/step - loss: 0.2307 - accuracy: 0.8959 - val_loss: 0.4509 - val_accuracy: 0.8608\n",
      "Epoch 46/50\n",
      "235/235 [==============================] - ETA: 0s - loss: 0.2351 - accuracy: 0.84 - ETA: 0s - loss: 0.2070 - accuracy: 0.89 - ETA: 0s - loss: 0.1978 - accuracy: 0.90 - ETA: 0s - loss: 0.1952 - accuracy: 0.90 - ETA: 0s - loss: 0.2027 - accuracy: 0.90 - ETA: 0s - loss: 0.2032 - accuracy: 0.90 - ETA: 0s - loss: 0.2096 - accuracy: 0.90 - ETA: 0s - loss: 0.2142 - accuracy: 0.90 - ETA: 0s - loss: 0.2190 - accuracy: 0.90 - ETA: 0s - loss: 0.2274 - accuracy: 0.89 - ETA: 0s - loss: 0.2320 - accuracy: 0.89 - ETA: 0s - loss: 0.2340 - accuracy: 0.89 - ETA: 0s - loss: 0.2362 - accuracy: 0.89 - 1s 3ms/step - loss: 0.2371 - accuracy: 0.8937 - val_loss: 0.4826 - val_accuracy: 0.8452\n",
      "Epoch 47/50\n",
      "235/235 [==============================] - ETA: 0s - loss: 0.2583 - accuracy: 0.87 - ETA: 0s - loss: 0.2406 - accuracy: 0.88 - ETA: 0s - loss: 0.2281 - accuracy: 0.88 - ETA: 0s - loss: 0.2227 - accuracy: 0.89 - ETA: 0s - loss: 0.2248 - accuracy: 0.89 - ETA: 0s - loss: 0.2299 - accuracy: 0.89 - ETA: 0s - loss: 0.2283 - accuracy: 0.89 - ETA: 0s - loss: 0.2278 - accuracy: 0.89 - ETA: 0s - loss: 0.2294 - accuracy: 0.89 - ETA: 0s - loss: 0.2281 - accuracy: 0.89 - ETA: 0s - loss: 0.2302 - accuracy: 0.89 - ETA: 0s - loss: 0.2290 - accuracy: 0.89 - ETA: 0s - loss: 0.2296 - accuracy: 0.89 - ETA: 0s - loss: 0.2342 - accuracy: 0.89 - 1s 3ms/step - loss: 0.2340 - accuracy: 0.8944 - val_loss: 0.4621 - val_accuracy: 0.8484\n",
      "Epoch 48/50\n",
      "235/235 [==============================] - ETA: 0s - loss: 0.3108 - accuracy: 0.87 - ETA: 0s - loss: 0.2351 - accuracy: 0.89 - ETA: 0s - loss: 0.2252 - accuracy: 0.90 - ETA: 0s - loss: 0.2264 - accuracy: 0.89 - ETA: 0s - loss: 0.2226 - accuracy: 0.90 - ETA: 0s - loss: 0.2224 - accuracy: 0.90 - ETA: 0s - loss: 0.2269 - accuracy: 0.89 - ETA: 0s - loss: 0.2289 - accuracy: 0.89 - ETA: 0s - loss: 0.2255 - accuracy: 0.89 - ETA: 0s - loss: 0.2237 - accuracy: 0.89 - ETA: 0s - loss: 0.2265 - accuracy: 0.89 - ETA: 0s - loss: 0.2287 - accuracy: 0.89 - ETA: 0s - loss: 0.2269 - accuracy: 0.89 - 1s 3ms/step - loss: 0.2270 - accuracy: 0.8979 - val_loss: 0.5128 - val_accuracy: 0.8540\n",
      "Epoch 49/50\n",
      "235/235 [==============================] - ETA: 0s - loss: 0.2127 - accuracy: 0.90 - ETA: 0s - loss: 0.1719 - accuracy: 0.91 - ETA: 0s - loss: 0.1975 - accuracy: 0.90 - ETA: 0s - loss: 0.2063 - accuracy: 0.90 - ETA: 0s - loss: 0.2160 - accuracy: 0.89 - ETA: 0s - loss: 0.2206 - accuracy: 0.89 - ETA: 0s - loss: 0.2232 - accuracy: 0.89 - ETA: 0s - loss: 0.2230 - accuracy: 0.89 - ETA: 0s - loss: 0.2217 - accuracy: 0.89 - ETA: 0s - loss: 0.2237 - accuracy: 0.89 - ETA: 0s - loss: 0.2233 - accuracy: 0.89 - ETA: 0s - loss: 0.2236 - accuracy: 0.89 - ETA: 0s - loss: 0.2240 - accuracy: 0.89 - ETA: 0s - loss: 0.2220 - accuracy: 0.89 - 1s 3ms/step - loss: 0.2219 - accuracy: 0.8985 - val_loss: 0.5356 - val_accuracy: 0.8524\n",
      "Epoch 50/50\n",
      "235/235 [==============================] - ETA: 0s - loss: 0.2616 - accuracy: 0.93 - ETA: 0s - loss: 0.1999 - accuracy: 0.90 - ETA: 0s - loss: 0.2381 - accuracy: 0.89 - ETA: 0s - loss: 0.2192 - accuracy: 0.89 - ETA: 0s - loss: 0.2174 - accuracy: 0.90 - ETA: 0s - loss: 0.2196 - accuracy: 0.90 - ETA: 0s - loss: 0.2226 - accuracy: 0.89 - ETA: 0s - loss: 0.2200 - accuracy: 0.90 - ETA: 0s - loss: 0.2199 - accuracy: 0.89 - ETA: 0s - loss: 0.2210 - accuracy: 0.89 - ETA: 0s - loss: 0.2246 - accuracy: 0.89 - ETA: 0s - loss: 0.2297 - accuracy: 0.89 - ETA: 0s - loss: 0.2284 - accuracy: 0.89 - 1s 3ms/step - loss: 0.2281 - accuracy: 0.8980 - val_loss: 0.5027 - val_accuracy: 0.8480\n",
      "Epoch 1/50\n",
      "235/235 [==============================] - ETA: 0s - loss: 0.7094 - accuracy: 0.37 - ETA: 0s - loss: 0.6231 - accuracy: 0.75 - ETA: 0s - loss: 0.5361 - accuracy: 0.78 - ETA: 0s - loss: 0.5167 - accuracy: 0.77 - ETA: 0s - loss: 0.4977 - accuracy: 0.78 - ETA: 0s - loss: 0.4792 - accuracy: 0.79 - ETA: 0s - loss: 0.4577 - accuracy: 0.79 - ETA: 0s - loss: 0.4417 - accuracy: 0.80 - ETA: 0s - loss: 0.4364 - accuracy: 0.80 - ETA: 0s - loss: 0.4313 - accuracy: 0.81 - ETA: 0s - loss: 0.4244 - accuracy: 0.81 - ETA: 0s - loss: 0.4197 - accuracy: 0.82 - ETA: 0s - loss: 0.4205 - accuracy: 0.82 - 1s 4ms/step - loss: 0.4205 - accuracy: 0.8213 - val_loss: 0.3750 - val_accuracy: 0.8452\n",
      "Epoch 2/50\n",
      "235/235 [==============================] - ETA: 0s - loss: 0.3477 - accuracy: 0.81 - ETA: 0s - loss: 0.4014 - accuracy: 0.81 - ETA: 0s - loss: 0.3953 - accuracy: 0.82 - ETA: 0s - loss: 0.3877 - accuracy: 0.84 - ETA: 0s - loss: 0.3837 - accuracy: 0.84 - ETA: 0s - loss: 0.3779 - accuracy: 0.84 - ETA: 0s - loss: 0.3781 - accuracy: 0.84 - ETA: 0s - loss: 0.3735 - accuracy: 0.84 - ETA: 0s - loss: 0.3725 - accuracy: 0.85 - ETA: 0s - loss: 0.3739 - accuracy: 0.85 - ETA: 0s - loss: 0.3751 - accuracy: 0.85 - ETA: 0s - loss: 0.3730 - accuracy: 0.85 - ETA: 0s - loss: 0.3724 - accuracy: 0.85 - 1s 3ms/step - loss: 0.3736 - accuracy: 0.8521 - val_loss: 0.3476 - val_accuracy: 0.8608\n",
      "Epoch 3/50\n",
      "235/235 [==============================] - ETA: 0s - loss: 0.3440 - accuracy: 0.87 - ETA: 0s - loss: 0.3312 - accuracy: 0.88 - ETA: 0s - loss: 0.3459 - accuracy: 0.87 - ETA: 0s - loss: 0.3495 - accuracy: 0.86 - ETA: 0s - loss: 0.3498 - accuracy: 0.86 - ETA: 0s - loss: 0.3574 - accuracy: 0.85 - ETA: 0s - loss: 0.3566 - accuracy: 0.85 - ETA: 0s - loss: 0.3555 - accuracy: 0.86 - ETA: 0s - loss: 0.3553 - accuracy: 0.86 - ETA: 0s - loss: 0.3593 - accuracy: 0.85 - ETA: 0s - loss: 0.3659 - accuracy: 0.85 - ETA: 0s - loss: 0.3663 - accuracy: 0.85 - 1s 3ms/step - loss: 0.3661 - accuracy: 0.8533 - val_loss: 0.3562 - val_accuracy: 0.8604\n",
      "Epoch 4/50\n",
      "235/235 [==============================] - ETA: 0s - loss: 0.3234 - accuracy: 0.81 - ETA: 0s - loss: 0.3437 - accuracy: 0.84 - ETA: 0s - loss: 0.3503 - accuracy: 0.85 - ETA: 0s - loss: 0.3487 - accuracy: 0.85 - ETA: 0s - loss: 0.3481 - accuracy: 0.85 - ETA: 0s - loss: 0.3555 - accuracy: 0.85 - ETA: 0s - loss: 0.3560 - accuracy: 0.85 - ETA: 0s - loss: 0.3590 - accuracy: 0.85 - ETA: 0s - loss: 0.3603 - accuracy: 0.85 - ETA: 0s - loss: 0.3609 - accuracy: 0.85 - ETA: 0s - loss: 0.3647 - accuracy: 0.85 - ETA: 0s - loss: 0.3674 - accuracy: 0.85 - 1s 3ms/step - loss: 0.3669 - accuracy: 0.8505 - val_loss: 0.3503 - val_accuracy: 0.8536\n",
      "Epoch 5/50\n",
      "235/235 [==============================] - ETA: 0s - loss: 0.2752 - accuracy: 0.90 - ETA: 0s - loss: 0.3374 - accuracy: 0.86 - ETA: 0s - loss: 0.3471 - accuracy: 0.86 - ETA: 0s - loss: 0.3482 - accuracy: 0.85 - ETA: 0s - loss: 0.3461 - accuracy: 0.85 - ETA: 0s - loss: 0.3457 - accuracy: 0.85 - ETA: 0s - loss: 0.3504 - accuracy: 0.85 - ETA: 0s - loss: 0.3496 - accuracy: 0.85 - ETA: 0s - loss: 0.3444 - accuracy: 0.85 - ETA: 0s - loss: 0.3437 - accuracy: 0.85 - ETA: 0s - loss: 0.3465 - accuracy: 0.85 - ETA: 0s - loss: 0.3452 - accuracy: 0.85 - ETA: 0s - loss: 0.3484 - accuracy: 0.85 - 1s 3ms/step - loss: 0.3522 - accuracy: 0.8544 - val_loss: 0.3763 - val_accuracy: 0.8600\n",
      "Epoch 6/50\n",
      "235/235 [==============================] - ETA: 0s - loss: 0.5438 - accuracy: 0.78 - ETA: 0s - loss: 0.3868 - accuracy: 0.84 - ETA: 0s - loss: 0.3925 - accuracy: 0.84 - ETA: 0s - loss: 0.3894 - accuracy: 0.84 - ETA: 0s - loss: 0.3860 - accuracy: 0.84 - ETA: 0s - loss: 0.3850 - accuracy: 0.84 - ETA: 0s - loss: 0.3759 - accuracy: 0.84 - ETA: 0s - loss: 0.3743 - accuracy: 0.84 - ETA: 0s - loss: 0.3688 - accuracy: 0.85 - ETA: 0s - loss: 0.3642 - accuracy: 0.85 - ETA: 0s - loss: 0.3644 - accuracy: 0.85 - ETA: 0s - loss: 0.3635 - accuracy: 0.85 - 1s 3ms/step - loss: 0.3608 - accuracy: 0.8528 - val_loss: 0.3551 - val_accuracy: 0.8596\n"
     ]
    },
    {
     "name": "stdout",
     "output_type": "stream",
     "text": [
      "Epoch 7/50\n",
      "235/235 [==============================] - ETA: 0s - loss: 0.4888 - accuracy: 0.75 - ETA: 0s - loss: 0.3520 - accuracy: 0.86 - ETA: 0s - loss: 0.3549 - accuracy: 0.85 - ETA: 0s - loss: 0.3494 - accuracy: 0.86 - ETA: 0s - loss: 0.3384 - accuracy: 0.86 - ETA: 0s - loss: 0.3370 - accuracy: 0.86 - ETA: 0s - loss: 0.3366 - accuracy: 0.86 - ETA: 0s - loss: 0.3406 - accuracy: 0.86 - ETA: 0s - loss: 0.3417 - accuracy: 0.86 - ETA: 0s - loss: 0.3452 - accuracy: 0.85 - ETA: 0s - loss: 0.3465 - accuracy: 0.85 - ETA: 0s - loss: 0.3469 - accuracy: 0.85 - 1s 3ms/step - loss: 0.3450 - accuracy: 0.8587 - val_loss: 0.3654 - val_accuracy: 0.8536\n",
      "Epoch 8/50\n",
      "235/235 [==============================] - ETA: 0s - loss: 0.2073 - accuracy: 0.90 - ETA: 0s - loss: 0.3525 - accuracy: 0.85 - ETA: 0s - loss: 0.3470 - accuracy: 0.86 - ETA: 0s - loss: 0.3384 - accuracy: 0.86 - ETA: 0s - loss: 0.3379 - accuracy: 0.86 - ETA: 0s - loss: 0.3300 - accuracy: 0.86 - ETA: 0s - loss: 0.3287 - accuracy: 0.86 - ETA: 0s - loss: 0.3346 - accuracy: 0.86 - ETA: 0s - loss: 0.3379 - accuracy: 0.86 - ETA: 0s - loss: 0.3390 - accuracy: 0.85 - ETA: 0s - loss: 0.3403 - accuracy: 0.85 - ETA: 0s - loss: 0.3455 - accuracy: 0.85 - 1s 3ms/step - loss: 0.3452 - accuracy: 0.8580 - val_loss: 0.3542 - val_accuracy: 0.8556\n",
      "Epoch 9/50\n",
      "235/235 [==============================] - ETA: 0s - loss: 0.4196 - accuracy: 0.81 - ETA: 0s - loss: 0.3390 - accuracy: 0.87 - ETA: 0s - loss: 0.3058 - accuracy: 0.88 - ETA: 0s - loss: 0.3218 - accuracy: 0.87 - ETA: 0s - loss: 0.3206 - accuracy: 0.86 - ETA: 0s - loss: 0.3300 - accuracy: 0.86 - ETA: 0s - loss: 0.3296 - accuracy: 0.86 - ETA: 0s - loss: 0.3285 - accuracy: 0.86 - ETA: 0s - loss: 0.3324 - accuracy: 0.86 - ETA: 0s - loss: 0.3344 - accuracy: 0.86 - ETA: 0s - loss: 0.3382 - accuracy: 0.86 - ETA: 0s - loss: 0.3373 - accuracy: 0.86 - ETA: 0s - loss: 0.3384 - accuracy: 0.86 - ETA: 0s - loss: 0.3417 - accuracy: 0.86 - 1s 3ms/step - loss: 0.3412 - accuracy: 0.8623 - val_loss: 0.3409 - val_accuracy: 0.8616\n",
      "Epoch 10/50\n",
      "235/235 [==============================] - ETA: 0s - loss: 0.3569 - accuracy: 0.81 - ETA: 0s - loss: 0.3628 - accuracy: 0.84 - ETA: 0s - loss: 0.3526 - accuracy: 0.85 - ETA: 0s - loss: 0.3429 - accuracy: 0.85 - ETA: 0s - loss: 0.3312 - accuracy: 0.85 - ETA: 0s - loss: 0.3303 - accuracy: 0.85 - ETA: 0s - loss: 0.3330 - accuracy: 0.85 - ETA: 0s - loss: 0.3347 - accuracy: 0.85 - ETA: 0s - loss: 0.3412 - accuracy: 0.85 - ETA: 0s - loss: 0.3371 - accuracy: 0.85 - ETA: 0s - loss: 0.3375 - accuracy: 0.85 - ETA: 0s - loss: 0.3364 - accuracy: 0.85 - 1s 3ms/step - loss: 0.3365 - accuracy: 0.8599 - val_loss: 0.3419 - val_accuracy: 0.8648\n",
      "Epoch 11/50\n",
      "235/235 [==============================] - ETA: 0s - loss: 0.4917 - accuracy: 0.78 - ETA: 0s - loss: 0.3158 - accuracy: 0.88 - ETA: 0s - loss: 0.3196 - accuracy: 0.87 - ETA: 0s - loss: 0.3217 - accuracy: 0.87 - ETA: 0s - loss: 0.3361 - accuracy: 0.86 - ETA: 0s - loss: 0.3432 - accuracy: 0.86 - ETA: 0s - loss: 0.3421 - accuracy: 0.86 - ETA: 0s - loss: 0.3403 - accuracy: 0.86 - ETA: 0s - loss: 0.3369 - accuracy: 0.86 - ETA: 0s - loss: 0.3382 - accuracy: 0.86 - ETA: 0s - loss: 0.3398 - accuracy: 0.86 - ETA: 0s - loss: 0.3400 - accuracy: 0.86 - 1s 3ms/step - loss: 0.3360 - accuracy: 0.8636 - val_loss: 0.3508 - val_accuracy: 0.8504\n",
      "Epoch 12/50\n",
      "235/235 [==============================] - ETA: 0s - loss: 0.2255 - accuracy: 0.90 - ETA: 0s - loss: 0.3014 - accuracy: 0.87 - ETA: 0s - loss: 0.3042 - accuracy: 0.87 - ETA: 0s - loss: 0.3126 - accuracy: 0.87 - ETA: 0s - loss: 0.3152 - accuracy: 0.87 - ETA: 0s - loss: 0.3234 - accuracy: 0.86 - ETA: 0s - loss: 0.3345 - accuracy: 0.86 - ETA: 0s - loss: 0.3307 - accuracy: 0.86 - ETA: 0s - loss: 0.3310 - accuracy: 0.86 - ETA: 0s - loss: 0.3327 - accuracy: 0.86 - ETA: 0s - loss: 0.3350 - accuracy: 0.86 - ETA: 0s - loss: 0.3353 - accuracy: 0.86 - 1s 3ms/step - loss: 0.3348 - accuracy: 0.8627 - val_loss: 0.3552 - val_accuracy: 0.8608\n",
      "Epoch 13/50\n",
      "235/235 [==============================] - ETA: 0s - loss: 0.1634 - accuracy: 0.93 - ETA: 0s - loss: 0.2868 - accuracy: 0.87 - ETA: 0s - loss: 0.3124 - accuracy: 0.86 - ETA: 0s - loss: 0.3249 - accuracy: 0.85 - ETA: 0s - loss: 0.3243 - accuracy: 0.85 - ETA: 0s - loss: 0.3318 - accuracy: 0.85 - ETA: 0s - loss: 0.3284 - accuracy: 0.85 - ETA: 0s - loss: 0.3232 - accuracy: 0.86 - ETA: 0s - loss: 0.3266 - accuracy: 0.86 - ETA: 0s - loss: 0.3330 - accuracy: 0.86 - ETA: 0s - loss: 0.3335 - accuracy: 0.86 - ETA: 0s - loss: 0.3332 - accuracy: 0.86 - 1s 3ms/step - loss: 0.3329 - accuracy: 0.8615 - val_loss: 0.3427 - val_accuracy: 0.8664\n",
      "Epoch 14/50\n",
      "235/235 [==============================] - ETA: 0s - loss: 0.2884 - accuracy: 0.87 - ETA: 0s - loss: 0.2707 - accuracy: 0.88 - ETA: 0s - loss: 0.2910 - accuracy: 0.88 - ETA: 0s - loss: 0.3189 - accuracy: 0.86 - ETA: 0s - loss: 0.3274 - accuracy: 0.86 - ETA: 0s - loss: 0.3270 - accuracy: 0.86 - ETA: 0s - loss: 0.3274 - accuracy: 0.86 - ETA: 0s - loss: 0.3319 - accuracy: 0.86 - ETA: 0s - loss: 0.3292 - accuracy: 0.86 - ETA: 0s - loss: 0.3282 - accuracy: 0.86 - ETA: 0s - loss: 0.3302 - accuracy: 0.86 - ETA: 0s - loss: 0.3327 - accuracy: 0.86 - ETA: 0s - loss: 0.3302 - accuracy: 0.86 - 1s 3ms/step - loss: 0.3307 - accuracy: 0.8632 - val_loss: 0.3589 - val_accuracy: 0.8532\n",
      "Epoch 15/50\n",
      "235/235 [==============================] - ETA: 0s - loss: 0.3468 - accuracy: 0.87 - ETA: 0s - loss: 0.3194 - accuracy: 0.86 - ETA: 0s - loss: 0.3331 - accuracy: 0.86 - ETA: 0s - loss: 0.3361 - accuracy: 0.85 - ETA: 0s - loss: 0.3491 - accuracy: 0.85 - ETA: 0s - loss: 0.3421 - accuracy: 0.85 - ETA: 0s - loss: 0.3274 - accuracy: 0.86 - ETA: 0s - loss: 0.3238 - accuracy: 0.86 - ETA: 0s - loss: 0.3260 - accuracy: 0.86 - ETA: 0s - loss: 0.3270 - accuracy: 0.86 - ETA: 0s - loss: 0.3264 - accuracy: 0.86 - ETA: 0s - loss: 0.3269 - accuracy: 0.86 - 1s 3ms/step - loss: 0.3264 - accuracy: 0.8644 - val_loss: 0.3388 - val_accuracy: 0.8640\n",
      "Epoch 16/50\n",
      "235/235 [==============================] - ETA: 0s - loss: 0.4137 - accuracy: 0.84 - ETA: 0s - loss: 0.3035 - accuracy: 0.87 - ETA: 0s - loss: 0.3031 - accuracy: 0.87 - ETA: 0s - loss: 0.3134 - accuracy: 0.87 - ETA: 0s - loss: 0.3187 - accuracy: 0.86 - ETA: 0s - loss: 0.3158 - accuracy: 0.86 - ETA: 0s - loss: 0.3208 - accuracy: 0.86 - ETA: 0s - loss: 0.3173 - accuracy: 0.86 - ETA: 0s - loss: 0.3229 - accuracy: 0.86 - ETA: 0s - loss: 0.3278 - accuracy: 0.86 - ETA: 0s - loss: 0.3263 - accuracy: 0.86 - ETA: 0s - loss: 0.3272 - accuracy: 0.86 - ETA: 0s - loss: 0.3249 - accuracy: 0.86 - 1s 3ms/step - loss: 0.3246 - accuracy: 0.8653 - val_loss: 0.3512 - val_accuracy: 0.8616\n",
      "Epoch 17/50\n",
      "235/235 [==============================] - ETA: 0s - loss: 0.1860 - accuracy: 0.93 - ETA: 0s - loss: 0.3241 - accuracy: 0.85 - ETA: 0s - loss: 0.3121 - accuracy: 0.86 - ETA: 0s - loss: 0.3320 - accuracy: 0.84 - ETA: 0s - loss: 0.3276 - accuracy: 0.85 - ETA: 0s - loss: 0.3255 - accuracy: 0.85 - ETA: 0s - loss: 0.3223 - accuracy: 0.86 - ETA: 0s - loss: 0.3166 - accuracy: 0.86 - ETA: 0s - loss: 0.3155 - accuracy: 0.86 - ETA: 0s - loss: 0.3174 - accuracy: 0.86 - ETA: 0s - loss: 0.3186 - accuracy: 0.86 - ETA: 0s - loss: 0.3196 - accuracy: 0.86 - ETA: 0s - loss: 0.3173 - accuracy: 0.86 - ETA: 0s - loss: 0.3171 - accuracy: 0.86 - 1s 3ms/step - loss: 0.3160 - accuracy: 0.8675 - val_loss: 0.3913 - val_accuracy: 0.8484\n",
      "Epoch 18/50\n",
      "235/235 [==============================] - ETA: 0s - loss: 0.2032 - accuracy: 0.93 - ETA: 0s - loss: 0.2963 - accuracy: 0.88 - ETA: 0s - loss: 0.3077 - accuracy: 0.87 - ETA: 0s - loss: 0.3213 - accuracy: 0.87 - ETA: 0s - loss: 0.3133 - accuracy: 0.87 - ETA: 0s - loss: 0.3086 - accuracy: 0.87 - ETA: 0s - loss: 0.3071 - accuracy: 0.87 - ETA: 0s - loss: 0.3053 - accuracy: 0.87 - ETA: 0s - loss: 0.3100 - accuracy: 0.87 - ETA: 0s - loss: 0.3155 - accuracy: 0.87 - ETA: 0s - loss: 0.3199 - accuracy: 0.87 - ETA: 0s - loss: 0.3164 - accuracy: 0.87 - 1s 3ms/step - loss: 0.3208 - accuracy: 0.8688 - val_loss: 0.3693 - val_accuracy: 0.8560\n",
      "Epoch 19/50\n"
     ]
    },
    {
     "name": "stdout",
     "output_type": "stream",
     "text": [
      "235/235 [==============================] - ETA: 0s - loss: 0.1803 - accuracy: 1.00 - ETA: 0s - loss: 0.2990 - accuracy: 0.87 - ETA: 0s - loss: 0.3092 - accuracy: 0.87 - ETA: 0s - loss: 0.3292 - accuracy: 0.86 - ETA: 0s - loss: 0.3237 - accuracy: 0.86 - ETA: 0s - loss: 0.3252 - accuracy: 0.86 - ETA: 0s - loss: 0.3242 - accuracy: 0.86 - ETA: 0s - loss: 0.3324 - accuracy: 0.87 - ETA: 0s - loss: 0.3273 - accuracy: 0.87 - ETA: 0s - loss: 0.3257 - accuracy: 0.87 - ETA: 0s - loss: 0.3257 - accuracy: 0.87 - ETA: 0s - loss: 0.3258 - accuracy: 0.87 - ETA: 0s - loss: 0.3270 - accuracy: 0.87 - ETA: 0s - loss: 0.3293 - accuracy: 0.86 - 1s 3ms/step - loss: 0.3293 - accuracy: 0.8692 - val_loss: 0.3595 - val_accuracy: 0.8524\n",
      "Epoch 20/50\n",
      "235/235 [==============================] - ETA: 0s - loss: 0.3582 - accuracy: 0.87 - ETA: 0s - loss: 0.3069 - accuracy: 0.87 - ETA: 0s - loss: 0.3179 - accuracy: 0.86 - ETA: 0s - loss: 0.3030 - accuracy: 0.87 - ETA: 0s - loss: 0.2996 - accuracy: 0.87 - ETA: 0s - loss: 0.3012 - accuracy: 0.87 - ETA: 0s - loss: 0.3077 - accuracy: 0.87 - ETA: 0s - loss: 0.3101 - accuracy: 0.87 - ETA: 0s - loss: 0.3163 - accuracy: 0.86 - ETA: 0s - loss: 0.3129 - accuracy: 0.86 - ETA: 0s - loss: 0.3140 - accuracy: 0.86 - ETA: 0s - loss: 0.3170 - accuracy: 0.86 - ETA: 0s - loss: 0.3148 - accuracy: 0.86 - 1s 3ms/step - loss: 0.3143 - accuracy: 0.8669 - val_loss: 0.3657 - val_accuracy: 0.8576\n",
      "Epoch 21/50\n",
      "235/235 [==============================] - ETA: 0s - loss: 0.3538 - accuracy: 0.87 - ETA: 0s - loss: 0.3313 - accuracy: 0.84 - ETA: 0s - loss: 0.3144 - accuracy: 0.85 - ETA: 0s - loss: 0.3254 - accuracy: 0.86 - ETA: 0s - loss: 0.3225 - accuracy: 0.86 - ETA: 0s - loss: 0.3173 - accuracy: 0.87 - ETA: 0s - loss: 0.3130 - accuracy: 0.87 - ETA: 0s - loss: 0.3220 - accuracy: 0.86 - ETA: 0s - loss: 0.3169 - accuracy: 0.87 - ETA: 0s - loss: 0.3178 - accuracy: 0.87 - ETA: 0s - loss: 0.3185 - accuracy: 0.87 - ETA: 0s - loss: 0.3225 - accuracy: 0.86 - ETA: 0s - loss: 0.3208 - accuracy: 0.86 - 1s 3ms/step - loss: 0.3201 - accuracy: 0.8688 - val_loss: 0.3666 - val_accuracy: 0.8616\n",
      "Epoch 22/50\n",
      "235/235 [==============================] - ETA: 0s - loss: 0.1991 - accuracy: 0.93 - ETA: 0s - loss: 0.3119 - accuracy: 0.87 - ETA: 0s - loss: 0.3045 - accuracy: 0.87 - ETA: 0s - loss: 0.3109 - accuracy: 0.87 - ETA: 0s - loss: 0.3190 - accuracy: 0.87 - ETA: 0s - loss: 0.3213 - accuracy: 0.87 - ETA: 0s - loss: 0.3136 - accuracy: 0.87 - ETA: 0s - loss: 0.3243 - accuracy: 0.87 - ETA: 0s - loss: 0.3187 - accuracy: 0.87 - ETA: 0s - loss: 0.3176 - accuracy: 0.86 - ETA: 0s - loss: 0.3189 - accuracy: 0.86 - ETA: 0s - loss: 0.3172 - accuracy: 0.86 - 1s 3ms/step - loss: 0.3180 - accuracy: 0.8675 - val_loss: 0.3786 - val_accuracy: 0.8556\n",
      "Epoch 23/50\n",
      "235/235 [==============================] - ETA: 0s - loss: 0.2447 - accuracy: 0.87 - ETA: 0s - loss: 0.2962 - accuracy: 0.86 - ETA: 0s - loss: 0.2905 - accuracy: 0.87 - ETA: 0s - loss: 0.3003 - accuracy: 0.87 - ETA: 0s - loss: 0.3026 - accuracy: 0.87 - ETA: 0s - loss: 0.3023 - accuracy: 0.87 - ETA: 0s - loss: 0.3006 - accuracy: 0.87 - ETA: 0s - loss: 0.2988 - accuracy: 0.87 - ETA: 0s - loss: 0.3030 - accuracy: 0.87 - ETA: 0s - loss: 0.3046 - accuracy: 0.87 - ETA: 0s - loss: 0.3047 - accuracy: 0.86 - ETA: 0s - loss: 0.3065 - accuracy: 0.87 - 1s 3ms/step - loss: 0.3085 - accuracy: 0.8692 - val_loss: 0.3594 - val_accuracy: 0.8552\n",
      "Epoch 24/50\n",
      "235/235 [==============================] - ETA: 0s - loss: 0.2771 - accuracy: 0.90 - ETA: 0s - loss: 0.3000 - accuracy: 0.87 - ETA: 0s - loss: 0.2993 - accuracy: 0.87 - ETA: 0s - loss: 0.2911 - accuracy: 0.87 - ETA: 0s - loss: 0.2825 - accuracy: 0.87 - ETA: 0s - loss: 0.2883 - accuracy: 0.87 - ETA: 0s - loss: 0.2901 - accuracy: 0.87 - ETA: 0s - loss: 0.2909 - accuracy: 0.87 - ETA: 0s - loss: 0.2911 - accuracy: 0.87 - ETA: 0s - loss: 0.2939 - accuracy: 0.87 - ETA: 0s - loss: 0.2954 - accuracy: 0.87 - ETA: 0s - loss: 0.2945 - accuracy: 0.87 - ETA: 0s - loss: 0.2953 - accuracy: 0.87 - 1s 3ms/step - loss: 0.2970 - accuracy: 0.8772 - val_loss: 0.3839 - val_accuracy: 0.8524\n",
      "Epoch 25/50\n",
      "235/235 [==============================] - ETA: 0s - loss: 0.3569 - accuracy: 0.81 - ETA: 0s - loss: 0.3066 - accuracy: 0.86 - ETA: 0s - loss: 0.2971 - accuracy: 0.86 - ETA: 0s - loss: 0.2841 - accuracy: 0.87 - ETA: 0s - loss: 0.2723 - accuracy: 0.88 - ETA: 0s - loss: 0.2797 - accuracy: 0.88 - ETA: 0s - loss: 0.2869 - accuracy: 0.87 - ETA: 0s - loss: 0.2922 - accuracy: 0.87 - ETA: 0s - loss: 0.2966 - accuracy: 0.87 - ETA: 0s - loss: 0.2984 - accuracy: 0.87 - ETA: 0s - loss: 0.2978 - accuracy: 0.87 - ETA: 0s - loss: 0.2975 - accuracy: 0.87 - 1s 3ms/step - loss: 0.2995 - accuracy: 0.8713 - val_loss: 0.3607 - val_accuracy: 0.8520\n",
      "Epoch 26/50\n",
      "235/235 [==============================] - ETA: 0s - loss: 0.3509 - accuracy: 0.81 - ETA: 0s - loss: 0.3003 - accuracy: 0.86 - ETA: 0s - loss: 0.2881 - accuracy: 0.86 - ETA: 0s - loss: 0.2954 - accuracy: 0.86 - ETA: 0s - loss: 0.2870 - accuracy: 0.86 - ETA: 0s - loss: 0.2869 - accuracy: 0.87 - ETA: 0s - loss: 0.2928 - accuracy: 0.87 - ETA: 0s - loss: 0.2927 - accuracy: 0.86 - ETA: 0s - loss: 0.2911 - accuracy: 0.86 - ETA: 0s - loss: 0.2925 - accuracy: 0.87 - ETA: 0s - loss: 0.2915 - accuracy: 0.87 - ETA: 0s - loss: 0.2900 - accuracy: 0.87 - 1s 3ms/step - loss: 0.2878 - accuracy: 0.8740 - val_loss: 0.3904 - val_accuracy: 0.8608\n",
      "Epoch 27/50\n",
      "235/235 [==============================] - ETA: 0s - loss: 0.3754 - accuracy: 0.87 - ETA: 0s - loss: 0.3283 - accuracy: 0.85 - ETA: 0s - loss: 0.3064 - accuracy: 0.86 - ETA: 0s - loss: 0.2982 - accuracy: 0.87 - ETA: 0s - loss: 0.2943 - accuracy: 0.87 - ETA: 0s - loss: 0.2857 - accuracy: 0.87 - ETA: 0s - loss: 0.2899 - accuracy: 0.87 - ETA: 0s - loss: 0.2832 - accuracy: 0.87 - ETA: 0s - loss: 0.2895 - accuracy: 0.87 - ETA: 0s - loss: 0.2879 - accuracy: 0.87 - ETA: 0s - loss: 0.2889 - accuracy: 0.87 - ETA: 0s - loss: 0.2886 - accuracy: 0.87 - ETA: 0s - loss: 0.2908 - accuracy: 0.87 - 1s 3ms/step - loss: 0.2916 - accuracy: 0.8732 - val_loss: 0.3735 - val_accuracy: 0.8620\n",
      "Epoch 28/50\n",
      "235/235 [==============================] - ETA: 0s - loss: 0.1497 - accuracy: 0.96 - ETA: 0s - loss: 0.2612 - accuracy: 0.88 - ETA: 0s - loss: 0.2510 - accuracy: 0.88 - ETA: 0s - loss: 0.2544 - accuracy: 0.88 - ETA: 0s - loss: 0.2697 - accuracy: 0.88 - ETA: 0s - loss: 0.2682 - accuracy: 0.87 - ETA: 0s - loss: 0.2750 - accuracy: 0.87 - ETA: 0s - loss: 0.2803 - accuracy: 0.87 - ETA: 0s - loss: 0.2804 - accuracy: 0.87 - ETA: 0s - loss: 0.2851 - accuracy: 0.87 - ETA: 0s - loss: 0.2865 - accuracy: 0.87 - ETA: 0s - loss: 0.2898 - accuracy: 0.87 - ETA: 0s - loss: 0.2882 - accuracy: 0.87 - 1s 3ms/step - loss: 0.2881 - accuracy: 0.8757 - val_loss: 0.4260 - val_accuracy: 0.8584\n",
      "Epoch 29/50\n",
      "235/235 [==============================] - ETA: 0s - loss: 0.1790 - accuracy: 0.87 - ETA: 0s - loss: 0.2782 - accuracy: 0.86 - ETA: 0s - loss: 0.2758 - accuracy: 0.87 - ETA: 0s - loss: 0.2744 - accuracy: 0.88 - ETA: 0s - loss: 0.2874 - accuracy: 0.87 - ETA: 0s - loss: 0.2818 - accuracy: 0.87 - ETA: 0s - loss: 0.2872 - accuracy: 0.87 - ETA: 0s - loss: 0.2890 - accuracy: 0.87 - ETA: 0s - loss: 0.2885 - accuracy: 0.87 - ETA: 0s - loss: 0.2889 - accuracy: 0.87 - ETA: 0s - loss: 0.2898 - accuracy: 0.87 - ETA: 0s - loss: 0.2896 - accuracy: 0.87 - 1s 3ms/step - loss: 0.2895 - accuracy: 0.8745 - val_loss: 0.4182 - val_accuracy: 0.8640\n",
      "Epoch 30/50\n",
      "235/235 [==============================] - ETA: 0s - loss: 0.1528 - accuracy: 0.93 - ETA: 0s - loss: 0.2699 - accuracy: 0.87 - ETA: 0s - loss: 0.2731 - accuracy: 0.88 - ETA: 0s - loss: 0.2830 - accuracy: 0.87 - ETA: 0s - loss: 0.2877 - accuracy: 0.87 - ETA: 0s - loss: 0.2887 - accuracy: 0.87 - ETA: 0s - loss: 0.2882 - accuracy: 0.87 - ETA: 0s - loss: 0.2871 - accuracy: 0.87 - ETA: 0s - loss: 0.2881 - accuracy: 0.87 - ETA: 0s - loss: 0.2848 - accuracy: 0.87 - ETA: 0s - loss: 0.2847 - accuracy: 0.87 - ETA: 0s - loss: 0.2843 - accuracy: 0.87 - ETA: 0s - loss: 0.2837 - accuracy: 0.87 - ETA: 0s - loss: 0.2820 - accuracy: 0.87 - 1s 3ms/step - loss: 0.2821 - accuracy: 0.8767 - val_loss: 0.4062 - val_accuracy: 0.8568\n",
      "Epoch 31/50\n"
     ]
    },
    {
     "name": "stdout",
     "output_type": "stream",
     "text": [
      "235/235 [==============================] - ETA: 0s - loss: 0.2865 - accuracy: 0.90 - ETA: 0s - loss: 0.2698 - accuracy: 0.88 - ETA: 0s - loss: 0.2611 - accuracy: 0.88 - ETA: 0s - loss: 0.2604 - accuracy: 0.88 - ETA: 0s - loss: 0.2658 - accuracy: 0.87 - ETA: 0s - loss: 0.2624 - accuracy: 0.88 - ETA: 0s - loss: 0.2627 - accuracy: 0.88 - ETA: 0s - loss: 0.2742 - accuracy: 0.87 - ETA: 0s - loss: 0.2768 - accuracy: 0.87 - ETA: 0s - loss: 0.2771 - accuracy: 0.87 - ETA: 0s - loss: 0.2780 - accuracy: 0.87 - ETA: 0s - loss: 0.2778 - accuracy: 0.87 - ETA: 0s - loss: 0.2799 - accuracy: 0.87 - 1s 3ms/step - loss: 0.2793 - accuracy: 0.8760 - val_loss: 0.3913 - val_accuracy: 0.8572\n",
      "Epoch 32/50\n",
      "235/235 [==============================] - ETA: 0s - loss: 0.2484 - accuracy: 0.93 - ETA: 0s - loss: 0.2392 - accuracy: 0.90 - ETA: 0s - loss: 0.2358 - accuracy: 0.90 - ETA: 0s - loss: 0.2516 - accuracy: 0.89 - ETA: 0s - loss: 0.2667 - accuracy: 0.88 - ETA: 0s - loss: 0.2730 - accuracy: 0.87 - ETA: 0s - loss: 0.2747 - accuracy: 0.87 - ETA: 0s - loss: 0.2719 - accuracy: 0.87 - ETA: 0s - loss: 0.2746 - accuracy: 0.87 - ETA: 0s - loss: 0.2766 - accuracy: 0.87 - ETA: 0s - loss: 0.2759 - accuracy: 0.87 - ETA: 0s - loss: 0.2741 - accuracy: 0.87 - ETA: 0s - loss: 0.2773 - accuracy: 0.87 - ETA: 0s - loss: 0.2780 - accuracy: 0.87 - 1s 3ms/step - loss: 0.2786 - accuracy: 0.8743 - val_loss: 0.4003 - val_accuracy: 0.8652\n",
      "Epoch 33/50\n",
      "235/235 [==============================] - ETA: 0s - loss: 0.2516 - accuracy: 0.90 - ETA: 0s - loss: 0.3027 - accuracy: 0.84 - ETA: 0s - loss: 0.2788 - accuracy: 0.86 - ETA: 0s - loss: 0.2635 - accuracy: 0.87 - ETA: 0s - loss: 0.2543 - accuracy: 0.87 - ETA: 0s - loss: 0.2583 - accuracy: 0.88 - ETA: 0s - loss: 0.2584 - accuracy: 0.88 - ETA: 0s - loss: 0.2610 - accuracy: 0.87 - ETA: 0s - loss: 0.2617 - accuracy: 0.87 - ETA: 0s - loss: 0.2666 - accuracy: 0.87 - ETA: 0s - loss: 0.2671 - accuracy: 0.87 - ETA: 0s - loss: 0.2674 - accuracy: 0.88 - ETA: 0s - loss: 0.2689 - accuracy: 0.87 - 1s 3ms/step - loss: 0.2713 - accuracy: 0.8776 - val_loss: 0.3762 - val_accuracy: 0.8588\n",
      "Epoch 34/50\n",
      "235/235 [==============================] - ETA: 0s - loss: 0.2508 - accuracy: 0.90 - ETA: 0s - loss: 0.2648 - accuracy: 0.86 - ETA: 0s - loss: 0.2667 - accuracy: 0.87 - ETA: 0s - loss: 0.2643 - accuracy: 0.87 - ETA: 0s - loss: 0.2578 - accuracy: 0.88 - ETA: 0s - loss: 0.2557 - accuracy: 0.88 - ETA: 0s - loss: 0.2615 - accuracy: 0.88 - ETA: 0s - loss: 0.2592 - accuracy: 0.88 - ETA: 0s - loss: 0.2610 - accuracy: 0.88 - ETA: 0s - loss: 0.2628 - accuracy: 0.88 - ETA: 0s - loss: 0.2671 - accuracy: 0.87 - ETA: 0s - loss: 0.2653 - accuracy: 0.88 - ETA: 0s - loss: 0.2707 - accuracy: 0.87 - 1s 3ms/step - loss: 0.2707 - accuracy: 0.8801 - val_loss: 0.3977 - val_accuracy: 0.8480\n",
      "Epoch 35/50\n",
      "235/235 [==============================] - ETA: 0s - loss: 0.2274 - accuracy: 0.87 - ETA: 0s - loss: 0.2281 - accuracy: 0.90 - ETA: 0s - loss: 0.2392 - accuracy: 0.89 - ETA: 0s - loss: 0.2316 - accuracy: 0.90 - ETA: 0s - loss: 0.2413 - accuracy: 0.89 - ETA: 0s - loss: 0.2426 - accuracy: 0.89 - ETA: 0s - loss: 0.2520 - accuracy: 0.88 - ETA: 0s - loss: 0.2560 - accuracy: 0.88 - ETA: 0s - loss: 0.2530 - accuracy: 0.88 - ETA: 0s - loss: 0.2542 - accuracy: 0.88 - ETA: 0s - loss: 0.2562 - accuracy: 0.88 - ETA: 0s - loss: 0.2565 - accuracy: 0.88 - 1s 3ms/step - loss: 0.2582 - accuracy: 0.8819 - val_loss: 0.4138 - val_accuracy: 0.8260\n",
      "Epoch 36/50\n",
      "235/235 [==============================] - ETA: 0s - loss: 0.2540 - accuracy: 0.78 - ETA: 0s - loss: 0.2723 - accuracy: 0.85 - ETA: 0s - loss: 0.2619 - accuracy: 0.87 - ETA: 0s - loss: 0.2556 - accuracy: 0.87 - ETA: 0s - loss: 0.2671 - accuracy: 0.87 - ETA: 0s - loss: 0.2673 - accuracy: 0.87 - ETA: 0s - loss: 0.2669 - accuracy: 0.87 - ETA: 0s - loss: 0.2662 - accuracy: 0.87 - ETA: 0s - loss: 0.2656 - accuracy: 0.87 - ETA: 0s - loss: 0.2601 - accuracy: 0.88 - ETA: 0s - loss: 0.2633 - accuracy: 0.88 - ETA: 0s - loss: 0.2659 - accuracy: 0.88 - 1s 3ms/step - loss: 0.2637 - accuracy: 0.8812 - val_loss: 0.4700 - val_accuracy: 0.8564\n",
      "Epoch 37/50\n",
      "235/235 [==============================] - ETA: 0s - loss: 0.2288 - accuracy: 0.90 - ETA: 0s - loss: 0.2717 - accuracy: 0.86 - ETA: 0s - loss: 0.2471 - accuracy: 0.87 - ETA: 0s - loss: 0.2569 - accuracy: 0.87 - ETA: 0s - loss: 0.2552 - accuracy: 0.88 - ETA: 0s - loss: 0.2530 - accuracy: 0.88 - ETA: 0s - loss: 0.2544 - accuracy: 0.88 - ETA: 0s - loss: 0.2549 - accuracy: 0.88 - ETA: 0s - loss: 0.2583 - accuracy: 0.88 - ETA: 0s - loss: 0.2605 - accuracy: 0.88 - ETA: 0s - loss: 0.2607 - accuracy: 0.88 - ETA: 0s - loss: 0.2619 - accuracy: 0.88 - 1s 3ms/step - loss: 0.2623 - accuracy: 0.8812 - val_loss: 0.4636 - val_accuracy: 0.8548\n",
      "Epoch 38/50\n",
      "235/235 [==============================] - ETA: 0s - loss: 0.2214 - accuracy: 0.90 - ETA: 0s - loss: 0.2824 - accuracy: 0.87 - ETA: 0s - loss: 0.2703 - accuracy: 0.88 - ETA: 0s - loss: 0.2791 - accuracy: 0.87 - ETA: 0s - loss: 0.2643 - accuracy: 0.88 - ETA: 0s - loss: 0.2612 - accuracy: 0.88 - ETA: 0s - loss: 0.2559 - accuracy: 0.88 - ETA: 0s - loss: 0.2543 - accuracy: 0.88 - ETA: 0s - loss: 0.2573 - accuracy: 0.88 - ETA: 0s - loss: 0.2565 - accuracy: 0.88 - ETA: 0s - loss: 0.2566 - accuracy: 0.88 - ETA: 0s - loss: 0.2616 - accuracy: 0.88 - ETA: 0s - loss: 0.2605 - accuracy: 0.88 - 1s 3ms/step - loss: 0.2605 - accuracy: 0.8817 - val_loss: 0.4586 - val_accuracy: 0.8532\n",
      "Epoch 39/50\n",
      "235/235 [==============================] - ETA: 0s - loss: 0.1692 - accuracy: 0.93 - ETA: 0s - loss: 0.2586 - accuracy: 0.87 - ETA: 0s - loss: 0.2434 - accuracy: 0.88 - ETA: 0s - loss: 0.2416 - accuracy: 0.88 - ETA: 0s - loss: 0.2382 - accuracy: 0.88 - ETA: 0s - loss: 0.2370 - accuracy: 0.88 - ETA: 0s - loss: 0.2396 - accuracy: 0.88 - ETA: 0s - loss: 0.2430 - accuracy: 0.88 - ETA: 0s - loss: 0.2466 - accuracy: 0.88 - ETA: 0s - loss: 0.2482 - accuracy: 0.88 - ETA: 0s - loss: 0.2478 - accuracy: 0.88 - ETA: 0s - loss: 0.2479 - accuracy: 0.88 - 1s 3ms/step - loss: 0.2475 - accuracy: 0.8871 - val_loss: 0.4532 - val_accuracy: 0.8512\n",
      "Epoch 40/50\n",
      "235/235 [==============================] - ETA: 0s - loss: 0.3772 - accuracy: 0.84 - ETA: 0s - loss: 0.2267 - accuracy: 0.89 - ETA: 0s - loss: 0.2340 - accuracy: 0.88 - ETA: 0s - loss: 0.2458 - accuracy: 0.88 - ETA: 0s - loss: 0.2586 - accuracy: 0.88 - ETA: 0s - loss: 0.2539 - accuracy: 0.88 - ETA: 0s - loss: 0.2583 - accuracy: 0.88 - ETA: 0s - loss: 0.2561 - accuracy: 0.88 - ETA: 0s - loss: 0.2491 - accuracy: 0.89 - ETA: 0s - loss: 0.2527 - accuracy: 0.88 - ETA: 0s - loss: 0.2525 - accuracy: 0.88 - ETA: 0s - loss: 0.2538 - accuracy: 0.88 - 1s 3ms/step - loss: 0.2550 - accuracy: 0.8875 - val_loss: 0.4425 - val_accuracy: 0.8536\n",
      "Epoch 41/50\n",
      "235/235 [==============================] - ETA: 0s - loss: 0.0980 - accuracy: 1.00 - ETA: 0s - loss: 0.1949 - accuracy: 0.91 - ETA: 0s - loss: 0.2213 - accuracy: 0.89 - ETA: 0s - loss: 0.2273 - accuracy: 0.89 - ETA: 0s - loss: 0.2328 - accuracy: 0.89 - ETA: 0s - loss: 0.2385 - accuracy: 0.88 - ETA: 0s - loss: 0.2437 - accuracy: 0.88 - ETA: 0s - loss: 0.2468 - accuracy: 0.88 - ETA: 0s - loss: 0.2461 - accuracy: 0.88 - ETA: 0s - loss: 0.2524 - accuracy: 0.88 - ETA: 0s - loss: 0.2516 - accuracy: 0.88 - ETA: 0s - loss: 0.2543 - accuracy: 0.88 - 1s 3ms/step - loss: 0.2553 - accuracy: 0.8829 - val_loss: 0.4282 - val_accuracy: 0.8408\n",
      "Epoch 42/50\n",
      "235/235 [==============================] - ETA: 0s - loss: 0.2228 - accuracy: 0.96 - ETA: 0s - loss: 0.2412 - accuracy: 0.90 - ETA: 0s - loss: 0.2423 - accuracy: 0.89 - ETA: 0s - loss: 0.2454 - accuracy: 0.89 - ETA: 0s - loss: 0.2430 - accuracy: 0.89 - ETA: 0s - loss: 0.2433 - accuracy: 0.89 - ETA: 0s - loss: 0.2409 - accuracy: 0.89 - ETA: 0s - loss: 0.2440 - accuracy: 0.89 - ETA: 0s - loss: 0.2463 - accuracy: 0.89 - ETA: 0s - loss: 0.2500 - accuracy: 0.89 - ETA: 0s - loss: 0.2555 - accuracy: 0.89 - ETA: 0s - loss: 0.2575 - accuracy: 0.88 - 1s 3ms/step - loss: 0.2587 - accuracy: 0.8885 - val_loss: 0.4277 - val_accuracy: 0.8280\n",
      "Epoch 43/50\n"
     ]
    },
    {
     "name": "stdout",
     "output_type": "stream",
     "text": [
      "235/235 [==============================] - ETA: 0s - loss: 0.4270 - accuracy: 0.90 - ETA: 0s - loss: 0.2685 - accuracy: 0.89 - ETA: 0s - loss: 0.2436 - accuracy: 0.89 - ETA: 0s - loss: 0.2404 - accuracy: 0.89 - ETA: 0s - loss: 0.2395 - accuracy: 0.89 - ETA: 0s - loss: 0.2403 - accuracy: 0.89 - ETA: 0s - loss: 0.2447 - accuracy: 0.88 - ETA: 0s - loss: 0.2432 - accuracy: 0.88 - ETA: 0s - loss: 0.2444 - accuracy: 0.88 - ETA: 0s - loss: 0.2430 - accuracy: 0.88 - ETA: 0s - loss: 0.2444 - accuracy: 0.88 - ETA: 0s - loss: 0.2453 - accuracy: 0.88 - 1s 3ms/step - loss: 0.2457 - accuracy: 0.8879 - val_loss: 0.4351 - val_accuracy: 0.8340\n",
      "Epoch 44/50\n",
      "235/235 [==============================] - ETA: 0s - loss: 0.0663 - accuracy: 1.00 - ETA: 0s - loss: 0.2315 - accuracy: 0.90 - ETA: 0s - loss: 0.2323 - accuracy: 0.89 - ETA: 0s - loss: 0.2254 - accuracy: 0.89 - ETA: 0s - loss: 0.2343 - accuracy: 0.89 - ETA: 0s - loss: 0.2330 - accuracy: 0.89 - ETA: 0s - loss: 0.2399 - accuracy: 0.88 - ETA: 0s - loss: 0.2344 - accuracy: 0.89 - ETA: 0s - loss: 0.2362 - accuracy: 0.88 - ETA: 0s - loss: 0.2328 - accuracy: 0.89 - ETA: 0s - loss: 0.2311 - accuracy: 0.89 - ETA: 0s - loss: 0.2346 - accuracy: 0.89 - 1s 3ms/step - loss: 0.2352 - accuracy: 0.8897 - val_loss: 0.4683 - val_accuracy: 0.8364\n",
      "Epoch 45/50\n",
      "235/235 [==============================] - ETA: 0s - loss: 0.1375 - accuracy: 0.93 - ETA: 0s - loss: 0.1853 - accuracy: 0.92 - ETA: 0s - loss: 0.2195 - accuracy: 0.89 - ETA: 0s - loss: 0.2331 - accuracy: 0.89 - ETA: 0s - loss: 0.2338 - accuracy: 0.89 - ETA: 0s - loss: 0.2343 - accuracy: 0.89 - ETA: 0s - loss: 0.2378 - accuracy: 0.89 - ETA: 0s - loss: 0.2381 - accuracy: 0.89 - ETA: 0s - loss: 0.2423 - accuracy: 0.88 - ETA: 0s - loss: 0.2449 - accuracy: 0.88 - ETA: 0s - loss: 0.2415 - accuracy: 0.88 - ETA: 0s - loss: 0.2383 - accuracy: 0.89 - 1s 3ms/step - loss: 0.2382 - accuracy: 0.8909 - val_loss: 0.4738 - val_accuracy: 0.8476\n",
      "Epoch 46/50\n",
      "235/235 [==============================] - ETA: 0s - loss: 0.2271 - accuracy: 0.90 - ETA: 0s - loss: 0.2293 - accuracy: 0.88 - ETA: 0s - loss: 0.2214 - accuracy: 0.88 - ETA: 0s - loss: 0.2184 - accuracy: 0.89 - ETA: 0s - loss: 0.2137 - accuracy: 0.89 - ETA: 0s - loss: 0.2107 - accuracy: 0.89 - ETA: 0s - loss: 0.2183 - accuracy: 0.89 - ETA: 0s - loss: 0.2223 - accuracy: 0.89 - ETA: 0s - loss: 0.2246 - accuracy: 0.89 - ETA: 0s - loss: 0.2279 - accuracy: 0.89 - ETA: 0s - loss: 0.2278 - accuracy: 0.89 - ETA: 0s - loss: 0.2287 - accuracy: 0.89 - 1s 3ms/step - loss: 0.2309 - accuracy: 0.8911 - val_loss: 0.4771 - val_accuracy: 0.8408\n",
      "Epoch 47/50\n",
      "235/235 [==============================] - ETA: 0s - loss: 0.1114 - accuracy: 1.00 - ETA: 0s - loss: 0.2109 - accuracy: 0.90 - ETA: 0s - loss: 0.2054 - accuracy: 0.91 - ETA: 0s - loss: 0.2039 - accuracy: 0.90 - ETA: 0s - loss: 0.2100 - accuracy: 0.90 - ETA: 0s - loss: 0.2252 - accuracy: 0.89 - ETA: 0s - loss: 0.2308 - accuracy: 0.89 - ETA: 0s - loss: 0.2282 - accuracy: 0.89 - ETA: 0s - loss: 0.2318 - accuracy: 0.89 - ETA: 0s - loss: 0.2301 - accuracy: 0.89 - ETA: 0s - loss: 0.2287 - accuracy: 0.89 - ETA: 0s - loss: 0.2296 - accuracy: 0.89 - 1s 3ms/step - loss: 0.2295 - accuracy: 0.8916 - val_loss: 0.5406 - val_accuracy: 0.8304\n",
      "Epoch 48/50\n",
      "235/235 [==============================] - ETA: 0s - loss: 0.1669 - accuracy: 0.87 - ETA: 0s - loss: 0.1966 - accuracy: 0.89 - ETA: 0s - loss: 0.1892 - accuracy: 0.90 - ETA: 0s - loss: 0.1979 - accuracy: 0.90 - ETA: 0s - loss: 0.1976 - accuracy: 0.90 - ETA: 0s - loss: 0.1967 - accuracy: 0.90 - ETA: 0s - loss: 0.2035 - accuracy: 0.90 - ETA: 0s - loss: 0.2039 - accuracy: 0.90 - ETA: 0s - loss: 0.2056 - accuracy: 0.90 - ETA: 0s - loss: 0.2085 - accuracy: 0.90 - ETA: 0s - loss: 0.2142 - accuracy: 0.90 - ETA: 0s - loss: 0.2190 - accuracy: 0.89 - 1s 3ms/step - loss: 0.2200 - accuracy: 0.8980 - val_loss: 0.4808 - val_accuracy: 0.8268\n",
      "Epoch 49/50\n",
      "235/235 [==============================] - ETA: 0s - loss: 0.1361 - accuracy: 0.90 - ETA: 0s - loss: 0.2383 - accuracy: 0.88 - ETA: 0s - loss: 0.2110 - accuracy: 0.90 - ETA: 0s - loss: 0.2086 - accuracy: 0.91 - ETA: 0s - loss: 0.2188 - accuracy: 0.90 - ETA: 0s - loss: 0.2180 - accuracy: 0.90 - ETA: 0s - loss: 0.2197 - accuracy: 0.90 - ETA: 0s - loss: 0.2161 - accuracy: 0.90 - ETA: 0s - loss: 0.2230 - accuracy: 0.89 - ETA: 0s - loss: 0.2281 - accuracy: 0.89 - ETA: 0s - loss: 0.2278 - accuracy: 0.89 - ETA: 0s - loss: 0.2292 - accuracy: 0.89 - 1s 3ms/step - loss: 0.2300 - accuracy: 0.8953 - val_loss: 0.4545 - val_accuracy: 0.8556\n",
      "Epoch 50/50\n",
      "235/235 [==============================] - ETA: 0s - loss: 0.2972 - accuracy: 0.81 - ETA: 0s - loss: 0.2199 - accuracy: 0.88 - ETA: 0s - loss: 0.2105 - accuracy: 0.89 - ETA: 0s - loss: 0.2170 - accuracy: 0.89 - ETA: 0s - loss: 0.2081 - accuracy: 0.89 - ETA: 0s - loss: 0.2158 - accuracy: 0.89 - ETA: 0s - loss: 0.2142 - accuracy: 0.89 - ETA: 0s - loss: 0.2113 - accuracy: 0.89 - ETA: 0s - loss: 0.2157 - accuracy: 0.89 - ETA: 0s - loss: 0.2182 - accuracy: 0.89 - ETA: 0s - loss: 0.2191 - accuracy: 0.89 - ETA: 0s - loss: 0.2242 - accuracy: 0.89 - 1s 3ms/step - loss: 0.2258 - accuracy: 0.8940 - val_loss: 0.4382 - val_accuracy: 0.8308\n"
     ]
    },
    {
     "data": {
      "text/html": [
       "<span style=\"color:#4527A0\"><h1 style=\"font-size:18px\">Trial complete</h1></span>"
      ],
      "text/plain": [
       "<IPython.core.display.HTML object>"
      ]
     },
     "metadata": {},
     "output_type": "display_data"
    },
    {
     "data": {
      "text/html": [
       "<span style=\"color:#4527A0\"><h1 style=\"font-size:18px\">Trial summary</h1></span>"
      ],
      "text/plain": [
       "<IPython.core.display.HTML object>"
      ]
     },
     "metadata": {},
     "output_type": "display_data"
    },
    {
     "data": {
      "text/html": [
       "<span style=\"color:cyan\"> |-Trial ID: 5f30c8a52455225412a43cf00af95e9a</span>"
      ],
      "text/plain": [
       "<IPython.core.display.HTML object>"
      ]
     },
     "metadata": {},
     "output_type": "display_data"
    },
    {
     "data": {
      "text/html": [
       "<span style=\"color:cyan\"> |-Score: 0.8652000029881796</span>"
      ],
      "text/plain": [
       "<IPython.core.display.HTML object>"
      ]
     },
     "metadata": {},
     "output_type": "display_data"
    },
    {
     "data": {
      "text/html": [
       "<span style=\"color:cyan\"> |-Best step: 0</span>"
      ],
      "text/plain": [
       "<IPython.core.display.HTML object>"
      ]
     },
     "metadata": {},
     "output_type": "display_data"
    },
    {
     "data": {
      "text/html": [
       "<span style=\"color:#7E57C2\"><h2 style=\"font-size:16px\">Hyperparameters:</h2></span>"
      ],
      "text/plain": [
       "<IPython.core.display.HTML object>"
      ]
     },
     "metadata": {},
     "output_type": "display_data"
    },
    {
     "data": {
      "text/html": [
       "<span style=\"color:cyan\"> |-learning_rate: 0.01</span>"
      ],
      "text/plain": [
       "<IPython.core.display.HTML object>"
      ]
     },
     "metadata": {},
     "output_type": "display_data"
    },
    {
     "data": {
      "text/html": [
       "<span style=\"color:blue\"> |-num_layers: 3</span>"
      ],
      "text/plain": [
       "<IPython.core.display.HTML object>"
      ]
     },
     "metadata": {},
     "output_type": "display_data"
    },
    {
     "data": {
      "text/html": [
       "<span style=\"color:cyan\"> |-units_0: 416</span>"
      ],
      "text/plain": [
       "<IPython.core.display.HTML object>"
      ]
     },
     "metadata": {},
     "output_type": "display_data"
    },
    {
     "data": {
      "text/html": [
       "<span style=\"color:blue\"> |-units_1: 448</span>"
      ],
      "text/plain": [
       "<IPython.core.display.HTML object>"
      ]
     },
     "metadata": {},
     "output_type": "display_data"
    },
    {
     "data": {
      "text/html": [
       "<span style=\"color:cyan\"> |-units_10: 288</span>"
      ],
      "text/plain": [
       "<IPython.core.display.HTML object>"
      ]
     },
     "metadata": {},
     "output_type": "display_data"
    },
    {
     "data": {
      "text/html": [
       "<span style=\"color:blue\"> |-units_11: 256</span>"
      ],
      "text/plain": [
       "<IPython.core.display.HTML object>"
      ]
     },
     "metadata": {},
     "output_type": "display_data"
    },
    {
     "data": {
      "text/html": [
       "<span style=\"color:cyan\"> |-units_2: 448</span>"
      ],
      "text/plain": [
       "<IPython.core.display.HTML object>"
      ]
     },
     "metadata": {},
     "output_type": "display_data"
    },
    {
     "data": {
      "text/html": [
       "<span style=\"color:blue\"> |-units_3: 384</span>"
      ],
      "text/plain": [
       "<IPython.core.display.HTML object>"
      ]
     },
     "metadata": {},
     "output_type": "display_data"
    },
    {
     "data": {
      "text/html": [
       "<span style=\"color:cyan\"> |-units_4: 480</span>"
      ],
      "text/plain": [
       "<IPython.core.display.HTML object>"
      ]
     },
     "metadata": {},
     "output_type": "display_data"
    },
    {
     "data": {
      "text/html": [
       "<span style=\"color:blue\"> |-units_5: 352</span>"
      ],
      "text/plain": [
       "<IPython.core.display.HTML object>"
      ]
     },
     "metadata": {},
     "output_type": "display_data"
    },
    {
     "data": {
      "text/html": [
       "<span style=\"color:cyan\"> |-units_6: 320</span>"
      ],
      "text/plain": [
       "<IPython.core.display.HTML object>"
      ]
     },
     "metadata": {},
     "output_type": "display_data"
    },
    {
     "data": {
      "text/html": [
       "<span style=\"color:blue\"> |-units_7: 480</span>"
      ],
      "text/plain": [
       "<IPython.core.display.HTML object>"
      ]
     },
     "metadata": {},
     "output_type": "display_data"
    },
    {
     "data": {
      "text/html": [
       "<span style=\"color:cyan\"> |-units_8: 32</span>"
      ],
      "text/plain": [
       "<IPython.core.display.HTML object>"
      ]
     },
     "metadata": {},
     "output_type": "display_data"
    },
    {
     "data": {
      "text/html": [
       "<span style=\"color:blue\"> |-units_9: 288</span>"
      ],
      "text/plain": [
       "<IPython.core.display.HTML object>"
      ]
     },
     "metadata": {},
     "output_type": "display_data"
    },
    {
     "name": "stdout",
     "output_type": "stream",
     "text": [
      "INFO:tensorflow:Oracle triggered exit\n",
      "Wall time: 9min 58s\n"
     ]
    }
   ],
   "source": [
    "%%time\n",
    "tuner.search(X_train, y_train, epochs=50, validation_data=(X_test, y_test))"
   ]
  },
  {
   "cell_type": "code",
   "execution_count": 24,
   "metadata": {},
   "outputs": [
    {
     "data": {
      "text/html": [
       "<span style=\"color:#4527A0\"><h1 style=\"font-size:18px\">Results summary</h1></span>"
      ],
      "text/plain": [
       "<IPython.core.display.HTML object>"
      ]
     },
     "metadata": {},
     "output_type": "display_data"
    },
    {
     "data": {
      "text/html": [
       "<span style=\"color:cyan\"> |-Results in project2\\Churn prediction</span>"
      ],
      "text/plain": [
       "<IPython.core.display.HTML object>"
      ]
     },
     "metadata": {},
     "output_type": "display_data"
    },
    {
     "data": {
      "text/html": [
       "<span style=\"color:cyan\"> |-Showing 10 best trials</span>"
      ],
      "text/plain": [
       "<IPython.core.display.HTML object>"
      ]
     },
     "metadata": {},
     "output_type": "display_data"
    },
    {
     "data": {
      "text/html": [
       "<span style=\"color:cyan\"> |-Objective(name='val_accuracy', direction='max')</span>"
      ],
      "text/plain": [
       "<IPython.core.display.HTML object>"
      ]
     },
     "metadata": {},
     "output_type": "display_data"
    },
    {
     "data": {
      "text/html": [
       "<span style=\"color:#4527A0\"><h1 style=\"font-size:18px\">Trial summary</h1></span>"
      ],
      "text/plain": [
       "<IPython.core.display.HTML object>"
      ]
     },
     "metadata": {},
     "output_type": "display_data"
    },
    {
     "data": {
      "text/html": [
       "<span style=\"color:cyan\"> |-Trial ID: 5f30c8a52455225412a43cf00af95e9a</span>"
      ],
      "text/plain": [
       "<IPython.core.display.HTML object>"
      ]
     },
     "metadata": {},
     "output_type": "display_data"
    },
    {
     "data": {
      "text/html": [
       "<span style=\"color:cyan\"> |-Score: 0.8652000029881796</span>"
      ],
      "text/plain": [
       "<IPython.core.display.HTML object>"
      ]
     },
     "metadata": {},
     "output_type": "display_data"
    },
    {
     "data": {
      "text/html": [
       "<span style=\"color:cyan\"> |-Best step: 0</span>"
      ],
      "text/plain": [
       "<IPython.core.display.HTML object>"
      ]
     },
     "metadata": {},
     "output_type": "display_data"
    },
    {
     "data": {
      "text/html": [
       "<span style=\"color:#7E57C2\"><h2 style=\"font-size:16px\">Hyperparameters:</h2></span>"
      ],
      "text/plain": [
       "<IPython.core.display.HTML object>"
      ]
     },
     "metadata": {},
     "output_type": "display_data"
    },
    {
     "data": {
      "text/html": [
       "<span style=\"color:cyan\"> |-learning_rate: 0.01</span>"
      ],
      "text/plain": [
       "<IPython.core.display.HTML object>"
      ]
     },
     "metadata": {},
     "output_type": "display_data"
    },
    {
     "data": {
      "text/html": [
       "<span style=\"color:blue\"> |-num_layers: 3</span>"
      ],
      "text/plain": [
       "<IPython.core.display.HTML object>"
      ]
     },
     "metadata": {},
     "output_type": "display_data"
    },
    {
     "data": {
      "text/html": [
       "<span style=\"color:cyan\"> |-units_0: 416</span>"
      ],
      "text/plain": [
       "<IPython.core.display.HTML object>"
      ]
     },
     "metadata": {},
     "output_type": "display_data"
    },
    {
     "data": {
      "text/html": [
       "<span style=\"color:blue\"> |-units_1: 448</span>"
      ],
      "text/plain": [
       "<IPython.core.display.HTML object>"
      ]
     },
     "metadata": {},
     "output_type": "display_data"
    },
    {
     "data": {
      "text/html": [
       "<span style=\"color:cyan\"> |-units_10: 288</span>"
      ],
      "text/plain": [
       "<IPython.core.display.HTML object>"
      ]
     },
     "metadata": {},
     "output_type": "display_data"
    },
    {
     "data": {
      "text/html": [
       "<span style=\"color:blue\"> |-units_11: 256</span>"
      ],
      "text/plain": [
       "<IPython.core.display.HTML object>"
      ]
     },
     "metadata": {},
     "output_type": "display_data"
    },
    {
     "data": {
      "text/html": [
       "<span style=\"color:cyan\"> |-units_2: 448</span>"
      ],
      "text/plain": [
       "<IPython.core.display.HTML object>"
      ]
     },
     "metadata": {},
     "output_type": "display_data"
    },
    {
     "data": {
      "text/html": [
       "<span style=\"color:blue\"> |-units_3: 384</span>"
      ],
      "text/plain": [
       "<IPython.core.display.HTML object>"
      ]
     },
     "metadata": {},
     "output_type": "display_data"
    },
    {
     "data": {
      "text/html": [
       "<span style=\"color:cyan\"> |-units_4: 480</span>"
      ],
      "text/plain": [
       "<IPython.core.display.HTML object>"
      ]
     },
     "metadata": {},
     "output_type": "display_data"
    },
    {
     "data": {
      "text/html": [
       "<span style=\"color:blue\"> |-units_5: 352</span>"
      ],
      "text/plain": [
       "<IPython.core.display.HTML object>"
      ]
     },
     "metadata": {},
     "output_type": "display_data"
    },
    {
     "data": {
      "text/html": [
       "<span style=\"color:cyan\"> |-units_6: 320</span>"
      ],
      "text/plain": [
       "<IPython.core.display.HTML object>"
      ]
     },
     "metadata": {},
     "output_type": "display_data"
    },
    {
     "data": {
      "text/html": [
       "<span style=\"color:blue\"> |-units_7: 480</span>"
      ],
      "text/plain": [
       "<IPython.core.display.HTML object>"
      ]
     },
     "metadata": {},
     "output_type": "display_data"
    },
    {
     "data": {
      "text/html": [
       "<span style=\"color:cyan\"> |-units_8: 32</span>"
      ],
      "text/plain": [
       "<IPython.core.display.HTML object>"
      ]
     },
     "metadata": {},
     "output_type": "display_data"
    },
    {
     "data": {
      "text/html": [
       "<span style=\"color:blue\"> |-units_9: 288</span>"
      ],
      "text/plain": [
       "<IPython.core.display.HTML object>"
      ]
     },
     "metadata": {},
     "output_type": "display_data"
    },
    {
     "data": {
      "text/html": [
       "<span style=\"color:#4527A0\"><h1 style=\"font-size:18px\">Trial summary</h1></span>"
      ],
      "text/plain": [
       "<IPython.core.display.HTML object>"
      ]
     },
     "metadata": {},
     "output_type": "display_data"
    },
    {
     "data": {
      "text/html": [
       "<span style=\"color:cyan\"> |-Trial ID: bce5e0cc27d7f60d64dbcef0cce6e356</span>"
      ],
      "text/plain": [
       "<IPython.core.display.HTML object>"
      ]
     },
     "metadata": {},
     "output_type": "display_data"
    },
    {
     "data": {
      "text/html": [
       "<span style=\"color:cyan\"> |-Score: 0.864133338133494</span>"
      ],
      "text/plain": [
       "<IPython.core.display.HTML object>"
      ]
     },
     "metadata": {},
     "output_type": "display_data"
    },
    {
     "data": {
      "text/html": [
       "<span style=\"color:cyan\"> |-Best step: 0</span>"
      ],
      "text/plain": [
       "<IPython.core.display.HTML object>"
      ]
     },
     "metadata": {},
     "output_type": "display_data"
    },
    {
     "data": {
      "text/html": [
       "<span style=\"color:#7E57C2\"><h2 style=\"font-size:16px\">Hyperparameters:</h2></span>"
      ],
      "text/plain": [
       "<IPython.core.display.HTML object>"
      ]
     },
     "metadata": {},
     "output_type": "display_data"
    },
    {
     "data": {
      "text/html": [
       "<span style=\"color:cyan\"> |-learning_rate: 0.001</span>"
      ],
      "text/plain": [
       "<IPython.core.display.HTML object>"
      ]
     },
     "metadata": {},
     "output_type": "display_data"
    },
    {
     "data": {
      "text/html": [
       "<span style=\"color:blue\"> |-num_layers: 6</span>"
      ],
      "text/plain": [
       "<IPython.core.display.HTML object>"
      ]
     },
     "metadata": {},
     "output_type": "display_data"
    },
    {
     "data": {
      "text/html": [
       "<span style=\"color:cyan\"> |-units_0: 352</span>"
      ],
      "text/plain": [
       "<IPython.core.display.HTML object>"
      ]
     },
     "metadata": {},
     "output_type": "display_data"
    },
    {
     "data": {
      "text/html": [
       "<span style=\"color:blue\"> |-units_1: 256</span>"
      ],
      "text/plain": [
       "<IPython.core.display.HTML object>"
      ]
     },
     "metadata": {},
     "output_type": "display_data"
    },
    {
     "data": {
      "text/html": [
       "<span style=\"color:cyan\"> |-units_10: 224</span>"
      ],
      "text/plain": [
       "<IPython.core.display.HTML object>"
      ]
     },
     "metadata": {},
     "output_type": "display_data"
    },
    {
     "data": {
      "text/html": [
       "<span style=\"color:blue\"> |-units_11: 384</span>"
      ],
      "text/plain": [
       "<IPython.core.display.HTML object>"
      ]
     },
     "metadata": {},
     "output_type": "display_data"
    },
    {
     "data": {
      "text/html": [
       "<span style=\"color:cyan\"> |-units_2: 256</span>"
      ],
      "text/plain": [
       "<IPython.core.display.HTML object>"
      ]
     },
     "metadata": {},
     "output_type": "display_data"
    },
    {
     "data": {
      "text/html": [
       "<span style=\"color:blue\"> |-units_3: 480</span>"
      ],
      "text/plain": [
       "<IPython.core.display.HTML object>"
      ]
     },
     "metadata": {},
     "output_type": "display_data"
    },
    {
     "data": {
      "text/html": [
       "<span style=\"color:cyan\"> |-units_4: 416</span>"
      ],
      "text/plain": [
       "<IPython.core.display.HTML object>"
      ]
     },
     "metadata": {},
     "output_type": "display_data"
    },
    {
     "data": {
      "text/html": [
       "<span style=\"color:blue\"> |-units_5: 256</span>"
      ],
      "text/plain": [
       "<IPython.core.display.HTML object>"
      ]
     },
     "metadata": {},
     "output_type": "display_data"
    },
    {
     "data": {
      "text/html": [
       "<span style=\"color:cyan\"> |-units_6: 480</span>"
      ],
      "text/plain": [
       "<IPython.core.display.HTML object>"
      ]
     },
     "metadata": {},
     "output_type": "display_data"
    },
    {
     "data": {
      "text/html": [
       "<span style=\"color:blue\"> |-units_7: 416</span>"
      ],
      "text/plain": [
       "<IPython.core.display.HTML object>"
      ]
     },
     "metadata": {},
     "output_type": "display_data"
    },
    {
     "data": {
      "text/html": [
       "<span style=\"color:cyan\"> |-units_8: 480</span>"
      ],
      "text/plain": [
       "<IPython.core.display.HTML object>"
      ]
     },
     "metadata": {},
     "output_type": "display_data"
    },
    {
     "data": {
      "text/html": [
       "<span style=\"color:blue\"> |-units_9: 64</span>"
      ],
      "text/plain": [
       "<IPython.core.display.HTML object>"
      ]
     },
     "metadata": {},
     "output_type": "display_data"
    },
    {
     "data": {
      "text/html": [
       "<span style=\"color:#4527A0\"><h1 style=\"font-size:18px\">Trial summary</h1></span>"
      ],
      "text/plain": [
       "<IPython.core.display.HTML object>"
      ]
     },
     "metadata": {},
     "output_type": "display_data"
    },
    {
     "data": {
      "text/html": [
       "<span style=\"color:cyan\"> |-Trial ID: a3a1d1207c0f31a128976f08b2da5b45</span>"
      ],
      "text/plain": [
       "<IPython.core.display.HTML object>"
      ]
     },
     "metadata": {},
     "output_type": "display_data"
    },
    {
     "data": {
      "text/html": [
       "<span style=\"color:cyan\"> |-Score: 0.8629333178202311</span>"
      ],
      "text/plain": [
       "<IPython.core.display.HTML object>"
      ]
     },
     "metadata": {},
     "output_type": "display_data"
    },
    {
     "data": {
      "text/html": [
       "<span style=\"color:cyan\"> |-Best step: 0</span>"
      ],
      "text/plain": [
       "<IPython.core.display.HTML object>"
      ]
     },
     "metadata": {},
     "output_type": "display_data"
    },
    {
     "data": {
      "text/html": [
       "<span style=\"color:#7E57C2\"><h2 style=\"font-size:16px\">Hyperparameters:</h2></span>"
      ],
      "text/plain": [
       "<IPython.core.display.HTML object>"
      ]
     },
     "metadata": {},
     "output_type": "display_data"
    },
    {
     "data": {
      "text/html": [
       "<span style=\"color:cyan\"> |-learning_rate: 0.001</span>"
      ],
      "text/plain": [
       "<IPython.core.display.HTML object>"
      ]
     },
     "metadata": {},
     "output_type": "display_data"
    },
    {
     "data": {
      "text/html": [
       "<span style=\"color:blue\"> |-num_layers: 4</span>"
      ],
      "text/plain": [
       "<IPython.core.display.HTML object>"
      ]
     },
     "metadata": {},
     "output_type": "display_data"
    },
    {
     "data": {
      "text/html": [
       "<span style=\"color:cyan\"> |-units_0: 416</span>"
      ],
      "text/plain": [
       "<IPython.core.display.HTML object>"
      ]
     },
     "metadata": {},
     "output_type": "display_data"
    },
    {
     "data": {
      "text/html": [
       "<span style=\"color:blue\"> |-units_1: 384</span>"
      ],
      "text/plain": [
       "<IPython.core.display.HTML object>"
      ]
     },
     "metadata": {},
     "output_type": "display_data"
    },
    {
     "data": {
      "text/html": [
       "<span style=\"color:cyan\"> |-units_10: 512</span>"
      ],
      "text/plain": [
       "<IPython.core.display.HTML object>"
      ]
     },
     "metadata": {},
     "output_type": "display_data"
    },
    {
     "data": {
      "text/html": [
       "<span style=\"color:blue\"> |-units_11: 32</span>"
      ],
      "text/plain": [
       "<IPython.core.display.HTML object>"
      ]
     },
     "metadata": {},
     "output_type": "display_data"
    },
    {
     "data": {
      "text/html": [
       "<span style=\"color:cyan\"> |-units_2: 96</span>"
      ],
      "text/plain": [
       "<IPython.core.display.HTML object>"
      ]
     },
     "metadata": {},
     "output_type": "display_data"
    },
    {
     "data": {
      "text/html": [
       "<span style=\"color:blue\"> |-units_3: 224</span>"
      ],
      "text/plain": [
       "<IPython.core.display.HTML object>"
      ]
     },
     "metadata": {},
     "output_type": "display_data"
    },
    {
     "data": {
      "text/html": [
       "<span style=\"color:cyan\"> |-units_4: 224</span>"
      ],
      "text/plain": [
       "<IPython.core.display.HTML object>"
      ]
     },
     "metadata": {},
     "output_type": "display_data"
    },
    {
     "data": {
      "text/html": [
       "<span style=\"color:blue\"> |-units_5: 384</span>"
      ],
      "text/plain": [
       "<IPython.core.display.HTML object>"
      ]
     },
     "metadata": {},
     "output_type": "display_data"
    },
    {
     "data": {
      "text/html": [
       "<span style=\"color:cyan\"> |-units_6: 128</span>"
      ],
      "text/plain": [
       "<IPython.core.display.HTML object>"
      ]
     },
     "metadata": {},
     "output_type": "display_data"
    },
    {
     "data": {
      "text/html": [
       "<span style=\"color:blue\"> |-units_7: 224</span>"
      ],
      "text/plain": [
       "<IPython.core.display.HTML object>"
      ]
     },
     "metadata": {},
     "output_type": "display_data"
    },
    {
     "data": {
      "text/html": [
       "<span style=\"color:cyan\"> |-units_8: 96</span>"
      ],
      "text/plain": [
       "<IPython.core.display.HTML object>"
      ]
     },
     "metadata": {},
     "output_type": "display_data"
    },
    {
     "data": {
      "text/html": [
       "<span style=\"color:blue\"> |-units_9: 480</span>"
      ],
      "text/plain": [
       "<IPython.core.display.HTML object>"
      ]
     },
     "metadata": {},
     "output_type": "display_data"
    },
    {
     "data": {
      "text/html": [
       "<span style=\"color:#4527A0\"><h1 style=\"font-size:18px\">Trial summary</h1></span>"
      ],
      "text/plain": [
       "<IPython.core.display.HTML object>"
      ]
     },
     "metadata": {},
     "output_type": "display_data"
    },
    {
     "data": {
      "text/html": [
       "<span style=\"color:cyan\"> |-Trial ID: 9b7a859a6ef7b4073118c12b48d16d1a</span>"
      ],
      "text/plain": [
       "<IPython.core.display.HTML object>"
      ]
     },
     "metadata": {},
     "output_type": "display_data"
    },
    {
     "data": {
      "text/html": [
       "<span style=\"color:cyan\"> |-Score: 0.8628000020980835</span>"
      ],
      "text/plain": [
       "<IPython.core.display.HTML object>"
      ]
     },
     "metadata": {},
     "output_type": "display_data"
    },
    {
     "data": {
      "text/html": [
       "<span style=\"color:cyan\"> |-Best step: 0</span>"
      ],
      "text/plain": [
       "<IPython.core.display.HTML object>"
      ]
     },
     "metadata": {},
     "output_type": "display_data"
    },
    {
     "data": {
      "text/html": [
       "<span style=\"color:#7E57C2\"><h2 style=\"font-size:16px\">Hyperparameters:</h2></span>"
      ],
      "text/plain": [
       "<IPython.core.display.HTML object>"
      ]
     },
     "metadata": {},
     "output_type": "display_data"
    },
    {
     "data": {
      "text/html": [
       "<span style=\"color:cyan\"> |-learning_rate: 0.001</span>"
      ],
      "text/plain": [
       "<IPython.core.display.HTML object>"
      ]
     },
     "metadata": {},
     "output_type": "display_data"
    },
    {
     "data": {
      "text/html": [
       "<span style=\"color:blue\"> |-num_layers: 12</span>"
      ],
      "text/plain": [
       "<IPython.core.display.HTML object>"
      ]
     },
     "metadata": {},
     "output_type": "display_data"
    },
    {
     "data": {
      "text/html": [
       "<span style=\"color:cyan\"> |-units_0: 160</span>"
      ],
      "text/plain": [
       "<IPython.core.display.HTML object>"
      ]
     },
     "metadata": {},
     "output_type": "display_data"
    },
    {
     "data": {
      "text/html": [
       "<span style=\"color:blue\"> |-units_1: 288</span>"
      ],
      "text/plain": [
       "<IPython.core.display.HTML object>"
      ]
     },
     "metadata": {},
     "output_type": "display_data"
    },
    {
     "data": {
      "text/html": [
       "<span style=\"color:cyan\"> |-units_10: 32</span>"
      ],
      "text/plain": [
       "<IPython.core.display.HTML object>"
      ]
     },
     "metadata": {},
     "output_type": "display_data"
    },
    {
     "data": {
      "text/html": [
       "<span style=\"color:blue\"> |-units_11: 32</span>"
      ],
      "text/plain": [
       "<IPython.core.display.HTML object>"
      ]
     },
     "metadata": {},
     "output_type": "display_data"
    },
    {
     "data": {
      "text/html": [
       "<span style=\"color:cyan\"> |-units_2: 32</span>"
      ],
      "text/plain": [
       "<IPython.core.display.HTML object>"
      ]
     },
     "metadata": {},
     "output_type": "display_data"
    },
    {
     "data": {
      "text/html": [
       "<span style=\"color:blue\"> |-units_3: 32</span>"
      ],
      "text/plain": [
       "<IPython.core.display.HTML object>"
      ]
     },
     "metadata": {},
     "output_type": "display_data"
    },
    {
     "data": {
      "text/html": [
       "<span style=\"color:cyan\"> |-units_4: 32</span>"
      ],
      "text/plain": [
       "<IPython.core.display.HTML object>"
      ]
     },
     "metadata": {},
     "output_type": "display_data"
    },
    {
     "data": {
      "text/html": [
       "<span style=\"color:blue\"> |-units_5: 32</span>"
      ],
      "text/plain": [
       "<IPython.core.display.HTML object>"
      ]
     },
     "metadata": {},
     "output_type": "display_data"
    },
    {
     "data": {
      "text/html": [
       "<span style=\"color:cyan\"> |-units_6: 32</span>"
      ],
      "text/plain": [
       "<IPython.core.display.HTML object>"
      ]
     },
     "metadata": {},
     "output_type": "display_data"
    },
    {
     "data": {
      "text/html": [
       "<span style=\"color:blue\"> |-units_7: 32</span>"
      ],
      "text/plain": [
       "<IPython.core.display.HTML object>"
      ]
     },
     "metadata": {},
     "output_type": "display_data"
    },
    {
     "data": {
      "text/html": [
       "<span style=\"color:cyan\"> |-units_8: 32</span>"
      ],
      "text/plain": [
       "<IPython.core.display.HTML object>"
      ]
     },
     "metadata": {},
     "output_type": "display_data"
    },
    {
     "data": {
      "text/html": [
       "<span style=\"color:blue\"> |-units_9: 32</span>"
      ],
      "text/plain": [
       "<IPython.core.display.HTML object>"
      ]
     },
     "metadata": {},
     "output_type": "display_data"
    },
    {
     "data": {
      "text/html": [
       "<span style=\"color:#4527A0\"><h1 style=\"font-size:18px\">Trial summary</h1></span>"
      ],
      "text/plain": [
       "<IPython.core.display.HTML object>"
      ]
     },
     "metadata": {},
     "output_type": "display_data"
    },
    {
     "data": {
      "text/html": [
       "<span style=\"color:cyan\"> |-Trial ID: bac3ee5e1564e3a45c66287d0cc4cb4c</span>"
      ],
      "text/plain": [
       "<IPython.core.display.HTML object>"
      ]
     },
     "metadata": {},
     "output_type": "display_data"
    },
    {
     "data": {
      "text/html": [
       "<span style=\"color:cyan\"> |-Score: 0.8621333440144857</span>"
      ],
      "text/plain": [
       "<IPython.core.display.HTML object>"
      ]
     },
     "metadata": {},
     "output_type": "display_data"
    },
    {
     "data": {
      "text/html": [
       "<span style=\"color:cyan\"> |-Best step: 0</span>"
      ],
      "text/plain": [
       "<IPython.core.display.HTML object>"
      ]
     },
     "metadata": {},
     "output_type": "display_data"
    },
    {
     "data": {
      "text/html": [
       "<span style=\"color:#7E57C2\"><h2 style=\"font-size:16px\">Hyperparameters:</h2></span>"
      ],
      "text/plain": [
       "<IPython.core.display.HTML object>"
      ]
     },
     "metadata": {},
     "output_type": "display_data"
    },
    {
     "data": {
      "text/html": [
       "<span style=\"color:cyan\"> |-learning_rate: 0.001</span>"
      ],
      "text/plain": [
       "<IPython.core.display.HTML object>"
      ]
     },
     "metadata": {},
     "output_type": "display_data"
    },
    {
     "data": {
      "text/html": [
       "<span style=\"color:blue\"> |-num_layers: 6</span>"
      ],
      "text/plain": [
       "<IPython.core.display.HTML object>"
      ]
     },
     "metadata": {},
     "output_type": "display_data"
    },
    {
     "data": {
      "text/html": [
       "<span style=\"color:cyan\"> |-units_0: 320</span>"
      ],
      "text/plain": [
       "<IPython.core.display.HTML object>"
      ]
     },
     "metadata": {},
     "output_type": "display_data"
    },
    {
     "data": {
      "text/html": [
       "<span style=\"color:blue\"> |-units_1: 96</span>"
      ],
      "text/plain": [
       "<IPython.core.display.HTML object>"
      ]
     },
     "metadata": {},
     "output_type": "display_data"
    },
    {
     "data": {
      "text/html": [
       "<span style=\"color:cyan\"> |-units_10: 352</span>"
      ],
      "text/plain": [
       "<IPython.core.display.HTML object>"
      ]
     },
     "metadata": {},
     "output_type": "display_data"
    },
    {
     "data": {
      "text/html": [
       "<span style=\"color:blue\"> |-units_11: 448</span>"
      ],
      "text/plain": [
       "<IPython.core.display.HTML object>"
      ]
     },
     "metadata": {},
     "output_type": "display_data"
    },
    {
     "data": {
      "text/html": [
       "<span style=\"color:cyan\"> |-units_2: 352</span>"
      ],
      "text/plain": [
       "<IPython.core.display.HTML object>"
      ]
     },
     "metadata": {},
     "output_type": "display_data"
    },
    {
     "data": {
      "text/html": [
       "<span style=\"color:blue\"> |-units_3: 96</span>"
      ],
      "text/plain": [
       "<IPython.core.display.HTML object>"
      ]
     },
     "metadata": {},
     "output_type": "display_data"
    },
    {
     "data": {
      "text/html": [
       "<span style=\"color:cyan\"> |-units_4: 288</span>"
      ],
      "text/plain": [
       "<IPython.core.display.HTML object>"
      ]
     },
     "metadata": {},
     "output_type": "display_data"
    },
    {
     "data": {
      "text/html": [
       "<span style=\"color:blue\"> |-units_5: 384</span>"
      ],
      "text/plain": [
       "<IPython.core.display.HTML object>"
      ]
     },
     "metadata": {},
     "output_type": "display_data"
    },
    {
     "data": {
      "text/html": [
       "<span style=\"color:cyan\"> |-units_6: 288</span>"
      ],
      "text/plain": [
       "<IPython.core.display.HTML object>"
      ]
     },
     "metadata": {},
     "output_type": "display_data"
    },
    {
     "data": {
      "text/html": [
       "<span style=\"color:blue\"> |-units_7: 128</span>"
      ],
      "text/plain": [
       "<IPython.core.display.HTML object>"
      ]
     },
     "metadata": {},
     "output_type": "display_data"
    },
    {
     "data": {
      "text/html": [
       "<span style=\"color:cyan\"> |-units_8: 192</span>"
      ],
      "text/plain": [
       "<IPython.core.display.HTML object>"
      ]
     },
     "metadata": {},
     "output_type": "display_data"
    },
    {
     "data": {
      "text/html": [
       "<span style=\"color:blue\"> |-units_9: 448</span>"
      ],
      "text/plain": [
       "<IPython.core.display.HTML object>"
      ]
     },
     "metadata": {},
     "output_type": "display_data"
    }
   ],
   "source": [
    "tuner.results_summary()"
   ]
  },
  {
   "cell_type": "code",
   "execution_count": null,
   "metadata": {},
   "outputs": [],
   "source": []
  },
  {
   "cell_type": "code",
   "execution_count": null,
   "metadata": {},
   "outputs": [],
   "source": []
  }
 ],
 "metadata": {
  "kernelspec": {
   "display_name": "Python 3",
   "language": "python",
   "name": "python3"
  },
  "language_info": {
   "codemirror_mode": {
    "name": "ipython",
    "version": 3
   },
   "file_extension": ".py",
   "mimetype": "text/x-python",
   "name": "python",
   "nbconvert_exporter": "python",
   "pygments_lexer": "ipython3",
   "version": "3.7.6"
  }
 },
 "nbformat": 4,
 "nbformat_minor": 4
}
